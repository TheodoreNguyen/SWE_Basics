{
 "cells": [
  {
   "cell_type": "markdown",
   "metadata": {},
   "source": [
    "## CTCI NOTES - recursion and DP"
   ]
  },
  {
   "cell_type": "markdown",
   "metadata": {},
   "source": [
    "recursion approaches are less space efficient than iterative. ALL recursive algorithms can be done iteratively, but might be substantially moree complex\n",
    "1. bottom-up\n",
    "    - solve problem for simple case (base case). then solve for stuff right\n",
    "        above simple case, building up\n",
    "2. top-down\n",
    "    - divide the problem into N subproblems at each level\n",
    "        - careful for overlap between subproblems - dynamic programming\n",
    "3. half-and-half\n",
    "    - divide the problem in half and do work on both halves. mergeesort, binary search, etc\n",
    "    \n",
    "Dynamic programming just takes any recursive algorithm, finds overlapping subprobleems, and cache those results for future recursive calls. OR, do something iterative, but still cache previous work"
   ]
  },
  {
   "cell_type": "markdown",
   "metadata": {},
   "source": [
    "### fibonacci, again"
   ]
  },
  {
   "cell_type": "code",
   "execution_count": 6,
   "metadata": {},
   "outputs": [
    {
     "data": {
      "text/plain": [
       "(55, 177)"
      ]
     },
     "execution_count": 6,
     "metadata": {},
     "output_type": "execute_result"
    }
   ],
   "source": [
    "#basic, trivial, brute force. O(2^n) time and O(N) space from fcn calls\n",
    "def evoker(n):\n",
    "    counter = [0]\n",
    "    def fibonacci(n):\n",
    "        counter[0] += 1\n",
    "        if n == 0 or n == 1:\n",
    "            return n\n",
    "        else:\n",
    "            return fibonacci(n-1) + fibonacci(n-2)\n",
    "    val = fibonacci(n)\n",
    "    return val, counter[0]\n",
    "evoker(10)"
   ]
  },
  {
   "cell_type": "code",
   "execution_count": 8,
   "metadata": {},
   "outputs": [
    {
     "data": {
      "text/plain": [
       "(55, 19)"
      ]
     },
     "execution_count": 8,
     "metadata": {},
     "output_type": "execute_result"
    }
   ],
   "source": [
    "#memoiziation, top down DP O(N) time and O(N+N) space from fcn call and cache\n",
    "def evoker(n):\n",
    "    counter = [0]\n",
    "    cache = {}\n",
    "    cache[0] = 0\n",
    "    cache[1] = 1\n",
    "    def fibonacci(n):\n",
    "        counter[0] += 1\n",
    "        if n in cache:\n",
    "            return cache[n]\n",
    "        else:\n",
    "            cache[n] = fibonacci(n-1) + fibonacci(n-2)\n",
    "            return cache[n]\n",
    "    val = fibonacci(n)\n",
    "    return val, counter[0]\n",
    "evoker(10)"
   ]
  },
  {
   "cell_type": "code",
   "execution_count": 10,
   "metadata": {},
   "outputs": [
    {
     "data": {
      "text/plain": [
       "(55, 9)"
      ]
     },
     "execution_count": 10,
     "metadata": {},
     "output_type": "execute_result"
    }
   ],
   "source": [
    "#tabularization, bottom up DP O(N) space, O(N) time\n",
    "def evoker(n):\n",
    "    cache = {}\n",
    "    cache[0] = 0\n",
    "    cache[1] = 1\n",
    "    i = 2\n",
    "    counts = 0\n",
    "    while i != n+1:\n",
    "        counts += 1\n",
    "        cache[i] = cache[i-1] + cache[i-2]\n",
    "        i += 1\n",
    "    return cache[n], counts\n",
    "evoker(10)"
   ]
  },
  {
   "cell_type": "code",
   "execution_count": 14,
   "metadata": {},
   "outputs": [
    {
     "data": {
      "text/plain": [
       "(55, 9)"
      ]
     },
     "execution_count": 14,
     "metadata": {},
     "output_type": "execute_result"
    }
   ],
   "source": [
    "#tabularization with minimized space complexity O(1), O(N) time strill\n",
    "def evoker(n):\n",
    "    counts = 0\n",
    "    val_iminus2 = 0\n",
    "    val_iminus1 = 1\n",
    "    i = 1\n",
    "    while i != n:\n",
    "        counts += 1\n",
    "        val = val_iminus1 + val_iminus2\n",
    "        val_iminus2 = val_iminus1\n",
    "        val_iminus1 = val\n",
    "        i += 1\n",
    "    \n",
    "    return val, counts\n",
    "evoker(10)"
   ]
  },
  {
   "cell_type": "markdown",
   "metadata": {},
   "source": [
    "## CTCI Problems"
   ]
  },
  {
   "cell_type": "markdown",
   "metadata": {},
   "source": [
    "8.1 Triple Step: A child is running up a staircase with n steps and can hop either 1 step, 2 steps, or 3\n",
    "steps at a time. Implement a method to count how many possible ways the child can run up the\n",
    "stairs.\n",
    "Hints: # 152, # 178, #217, #237, #262, #359"
   ]
  },
  {
   "cell_type": "markdown",
   "metadata": {},
   "source": [
    "### Its critical to notice the way that I NOTICED HOW IT WAS GOING TO BE RECURSIVE RV RV RV\n",
    "- basically, a combination/permutation problem with k choices leads to K branches in recursion. I had three choices to get my combinations - go down one, two, or three steps. the soln to K choices is the solution to K-after-ahoice-is-done- choices."
   ]
  },
  {
   "cell_type": "markdown",
   "metadata": {},
   "source": [
    "### Also, it might help alot to look at the SIMPLEST case first and see how it works with less sizes, given the same choices"
   ]
  },
  {
   "cell_type": "code",
   "execution_count": 28,
   "metadata": {},
   "outputs": [
    {
     "data": {
      "text/plain": [
       "(311, 157)"
      ]
     },
     "execution_count": 28,
     "metadata": {},
     "output_type": "execute_result"
    }
   ],
   "source": [
    "#trivial case no DP\n",
    "def evoker(N):\n",
    "    count = [0]\n",
    "    def tsevoker(N):\n",
    "        count[0] += 1\n",
    "        if N == 0:\n",
    "            return 0  # EMPTY SET\n",
    "        if N == 1:\n",
    "            return 1  # 1\n",
    "        if N == 2:\n",
    "            return 3  # 2 | 11\n",
    "        if N == 3:\n",
    "            return 4  #3 | 111 | 1 2| 2 1| \n",
    "\n",
    "        counter = 0\n",
    "        counter += tsevoker(N-3)\n",
    "        counter += tsevoker(N-2)\n",
    "        counter += tsevoker(N-1)\n",
    "\n",
    "        return counter\n",
    "    num = tsevoker(N)\n",
    "    \n",
    "    return num, count[0]\n",
    "    \n",
    "evoker(10)"
   ]
  },
  {
   "cell_type": "code",
   "execution_count": 30,
   "metadata": {},
   "outputs": [
    {
     "data": {
      "text/plain": [
       "(311, 22)"
      ]
     },
     "execution_count": 30,
     "metadata": {},
     "output_type": "execute_result"
    }
   ],
   "source": [
    "#with memoiation\n",
    "def evoker(N):\n",
    "    count = [0]\n",
    "    cache = {}\n",
    "    cache[0] = 0\n",
    "    cache[1] = 1\n",
    "    cache[2] = 3\n",
    "    cache[3] = 4\n",
    "    def tsevoker(N):\n",
    "        count[0] += 1\n",
    "        if N in cache:\n",
    "            return cache[N]\n",
    "        else:\n",
    "            counter = 0\n",
    "            counter += tsevoker(N-3)\n",
    "            counter += tsevoker(N-2)\n",
    "            counter += tsevoker(N-1)\n",
    "            cache[N] = counter\n",
    "\n",
    "            return cache[N]\n",
    "\n",
    "    num = tsevoker(N)\n",
    "    \n",
    "    return num, count[0]\n",
    "evoker(10)"
   ]
  },
  {
   "cell_type": "code",
   "execution_count": 35,
   "metadata": {},
   "outputs": [
    {
     "data": {
      "text/plain": [
       "(311, 8)"
      ]
     },
     "execution_count": 35,
     "metadata": {},
     "output_type": "execute_result"
    }
   ],
   "source": [
    "#tabulation with hash table\n",
    "def evoker(N):\n",
    "    count = 0\n",
    "    cache = {}\n",
    "    cache[0] = 0\n",
    "    cache[1] = 1\n",
    "    cache[2] = 3\n",
    "    cache[3] = 4\n",
    "    i = 3\n",
    "    while i != N+1:\n",
    "        count += 1\n",
    "        val = cache[i-1] + cache[i-2] + cache[i-3]\n",
    "        cache[i] = val\n",
    "        i += 1\n",
    "        \n",
    "    return val, count\n",
    "evoker(10)"
   ]
  },
  {
   "cell_type": "code",
   "execution_count": 53,
   "metadata": {},
   "outputs": [
    {
     "data": {
      "text/plain": [
       "(7996758635, 35)"
      ]
     },
     "execution_count": 53,
     "metadata": {},
     "output_type": "execute_result"
    }
   ],
   "source": [
    "#tabulation without hash table\n",
    "def evoker(N):\n",
    "    if N == 0:\n",
    "        return 0  # EMPTY SET\n",
    "    if N == 1:\n",
    "        return 1  # 1\n",
    "    if N == 2:\n",
    "        return 3  # 2 | 11\n",
    "    if N == 3:\n",
    "        return 4  #3 | 111 | 1 2| 2 1| \n",
    "    counter = 0\n",
    "    i = 4\n",
    "    minus1 = 4\n",
    "    minus2 = 3\n",
    "    minus3 = 1\n",
    "    while i != N+1:\n",
    "        counter += 1\n",
    "        val = minus1 + minus2 + minus3\n",
    "        minus3 = minus2\n",
    "        minus2 = minus1\n",
    "        minus1 = val\n",
    "        i += 1\n",
    "        \n",
    "    return val, counter\n",
    "evoker(38)"
   ]
  },
  {
   "cell_type": "markdown",
   "metadata": {},
   "source": [
    "8.2 Robot in a Grid: Imagine a robot sitting on the upper left corner of grid with r rows and c columns.\n",
    "The robot can only move in two directions, right and down, but certain cells are \"off limits\" such that\n",
    "the robot cannot step on them. Design an algorithm to find a path for the robot from the top left to\n",
    "the bottom right.\n",
    "Hints: #331, #360, #388"
   ]
  },
  {
   "cell_type": "code",
   "execution_count": 56,
   "metadata": {},
   "outputs": [
    {
     "data": {
      "text/plain": [
       "['dude', 'dude']"
      ]
     },
     "execution_count": 56,
     "metadata": {},
     "output_type": "execute_result"
    }
   ],
   "source": [
    "def fcn():\n",
    "    sting = []\n",
    "    def fcn2():\n",
    "        sting.append('dude')\n",
    "    fcn2()\n",
    "    fcn2()\n",
    "    return sting\n",
    "fcn()"
   ]
  },
  {
   "cell_type": "code",
   "execution_count": 71,
   "metadata": {},
   "outputs": [
    {
     "data": {
      "text/plain": [
       "5"
      ]
     },
     "execution_count": 71,
     "metadata": {},
     "output_type": "execute_result"
    }
   ],
   "source": [
    "import random\n",
    "random.randint(0, 5)\n"
   ]
  },
  {
   "cell_type": "code",
   "execution_count": 84,
   "metadata": {},
   "outputs": [],
   "source": [
    "# RETURNNNNNNNNNNN RV"
   ]
  },
  {
   "cell_type": "code",
   "execution_count": 184,
   "metadata": {
    "scrolled": true
   },
   "outputs": [
    {
     "data": {
      "text/plain": [
       "['ddddrrrr',\n",
       " 'dddrdrrr',\n",
       " 'dddrrdrr',\n",
       " 'dddrrrdr',\n",
       " 'dddrrrrd',\n",
       " 'ddrddrrr',\n",
       " 'ddrdrdrr',\n",
       " 'ddrdrrdr',\n",
       " 'ddrdrrrd',\n",
       " 'ddrrddrr',\n",
       " 'ddrrdrdr',\n",
       " 'ddrrdrrd',\n",
       " 'ddrrrddr',\n",
       " 'ddrrrdrd',\n",
       " 'ddrrrrdd',\n",
       " 'drdddrrr',\n",
       " 'drddrdrr',\n",
       " 'drddrrdr',\n",
       " 'drddrrrd',\n",
       " 'drdrddrr',\n",
       " 'drdrdrdr',\n",
       " 'drdrdrrd',\n",
       " 'drdrrddr',\n",
       " 'drdrrdrd',\n",
       " 'drdrrrdd',\n",
       " 'drrdddrr',\n",
       " 'drrddrdr',\n",
       " 'drrddrrd',\n",
       " 'drrdrddr',\n",
       " 'drrdrdrd',\n",
       " 'drrdrrdd',\n",
       " 'drrrdddr',\n",
       " 'drrrddrd',\n",
       " 'drrrdrdd',\n",
       " 'drrrrddd',\n",
       " 'rddddrrr',\n",
       " 'rdddrdrr',\n",
       " 'rdddrrdr',\n",
       " 'rdddrrrd',\n",
       " 'rddrddrr',\n",
       " 'rddrdrdr',\n",
       " 'rddrdrrd',\n",
       " 'rddrrddr',\n",
       " 'rddrrdrd',\n",
       " 'rddrrrdd',\n",
       " 'rdrdddrr',\n",
       " 'rdrddrdr',\n",
       " 'rdrddrrd',\n",
       " 'rdrdrddr',\n",
       " 'rdrdrdrd',\n",
       " 'rdrdrrdd',\n",
       " 'rdrrdddr',\n",
       " 'rdrrddrd',\n",
       " 'rdrrdrdd',\n",
       " 'rdrrrddd',\n",
       " 'rrddddrr',\n",
       " 'rrdddrdr',\n",
       " 'rrdddrrd',\n",
       " 'rrddrddr',\n",
       " 'rrddrdrd',\n",
       " 'rrddrrdd',\n",
       " 'rrdrdddr',\n",
       " 'rrdrddrd',\n",
       " 'rrdrdrdd',\n",
       " 'rrdrrddd',\n",
       " 'rrrddddr',\n",
       " 'rrrdddrd',\n",
       " 'rrrddrdd',\n",
       " 'rrrdrddd',\n",
       " 'rrrrdddd']"
      ]
     },
     "execution_count": 184,
     "metadata": {},
     "output_type": "execute_result"
    }
   ],
   "source": [
    "# let blocked be a set of tuples (r,c) indiciating which cells are blocked\n",
    "import random\n",
    "def evoker(R, C, blocked): \n",
    "    paths = []\n",
    "    def path(R, C, currentpath):\n",
    "        if R < 0 or C < 0:\n",
    "            return\n",
    "        if R <= 0 and C <= 0:\n",
    "            paths.append(currentpath)\n",
    "            return\n",
    "        '''\n",
    "        if r == 0 and ((r, c-1) in blocked):\n",
    "            return\n",
    "        else:\n",
    "            path(r, c-1, (currentpath +'c'))\n",
    "            return\n",
    "            \n",
    "        if c == 0 and ((r-1, c)) in blocked:\n",
    "            return\n",
    "        else:\n",
    "            path(r-1, c, (currentpath +'r'))\n",
    "            return\n",
    "        '''\n",
    "        \n",
    "        #if r != 0 and c != 0:\n",
    "        if (R-1, C) not in blocked:\n",
    "            path(R-1, C, (currentpath +'d'))\n",
    "        if (R, C-1) not in blocked:\n",
    "            path(R,C-1, (currentpath +'r'))\n",
    "        return\n",
    "    \n",
    "    path(R, C, '')\n",
    "    #i = random.randint(0,len(paths)-1)\n",
    "    return paths\n",
    "\n",
    "evoker(4, 4, set())"
   ]
  },
  {
   "cell_type": "markdown",
   "metadata": {},
   "source": [
    "8.3 Magic Index: A magic index in an array A [e ... n -1] is defined to be an index such that A[ i] =\n",
    "i. Given a sorted array of distinct integers, write a method to find a magic index, if one exists, in\n",
    "array A.\n",
    "FOLLOW UP\n",
    "What if the values are not distinct?\n",
    "Hints: # 170, #204, #240, #286, #340"
   ]
  },
  {
   "cell_type": "code",
   "execution_count": 86,
   "metadata": {},
   "outputs": [],
   "source": [
    "# brute force iterate through O(N) time\n",
    "def magic_index(A):\n",
    "    i = 0\n",
    "    magic_indices = []\n",
    "    while i != len(A):\n",
    "        if A[i] == i:\n",
    "            magic_indices.append(i)\n",
    "        i += 1\n",
    "    return magic_indices"
   ]
  },
  {
   "cell_type": "code",
   "execution_count": 90,
   "metadata": {},
   "outputs": [
    {
     "data": {
      "text/plain": [
       "-1"
      ]
     },
     "execution_count": 90,
     "metadata": {},
     "output_type": "execute_result"
    }
   ],
   "source": [
    "'''\n",
    "[0, 1, 2, 3, 4, 5]\n",
    "\n",
    "[-1, -2, -3, 2, 3, 4, 5, 7]\n",
    "\n",
    "[-9999, 1, 5,6, 7, 9, 10]\n",
    "\n",
    "[0,5,5,5,5,5,5]\n",
    "'''\n",
    "\n",
    "#distinct\n",
    "def magic_index_bs(A):\n",
    "    L = 0\n",
    "    H = len(A) - 1\n",
    "    while L < H:\n",
    "        M = int((L + H) /2)\n",
    "        if M == A[M]:\n",
    "            return M\n",
    "        elif M < A[M]:\n",
    "            H = M - 1\n",
    "        else: #M > A[M]\n",
    "            L = M + 1\n",
    "            \n",
    "    return -1\n",
    "magic_index_bs([0,5,5,5,5,5,5])"
   ]
  },
  {
   "cell_type": "code",
   "execution_count": 96,
   "metadata": {},
   "outputs": [
    {
     "data": {
      "text/plain": [
       "0"
      ]
     },
     "execution_count": 96,
     "metadata": {},
     "output_type": "execute_result"
    }
   ],
   "source": [
    "#book??????????????? how is this any different from linear search speed?\n",
    "def magicFast(A, L, H):\n",
    "    if H < L:\n",
    "        return -1\n",
    "    \n",
    "    M = int((L + H) / 2)\n",
    "    if M == A[M]:\n",
    "        return M\n",
    "    \n",
    "    left = magicFast(A, L, M-1)\n",
    "    right = magicFast(A, M+1, H)\n",
    "    if A[left] != -1:\n",
    "        if A[left] == left:\n",
    "            return left\n",
    "    if A[right] != -1:\n",
    "        if A[right] == right:\n",
    "            return right \n",
    "    \n",
    "    return -1\n",
    "magicFast([0,5,5,5,5,5,5], 0, len([0,5,5,5,5,5,5])-1)"
   ]
  },
  {
   "cell_type": "markdown",
   "metadata": {},
   "source": [
    "## 8.4 Power Set: Write a method to return all subsets of a set.\n",
    "\n",
    "Hints: #273, #290, #338, #354, #373\n",
    "p~ !40\n"
   ]
  },
  {
   "cell_type": "markdown",
   "metadata": {},
   "source": [
    "# RV - TUPLES ARE GOOD TO ADD TO SETS. (NOTE THIS IS COMBINATIONS ONLY, NO PERMUTATIONS)"
   ]
  },
  {
   "cell_type": "code",
   "execution_count": 100,
   "metadata": {},
   "outputs": [
    {
     "data": {
      "text/plain": [
       "[1, 2, 4, 5]"
      ]
     },
     "execution_count": 100,
     "metadata": {},
     "output_type": "execute_result"
    }
   ],
   "source": [
    "a = [1, 2, 3, 4, 5]\n",
    "a[:2] + a[2+1:]"
   ]
  },
  {
   "cell_type": "code",
   "execution_count": 104,
   "metadata": {},
   "outputs": [],
   "source": [
    "t = tuple([1, 2, 3, 4, 5])"
   ]
  },
  {
   "cell_type": "code",
   "execution_count": 105,
   "metadata": {},
   "outputs": [
    {
     "data": {
      "text/plain": [
       "(1, 2, 4, 5)"
      ]
     },
     "execution_count": 105,
     "metadata": {},
     "output_type": "execute_result"
    }
   ],
   "source": [
    "t[:2] + t[2+1:]"
   ]
  },
  {
   "cell_type": "code",
   "execution_count": 106,
   "metadata": {},
   "outputs": [
    {
     "data": {
      "text/plain": [
       "5"
      ]
     },
     "execution_count": 106,
     "metadata": {},
     "output_type": "execute_result"
    }
   ],
   "source": [
    "len(t)"
   ]
  },
  {
   "cell_type": "code",
   "execution_count": 108,
   "metadata": {},
   "outputs": [
    {
     "data": {
      "text/plain": [
       "(1, 2, 3, 4)"
      ]
     },
     "execution_count": 108,
     "metadata": {},
     "output_type": "execute_result"
    }
   ],
   "source": [
    "t[:4]+t[4+1:]"
   ]
  },
  {
   "cell_type": "code",
   "execution_count": 127,
   "metadata": {
    "scrolled": true
   },
   "outputs": [
    {
     "data": {
      "text/plain": [
       "(32,\n",
       " 31,\n",
       " {(),\n",
       "  (1,),\n",
       "  (1, 2),\n",
       "  (1, 2, 3),\n",
       "  (1, 2, 3, 4),\n",
       "  (1, 2, 3, 4, 5),\n",
       "  (1, 2, 3, 5),\n",
       "  (1, 2, 4),\n",
       "  (1, 2, 4, 5),\n",
       "  (1, 2, 5),\n",
       "  (1, 3),\n",
       "  (1, 3, 4),\n",
       "  (1, 3, 4, 5),\n",
       "  (1, 3, 5),\n",
       "  (1, 4),\n",
       "  (1, 4, 5),\n",
       "  (1, 5),\n",
       "  (2,),\n",
       "  (2, 3),\n",
       "  (2, 3, 4),\n",
       "  (2, 3, 4, 5),\n",
       "  (2, 3, 5),\n",
       "  (2, 4),\n",
       "  (2, 4, 5),\n",
       "  (2, 5),\n",
       "  (3,),\n",
       "  (3, 4),\n",
       "  (3, 4, 5),\n",
       "  (3, 5),\n",
       "  (4,),\n",
       "  (4, 5),\n",
       "  (5,)})"
      ]
     },
     "execution_count": 127,
     "metadata": {},
     "output_type": "execute_result"
    }
   ],
   "source": [
    "#this already uses memoization - the whole point is to create a power set\n",
    "# and a power set isnt a power set if it has duplicates. \n",
    "def power_set(S):\n",
    "    counter = [0]\n",
    "    t = tuple(S) #O(N)\n",
    "    result = set()\n",
    "    result.add(t)\n",
    "    def power_set_evoker(t):\n",
    "        counter[0] += 1\n",
    "        result.add(t)\n",
    "        i = 0\n",
    "        while i != len(t):\n",
    "            local = t[0:i] + t[i+1:]\n",
    "            if local not in result:\n",
    "                power_set_evoker(local)\n",
    "            i += 1\n",
    "            \n",
    "    i = 0\n",
    "    while i != len(t):\n",
    "        power_set_evoker(t[0:i] + t[i+1:])\n",
    "        i += 1\n",
    "        \n",
    "    return len(result), counter[0], result\n",
    "power_set([1, 2, 3, 4, 5])"
   ]
  },
  {
   "cell_type": "code",
   "execution_count": 126,
   "metadata": {},
   "outputs": [
    {
     "data": {
      "text/plain": [
       "32"
      ]
     },
     "execution_count": 126,
     "metadata": {},
     "output_type": "execute_result"
    }
   ],
   "source": [
    "2 * 2 * 2 * 2 * 2"
   ]
  },
  {
   "cell_type": "code",
   "execution_count": 123,
   "metadata": {},
   "outputs": [
    {
     "data": {
      "text/plain": [
       "(326,\n",
       " 325,\n",
       " [[1, 2, 3, 4, 5],\n",
       "  [2, 3, 4, 5],\n",
       "  [3, 4, 5],\n",
       "  [4, 5],\n",
       "  [5],\n",
       "  [],\n",
       "  [4],\n",
       "  [],\n",
       "  [3, 5],\n",
       "  [5],\n",
       "  [],\n",
       "  [3],\n",
       "  [],\n",
       "  [3, 4],\n",
       "  [4],\n",
       "  [],\n",
       "  [3],\n",
       "  [],\n",
       "  [2, 4, 5],\n",
       "  [4, 5],\n",
       "  [5],\n",
       "  [],\n",
       "  [4],\n",
       "  [],\n",
       "  [2, 5],\n",
       "  [5],\n",
       "  [],\n",
       "  [2],\n",
       "  [],\n",
       "  [2, 4],\n",
       "  [4],\n",
       "  [],\n",
       "  [2],\n",
       "  [],\n",
       "  [2, 3, 5],\n",
       "  [3, 5],\n",
       "  [5],\n",
       "  [],\n",
       "  [3],\n",
       "  [],\n",
       "  [2, 5],\n",
       "  [5],\n",
       "  [],\n",
       "  [2],\n",
       "  [],\n",
       "  [2, 3],\n",
       "  [3],\n",
       "  [],\n",
       "  [2],\n",
       "  [],\n",
       "  [2, 3, 4],\n",
       "  [3, 4],\n",
       "  [4],\n",
       "  [],\n",
       "  [3],\n",
       "  [],\n",
       "  [2, 4],\n",
       "  [4],\n",
       "  [],\n",
       "  [2],\n",
       "  [],\n",
       "  [2, 3],\n",
       "  [3],\n",
       "  [],\n",
       "  [2],\n",
       "  [],\n",
       "  [1, 3, 4, 5],\n",
       "  [3, 4, 5],\n",
       "  [4, 5],\n",
       "  [5],\n",
       "  [],\n",
       "  [4],\n",
       "  [],\n",
       "  [3, 5],\n",
       "  [5],\n",
       "  [],\n",
       "  [3],\n",
       "  [],\n",
       "  [3, 4],\n",
       "  [4],\n",
       "  [],\n",
       "  [3],\n",
       "  [],\n",
       "  [1, 4, 5],\n",
       "  [4, 5],\n",
       "  [5],\n",
       "  [],\n",
       "  [4],\n",
       "  [],\n",
       "  [1, 5],\n",
       "  [5],\n",
       "  [],\n",
       "  [1],\n",
       "  [],\n",
       "  [1, 4],\n",
       "  [4],\n",
       "  [],\n",
       "  [1],\n",
       "  [],\n",
       "  [1, 3, 5],\n",
       "  [3, 5],\n",
       "  [5],\n",
       "  [],\n",
       "  [3],\n",
       "  [],\n",
       "  [1, 5],\n",
       "  [5],\n",
       "  [],\n",
       "  [1],\n",
       "  [],\n",
       "  [1, 3],\n",
       "  [3],\n",
       "  [],\n",
       "  [1],\n",
       "  [],\n",
       "  [1, 3, 4],\n",
       "  [3, 4],\n",
       "  [4],\n",
       "  [],\n",
       "  [3],\n",
       "  [],\n",
       "  [1, 4],\n",
       "  [4],\n",
       "  [],\n",
       "  [1],\n",
       "  [],\n",
       "  [1, 3],\n",
       "  [3],\n",
       "  [],\n",
       "  [1],\n",
       "  [],\n",
       "  [1, 2, 4, 5],\n",
       "  [2, 4, 5],\n",
       "  [4, 5],\n",
       "  [5],\n",
       "  [],\n",
       "  [4],\n",
       "  [],\n",
       "  [2, 5],\n",
       "  [5],\n",
       "  [],\n",
       "  [2],\n",
       "  [],\n",
       "  [2, 4],\n",
       "  [4],\n",
       "  [],\n",
       "  [2],\n",
       "  [],\n",
       "  [1, 4, 5],\n",
       "  [4, 5],\n",
       "  [5],\n",
       "  [],\n",
       "  [4],\n",
       "  [],\n",
       "  [1, 5],\n",
       "  [5],\n",
       "  [],\n",
       "  [1],\n",
       "  [],\n",
       "  [1, 4],\n",
       "  [4],\n",
       "  [],\n",
       "  [1],\n",
       "  [],\n",
       "  [1, 2, 5],\n",
       "  [2, 5],\n",
       "  [5],\n",
       "  [],\n",
       "  [2],\n",
       "  [],\n",
       "  [1, 5],\n",
       "  [5],\n",
       "  [],\n",
       "  [1],\n",
       "  [],\n",
       "  [1, 2],\n",
       "  [2],\n",
       "  [],\n",
       "  [1],\n",
       "  [],\n",
       "  [1, 2, 4],\n",
       "  [2, 4],\n",
       "  [4],\n",
       "  [],\n",
       "  [2],\n",
       "  [],\n",
       "  [1, 4],\n",
       "  [4],\n",
       "  [],\n",
       "  [1],\n",
       "  [],\n",
       "  [1, 2],\n",
       "  [2],\n",
       "  [],\n",
       "  [1],\n",
       "  [],\n",
       "  [1, 2, 3, 5],\n",
       "  [2, 3, 5],\n",
       "  [3, 5],\n",
       "  [5],\n",
       "  [],\n",
       "  [3],\n",
       "  [],\n",
       "  [2, 5],\n",
       "  [5],\n",
       "  [],\n",
       "  [2],\n",
       "  [],\n",
       "  [2, 3],\n",
       "  [3],\n",
       "  [],\n",
       "  [2],\n",
       "  [],\n",
       "  [1, 3, 5],\n",
       "  [3, 5],\n",
       "  [5],\n",
       "  [],\n",
       "  [3],\n",
       "  [],\n",
       "  [1, 5],\n",
       "  [5],\n",
       "  [],\n",
       "  [1],\n",
       "  [],\n",
       "  [1, 3],\n",
       "  [3],\n",
       "  [],\n",
       "  [1],\n",
       "  [],\n",
       "  [1, 2, 5],\n",
       "  [2, 5],\n",
       "  [5],\n",
       "  [],\n",
       "  [2],\n",
       "  [],\n",
       "  [1, 5],\n",
       "  [5],\n",
       "  [],\n",
       "  [1],\n",
       "  [],\n",
       "  [1, 2],\n",
       "  [2],\n",
       "  [],\n",
       "  [1],\n",
       "  [],\n",
       "  [1, 2, 3],\n",
       "  [2, 3],\n",
       "  [3],\n",
       "  [],\n",
       "  [2],\n",
       "  [],\n",
       "  [1, 3],\n",
       "  [3],\n",
       "  [],\n",
       "  [1],\n",
       "  [],\n",
       "  [1, 2],\n",
       "  [2],\n",
       "  [],\n",
       "  [1],\n",
       "  [],\n",
       "  [1, 2, 3, 4],\n",
       "  [2, 3, 4],\n",
       "  [3, 4],\n",
       "  [4],\n",
       "  [],\n",
       "  [3],\n",
       "  [],\n",
       "  [2, 4],\n",
       "  [4],\n",
       "  [],\n",
       "  [2],\n",
       "  [],\n",
       "  [2, 3],\n",
       "  [3],\n",
       "  [],\n",
       "  [2],\n",
       "  [],\n",
       "  [1, 3, 4],\n",
       "  [3, 4],\n",
       "  [4],\n",
       "  [],\n",
       "  [3],\n",
       "  [],\n",
       "  [1, 4],\n",
       "  [4],\n",
       "  [],\n",
       "  [1],\n",
       "  [],\n",
       "  [1, 3],\n",
       "  [3],\n",
       "  [],\n",
       "  [1],\n",
       "  [],\n",
       "  [1, 2, 4],\n",
       "  [2, 4],\n",
       "  [4],\n",
       "  [],\n",
       "  [2],\n",
       "  [],\n",
       "  [1, 4],\n",
       "  [4],\n",
       "  [],\n",
       "  [1],\n",
       "  [],\n",
       "  [1, 2],\n",
       "  [2],\n",
       "  [],\n",
       "  [1],\n",
       "  [],\n",
       "  [1, 2, 3],\n",
       "  [2, 3],\n",
       "  [3],\n",
       "  [],\n",
       "  [2],\n",
       "  [],\n",
       "  [1, 3],\n",
       "  [3],\n",
       "  [],\n",
       "  [1],\n",
       "  [],\n",
       "  [1, 2],\n",
       "  [2],\n",
       "  [],\n",
       "  [1],\n",
       "  []])"
      ]
     },
     "execution_count": 123,
     "metadata": {},
     "output_type": "execute_result"
    }
   ],
   "source": [
    "# power set without 'memoization' result contains dups.\n",
    "def power_set(S):\n",
    "    counter =[0]\n",
    "    result = []\n",
    "    result.append(S)\n",
    "    t = S\n",
    "    def power_set_evoker(t):\n",
    "        counter[0] += 1\n",
    "        result.append(t)\n",
    "        i = 0\n",
    "        while i != len(t):\n",
    "            local = t[0:i] + t[i+1:]\n",
    "            power_set_evoker(local)\n",
    "\n",
    "            i += 1\n",
    "            \n",
    "    i = 0\n",
    "    while i != len(t):\n",
    "        power_set_evoker(t[0:i] + t[i+1:])\n",
    "        i += 1\n",
    "        \n",
    "    return len(result), counter[0], result\n",
    "power_set([1, 2, 3, 4, 5])"
   ]
  },
  {
   "cell_type": "code",
   "execution_count": 117,
   "metadata": {},
   "outputs": [],
   "source": [
    "#book solution - come back here later. its kinda weir with bit vectors\n",
    "# although ive seen alot of bit vector solns before in EPI etc."
   ]
  },
  {
   "cell_type": "markdown",
   "metadata": {},
   "source": [
    "\n",
    "## 8.5 Recursive Multiply:\n",
    "Write a recursive function to multiply two positive integers without using the multiplication * operator or / operator. You can use addition, subtraction, and bit shifting, but you should minimize the number\n",
    "of those operations.\n",
    "Hints: # 166, #203, #227, #234, #246, #280\n",
    "('"
   ]
  },
  {
   "cell_type": "code",
   "execution_count": 137,
   "metadata": {},
   "outputs": [
    {
     "data": {
      "text/plain": [
       "-10"
      ]
     },
     "execution_count": 137,
     "metadata": {},
     "output_type": "execute_result"
    }
   ],
   "source": [
    "#complexity is O(A) or O(B). brute force....\n",
    "def multiply(a, b):\n",
    "    neg = False\n",
    "    if a < 0 and b < 0:\n",
    "        neg = False\n",
    "    elif a >= 0 and b >= 0:\n",
    "        neg = False\n",
    "    else:\n",
    "        neg = True\n",
    "    a = abs(a)\n",
    "    b = abs(b)\n",
    "    res = 0\n",
    "    Min = min(a,b)\n",
    "    Max = max(a,b)\n",
    "    for i in range(Min):\n",
    "        res += Max\n",
    "        \n",
    "    if neg:\n",
    "        return ~res + 1\n",
    "    else:\n",
    "        return res\n",
    "multiply(-1, 10)"
   ]
  },
  {
   "cell_type": "code",
   "execution_count": null,
   "metadata": {},
   "outputs": [],
   "source": [
    "#if \n",
    "\n",
    "#INCOMPLETE.\n",
    "\n",
    "#tried to do stuff with bitwise divide by 2,but to no avail\n",
    "def multiply(a, b):\n",
    "    if a < 0 and b > 0:\n",
    "        neg = True\n",
    "        a = ~a + 1\n",
    "    if a > 0 and b < 0:\n",
    "        neg = True\n",
    "        b = ~b + 1\n",
    "    if a >= 0 and b >= 0:\n",
    "        neg = False\n",
    "    if a < 0 and b < 0:\n",
    "        neg = False\n",
    "        a = ~a + 1\n",
    "        b = ~b + 1\n",
    "    \n",
    "    if a > b:\n",
    "        Max = a\n",
    "        Min = b\n",
    "    else:\n",
    "        Max = b\n",
    "        Min = a\n",
    "    counter = 0\n",
    "    while \n",
    "    "
   ]
  },
  {
   "cell_type": "code",
   "execution_count": 140,
   "metadata": {},
   "outputs": [
    {
     "data": {
      "text/plain": [
       "100"
      ]
     },
     "execution_count": 140,
     "metadata": {},
     "output_type": "execute_result"
    }
   ],
   "source": [
    "#BOOK SOLN. NO COMPRENDo...\n",
    "\n",
    "def minProduct(a, b):\n",
    "    if a > b:\n",
    "        bigger = a\n",
    "        smaller = b\n",
    "    else:\n",
    "        bigger = b\n",
    "        smaller = a\n",
    "    return minProductHelper(smaller, bigger)\n",
    "\n",
    "def minProductHelper(smaller, bigger):\n",
    "    if smaller == 0:\n",
    "        return 0\n",
    "    elif smaller == 1:\n",
    "        return bigger\n",
    "    \n",
    "    s = smaller >> 1\n",
    "    side1 = minProduct(s, bigger)\n",
    "    side2 = side1\n",
    "    if smaller % 2 == 1:\n",
    "        side2 = minProductHelper(smaller - s, bigger)\n",
    "    \n",
    "    return side1 + side2\n",
    "\n",
    "minProduct(10, 10)"
   ]
  },
  {
   "cell_type": "markdown",
   "metadata": {},
   "source": [
    "## 8.6 Towers of Hanoi: \n",
    "In the classic problem of the Towers of Hanoi, you have 3 towers and N disks of\n",
    "different sizes which can slide onto any tower. The puzzle starts with disks sorted in ascending order\n",
    "of size from top to bottom (Le., each disk sits on top of an even larger one). You have the following\n",
    "constraints:\n",
    "(1) Only one disk can be moved at a time.\n",
    "(2) A disk is slid off the top of one tower onto another tower.\n",
    "(3) A disk cannot be placed on top of a smaller disk.\n",
    "Write a program to move the disks from the first tower to the last using stacks.\n",
    "Hints: # 144, #224, #250, #272, #318"
   ]
  },
  {
   "cell_type": "code",
   "execution_count": null,
   "metadata": {},
   "outputs": [],
   "source": [
    "#my attempt at book solution =(\n",
    "def towers_of_hanoi(stack1, stack2, stack3):\n",
    "    \n",
    "    def evoker(stack1, stack2, stack3):\n",
    "        if len(stack1) == 0:\n",
    "            return stack3\n",
    "        elif len(stack1) == 1:\n",
    "            stack3.append(stack1.pop())\n",
    "            return stack3\n",
    "        elif len(stack1) == 2:\n",
    "            stack2.append(stack1.pop())\n",
    "            stack3.append(stack1.pop())\n",
    "            stack3.append(stack2.pop())\n",
    "            return stack3\n",
    "        \n",
    "        evoker(stack[len(stack1)-4])"
   ]
  },
  {
   "cell_type": "code",
   "execution_count": 149,
   "metadata": {},
   "outputs": [
    {
     "name": "stdout",
     "output_type": "stream",
     "text": [
      "this is stack 1, 2, 3 at beginning: [5, 4, 3, 2, 1][][]\n",
      "this is stack 1, 2, 3 end beginning: [][][5, 4, 3, 2, 1]\n",
      "[]\n",
      "[]\n",
      "[5, 4, 3, 2, 1]\n"
     ]
    }
   ],
   "source": [
    "#book psuedocode translated\n",
    "\n",
    "#DUDE THIS BOOK IS A GGGGG\n",
    "def hanoi(stack1, stack2, stack3):\n",
    "    N = len(stack1)\n",
    "\n",
    "    print('this is stack 1, 2, 3 at beginning: ' + str(stack1) + str(stack2) + str(stack3))\n",
    "    \n",
    "    def moveDisks(n, origin, dest, buffer):\n",
    "        if n <= 0:\n",
    "            return\n",
    "\n",
    "        #move top n-1 disks from origin to buffer, using dest as buffer\n",
    "        moveDisks(n - 1, origin, buffer, dest)\n",
    "\n",
    "        #move top from origin to dest\n",
    "        dest.append(origin.pop())\n",
    "\n",
    "        #move top n-1 disks from buffer to dest, using origin as buffer\n",
    "        moveDisks(n - 1, buffer, dest, origin)\n",
    "    \n",
    "    moveDisks(N, stack1, stack3, stack2)\n",
    "    \n",
    "    print('this is stack 1, 2, 3 end beginning: ' + str(stack1) + str(stack2) + str(stack3))\n",
    "\n",
    "    \n",
    "    return stack3\n",
    "\n",
    "stack1 = [5, 4, 3, 2, 1]\n",
    "stack2 = []\n",
    "stack3 = []\n",
    "\n",
    "hanoi(stack1, stack2, stack3)\n",
    "print(stack1)\n",
    "print(stack2)\n",
    "print(stack3)"
   ]
  },
  {
   "cell_type": "code",
   "execution_count": 145,
   "metadata": {},
   "outputs": [],
   "source": [
    "# if you have an odd numbered stack, u want to push to stack3 first if\n",
    "    #u want ur final stack to be on stack3\n",
    "#if u have an even numbered stack, its the other way."
   ]
  },
  {
   "cell_type": "markdown",
   "metadata": {},
   "source": [
    "## 8.7 Permutations without Dups: \n",
    "Write a method to compute all permutations of a string of unique\n",
    "characters.\n",
    "Hints: #150, #185, #200, #267, #278, #309, #335, #356\n",
    "; }"
   ]
  },
  {
   "cell_type": "code",
   "execution_count": 193,
   "metadata": {},
   "outputs": [
    {
     "data": {
      "text/plain": [
       "{('1', '2', '3', '4'),\n",
       " ('1', '2', '4', '3'),\n",
       " ('1', '3', '2', '4'),\n",
       " ('1', '4', '3', '2'),\n",
       " ('2', '1', '3', '4'),\n",
       " ('3', '2', '1', '4'),\n",
       " ('4', '2', '3', '1')}"
      ]
     },
     "execution_count": 193,
     "metadata": {},
     "output_type": "execute_result"
    }
   ],
   "source": [
    "#dpesnt work\n",
    "from copy import copy\n",
    "def permutations(string):\n",
    "    l = list(string)\n",
    "    i = 0\n",
    "    permset = set()\n",
    "    while i != len(l):\n",
    "        j = 0\n",
    "        while j != len(l):\n",
    "            cpy = copy(l)\n",
    "            temp = cpy[i]\n",
    "            cpy[i] = cpy[j]\n",
    "            cpy[j] = temp\n",
    "            permset.add(tuple(cpy))\n",
    "            j += 1\n",
    "        i += 1 \n",
    "    return permset\n",
    "permutations('1234')"
   ]
  },
  {
   "cell_type": "code",
   "execution_count": 206,
   "metadata": {
    "scrolled": true
   },
   "outputs": [
    {
     "data": {
      "text/plain": [
       "[[1, 2, 3], [1, 3, 2], [2, 1, 3], [2, 3, 1], [3, 1, 2], [3, 2, 1]]"
      ]
     },
     "execution_count": 206,
     "metadata": {},
     "output_type": "execute_result"
    }
   ],
   "source": [
    "#was that so hard?\n",
    "def permutation(A):\n",
    "    perms = []\n",
    "    length = len(A)\n",
    "    def evoker(A, current):\n",
    "        if len(A) == 0 and len(current) == length:\n",
    "            perms.append(current)\n",
    "            return\n",
    "        i = 0\n",
    "        while i != len(A):\n",
    "            evoker(A[:i] + A[i+1:], current + [A[i]])\n",
    "            i += 1\n",
    "    evoker(A, [])\n",
    "    return perms\n",
    "permutation([1, 2, 3])"
   ]
  },
  {
   "cell_type": "markdown",
   "metadata": {},
   "source": [
    "8.8 Permutations with Dups: Write a method to compute all permutations of a string whose characters\n",
    "are not necessarily unique. The list of permutations should not have duplicates.\n",
    "Hints: # 161, #190, #222, #255"
   ]
  },
  {
   "cell_type": "code",
   "execution_count": 19,
   "metadata": {},
   "outputs": [
    {
     "data": {
      "text/plain": [
       "False"
      ]
     },
     "execution_count": 19,
     "metadata": {},
     "output_type": "execute_result"
    }
   ],
   "source": [
    "def get_counts(A):\n",
    "    table = {}\n",
    "    for item in A:\n",
    "        if tuple(item) not in table:\n",
    "            table[tuple(item)] = 1\n",
    "        else:\n",
    "            table[tuple(item)] += 1\n",
    "    return table\n",
    "    \n",
    "t = get_counts('aabbeefgcss')\n",
    "any(t.values())\n"
   ]
  },
  {
   "cell_type": "code",
   "execution_count": 8,
   "metadata": {},
   "outputs": [
    {
     "data": {
      "text/plain": [
       "{(1, 2, 3, 3),\n",
       " (1, 3, 2, 3),\n",
       " (1, 3, 3, 2),\n",
       " (2, 1, 3, 3),\n",
       " (2, 3, 1, 3),\n",
       " (2, 3, 3, 1),\n",
       " (3, 1, 2, 3),\n",
       " (3, 1, 3, 2),\n",
       " (3, 2, 1, 3),\n",
       " (3, 2, 3, 1),\n",
       " (3, 3, 1, 2),\n",
       " (3, 3, 2, 1)}"
      ]
     },
     "execution_count": 8,
     "metadata": {},
     "output_type": "execute_result"
    }
   ],
   "source": [
    "#still runs in really slow O(n!) worst case, but average case is more import\n",
    "def permutation_dups(A):\n",
    "    perms = set()\n",
    "    length = len(A)\n",
    "    \n",
    "    def get_counts(A):\n",
    "        table = {}\n",
    "        for item in A:\n",
    "            if tuple(item) not in table:\n",
    "                table[tuple(item)] = 1\n",
    "            else:\n",
    "                table[tuple(item)] += 1\n",
    "        return table\n",
    "    \n",
    "    def evoker(A, current):\n",
    "        if len(A) == 0 and len(current) == length:\n",
    "            perms.add(tuple(current))\n",
    "            return\n",
    "        i = 0\n",
    "        while i != len(A):\n",
    "            evoker(A[:i] + A[i+1:], current + [A[i]])\n",
    "            i += 1\n",
    "    evoker(A, [])\n",
    "    return perms\n",
    "permutation_dups([1, 2, 3, 3])"
   ]
  },
  {
   "cell_type": "markdown",
   "metadata": {},
   "source": [
    "8.9 Parens: Implement an algorithm to print all valid (e.g., properly opened and closed) combinations\n",
    "of n pairs of parentheses.\n",
    "EXAMPLE\n",
    "Input: 3\n",
    "Output: « () ) ) J «) (», «» () J () ( (», () () ()\n",
    "Hints: #138, #174, #187, #209, #243, #265, #295\n",
    "\n",
    "8.10 Paint Fill: Implement the \"paint nil\" function that one might see on many image editing programs.\n",
    "That is, given a screen (represented by a two-dimensional array of colors), a point, and a new color,\n",
    "nil in the surrounding area until the color changes from the original color.\n",
    "Hints: #364, #382\n"
   ]
  },
  {
   "cell_type": "markdown",
   "metadata": {},
   "source": [
    "## 8.11 Coins: \n",
    "Given an innnite number of quarters (25 cents), dimes (10 cents), nickels (5 cents), and\n",
    "pennies (1 cent), write code to calculate the number of ways of representing n cents.\n",
    "Hints: #300, #324, #343, #380, #394"
   ]
  },
  {
   "cell_type": "code",
   "execution_count": 155,
   "metadata": {},
   "outputs": [],
   "source": [
    "def coin_rep(N):\n",
    "    \n",
    "    if N <= 0:\n",
    "        return 0 #no coins\n",
    "    elif N >= 1 and N < 5:\n",
    "        return 1 #N pennies\n",
    "    elif N >= 5 and N < 10:\n",
    "        return 2 # N pennies OR 1 nickel and N - 5 pennies.\n",
    "    elif N >= 10 and N < 15:\n",
    "        return 4 # 1D & N-10P, OR 2N & N-10P, OR 1N & N-5P, OR NP\n",
    "    elif N >= 15 and N < 20:\n",
    "        #1D & 1N & N-15P, 3N & N-15P, 1D & N-10P, 2N & N-10P, 1N & N-5P, NP\n",
    "        return 6\n",
    "    elif N >= 20 and N < 25:\n",
    "#2D & N-20P, 4N & N-20P,1D & 2N & N-20P, 1D & 1N & N-15P, 3N & N-15P, 1D & N-10P, 2N & N-10P, 1N & N-5P, NP\n",
    "        return 9\n",
    "    elif N == 25:\n",
    "        return 10\n",
    "    \n",
    "    counter = 0\n",
    "    counter += coin_rep(N - 25)\n",
    "    counter += coin_rep(N - 10)\n",
    "    counter += coin_rep(N - 5)\n",
    "    counter += coin_rep(N - 1)\n",
    "    \n",
    "    return counter\n"
   ]
  },
  {
   "cell_type": "code",
   "execution_count": 163,
   "metadata": {},
   "outputs": [
    {
     "data": {
      "text/plain": [
       "201148954414"
      ]
     },
     "execution_count": 163,
     "metadata": {},
     "output_type": "execute_result"
    }
   ],
   "source": [
    "#memoize\n",
    "def coin_rep_memo(N):\n",
    "    cache = {}\n",
    "    cache[0] = 0\n",
    "    for i in range(5):\n",
    "        cache[i] = 1\n",
    "    for i in range(5, 10):\n",
    "        cache[i] = 2\n",
    "    for i in range(10, 15):\n",
    "        cache[i] = 4\n",
    "    for i in range(15, 20):\n",
    "        cache[i] = 6\n",
    "    for i in range(20, 25):\n",
    "        cache[i] = 9\n",
    "    cache[25] = 10\n",
    "    def coin_rep(N):\n",
    "        if N <= 0:\n",
    "            return 0\n",
    "        \n",
    "        if N in cache:\n",
    "            return cache[N]\n",
    "        \n",
    "        counter = 0\n",
    "        counter += coin_rep(N - 25)\n",
    "        counter += coin_rep(N - 10)\n",
    "        counter += coin_rep(N - 5)\n",
    "        counter += coin_rep(N - 1)\n",
    "\n",
    "        cache[N] = counter\n",
    "        return cache[N]\n",
    "    \n",
    "    return coin_rep(N)\n",
    "\n",
    "coin_rep_memo(100)"
   ]
  },
  {
   "cell_type": "markdown",
   "metadata": {},
   "source": [
    "\n",
    "\n",
    "8.12 Eight Queens: Write an algorithm to print all ways of arranging eight queens on an 8x8 chess board\n",
    "so that none of them share the same row, column, or diagonal. In this case, \"diagonal\" means all\n",
    "diagonals, not just the two that bisect the board.\n",
    "Hints: #308, #350, #371\n",
    "\n",
    "8.13 Stack of Boxes: You have a stack of n boxes, with widths Wi ' heights hi ' and depths di . The boxes\n",
    "cannot be rotated and can only be stacked on top of one another if each box in the stack is strictly\n",
    "larger than the box above it in width, height, and depth. Implement a method to compute the\n",
    "height of the tallest possible stack. The height of a stack is the sum of the heights of each box.\n",
    "Hints: #155, #194, #214, #260, #322, #368, #378\n",
    "\n",
    "8.14 Boolean Evaluation: Given a boolean expression consisting of the symbols e (false), 1 (true), &\n",
    "(AND), I (OR), and\" (XOR), and a desired boolean result value result, implement a function to\n",
    "count the number of ways of parenthesizing the expression such that it evaluates to result.\n",
    "EXAMPLE\n",
    "countEval(\"1\"eleI1\"J false) -) 2\n",
    "countEval(\"e&e&e&l\"lle\"J true) -) 1e\n",
    "Hints: #148, #168, #197, #305, #327\n",
    "Additional"
   ]
  },
  {
   "cell_type": "code",
   "execution_count": null,
   "metadata": {},
   "outputs": [],
   "source": []
  }
 ],
 "metadata": {
  "kernelspec": {
   "display_name": "Python 3",
   "language": "python",
   "name": "python3"
  }
 },
 "nbformat": 4,
 "nbformat_minor": 2
}
