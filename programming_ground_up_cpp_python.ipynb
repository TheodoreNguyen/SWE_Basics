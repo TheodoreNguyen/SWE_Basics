{
 "cells": [
  {
   "cell_type": "markdown",
   "metadata": {},
   "source": [
    "# CS31 lecture 2"
   ]
  },
  {
   "cell_type": "markdown",
   "metadata": {},
   "source": [
    "- what are compilers\n",
    "- hello world\n"
   ]
  },
  {
   "cell_type": "code",
   "execution_count": 1,
   "metadata": {},
   "outputs": [
    {
     "name": "stdout",
     "output_type": "stream",
     "text": [
      "hello world!\n"
     ]
    }
   ],
   "source": [
    "import os\n",
    "print(\"hello world!\")"
   ]
  },
  {
   "cell_type": "code",
   "execution_count": null,
   "metadata": {},
   "outputs": [],
   "source": []
  },
  {
   "cell_type": "markdown",
   "metadata": {},
   "source": [
    "- preprocessor directives include libraries, macros, etc\n",
    "### memory overview\n",
    "- variables are in memory RAM and take up sequentially space depending on their type and whose value can vary during code runtime"
   ]
  },
  {
   "cell_type": "markdown",
   "metadata": {},
   "source": [
    "### initialization = declaration + assignment.\n",
    "##### declare:\n",
    "int a;\n",
    "#### initialize (late) (technically still assignment)\n",
    "a = 1;\n",
    "#### initialize\n",
    "int b = 2;\n",
    "#### assignment\n",
    "b = 3\n",
    "\n",
    "\n"
   ]
  },
  {
   "cell_type": "markdown",
   "metadata": {},
   "source": [
    "- declared but uninitialized variables have undefined (arbitrary) values depending on where they happened to be allocated in memory upon declaration\n",
    "- signed ints or floats have their leading bit be the sign bit\n"
   ]
  },
  {
   "cell_type": "markdown",
   "metadata": {},
   "source": [
    "# CS31 lecture 3"
   ]
  },
  {
   "cell_type": "markdown",
   "metadata": {},
   "source": [
    "- commenting code with blocks or inlines"
   ]
  },
  {
   "cell_type": "markdown",
   "metadata": {},
   "source": [
    "### data types\n",
    "- char/(un)signed char         1 byte\n",
    "- bool                         1 byte\n",
    "- (unsigned) short             2 byte\n",
    "- (unsigned) int               4 byte\n",
    "- __int8..16..32..64           1, 2, 4, 8 bytes  \n",
    "- (unsigned) long              4 byte\n",
    "- long long                    8 byte\n",
    "- wchar_t                      2 byte\n",
    "- __wchar_t                    2 byte\n",
    "- float                        4 byte\n",
    "- double                       8 byte\n",
    "- long double                  8 byte\n"
   ]
  },
  {
   "cell_type": "markdown",
   "metadata": {},
   "source": [
    "- booleans have 0 as false, and nonzero as true\n",
    "- assigning floats to ints cause truncation\n",
    "- signed vars can take on negative values, while unsigned cant\n",
    "- cast arguments of operators to cast the result (5.0)/2 = 2.5, but 5/2 = 2\n",
    "#### CASTING **MORE DETAIL**\n",
    "- const keyword (general)\n",
    "- arithmetic operators: (1) add, (2) subtract, (3) multiply, (4) divide, (5) modulo\n",
    "- order of operations\n",
    "- ++ and -- operators and placement (putting it before evaluates it first, putting it after does it after)\n"
   ]
  },
  {
   "cell_type": "markdown",
   "metadata": {},
   "source": [
    "### operators and evaluation order"
   ]
  },
  {
   "cell_type": "code",
   "execution_count": null,
   "metadata": {},
   "outputs": [],
   "source": [
    "# python order of ops\n",
    "'''\n",
    "EVALUATED FROM LEFT TO RIGHT\n",
    "\n",
    "HIGHEST PRIORITY (evaluated first)\n",
    "'''\n",
    "(...), [...], {...}\n",
    "#Tuple, list, and dictionary creation\n",
    "\n",
    "´...´\n",
    "#String conversion\n",
    "\n",
    "s[i], s[i:j]\n",
    "#Indexing and slicing\n",
    "\n",
    "s.attr\n",
    "#Attributes\n",
    "\n",
    "f(...)\n",
    "#Function calls\n",
    "\n",
    "+x, -x, ~x\n",
    "#Unary operators\n",
    "\n",
    "x ** y\n",
    "#Power (right associative)\n",
    "\n",
    "x * y, x / y, x // y, x % y\n",
    "#Multiplication, division, floor division, modulo\n",
    "\n",
    "x + y, x - y\n",
    "#Addition, subtraction\n",
    "\n",
    "x << y, x >> y\n",
    "#Bit-shifting\n",
    "\n",
    "x & y\n",
    "#Bitwise and\n",
    "\n",
    "x ^ y\n",
    "#Bitwise xor\n",
    "\n",
    "x | y\n",
    "#Bitwise or\n",
    "\n",
    "x < y, x <= y, x > y, x >= y,\n",
    "#Comparison, identity, and sequence membership tests\n",
    "\n",
    "x == y, x != y\n",
    "#equality tests\n",
    "\n",
    "x <> y  (THIS IS THE SAME AS x != and isnt even in python 3 anymore)\n",
    "\n",
    "x is y, x is not y\n",
    "#memory location tests (same object)\n",
    "\n",
    "x in s, x not in s\n",
    "#set contains\n",
    "\n",
    "not x\n",
    "#Logical negation\n",
    "\n",
    "x and y\n",
    "#Logical and\n",
    "\n",
    "x or y\n",
    "#Logical or\n",
    "\n",
    "lambda args: expr\n",
    "#Anonymous functions\n",
    "\n",
    "'''LOWEST PRIORITY (evaluated last)'''"
   ]
  },
  {
   "cell_type": "markdown",
   "metadata": {},
   "source": [
    "# CS31 lecture 4"
   ]
  },
  {
   "cell_type": "markdown",
   "metadata": {},
   "source": [
    "### Chars"
   ]
  },
  {
   "cell_type": "markdown",
   "metadata": {},
   "source": [
    "- the char datatype is 1 byte (8 bits) meaning it can take 2^8 = 256 different values. Usually use ASCII. Each 'letter' has a value in ASCII. single quotes\n",
    "- we have letters (upper and lower) and can convert from one to the other easily by const diff\n",
    "- some invisible chars include \\n, \\t\\, \\0\n"
   ]
  },
  {
   "cell_type": "markdown",
   "metadata": {},
   "source": [
    "##### string class in c++ (very trivial)"
   ]
  },
  {
   "cell_type": "markdown",
   "metadata": {},
   "source": [
    "- an array of chars. double quotes and indcibile"
   ]
  },
  {
   "cell_type": "markdown",
   "metadata": {},
   "source": [
    "### conditional statements:"
   ]
  },
  {
   "cell_type": "code",
   "execution_count": null,
   "metadata": {},
   "outputs": [],
   "source": [
    "if bool:\n",
    "    dosomething()\n",
    "elif bool:\n",
    "    dosomethingelse()\n",
    "else:\n",
    "    donothing()"
   ]
  },
  {
   "cell_type": "markdown",
   "metadata": {},
   "source": [
    "# CS31 lecture 5"
   ]
  },
  {
   "cell_type": "markdown",
   "metadata": {},
   "source": [
    "- high level stuff - logic error (compiler wont catch)\n",
    "- what is brute force\n",
    "- high level stuff - design and security and logic \n",
    "### if-else ladder \n",
    "### switch statements"
   ]
  },
  {
   "cell_type": "markdown",
   "metadata": {},
   "source": [
    "### Loops"
   ]
  },
  {
   "cell_type": "code",
   "execution_count": null,
   "metadata": {},
   "outputs": [],
   "source": [
    "while (condition is True):\n",
    "    dosomething()\n",
    "#going through a loop the n'th time is the n'th iteration.\n"
   ]
  },
  {
   "cell_type": "code",
   "execution_count": null,
   "metadata": {},
   "outputs": [],
   "source": [
    "for(int i = 0; i != N; i++):\n",
    "    dosomething()"
   ]
  },
  {
   "cell_type": "code",
   "execution_count": null,
   "metadata": {},
   "outputs": [],
   "source": [
    "do\n",
    "{\n",
    "    dosomething()\n",
    "} while(condition is True);\n",
    "#do while loops are always evaluated at least once"
   ]
  },
  {
   "cell_type": "markdown",
   "metadata": {},
   "source": [
    "- inifinite loops occur when you are careless and dont have your condition become untrue"
   ]
  },
  {
   "cell_type": "markdown",
   "metadata": {},
   "source": [
    "In computability theory, the halting problem is the problem of determining, from a description of an arbitrary computer program and an input, whether the program will finish running (i.e., halt) or continue to run forever.\n",
    "\n",
    "Alan Turing proved in 1936 that a general algorithm to solve the halting problem for all possible program-input pairs cannot exist."
   ]
  },
  {
   "cell_type": "markdown",
   "metadata": {},
   "source": [
    "### exit loops with break; skip iteration with continue;"
   ]
  },
  {
   "cell_type": "markdown",
   "metadata": {},
   "source": [
    "# CS31 lecture 6"
   ]
  },
  {
   "cell_type": "markdown",
   "metadata": {},
   "source": [
    "- high level security bs\n",
    "- use booleans? lol"
   ]
  },
  {
   "cell_type": "markdown",
   "metadata": {},
   "source": [
    "### Functions"
   ]
  },
  {
   "cell_type": "markdown",
   "metadata": {},
   "source": [
    "- Reusability: don't have to (and shouldn't) retype code\n",
    "- Abstraction: gives program modularity and encapsulates complexity inside function\n",
    "- Functions need (1) a name, (2) the contents of the function, (3) arguments, (4) return value (which is type of function!), (and comments =p)\n",
    "- scopage of functions\n",
    "- function prototypes declare the function exists before giving its implementation"
   ]
  },
  {
   "cell_type": "markdown",
   "metadata": {},
   "source": [
    "##### prototypes"
   ]
  },
  {
   "cell_type": "markdown",
   "metadata": {},
   "source": [
    "# CS31 lecture 7"
   ]
  },
  {
   "cell_type": "markdown",
   "metadata": {},
   "source": [
    "##### string class in C++ (more depth)"
   ]
  },
  {
   "cell_type": "markdown",
   "metadata": {},
   "source": [
    "- concatenate strings with + and += ops.\n",
    "- index a string with [] \n",
    "- str.size() and str.length()\n",
    "- str.erase(beginpos, length), str.substr(beginposition, length), str.find(substr, index_to_start_in_str_tosearch_for_substar), str.replace(pos_to_start, len_to_replace, str-to_replace_with)\n"
   ]
  },
  {
   "cell_type": "markdown",
   "metadata": {},
   "source": [
    "##### more securitry bs and C++ stuff like specific libs: cstdlib, cmath, and function types (depending on the return value of the function)"
   ]
  },
  {
   "cell_type": "markdown",
   "metadata": {},
   "source": [
    "### Global vs local variables"
   ]
  },
  {
   "cell_type": "markdown",
   "metadata": {},
   "source": [
    "- title of section. global and locals exist. try not to use globals that arent constant\n",
    "- inside the definition of function parameters the variable is called a formal parameter"
   ]
  },
  {
   "cell_type": "markdown",
   "metadata": {},
   "source": [
    "# CS31 lecture 8"
   ]
  },
  {
   "cell_type": "markdown",
   "metadata": {},
   "source": [
    "- scattered into lecture 6 on string class, lecture 5 on fcns, lecture 4 on loops"
   ]
  },
  {
   "cell_type": "markdown",
   "metadata": {},
   "source": [
    "# CS31 lecture 9"
   ]
  },
  {
   "cell_type": "markdown",
   "metadata": {},
   "source": [
    "### more on variable scopage throughout functions"
   ]
  },
  {
   "cell_type": "markdown",
   "metadata": {},
   "source": [
    "### Pass by value vs pass by reference"
   ]
  },
  {
   "cell_type": "markdown",
   "metadata": {},
   "source": [
    "- switch statements"
   ]
  },
  {
   "cell_type": "markdown",
   "metadata": {},
   "source": [
    "# CS31 lecture 10"
   ]
  },
  {
   "cell_type": "markdown",
   "metadata": {},
   "source": [
    "- break and continue compressed into loops above and scope rementioned"
   ]
  },
  {
   "cell_type": "markdown",
   "metadata": {},
   "source": [
    "## Arrays"
   ]
  },
  {
   "cell_type": "code",
   "execution_count": null,
   "metadata": {},
   "outputs": [],
   "source": [
    "int arr[N] = {1, 2, 3, 4,..., N}"
   ]
  },
  {
   "cell_type": "markdown",
   "metadata": {},
   "source": [
    "- array length N must be const and specified at declaration in C++\n",
    "    - cuz we need to allocate memory for this arr\n",
    "- access arrays with [] operator. no compiler error when going out of range\n",
    "- elements (at least for int arrays) are initialized to 0 if not explicitly initialized\n"
   ]
  },
  {
   "cell_type": "markdown",
   "metadata": {},
   "source": [
    "- array contents are placed adjacent sequentially in memory\n",
    "- you can overload the declaration of an array so that the first index is something thats not 0 - depends on what you want"
   ]
  },
  {
   "cell_type": "markdown",
   "metadata": {},
   "source": [
    "- the array variable is actually a constant pointer"
   ]
  },
  {
   "cell_type": "code",
   "execution_count": null,
   "metadata": {},
   "outputs": [],
   "source": []
  },
  {
   "cell_type": "markdown",
   "metadata": {},
   "source": [
    "# CS31 lecture 11"
   ]
  },
  {
   "cell_type": "markdown",
   "metadata": {},
   "source": [
    "### C-strings"
   ]
  },
  {
   "cell_type": "markdown",
   "metadata": {},
   "source": [
    "- are arrays of characters that terminate in a nullbyte / '\\0' char / null character / null\n",
    "- declared in same way as character array\n",
    "- can declare nicely like char a[] = \"dude\"; \n",
    "- cstring library"
   ]
  },
  {
   "cell_type": "markdown",
   "metadata": {},
   "source": [
    "# CS31 lecture 12\n"
   ]
  },
  {
   "cell_type": "markdown",
   "metadata": {},
   "source": [
    "- more on C-strings. start pointers"
   ]
  },
  {
   "cell_type": "markdown",
   "metadata": {},
   "source": [
    "# Pointers"
   ]
  },
  {
   "cell_type": "markdown",
   "metadata": {},
   "source": [
    "#integer x on the stack declared to have value 5\n",
    "int x = 5;\n",
    "#pointer to a variable of type integer, declared but not initialized\n",
    "int *ptr;\n",
    "#value of pointer set to the dereferencing of int var x, aka the memory location of x\n",
    "ptr = &x;\n",
    "\n",
    "#points ptr2 to memory location 5\n",
    "int *ptr2 = 5 '''wee have no idea what is at memory location 5'''\n",
    "\n",
    "#memory location of what ptr points to (which is memory location of x)\n",
    "ptr\n",
    "#value of what ptr points to (which is the value of x)\n",
    "*ptr\n",
    "#memory location of this actual pointer\n",
    "&ptr\n",
    "\n",
    "#value of variable x\n",
    "x\n",
    "#memory location of variable x; ptr points to this, so this is also the value of ptr\n",
    "&x\n",
    "#value stored at the memory location with value 'x'. Aka, value at memory location 5 (since x==5)\n",
    "*x   '''we have no idea what is at memory location 5'''\n"
   ]
  },
  {
   "cell_type": "markdown",
   "metadata": {},
   "source": [
    "- arrays are constant pointers, so assigning a pointer to an array is direct. You also cannot move the memory location the array points to"
   ]
  },
  {
   "cell_type": "code",
   "execution_count": null,
   "metadata": {},
   "outputs": [],
   "source": [
    "char arr[6] = \"hello\";\n",
    "char *ptr = arr\n",
    "\n",
    "char x = 'c';\n",
    "arr = &x #COMPILER ERROR, cannot change const ptr\n",
    "# technically you cannot change const ANYTHING"
   ]
  },
  {
   "cell_type": "markdown",
   "metadata": {},
   "source": [
    "- declaring pointers awkwardly or not awkwardly"
   ]
  },
  {
   "cell_type": "code",
   "execution_count": null,
   "metadata": {},
   "outputs": [],
   "source": [
    "# two pointers\n",
    "int* ptr, y\n",
    "#one ptr, one int\n",
    "int *ptr, y\n",
    "#??????????????????\n",
    "int* ptr, *y"
   ]
  },
  {
   "cell_type": "markdown",
   "metadata": {},
   "source": [
    "- performing str1 == str2, where str1 and str2 are both C-strings, does not work because str1 and str2 are memory locations, so the comparison would be comparing the memory locations and not the actual contents of the C-strings"
   ]
  },
  {
   "cell_type": "markdown",
   "metadata": {},
   "source": [
    "# CS31 lecture 13"
   ]
  },
  {
   "cell_type": "markdown",
   "metadata": {},
   "source": [
    "- debugging. Pointers"
   ]
  },
  {
   "cell_type": "markdown",
   "metadata": {},
   "source": [
    "### More pointers"
   ]
  },
  {
   "cell_type": "markdown",
   "metadata": {},
   "source": [
    "- char pointers on C-strings have *ptr show the character at point, while ptr shows just the entire c-string\n",
    "- different from a regular pointer, which just gives memory address vs value at address"
   ]
  },
  {
   "cell_type": "code",
   "execution_count": null,
   "metadata": {},
   "outputs": [],
   "source": [
    "char arr[6] = \"Hello\";\n",
    "char* ptr = arr\n",
    "*ptr # shows 'H'\n",
    "ptr #shows \"Hello\"\n",
    "\n",
    "int intarr[5] = {1, 2, 3, 4, 5}\n",
    "int* inptr = intarr\n",
    "*ptr #shows 1\n",
    "ptr #shows memory address of intarr[0]"
   ]
  },
  {
   "cell_type": "markdown",
   "metadata": {},
   "source": [
    "- use pointer arithmetic with pointers pointing at arrays to point to different elements of the array (traversing the array with a pointer) (++, --, +=, -=, etc)\n",
    "- note that performing this operation is possible even when not pointing at an array. adding 1 to a pointer of type \"TYPE\" will add 1 * sizeof(TYPE) to the pointer, effectively moving the pointer 1 memory location over with the size of teh type of this pointer\n",
    "    - a void pointer has no type, so it has no size and pointer arithmetic cannot be performed on it"
   ]
  },
  {
   "cell_type": "markdown",
   "metadata": {},
   "source": [
    "- pointers are just integer data that are within the confines of your memory space. \n",
    "    - Thus, passing them to a function by value allows pointer arithmetic without modifying original pointer - working just like any other var passed by value. dereferencing the memory aaddress allows modification of desired value ptr points to\n",
    "        - analogously, passing a pointer by refnerece allows u to modify original pointer"
   ]
  },
  {
   "cell_type": "markdown",
   "metadata": {},
   "source": [
    "### N-dimensional arrays"
   ]
  },
  {
   "cell_type": "code",
   "execution_count": null,
   "metadata": {},
   "outputs": [],
   "source": [
    "char arr[3][4][5];\n",
    "arr[0][0][0] # character\n",
    "arr[0][0] #c-string\n",
    "arr[0] #memory address\n",
    "\n",
    "#only the first argument for size is optional. the rest MUST be specified for size\n",
    "char array[][N][M]"
   ]
  },
  {
   "cell_type": "markdown",
   "metadata": {},
   "source": [
    "- stored in memory as 1D array of N x M length\n",
    "[ 1, 2, 3, 4, 5] [1, 2, 3, 4, 5] [ 1, 2, 3, 4, 5]"
   ]
  },
  {
   "cell_type": "markdown",
   "metadata": {},
   "source": [
    "# CS31 lecture 14"
   ]
  },
  {
   "cell_type": "markdown",
   "metadata": {},
   "source": [
    "- review midterm stuff"
   ]
  },
  {
   "cell_type": "code",
   "execution_count": null,
   "metadata": {},
   "outputs": [],
   "source": [
    "- you can define constants with \"const double pi 3.14\" or by doing \"#define pi 3.14\""
   ]
  },
  {
   "cell_type": "markdown",
   "metadata": {},
   "source": [
    "- #define is not type safe: hard to track the var, warnings when storing it from compiler,\n",
    "- compiler may not check if uve already defined another var if u have it as a define op\n",
    "- however, define is good cuz it takes up no memory or storage."
   ]
  },
  {
   "cell_type": "markdown",
   "metadata": {},
   "source": [
    "- more on N-D arrays & ptrs, see above"
   ]
  },
  {
   "cell_type": "markdown",
   "metadata": {},
   "source": [
    "# CS31 lecture 15"
   ]
  },
  {
   "cell_type": "markdown",
   "metadata": {},
   "source": [
    "### Dynamic memory allocation"
   ]
  },
  {
   "cell_type": "code",
   "execution_count": null,
   "metadata": {},
   "outputs": [],
   "source": [
    "int *ptr = new int(5);\n",
    "#allocates memory for an integer on the heap, gives it a value 5, and then returns a memory\n",
    "    #address to this location\n",
    "    "
   ]
  }
 ],
 "metadata": {
  "kernelspec": {
   "display_name": "Python 3",
   "language": "python",
   "name": "python3"
  },
  "language_info": {
   "codemirror_mode": {
    "name": "ipython",
    "version": 3
   },
   "file_extension": ".py",
   "mimetype": "text/x-python",
   "name": "python",
   "nbconvert_exporter": "python",
   "pygments_lexer": "ipython3",
   "version": "3.6.5"
  }
 },
 "nbformat": 4,
 "nbformat_minor": 2
}
