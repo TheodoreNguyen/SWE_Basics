{
 "cells": [
  {
   "cell_type": "markdown",
   "metadata": {},
   "source": [
    "### PIE - bit manipulation tips\n",
    "- two's complement. \n",
    "- flip bits. add one.\n",
    "(~(x) + 1)\n",
    "- unary operator ~ flips all bits. (BITWISE NOT)\n",
    "- |, &, ^ --- OR, AND, XOR\n",
    "- >> and <<  --- rightshift and leftshift\n",
    "    << left shift will fill 0's in LSB - fast multiply by 2\n",
    "    >> right shift will fill values in the MSB depending on w/e was already there. sign extension. - fast divide by 2\n",
    "- multiply and divide by powers of 2 quickly. equivalent to moving decimal over base 10\n",
    "    \n",
    "- the Least Significant Bit, LSB (or can be the Least Significant byte!), is the bit (or byte) that has the least amount of value. The MSB follows an analgous paradigm, having the most amount of value. \n",
    "    - in base 10, the number 91835, - 9 is the MSdec and 5 is the LSdec\n",
    "    - in base 2, the bits 10010, - 1 is the MSB and 0 is the LSB"
   ]
  },
  {
   "cell_type": "markdown",
   "metadata": {},
   "source": [
    "### random graphics problem: rectangle overlap\n",
    "given two rectangles defined by upper left UL corner and lower right LR corner ea, and both rectangle sides will always be parallel to x or y axis, write a function determining if two rectangles overlap"
   ]
  },
  {
   "cell_type": "markdown",
   "metadata": {},
   "source": [
    "Before writing any code, we see that two rectangles overlap IFF 'the bounds of their edge points are within each over'"
   ]
  },
  {
   "cell_type": "code",
   "execution_count": null,
   "metadata": {},
   "outputs": [],
   "source": [
    "class Point:\n",
    "    def __init__(self, x, y):\n",
    "        self.x = x\n",
    "        self.y = y\n",
    "    \n",
    "class Rectangle:\n",
    "    def __init__(self, UL, LR):\n",
    "        self.UL = UL\n",
    "        self.LR = LR\n",
    "        \n",
    "def tp(r1, r2):\n",
    "    '''\n",
    "    top_bottom_overlap()\n",
    "    is the the y-ceiling of r1 greater than or equal to the y-floor of r2?\n",
    "    '''\n",
    "    if r1.UL.y >= r2.LR.y:\n",
    "        return True\n",
    "    else:\n",
    "        return False\n",
    "\n",
    "def lr(r1, r2):\n",
    "    '''\n",
    "    left_right_overlap()\n",
    "    is the x-rightmost of r1 greater than or equal to the x-leftmost of r2?\n",
    "    '''\n",
    "    if r1.LR.x >= r2.UL.x:\n",
    "        return True\n",
    "    else:\n",
    "        return False\n",
    "    \n",
    "def are_rectangles_overlapping(r1, r2):\n",
    "    '''\n",
    "    lets look at all exhaustive cases, even when they are redundant.\n",
    "    \n",
    "    we have to have both a \n",
    "    '''\n",
    "    r1_ymax = r1.UL.y\n",
    "    r1_ymin = r1.LR.y\n",
    "    r2_ymax = r2.UL.y\n",
    "    r2_ymin = r2.LR.y\n",
    "    \n",
    "    if (r1_ymax >= r2_ymin and )\n",
    "    \n",
    "    r1_xmax = r1.UL.x\n",
    "    r1_xmin = r1.LR.x\n",
    "    r2_xmax = r2.UL.x\n",
    "    r2_xmin = r2.LR.x\n",
    "    \n",
    "    pass #didnt finish =("
   ]
  },
  {
   "cell_type": "markdown",
   "metadata": {},
   "source": [
    "There is a relative annoying enumeration of cases we have to go through to determine whether or not two rectangles overlap. \n",
    "\n",
    "- it is easier here to determine the cases where two rectangles do NOT overlap"
   ]
  },
  {
   "cell_type": "code",
   "execution_count": 1,
   "metadata": {},
   "outputs": [],
   "source": [
    "def are_rectangles_overlapping(r1, r2):\n",
    "    if (r1.UL.x > r2.LR.x or   #r1 is to the right of r2\n",
    "        r1.UL.y < r2.LR.y or   #r1 is below r2\n",
    "        r1.LR.x < r2.UL.x or   #r1 is to the left of r2\n",
    "        r1.LR.y > r2.UL.y):    #or r1 is above r2\n",
    "        return False\n",
    "    else:\n",
    "        return True"
   ]
  },
  {
   "cell_type": "markdown",
   "metadata": {},
   "source": [
    "### determine if computer is big-endian or little-endian\n",
    "- ENDIANNESS refers to the order a computer stores bytes of multiunit value\n",
    "- a 32-bit value=4 bytes has 4 groups of 8 bits, can be represented as store of characters in set [0, 1, 2, 3, 4, 5, 6, 7, 8, 9, A, B, C, D, E, F] to represent each group of 8 bits\n",
    "- for example, the 16-bit/2byte value: 5A 6C == 0101 1010  0110 1100\n",
    "\n",
    "- ordering of storage can either be from (LSB to MSB) OR (MSB to LSB)\n",
    "    - if memory is as follows:\n",
    "small memory address[--------------------------------] big memory addresses\n",
    "\n",
    "if i store a multibyte value in memory, i get under the two paradigms:\n",
    "\n",
    "    BIG-ENDIAN:\n",
    "    \n",
    "small memory address[MSB -------- LSB] big memory address\n",
    "\n",
    "    LITTLE-ENDIAN:\n",
    "\n",
    "small memory address[LSB ------- MSB]\n",
    "\n",
    "- tl;dr: big endian is 'normal' so to say."
   ]
  },
  {
   "cell_type": "code",
   "execution_count": 1,
   "metadata": {},
   "outputs": [],
   "source": [
    "#after reading too much info, store an integer - 4 bytes - bigger than one byte\n",
    "# with value 1. Then the LSBit should be 1, and all other bits, including MSB\n",
    "# should be 0. \n",
    "\n",
    "def endianness():\n",
    "    i = 1\n",
    "    pass\n",
    "\n",
    "#how do i do this in python?"
   ]
  },
  {
   "cell_type": "markdown",
   "metadata": {},
   "source": [
    "### compute the number of 1 bits inside a given integer"
   ]
  },
  {
   "cell_type": "markdown",
   "metadata": {},
   "source": [
    "- for positive values\n",
    "using the mask 0 gives us 000...000. Using the mask 1 gives us 0000...0001. performing a BIT-AND operation on an arbitrary integer and the 1 mask will set all other bits in the integer to 0, except for the LSB. if the LSB is 0, then it will also be set to zero, and the end of the operation yields 0. However, if the LSB is 1, the end of the opertion yields 1. We can perform this operation on the integer, right shifting it as we go and counting how many times we get 1, until the integer is 0 (we've right shifted it all the way)\n",
    "\n",
    "- for negative values\n",
    "however, this doesn't hold for negative integers - the problem is for negative integers, they theoretically have a number of 1 bits that go up to the size of their storage at the MSB. One way we can do this is flip the bits of the negative integer and then try to someehow count the number of 0 bits of the flipped negative integer. \n",
    "\n",
    "    - counting number of 0's \n",
    "keeping the bitmask of 1 == 000...001, if we first BIT-AND the integer we can extract the LSB. Call the result of this RES1. RES1 would yield that the LSB is 0 if the LSB in the original is 0, and would yield 1 if the LSB is 1, thereby preserving the LSB. The rest of the bits become 0). Then, we perform a BIT-XOR withe this resultant value against the same bitmask 1 == 00..001. The \n"
   ]
  },
  {
   "cell_type": "code",
   "execution_count": 9,
   "metadata": {},
   "outputs": [],
   "source": [
    "def number_of_ones(integer):\n",
    "    if integer >= 0:\n",
    "        num_ones = 0\n",
    "        mask = 1\n",
    "        while integer != 0:\n",
    "            res = integer & mask\n",
    "            num_ones += res\n",
    "            integer >>= 1\n",
    "        return num_ones    \n",
    "    else:\n",
    "        #have not defined behavior for negative values\n",
    "        return None"
   ]
  },
  {
   "cell_type": "markdown",
   "metadata": {},
   "source": [
    "RV: \n",
    "- how to count number of 1's in a negative value\n",
    "- how to count number of 0's\n",
    "- how to count number of 0's in negative value (probably easiest one here)"
   ]
  },
  {
   "cell_type": "code",
   "execution_count": 21,
   "metadata": {},
   "outputs": [
    {
     "data": {
      "text/plain": [
       "400"
      ]
     },
     "execution_count": 21,
     "metadata": {},
     "output_type": "execute_result"
    }
   ],
   "source": [
    "from sys import getsizeof\n",
    "getsizeof(int)"
   ]
  },
  {
   "cell_type": "code",
   "execution_count": 28,
   "metadata": {},
   "outputs": [
    {
     "data": {
      "text/plain": [
       "'-0b1'"
      ]
     },
     "execution_count": 28,
     "metadata": {},
     "output_type": "execute_result"
    }
   ],
   "source": [
    "bin(-1)"
   ]
  },
  {
   "cell_type": "markdown",
   "metadata": {},
   "source": [
    "### 'brainteaser' Count open lockers:\n",
    "you have a 100 closed lockers. \n",
    "\n",
    "(1) you open all 100 closed lockers so now you have 100 open lockers\n",
    "\n",
    "(2) you close every second locker \n",
    "\n",
    "(3) you go to every third locker, and you close it if it is open, and you open it if it is closed\n",
    "\n",
    "...\n",
    "\n",
    "(n) you go to every nth locker, and you close it if it is open, and you open it if it is closed.\n",
    "\n",
    "...\n",
    "\n",
    "(100) you go to every 100th locker (only locker 100) and you close it if it is open, and open it if it is closed\n",
    "\n",
    "\n",
    "-> determine the number of open lockers"
   ]
  },
  {
   "cell_type": "code",
   "execution_count": 30,
   "metadata": {},
   "outputs": [
    {
     "data": {
      "text/plain": [
       "False"
      ]
     },
     "execution_count": 30,
     "metadata": {},
     "output_type": "execute_result"
    }
   ],
   "source": [
    "not True"
   ]
  },
  {
   "cell_type": "code",
   "execution_count": 32,
   "metadata": {},
   "outputs": [
    {
     "data": {
      "text/plain": [
       "['hahaha', 'hahaha', 'hahaha']"
      ]
     },
     "execution_count": 32,
     "metadata": {},
     "output_type": "execute_result"
    }
   ],
   "source": [
    "array = [1, 2, 3]\n",
    "for i in range(len(array)):\n",
    "    array[i] = 'hahaha'\n",
    "    \n",
    "array"
   ]
  },
  {
   "cell_type": "markdown",
   "metadata": {},
   "source": [
    "#### common sense, but foreach loops create a copy of the value it iterates through and doesnt reference the item in collection iterated"
   ]
  },
  {
   "cell_type": "code",
   "execution_count": 36,
   "metadata": {},
   "outputs": [
    {
     "data": {
      "text/plain": [
       "10"
      ]
     },
     "execution_count": 36,
     "metadata": {},
     "output_type": "execute_result"
    }
   ],
   "source": [
    "#define true if open, false if closed\n",
    "\n",
    "def toggle_kth_locker(lockers, k):\n",
    "    counter = 0\n",
    "    for locker_index in range(len(lockers)):\n",
    "        counter += 1\n",
    "        if counter % k == 0:\n",
    "            lockers[locker_index] = not lockers[locker_index]\n",
    "\n",
    "def close_kth_locker(lockers, k):\n",
    "    counter = 0 \n",
    "    for locker_index in range(len(lockers)):\n",
    "        counter += 1\n",
    "        if counter % k == 0:\n",
    "            lockers[locker_index] = False\n",
    "\n",
    "def open_all_lockers(lockers):\n",
    "    for locker_index in range(len(lockers)):\n",
    "        lockers[locker_index] = True\n",
    "\n",
    "def num_open_lockers(N):\n",
    "    lockers = [False]*N\n",
    "    open_all_lockers(lockers)\n",
    "    close_kth_locker(lockers, 2)\n",
    "    for k in range(3, N+1):\n",
    "        toggle_kth_locker(lockers, k)\n",
    "    \n",
    "    return sum(lockers)\n",
    "\n",
    "num_open_lockers(100)"
   ]
  },
  {
   "cell_type": "markdown",
   "metadata": {},
   "source": [
    "- math book: all lockers are closed initially, and then all are opneed. then all even ones are closed.\n",
    "- prime lockers are only toggled on their specific kth iteration. so all prime ones are closed. doesnt help too much to find open\n",
    "- all lockers start closed and alternate b/w open and closed. \n",
    "    - a locker is toggled an even number of times, then it ends closed. \n",
    "        - likewise if it is toggled an odd number of times, then it ends open\n",
    "- the number of toggling that occurs to the nth locker is equal to the number of distinct factors that exist for this locker b/w 1 and n. \n",
    "    - therefore, the lockers that have an odd number of factors are open.\n",
    "        - every factor is a factor cuz it needed to be multiplied by another factor to yield the resultant number. so factors \n",
    "            come in pairs\n",
    "            - the only factors that dont come in pairs are those whose complement factor is also themselves - so SQUARES\n",
    "                - only squares have an odd number of factors, so they are the only ones that are open. \n",
    "                    - there are 10 squares b/w 1 and 100, so only 10 locckers are open.\n",
    "                    "
   ]
  },
  {
   "cell_type": "markdown",
   "metadata": {},
   "source": [
    "- Now generalize the solution: In a hall with k lockers, how many lockers remain open after pass k?\n",
    "\n",
    "    FLOOR(SQRT(k)) remain open"
   ]
  },
  {
   "cell_type": "markdown",
   "metadata": {},
   "source": [
    "### three switches:\n",
    "You are standing in a hallway next to three light switches, all of which\n",
    "are off. Each switch operates a different incandescent light bulb in the room at the\n",
    "end of the hall. You cannot see the lights from where the switches are. Determine\n",
    "which light corresponds to each switch. You may go into the room with the lights\n",
    "only once."
   ]
  },
  {
   "cell_type": "markdown",
   "metadata": {},
   "source": [
    "### bridge crossing\n",
    "A party of four travelers comes to a rickety bridge at night. The\n",
    "bridge can hold the weight of at most two of the travelers at a time, and it cannot\n",
    "be crossed without using a flashlight. The travelers have one flashlight among\n",
    "them. Each traveler walks at a different speed: The first can cross the bridge in\n",
    "1 minute, the second in 2 minutes, the third in 5 minutes, and the fourth takes\n",
    "10 minutes to cross the bridge. If two travelers cross together, they walk at the\n",
    "speed of the slower traveler\n",
    "\n",
    "What is the least amount of time in which all the travelers can cross from one side\n",
    "of the bridge to the other?"
   ]
  },
  {
   "cell_type": "markdown",
   "metadata": {},
   "source": [
    "- send 1 with 10 = 10\n",
    "- send 1 back = 1\n",
    "- send 1 with 5 = 5\n",
    "- send 1 back = 1\n",
    "- send 1 with 2 = 2\n",
    "- sum = 19"
   ]
  },
  {
   "cell_type": "markdown",
   "metadata": {},
   "source": [
    "- send 1 with 2 = 2\n",
    "- send 1 back = 1\n",
    "- send 5 and 10 = 10\n",
    "- send 2 back = 2\n",
    "- send 1 with 2 = 2\n",
    "- sum = 17"
   ]
  },
  {
   "cell_type": "markdown",
   "metadata": {},
   "source": [
    "### Heavy marble\n",
    "You have eight marbles and a two-pan scale. All the marbles weigh\n",
    "the same, except for one which is heavier than all the others. The marbles are\n",
    "otherwise indistinguishable. You may make no assumptions about how much\n",
    "heavier the heavy marble is. What is the minimum number of weighings needed\n",
    "to be certain of identifying the heavy marble? "
   ]
  },
  {
   "cell_type": "markdown",
   "metadata": {},
   "source": [
    "---> split the 8 marbles into 2 groups of 4 marbles. put the two groups on the scale. (weighing 1). we now see which group contains the heavier marble. Take that group of 4 marbles and split it into 2 groups of 2 marbles. put the two groups of 2 marbles on the scale (weighing 2). We see which pair of marbles has the heavier marble. Put the two marlbes in that heavier pair on the scale (weighing 3). the heavier marble is heavier."
   ]
  },
  {
   "cell_type": "markdown",
   "metadata": {},
   "source": [
    "---> book faster version: split the 8 marbles into 3 groups of marbles - 3 3 and 2. weigh 3 and 3. \n",
    "\n",
    "if same, then in 2 group. weigh pair. grab better. \n",
    "\n",
    "if not same, weigh random two marbles in the heavier group of 3. \n",
    "    - if same then the last marble in group of 3 is heavier\n",
    "    - if not then we good too.\n",
    "    \n",
    "all 2 weighs"
   ]
  },
  {
   "cell_type": "markdown",
   "metadata": {},
   "source": [
    "### how many american gas stations are there in the USA?"
   ]
  },
  {
   "cell_type": "markdown",
   "metadata": {},
   "source": [
    "-------------------------------------------------------------------------------"
   ]
  },
  {
   "cell_type": "markdown",
   "metadata": {},
   "source": [
    "# ENTER CTCI"
   ]
  },
  {
   "cell_type": "markdown",
   "metadata": {},
   "source": [
    "## quick big O\n",
    "- best case vs expected case/average case vs worst case\n",
    "- O, theta, omega == upper bound, tight bound, lower bound\n",
    "- space complexity: eeach recursive call takes up O(1) space. a tree of height lg n, parsing rec takes O(LG N) space\n",
    "- amoritized time analysis: RV - not the same as average analysis, which makes assumptions about input probabability\n",
    "- LG N runtimes occur in recursion (proportional to recursion tree height, usually LG N), and whenever you divide your input by some value K ( usualy K = 2) in an iterative loop process. you have to divide your N-sized set in half LG N times to get to an array of size 1.\n",
    "- recursive complexities - see CLRS notes\n",
    "- when you have multiple different sized inputs, specify input size when computing complexity using all inputs"
   ]
  },
  {
   "cell_type": "markdown",
   "metadata": {},
   "source": [
    "- a bunch of easy big O examples: drop consts, nested loop, single loop, loop with loop +1 nested"
   ]
  },
  {
   "cell_type": "markdown",
   "metadata": {},
   "source": [
    "#### The complexity of taking in an array of strings, sorting each string, and then sorting the entire array \n",
    "is NOT O(N^2 LG N). need specify each array size. let A be the size of the array, and S be the size of each string. There are A strings to sort, and sorting each one costs S LG S time, so that operation initially costs A * S LG S. Next, we sort the entire array. It is not A LG A, because the cost to compare each string is S. Then it is S * A LG A as the secondary cost. Total = O(A*SLGS + S*ALGA) ==\n",
    "O(A*S(LG A + LG S))"
   ]
  },
  {
   "cell_type": "markdown",
   "metadata": {},
   "source": [
    "#### The complexity of summing all the keys for all the nodes in a balanced BST\n",
    "does NOT have LG N inside it. You reach all the nodes in the tree once, so its O(N). Using the below point, there are two branches in the summing algorithm, and the depth of a balanced BST is LG N, so the complexity is 2^LG N = N"
   ]
  },
  {
   "cell_type": "markdown",
   "metadata": {},
   "source": [
    "### RV: the runtime for a recursive function with multiple branches is typically O(branches^depth)"
   ]
  },
  {
   "cell_type": "markdown",
   "metadata": {},
   "source": [
    "--- analyze functions for what they are, dont jump to conclusions based off of the type of problem - computing a factorial recursively isnt n!, and stuff to do with trees isnt always LG N"
   ]
  },
  {
   "cell_type": "markdown",
   "metadata": {},
   "source": [
    "- RV permutations and combinations mang..."
   ]
  },
  {
   "cell_type": "markdown",
   "metadata": {},
   "source": [
    "## RV: complexity derivation via  recurison trees for non-divide-and-conquer recursion probs"
   ]
  },
  {
   "cell_type": "markdown",
   "metadata": {},
   "source": [
    "### RV: might consider reading the soft sections in CTCI"
   ]
  },
  {
   "cell_type": "code",
   "execution_count": null,
   "metadata": {},
   "outputs": [],
   "source": []
  },
  {
   "cell_type": "code",
   "execution_count": null,
   "metadata": {},
   "outputs": [],
   "source": []
  },
  {
   "cell_type": "markdown",
   "metadata": {},
   "source": [
    "## Chapter 1: arrays and strings.\n",
    "- hash tables: array with linked lists and hash code fcn to determine element index\n",
    "- arrayList/resizable arrays: RV: know array resizing factor for resizable arrs\n",
    "- stringbuilder: concatenating N strings from a list of N strings ea length X is O(XN^2)"
   ]
  },
  {
   "cell_type": "markdown",
   "metadata": {},
   "source": [
    "### 1.1: Is Unique: \n",
    "Implement an algorithm to determine if a string has all unique characters. What if youcannot use additional data structures?"
   ]
  },
  {
   "cell_type": "code",
   "execution_count": 43,
   "metadata": {},
   "outputs": [
    {
     "name": "stdout",
     "output_type": "stream",
     "text": [
      "True\n",
      "False\n",
      "True\n",
      "False\n"
     ]
    }
   ],
   "source": [
    "# brute force - create a set of seen characters in the string, adding to it as you go along and checking against it.\n",
    "def is_unique(string):\n",
    "    seen_set = set()\n",
    "    for char in string:\n",
    "        if char not in seen_set:\n",
    "            seen_set.add(char)\n",
    "        else:\n",
    "            return False #this character has been seen before!!\n",
    "    return True\n",
    "\n",
    "#what if i cannot use additional data structures?\n",
    "def is_unique_spaceEfficient(string):\n",
    "    # the string of length 1 uses only one unique chracter, obviously\n",
    "    if len(string) <= 1:\n",
    "        return True\n",
    "    \n",
    "    string = sorted(string) # N LG N to sort\n",
    "    i = 1\n",
    "    while i != len(string):\n",
    "        if string[i] == string[i - 1]:\n",
    "            return False\n",
    "        i += 1\n",
    "        \n",
    "    return True\n",
    "\n",
    "uniqueString = 'this_a cule'\n",
    "nonuniqueString = 'dude what the fk bbq'\n",
    "print(is_unique(uniqueString))\n",
    "print(is_unique(nonuniqueString))\n",
    "print(is_unique_spaceEfficient(uniqueString))\n",
    "print(is_unique_spaceEfficient(nonuniqueString))"
   ]
  },
  {
   "cell_type": "code",
   "execution_count": 41,
   "metadata": {},
   "outputs": [
    {
     "data": {
      "text/plain": [
       "[' ', '_', 'a', 'c', 'e', 'h', 'i', 'i', 'l', 's', 't']"
      ]
     },
     "execution_count": 41,
     "metadata": {},
     "output_type": "execute_result"
    }
   ],
   "source": [
    "sorted(uniqueString)"
   ]
  },
  {
   "cell_type": "code",
   "execution_count": 47,
   "metadata": {},
   "outputs": [
    {
     "name": "stdout",
     "output_type": "stream",
     "text": [
      "True\n",
      "False\n"
     ]
    }
   ],
   "source": [
    "# book solution for with space: \n",
    "    #first one is same as our first one, use a hash table \n",
    "    # second one is same concept, but instead of a hash table, use an int and the actual bits correspond to True/Falses for \n",
    "        #'seen', which essentially is the same as the hahsh table.\n",
    "\n",
    "#book solution for no extra space:\n",
    "    # 1) compare every character of the string to every other character of the string O(n^2). \n",
    "    # 2) same as ours. sort string in place and check if adjacent values are the same.\n",
    "    \n",
    "#no extra space, O(n^2)\n",
    "def is_unique_compared_all_chars(string):\n",
    "    i = 0\n",
    "    while i != len(string):\n",
    "        j = 0\n",
    "        while j != len(string):\n",
    "            if string[i] == string[j] and i != j:\n",
    "                return False\n",
    "            j += 1\n",
    "        i += 1\n",
    "        \n",
    "    return True\n",
    "print(is_unique_compared_all_chars(uniqueString))\n",
    "print(is_unique_compared_all_chars(nonuniqueString))"
   ]
  },
  {
   "cell_type": "markdown",
   "metadata": {},
   "source": [
    "### 1.2: Check Permutation: Given two strings, write a method to decide if one is a permutation of the other."
   ]
  },
  {
   "cell_type": "code",
   "execution_count": 64,
   "metadata": {},
   "outputs": [
    {
     "name": "stdout",
     "output_type": "stream",
     "text": [
      "True\n",
      "False\n"
     ]
    }
   ],
   "source": [
    "#TOTALLY brute force. go through each one creating a hash table and compare hash tables. O(N) time and O(N) space\n",
    "str1 = 'dudewtfbbq'\n",
    "str1c = 'bbqduwtfde'\n",
    "str2 = 'lolwtfbbq'\n",
    "\n",
    "def get_counts(string):\n",
    "    table = {}\n",
    "    for char in string:\n",
    "        if char not in table:\n",
    "            table[char] = 1\n",
    "        else:\n",
    "            table[char] += 1\n",
    "    return table\n",
    "\n",
    "def string_permutation(str1, str2):\n",
    "    if len(str1) != len(str2):\n",
    "        return False\n",
    "    \n",
    "    table1 = get_counts(str1)  #takes O(N) time, O(N) space. assumes len(str1) == len(str2) == N.\n",
    "    table2 = get_counts(str2)  #takes the same as before. doesnt make sense for their lengths to not equal\n",
    "\n",
    "    if table1 == table2:     #takes O(N) time at worst case. checks keys O(1), and then checks vals at keys O(N)\n",
    "        return True\n",
    "    else:\n",
    "        return False\n",
    "\n",
    "print(string_permutation(str1, str1c))\n",
    "print(string_permutation(str1, str2))\n",
    "#actually runs in O(N), but uses O(N) space."
   ]
  },
  {
   "cell_type": "code",
   "execution_count": 66,
   "metadata": {},
   "outputs": [
    {
     "name": "stdout",
     "output_type": "stream",
     "text": [
      "True\n",
      "False\n"
     ]
    }
   ],
   "source": [
    "# sort both strings in place. go iterate through each one and compare values. O(N LG N) time, O(1) space\n",
    "def string_permutation_vsort(str1, str2):\n",
    "    \n",
    "    #strings that arent the same length cant be permutations of each other\n",
    "    if len(str1) != len(str2):\n",
    "        return False\n",
    "    \n",
    "    str1 = sorted(str1) #N LG N\n",
    "    str2 = sorted(str2) #plus another N LG N. still N LG N\n",
    "    \n",
    "    ''' # this loop is unnecessary when i can just do str1 == str2. still takes O(N) time though\n",
    "    i = 0\n",
    "    while i != len(str1): #plus another O(N). \n",
    "        if str1[i] != str2[i]:\n",
    "            return False\n",
    "        i += 1\n",
    "    '''\n",
    "    if str1 != str2:\n",
    "        return False\n",
    "                            #total is N LG N + N LG N + N = O(N LG N)\n",
    "    return True\n",
    "\n",
    "print(string_permutation_vsort(str1, str1c))\n",
    "print(string_permutation_vsort(str1, str2))"
   ]
  },
  {
   "cell_type": "code",
   "execution_count": 67,
   "metadata": {},
   "outputs": [
    {
     "name": "stdout",
     "output_type": "stream",
     "text": [
      "True\n",
      "False\n"
     ]
    }
   ],
   "source": [
    "table1 = {1: ['a','b'], 2:10 }\n",
    "table2 = {1: ['a','b'], 2:10 }\n",
    "table3 = {1: ['1', 1], 2:3}\n",
    "print(table1 == table2)\n",
    "print(table1 == table3)"
   ]
  },
  {
   "cell_type": "markdown",
   "metadata": {},
   "source": [
    "### 1.3: URLify: Write a method to replace all spaces in a string with '%20.' \n",
    "\n",
    "You may assume that the string has sufficient space at the end to hold the additional characters, and that you are given the \"true\" length of the string.\n",
    "\n",
    "input: \"Mr John Smith   \", 13\n",
    "\n",
    "output: \"Mr%20John%20Smith\"\n"
   ]
  },
  {
   "cell_type": "code",
   "execution_count": 26,
   "metadata": {},
   "outputs": [
    {
     "data": {
      "text/plain": [
       "'Mr%20John%20Smith'"
      ]
     },
     "execution_count": 26,
     "metadata": {},
     "output_type": "execute_result"
    }
   ],
   "source": [
    "#the question as worded is very trivial. O(N) time, however uses extra O(N) space. ideally want to use no extra space!\n",
    "def replace_space_with_percent20(string):\n",
    "    returner = ''\n",
    "    for char in string:\n",
    "        if char == ' ':\n",
    "            returner += '%20'\n",
    "        else:\n",
    "            returner += char\n",
    "    return returner\n",
    "INPUT = 'Mr John Smith'\n",
    "replace_space_with_percent20(INPUT)"
   ]
  },
  {
   "cell_type": "code",
   "execution_count": null,
   "metadata": {},
   "outputs": [],
   "source": [
    "[1, 2, 3, 4, 5] -> [1, 2, 3, 4, 5, None, None, None] -> [1, 2, 3, 4, 5, None, 4, 5] -> [1, 2, 3, None, None, None, 4, 5]\n",
    "\n",
    "[1, 2, 3, 4, 5] -> The above is actually wrong. we want this. -> [1, 2, None, None, None, 4, 5]"
   ]
  },
  {
   "cell_type": "code",
   "execution_count": 31,
   "metadata": {},
   "outputs": [
    {
     "name": "stdout",
     "output_type": "stream",
     "text": [
      "['M', 'r', ' ', 'J', 'o', 'h', 'n', ' ', 'S', 'm', 'i', 't', 'h']\n"
     ]
    },
    {
     "data": {
      "text/plain": [
       "\"['M', 'r', '%', '2', '0', 'J', 'o', 'h', 'n', '%', '2', '0', 'S', 'm', 'i', 't', 'h']\""
      ]
     },
     "execution_count": 31,
     "metadata": {},
     "output_type": "execute_result"
    }
   ],
   "source": [
    "#uses the space already implemented. O(1) space. howver, at cost of MUCHO time complexity. O(N^2), where c is number of\n",
    "    #imes the replacement item (here is just whitespace ' ') occurs.\n",
    "def shift_over_and_replace(n, replacement, arr):\n",
    "    '''\n",
    "    given an array, at the nth value in the array, shift all the other elements to \n",
    "    the right of the nth index k values to the right.\n",
    "    '''\n",
    "    k = len(replacement)\n",
    "    #record this so u can record last index of actual values before you append stuff\n",
    "    originalLength = len(arr)\n",
    "    \n",
    "    #first get some values at the end of the array so when we shift over it is not out of index\n",
    "    for i in range(k):\n",
    "        arr.append(None)\n",
    "    \n",
    "    #move all elements to the right of n, k elements to the right\n",
    "    j = len(arr) - 1\n",
    "    i = originalLength - 1\n",
    "    while i != n:\n",
    "        arr[j] = arr[i]\n",
    "        i -= 1\n",
    "        j -= 1\n",
    "    \n",
    "    #set values shifted equal to none instead of having old values there\n",
    "    i = n + 1\n",
    "    for a in range(k):\n",
    "        arr[i] = replacement[a]\n",
    "        i += 1\n",
    "    \n",
    "    del arr[n]\n",
    "        \n",
    "    return arr\n",
    "\n",
    "\n",
    "def replace_space_with_percent20_constSpace(string, replacement, charToReplace):\n",
    "    \n",
    "    originalLength = len(string)\n",
    "\n",
    "    i = 0\n",
    "    j = 0\n",
    "    while i != originalLength:\n",
    "        if string[j] == charToReplace:\n",
    "            shift_over_and_replace(j, replacement, string)\n",
    "            j += len(replacement) - len(charToReplace)\n",
    "        i += 1\n",
    "        j += 1\n",
    "        \n",
    "    return string\n",
    "\n",
    "\n",
    "\n",
    "INPUT = 'Mr John Smith'\n",
    "\n",
    "INPUTarr = list(INPUT)\n",
    "print(INPUTarr)\n",
    "str(replace_space_with_percent20_constSpace(INPUTarr, '%20', ' '))"
   ]
  },
  {
   "cell_type": "code",
   "execution_count": 32,
   "metadata": {},
   "outputs": [
    {
     "name": "stdout",
     "output_type": "stream",
     "text": [
      "['M', 'r', ' ', 'J', 'o', 'h', 'n', ' ', 'S', 'm', 'i', 't', 'h']\n",
      "['M', 'r', ' ', None, None, 'J', 'o', 'h', 'n', ' ', 'S', 'm', 'i', 't', 'h']\n"
     ]
    }
   ],
   "source": [
    "#old shiftover. good code though =)\n",
    "def shift_over(n, k, arr):\n",
    "    '''\n",
    "    given an array, at the nth value in the array, shift all the other elements to \n",
    "    the right of the nth index k values to the right.\n",
    "    '''\n",
    "\n",
    "    #record this so u can record last index of actual values before you append stuff\n",
    "    originalLength = len(arr)\n",
    "    \n",
    "    #first get some values at the end of the array so when we shift over it is not out of index\n",
    "    for i in range(k):\n",
    "        arr.append(None)\n",
    "    \n",
    "    #move all elements to the right of n, k elements to the right\n",
    "    j = len(arr) - 1\n",
    "    i = originalLength - 1\n",
    "    while i != n:\n",
    "        arr[j] = arr[i]\n",
    "        i -= 1\n",
    "        j -= 1\n",
    "    \n",
    "    #set values shifted equal to none instead of having old values there\n",
    "    i = n + 1\n",
    "    for a in range(k):\n",
    "        arr[i] = None\n",
    "        i += 1\n",
    "        \n",
    "    return arr\n",
    "INPUT = 'Mr John Smith'\n",
    "\n",
    "INPUTarr = list(INPUT)\n",
    "print(INPUTarr)\n",
    "print(shift_over(2, 2, INPUTarr))\n"
   ]
  },
  {
   "cell_type": "code",
   "execution_count": 33,
   "metadata": {
    "scrolled": true
   },
   "outputs": [
    {
     "name": "stderr",
     "output_type": "stream",
     "text": [
      "UsageError: Cell magic `%%` not found.\n"
     ]
    }
   ],
   "source": [
    "%% script false\n",
    "#dont run this. \n",
    "#xample of when iterating through an array and appending to it increasing the size of the array during the loop. infite.\n",
    "arr = [1, 2, 3]\n",
    "i = 0\n",
    "while i != len(arr):\n",
    "    print(len(arr))\n",
    "    arr.append('dudewtf')\n",
    "    i += 1\n",
    "arr"
   ]
  },
  {
   "cell_type": "code",
   "execution_count": 34,
   "metadata": {},
   "outputs": [],
   "source": [
    "# this is the 'nontrivial version'. tries to do EXACTLY what python.str.replace(old, new) does. INCOMPLETE. RV REVISIT.\n",
    "def str_replace(string, old, new):\n",
    "    i = 0\n",
    "    j = i #this is the beginning counter for the \n",
    "    atAnOld = False\n",
    "    while i != len(string):\n",
    "        if old[i] == string[i]:\n",
    "            atAnOld = True"
   ]
  },
  {
   "cell_type": "code",
   "execution_count": 35,
   "metadata": {},
   "outputs": [],
   "source": [
    "#BOOK SOLUTION: make two passes. first pass counts number of spaces. then in next pass, use num of spaces to signify\n",
    "    #end of 'new' string array. iterate from end to beginningg, and whnever a space is found, increment the index by more than\n",
    "    # just 1 decrementation, and then put the %20 in. if not space found, just move values over.\n",
    "# TIP RV: edit strings from end to beginning cuz we have an extra buffer at the end? (maybe in java/C++...) so we can \n",
    "# change chars without wworrying about overwriting\n",
    "\n",
    "# pretty much the same as our solution. still runs in O(N^2) either way. "
   ]
  },
  {
   "cell_type": "markdown",
   "metadata": {},
   "source": [
    "### 1.4: Palindrome Permutation: Given a string, write a function to check if it is a permutation of a palindrome.\n",
    "A palindrome is a word or phrase that is the same forwards and backwards. A permutation\n",
    "is a rea rrangement of letters. The palindrome does not need to be limited to just dictionary words.\n",
    "\n",
    "input: tact coa\n",
    "\n",
    "output true (permutations are 'taco cat', 'atco cta', etc)\n"
   ]
  },
  {
   "cell_type": "code",
   "execution_count": 37,
   "metadata": {},
   "outputs": [
    {
     "name": "stdout",
     "output_type": "stream",
     "text": [
      "False\n",
      "True\n"
     ]
    }
   ],
   "source": [
    "# a string is palindromable IFF\n",
    "    #if the length is even, then there exists zero character counts that are noneven \n",
    "    #if the length is odd, then there exists exactly one noneven character count \n",
    "def get_counts(string):\n",
    "    table = {}\n",
    "    for char in string:\n",
    "        if char not in table:\n",
    "            table[char] = 1\n",
    "        else:\n",
    "            table[char] += 1\n",
    "    return table\n",
    "    \n",
    "def is_palindromable(string):\n",
    "    table = get_counts(string) #O(N)\n",
    "    if len(string) % 2 == 0:  \n",
    "        #the string has an even number of values\n",
    "        for count in table.values():\n",
    "            if count % 2 != 0:\n",
    "                return False\n",
    "        return True\n",
    "    else:\n",
    "        #the string has an odd number of values. there \n",
    "        odd_found = False\n",
    "        for count in table.values():\n",
    "            if count % 2 != 0:\n",
    "                if not odd_found:\n",
    "                    odd_found = True\n",
    "                else:\n",
    "                    return False\n",
    "        if odd_found:\n",
    "            return True\n",
    "        else:\n",
    "            return False\n",
    "        \n",
    "nopal = 'aaasdfhjl;hgn;slkjnhfv==='\n",
    "pal = 'catcato'\n",
    "print(is_palindromable(nopal))\n",
    "print(is_palindromable(pal))\n",
    "\n",
    "#runs in O(N) with O(N) space"
   ]
  },
  {
   "cell_type": "code",
   "execution_count": null,
   "metadata": {},
   "outputs": [],
   "source": [
    "#BOOk solution: \n",
    "    #book soln 1 is exactly like ours\n",
    "    #book soln 2 says to check the number of odd counts as we go along, slightly faster. still O(N) though.\n",
    "    #book soln 3 says instead of counting the counts, we have a switch OFF and ON signifying odd or not. still O(N)."
   ]
  },
  {
   "cell_type": "markdown",
   "metadata": {},
   "source": [
    "### 1.5: One Away \n",
    "There are three types of edits that can be performed on strings: insert a character,\n",
    "remove a character, or replace a character. Given two strings, write a function to check if they are\n",
    "one edit (or zero edits) away.\n",
    "\n",
    "example:\n",
    "\n",
    "pale, ple -> True\n",
    "\n",
    "pales, pale -> True\n",
    "\n",
    "pale, bale -> True\n",
    "\n",
    "pale, bake -> False"
   ]
  },
  {
   "cell_type": "code",
   "execution_count": 50,
   "metadata": {},
   "outputs": [
    {
     "name": "stdout",
     "output_type": "stream",
     "text": [
      "True\n",
      "True\n",
      "True\n",
      "False\n"
     ]
    }
   ],
   "source": [
    "#modularized (EWWWWWW CLEAN CODE)\n",
    "\n",
    "def replacement_one_away(str1, str2):\n",
    "    ''' \n",
    "    takes in two strings same length and determines if one away.\n",
    "    '''\n",
    "    replacementFound = False\n",
    "    i = 0\n",
    "    while(i != len(str1)):\n",
    "        if str1[i] != str2[i]:\n",
    "            if not replacementFound:\n",
    "                replacementFound = True\n",
    "            else:\n",
    "                return False\n",
    "        i += 1\n",
    "    return True\n",
    "\n",
    "\n",
    "\n",
    "def get_bigger_smaller(str1, str2):\n",
    "    \n",
    "    bigger = None\n",
    "    smaller = None\n",
    "    if len(str1) > len(str2): #str1 bigger\n",
    "        bigger = str1\n",
    "        smaller = str2\n",
    "    else: #str2 bigger\n",
    "        bigger = str2\n",
    "        smaller = str1\n",
    "    return bigger, smaller\n",
    "\n",
    "\n",
    "\n",
    "def insert_delete_one_away(str1, str2):\n",
    "    #figure out which one is bigger first.\n",
    "    bigger, smaller = get_bigger_smaller(str1, str2)\n",
    "    \n",
    "    delete_replace_found = False\n",
    "    i = 0\n",
    "    j = 0\n",
    "    while i != len(smaller):\n",
    "        if smaller[i] != bigger[j]:\n",
    "            if not delete_replace_found:\n",
    "                delete_replace_found = True\n",
    "                j += 1\n",
    "                if smaller[i] != bigger[j]:\n",
    "                    return False\n",
    "            else:\n",
    "                return False\n",
    "        i += 1\n",
    "        j += 1\n",
    "\n",
    "    return True\n",
    "\n",
    "\n",
    "\n",
    "def one_away(str1, str2):\n",
    "    \n",
    "    #the strings are the same so they are zero edits away.\n",
    "    if str1 == str2:\n",
    "        print('zero edits away!')\n",
    "        return True\n",
    "    \n",
    "    #replacement case (potential):\n",
    "    if len(str1) == len(str2):\n",
    "        return replacement_one_away(str1, str2)\n",
    "    \n",
    "    #check if they are one away for the deletion/insertion - have to be +1/-1 lengths.\n",
    "    if (len(str1) + 1 == len(str2)) or (len(str2) + 1 == len(str1)):\n",
    "        return insert_delete_one_away(str1, str2)\n",
    "\n",
    "    return False\n",
    "\n",
    "\n",
    "\n",
    "print(one_away('pale', 'ple')) #-> True\n",
    "\n",
    "print(one_away('pales', 'pale')) #-> True\n",
    "\n",
    "print(one_away('pale', 'bale')) # -> True\n",
    "\n",
    "print(one_away('pale', 'bake')) #-> False"
   ]
  },
  {
   "cell_type": "code",
   "execution_count": 48,
   "metadata": {},
   "outputs": [
    {
     "name": "stdout",
     "output_type": "stream",
     "text": [
      "True\n",
      "True\n",
      "True\n",
      "False\n"
     ]
    }
   ],
   "source": [
    "#not modularized =))))))))))))))))))))\n",
    "def one_away(str1, str2):\n",
    "    \n",
    "    #the strings are the same so they are zero edits away.\n",
    "    if str1 == str2:\n",
    "        print('zero edits away!')\n",
    "        return True\n",
    "    \n",
    "    #replacement case (potential):\n",
    "    if len(str1) == len(str2):\n",
    "        replacementFound = False\n",
    "        i = 0\n",
    "        while(i != len(str1)):\n",
    "            if str1[i] != str2[i]:\n",
    "                if not replacementFound:\n",
    "                    replacementFound = True\n",
    "                else:\n",
    "                    return False\n",
    "            i += 1\n",
    "        return True\n",
    "    \n",
    "    #check if they are one away for the deletion/insertion - have to be +1/-1 lengths.\n",
    "    if (len(str1) + 1 == len(str2)) or (len(str2) + 1 == len(str1)):\n",
    "        #figure out which one is bigger first.\n",
    "        bigger = None\n",
    "        smaller = None\n",
    "        if len(str1) > len(str2): #str1 bigger\n",
    "            bigger = str1\n",
    "            smaller = str2\n",
    "        else: #str2 bigger\n",
    "            bigger = str2\n",
    "            smaller = str1\n",
    "            \n",
    "        delete_replace_found = False\n",
    "        i = 0\n",
    "        j = 0\n",
    "        while i != len(smaller):\n",
    "            if smaller[i] != bigger[j]:\n",
    "                if not delete_replace_found:\n",
    "                    delete_replace_found = True\n",
    "                    j += 1\n",
    "                    if smaller[i] != bigger[j]:\n",
    "                        return False\n",
    "                else:\n",
    "                    return False\n",
    "            i += 1\n",
    "            j += 1\n",
    "        \n",
    "        return True\n",
    "\n",
    "    return False\n",
    "\n",
    "\n",
    "print(one_away('pale', 'ple')) #-> True\n",
    "\n",
    "print(one_away('pales', 'pale')) #-> True\n",
    "\n",
    "print(one_away('pale', 'bale')) # -> True\n",
    "\n",
    "print(one_away('pale', 'bake')) #-> False"
   ]
  },
  {
   "cell_type": "code",
   "execution_count": 49,
   "metadata": {},
   "outputs": [],
   "source": [
    "#BOOK SOLUTION\n",
    "    #-is pretty much the same as mine. logistically a little different but who cares. every soln takes O(N)."
   ]
  },
  {
   "cell_type": "markdown",
   "metadata": {},
   "source": [
    "### 1.6: String Compression:\n",
    "Implement a method to perform basic string compression using the counts\n",
    "of repeated characters. For example, the string aabcccccaaa would become a2b1c5a3. If the\n",
    "\"compressed\" string would not become smaller than the original string, your method should return\n",
    "the original string. You can assume the string has only uppercase and lowercase letters (a - z)."
   ]
  },
  {
   "cell_type": "code",
   "execution_count": 55,
   "metadata": {},
   "outputs": [
    {
     "name": "stdout",
     "output_type": "stream",
     "text": [
      "a2b1c5a3\n",
      "abcdefg\n"
     ]
    }
   ],
   "source": [
    "def string_compression(string):\n",
    "    returner = ''\n",
    "    \n",
    "    counter = 0\n",
    "    current = None\n",
    "    for character in string:\n",
    "        if current == None:\n",
    "            current = character\n",
    "            counter = 1\n",
    "        else:\n",
    "            if character != current: \n",
    "                returner += current\n",
    "                returner += str(counter)\n",
    "                current = character\n",
    "                counter = 1 \n",
    "            else:\n",
    "                counter += 1\n",
    "                \n",
    "    returner.join(current)\n",
    "    returner.join(str(counter)\n",
    "    \n",
    "    if len(returner) >= len(string):\n",
    "        return string\n",
    "    else:\n",
    "        return returner\n",
    "\n",
    "s1 = 'aabcccccaaa' #should yield ideal output =)\n",
    "s2 = 'abcdefg' #obviously will yield original string\n",
    "print(string_compression(s1))\n",
    "print(string_compression(s2))\n",
    "\n",
    "#takes up O(N) time and O(N) space. \n",
    "    #ACTUALLY ITS SLOWER..... READ BELOW"
   ]
  },
  {
   "cell_type": "code",
   "execution_count": 56,
   "metadata": {},
   "outputs": [],
   "source": [
    "# BOOK SOLUTION: same as our solution for the FIRST solution given. \n",
    "    # O(p + k^2). p is size of original string, k is number of character seequences. \n",
    "        #string concatenation works in O(N^2) time?......\n",
    "            # use the right string class thingymajigger"
   ]
  },
  {
   "cell_type": "markdown",
   "metadata": {},
   "source": [
    "https://stackoverflow.com/questions/37133547/time-complexity-of-string-concatenation-in-python?noredirect=1&lq=1"
   ]
  },
  {
   "cell_type": "markdown",
   "metadata": {},
   "source": [
    "### 1.7: Rotate Matrix: \n",
    "Given an image represented by an NxN matrix, where each pixel in the image is 4\n",
    "bytes, write a method to rotate the image by 90 degrees. (an you do this in place?"
   ]
  },
  {
   "cell_type": "markdown",
   "metadata": {},
   "source": [
    "# DO NOT USE N * [0] TO GENERATE AN ARRAY QUICKLY JUST DONT"
   ]
  },
  {
   "cell_type": "markdown",
   "metadata": {},
   "source": [
    "### instead, use list comprehension! which i dont fully understand =)"
   ]
  },
  {
   "cell_type": "markdown",
   "metadata": {},
   "source": [
    "#### try to draw it out and see what index"
   ]
  },
  {
   "cell_type": "code",
   "execution_count": 139,
   "metadata": {},
   "outputs": [
    {
     "data": {
      "text/plain": [
       "array([[ 7,  4,  1],\n",
       "       [ 8,  5,  2],\n",
       "       [ 9,  6,  3],\n",
       "       [-3, -2, -1]])"
      ]
     },
     "execution_count": 139,
     "metadata": {},
     "output_type": "execute_result"
    }
   ],
   "source": [
    "#thanks alot python408 for accidently making me read ur idea =(. N is the length of a side of the square matrix\n",
    "    # the i'th row in the original matrix becomes the N-1 - ith column in the rotated matrix (rotated clockwise)\n",
    "\n",
    "\n",
    "\n",
    "def rotate_matrix(matrix):\n",
    "    '''\n",
    "    # we assume we are rotating clockwise\n",
    "    '''\n",
    "    if len(matrix) == 0:\n",
    "        return matrix #its empty breh\n",
    "    \n",
    "    originalRows = len(matrix) #rows of matrix -> going to be cols for return matrix\n",
    "    originalCols = len(matrix[0]) #cols of matrix -> going to be rows of return matrix\n",
    "    \n",
    "    rows = originalCols\n",
    "    cols = originalRows\n",
    "\n",
    "    return_matrix = [[None for i in range(cols)] for j in range(rows)]\n",
    "    \n",
    "    ci2 = cols - 1\n",
    "    for ri in range(originalRows):\n",
    "        ri2 = 0\n",
    "        for ci in range(originalCols):\n",
    "            return_matrix[ri2][ci2] = matrix[ri][ci]\n",
    "            ri2 += 1\n",
    "        ci2 -= 1\n",
    "    \n",
    "    return return_matrix\n",
    "\n",
    "\n",
    "np.array(rotate_matrix([[1, 2, 3, -1],\n",
    "                        [4, 5, 6, -2],\n",
    "                        [7, 8, 9, -3]]))"
   ]
  },
  {
   "cell_type": "markdown",
   "metadata": {},
   "source": [
    "### 1.8: Zero Matrix: \n",
    "Write an algorithm such that if an element in an MxN matrix is 0, its entire row and\n",
    "column are set to O."
   ]
  },
  {
   "cell_type": "code",
   "execution_count": 159,
   "metadata": {},
   "outputs": [
    {
     "name": "stdout",
     "output_type": "stream",
     "text": [
      "3\n",
      "7\n"
     ]
    }
   ],
   "source": [
    "for x, y in {(1, 2), (3, 4)}:\n",
    "    print (x + y)"
   ]
  },
  {
   "cell_type": "markdown",
   "metadata": {},
   "source": [
    "#### KEY FINDING: need two passes or everything gets set to zero"
   ]
  },
  {
   "cell_type": "code",
   "execution_count": 165,
   "metadata": {},
   "outputs": [
    {
     "data": {
      "text/plain": [
       "array([[ 1,  2,  0,  9],\n",
       "       [ 0,  0,  0,  0],\n",
       "       [ 7,  8,  0, -3]])"
      ]
     },
     "execution_count": 165,
     "metadata": {},
     "output_type": "execute_result"
    }
   ],
   "source": [
    "def set_cols_and_rows_to_zero(matrix, row_index, col_index):\n",
    "    \n",
    "    for i in range(len(matrix)):\n",
    "        matrix[i][col_index] = 0\n",
    "    \n",
    "    for j in range(len(matrix[0])):\n",
    "        matrix[row_index][j] = 0\n",
    "    \n",
    "    return matrix\n",
    "\n",
    "def zero_matrix(matrix):\n",
    "    zero_indices = set() #set of tuple indices that are already been set to zero or visited\n",
    "    for i in range(len(matrix)):   #this nested loop costs O(N*M)\n",
    "        for j in range(len(matrix[0])):\n",
    "            if matrix[i][j] == 0:\n",
    "                zero_indices.add((i, j))\n",
    "                \n",
    "    for row, col in zero_indices: # lets say that there are Z indices with zeros. \n",
    "        set_cols_and_rows_to_zero(matrix, row, col) # costs Z * (M + N)\n",
    "    \n",
    "    return matrix\n",
    "\n",
    "matrix = [[1, 2, 3, 9],\n",
    "          [4, 1, 0, -2],\n",
    "          [7, 8, 9, -3]]\n",
    "np.array(zero_matrix(matrix))\n",
    "\n",
    "\n",
    "#total cost runs in O(N*M + Z*(M+N)) time. Costs O(Z) space. "
   ]
  },
  {
   "cell_type": "code",
   "execution_count": 166,
   "metadata": {},
   "outputs": [],
   "source": [
    "#BOOK SOLUTION:\n",
    "    #book does the the same thing pretty much for their 'first' solution, \n",
    "    #except they dont use a set and use like boolean arrays (slighty)\n",
    "    # more space efficient\n",
    "    \n",
    "    #book's secdnary solution using O(1) additional space unsteead of O(Z)\n",
    "    #or O(N) is really inelegant and exists only to satisfy optimization \n",
    "    #purposes and really isnt clean code\n",
    "        # they have some O(1) boolean counters to encompass the data in the\n",
    "        #first row and first column. after iterating through both, update \n",
    "        #this counters, and then use the first row and column to keeep track\n",
    "        #of zero indices throughout the rest of the matrix/2D array.\n",
    "    "
   ]
  },
  {
   "cell_type": "markdown",
   "metadata": {},
   "source": [
    "### 1.9: String Rotation: \n",
    "Assume you have a method isSubstring which checks if one word is a substring\n",
    "of another. Given two strings, s1 and s2, write code to check if s2 is a rotation of s1 using only one\n",
    "call to isSubstring (e.g., \"waterbottle\" is a rotation of\"erbottlewat\")."
   ]
  },
  {
   "cell_type": "code",
   "execution_count": 170,
   "metadata": {},
   "outputs": [
    {
     "data": {
      "text/plain": [
       "True"
      ]
     },
     "execution_count": 170,
     "metadata": {},
     "output_type": "execute_result"
    }
   ],
   "source": [
    "'dude' in 'dudewtf'"
   ]
  },
  {
   "cell_type": "code",
   "execution_count": 178,
   "metadata": {},
   "outputs": [
    {
     "data": {
      "text/plain": [
       "True"
      ]
     },
     "execution_count": 178,
     "metadata": {},
     "output_type": "execute_result"
    }
   ],
   "source": [
    "# SUPER SLOW (not space wise, but you get the point (time wise dude.))\n",
    "def isRotation(str1, str2):\n",
    "    \n",
    "    if len(str1) != len(str2): #O(N)\n",
    "        return False # you cant be a rotation if you arent the same length\n",
    "    \n",
    "    str1 = list(str1) #O(N)\n",
    "    str2 = list(str2) #O(N)\n",
    "    \n",
    "    N = len(str1) #O(1)\n",
    "    \n",
    "    for i in range(N): #O(N)\n",
    "        if str1 == str2: #O(N), so really O(N^2)\n",
    "            return True\n",
    "        str2.append(str2[0]) #O(N), so really O(N^2)\n",
    "        del str2[0] #O(N), so really O(N^2)\n",
    "    \n",
    "    return False\n",
    "# complexity is then O(N^2) time, O(N) space\n",
    "isRotation('waterbottle', 'erbottlewat')"
   ]
  },
  {
   "cell_type": "code",
   "execution_count": 182,
   "metadata": {},
   "outputs": [
    {
     "data": {
      "text/plain": [
       "True"
      ]
     },
     "execution_count": 182,
     "metadata": {},
     "output_type": "execute_result"
    }
   ],
   "source": [
    "# BOOK SOLUTION: I ACTUALLY LIKE IT THIS TIME AND DCOULDNT THINK OF IT\n",
    "    # TO SAVE MY LIFE \n",
    "\n",
    "#take one of the input strings and append it to itself. Then, the two strings\n",
    "#are rotations of each other IFF thee other input string is a subset of the\n",
    "#newly generated self appended one. \n",
    "\n",
    "# ^^^ took a lot of creativity.\n",
    "\n",
    "def book_isRotation(str1, str2):\n",
    "    if len(str1) != len(str2): #O(1), lengths are O(1) to access. \n",
    "        return False\n",
    "    if str2 in str1+str1: #O(N + N). str1+str1 is O(N), set contain is O(N)\n",
    "        return True\n",
    "    return False\n",
    "\n",
    "\n",
    "book_isRotation('waterbottle', 'erbottlewat')\n",
    "# time complexity is O(N), space is O(1)"
   ]
  },
  {
   "cell_type": "markdown",
   "metadata": {},
   "source": [
    "## Chapter 2: linked lists\n",
    "- singly linked lists\n",
    "- doubly linked lists\n",
    "- circular linked lists vs traditional\n",
    "- sentinel/dummy node\n",
    "- O(N) access (gotta iterate through all the nodes =( )\n",
    "- O(1) add/delete at element k\n"
   ]
  },
  {
   "cell_type": "markdown",
   "metadata": {},
   "source": [
    "- verify list types\n",
    "- check null, update head/tail as ncessary\n",
    "- use runner pointer\n",
    "- might wanna use recursion (idk how this works lol)"
   ]
  },
  {
   "cell_type": "code",
   "execution_count": 37,
   "metadata": {},
   "outputs": [
    {
     "name": "stdout",
     "output_type": "stream",
     "text": [
      "3\n",
      "5\n",
      "8\n",
      "5\n",
      "10\n",
      "2\n",
      "1\n",
      "------\n",
      "3\n",
      "8\n",
      "10\n",
      "2\n",
      "1\n"
     ]
    }
   ],
   "source": [
    "from copy import deepcopy\n",
    "\n",
    "class Node:\n",
    "    def __init__(self, key=None, Next=None):\n",
    "        self.key = key\n",
    "        self.next = Next\n",
    "\n",
    "def delete_k_nodes(head, key, k=1):\n",
    "    \n",
    "    counter = 0\n",
    "    dummy = Node()\n",
    "    dummy.next = head\n",
    "    trailing = Node()\n",
    "    trailing.next = dummy\n",
    "    node = head\n",
    "    \n",
    "    while node != None and counter != k:\n",
    "        if node.key == key:\n",
    "            counter += 1\n",
    "            trailing.next.next = node.next\n",
    "            node.next = None\n",
    "            if node == head:\n",
    "                head = trailing.next.next\n",
    "            node = trailing.next.next\n",
    "            continue\n",
    "        node = node.next\n",
    "        trailing.next = trailing.next.next\n",
    "    \n",
    "    return head\n",
    "\n",
    "def print_LL(head):\n",
    "    node = head\n",
    "    while node != None:\n",
    "        print(node.key)\n",
    "        node = node.next\n",
    "        \n",
    "def generate_LL(List):\n",
    "    if len(List) == 0:\n",
    "        return None\n",
    "    if len(List) == 1:\n",
    "        return List[0]\n",
    "    \n",
    "    head = List[0]\n",
    "    current = head\n",
    "    for node in List[1:]:\n",
    "        current.next = node\n",
    "        current = current.next\n",
    "        \n",
    "    return head\n",
    "\n",
    "#generate test nodes data\n",
    "n3 = Node(3)\n",
    "n5 = Node(5)\n",
    "n8 = Node(8)\n",
    "n5_2 = Node(5)\n",
    "n10 = Node(10)\n",
    "n2 = Node(2)\n",
    "n1 = Node(1)\n",
    "#connect test node data into LL\n",
    "connected3 = generate_LL([n3, n5, n8, n5_2, n10, n2, n1])\n",
    "#print test LL\n",
    "print_LL(connected3)\n",
    "print('------')\n",
    "#copy original test created LL before we delete stuff =)\n",
    "LL = deepcopy(connected3)\n",
    "#delete k nodes from the LL and print it to show that we've deleted them.\n",
    "conn3_del5_1 = delete_k_nodes(connected3, 5, 2)\n",
    "print_LL(connected3)"
   ]
  },
  {
   "cell_type": "markdown",
   "metadata": {},
   "source": [
    "### 2.1: Remove dups:\n",
    "write code to remove duplicates from an unsorted linked list\n",
    "How would you solve this without a temporary buffer (aka no space extra used)"
   ]
  },
  {
   "cell_type": "markdown",
   "metadata": {},
   "source": [
    "assuming that they want to delete the dups that occur after occurrance. example: 1, 2, 3, 2, 4, 5, 3 -> 1, 2, 3, 4, 5"
   ]
  },
  {
   "cell_type": "markdown",
   "metadata": {},
   "source": [
    "#### my original solution, with buffer. O(N) space and time"
   ]
  },
  {
   "cell_type": "code",
   "execution_count": 41,
   "metadata": {},
   "outputs": [
    {
     "name": "stdout",
     "output_type": "stream",
     "text": [
      "3\n",
      "5\n",
      "8\n",
      "5\n",
      "10\n",
      "5\n",
      "1\n",
      "----\n",
      "3\n",
      "5\n",
      "8\n",
      "10\n",
      "1\n"
     ]
    }
   ],
   "source": [
    "#brute force - use extra space. go through list twice, mark dups on first\n",
    "    #on second, delete dups. \n",
    "def get_counts(head):\n",
    "    table = {}\n",
    "    node = head\n",
    "    while node != None:\n",
    "        if node.key not in table:\n",
    "            table[key] = 1\n",
    "        else:\n",
    "            table[key] += 1\n",
    "        node = node.next\n",
    "    return table\n",
    "    \n",
    "def delete_dups(head):\n",
    "    #counts = get_counts(head) #dontneed to do this.\n",
    "    \n",
    "    #figure out what are the possible keys in this LL\n",
    "    Set = set()\n",
    "    node = head\n",
    "    while node != None:\n",
    "        if node.key not in Set:\n",
    "            Set.add(node.key)\n",
    "        node = node.next\n",
    "    \n",
    "    #initialize a hash table to count how many times seen this key so far\n",
    "    counters = {}\n",
    "    for key in Set:\n",
    "        counters[key] = 0\n",
    "    \n",
    "    #initialize parsing nodes/pointers/stuff\n",
    "    dummy = Node()\n",
    "    dummy.next = head\n",
    "    trailing = Node()\n",
    "    trailing.next = dummy\n",
    "    node = head\n",
    "    \n",
    "    while node != None:\n",
    "        if counters[node.key] == 0:\n",
    "            counters[node.key] += 1\n",
    "        elif counters[node.key] > 0:\n",
    "            trailing.next.next = node.next\n",
    "            node.next = None\n",
    "            if node == head:\n",
    "                head = trailing.next.next\n",
    "            node = trailing.next.next\n",
    "            continue\n",
    "        trailing.next = trailing.next.next\n",
    "        node = node.next\n",
    "        \n",
    "    return head\n",
    "\n",
    "n3 = Node(3)\n",
    "n5 = Node(5)\n",
    "n8 = Node(8)\n",
    "n5_2 = Node(5)\n",
    "n10 = Node(10)\n",
    "n2 = Node(5)\n",
    "n1 = Node(1)\n",
    "#connect test node data into LL\n",
    "connected3 = generate_LL([n3, n5, n8, n5_2, n10, n2, n1])\n",
    "#print test LL\n",
    "print_LL(connected3)\n",
    "print('----')\n",
    "print_LL(delete_dups(connected3))"
   ]
  },
  {
   "cell_type": "markdown",
   "metadata": {},
   "source": [
    "#### book solution with buffer. O(N) space, O(N) time"
   ]
  },
  {
   "cell_type": "code",
   "execution_count": 42,
   "metadata": {},
   "outputs": [
    {
     "name": "stdout",
     "output_type": "stream",
     "text": [
      "3\n",
      "5\n",
      "8\n",
      "5\n",
      "10\n",
      "5\n",
      "1\n",
      "----\n",
      "3\n",
      "5\n",
      "8\n",
      "10\n",
      "1\n"
     ]
    }
   ],
   "source": [
    "#BOOK SOLUTION - WITH a buffer - same as ours, but you dont need the counts,\n",
    "    #you only need the set() hashing. (duh)\n",
    "def delete_dups(head):\n",
    "\n",
    "    dummy = Node()\n",
    "    dummy.next = head\n",
    "    trailing = Node()\n",
    "    trailing.next = dummy\n",
    "    node = head\n",
    "    Set = set()\n",
    "    \n",
    "    while node != None:\n",
    "        if node.key not in Set:\n",
    "            Set.add(node.key)\n",
    "        else:\n",
    "            trailing.next.next = node.next\n",
    "            node.next = None\n",
    "            if node == head:\n",
    "                head = trailing.next.next\n",
    "            node = trailing.next.next\n",
    "            continue\n",
    "        trailing.next = trailing.next.next\n",
    "        node = node.next\n",
    "        \n",
    "    return head\n",
    "\n",
    "n3 = Node(3)\n",
    "n5 = Node(5)\n",
    "n8 = Node(8)\n",
    "n5_2 = Node(5)\n",
    "n10 = Node(10)\n",
    "n2 = Node(5)\n",
    "n1 = Node(1)\n",
    "#connect test node data into LL\n",
    "connected3 = generate_LL([n3, n5, n8, n5_2, n10, n2, n1])\n",
    "#print test LL\n",
    "print_LL(connected3)\n",
    "print('----')\n",
    "print_LL(delete_dups(connected3))"
   ]
  },
  {
   "cell_type": "markdown",
   "metadata": {},
   "source": [
    "#### my solution, no buffer - book's no buffer soln is pretty much the same. O(N^2) time, O(1) space"
   ]
  },
  {
   "cell_type": "code",
   "execution_count": 43,
   "metadata": {},
   "outputs": [
    {
     "name": "stdout",
     "output_type": "stream",
     "text": [
      "3\n",
      "5\n",
      "8\n",
      "5\n",
      "10\n",
      "5\n",
      "1\n",
      "----\n",
      "3\n",
      "5\n",
      "8\n",
      "10\n",
      "1\n"
     ]
    }
   ],
   "source": [
    "# no buffer allowed \n",
    "    #only thing i can think of is go N^2. \n",
    "def delete_dups(head):\n",
    "    trailing = Node()\n",
    "    current = head\n",
    "\n",
    "    while current != None:\n",
    "        node = current.next\n",
    "        trailing.next = current\n",
    "        while node != None:\n",
    "            if node.key == current.key and current != node:\n",
    "                trailing.next.next = node.next\n",
    "                node.next = None\n",
    "                node = trailing.next.next\n",
    "                continue\n",
    "            \n",
    "            node = node.next\n",
    "            trailing.next = trailing.next.next\n",
    "        \n",
    "        current = current.next\n",
    "    \n",
    "    return head\n",
    "\n",
    "n3 = Node(3)\n",
    "n5 = Node(5)\n",
    "n8 = Node(8)\n",
    "n5_2 = Node(5)\n",
    "n10 = Node(10)\n",
    "n2 = Node(5)\n",
    "n1 = Node(1)\n",
    "#connect test node data into LL\n",
    "connected3 = generate_LL([n3, n5, n8, n5_2, n10, n2, n1])\n",
    "#print test LL\n",
    "print_LL(connected3)\n",
    "print('----')\n",
    "print_LL(delete_dups(connected3))"
   ]
  },
  {
   "cell_type": "code",
   "execution_count": null,
   "metadata": {},
   "outputs": [],
   "source": [
    "# BOOKS NO BUFFER SOLN IS PRETTY MUCH THE SAME"
   ]
  },
  {
   "cell_type": "markdown",
   "metadata": {},
   "source": [
    "### 2.2: Return kth to last:\n",
    "implement an algorithm to find the kth to last element of SLL"
   ]
  },
  {
   "cell_type": "markdown",
   "metadata": {},
   "source": [
    "#### my original soln. like EPI. O(1) space O(n) time"
   ]
  },
  {
   "cell_type": "code",
   "execution_count": 48,
   "metadata": {},
   "outputs": [
    {
     "name": "stdout",
     "output_type": "stream",
     "text": [
      "3\n",
      "5\n",
      "8\n",
      "5\n",
      "10\n",
      "5\n",
      "1\n",
      "----\n",
      "5\n"
     ]
    }
   ],
   "source": [
    "#already did this problem in EPI. This is the fastest method.\n",
    "def kth_to_last(head, k):\n",
    "    '''\n",
    "    if k > N, returns dummy node. if-statemented so returns head instead.\n",
    "    if k == N, returns head\n",
    "    if k == 1, returns tail node\n",
    "    if k == 0, returns None\n",
    "    '''\n",
    "    dummy = Node()\n",
    "    dummy.next = head\n",
    "    trailing = Node()\n",
    "    trailing.next = dummy\n",
    "    node = dummy\n",
    "    \n",
    "    counter = 0\n",
    "    while node != None and counter != k:\n",
    "        counter += 1\n",
    "        node = node.next\n",
    "    \n",
    "    while node != None:\n",
    "        node = node.next\n",
    "        trailing.next = trailing.next.next\n",
    "    \n",
    "    if trailing.next == dummy:\n",
    "        return head\n",
    "    \n",
    "    return trailing.next\n",
    "\n",
    "n3 = Node(3)\n",
    "n5 = Node(5)\n",
    "n8 = Node(8)\n",
    "n5_2 = Node(5)\n",
    "n10 = Node(10)\n",
    "n2 = Node(5)\n",
    "n1 = Node(1)\n",
    "LL = generate_LL([n3, n5, n8, n5_2, n10, n2, n1])\n",
    "print_LL(LL)\n",
    "print('----')\n",
    "print(kth_to_last(LL, 2).key)"
   ]
  },
  {
   "cell_type": "code",
   "execution_count": 51,
   "metadata": {},
   "outputs": [],
   "source": [
    "# book is following same convention. if k = 1, returns last element.\n",
    "\n",
    "#BOOK SOLN 1: if linked list size is known. its not. lol. dumb AF\n",
    "\n",
    "#BOOK SOLN 2: recursion\n",
    "#recursion 1: dont return the element and just print it.\n",
    "def printKthToLast(head, k):\n",
    "    if head == None:\n",
    "        return 0\n",
    "    index = printKthToLast(head.next, k) + 1\n",
    "    if index == k:\n",
    "        print(k +'.data = ' + head.key)\n",
    "    \n",
    "    return index\n",
    "\n",
    "#recursion 2: USE C++? LOL? pass values by reference, return node ctr pass ptr\n",
    "\n",
    "#recursion 3: use a wrappeer class?\n",
    "\n",
    "#i have no idea what they want for recursion 2-3  and dont care\n",
    "\n",
    "#BOOK SOLN 3: same as mine =)"
   ]
  },
  {
   "cell_type": "markdown",
   "metadata": {},
   "source": [
    "### 2.3: Delete middle node:\n",
    "Implement an algorithm to delete a node in the middle (i.e., any node but\n",
    "the first and last node, not necessarily the exact middle) of a singly linked list, given only access to\n",
    "that node.\n",
    "EXAMPLE\n",
    "Input: the node c from the linked list a - >b- >c - >d - >e- >f\n",
    "Result: nothing is returned, but the new linked list looks like a - >b- >d - >e- >f"
   ]
  },
  {
   "cell_type": "markdown",
   "metadata": {},
   "source": [
    "# i read soln after like 5 mins =(\n",
    "given the node to delete, say node i, from the current node to the end of the LL, copy the data from i+1 into i. Then disconnect the lkast node from the list.\n",
    "\n",
    "TEHCNICALLY this isnt deleting the node. it is renaming the data."
   ]
  },
  {
   "cell_type": "code",
   "execution_count": 53,
   "metadata": {
    "scrolled": true
   },
   "outputs": [
    {
     "name": "stdout",
     "output_type": "stream",
     "text": [
      "3\n",
      "5\n",
      "8\n",
      "5\n",
      "10\n",
      "5\n",
      "1\n",
      "----\n",
      "3\n",
      "5\n",
      "8\n",
      "5\n",
      "10\n",
      "1\n"
     ]
    }
   ],
   "source": [
    "def delete_middle(node):\n",
    "\n",
    "    holder = None\n",
    "    \n",
    "    if node.next.next == None:\n",
    "        holder = node\n",
    "    \n",
    "    while node.next != None:\n",
    "        if node.next.next == None:\n",
    "            holder = node\n",
    "        node.key = node.next.key\n",
    "        node = node.next\n",
    "        \n",
    "    holder.next = None\n",
    "    \n",
    "    return\n",
    "\n",
    "n3 = Node(3)\n",
    "n5 = Node(5)\n",
    "n8 = Node(8) # this will get deleted.\n",
    "n5_2 = Node(5)\n",
    "n10 = Node(10)\n",
    "n2 = Node(5)\n",
    "n1 = Node(1)\n",
    "LL = generate_LL([n3, n5, n8, n5_2, n10, n2, n1])\n",
    "print_LL(LL)\n",
    "print('----')\n",
    "\n",
    "iterator = LL\n",
    "for k in range(5):\n",
    "    iterator = iterator.next\n",
    "    \n",
    "delete_middle(iterator)\n",
    "\n",
    "print_LL(LL)\n"
   ]
  },
  {
   "cell_type": "markdown",
   "metadata": {},
   "source": [
    "### 2.4: partition:\n",
    "Write code to partition a linked list around a value x, such that all nodes less than x come\n",
    "before all nodes greater than or equal to x. lf x is contained within the list, the values of x only need\n",
    "to be after the elements less than x (see below). The partition element x can appear anywhere in the\n",
    "\"right partition\"; it does not need to appear between the left and right partitions.\n",
    "EXAMPLE\n",
    "Input: 3 -> 5 -> 8 -> 5 -> 10 -> 2 -> 1 [partition = 5)\n",
    "Output: 3 -> 1 -> 2 -> 10 -> 5 -> 5 -> 8"
   ]
  },
  {
   "cell_type": "code",
   "execution_count": 58,
   "metadata": {},
   "outputs": [
    {
     "name": "stdout",
     "output_type": "stream",
     "text": [
      "3\n",
      "5\n",
      "8\n",
      "5\n",
      "10\n",
      "2\n",
      "1\n",
      "---\n",
      "3\n",
      "2\n",
      "1\n",
      "5\n",
      "8\n",
      "5\n",
      "10\n"
     ]
    }
   ],
   "source": [
    "def partition(head, x):\n",
    "    dummy = Node()\n",
    "    dummy.next = head\n",
    "    trailing = Node()\n",
    "    trailing.next = dummy\n",
    "    node = head\n",
    "    \n",
    "    newhead = None\n",
    "    newiter = Node()\n",
    "    newiter.next = newhead\n",
    "\n",
    "    \n",
    "    while node != None:\n",
    "        if node.key < x:\n",
    "            trailing.next.next = node.next\n",
    "            node.next = None\n",
    "            if node == head:\n",
    "                head = trailing.next.next\n",
    "            if newhead == None:\n",
    "                newhead = node\n",
    "                newiter.next = newhead\n",
    "            else:\n",
    "                newiter.next.next = node\n",
    "                newiter.next = newiter.next.next\n",
    "            node = trailing.next.next\n",
    "            continue\n",
    "        node = node.next\n",
    "        trailing.next = trailing.next.next\n",
    "    \n",
    "    newiter.next.next = head\n",
    "    \n",
    "    return newhead\n",
    "\n",
    "n3 = Node(3)\n",
    "n5 = Node(5)\n",
    "n8 = Node(8) # this will get deleted.\n",
    "n5_2 = Node(5)\n",
    "n10 = Node(10)\n",
    "n2 = Node(2)\n",
    "n1 = Node(1)\n",
    "LL = generate_LL([n3, n5, n8, n5_2, n10, n2, n1])\n",
    "print_LL(LL)\n",
    "print('---')\n",
    "print_LL(partition(LL, 5))"
   ]
  },
  {
   "cell_type": "code",
   "execution_count": 59,
   "metadata": {},
   "outputs": [],
   "source": [
    "#BOOK. no comment. didnt want to read code. read soln description though.\n",
    "    # was gucci. pretty much the same idea as mine besides tweaks."
   ]
  },
  {
   "cell_type": "markdown",
   "metadata": {},
   "source": [
    "### 2.5: Sum lists:\n",
    "You have two numbers represented by a linked list, where each node contains a single\n",
    "digit. The digits are stored in reverse order, such that the 1 's digit is at the head of the list. Write a\n",
    "function that adds the two numbers and returns the sum as a linked list.\n",
    "EXAMPLE\n",
    "Input: (7-) 1 -) 6) + (5 -) 9 -) 2) .Thatis,617 + 295.\n",
    "Output: 2 -) 1 -) 9. That is, 912.\n",
    "FOLLOW UP\n",
    "Suppose the digits are stored in forward order. Repeat the above problem.\n",
    "EXAMPLE\n",
    "Input: (6 -) 1 -) 7) + (2 -) 9 -) 5).Thatis,617 + 295.\n",
    "Output: 9 -) 1 -) 2. That is, 912."
   ]
  },
  {
   "cell_type": "code",
   "execution_count": null,
   "metadata": {},
   "outputs": [],
   "source": []
  }
 ],
 "metadata": {
  "kernelspec": {
   "display_name": "Python 3",
   "language": "python",
   "name": "python3"
  },
  "language_info": {
   "codemirror_mode": {
    "name": "ipython",
    "version": 3
   },
   "file_extension": ".py",
   "mimetype": "text/x-python",
   "name": "python",
   "nbconvert_exporter": "python",
   "pygments_lexer": "ipython3",
   "version": "3.6.5"
  }
 },
 "nbformat": 4,
 "nbformat_minor": 2
}
