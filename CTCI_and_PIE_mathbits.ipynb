{
 "cells": [
  {
   "cell_type": "markdown",
   "metadata": {},
   "source": [
    "### PIE - bit manipulation tips\n",
    "- two's complement. \n",
    "- flip bits. add one.\n",
    "(~(x) + 1)\n",
    "- unary operator ~ flips all bits. (BITWISE NOT)\n",
    "- |, &, ^ --- OR, AND, XOR\n",
    "- >> and <<  --- rightshift and leftshift\n",
    "    << left shift will fill 0's in LSB - fast multiply by 2\n",
    "    >> right shift will fill values in the MSB depending on w/e was already there. sign extension. - fast divide by 2\n",
    "- multiply and divide by powers of 2 quickly. equivalent to moving decimal over base 10\n",
    "    \n",
    "- the Least Significant Bit, LSB (or can be the Least Significant byte!), is the bit (or byte) that has the least amount of value. The MSB follows an analgous paradigm, having the most amount of value. \n",
    "    - in base 10, the number 91835, - 9 is the MSdec and 5 is the LSdec\n",
    "    - in base 2, the bits 10010, - 1 is the MSB and 0 is the LSB"
   ]
  },
  {
   "cell_type": "markdown",
   "metadata": {},
   "source": [
    "### random graphics problem: rectangle overlap\n",
    "given two rectangles defined by upper left UL corner and lower right LR corner ea, and both rectangle sides will always be parallel to x or y axis, write a function determining if two rectangles overlap"
   ]
  },
  {
   "cell_type": "markdown",
   "metadata": {},
   "source": [
    "Before writing any code, we see that two rectangles overlap IFF 'the bounds of their edge points are within each over'"
   ]
  },
  {
   "cell_type": "code",
   "execution_count": null,
   "metadata": {},
   "outputs": [],
   "source": [
    "class Point:\n",
    "    def __init__(self, x, y):\n",
    "        self.x = x\n",
    "        self.y = y\n",
    "    \n",
    "class Rectangle:\n",
    "    def __init__(self, UL, LR):\n",
    "        self.UL = UL\n",
    "        self.LR = LR\n",
    "        \n",
    "def tp(r1, r2):\n",
    "    '''\n",
    "    top_bottom_overlap()\n",
    "    is the the y-ceiling of r1 greater than or equal to the y-floor of r2?\n",
    "    '''\n",
    "    if r1.UL.y >= r2.LR.y:\n",
    "        return True\n",
    "    else:\n",
    "        return False\n",
    "\n",
    "def lr(r1, r2):\n",
    "    '''\n",
    "    left_right_overlap()\n",
    "    is the x-rightmost of r1 greater than or equal to the x-leftmost of r2?\n",
    "    '''\n",
    "    if r1.LR.x >= r2.UL.x:\n",
    "        return True\n",
    "    else:\n",
    "        return False\n",
    "    \n",
    "def are_rectangles_overlapping(r1, r2):\n",
    "    '''\n",
    "    lets look at all exhaustive cases, even when they are redundant.\n",
    "    \n",
    "    we have to have both a \n",
    "    '''\n",
    "    r1_ymax = r1.UL.y\n",
    "    r1_ymin = r1.LR.y\n",
    "    r2_ymax = r2.UL.y\n",
    "    r2_ymin = r2.LR.y\n",
    "    \n",
    "    if (r1_ymax >= r2_ymin and )\n",
    "    \n",
    "    r1_xmax = r1.UL.x\n",
    "    r1_xmin = r1.LR.x\n",
    "    r2_xmax = r2.UL.x\n",
    "    r2_xmin = r2.LR.x\n",
    "    \n",
    "    pass #didnt finish =("
   ]
  },
  {
   "cell_type": "markdown",
   "metadata": {},
   "source": [
    "There is a relative annoying enumeration of cases we have to go through to determine whether or not two rectangles overlap. \n",
    "\n",
    "- it is easier here to determine the cases where two rectangles do NOT overlap"
   ]
  },
  {
   "cell_type": "code",
   "execution_count": 1,
   "metadata": {},
   "outputs": [],
   "source": [
    "def are_rectangles_overlapping(r1, r2):\n",
    "    if (r1.UL.x > r2.LR.x or   #r1 is to the right of r2\n",
    "        r1.UL.y < r2.LR.y or   #r1 is below r2\n",
    "        r1.LR.x < r2.UL.x or   #r1 is to the left of r2\n",
    "        r1.LR.y > r2.UL.y):    #or r1 is above r2\n",
    "        return False\n",
    "    else:\n",
    "        return True"
   ]
  },
  {
   "cell_type": "markdown",
   "metadata": {},
   "source": [
    "### determine if computer is big-endian or little-endian\n",
    "- ENDIANNESS refers to the order a computer stores bytes of multiunit value\n",
    "- a 32-bit value=4 bytes has 4 groups of 8 bits, can be represented as store of characters in set [0, 1, 2, 3, 4, 5, 6, 7, 8, 9, A, B, C, D, E, F] to represent each group of 8 bits\n",
    "- for example, the 16-bit/2byte value: 5A 6C == 0101 1010  0110 1100\n",
    "\n",
    "- ordering of storage can either be from (LSB to MSB) OR (MSB to LSB)\n",
    "    - if memory is as follows:\n",
    "small memory address[--------------------------------] big memory addresses\n",
    "\n",
    "if i store a multibyte value in memory, i get under the two paradigms:\n",
    "\n",
    "    BIG-ENDIAN:\n",
    "    \n",
    "small memory address[MSB -------- LSB] big memory address\n",
    "\n",
    "    LITTLE-ENDIAN:\n",
    "\n",
    "small memory address[LSB ------- MSB]\n",
    "\n",
    "- tl;dr: big endian is 'normal' so to say."
   ]
  },
  {
   "cell_type": "code",
   "execution_count": 1,
   "metadata": {},
   "outputs": [],
   "source": [
    "#after reading too much info, store an integer - 4 bytes - bigger than one byte\n",
    "# with value 1. Then the LSBit should be 1, and all other bits, including MSB\n",
    "# should be 0. \n",
    "\n",
    "def endianness():\n",
    "    i = 1\n",
    "    pass\n",
    "\n",
    "#how do i do this in python?"
   ]
  },
  {
   "cell_type": "markdown",
   "metadata": {},
   "source": [
    "### compute the number of 1 bits inside a given integer"
   ]
  },
  {
   "cell_type": "markdown",
   "metadata": {},
   "source": [
    "- for positive values\n",
    "using the mask 0 gives us 000...000. Using the mask 1 gives us 0000...0001. performing a BIT-AND operation on an arbitrary integer and the 1 mask will set all other bits in the integer to 0, except for the LSB. if the LSB is 0, then it will also be set to zero, and the end of the operation yields 0. However, if the LSB is 1, the end of the opertion yields 1. We can perform this operation on the integer, right shifting it as we go and counting how many times we get 1, until the integer is 0 (we've right shifted it all the way)\n",
    "\n",
    "- for negative values\n",
    "however, this doesn't hold for negative integers - the problem is for negative integers, they theoretically have a number of 1 bits that go up to the size of their storage at the MSB. One way we can do this is flip the bits of the negative integer and then try to someehow count the number of 0 bits of the flipped negative integer. \n",
    "\n",
    "    - counting number of 0's \n",
    "keeping the bitmask of 1 == 000...001, if we first BIT-AND the integer we can extract the LSB. Call the result of this RES1. RES1 would yield that the LSB is 0 if the LSB in the original is 0, and would yield 1 if the LSB is 1, thereby preserving the LSB. The rest of the bits become 0). Then, we perform a BIT-XOR withe this resultant value against the same bitmask 1 == 00..001. The \n"
   ]
  },
  {
   "cell_type": "code",
   "execution_count": 9,
   "metadata": {},
   "outputs": [],
   "source": [
    "def number_of_ones(integer):\n",
    "    if integer >= 0:\n",
    "        num_ones = 0\n",
    "        mask = 1\n",
    "        while integer != 0:\n",
    "            res = integer & mask\n",
    "            num_ones += res\n",
    "            integer >>= 1\n",
    "        return num_ones    \n",
    "    else:\n",
    "        #have not defined behavior for negative values\n",
    "        return None"
   ]
  },
  {
   "cell_type": "markdown",
   "metadata": {},
   "source": [
    "RV: \n",
    "- how to count number of 1's in a negative value\n",
    "- how to count number of 0's\n",
    "- how to count number of 0's in negative value (probably easiest one here)"
   ]
  },
  {
   "cell_type": "code",
   "execution_count": 21,
   "metadata": {},
   "outputs": [
    {
     "data": {
      "text/plain": [
       "400"
      ]
     },
     "execution_count": 21,
     "metadata": {},
     "output_type": "execute_result"
    }
   ],
   "source": [
    "from sys import getsizeof\n",
    "getsizeof(int)"
   ]
  },
  {
   "cell_type": "code",
   "execution_count": 28,
   "metadata": {},
   "outputs": [
    {
     "data": {
      "text/plain": [
       "'-0b1'"
      ]
     },
     "execution_count": 28,
     "metadata": {},
     "output_type": "execute_result"
    }
   ],
   "source": [
    "bin(-1)"
   ]
  },
  {
   "cell_type": "markdown",
   "metadata": {},
   "source": [
    "### 'brainteaser' Count open lockers:\n",
    "you have a 100 closed lockers. \n",
    "\n",
    "(1) you open all 100 closed lockers so now you have 100 open lockers\n",
    "\n",
    "(2) you close every second locker \n",
    "\n",
    "(3) you go to every third locker, and you close it if it is open, and you open it if it is closed\n",
    "\n",
    "...\n",
    "\n",
    "(n) you go to every nth locker, and you close it if it is open, and you open it if it is closed.\n",
    "\n",
    "...\n",
    "\n",
    "(100) you go to every 100th locker (only locker 100) and you close it if it is open, and open it if it is closed\n",
    "\n",
    "\n",
    "-> determine the number of open lockers"
   ]
  },
  {
   "cell_type": "code",
   "execution_count": 30,
   "metadata": {},
   "outputs": [
    {
     "data": {
      "text/plain": [
       "False"
      ]
     },
     "execution_count": 30,
     "metadata": {},
     "output_type": "execute_result"
    }
   ],
   "source": [
    "not True"
   ]
  },
  {
   "cell_type": "code",
   "execution_count": 32,
   "metadata": {},
   "outputs": [
    {
     "data": {
      "text/plain": [
       "['hahaha', 'hahaha', 'hahaha']"
      ]
     },
     "execution_count": 32,
     "metadata": {},
     "output_type": "execute_result"
    }
   ],
   "source": [
    "array = [1, 2, 3]\n",
    "for i in range(len(array)):\n",
    "    array[i] = 'hahaha'\n",
    "    \n",
    "array"
   ]
  },
  {
   "cell_type": "markdown",
   "metadata": {},
   "source": [
    "#### common sense, but foreach loops create a copy of the value it iterates through and doesnt reference the item in collection iterated"
   ]
  },
  {
   "cell_type": "code",
   "execution_count": 36,
   "metadata": {},
   "outputs": [
    {
     "data": {
      "text/plain": [
       "10"
      ]
     },
     "execution_count": 36,
     "metadata": {},
     "output_type": "execute_result"
    }
   ],
   "source": [
    "#define true if open, false if closed\n",
    "\n",
    "def toggle_kth_locker(lockers, k):\n",
    "    counter = 0\n",
    "    for locker_index in range(len(lockers)):\n",
    "        counter += 1\n",
    "        if counter % k == 0:\n",
    "            lockers[locker_index] = not lockers[locker_index]\n",
    "\n",
    "def close_kth_locker(lockers, k):\n",
    "    counter = 0 \n",
    "    for locker_index in range(len(lockers)):\n",
    "        counter += 1\n",
    "        if counter % k == 0:\n",
    "            lockers[locker_index] = False\n",
    "\n",
    "def open_all_lockers(lockers):\n",
    "    for locker_index in range(len(lockers)):\n",
    "        lockers[locker_index] = True\n",
    "\n",
    "def num_open_lockers(N):\n",
    "    lockers = [False]*N\n",
    "    open_all_lockers(lockers)\n",
    "    close_kth_locker(lockers, 2)\n",
    "    for k in range(3, N+1):\n",
    "        toggle_kth_locker(lockers, k)\n",
    "    \n",
    "    return sum(lockers)\n",
    "\n",
    "num_open_lockers(100)"
   ]
  },
  {
   "cell_type": "markdown",
   "metadata": {},
   "source": [
    "- math book: all lockers are closed initially, and then all are opneed. then all even ones are closed.\n",
    "- prime lockers are only toggled on their specific kth iteration. so all prime ones are closed. doesnt help too much to find open\n",
    "- all lockers start closed and alternate b/w open and closed. \n",
    "    - a locker is toggled an even number of times, then it ends closed. \n",
    "        - likewise if it is toggled an odd number of times, then it ends open\n",
    "- the number of toggling that occurs to the nth locker is equal to the number of distinct factors that exist for this locker b/w 1 and n. \n",
    "    - therefore, the lockers that have an odd number of factors are open.\n",
    "        - every factor is a factor cuz it needed to be multiplied by another factor to yield the resultant number. so factors \n",
    "            come in pairs\n",
    "            - the only factors that dont come in pairs are those whose complement factor is also themselves - so SQUARES\n",
    "                - only squares have an odd number of factors, so they are the only ones that are open. \n",
    "                    - there are 10 squares b/w 1 and 100, so only 10 locckers are open.\n",
    "                    "
   ]
  },
  {
   "cell_type": "markdown",
   "metadata": {},
   "source": [
    "- Now generalize the solution: In a hall with k lockers, how many lockers remain open after pass k?\n",
    "\n",
    "    FLOOR(SQRT(k)) remain open"
   ]
  },
  {
   "cell_type": "markdown",
   "metadata": {},
   "source": [
    "### three switches:\n",
    "You are standing in a hallway next to three light switches, all of which\n",
    "are off. Each switch operates a different incandescent light bulb in the room at the\n",
    "end of the hall. You cannot see the lights from where the switches are. Determine\n",
    "which light corresponds to each switch. You may go into the room with the lights\n",
    "only once."
   ]
  },
  {
   "cell_type": "markdown",
   "metadata": {},
   "source": [
    "### bridge crossing\n",
    "A party of four travelers comes to a rickety bridge at night. The\n",
    "bridge can hold the weight of at most two of the travelers at a time, and it cannot\n",
    "be crossed without using a flashlight. The travelers have one flashlight among\n",
    "them. Each traveler walks at a different speed: The first can cross the bridge in\n",
    "1 minute, the second in 2 minutes, the third in 5 minutes, and the fourth takes\n",
    "10 minutes to cross the bridge. If two travelers cross together, they walk at the\n",
    "speed of the slower traveler\n",
    "\n",
    "What is the least amount of time in which all the travelers can cross from one side\n",
    "of the bridge to the other?"
   ]
  },
  {
   "cell_type": "markdown",
   "metadata": {},
   "source": [
    "- send 1 with 10 = 10\n",
    "- send 1 back = 1\n",
    "- send 1 with 5 = 5\n",
    "- send 1 back = 1\n",
    "- send 1 with 2 = 2\n",
    "- sum = 19"
   ]
  },
  {
   "cell_type": "markdown",
   "metadata": {},
   "source": [
    "- send 1 with 2 = 2\n",
    "- send 1 back = 1\n",
    "- send 5 and 10 = 10\n",
    "- send 2 back = 2\n",
    "- send 1 with 2 = 2\n",
    "- sum = 17"
   ]
  },
  {
   "cell_type": "markdown",
   "metadata": {},
   "source": [
    "### Heavy marble\n",
    "You have eight marbles and a two-pan scale. All the marbles weigh\n",
    "the same, except for one which is heavier than all the others. The marbles are\n",
    "otherwise indistinguishable. You may make no assumptions about how much\n",
    "heavier the heavy marble is. What is the minimum number of weighings needed\n",
    "to be certain of identifying the heavy marble? "
   ]
  },
  {
   "cell_type": "markdown",
   "metadata": {},
   "source": [
    "---> split the 8 marbles into 2 groups of 4 marbles. put the two groups on the scale. (weighing 1). we now see which group contains the heavier marble. Take that group of 4 marbles and split it into 2 groups of 2 marbles. put the two groups of 2 marbles on the scale (weighing 2). We see which pair of marbles has the heavier marble. Put the two marlbes in that heavier pair on the scale (weighing 3). the heavier marble is heavier."
   ]
  },
  {
   "cell_type": "markdown",
   "metadata": {},
   "source": [
    "---> book faster version: split the 8 marbles into 3 groups of marbles - 3 3 and 2. weigh 3 and 3. \n",
    "\n",
    "if same, then in 2 group. weigh pair. grab better. \n",
    "\n",
    "if not same, weigh random two marbles in the heavier group of 3. \n",
    "    - if same then the last marble in group of 3 is heavier\n",
    "    - if not then we good too.\n",
    "    \n",
    "all 2 weighs"
   ]
  },
  {
   "cell_type": "markdown",
   "metadata": {},
   "source": [
    "### how many american gas stations are there in the USA?"
   ]
  },
  {
   "cell_type": "markdown",
   "metadata": {},
   "source": [
    "-------------------------------------------------------------------------------"
   ]
  },
  {
   "cell_type": "markdown",
   "metadata": {},
   "source": [
    "# ENTER CTCI"
   ]
  },
  {
   "cell_type": "markdown",
   "metadata": {},
   "source": [
    "## quick big O\n",
    "- best case vs expected case/average case vs worst case\n",
    "- O, theta, omega == upper bound, tight bound, lower bound\n",
    "- space complexity: eeach recursive call takes up O(1) space. a tree of height lg n, parsing rec takes O(LG N) space\n",
    "- amoritized time analysis: RV - not the same as average analysis, which makes assumptions about input probabability\n",
    "- LG N runtimes occur in recursion (proportional to recursion tree height, usually LG N), and whenever you divide your input by some value K ( usualy K = 2) in an iterative loop process. you have to divide your N-sized set in half LG N times to get to an array of size 1.\n",
    "- recursive complexities - see CLRS notes\n",
    "- when you have multiple different sized inputs, specify input size when computing complexity using all inputs"
   ]
  },
  {
   "cell_type": "markdown",
   "metadata": {},
   "source": [
    "- a bunch of easy big O examples: drop consts, nested loop, single loop, loop with loop +1 nested"
   ]
  },
  {
   "cell_type": "markdown",
   "metadata": {},
   "source": [
    "#### The complexity of taking in an array of strings, sorting each string, and then sorting the entire array \n",
    "is NOT O(N^2 LG N). need specify each array size. let A be the size of the array, and S be the size of each string. There are A strings to sort, and sorting each one costs S LG S time, so that operation initially costs A * S LG S. Next, we sort the entire array. It is not A LG A, because the cost to compare each string is S. Then it is S * A LG A as the secondary cost. Total = O(A*SLGS + S*ALGA) ==\n",
    "O(A*S(LG A + LG S))"
   ]
  },
  {
   "cell_type": "markdown",
   "metadata": {},
   "source": [
    "#### The complexity of summing all the keys for all the nodes in a balanced BST\n",
    "does NOT have LG N inside it. You reach all the nodes in the tree once, so its O(N). Using the below point, there are two branches in the summing algorithm, and the depth of a balanced BST is LG N, so the complexity is 2^LG N = N"
   ]
  },
  {
   "cell_type": "markdown",
   "metadata": {},
   "source": [
    "### RV: the runtime for a recursive function with multiple branches is typically O(branches^depth)"
   ]
  },
  {
   "cell_type": "markdown",
   "metadata": {},
   "source": [
    "--- analyze functions for what they are, dont jump to conclusions based off of the type of problem - computing a factorial recursively isnt n!, and stuff to do with trees isnt always LG N"
   ]
  },
  {
   "cell_type": "markdown",
   "metadata": {},
   "source": [
    "- RV permutations and combinations mang..."
   ]
  },
  {
   "cell_type": "markdown",
   "metadata": {},
   "source": [
    "## RV: complexity derivation via  recurison trees for non-divide-and-conquer recursion probs"
   ]
  },
  {
   "cell_type": "markdown",
   "metadata": {},
   "source": [
    "### RV: might consider reading the soft sections in CTCI"
   ]
  },
  {
   "cell_type": "code",
   "execution_count": null,
   "metadata": {},
   "outputs": [],
   "source": []
  },
  {
   "cell_type": "code",
   "execution_count": null,
   "metadata": {},
   "outputs": [],
   "source": []
  },
  {
   "cell_type": "markdown",
   "metadata": {},
   "source": [
    "## Chapter 1: arrays and strings.\n",
    "- hash tables: array with linked lists and hash code fcn to determine element index\n",
    "- arrayList/resizable arrays: RV: know array resizing factor for resizable arrs\n",
    "- stringbuilder: concatenating N strings from a list of N strings ea length X is O(XN^2)"
   ]
  },
  {
   "cell_type": "markdown",
   "metadata": {},
   "source": [
    "### 1.1: Is Unique: \n",
    "Implement an algorithm to determine if a string has all unique characters. What if youcannot use additional data structures?"
   ]
  },
  {
   "cell_type": "code",
   "execution_count": 43,
   "metadata": {},
   "outputs": [
    {
     "name": "stdout",
     "output_type": "stream",
     "text": [
      "True\n",
      "False\n",
      "True\n",
      "False\n"
     ]
    }
   ],
   "source": [
    "# brute force - create a set of seen characters in the string, adding to it as you go along and checking against it.\n",
    "def is_unique(string):\n",
    "    seen_set = set()\n",
    "    for char in string:\n",
    "        if char not in seen_set:\n",
    "            seen_set.add(char)\n",
    "        else:\n",
    "            return False #this character has been seen before!!\n",
    "    return True\n",
    "\n",
    "#what if i cannot use additional data structures?\n",
    "def is_unique_spaceEfficient(string):\n",
    "    # the string of length 1 uses only one unique chracter, obviously\n",
    "    if len(string) <= 1:\n",
    "        return True\n",
    "    \n",
    "    string = sorted(string) # N LG N to sort\n",
    "    i = 1\n",
    "    while i != len(string):\n",
    "        if string[i] == string[i - 1]:\n",
    "            return False\n",
    "        i += 1\n",
    "        \n",
    "    return True\n",
    "\n",
    "uniqueString = 'this_a cule'\n",
    "nonuniqueString = 'dude what the fk bbq'\n",
    "print(is_unique(uniqueString))\n",
    "print(is_unique(nonuniqueString))\n",
    "print(is_unique_spaceEfficient(uniqueString))\n",
    "print(is_unique_spaceEfficient(nonuniqueString))"
   ]
  },
  {
   "cell_type": "code",
   "execution_count": 41,
   "metadata": {},
   "outputs": [
    {
     "data": {
      "text/plain": [
       "[' ', '_', 'a', 'c', 'e', 'h', 'i', 'i', 'l', 's', 't']"
      ]
     },
     "execution_count": 41,
     "metadata": {},
     "output_type": "execute_result"
    }
   ],
   "source": [
    "sorted(uniqueString)"
   ]
  },
  {
   "cell_type": "code",
   "execution_count": 47,
   "metadata": {},
   "outputs": [
    {
     "name": "stdout",
     "output_type": "stream",
     "text": [
      "True\n",
      "False\n"
     ]
    }
   ],
   "source": [
    "# book solution for with space: \n",
    "    #first one is same as our first one, use a hash table \n",
    "    # second one is same concept, but instead of a hash table, use an int and the actual bits correspond to True/Falses for \n",
    "        #'seen', which essentially is the same as the hahsh table.\n",
    "\n",
    "#book solution for no extra space:\n",
    "    # 1) compare every character of the string to every other character of the string O(n^2). \n",
    "    # 2) same as ours. sort string in place and check if adjacent values are the same.\n",
    "    \n",
    "#no extra space, O(n^2)\n",
    "def is_unique_compared_all_chars(string):\n",
    "    i = 0\n",
    "    while i != len(string):\n",
    "        j = 0\n",
    "        while j != len(string):\n",
    "            if string[i] == string[j] and i != j:\n",
    "                return False\n",
    "            j += 1\n",
    "        i += 1\n",
    "        \n",
    "    return True\n",
    "print(is_unique_compared_all_chars(uniqueString))\n",
    "print(is_unique_compared_all_chars(nonuniqueString))"
   ]
  },
  {
   "cell_type": "markdown",
   "metadata": {},
   "source": [
    "### 1.2: Check Permutation: Given two strings, write a method to decide if one is a permutation of the other."
   ]
  },
  {
   "cell_type": "code",
   "execution_count": 64,
   "metadata": {},
   "outputs": [
    {
     "name": "stdout",
     "output_type": "stream",
     "text": [
      "True\n",
      "False\n"
     ]
    }
   ],
   "source": [
    "#TOTALLY brute force. go through each one creating a hash table and compare hash tables. O(N) time and O(N) space\n",
    "str1 = 'dudewtfbbq'\n",
    "str1c = 'bbqduwtfde'\n",
    "str2 = 'lolwtfbbq'\n",
    "\n",
    "def get_counts(string):\n",
    "    table = {}\n",
    "    for char in string:\n",
    "        if char not in table:\n",
    "            table[char] = 1\n",
    "        else:\n",
    "            table[char] += 1\n",
    "    return table\n",
    "\n",
    "def string_permutation(str1, str2):\n",
    "    if len(str1) != len(str2):\n",
    "        return False\n",
    "    \n",
    "    table1 = get_counts(str1)  #takes O(N) time, O(N) space. assumes len(str1) == len(str2) == N.\n",
    "    table2 = get_counts(str2)  #takes the same as before. doesnt make sense for their lengths to not equal\n",
    "\n",
    "    if table1 == table2:     #takes O(N) time at worst case. checks keys O(1), and then checks vals at keys O(N)\n",
    "        return True\n",
    "    else:\n",
    "        return False\n",
    "\n",
    "print(string_permutation(str1, str1c))\n",
    "print(string_permutation(str1, str2))\n",
    "#actually runs in O(N), but uses O(N) space."
   ]
  },
  {
   "cell_type": "code",
   "execution_count": 66,
   "metadata": {},
   "outputs": [
    {
     "name": "stdout",
     "output_type": "stream",
     "text": [
      "True\n",
      "False\n"
     ]
    }
   ],
   "source": [
    "# sort both strings in place. go iterate through each one and compare values. O(N LG N) time, O(1) space\n",
    "def string_permutation_vsort(str1, str2):\n",
    "    \n",
    "    #strings that arent the same length cant be permutations of each other\n",
    "    if len(str1) != len(str2):\n",
    "        return False\n",
    "    \n",
    "    str1 = sorted(str1) #N LG N\n",
    "    str2 = sorted(str2) #plus another N LG N. still N LG N\n",
    "    \n",
    "    ''' # this loop is unnecessary when i can just do str1 == str2. still takes O(N) time though\n",
    "    i = 0\n",
    "    while i != len(str1): #plus another O(N). \n",
    "        if str1[i] != str2[i]:\n",
    "            return False\n",
    "        i += 1\n",
    "    '''\n",
    "    if str1 != str2:\n",
    "        return False\n",
    "                            #total is N LG N + N LG N + N = O(N LG N)\n",
    "    return True\n",
    "\n",
    "print(string_permutation_vsort(str1, str1c))\n",
    "print(string_permutation_vsort(str1, str2))"
   ]
  },
  {
   "cell_type": "code",
   "execution_count": 67,
   "metadata": {},
   "outputs": [
    {
     "name": "stdout",
     "output_type": "stream",
     "text": [
      "True\n",
      "False\n"
     ]
    }
   ],
   "source": [
    "table1 = {1: ['a','b'], 2:10 }\n",
    "table2 = {1: ['a','b'], 2:10 }\n",
    "table3 = {1: ['1', 1], 2:3}\n",
    "print(table1 == table2)\n",
    "print(table1 == table3)"
   ]
  },
  {
   "cell_type": "markdown",
   "metadata": {},
   "source": [
    "### 1.3: URLify: Write a method to replace all spaces in a string with '%20.' \n",
    "\n",
    "You may assume that the string has sufficient space at the end to hold the additional characters, and that you are given the \"true\" length of the string.\n",
    "\n",
    "input: \"Mr John Smith   \", 13\n",
    "\n",
    "output: \"Mr%20John%20Smith\"\n"
   ]
  },
  {
   "cell_type": "code",
   "execution_count": 26,
   "metadata": {},
   "outputs": [
    {
     "data": {
      "text/plain": [
       "'Mr%20John%20Smith'"
      ]
     },
     "execution_count": 26,
     "metadata": {},
     "output_type": "execute_result"
    }
   ],
   "source": [
    "#the question as worded is very trivial. O(N) time, however uses extra O(N) space. ideally want to use no extra space!\n",
    "def replace_space_with_percent20(string):\n",
    "    returner = ''\n",
    "    for char in string:\n",
    "        if char == ' ':\n",
    "            returner += '%20'\n",
    "        else:\n",
    "            returner += char\n",
    "    return returner\n",
    "INPUT = 'Mr John Smith'\n",
    "replace_space_with_percent20(INPUT)"
   ]
  },
  {
   "cell_type": "code",
   "execution_count": null,
   "metadata": {},
   "outputs": [],
   "source": [
    "[1, 2, 3, 4, 5] -> [1, 2, 3, 4, 5, None, None, None] -> [1, 2, 3, 4, 5, None, 4, 5] -> [1, 2, 3, None, None, None, 4, 5]\n",
    "\n",
    "[1, 2, 3, 4, 5] -> The above is actually wrong. we want this. -> [1, 2, None, None, None, 4, 5]"
   ]
  },
  {
   "cell_type": "code",
   "execution_count": 31,
   "metadata": {},
   "outputs": [
    {
     "name": "stdout",
     "output_type": "stream",
     "text": [
      "['M', 'r', ' ', 'J', 'o', 'h', 'n', ' ', 'S', 'm', 'i', 't', 'h']\n"
     ]
    },
    {
     "data": {
      "text/plain": [
       "\"['M', 'r', '%', '2', '0', 'J', 'o', 'h', 'n', '%', '2', '0', 'S', 'm', 'i', 't', 'h']\""
      ]
     },
     "execution_count": 31,
     "metadata": {},
     "output_type": "execute_result"
    }
   ],
   "source": [
    "#uses the space already implemented. O(1) space. howver, at cost of MUCHO time complexity. O(N^2), where c is number of\n",
    "    #imes the replacement item (here is just whitespace ' ') occurs.\n",
    "def shift_over_and_replace(n, replacement, arr):\n",
    "    '''\n",
    "    given an array, at the nth value in the array, shift all the other elements to \n",
    "    the right of the nth index k values to the right.\n",
    "    '''\n",
    "    k = len(replacement)\n",
    "    #record this so u can record last index of actual values before you append stuff\n",
    "    originalLength = len(arr)\n",
    "    \n",
    "    #first get some values at the end of the array so when we shift over it is not out of index\n",
    "    for i in range(k):\n",
    "        arr.append(None)\n",
    "    \n",
    "    #move all elements to the right of n, k elements to the right\n",
    "    j = len(arr) - 1\n",
    "    i = originalLength - 1\n",
    "    while i != n:\n",
    "        arr[j] = arr[i]\n",
    "        i -= 1\n",
    "        j -= 1\n",
    "    \n",
    "    #set values shifted equal to none instead of having old values there\n",
    "    i = n + 1\n",
    "    for a in range(k):\n",
    "        arr[i] = replacement[a]\n",
    "        i += 1\n",
    "    \n",
    "    del arr[n]\n",
    "        \n",
    "    return arr\n",
    "\n",
    "\n",
    "def replace_space_with_percent20_constSpace(string, replacement, charToReplace):\n",
    "    \n",
    "    originalLength = len(string)\n",
    "\n",
    "    i = 0\n",
    "    j = 0\n",
    "    while i != originalLength:\n",
    "        if string[j] == charToReplace:\n",
    "            shift_over_and_replace(j, replacement, string)\n",
    "            j += len(replacement) - len(charToReplace)\n",
    "        i += 1\n",
    "        j += 1\n",
    "        \n",
    "    return string\n",
    "\n",
    "\n",
    "\n",
    "INPUT = 'Mr John Smith'\n",
    "\n",
    "INPUTarr = list(INPUT)\n",
    "print(INPUTarr)\n",
    "str(replace_space_with_percent20_constSpace(INPUTarr, '%20', ' '))"
   ]
  },
  {
   "cell_type": "code",
   "execution_count": 32,
   "metadata": {},
   "outputs": [
    {
     "name": "stdout",
     "output_type": "stream",
     "text": [
      "['M', 'r', ' ', 'J', 'o', 'h', 'n', ' ', 'S', 'm', 'i', 't', 'h']\n",
      "['M', 'r', ' ', None, None, 'J', 'o', 'h', 'n', ' ', 'S', 'm', 'i', 't', 'h']\n"
     ]
    }
   ],
   "source": [
    "#old shiftover. good code though =)\n",
    "def shift_over(n, k, arr):\n",
    "    '''\n",
    "    given an array, at the nth value in the array, shift all the other elements to \n",
    "    the right of the nth index k values to the right.\n",
    "    '''\n",
    "\n",
    "    #record this so u can record last index of actual values before you append stuff\n",
    "    originalLength = len(arr)\n",
    "    \n",
    "    #first get some values at the end of the array so when we shift over it is not out of index\n",
    "    for i in range(k):\n",
    "        arr.append(None)\n",
    "    \n",
    "    #move all elements to the right of n, k elements to the right\n",
    "    j = len(arr) - 1\n",
    "    i = originalLength - 1\n",
    "    while i != n:\n",
    "        arr[j] = arr[i]\n",
    "        i -= 1\n",
    "        j -= 1\n",
    "    \n",
    "    #set values shifted equal to none instead of having old values there\n",
    "    i = n + 1\n",
    "    for a in range(k):\n",
    "        arr[i] = None\n",
    "        i += 1\n",
    "        \n",
    "    return arr\n",
    "INPUT = 'Mr John Smith'\n",
    "\n",
    "INPUTarr = list(INPUT)\n",
    "print(INPUTarr)\n",
    "print(shift_over(2, 2, INPUTarr))\n"
   ]
  },
  {
   "cell_type": "code",
   "execution_count": 33,
   "metadata": {
    "scrolled": true
   },
   "outputs": [
    {
     "name": "stderr",
     "output_type": "stream",
     "text": [
      "UsageError: Cell magic `%%` not found.\n"
     ]
    }
   ],
   "source": [
    "%% script false\n",
    "#dont run this. \n",
    "#xample of when iterating through an array and appending to it increasing the size of the array during the loop. infite.\n",
    "arr = [1, 2, 3]\n",
    "i = 0\n",
    "while i != len(arr):\n",
    "    print(len(arr))\n",
    "    arr.append('dudewtf')\n",
    "    i += 1\n",
    "arr"
   ]
  },
  {
   "cell_type": "code",
   "execution_count": 34,
   "metadata": {},
   "outputs": [],
   "source": [
    "# this is the 'nontrivial version'. tries to do EXACTLY what python.str.replace(old, new) does. INCOMPLETE. RV REVISIT.\n",
    "def str_replace(string, old, new):\n",
    "    i = 0\n",
    "    j = i #this is the beginning counter for the \n",
    "    atAnOld = False\n",
    "    while i != len(string):\n",
    "        if old[i] == string[i]:\n",
    "            atAnOld = True"
   ]
  },
  {
   "cell_type": "code",
   "execution_count": 35,
   "metadata": {},
   "outputs": [],
   "source": [
    "#BOOK SOLUTION: make two passes. first pass counts number of spaces. then in next pass, use num of spaces to signify\n",
    "    #end of 'new' string array. iterate from end to beginningg, and whnever a space is found, increment the index by more than\n",
    "    # just 1 decrementation, and then put the %20 in. if not space found, just move values over.\n",
    "# TIP RV: edit strings from end to beginning cuz we have an extra buffer at the end? (maybe in java/C++...) so we can \n",
    "# change chars without wworrying about overwriting\n",
    "\n",
    "# pretty much the same as our solution. still runs in O(N^2) either way. "
   ]
  },
  {
   "cell_type": "markdown",
   "metadata": {},
   "source": [
    "### 1.4: Palindrome Permutation: Given a string, write a function to check if it is a permutation of a palindrome.\n",
    "A palindrome is a word or phrase that is the same forwards and backwards. A permutation\n",
    "is a rea rrangement of letters. The palindrome does not need to be limited to just dictionary words.\n",
    "\n",
    "input: tact coa\n",
    "\n",
    "output true (permutations are 'taco cat', 'atco cta', etc)\n"
   ]
  },
  {
   "cell_type": "code",
   "execution_count": 37,
   "metadata": {},
   "outputs": [
    {
     "name": "stdout",
     "output_type": "stream",
     "text": [
      "False\n",
      "True\n"
     ]
    }
   ],
   "source": [
    "# a string is palindromable IFF\n",
    "    #if the length is even, then there exists zero character counts that are noneven \n",
    "    #if the length is odd, then there exists exactly one noneven character count \n",
    "def get_counts(string):\n",
    "    table = {}\n",
    "    for char in string:\n",
    "        if char not in table:\n",
    "            table[char] = 1\n",
    "        else:\n",
    "            table[char] += 1\n",
    "    return table\n",
    "    \n",
    "def is_palindromable(string):\n",
    "    table = get_counts(string) #O(N)\n",
    "    if len(string) % 2 == 0:  \n",
    "        #the string has an even number of values\n",
    "        for count in table.values():\n",
    "            if count % 2 != 0:\n",
    "                return False\n",
    "        return True\n",
    "    else:\n",
    "        #the string has an odd number of values. there \n",
    "        odd_found = False\n",
    "        for count in table.values():\n",
    "            if count % 2 != 0:\n",
    "                if not odd_found:\n",
    "                    odd_found = True\n",
    "                else:\n",
    "                    return False\n",
    "        if odd_found:\n",
    "            return True\n",
    "        else:\n",
    "            return False\n",
    "        \n",
    "nopal = 'aaasdfhjl;hgn;slkjnhfv==='\n",
    "pal = 'catcato'\n",
    "print(is_palindromable(nopal))\n",
    "print(is_palindromable(pal))\n",
    "\n",
    "#runs in O(N) with O(N) space"
   ]
  },
  {
   "cell_type": "code",
   "execution_count": null,
   "metadata": {},
   "outputs": [],
   "source": [
    "#BOOk solution: \n",
    "    #book soln 1 is exactly like ours\n",
    "    #book soln 2 says to check the number of odd counts as we go along, slightly faster. still O(N) though.\n",
    "    #book soln 3 says instead of counting the counts, we have a switch OFF and ON signifying odd or not. still O(N)."
   ]
  },
  {
   "cell_type": "markdown",
   "metadata": {},
   "source": [
    "### 1.5: One Away \n",
    "There are three types of edits that can be performed on strings: insert a character,\n",
    "remove a character, or replace a character. Given two strings, write a function to check if they are\n",
    "one edit (or zero edits) away.\n",
    "\n",
    "example:\n",
    "\n",
    "pale, ple -> True\n",
    "\n",
    "pales, pale -> True\n",
    "\n",
    "pale, bale -> True\n",
    "\n",
    "pale, bake -> False"
   ]
  },
  {
   "cell_type": "code",
   "execution_count": 50,
   "metadata": {},
   "outputs": [
    {
     "name": "stdout",
     "output_type": "stream",
     "text": [
      "True\n",
      "True\n",
      "True\n",
      "False\n"
     ]
    }
   ],
   "source": [
    "#modularized (EWWWWWW CLEAN CODE)\n",
    "\n",
    "def replacement_one_away(str1, str2):\n",
    "    ''' \n",
    "    takes in two strings same length and determines if one away.\n",
    "    '''\n",
    "    replacementFound = False\n",
    "    i = 0\n",
    "    while(i != len(str1)):\n",
    "        if str1[i] != str2[i]:\n",
    "            if not replacementFound:\n",
    "                replacementFound = True\n",
    "            else:\n",
    "                return False\n",
    "        i += 1\n",
    "    return True\n",
    "\n",
    "\n",
    "\n",
    "def get_bigger_smaller(str1, str2):\n",
    "    \n",
    "    bigger = None\n",
    "    smaller = None\n",
    "    if len(str1) > len(str2): #str1 bigger\n",
    "        bigger = str1\n",
    "        smaller = str2\n",
    "    else: #str2 bigger\n",
    "        bigger = str2\n",
    "        smaller = str1\n",
    "    return bigger, smaller\n",
    "\n",
    "\n",
    "\n",
    "def insert_delete_one_away(str1, str2):\n",
    "    #figure out which one is bigger first.\n",
    "    bigger, smaller = get_bigger_smaller(str1, str2)\n",
    "    \n",
    "    delete_replace_found = False\n",
    "    i = 0\n",
    "    j = 0\n",
    "    while i != len(smaller):\n",
    "        if smaller[i] != bigger[j]:\n",
    "            if not delete_replace_found:\n",
    "                delete_replace_found = True\n",
    "                j += 1\n",
    "                if smaller[i] != bigger[j]:\n",
    "                    return False\n",
    "            else:\n",
    "                return False\n",
    "        i += 1\n",
    "        j += 1\n",
    "\n",
    "    return True\n",
    "\n",
    "\n",
    "\n",
    "def one_away(str1, str2):\n",
    "    \n",
    "    #the strings are the same so they are zero edits away.\n",
    "    if str1 == str2:\n",
    "        print('zero edits away!')\n",
    "        return True\n",
    "    \n",
    "    #replacement case (potential):\n",
    "    if len(str1) == len(str2):\n",
    "        return replacement_one_away(str1, str2)\n",
    "    \n",
    "    #check if they are one away for the deletion/insertion - have to be +1/-1 lengths.\n",
    "    if (len(str1) + 1 == len(str2)) or (len(str2) + 1 == len(str1)):\n",
    "        return insert_delete_one_away(str1, str2)\n",
    "\n",
    "    return False\n",
    "\n",
    "\n",
    "\n",
    "print(one_away('pale', 'ple')) #-> True\n",
    "\n",
    "print(one_away('pales', 'pale')) #-> True\n",
    "\n",
    "print(one_away('pale', 'bale')) # -> True\n",
    "\n",
    "print(one_away('pale', 'bake')) #-> False"
   ]
  },
  {
   "cell_type": "code",
   "execution_count": 48,
   "metadata": {},
   "outputs": [
    {
     "name": "stdout",
     "output_type": "stream",
     "text": [
      "True\n",
      "True\n",
      "True\n",
      "False\n"
     ]
    }
   ],
   "source": [
    "#not modularized =))))))))))))))))))))\n",
    "def one_away(str1, str2):\n",
    "    \n",
    "    #the strings are the same so they are zero edits away.\n",
    "    if str1 == str2:\n",
    "        print('zero edits away!')\n",
    "        return True\n",
    "    \n",
    "    #replacement case (potential):\n",
    "    if len(str1) == len(str2):\n",
    "        replacementFound = False\n",
    "        i = 0\n",
    "        while(i != len(str1)):\n",
    "            if str1[i] != str2[i]:\n",
    "                if not replacementFound:\n",
    "                    replacementFound = True\n",
    "                else:\n",
    "                    return False\n",
    "            i += 1\n",
    "        return True\n",
    "    \n",
    "    #check if they are one away for the deletion/insertion - have to be +1/-1 lengths.\n",
    "    if (len(str1) + 1 == len(str2)) or (len(str2) + 1 == len(str1)):\n",
    "        #figure out which one is bigger first.\n",
    "        bigger = None\n",
    "        smaller = None\n",
    "        if len(str1) > len(str2): #str1 bigger\n",
    "            bigger = str1\n",
    "            smaller = str2\n",
    "        else: #str2 bigger\n",
    "            bigger = str2\n",
    "            smaller = str1\n",
    "            \n",
    "        delete_replace_found = False\n",
    "        i = 0\n",
    "        j = 0\n",
    "        while i != len(smaller):\n",
    "            if smaller[i] != bigger[j]:\n",
    "                if not delete_replace_found:\n",
    "                    delete_replace_found = True\n",
    "                    j += 1\n",
    "                    if smaller[i] != bigger[j]:\n",
    "                        return False\n",
    "                else:\n",
    "                    return False\n",
    "            i += 1\n",
    "            j += 1\n",
    "        \n",
    "        return True\n",
    "\n",
    "    return False\n",
    "\n",
    "\n",
    "print(one_away('pale', 'ple')) #-> True\n",
    "\n",
    "print(one_away('pales', 'pale')) #-> True\n",
    "\n",
    "print(one_away('pale', 'bale')) # -> True\n",
    "\n",
    "print(one_away('pale', 'bake')) #-> False"
   ]
  },
  {
   "cell_type": "code",
   "execution_count": 49,
   "metadata": {},
   "outputs": [],
   "source": [
    "#BOOK SOLUTION\n",
    "    #-is pretty much the same as mine. logistically a little different but who cares. every soln takes O(N)."
   ]
  },
  {
   "cell_type": "markdown",
   "metadata": {},
   "source": [
    "### 1.6: String Compression:\n",
    "Implement a method to perform basic string compression using the counts\n",
    "of repeated characters. For example, the string aabcccccaaa would become a2b1c5a3. If the\n",
    "\"compressed\" string would not become smaller than the original string, your method should return\n",
    "the original string. You can assume the string has only uppercase and lowercase letters (a - z)."
   ]
  },
  {
   "cell_type": "code",
   "execution_count": 55,
   "metadata": {},
   "outputs": [
    {
     "name": "stdout",
     "output_type": "stream",
     "text": [
      "a2b1c5a3\n",
      "abcdefg\n"
     ]
    }
   ],
   "source": [
    "def string_compression(string):\n",
    "    returner = ''\n",
    "    \n",
    "    counter = 0\n",
    "    current = None\n",
    "    for character in string:\n",
    "        if current == None:\n",
    "            current = character\n",
    "            counter = 1\n",
    "        else:\n",
    "            if character != current: \n",
    "                returner += current\n",
    "                returner += str(counter)\n",
    "                current = character\n",
    "                counter = 1 \n",
    "            else:\n",
    "                counter += 1\n",
    "                \n",
    "    returner.join(current)\n",
    "    returner.join(str(counter)\n",
    "    \n",
    "    if len(returner) >= len(string):\n",
    "        return string\n",
    "    else:\n",
    "        return returner\n",
    "\n",
    "s1 = 'aabcccccaaa' #should yield ideal output =)\n",
    "s2 = 'abcdefg' #obviously will yield original string\n",
    "print(string_compression(s1))\n",
    "print(string_compression(s2))\n",
    "\n",
    "#takes up O(N) time and O(N) space. \n",
    "    #ACTUALLY ITS SLOWER..... READ BELOW"
   ]
  },
  {
   "cell_type": "code",
   "execution_count": 56,
   "metadata": {},
   "outputs": [],
   "source": [
    "# BOOK SOLUTION: same as our solution for the FIRST solution given. \n",
    "    # O(p + k^2). p is size of original string, k is number of character seequences. \n",
    "        #string concatenation works in O(N^2) time?......\n",
    "            # use the right string class thingymajigger"
   ]
  },
  {
   "cell_type": "markdown",
   "metadata": {},
   "source": [
    "https://stackoverflow.com/questions/37133547/time-complexity-of-string-concatenation-in-python?noredirect=1&lq=1"
   ]
  },
  {
   "cell_type": "markdown",
   "metadata": {},
   "source": [
    "### 1.7: Rotate Matrix: \n",
    "Given an image represented by an NxN matrix, where each pixel in the image is 4\n",
    "bytes, write a method to rotate the image by 90 degrees. (an you do this in place?"
   ]
  },
  {
   "cell_type": "markdown",
   "metadata": {},
   "source": [
    "# DO NOT USE N * [0] TO GENERATE AN ARRAY QUICKLY JUST DONT"
   ]
  },
  {
   "cell_type": "markdown",
   "metadata": {},
   "source": [
    "### instead, use list comprehension! which i dont fully understand =)"
   ]
  },
  {
   "cell_type": "markdown",
   "metadata": {},
   "source": [
    "#### try to draw it out and see what index"
   ]
  },
  {
   "cell_type": "code",
   "execution_count": 139,
   "metadata": {},
   "outputs": [
    {
     "data": {
      "text/plain": [
       "array([[ 7,  4,  1],\n",
       "       [ 8,  5,  2],\n",
       "       [ 9,  6,  3],\n",
       "       [-3, -2, -1]])"
      ]
     },
     "execution_count": 139,
     "metadata": {},
     "output_type": "execute_result"
    }
   ],
   "source": [
    "#thanks alot python408 for accidently making me read ur idea =(. N is the length of a side of the square matrix\n",
    "    # the i'th row in the original matrix becomes the N-1 - ith column in the rotated matrix (rotated clockwise)\n",
    "\n",
    "\n",
    "\n",
    "def rotate_matrix(matrix):\n",
    "    '''\n",
    "    # we assume we are rotating clockwise\n",
    "    '''\n",
    "    if len(matrix) == 0:\n",
    "        return matrix #its empty breh\n",
    "    \n",
    "    originalRows = len(matrix) #rows of matrix -> going to be cols for return matrix\n",
    "    originalCols = len(matrix[0]) #cols of matrix -> going to be rows of return matrix\n",
    "    \n",
    "    rows = originalCols\n",
    "    cols = originalRows\n",
    "\n",
    "    return_matrix = [[None for i in range(cols)] for j in range(rows)]\n",
    "    \n",
    "    ci2 = cols - 1\n",
    "    for ri in range(originalRows):\n",
    "        ri2 = 0\n",
    "        for ci in range(originalCols):\n",
    "            return_matrix[ri2][ci2] = matrix[ri][ci]\n",
    "            ri2 += 1\n",
    "        ci2 -= 1\n",
    "    \n",
    "    return return_matrix\n",
    "\n",
    "\n",
    "np.array(rotate_matrix([[1, 2, 3, -1],\n",
    "                        [4, 5, 6, -2],\n",
    "                        [7, 8, 9, -3]]))"
   ]
  },
  {
   "cell_type": "markdown",
   "metadata": {},
   "source": [
    "### 1.8: Zero Matrix: \n",
    "Write an algorithm such that if an element in an MxN matrix is 0, its entire row and\n",
    "column are set to O."
   ]
  },
  {
   "cell_type": "code",
   "execution_count": 159,
   "metadata": {},
   "outputs": [
    {
     "name": "stdout",
     "output_type": "stream",
     "text": [
      "3\n",
      "7\n"
     ]
    }
   ],
   "source": [
    "for x, y in {(1, 2), (3, 4)}:\n",
    "    print (x + y)"
   ]
  },
  {
   "cell_type": "markdown",
   "metadata": {},
   "source": [
    "#### KEY FINDING: need two passes or everything gets set to zero"
   ]
  },
  {
   "cell_type": "code",
   "execution_count": 165,
   "metadata": {},
   "outputs": [
    {
     "data": {
      "text/plain": [
       "array([[ 1,  2,  0,  9],\n",
       "       [ 0,  0,  0,  0],\n",
       "       [ 7,  8,  0, -3]])"
      ]
     },
     "execution_count": 165,
     "metadata": {},
     "output_type": "execute_result"
    }
   ],
   "source": [
    "def set_cols_and_rows_to_zero(matrix, row_index, col_index):\n",
    "    \n",
    "    for i in range(len(matrix)):\n",
    "        matrix[i][col_index] = 0\n",
    "    \n",
    "    for j in range(len(matrix[0])):\n",
    "        matrix[row_index][j] = 0\n",
    "    \n",
    "    return matrix\n",
    "\n",
    "def zero_matrix(matrix):\n",
    "    zero_indices = set() #set of tuple indices that are already been set to zero or visited\n",
    "    for i in range(len(matrix)):   #this nested loop costs O(N*M)\n",
    "        for j in range(len(matrix[0])):\n",
    "            if matrix[i][j] == 0:\n",
    "                zero_indices.add((i, j))\n",
    "                \n",
    "    for row, col in zero_indices: # lets say that there are Z indices with zeros. \n",
    "        set_cols_and_rows_to_zero(matrix, row, col) # costs Z * (M + N)\n",
    "    \n",
    "    return matrix\n",
    "\n",
    "matrix = [[1, 2, 3, 9],\n",
    "          [4, 1, 0, -2],\n",
    "          [7, 8, 9, -3]]\n",
    "np.array(zero_matrix(matrix))\n",
    "\n",
    "\n",
    "#total cost runs in O(N*M + Z*(M+N)) time. Costs O(Z) space. "
   ]
  },
  {
   "cell_type": "code",
   "execution_count": 166,
   "metadata": {},
   "outputs": [],
   "source": [
    "#BOOK SOLUTION:\n",
    "    #book does the the same thing pretty much for their 'first' solution, \n",
    "    #except they dont use a set and use like boolean arrays (slighty)\n",
    "    # more space efficient\n",
    "    \n",
    "    #book's secdnary solution using O(1) additional space unsteead of O(Z)\n",
    "    #or O(N) is really inelegant and exists only to satisfy optimization \n",
    "    #purposes and really isnt clean code\n",
    "        # they have some O(1) boolean counters to encompass the data in the\n",
    "        #first row and first column. after iterating through both, update \n",
    "        #this counters, and then use the first row and column to keeep track\n",
    "        #of zero indices throughout the rest of the matrix/2D array.\n",
    "    "
   ]
  },
  {
   "cell_type": "markdown",
   "metadata": {},
   "source": [
    "### 1.9: String Rotation: \n",
    "Assume you have a method isSubstring which checks if one word is a substring\n",
    "of another. Given two strings, s1 and s2, write code to check if s2 is a rotation of s1 using only one\n",
    "call to isSubstring (e.g., \"waterbottle\" is a rotation of\"erbottlewat\")."
   ]
  },
  {
   "cell_type": "code",
   "execution_count": 170,
   "metadata": {},
   "outputs": [
    {
     "data": {
      "text/plain": [
       "True"
      ]
     },
     "execution_count": 170,
     "metadata": {},
     "output_type": "execute_result"
    }
   ],
   "source": [
    "'dude' in 'dudewtf'"
   ]
  },
  {
   "cell_type": "code",
   "execution_count": 178,
   "metadata": {},
   "outputs": [
    {
     "data": {
      "text/plain": [
       "True"
      ]
     },
     "execution_count": 178,
     "metadata": {},
     "output_type": "execute_result"
    }
   ],
   "source": [
    "# SUPER SLOW (not space wise, but you get the point (time wise dude.))\n",
    "def isRotation(str1, str2):\n",
    "    \n",
    "    if len(str1) != len(str2): #O(N)\n",
    "        return False # you cant be a rotation if you arent the same length\n",
    "    \n",
    "    str1 = list(str1) #O(N)\n",
    "    str2 = list(str2) #O(N)\n",
    "    \n",
    "    N = len(str1) #O(1)\n",
    "    \n",
    "    for i in range(N): #O(N)\n",
    "        if str1 == str2: #O(N), so really O(N^2)\n",
    "            return True\n",
    "        str2.append(str2[0]) #O(N), so really O(N^2)\n",
    "        del str2[0] #O(N), so really O(N^2)\n",
    "    \n",
    "    return False\n",
    "# complexity is then O(N^2) time, O(N) space\n",
    "isRotation('waterbottle', 'erbottlewat')"
   ]
  },
  {
   "cell_type": "code",
   "execution_count": 182,
   "metadata": {},
   "outputs": [
    {
     "data": {
      "text/plain": [
       "True"
      ]
     },
     "execution_count": 182,
     "metadata": {},
     "output_type": "execute_result"
    }
   ],
   "source": [
    "# BOOK SOLUTION: I ACTUALLY LIKE IT THIS TIME AND DCOULDNT THINK OF IT\n",
    "    # TO SAVE MY LIFE \n",
    "\n",
    "#take one of the input strings and append it to itself. Then, the two strings\n",
    "#are rotations of each other IFF thee other input string is a subset of the\n",
    "#newly generated self appended one. \n",
    "\n",
    "# ^^^ took a lot of creativity.\n",
    "\n",
    "def book_isRotation(str1, str2):\n",
    "    if len(str1) != len(str2): #O(1), lengths are O(1) to access. \n",
    "        return False\n",
    "    if str2 in str1+str1: #O(N + N). str1+str1 is O(N), set contain is O(N)\n",
    "        return True\n",
    "    return False\n",
    "\n",
    "\n",
    "book_isRotation('waterbottle', 'erbottlewat')\n",
    "# time complexity is O(N), space is O(1)"
   ]
  },
  {
   "cell_type": "markdown",
   "metadata": {},
   "source": [
    "## Chapter 2: linked lists\n",
    "- singly linked lists\n",
    "- doubly linked lists\n",
    "- circular linked lists vs traditional\n",
    "- sentinel/dummy node\n",
    "- O(N) access (gotta iterate through all the nodes =( )\n",
    "- O(1) add/delete at element k\n"
   ]
  },
  {
   "cell_type": "markdown",
   "metadata": {},
   "source": [
    "- verify list types\n",
    "- check null, update head/tail as ncessary\n",
    "- use runner pointer\n",
    "- might wanna use recursion (idk how this works lol)"
   ]
  },
  {
   "cell_type": "markdown",
   "metadata": {},
   "source": [
    "- floyd cycle detection algorithm/tortise and hare\n",
    "- fastrunner/slowrunner \n",
    "- samme as above - double iterator, one in front, one in back\n",
    "\t- needed for deletion.\n",
    "- intersection tail nodes/bdded by length short\n",
    "- ll reversal\n",
    "- ll generation (tail to head (nex) vs head to tail (prev/headnone))"
   ]
  },
  {
   "cell_type": "code",
   "execution_count": 5,
   "metadata": {},
   "outputs": [
    {
     "name": "stdout",
     "output_type": "stream",
     "text": [
      "3\n",
      "5\n",
      "8\n",
      "5\n",
      "10\n",
      "2\n",
      "1\n",
      "------\n",
      "3\n",
      "8\n",
      "10\n",
      "2\n",
      "1\n"
     ]
    }
   ],
   "source": [
    "from copy import deepcopy\n",
    "\n",
    "class Node:\n",
    "    def __init__(self, key=None, Next=None):\n",
    "        self.key = key\n",
    "        self.next = Next\n",
    "\n",
    "def delete_k_nodes(head, key, k=1):\n",
    "    \n",
    "    counter = 0\n",
    "    dummy = Node()\n",
    "    dummy.next = head\n",
    "    trailing = Node()\n",
    "    trailing.next = dummy\n",
    "    node = head\n",
    "    \n",
    "    while node != None and counter != k:\n",
    "        if node.key == key:\n",
    "            counter += 1\n",
    "            trailing.next.next = node.next\n",
    "            node.next = None\n",
    "            if node == head:\n",
    "                head = trailing.next.next\n",
    "            node = trailing.next.next\n",
    "            continue\n",
    "        node = node.next\n",
    "        trailing.next = trailing.next.next\n",
    "    \n",
    "    return head\n",
    "\n",
    "def print_LL(head):\n",
    "    node = head\n",
    "    while node != None:\n",
    "        print(node.key)\n",
    "        node = node.next\n",
    "        \n",
    "def generate_LL(List):\n",
    "    if len(List) == 0:\n",
    "        return None\n",
    "    if len(List) == 1:\n",
    "        return List[0]\n",
    "    \n",
    "    head = List[0]\n",
    "    current = head\n",
    "    for node in List[1:]:\n",
    "        current.next = node\n",
    "        current = current.next\n",
    "        \n",
    "    return head\n",
    "\n",
    "#generate test nodes data\n",
    "n3 = Node(3)\n",
    "n5 = Node(5)\n",
    "n8 = Node(8)\n",
    "n5_2 = Node(5)\n",
    "n10 = Node(10)\n",
    "n2 = Node(2)\n",
    "n1 = Node(1)\n",
    "#connect test node data into LL\n",
    "connected3 = generate_LL([n3, n5, n8, n5_2, n10, n2, n1])\n",
    "#print test LL\n",
    "print_LL(connected3)\n",
    "print('------')\n",
    "#copy original test created LL before we delete stuff =)\n",
    "LL = deepcopy(connected3)\n",
    "#delete k nodes from the LL and print it to show that we've deleted them.\n",
    "conn3_del5_1 = delete_k_nodes(connected3, 5, 2)\n",
    "print_LL(connected3)"
   ]
  },
  {
   "cell_type": "markdown",
   "metadata": {},
   "source": [
    "### 2.1: Remove dups:\n",
    "write code to remove duplicates from an unsorted linked list\n",
    "How would you solve this without a temporary buffer (aka no space extra used)"
   ]
  },
  {
   "cell_type": "markdown",
   "metadata": {},
   "source": [
    "assuming that they want to delete the dups that occur after occurrance. example: 1, 2, 3, 2, 4, 5, 3 -> 1, 2, 3, 4, 5"
   ]
  },
  {
   "cell_type": "markdown",
   "metadata": {},
   "source": [
    "#### my original solution, with buffer. O(N) space and time\n",
    "summary: go through the list one time, hashing unique keys as you go, and if a key is already in the hash set, remove that node with that rpeated key"
   ]
  },
  {
   "cell_type": "code",
   "execution_count": 6,
   "metadata": {},
   "outputs": [
    {
     "name": "stdout",
     "output_type": "stream",
     "text": [
      "3\n",
      "5\n",
      "8\n",
      "5\n",
      "10\n",
      "5\n",
      "1\n",
      "----\n",
      "3\n",
      "5\n",
      "8\n",
      "10\n",
      "1\n"
     ]
    }
   ],
   "source": [
    "#brute force - use extra space. go through list twice, mark dups on first\n",
    "    #on second, delete dups. \n",
    "def get_counts(head):\n",
    "    table = {}\n",
    "    node = head\n",
    "    while node != None:\n",
    "        if node.key not in table:\n",
    "            table[key] = 1\n",
    "        else:\n",
    "            table[key] += 1\n",
    "        node = node.next\n",
    "    return table\n",
    "    \n",
    "def delete_dups(head):\n",
    "    #counts = get_counts(head) #dontneed to do this.\n",
    "    \n",
    "    #figure out what are the possible keys in this LL\n",
    "    Set = set()\n",
    "    node = head\n",
    "    while node != None:\n",
    "        if node.key not in Set:\n",
    "            Set.add(node.key)\n",
    "        node = node.next\n",
    "    \n",
    "    #initialize a hash table to count how many times seen this key so far\n",
    "    counters = {}\n",
    "    for key in Set:\n",
    "        counters[key] = 0\n",
    "    \n",
    "    #initialize parsing nodes/pointers/stuff\n",
    "    dummy = Node()\n",
    "    dummy.next = head\n",
    "    trailing = Node()\n",
    "    trailing.next = dummy\n",
    "    node = head\n",
    "    \n",
    "    while node != None:\n",
    "        if counters[node.key] == 0:\n",
    "            counters[node.key] += 1\n",
    "        elif counters[node.key] > 0:\n",
    "            trailing.next.next = node.next\n",
    "            node.next = None\n",
    "            if node == head:\n",
    "                head = trailing.next.next\n",
    "            node = trailing.next.next\n",
    "            continue\n",
    "        trailing.next = trailing.next.next\n",
    "        node = node.next\n",
    "        \n",
    "    return head\n",
    "\n",
    "n3 = Node(3)\n",
    "n5 = Node(5)\n",
    "n8 = Node(8)\n",
    "n5_2 = Node(5)\n",
    "n10 = Node(10)\n",
    "n2 = Node(5)\n",
    "n1 = Node(1)\n",
    "#connect test node data into LL\n",
    "connected3 = generate_LL([n3, n5, n8, n5_2, n10, n2, n1])\n",
    "#print test LL\n",
    "print_LL(connected3)\n",
    "print('----')\n",
    "print_LL(delete_dups(connected3))"
   ]
  },
  {
   "cell_type": "markdown",
   "metadata": {},
   "source": [
    "#### book solution with buffer. O(N) space, O(N) time\n"
   ]
  },
  {
   "cell_type": "code",
   "execution_count": 7,
   "metadata": {},
   "outputs": [
    {
     "name": "stdout",
     "output_type": "stream",
     "text": [
      "3\n",
      "5\n",
      "8\n",
      "5\n",
      "10\n",
      "5\n",
      "1\n",
      "----\n",
      "3\n",
      "5\n",
      "8\n",
      "10\n",
      "1\n"
     ]
    }
   ],
   "source": [
    "#BOOK SOLUTION - WITH a buffer - same as ours, but you dont need the counts,\n",
    "    #you only need the set() hashing. (duh)\n",
    "def delete_dups(head):\n",
    "\n",
    "    dummy = Node()\n",
    "    dummy.next = head\n",
    "    trailing = Node()\n",
    "    trailing.next = dummy\n",
    "    node = head\n",
    "    Set = set()\n",
    "    \n",
    "    while node != None:\n",
    "        if node.key not in Set:\n",
    "            Set.add(node.key)\n",
    "        else:\n",
    "            trailing.next.next = node.next\n",
    "            node.next = None\n",
    "            if node == head:\n",
    "                head = trailing.next.next\n",
    "            node = trailing.next.next\n",
    "            continue\n",
    "        trailing.next = trailing.next.next\n",
    "        node = node.next\n",
    "        \n",
    "    return head\n",
    "\n",
    "n3 = Node(3)\n",
    "n5 = Node(5)\n",
    "n8 = Node(8)\n",
    "n5_2 = Node(5)\n",
    "n10 = Node(10)\n",
    "n2 = Node(5)\n",
    "n1 = Node(1)\n",
    "#connect test node data into LL\n",
    "connected3 = generate_LL([n3, n5, n8, n5_2, n10, n2, n1])\n",
    "#print test LL\n",
    "print_LL(connected3)\n",
    "print('----')\n",
    "print_LL(delete_dups(connected3))"
   ]
  },
  {
   "cell_type": "markdown",
   "metadata": {},
   "source": [
    "#### my solution, no buffer - book's no buffer soln is pretty much the same. O(N^2) time, O(1) space\n",
    "if i cant use space, i just gotta compare every single node with each other. do for i=0..N loop nested with for j =i..N loop."
   ]
  },
  {
   "cell_type": "code",
   "execution_count": 8,
   "metadata": {},
   "outputs": [
    {
     "name": "stdout",
     "output_type": "stream",
     "text": [
      "3\n",
      "5\n",
      "8\n",
      "5\n",
      "10\n",
      "5\n",
      "1\n",
      "----\n",
      "3\n",
      "5\n",
      "8\n",
      "10\n",
      "1\n"
     ]
    }
   ],
   "source": [
    "# no buffer allowed \n",
    "    #only thing i can think of is go N^2. \n",
    "def delete_dups(head):\n",
    "    trailing = Node()\n",
    "    current = head\n",
    "\n",
    "    while current != None:\n",
    "        node = current.next\n",
    "        trailing.next = current\n",
    "        while node != None:\n",
    "            if node.key == current.key and current != node:\n",
    "                trailing.next.next = node.next\n",
    "                node.next = None\n",
    "                node = trailing.next.next\n",
    "                continue\n",
    "            \n",
    "            node = node.next\n",
    "            trailing.next = trailing.next.next\n",
    "        \n",
    "        current = current.next\n",
    "    \n",
    "    return head\n",
    "\n",
    "n3 = Node(3)\n",
    "n5 = Node(5)\n",
    "n8 = Node(8)\n",
    "n5_2 = Node(5)\n",
    "n10 = Node(10)\n",
    "n2 = Node(5)\n",
    "n1 = Node(1)\n",
    "#connect test node data into LL\n",
    "connected3 = generate_LL([n3, n5, n8, n5_2, n10, n2, n1])\n",
    "#print test LL\n",
    "print_LL(connected3)\n",
    "print('----')\n",
    "print_LL(delete_dups(connected3))"
   ]
  },
  {
   "cell_type": "code",
   "execution_count": 9,
   "metadata": {},
   "outputs": [],
   "source": [
    "# BOOKS NO BUFFER SOLN IS PRETTY MUCH THE SAME"
   ]
  },
  {
   "cell_type": "markdown",
   "metadata": {},
   "source": [
    "### 2.2: Return kth to last:\n",
    "implement an algorithm to find the kth to last element of SLL"
   ]
  },
  {
   "cell_type": "markdown",
   "metadata": {},
   "source": [
    "#### my original soln. like EPI. O(1) space O(n) time\n",
    "summary: from epi. have leading and trailing ptr. send leading k elements in. then send both sequentially in until leading hits end. trailing is ans"
   ]
  },
  {
   "cell_type": "code",
   "execution_count": 10,
   "metadata": {},
   "outputs": [
    {
     "name": "stdout",
     "output_type": "stream",
     "text": [
      "3\n",
      "5\n",
      "8\n",
      "5\n",
      "10\n",
      "5\n",
      "1\n",
      "----\n",
      "5\n"
     ]
    }
   ],
   "source": [
    "#already did this problem in EPI. This is the fastest method.\n",
    "def kth_to_last(head, k):\n",
    "    '''\n",
    "    if k > N, returns dummy node. if-statemented so returns head instead.\n",
    "    if k == N, returns head\n",
    "    if k == 1, returns tail node\n",
    "    if k == 0, returns None\n",
    "    '''\n",
    "    dummy = Node()\n",
    "    dummy.next = head\n",
    "    trailing = Node()\n",
    "    trailing.next = dummy\n",
    "    node = dummy\n",
    "    \n",
    "    counter = 0\n",
    "    while node != None and counter != k:\n",
    "        counter += 1\n",
    "        node = node.next\n",
    "    \n",
    "    while node != None:\n",
    "        node = node.next\n",
    "        trailing.next = trailing.next.next\n",
    "    \n",
    "    if trailing.next == dummy:\n",
    "        return head\n",
    "    \n",
    "    return trailing.next\n",
    "\n",
    "n3 = Node(3)\n",
    "n5 = Node(5)\n",
    "n8 = Node(8)\n",
    "n5_2 = Node(5)\n",
    "n10 = Node(10)\n",
    "n2 = Node(5)\n",
    "n1 = Node(1)\n",
    "LL = generate_LL([n3, n5, n8, n5_2, n10, n2, n1])\n",
    "print_LL(LL)\n",
    "print('----')\n",
    "print(kth_to_last(LL, 2).key)"
   ]
  },
  {
   "cell_type": "code",
   "execution_count": 11,
   "metadata": {},
   "outputs": [],
   "source": [
    "# book is following same convention. if k = 1, returns last element.\n",
    "\n",
    "#BOOK SOLN 1: if linked list size is known. its not. lol. dumb AF\n",
    "\n",
    "#BOOK SOLN 2: recursion\n",
    "#recursion 1: dont return the element and just print it.\n",
    "def printKthToLast(head, k):\n",
    "    if head == None:\n",
    "        return 0\n",
    "    index = printKthToLast(head.next, k) + 1\n",
    "    if index == k:\n",
    "        print(k +'.data = ' + head.key)\n",
    "    \n",
    "    return index\n",
    "\n",
    "#recursion 2: USE C++? LOL? pass values by reference, return node ctr pass ptr\n",
    "\n",
    "#recursion 3: use a wrappeer class?\n",
    "\n",
    "#i have no idea what they want for recursion 2-3  and dont care\n",
    "\n",
    "#BOOK SOLN 3: same as mine =)"
   ]
  },
  {
   "cell_type": "markdown",
   "metadata": {},
   "source": [
    "### 2.3: Delete middle node:\n",
    "Implement an algorithm to delete a node in the middle (i.e., any node but\n",
    "the first and last node, not necessarily the exact middle) of a singly linked list, given only access to\n",
    "that node.\n",
    "EXAMPLE\n",
    "Input: the node c from the linked list a - >b- >c - >d - >e- >f\n",
    "Result: nothing is returned, but the new linked list looks like a - >b- >d - >e- >f"
   ]
  },
  {
   "cell_type": "markdown",
   "metadata": {},
   "source": [
    "# i read soln after like 5 mins =(\n",
    "BOOK SUMMARY SADFACE: given the node to delete, say node i, from the current node to the end of the LL, copy the data from i+1 into i. Then disconnect the lkast node from the list.\n",
    "\n",
    "TEHCNICALLY this isnt deleting the node. it is renaming the data."
   ]
  },
  {
   "cell_type": "code",
   "execution_count": 12,
   "metadata": {
    "scrolled": true
   },
   "outputs": [
    {
     "name": "stdout",
     "output_type": "stream",
     "text": [
      "3\n",
      "5\n",
      "8\n",
      "5\n",
      "10\n",
      "5\n",
      "1\n",
      "----\n",
      "3\n",
      "5\n",
      "8\n",
      "5\n",
      "10\n",
      "1\n"
     ]
    }
   ],
   "source": [
    "def delete_middle(node):\n",
    "\n",
    "    holder = None\n",
    "    \n",
    "    if node.next.next == None:\n",
    "        holder = node\n",
    "    \n",
    "    while node.next != None:\n",
    "        if node.next.next == None:\n",
    "            holder = node\n",
    "        node.key = node.next.key\n",
    "        node = node.next\n",
    "        \n",
    "    holder.next = None\n",
    "    \n",
    "    return\n",
    "\n",
    "n3 = Node(3)\n",
    "n5 = Node(5)\n",
    "n8 = Node(8) # this will get deleted.\n",
    "n5_2 = Node(5)\n",
    "n10 = Node(10)\n",
    "n2 = Node(5)\n",
    "n1 = Node(1)\n",
    "LL = generate_LL([n3, n5, n8, n5_2, n10, n2, n1])\n",
    "print_LL(LL)\n",
    "print('----')\n",
    "\n",
    "iterator = LL\n",
    "for k in range(5):\n",
    "    iterator = iterator.next\n",
    "    \n",
    "delete_middle(iterator)\n",
    "\n",
    "print_LL(LL)\n"
   ]
  },
  {
   "cell_type": "markdown",
   "metadata": {},
   "source": [
    "### 2.4: partition:\n",
    "Write code to partition a linked list around a value x, such that all nodes less than x come\n",
    "before all nodes greater than or equal to x. lf x is contained within the list, the values of x only need\n",
    "to be after the elements less than x (see below). The partition element x can appear anywhere in the\n",
    "\"right partition\"; it does not need to appear between the left and right partitions.\n",
    "EXAMPLE\n",
    "Input: 3 -> 5 -> 8 -> 5 -> 10 -> 2 -> 1 [partition = 5)\n",
    "Output: 3 -> 1 -> 2 -> 10 -> 5 -> 5 -> 8"
   ]
  },
  {
   "cell_type": "markdown",
   "metadata": {},
   "source": [
    "#### O(1) space (mutilating original LL), O(N) time.\n",
    "\n",
    "summary: go through list once, comparing each key to x. if less than x, cut this node out and paste into other list for those less than x. at the end, connect list with smaller values to original list that has greater values"
   ]
  },
  {
   "cell_type": "code",
   "execution_count": 13,
   "metadata": {},
   "outputs": [
    {
     "name": "stdout",
     "output_type": "stream",
     "text": [
      "3\n",
      "5\n",
      "8\n",
      "5\n",
      "10\n",
      "2\n",
      "1\n",
      "---\n",
      "3\n",
      "2\n",
      "1\n",
      "5\n",
      "8\n",
      "5\n",
      "10\n"
     ]
    }
   ],
   "source": [
    "def partition(head, x):\n",
    "    dummy = Node()\n",
    "    dummy.next = head\n",
    "    trailing = Node()\n",
    "    trailing.next = dummy\n",
    "    node = head\n",
    "    \n",
    "    newhead = None\n",
    "    newiter = Node()\n",
    "    newiter.next = newhead\n",
    "\n",
    "    \n",
    "    while node != None:\n",
    "        if node.key < x:\n",
    "            trailing.next.next = node.next\n",
    "            node.next = None\n",
    "            if node == head:\n",
    "                head = trailing.next.next\n",
    "            if newhead == None:\n",
    "                newhead = node\n",
    "                newiter.next = newhead\n",
    "            else:\n",
    "                newiter.next.next = node\n",
    "                newiter.next = newiter.next.next\n",
    "            node = trailing.next.next\n",
    "            continue\n",
    "        node = node.next\n",
    "        trailing.next = trailing.next.next\n",
    "    \n",
    "    newiter.next.next = head\n",
    "    \n",
    "    return newhead\n",
    "\n",
    "n3 = Node(3)\n",
    "n5 = Node(5)\n",
    "n8 = Node(8) # this will get deleted.\n",
    "n5_2 = Node(5)\n",
    "n10 = Node(10)\n",
    "n2 = Node(2)\n",
    "n1 = Node(1)\n",
    "LL = generate_LL([n3, n5, n8, n5_2, n10, n2, n1])\n",
    "print_LL(LL)\n",
    "print('---')\n",
    "print_LL(partition(LL, 5))"
   ]
  },
  {
   "cell_type": "code",
   "execution_count": 14,
   "metadata": {},
   "outputs": [],
   "source": [
    "#BOOK. no comment. didnt want to read code. read soln description though.\n",
    "    # was gucci. pretty much the same idea as mine besides tweaks."
   ]
  },
  {
   "cell_type": "markdown",
   "metadata": {},
   "source": [
    "### 2.5: Sum lists:\n",
    "You have two numbers represented by a linked list, where each node contains a single\n",
    "digit. The digits are stored in reverse order, such that the 1 's digit is at the head of the list. Write a\n",
    "function that adds the two numbers and returns the sum as a linked list.\n",
    "\n",
    "EXAMPLE\n",
    "\n",
    "Input: (7-) 1 -) 6) + (5 -) 9 -) 2) .Thatis,617 + 295.\n",
    "\n",
    "Output: 2 -) 1 -) 9. That is, 912.\n",
    "\n",
    "\n",
    "FOLLOW UP\n",
    "Suppose the digits are stored in forward order. Repeat the above problem.\n",
    "\n",
    "EXAMPLE\n",
    "\n",
    "Input: (6 -) 1 -) 7) + (2 -) 9 -) 5).Thatis,617 + 295.\n",
    "\n",
    "Output: 9 -) 1 -) 2. That is, 912."
   ]
  },
  {
   "cell_type": "markdown",
   "metadata": {},
   "source": [
    "# READ THE PROBLEM. We want result in a LL."
   ]
  },
  {
   "cell_type": "markdown",
   "metadata": {},
   "source": [
    "#### quick exercise in generating a linked list from scratch from an array. \n",
    "type 1: go from back (head) to front (tail). use prev pointers that point to the prev element in ll, connecting as you go. for first element, grab the head in another var so u can return head easily."
   ]
  },
  {
   "cell_type": "code",
   "execution_count": 15,
   "metadata": {},
   "outputs": [
    {
     "name": "stdout",
     "output_type": "stream",
     "text": [
      "1\n",
      "2\n",
      "3\n",
      "4\n"
     ]
    }
   ],
   "source": [
    "def create_LL_backtofront(arr):\n",
    "    prev = None\n",
    "    head = None\n",
    "    for item in arr:\n",
    "        node = Node(item)\n",
    "        if prev == None:\n",
    "            prev = node\n",
    "            head = node\n",
    "        else:\n",
    "            prev.next = node\n",
    "            prev = prev.next\n",
    "    \n",
    "    return head\n",
    "arr = [1, 2, 3, 4]\n",
    "print_LL(create_LL_backtofront(arr))"
   ]
  },
  {
   "cell_type": "markdown",
   "metadata": {},
   "source": [
    "type 2: go from front (tail) to back (head). use next pointers to point to the next element, then at next iteration generating new element, just connect this new element to the next element from prior iteration. since we go front to back, the iterator at the end is the head node itself"
   ]
  },
  {
   "cell_type": "code",
   "execution_count": 16,
   "metadata": {},
   "outputs": [
    {
     "name": "stdout",
     "output_type": "stream",
     "text": [
      "4\n",
      "3\n",
      "2\n",
      "1\n"
     ]
    }
   ],
   "source": [
    "def create_LL_fronttoback(arr):\n",
    "    nex = None\n",
    "    for item in arr:\n",
    "        node = Node(item)\n",
    "        if nex == None:\n",
    "            nex = node\n",
    "        else:\n",
    "            node.next = nex\n",
    "            nex = node\n",
    "    \n",
    "    return nex\n",
    "\n",
    "arr = [1, 2, 3, 4]\n",
    "print_LL(create_LL_fronttoback(arr))"
   ]
  },
  {
   "cell_type": "markdown",
   "metadata": {},
   "source": [
    "#### my solution, ll's positive, head ones, tail MSD. time complexity O(N), N max(len(L1), len(L2)), space complexity O(1)\n",
    "summary: literally generated the integer represnetation of the LL representation of the integer. didnt read problem right.\n",
    "\n",
    "however, afterwards, can easily extract from integer digits and put into LL "
   ]
  },
  {
   "cell_type": "code",
   "execution_count": 17,
   "metadata": {},
   "outputs": [
    {
     "name": "stdout",
     "output_type": "stream",
     "text": [
      "912\n",
      "2\n",
      "1\n",
      "9\n"
     ]
    }
   ],
   "source": [
    "#assuming linked list is positive\n",
    "#LL stored as head being ones, and tail being MSD (most significant digit)\n",
    "\n",
    "\n",
    "def sum_lists(L1, L2, ll=False):\n",
    "    iter1 = L1\n",
    "    iter2 = L2\n",
    "    counter = 0\n",
    "    multiplier = 1\n",
    "    while iter1 != None and iter2 != None:\n",
    "        counter += ((multiplier * iter1.key) + (multiplier * iter2.key))\n",
    "        multiplier *= 10\n",
    "        iter1 = iter1.next\n",
    "        iter2 = iter2.next\n",
    "    \n",
    "    fiter = None\n",
    "    if iter1 == None and iter2 == None and not ll: #both have same digits\n",
    "        return counter\n",
    "    elif iter1 == None: #and not both are none, so iter2 must be leftover\n",
    "        fiter = iter2\n",
    "    else: #iter2 == None, and not both are none, so iter1 must be leftover\n",
    "        fiter = iter1\n",
    "        \n",
    "    while fiter != None:\n",
    "        counter += (multiplier * fiter.key)\n",
    "        multiplier *= 10\n",
    "        fiter = fiter.next\n",
    "    \n",
    "    if not ll:\n",
    "        return counter\n",
    "    \n",
    "    if counter == 0:\n",
    "        return Node(0)\n",
    "    else:\n",
    "        prev = None\n",
    "        head = None\n",
    "        while counter != 0:\n",
    "            val = counter % 10\n",
    "            counter //= 10\n",
    "            node = Node(val)\n",
    "            if prev == None:\n",
    "                prev = node\n",
    "                head = node\n",
    "            else:\n",
    "                prev.next = node\n",
    "                prev = prev.next\n",
    "        \n",
    "    return head\n",
    "\n",
    "\n",
    "n7 = Node(7)\n",
    "n1 = Node(1)\n",
    "n6 = Node(6)\n",
    "\n",
    "n5 = Node(5)\n",
    "n9 = Node(9)\n",
    "n2 = Node(2)\n",
    "\n",
    "L1 = generate_LL([n7, n1, n6])\n",
    "L2 = generate_LL([n5, n9, n2])\n",
    "print(sum_lists(L1, L2))\n",
    "print_LL(sum_lists(L1, L2, True))"
   ]
  },
  {
   "cell_type": "markdown",
   "metadata": {},
   "source": [
    "# my soln followup: head MSD, tail ones, assume positive. time complexity O(N), space complexity O(1)"
   ]
  },
  {
   "cell_type": "code",
   "execution_count": 18,
   "metadata": {},
   "outputs": [
    {
     "name": "stdout",
     "output_type": "stream",
     "text": [
      "1912.0\n",
      "1.0\n",
      "9.0\n",
      "1.0\n",
      "2.0\n"
     ]
    }
   ],
   "source": [
    "# assume is in reverse order. \n",
    "# go through an initial pass for each to determine length to detemrine multi\n",
    "# then go through larger (if applicable) adding as you go\n",
    "# then go through both.\n",
    "def getListLen(L):\n",
    "    N = 0\n",
    "    node = L\n",
    "    while node != None:\n",
    "        N += 1\n",
    "        node = node.next\n",
    "    return N\n",
    "\n",
    "def sum_lists(L1, L2, ll=False):\n",
    "    N1 = getListLen(L1)\n",
    "    N2 = getListLen(L2)\n",
    "\n",
    "    counter = 0\n",
    "    #iter1 will be the bigger one if there exists a bigger one.\n",
    "    if N1 != N2:\n",
    "        multiplier = 1\n",
    "        for i in range(max(N1, N2) - 1):\n",
    "            multiplier *= 10\n",
    "        iter1 = None \n",
    "        iter2 = None \n",
    "        if N1 > N2:\n",
    "            iter1 = L1\n",
    "            iter2 = L2\n",
    "        else:\n",
    "            iter1 = L2\n",
    "            iter2 = L1\n",
    "        for i in range(max(N1, N2) - min(N1, N2)):\n",
    "            counter += (multiplier * iter1.key)\n",
    "            multiplier /= 10\n",
    "            iter1 = iter1.next\n",
    "    else: #N1 == N2:\n",
    "        multiplier = 1\n",
    "        for i in range(N1 - 1):\n",
    "            multiplier *= 10\n",
    "        iter1 = L1\n",
    "        iter2 = L2\n",
    "\n",
    "    while iter1 != None and iter2 != None:\n",
    "        counter += ((multiplier * iter1.key) + (multiplier * iter2.key))\n",
    "        multiplier /= 10\n",
    "        iter1 = iter1.next\n",
    "        iter2 = iter2.next\n",
    "        \n",
    "    if not ll:    \n",
    "        return counter\n",
    "    \n",
    "    nex = None\n",
    "    while counter != 0:\n",
    "        val = counter % 10\n",
    "        counter //= 10\n",
    "        node = Node(val)\n",
    "        if nex == None:\n",
    "            nex = node\n",
    "        else:\n",
    "            node.next = nex\n",
    "            nex = node\n",
    "    \n",
    "    return nex\n",
    "\n",
    "n7 = Node(7)\n",
    "n1 = Node(1)\n",
    "n6 = Node(6)\n",
    "\n",
    "n5 = Node(5)\n",
    "n9 = Node(9)\n",
    "n2 = Node(2)\n",
    "\n",
    "L1 = generate_LL([deepcopy(n1), n6, n1, n7])\n",
    "L2 = generate_LL([n2, n9, n5])\n",
    "print(sum_lists(L1, L2))\n",
    "print_LL(sum_lists(L1, L2, True))"
   ]
  },
  {
   "cell_type": "markdown",
   "metadata": {},
   "source": [
    "### takeaway: RV - generating a LL in general from scratch, FWD vs BWD process. "
   ]
  },
  {
   "cell_type": "markdown",
   "metadata": {},
   "source": [
    "# BOOK SOLN: RV - kind of like integer addition within an array where each array entry is a digit. use carries. use recursion??"
   ]
  },
  {
   "cell_type": "markdown",
   "metadata": {},
   "source": [
    "### 2.6: Palindrome:\n",
    "implement a function to determine if a linked list is a palindrome"
   ]
  },
  {
   "cell_type": "markdown",
   "metadata": {},
   "source": [
    "#### O(N) space, O(2N) time. \n",
    "summary: cheated. put the LL elements into an array and did what u would normally do with an array, going from both ends of array."
   ]
  },
  {
   "cell_type": "code",
   "execution_count": 19,
   "metadata": {},
   "outputs": [
    {
     "data": {
      "text/plain": [
       "False"
      ]
     },
     "execution_count": 19,
     "metadata": {},
     "output_type": "execute_result"
    }
   ],
   "source": [
    "#brute force. put it in a list lol... O(N) space, O(2N) time\n",
    "def is_palindromeA(arr):\n",
    "    last = len(arr) - 1\n",
    "    beg = 0\n",
    "    while beg < last:\n",
    "        if arr[beg] != arr[last]:\n",
    "            return False\n",
    "        beg += 1\n",
    "        last -= 1\n",
    "    \n",
    "    return True\n",
    "\n",
    "def is_palindromeL(head):\n",
    "    arr = []\n",
    "    node = head\n",
    "    while node != None:\n",
    "        arr.append(node.key)\n",
    "        node = node.next\n",
    "    return is_palindromeA(arr)\n",
    "\n",
    "is_palindromeL(create_LL_backtofront([1, 2, 3, 3, 3, 1]))"
   ]
  },
  {
   "cell_type": "markdown",
   "metadata": {},
   "source": [
    "#### O(N^2) time, O(N/2) space due to fcn call stack\n",
    "summary: check 1st and last elements. then send list without first and last elements to itself recurisvely. as soon as its not the same first and last element for every sublist, get fail. otherwise succeed. base case even if empty ll, base case odd if 1 item list."
   ]
  },
  {
   "cell_type": "code",
   "execution_count": 20,
   "metadata": {},
   "outputs": [
    {
     "data": {
      "text/plain": [
       "True"
      ]
     },
     "execution_count": 20,
     "metadata": {},
     "output_type": "execute_result"
    }
   ],
   "source": [
    "# no space complexity. at the cost of time. O(N^2), O(N) space recursion fcs\n",
    "def is_palindromeL(head):\n",
    "    if head == None or head.next == None or (\n",
    "        head.key == head.next.key and head.next.next == None):\n",
    "        return True\n",
    "    dummy = Node()\n",
    "    dummy.next = head\n",
    "    trailing = Node()\n",
    "    trailing.next = dummy\n",
    "    node = head\n",
    "    while node.next != None:\n",
    "        node = node.next\n",
    "        trailing.next = trailing.next.next\n",
    "    if trailing.next.next.key != head.key:\n",
    "        return False\n",
    "    trailing.next.next = None\n",
    "    \n",
    "    return is_palindromeL(head.next)\n",
    "    \n",
    "is_palindromeL(create_LL_backtofront([1, 2, 3,4, 3, 2, 1]))"
   ]
  },
  {
   "cell_type": "markdown",
   "metadata": {},
   "source": [
    "#### O(2N) time, O(N) space. my take on book soln reading a little too much\n",
    "summary: go through list once O(N) to generate the reversed list in another LL taking up anohter O(N) spacee. then go through list again, both at same time, comparing elements. O(N). O(N+N) time, O(N) space."
   ]
  },
  {
   "cell_type": "code",
   "execution_count": 21,
   "metadata": {},
   "outputs": [
    {
     "data": {
      "text/plain": [
       "False"
      ]
     },
     "execution_count": 21,
     "metadata": {},
     "output_type": "execute_result"
    }
   ],
   "source": [
    "#Book solution IDEA, MY TRY: reverse the linked list\n",
    "#uses N space to copy, then N speed to reverse, then N to iterate. \n",
    "    #is still O(N) space and O(N) time\n",
    "def reverse_ll(head):\n",
    "    dummy = Node()\n",
    "    dummy.next = head\n",
    "    trailing = Node()\n",
    "    trailing.next = dummy\n",
    "    node = head\n",
    "    \n",
    "    prev = None\n",
    "    while node != None:\n",
    "        Next = node.next\n",
    "        if node == head:\n",
    "            node.next = None\n",
    "        else:\n",
    "            node.next = prev\n",
    "        prev = node\n",
    "        node = Next\n",
    "        \n",
    "    return prev\n",
    "\n",
    "from copy import deepcopy\n",
    "def is_palindrome_reverseLL(head):\n",
    "    reverse = reverse_ll(deepcopy(head))\n",
    "    iter1 = head\n",
    "    iter2 = reverse\n",
    "    while iter1 != None and iter2 != None:\n",
    "        if iter1.key != iter2.key:\n",
    "            return False\n",
    "        iter1 = iter1.next\n",
    "        iter2 = iter2.next\n",
    "        \n",
    "    return True\n",
    "\n",
    "is_palindromeL(create_LL_backtofront([1, 2, 3,4, 2, 1]))"
   ]
  },
  {
   "cell_type": "markdown",
   "metadata": {},
   "source": [
    "#### this try didn't work. theoretically O(1) space, O(3N) time\n",
    "summary: go through each element to get length. then, go through half to get middle. then, from middle to end, reverse. if odd, both tail and head will be lists converging to the middle node. if even, the tail of the tail end list and the tail of the head end list will be pointing at each other."
   ]
  },
  {
   "cell_type": "code",
   "execution_count": 31,
   "metadata": {},
   "outputs": [],
   "source": [
    "# SELF SOLN - take book's idea of reverse LL and only reverse the end.\n",
    "    # aka, pass through once (N) to get length\n",
    "        #then, pass through again to reverse just the last end\n",
    "            #then, pass through again (both ends at same time) \n",
    "                #when it is same node, stop.\n",
    "#O(1) space, O(N) == O(3N) time\n",
    "def get_length(head):\n",
    "    node = head\n",
    "    counter = 0\n",
    "    while node != None:\n",
    "        counter += 1\n",
    "        node = node.next\n",
    "        \n",
    "    return counter\n",
    "                \n",
    "#NOT WORKIng.\n",
    "def is_palindrome_reverseEnd(head):\n",
    "    N = get_length(head)\n",
    "    \n",
    "    if N % 2 == 0: #length is even.\n",
    "        counter = (N/2) - 1\n",
    "        node = head\n",
    "        while counter > 0:\n",
    "            node = node.next\n",
    "            counter -= 1\n",
    "        turnpoint = node.next\n",
    "        tail = reverse_ll(turnpoint)\n",
    "        turnpoint.next = node\n",
    "        \n",
    "        iter1 = head\n",
    "        iter2 = tail\n",
    "        while iter1.next != iter2 and iter2.next != iter1:\n",
    "            if iter1.key != iter2.key:\n",
    "                return False\n",
    "            iter1 = iter1.next\n",
    "            iter2 = iter2.next\n",
    "            \n",
    "        return True\n",
    "            \n",
    "        \n",
    "    else: #length is odd, easy case\n",
    "        counter = int(N/2)\n",
    "        node = head\n",
    "        while counter > 0:\n",
    "            node = node.next\n",
    "            counter -= 1\n",
    "        turnpoint = node.next\n",
    "        tail = reverse_ll(turnpoint)\n",
    "        turnpoint.next = node\n",
    "        \n",
    "        iter1 = head\n",
    "        iter2 = tail\n",
    "        while iter1 != iter2:\n",
    "            if iter1.key != iter2.key:\n",
    "                return False\n",
    "            iter1 = iter1.next\n",
    "            iter2 = iter2.next\n",
    "            \n",
    "        return True\n",
    "\n"
   ]
  },
  {
   "cell_type": "markdown",
   "metadata": {},
   "source": [
    "#### same as above. but works.\n",
    "summary: exactly the same as the above idea, but insteaad of connecting the tail end list to the head end list, we point the two tails to null and iterate it like normal. in cases of odd lengthed lists, the middle node is discarded into space. "
   ]
  },
  {
   "cell_type": "code",
   "execution_count": 33,
   "metadata": {},
   "outputs": [
    {
     "data": {
      "text/plain": [
       "True"
      ]
     },
     "execution_count": 33,
     "metadata": {},
     "output_type": "execute_result"
    }
   ],
   "source": [
    "#insetad of having them connect to each other, disconnect the LL into\n",
    "    #two separate LL. delete/disconnect middle node if odd.\n",
    "def is_palindrome_reverseEnd_delOddMid(head):\n",
    "    N = get_length(head)\n",
    "    if N == 0 or N == 1:\n",
    "        return True\n",
    "    counter = int(N/2) - 1\n",
    "    node = head\n",
    "    while counter > 0:\n",
    "        counter -= 1\n",
    "        node = node.next\n",
    "    if N % 2 == 0:\n",
    "        turnpoint = node.next\n",
    "    else:\n",
    "        turnpoint = node.next.next\n",
    "    node.next = None\n",
    "    tail = reverse_ll(turnpoint)\n",
    "    \n",
    "    iter1 = head\n",
    "    iter2 = tail\n",
    "    while iter1 != None and iter2 != None:\n",
    "        if iter1.key != iter2.key:\n",
    "            return False\n",
    "        iter1 = iter1.next\n",
    "        iter2 = iter2.next\n",
    "        \n",
    "    return True\n",
    "\n",
    "is_palindrome_reverseEnd_delOddMid(create_LL_backtofront([1, 2,3, 2, 1]))"
   ]
  },
  {
   "cell_type": "code",
   "execution_count": 23,
   "metadata": {},
   "outputs": [
    {
     "data": {
      "text/plain": [
       "'ALSO COOL'"
      ]
     },
     "execution_count": 23,
     "metadata": {},
     "output_type": "execute_result"
    }
   ],
   "source": [
    "# BOOK, soln 1: equivalent to 'MY TRY' on book soln. makes a copy of the\n",
    "    #original LL, and then reverses that copy. iterate through the reversed\n",
    "        #copy and original at samee time, checking as we go. O(N) space and time\n",
    "\n",
    "# book, soln 2: use a stack! 'reversing the front half of the list'\n",
    "\n",
    "'''COOL'''\n",
    "#push half of elements onto stack. if you know length, obvious just iterate\n",
    "#through half, pushing as you go, and then go through other half while pop.\n",
    "    #STACK allows to have the most recent element be adajacent to its \n",
    "    #palindromic equivalent char pos. \n",
    "'''ALSO COOL'''\n",
    "    #if dont know length, use fast runner\n",
    "    #and slow runner. fast runner moves 2x as slow runner. when fast runner\n",
    "    #gets to end, slow runner halfway through LL. slow runner adds to stack\n",
    "    #at each iteration. finish by having slow runner go the rest of way thru\n",
    "    #but now comparing with stack elements.\n",
    "\n",
    "#book, soln 3: recursion\n",
    "    # RV REVISIT. Dont fully understand."
   ]
  },
  {
   "cell_type": "markdown",
   "metadata": {},
   "source": [
    "### RV - use fast-runner slow-runner where applicable (such as not knowing lengths)"
   ]
  },
  {
   "cell_type": "markdown",
   "metadata": {},
   "source": [
    "### 2.7: Intersection\n",
    "Given two (singly) linked lists, determine if the two lists intersect. Return the intersecting\n",
    "node. Note that the intersection is defined based on reference, not value. That is, if the kth\n",
    "node of the first linked list is the exact same node (by reference) as the jth node of the second\n",
    "linked list, then they are intersecting."
   ]
  },
  {
   "cell_type": "markdown",
   "metadata": {},
   "source": [
    "method 1: traverse to the end of both LL's and if their last nodes (tail nodes) are the same, then they intersect (if they arent the same, then they don't intersect and return that fact). Then, if they have same tail node, can try variety of methods:\n",
    "\n",
    "    STOP"
   ]
  },
  {
   "cell_type": "markdown",
   "metadata": {},
   "source": [
    "##### TWO INTERSECTING LISTS HAVE SAME TAIL NODE. not too import"
   ]
  },
  {
   "cell_type": "markdown",
   "metadata": {},
   "source": [
    "\n",
    "\n",
    "Actually, you dont need to check the tail node first, you can just go through another method.\n",
    "\n",
    "\n",
    "Brute force:\n",
    "\n",
    "1a: do a nasty N^2 loop iterating through each of the smaller LL (this is inner loop) for each node in the bigger LL checking to see if the nodes are the same. eventually the smaller will get to the point it intersects the larger. if same lengths, its still just a N^2 comparison that works\n",
    "    \n",
    "EPI best solution (that i finally to remember)\n",
    "\n",
    "B: if one list is longer than the other, iterate through the bigger one k times, where k is equal to the difference in length between the bigger and smaller one. Then, iterate through both at the same time, comparing each node with each other. Only do the latter if they are the same length. Done b/c for the bigger one, the intersection cannot occur before the smaller one's length index since the smaller one is smaller"
   ]
  },
  {
   "cell_type": "code",
   "execution_count": 24,
   "metadata": {},
   "outputs": [],
   "source": [
    "# brute force solution 1A:\n",
    "#brute force, O(N * M) solution\n",
    "'''TAKEN FROM MY EPI SOLN'''\n",
    "def contains_common_node(head1, head2):\n",
    "    node1 = head1\n",
    "    node2 = head2\n",
    "    while(node1 != None):\n",
    "        while(node2 != None):\n",
    "            if node1 == node2:\n",
    "                return node1\n",
    "            node2 = node2.next\n",
    "        node1 = node1.next\n",
    "        node2 = head2\n",
    "    return None"
   ]
  },
  {
   "cell_type": "markdown",
   "metadata": {},
   "source": [
    " B solution best soln from EPI. O(M+N + max(M,N)). M+N from getting list lengths. max(M,N) from iterating through both lists at the same time. O(1) space"
   ]
  },
  {
   "cell_type": "code",
   "execution_count": 29,
   "metadata": {},
   "outputs": [
    {
     "name": "stdout",
     "output_type": "stream",
     "text": [
      "D\n"
     ]
    }
   ],
   "source": [
    "def get_length_int(head):\n",
    "    node = head\n",
    "    counter = 0\n",
    "    tail = None\n",
    "    while node != None:\n",
    "        if node.next == None:\n",
    "            tail = node.next\n",
    "        counter += 1\n",
    "        node = node.next\n",
    "        \n",
    "    return counter, tail\n",
    "\n",
    "def intersection(h1, h2):\n",
    "    N1, tail1 = get_length(h1)\n",
    "    N2, tail2 = get_length(h2)\n",
    "    \n",
    "    if tail1 != tail2:\n",
    "        return None #theres no itersection.\n",
    "    \n",
    "    #if two lists not same length, go down the bigger one their 'difference'\n",
    "    #in length times, and then afterwards go down both at same time.\n",
    "        # their intersection cannot occur before the longer one is at the \n",
    "        #same length as the shorter one.\n",
    "    if N1 != N2:\n",
    "        if N1 > N2:\n",
    "            diff = N1 - N2\n",
    "            iter1 = h1\n",
    "            iter2 = h2\n",
    "        elif N1 < N2:\n",
    "            diff = N2 - N1\n",
    "            iter1 = h2\n",
    "            iter2 = h1\n",
    "        #iter1 is the bigger one.\n",
    "        while diff > 0:\n",
    "            diff -= 1\n",
    "            iter1 = iter1.next\n",
    "    #if two lists same length, go down them at same time to get intercept.\n",
    "    else:\n",
    "        iter1 = h1\n",
    "        iter2 = h2\n",
    "    \n",
    "    while iter1 != None and iter2 != None:\n",
    "        if iter1 == iter2:\n",
    "            return iter1\n",
    "        iter1 = iter1.next\n",
    "        iter2 = iter2.next\n",
    "        \n",
    "    return iter1\n",
    "    \n",
    "A = Node('A')\n",
    "B = Node('B')\n",
    "C = Node('C')\n",
    "D = Node('D')\n",
    "E = Node('E')\n",
    "A.next = B\n",
    "B.next = C\n",
    "C.next = D\n",
    "D.next = E\n",
    "E.next = None\n",
    "\n",
    "\n",
    "X = Node('X')\n",
    "Y = Node('Y')\n",
    "X.next = Y\n",
    "Y.next = D\n",
    "print(intersection(A, Y).key)"
   ]
  },
  {
   "cell_type": "markdown",
   "metadata": {},
   "source": [
    "## RV NOTE: hash and compare by memory location/reference, not by value (for some things obv)"
   ]
  },
  {
   "cell_type": "markdown",
   "metadata": {},
   "source": [
    "### 2.8: Loop detection: \n",
    "Given a circular linked list, implement an algorithm that returns the node at the\n",
    "beginning of the loop.\n",
    "DEFINITION\n",
    "Circular linked list: A (corrupt) linked list in which a node's next pointer points to an earlier node, so\n",
    "as to make a loop in the linked list.\n",
    "EXAMPLE\n",
    "Input: A -) B -) C -) 0 -) E - ) C[thesameCasearlierl\n",
    "Output: C"
   ]
  },
  {
   "cell_type": "markdown",
   "metadata": {},
   "source": [
    "#### RV can i hash a user defined class without defining hash? "
   ]
  },
  {
   "cell_type": "markdown",
   "metadata": {},
   "source": [
    "O(N) space cuz hashing all items, O(N) time going through all items"
   ]
  },
  {
   "cell_type": "code",
   "execution_count": 144,
   "metadata": {},
   "outputs": [
    {
     "name": "stdout",
     "output_type": "stream",
     "text": [
      "C\n"
     ]
    }
   ],
   "source": [
    "def get_loop_node(head):\n",
    "    Set = set()\n",
    "    node = head\n",
    "    while node != None: #never get there since theres a loop. prolly break.\n",
    "        if node not in Set:\n",
    "            Set.add(node)\n",
    "        else:\n",
    "            break\n",
    "        node = node.next\n",
    "    return node\n",
    "print(get_loop_node(A).key)"
   ]
  },
  {
   "cell_type": "code",
   "execution_count": 143,
   "metadata": {},
   "outputs": [],
   "source": [
    "A = Node('A')\n",
    "B = Node('A')\n",
    "C = Node('C')\n",
    "D = Node('A')\n",
    "E = Node('A')\n",
    "A.next = B\n",
    "B.next = C\n",
    "C.next = D\n",
    "D.next = E\n",
    "E.next = C\n",
    "s = set()\n",
    "s.add(A)"
   ]
  },
  {
   "cell_type": "code",
   "execution_count": 137,
   "metadata": {},
   "outputs": [],
   "source": [
    "s.add(A)"
   ]
  },
  {
   "cell_type": "code",
   "execution_count": 139,
   "metadata": {},
   "outputs": [
    {
     "data": {
      "text/plain": [
       "True"
      ]
     },
     "execution_count": 139,
     "metadata": {},
     "output_type": "execute_result"
    }
   ],
   "source": [
    "A in s"
   ]
  },
  {
   "cell_type": "markdown",
   "metadata": {},
   "source": [
    "### BOOK SOLUTION: FLOYD CYCLE DETECTION/tortoise&hare\n",
    "summary: fasterptr speed = 2x. slowptr speed = 1x. \n",
    "\n",
    "when slowptr hits the loop beginning at iteration k, x = 1\n",
    "\n",
    "(1) slowptr is 0 steps into loop\n",
    "\n",
    "(2) fastptr is K = mod(k, loop-size) steps into loop\n",
    "\n",
    "(3) slowptr is K steps before fastptr\n",
    "\n",
    "-- confused at this part 4-5\n",
    "\n",
    "(4) fastptr is (loop-size - K) steps behind slowptr\n",
    "\n",
    "(5) fastptr catches up to slowptr at x steps per unit of time\n",
    "\n",
    "by (4) and (5), then they collide after (loop-size - K) steps. at this collision point, they are K steps before head of the loop.\n",
    "\n",
    "by previous point, since collison is K steps before head of loop, K= (k mod loop_size), then collison is also k steps before head of loop. \n",
    "\n",
    "since we defined k to be the steps taken by the slowpointer before it is at the START of the loop, and since collison is k steps before the start of the loop, we can have a ptr at collison and at head, incrementing at the same time until they are equal - this gives us the start of the loop"
   ]
  },
  {
   "cell_type": "code",
   "execution_count": 51,
   "metadata": {},
   "outputs": [
    {
     "name": "stdout",
     "output_type": "stream",
     "text": [
      "A\n"
     ]
    }
   ],
   "source": [
    "def get_loop_start(head):\n",
    "    fast = head\n",
    "    slow = head\n",
    "    \n",
    "    doBool = False\n",
    "    collison = None\n",
    "    #only gotta check fast cuz its ahead of slow\n",
    "    while fast != None and fast.next != None:\n",
    "        #skip first check cuz both head. however, head might be loop strt\n",
    "        if not doBool:\n",
    "            fast = fast.next.next\n",
    "            slow = slow.next\n",
    "            doBool = True\n",
    "            continue\n",
    "        if fast == slow:\n",
    "            collison = fast\n",
    "            break\n",
    "        fast = fast.next.next\n",
    "        slow = slow.next\n",
    "    \n",
    "    if not collison:\n",
    "        return collison\n",
    "    \n",
    "    slow = head\n",
    "    while fast != slow:\n",
    "        fast = fast.next\n",
    "        slow = slow.next\n",
    "        \n",
    "    return fast\n",
    "\n",
    "A = Node('A')\n",
    "B = Node('B')\n",
    "C = Node('C')\n",
    "D = Node('D')\n",
    "E = Node('E')\n",
    "A.next = B\n",
    "B.next = C\n",
    "C.next = D\n",
    "D.next = E\n",
    "E.next = A\n",
    "\n",
    "print(get_loop_start(A).key)"
   ]
  },
  {
   "cell_type": "markdown",
   "metadata": {},
   "source": [
    "## Chapter 3: stacks and queues"
   ]
  },
  {
   "cell_type": "code",
   "execution_count": 52,
   "metadata": {},
   "outputs": [
    {
     "name": "stderr",
     "output_type": "stream",
     "text": [
      "UsageError: Cell magic `%%` not found.\n"
     ]
    }
   ],
   "source": [
    "%% script false\n",
    "'''all OPS for all are O(1)'''\n",
    "\n",
    "'''STACKS - FIFO. use an array.'''\n",
    "# good for recursive algoos\n",
    "# also good for turning recursive algos iterative\n",
    "# going deep\n",
    "- pop() \n",
    "- push(item)\n",
    "- peek() #top of stack\n",
    "- empty()\n",
    "\n",
    "'''queues - LIFO'''\n",
    "# good for breadth first search or cache?\n",
    "# going spread out\n",
    "- enqueue(item)\n",
    "- dequeue()\n",
    "- peek() #front of line\n",
    "- empty()\n",
    "\n",
    "'''\n",
    "circular queues are probably easier to implement than noncircular \n",
    "this is cuz shifting everything over from dequeuing is super inefficient.\n",
    "'''"
   ]
  },
  {
   "cell_type": "code",
   "execution_count": 57,
   "metadata": {},
   "outputs": [
    {
     "data": {
      "text/plain": [
       "0"
      ]
     },
     "execution_count": 57,
     "metadata": {},
     "output_type": "execute_result"
    }
   ],
   "source": [
    "'''use a list as a stack'''\n",
    "stack = list()\n",
    "\n",
    "'''PUSH to the stack'''\n",
    "stack.append(1)\n",
    "\n",
    "'''PEEK the stack'''\n",
    "stack[-1]\n",
    "\n",
    "'''POP the stack - removes AND returns popped value.'''\n",
    "stack.pop() \n",
    "\n",
    "'''LENGTH of stack'''\n",
    "len(stack)\n",
    "\n",
    "#popping and peeking an empty stack gives you problems. "
   ]
  },
  {
   "cell_type": "code",
   "execution_count": 137,
   "metadata": {},
   "outputs": [],
   "source": [
    "class Stack:\n",
    "    \n",
    "    def __init__(self, data=[]):\n",
    "        self.stack = data\n",
    "\n",
    "    def push(self, item):\n",
    "        self.stack.append(item)\n",
    "        \n",
    "    def size(self):\n",
    "        return len(self.stack)\n",
    "    \n",
    "    def empty(self):\n",
    "        return not bool(self.size())\n",
    "    \n",
    "    def peek(self):\n",
    "        if self.empty():\n",
    "            print('Error: Stack is empty')\n",
    "            return None\n",
    "        return self.stack[-1]\n",
    "    \n",
    "    #theres ACTUALLY a pop function in python for lists.\n",
    "    def pop(self):\n",
    "        if self.empty():\n",
    "            return None\n",
    "        return self.stack.pop()\n"
   ]
  },
  {
   "cell_type": "code",
   "execution_count": 90,
   "metadata": {},
   "outputs": [
    {
     "data": {
      "text/plain": [
       "[2, 3, 4]"
      ]
     },
     "execution_count": 90,
     "metadata": {},
     "output_type": "execute_result"
    }
   ],
   "source": [
    "a = [1, 2, 3, 4]\n",
    "a.pop(0)\n",
    "a"
   ]
  },
  {
   "cell_type": "code",
   "execution_count": 60,
   "metadata": {},
   "outputs": [],
   "source": [
    "class Queue:\n",
    "    def __init__(self, data=[]):\n",
    "        self.queue = data\n",
    "    def enqueue(self, item):\n",
    "        self.queue.append(item)\n",
    "    def dequeue(self):\n",
    "        if not self.empty():\n",
    "            return self.queue.pop(0) #i am aware this is actually not O(1).\n",
    "        else:\n",
    "            return None\n",
    "    def peek(self):\n",
    "        if not self.empty():\n",
    "            return self.queue[0]\n",
    "        else:\n",
    "            return None\n",
    "    def size(self):\n",
    "        return len(queue)\n",
    "    def empty(self):\n",
    "        return not bool(len(queue))\n",
    "    "
   ]
  },
  {
   "cell_type": "code",
   "execution_count": 39,
   "metadata": {},
   "outputs": [],
   "source": [
    "from copy import deepcopy\n",
    "class LLQueue:\n",
    "    \n",
    "    class Node:\n",
    "        def __init__(self, data=None):\n",
    "            self.data = data\n",
    "            self.next = None\n",
    "            \n",
    "    def __init__(self, head=None):\n",
    "        self.front = Node() #pts to front of line (head)\n",
    "        self.back = Node() # pts to end of line (tail)\n",
    "        self.size = 0\n",
    "        \n",
    "        if head != None:\n",
    "            if type(head) == type(front):\n",
    "                self.front.next = deepcopy(head)\n",
    "                node = self.front.next\n",
    "                self.size += 1\n",
    "                while node.next != None:\n",
    "                    node = node.next\n",
    "                    self.size += 1\n",
    "                self.back.next = node\n",
    "            elif type(head) == type(list):\n",
    "                pass\n",
    "            else:\n",
    "                print('Unsupported initialization type. Making empty Queue')\n",
    "    \n",
    "    def dequeue(self):\n",
    "        if not self.empty():\n",
    "            if self.size > 1:\n",
    "                temp = self.front.next\n",
    "                self.front.next = self.front.next.next\n",
    "                temp.next = None\n",
    "                self.size -= 1\n",
    "                return temp.data\n",
    "            else: # theres only one node.\n",
    "                temp = self.front.next\n",
    "                self.front.next = None\n",
    "                self.back.next = None\n",
    "                temp.next = None\n",
    "                self.size -= 1\n",
    "                return temp.data\n",
    "        else:\n",
    "            print('queue is empty')\n",
    "            return None\n",
    "        \n",
    "    def enqueue(self, item):\n",
    "        if self.empty():\n",
    "            self.size += 1\n",
    "            node = Node(item)\n",
    "            self.front.next = node\n",
    "            self.back.next = node\n",
    "        else:\n",
    "            self.size += 1\n",
    "            node = Node(item)\n",
    "            node.next = self.front.next\n",
    "            self.front.next = node.next\n",
    "            \n",
    "    \n",
    "    def size(self):\n",
    "        return self.size\n",
    "    \n",
    "    def empty(self):\n",
    "        return not bool(self.size)\n",
    "    \n",
    "    def peek(self):\n",
    "        if self.size == 0:\n",
    "            print('queue empty.')\n",
    "            return None\n",
    "        return self.front.next.data"
   ]
  },
  {
   "cell_type": "markdown",
   "metadata": {},
   "source": [
    "###### just use to a count to determine fullness and emptness of a Cqueue. head pointing at tail could either mean emptiness or fullness, so its not wise to use that measure."
   ]
  },
  {
   "cell_type": "code",
   "execution_count": 74,
   "metadata": {},
   "outputs": [],
   "source": [
    "\n",
    "class CQueue:\n",
    "    def __init__(self, N):\n",
    "        self.q = [None for i in N]\n",
    "        self.size = 0\n",
    "        self.head = 0\n",
    "        self.tail = 0\n",
    "        self.max = N\n",
    "    def capacity(self):\n",
    "        return self.max\n",
    "    def length(self):\n",
    "        return self.size\n",
    "    def empty(self):\n",
    "        return not bool(self.size)\n",
    "    def enqueue(self, item):\n",
    "        if self.size == self.max:\n",
    "            print('queue full')\n",
    "        self.size += 1\n",
    "        self.q[tail] = item\n",
    "        self.tail = (self.tail + 1) % self.max\n",
    "    def dequeue(self):\n",
    "        if self.empty():\n",
    "            print('queue empty')\n",
    "        self.size -= 1\n",
    "        val = q[head]\n",
    "        self.head = (self.head + 1) % self.max\n",
    "        return val\n",
    "    def peek(self):\n",
    "        if self.empty():\n",
    "            print('queue empty')\n",
    "        return self.q[head]"
   ]
  },
  {
   "cell_type": "markdown",
   "metadata": {},
   "source": [
    "### 3.1: Three in One:\n",
    "Describe how you could use a single array to implement three stacks."
   ]
  },
  {
   "cell_type": "markdown",
   "metadata": {},
   "source": [
    "This is literally what the computer does. Memory is a continuous array - its only ONE array. However, whenever we do stuff like call functions, there is a local function call stack for each function, and each function call stack resides in the same array known as memory"
   ]
  },
  {
   "cell_type": "markdown",
   "metadata": {},
   "source": [
    "- In python, arrays are dynamic, but really they arent - we have fixed array sizes. \n",
    "- lets assume we initialize an array of size N and we cant change its length (initially).\n",
    "- we can partition the array into K subarrays of size (N/K = M) each. \n",
    "- then, we can have each M-sized subarray correspond to a specific stack"
   ]
  },
  {
   "cell_type": "code",
   "execution_count": 66,
   "metadata": {},
   "outputs": [],
   "source": [
    "class Multistack:\n",
    "    '''\n",
    "    N is the size of the entire array.\n",
    "    K is the number of stacks we want. \n",
    "    M ends up being the maximum size of each of the K stacks.\n",
    "    '''\n",
    "    def __init__(self, N, K):\n",
    "        if K > N:\n",
    "            print('you want more stacks than entries in superarray')\n",
    "            K = 1\n",
    "        N_smaller = N - (N % K) \n",
    "        M = N_smaller / K  # should now be an integer\n",
    "        self.array = [None for i in N_smaller]\n",
    "        '''\n",
    "        self.lowers = [i for i in range(0, N_smaller, M)] # dont need it!!\n",
    "        self.uppers = [i for i in range(M, N_smaller+M, M)] #dont need it!\n",
    "            #uppers can be circumented via using M - max-sizes\n",
    "        '''\n",
    "        #you dont even need tops! sizes already handles that.\n",
    "        self.tops = [i for i in range(0, N_smaller, M)]\n",
    "        self.sizes = [0 for i in range(K)] #this makes self.lowers useless\n",
    "        self.max = M\n",
    "    \n",
    "    def size(self, K):\n",
    "        return self.sizes[K]\n",
    "    \n",
    "    def empty(self, K):\n",
    "        return not bool(self.sizes[K])\n",
    "    \n",
    "    def peek(self, K):\n",
    "        #if self.tops[K] == self.lowers[K]: # we can just use sizes!\n",
    "        if self.sizes[K] == 0:\n",
    "            print('stack ' + str(K) + ' is empty')\n",
    "            return None\n",
    "        return self.array[self.tops[K]-1]\n",
    "    \n",
    "    def pop(self, K):\n",
    "        if self.sizes[K] == 0:\n",
    "            print('stack ' + str(K) + ' is empty')\n",
    "            return None\n",
    "        self.sizes[K] -= 1\n",
    "        temp = self.array[self.tops[K]]\n",
    "        self.tops[K] -= 1\n",
    "        return temp\n",
    "    \n",
    "    def push(self, K, item):\n",
    "        if self.sizes[K] == self.max:\n",
    "            print('stack ' + str(K) + ' is full')\n",
    "            return \n",
    "        self.sizes[K] += 1\n",
    "        self.array[self.tops[K]] = item\n",
    "        self.tops[K] += 1\n",
    "        "
   ]
  },
  {
   "cell_type": "markdown",
   "metadata": {},
   "source": [
    "### 3.2: Stack Min:\n",
    "How would you design a stack which, in addition to push and pop, has a function min\n",
    "which returns the minimum element? Push, pop and min should all operate in 0(1) time.\n"
   ]
  },
  {
   "cell_type": "markdown",
   "metadata": {},
   "source": [
    "me: record position(s) of minimum element as stack is populated. update as stack is popped and pushed (pos's of min element & the min element itself)\n",
    "\n",
    "PROBLEM: upon popping all occurrances of the smallest element of your stack, you need to find the next smallest element, which takes O(N). This makes pop() O(N) in worst case. ideally, we can have a heap so we can easily get the next smallest element to be our new stack.min. However, removal of the previous smallest element takes O(LG N) time. Keeping a sorted data structure to get the next smallest element upon removal of the current smallest element gives best O(LG N) time "
   ]
  },
  {
   "cell_type": "code",
   "execution_count": 67,
   "metadata": {},
   "outputs": [],
   "source": [
    "#incomplete. O(N) pop for newmin. also has cumbersome minpos. usee ct instead.\n",
    "class Stack_m:\n",
    "    \n",
    "    def __init__(self):\n",
    "        self.stack = []\n",
    "        self.min = float('Inf')\n",
    "        self.minpos = [] #you might want to just have a mincount. its easier.\n",
    "        \n",
    "    def peek(self):\n",
    "        if self.size() == 0:\n",
    "            return None\n",
    "        return self.stack[-1]\n",
    "    \n",
    "    def size(self):\n",
    "        return len(self.stack)\n",
    "    \n",
    "    def empty(self):\n",
    "        return not bool(self.size())\n",
    "    \n",
    "    def push(self, item):\n",
    "        self.stack.append(item)\n",
    "        if item < self.min:\n",
    "            self.min = item\n",
    "            self.minpos = []\n",
    "            self.min_pos.append(self.size()-1)\n",
    "        elif item == self.min:\n",
    "            self.min_pos.append(self.size()-1)\n",
    "            \n",
    "    def pop(self):\n",
    "        if self.size() == 0:\n",
    "            return None\n",
    "        val = self.stack.pop()\n",
    "        if val == self.min:\n",
    "            if len(self.minpos) != 1:\n",
    "                self.minpos.pop()\n",
    "            else: # you just popped the last occurance of this smallest ele\n",
    "                self.find_newmin()\n",
    "                \n",
    "    def find_newmin(self):\n",
    "        i = 0\n",
    "        self.min = float('Inf')\n",
    "        self.minpos = []\n",
    "        while i != len(self.stack):\n",
    "            if self.min < self.stack[i]:\n",
    "                self.min = self.stack[i]\n",
    "                self.minpos = [i]\n",
    "            elif self.min == self.stack[i]:\n",
    "                self.minpos.append(i)\n",
    "                \n",
    "    "
   ]
  },
  {
   "cell_type": "markdown",
   "metadata": {},
   "source": [
    "## taken from book's idea of 'returning to prior min state, but my code. \n",
    "problem in prior: popping min, gotta find new min. \n",
    "\n",
    "MAIN PROPERTY THAT IS THEIR SOLN\n",
    "\n",
    "however, note that stacks only pop in order, so once current is popped,\n",
    "     the new min is the older min. (the older min HAS to be there.). basically, the min stack within this stack cintains the history of mins that have been pushed. It is an actual mathematicla subsequence of the main stack at hand itself\n",
    "    "
   ]
  },
  {
   "cell_type": "code",
   "execution_count": 68,
   "metadata": {},
   "outputs": [],
   "source": [
    "#taken from book's idea\n",
    "#problem in prior: popping min, gotta find new min. \n",
    "\n",
    "'''MAIN PROPERTY THAT IS THEIR SOLN'''\n",
    "#however, note that stacks only pop in order, so once current is popped,\n",
    "    # the new min is the older min. (the older min HAS to be there.)\n",
    "    \n",
    "class Stack_m:\n",
    "    \n",
    "    def __init__(self):\n",
    "        self.stack = []\n",
    "        self.mins = []\n",
    "        \n",
    "    def peek(self):\n",
    "        if self.empty():\n",
    "            return None\n",
    "        return self.stack[-1]\n",
    "    \n",
    "    def size(self):\n",
    "        return len(self.stack)\n",
    "    \n",
    "    def empty(self):\n",
    "        return not bool(self.size())\n",
    "    \n",
    "    def Min(self):\n",
    "        if self.empty():\n",
    "            return None\n",
    "        return self.mins[-1]\n",
    "    \n",
    "    def push(self, item):\n",
    "        self.stack.append(item)\n",
    "        if (self.size() > 1):\n",
    "            if item <= self.mins[-1]:\n",
    "                self.mins.append(item)\n",
    "        else:\n",
    "            self.mins.append(item)\n",
    "  \n",
    "    def pop(self):\n",
    "        if self.empty():\n",
    "            return None\n",
    "        val = self.stack.pop()\n",
    "        if val == self.mins[-1]:\n",
    "            self.mins.pop()"
   ]
  },
  {
   "cell_type": "code",
   "execution_count": 69,
   "metadata": {},
   "outputs": [],
   "source": [
    "# book soln 1: actually wasnt mine. \n",
    "# keep track ong minimum at each state. That is, have each node record\n",
    "#what the minimum beaneath itself is. then, look at element ur popping\n",
    "#to see what the lower min is\n",
    "\n",
    "#book soln 2: my solution. stack of mins within this stack."
   ]
  },
  {
   "cell_type": "markdown",
   "metadata": {},
   "source": [
    "The book soln 1 (for a minimum ctr on each node) as well as my 'tried to original soln keeping track of minimum indices' (for min indices) took up an extra O(N) space on top of the O(N) space for the main stack.\n",
    "\n",
    "doing a stack on a stack only POTENTIALLY takes up less space. still might give us an entire O(N) extra used space though, if entries are inserted into stack from order of biggest to smallest."
   ]
  },
  {
   "cell_type": "markdown",
   "metadata": {},
   "source": [
    "### 3.3: stack of plates:\n",
    "Imagine a (literal) stack of plates. If the stack gets too high, it might topple.\n",
    "Therefore, in real life, we would likely start a new stack when the previous stack exceeds some\n",
    "threshold. Implement a data structure SetOfStacks that mimics this. SetOfStacks should be\n",
    "composed of several stacks and should create a new stack once the previous one exceeds capacity.\n",
    "SetOfStacks. push () and SetOfStacks. pop () should behave identically to a single stack\n",
    "(that is, pop ( ) should return the same values as it would if there were just a single stack).\n",
    "\n",
    "FOLLOW UP\n",
    "\n",
    "Implement a function popAt (int index) which performs a pop operation on a specific sub-stack."
   ]
  },
  {
   "cell_type": "code",
   "execution_count": 70,
   "metadata": {},
   "outputs": [],
   "source": [
    "class StackStack:\n",
    "    def __init__(self, N):\n",
    "        self.stack = [[None for i in N]]\n",
    "        self.N = N\n",
    "        self.max = [N]\n",
    "        self.size = 0\n",
    "        self.current = 0\n",
    "        self.ctop = 0\n",
    "        \n",
    "    def popAt(self, stackIndex):\n",
    "        if self.empty() or self.max[stackIndex] == 0:\n",
    "            return None\n",
    "        self.size -= 1\n",
    "        if stackIndex == self.current:\n",
    "            return self.pop()\n",
    "        elif stackIndex > self.current:\n",
    "            print('invalid stack specified')\n",
    "        else: #where this actually matters =(\n",
    "            #you probably don't want to roll over. have capcaity thing.\n",
    "            val = self.stack[stackIndex][self.max[stackIndex]-1]\n",
    "            self.stack[stackIndex][self.max[stackIndex]-1] = None\n",
    "            self.max[stackIndex] -= 1\n",
    "            return val\n",
    "    \n",
    "    def empty(self):\n",
    "        return not bool(self.size)\n",
    "    \n",
    "    def size(self):\n",
    "        return self.size\n",
    "    \n",
    "    def peek(self):\n",
    "        if self.empty():\n",
    "            return None\n",
    "        if self.ctop == 0:\n",
    "            stackindexer = self.current - 1\n",
    "            indexer = self.max[stackindexer] - 1\n",
    "        else:\n",
    "            indexer = self.ctop\n",
    "            stackindexer = self.current\n",
    "        return self.stack[stackindexer][indexer]\n",
    "    \n",
    "    def push(self, item):\n",
    "        self.stack[self.current][self.ctop] = item\n",
    "        self.size += 1\n",
    "        self.ctop += 1\n",
    "        if self.ctop == self.max[self.current]:\n",
    "            if self.current == len(self.stack) - 1:\n",
    "                self.max.append(self.N)\n",
    "                self.stack.append([None for i in self.N])\n",
    "            self.current += 1\n",
    "            self.ctop = 0\n",
    "            \n",
    "    def pop(self):\n",
    "        if self.empty():\n",
    "            return None\n",
    "        self.size -= 1\n",
    "        \n",
    "        if self.ctop == 0:\n",
    "            self.current -= 1\n",
    "            self.ctop = self.max[current] - 1\n",
    "        \n",
    "        val = self.stack[self.current][self.ctop]\n",
    "        self.stack[self.current][self.ctop] = None\n",
    "        \n",
    "        return val"
   ]
  },
  {
   "cell_type": "code",
   "execution_count": 71,
   "metadata": {},
   "outputs": [],
   "source": [
    "#BOOK SOLN. Same main idea as my soltuions. However, actually used a stack\n",
    "#instead of an array of arrays 9event hough i say that each array is a stack\n"
   ]
  },
  {
   "cell_type": "markdown",
   "metadata": {},
   "source": [
    "## 3.4: Queue via stacks:\n",
    "Implement a MyQueue class which implements a queue using two stacks."
   ]
  },
  {
   "cell_type": "markdown",
   "metadata": {},
   "source": [
    "hint: The major difference between a queue and a stack is the order of elements. A queue\n",
    "removes the oldest item and a stack removes the newest item. How could you remove\n",
    "the oldest item from a stack if you only had access to the newest item?"
   ]
  },
  {
   "cell_type": "markdown",
   "metadata": {},
   "source": [
    "##### i essentially shift ALL elements from one stack to the other whenver i need to do any operation, asssuming im not already in the right state."
   ]
  },
  {
   "cell_type": "code",
   "execution_count": 75,
   "metadata": {},
   "outputs": [],
   "source": [
    "class myQueue:\n",
    "    def __init__(self):\n",
    "        self.estack = Stack()\n",
    "        self.dstack = Stack()\n",
    "        self.enqueuable = True\n",
    "        self.size = 0\n",
    "        \n",
    "    def swap(stack1, stack2):\n",
    "        while not stack1.empty():\n",
    "            stack2.push(stack1.pop())\n",
    "            \n",
    "    def swap_state(self):\n",
    "        if self.enqueuable:\n",
    "            swap(estack, dstack)\n",
    "        else:\n",
    "            swap(dstack, estack)\n",
    "        self.enqueuable = not self.enqueuable\n",
    "        \n",
    "    def size(self):\n",
    "        return self.size\n",
    "    \n",
    "    def empty(self):\n",
    "        return not bool(self.size)\n",
    "    \n",
    "    def peek(self): #needs to be not enqueuable. \n",
    "        if self.empty():\n",
    "            return None\n",
    "        if self.enqueuable:\n",
    "            self.swap_state()\n",
    "        return self.dstack.peek()\n",
    "    \n",
    "    def dequeue(self, item):\n",
    "        if self.empty():\n",
    "            return None\n",
    "        if self.enqueuable:\n",
    "            self.swap_state()\n",
    "        self.size -= 1\n",
    "        return self.dstack.pop()\n",
    "        \n",
    "    def enqueue(self, item):\n",
    "        if not self.enqueuable():\n",
    "            self.swap_state()\n",
    "        self.size += 1\n",
    "        self.estack.push(item)\n",
    "    "
   ]
  },
  {
   "cell_type": "markdown",
   "metadata": {},
   "source": [
    "### the book is 'considerably' more optimized, since they say that we never need to move elements from the dequeue stack onto the enqueue stack. We only move elements when calling dequeue or peek, and that the dequeue stack is EMPTY"
   ]
  },
  {
   "cell_type": "code",
   "execution_count": 78,
   "metadata": {},
   "outputs": [],
   "source": [
    "#BOOK SOLUTION (quickly):\n",
    "class MyQueue:\n",
    "    def __init__(self):\n",
    "        self.estack = Stack()\n",
    "        self.dstack = Stack()\n",
    "        self.size = 0\n",
    "        \n",
    "    def move_enqueue_to_dequeue(self):\n",
    "        if len(dstack) == 0:\n",
    "            while not self.estack.empty():\n",
    "                self.dstack.push(self.estack.pop())\n",
    "                \n",
    "    def size(self):\n",
    "        return self.size\n",
    "    \n",
    "    def empty(self):\n",
    "        return not bool(self.size)\n",
    "    \n",
    "    def peek(self): #needs to be not enqueuable. \n",
    "        if self.empty():\n",
    "            return None\n",
    "        move_enqueue_to_dequeue()\n",
    "        return self.dstack.peek()\n",
    "    \n",
    "    def dequeue(self):\n",
    "        if self.empty():\n",
    "            return None\n",
    "        move_enqueue_to_dequeue()\n",
    "        self.size -= 1\n",
    "        return self.dstack.pop()\n",
    "    \n",
    "    def enqueue(self, item):\n",
    "        self.estack.push(item)\n",
    "        self.size += 1"
   ]
  },
  {
   "cell_type": "markdown",
   "metadata": {},
   "source": [
    "### 3.5: sort stack:\n",
    "Write a program to sort a stack such that the smallest items are on the top. You can use\n",
    "an additional temporary stack, but you may not copy the elements into any other data structure\n",
    "(such as an array). The stack supports the following operations: push, pop, peek, and isEmpty"
   ]
  },
  {
   "cell_type": "markdown",
   "metadata": {},
   "source": [
    "O(N) space, O(N^2) time (cut short when it is done though)\n",
    "\n",
    "Summary: sort as if you're sorting in real life. Lets have two stacks - original and an empty new one. Grab (pop) item from original. Now, compare item with top of original. If item is smaller or same, put on new stack. (ELSE) If bigger, pop the original again, then push the first item we popped back onto original. push the smaller item onto new stack. repeat until original stack is empty. Afterwards, do the same algorithm, except we've swapped old stack for new stack, and we compare if it is bigger or same instead of the smaller or same mentioned earlier. Stop performing the algorithm if (ELSE) never occurs in an iteration of the algorithm. This means that the stack is sorted. (one of them, that is - whichever one has stuff in it, cuz the other one will be empty)"
   ]
  },
  {
   "cell_type": "code",
   "execution_count": 35,
   "metadata": {},
   "outputs": [
    {
     "name": "stdout",
     "output_type": "stream",
     "text": [
      "call\n",
      "call\n",
      "call\n",
      "call\n",
      "call\n",
      "call\n",
      "call\n",
      "call\n",
      "call\n",
      "call\n",
      "call\n",
      "call\n",
      "call\n",
      "call\n",
      "call\n",
      "call\n",
      "call\n",
      "call\n",
      "call\n",
      "call\n",
      "call\n",
      "call\n",
      "call\n",
      "call\n"
     ]
    },
    {
     "data": {
      "text/plain": [
       "[12, 10, 8, 7, 5, 3, 1]"
      ]
     },
     "execution_count": 35,
     "metadata": {},
     "output_type": "execute_result"
    }
   ],
   "source": [
    "def sortiter(stack1, stack2, less_than):\n",
    "    swap = False\n",
    "    if less_than:\n",
    "        while(len(stack1) != 1):\n",
    "            print('call')\n",
    "            item = stack1.pop()\n",
    "            if item <= stack1[-1]:\n",
    "                stack2.append(item)\n",
    "            else: #\n",
    "                swap = True\n",
    "                smalleritem = stack1.pop()\n",
    "                stack1.append(item)\n",
    "                stack2.append(smalleritem)\n",
    "    else:\n",
    "        while(len(stack1) != 1):\n",
    "            print('call')\n",
    "            item = stack1.pop()\n",
    "            if item >= stack1[-1]:\n",
    "                stack2.append(item)\n",
    "            else: #\n",
    "                swap = True\n",
    "                biggeritem = stack1.pop()\n",
    "                stack1.append(item)\n",
    "                stack2.append(biggeritem)\n",
    "    item = stack1.pop()\n",
    "    stack2.append(item)\n",
    "    return swap\n",
    "    \n",
    "\n",
    "def sort_stack(stack):\n",
    "    #ideally the base of the stack in inputted stack in the is biggest\n",
    "    bsstack = [] # the base of the stack is small\n",
    "    eveniter1 = True\n",
    "    swap = True\n",
    "    while swap:\n",
    "        if eveniter1 == True:\n",
    "            swap = sortiter(stack, bsstack, True)\n",
    "            eveniter1 = False\n",
    "        else:\n",
    "            swap = sortiter(bsstack, stack, False)\n",
    "            eveniter1 = True\n",
    "    if len(stack) == 0:\n",
    "        sortiter(bsstack, stack, False)\n",
    "    return stack\n",
    "\n",
    "sort_stack([7, 10, 5, 8, 3, 12, 1])"
   ]
  },
  {
   "cell_type": "code",
   "execution_count": 49,
   "metadata": {},
   "outputs": [
    {
     "name": "stdout",
     "output_type": "stream",
     "text": [
      "call\n",
      "call\n",
      "call\n",
      "call\n",
      "call\n",
      "call\n",
      "call\n",
      "call\n",
      "call\n",
      "call\n",
      "call\n",
      "call\n",
      "call\n",
      "call\n",
      "call\n"
     ]
    },
    {
     "data": {
      "text/plain": [
       "[12, 10, 8, 7, 5, 3, 1]"
      ]
     },
     "execution_count": 49,
     "metadata": {},
     "output_type": "execute_result"
    }
   ],
   "source": [
    "# book soln utiilizes same core concept of  popping elements from original\n",
    "#stack and comparing it to the new top element. instead of moving everything\n",
    "#over, however, it does the following\n",
    "\n",
    "def booksort(stack1):\n",
    "    stack2 = []\n",
    "    while len(stack1) != 0:\n",
    "        print('call')\n",
    "        temp = stack1.pop()\n",
    "        '''next condition is core concept'''\n",
    "        while len(stack2) != 0 and stack2[-1] > temp:\n",
    "            stack1.append(stack2.pop())\n",
    "        stack2.append(temp)\n",
    "    \n",
    "    while len(stack2) != 0:\n",
    "        stack1.append(stack2.pop())\n",
    "    \n",
    "    return stack1\n",
    "booksort([7, 10, 5, 8, 3, 12, 1])"
   ]
  },
  {
   "cell_type": "markdown",
   "metadata": {},
   "source": [
    "###### BEGIN:THERE ARE PROBLEMS WITH MY STACK IMPLEMENTATION"
   ]
  },
  {
   "cell_type": "code",
   "execution_count": 5,
   "metadata": {},
   "outputs": [],
   "source": [
    "import pdb\n",
    "def sortiter(stack1, stack2, less_than):\n",
    "    pdb.set_trace()\n",
    "    swap = False\n",
    "    if less_than:\n",
    "        while(not stack1.empty()):\n",
    "            item = stack1.pop()\n",
    "            if item <= stack1.peek():\n",
    "                stack2.push(item)\n",
    "            else: #\n",
    "                swap = True\n",
    "                smalleritem = stack1.pop()\n",
    "                stack1.push(item)\n",
    "                stack2.push(smalleritem)\n",
    "    else:\n",
    "        while(not stack1.empty()):\n",
    "            item = stack1.pop()\n",
    "            if item >= stack1.peek():\n",
    "                stack2.push(item)\n",
    "            else: #\n",
    "                swap = True\n",
    "                biggeritem = stack1.pop()\n",
    "                stack1.push(item)\n",
    "                stack2.push(biggeritem)\n",
    "    return swap\n",
    "    \n",
    "\n",
    "def sort_stack(stack):\n",
    "    #ideally the base of the stack in inputted stack in the is biggest\n",
    "    bsstack = Stack() # the base of the stack is small\n",
    "    eveniter1 = True\n",
    "    swap = True\n",
    "    while swap:\n",
    "        if eveniter1 == True:\n",
    "            swap = sortiter(stack, bsstack, True)\n",
    "            eveniter1 = False\n",
    "        else:\n",
    "            swap = sortiter(bsstack, stack, False)\n",
    "            eveniter1 = True\n",
    "    return stack\n"
   ]
  },
  {
   "cell_type": "code",
   "execution_count": 20,
   "metadata": {},
   "outputs": [
    {
     "name": "stdout",
     "output_type": "stream",
     "text": [
      "> <ipython-input-19-0fce5e6c060d>(4)sortiter()\n",
      "-> swap = False\n",
      "(Pdb) stack1\n",
      "[3, 5, 2, 4, 1]\n",
      "(Pdb) stack2\n",
      "[]\n",
      "(Pdb) c\n",
      "[1, 2, 4, 3, 5]\n"
     ]
    }
   ],
   "source": [
    "s1 = [3, 5, 2, 4, 1]\n",
    "s2 = []\n",
    "sortiter(s1, s2, True)\n",
    "print(s2)"
   ]
  },
  {
   "cell_type": "code",
   "execution_count": 21,
   "metadata": {},
   "outputs": [
    {
     "name": "stdout",
     "output_type": "stream",
     "text": [
      "> <ipython-input-19-0fce5e6c060d>(4)sortiter()\n",
      "-> swap = False\n",
      "(Pdb) c\n",
      "[5, 4, 3, 2, 1]\n"
     ]
    }
   ],
   "source": [
    "sortiter(s2, s1, False)\n",
    "print(s1)"
   ]
  },
  {
   "cell_type": "code",
   "execution_count": 32,
   "metadata": {},
   "outputs": [
    {
     "name": "stdout",
     "output_type": "stream",
     "text": [
      "call\n",
      "call\n",
      "call\n",
      "call\n"
     ]
    },
    {
     "data": {
      "text/plain": [
       "[12, 10, 8, 7, 5, 3, 1]"
      ]
     },
     "execution_count": 32,
     "metadata": {},
     "output_type": "execute_result"
    }
   ],
   "source": [
    "sort_stack([7, 10, 5, 8, 3, 12, 1])"
   ]
  },
  {
   "cell_type": "code",
   "execution_count": 31,
   "metadata": {},
   "outputs": [],
   "source": [
    "def sortiter(stack1, stack2, less_than):\n",
    "    print('call')\n",
    "    swap = False\n",
    "    if less_than:\n",
    "        while(len(stack1) != 1):\n",
    "            item = stack1.pop()\n",
    "            if item <= stack1[-1]:\n",
    "                stack2.append(item)\n",
    "            else: #\n",
    "                swap = True\n",
    "                smalleritem = stack1.pop()\n",
    "                stack1.append(item)\n",
    "                stack2.append(smalleritem)\n",
    "    else:\n",
    "        while(len(stack1) != 1):\n",
    "            item = stack1.pop()\n",
    "            if item >= stack1[-1]:\n",
    "                stack2.append(item)\n",
    "            else: #\n",
    "                swap = True\n",
    "                biggeritem = stack1.pop()\n",
    "                stack1.append(item)\n",
    "                stack2.append(biggeritem)\n",
    "    item = stack1.pop()\n",
    "    stack2.append(item)\n",
    "    return swap\n",
    "    \n",
    "\n",
    "def sort_stack(stack):\n",
    "    #ideally the base of the stack in inputted stack in the is biggest\n",
    "    bsstack = [] # the base of the stack is small\n",
    "    eveniter1 = True\n",
    "    swap = True\n",
    "    while swap:\n",
    "        if eveniter1 == True:\n",
    "            swap = sortiter(stack, bsstack, True)\n",
    "            eveniter1 = False\n",
    "        else:\n",
    "            swap = sortiter(bsstack, stack, False)\n",
    "            eveniter1 = True\n",
    "    if len(stack) == 0:\n",
    "        sortiter(bsstack, stack, False)\n",
    "    return stack\n",
    "\n",
    "sort_stack([7, 10, 5, 8, 3, 12, 1])"
   ]
  },
  {
   "cell_type": "code",
   "execution_count": 120,
   "metadata": {},
   "outputs": [
    {
     "name": "stdout",
     "output_type": "stream",
     "text": [
      "1\n",
      "4\n",
      "2\n",
      "5\n",
      "3\n"
     ]
    }
   ],
   "source": [
    "printstack(stack)"
   ]
  },
  {
   "cell_type": "code",
   "execution_count": 147,
   "metadata": {},
   "outputs": [
    {
     "data": {
      "text/plain": [
       "[3, 5, 2, 4, 1, 3, 5, 2, 4, 1, 3, 5, 2, 4, 1]"
      ]
     },
     "execution_count": 147,
     "metadata": {},
     "output_type": "execute_result"
    }
   ],
   "source": [
    "stack.stack"
   ]
  },
  {
   "cell_type": "code",
   "execution_count": 145,
   "metadata": {},
   "outputs": [],
   "source": [
    "stack = 1"
   ]
  },
  {
   "cell_type": "code",
   "execution_count": 1,
   "metadata": {},
   "outputs": [
    {
     "name": "stdout",
     "output_type": "stream",
     "text": [
      "The history saving thread hit an unexpected error (DatabaseError('database disk image is malformed',)).History will not be written to the database.\n"
     ]
    }
   ],
   "source": [
    "from copy import deepcopy\n",
    "class Stack:\n",
    "    \n",
    "    def __init__(self, data=[]):\n",
    "        self.stack = data\n",
    "\n",
    "    def push(self, item):\n",
    "        self.stack.append(item)\n",
    "        \n",
    "    def size(self):\n",
    "        return len(self.stack)\n",
    "    \n",
    "    def empty(self):\n",
    "        return not bool(self.size())\n",
    "    \n",
    "    def peek(self):\n",
    "        if self.empty():\n",
    "            print('Error: Stack is empty')\n",
    "            return None\n",
    "        return self.stack[-1]\n",
    "    \n",
    "    #theres ACTUALLY a pop function in python for lists.\n",
    "    def pop(self):\n",
    "        if self.empty():\n",
    "            return None\n",
    "        return self.stack.pop()\n"
   ]
  },
  {
   "cell_type": "code",
   "execution_count": 10,
   "metadata": {},
   "outputs": [
    {
     "ename": "NameError",
     "evalue": "name 'stack' is not defined",
     "output_type": "error",
     "traceback": [
      "\u001b[0;31m---------------------------------------------------------------------------\u001b[0m",
      "\u001b[0;31mNameError\u001b[0m                                 Traceback (most recent call last)",
      "\u001b[0;32m<ipython-input-10-cbc6368b4fbd>\u001b[0m in \u001b[0;36m<module>\u001b[0;34m()\u001b[0m\n\u001b[0;32m----> 1\u001b[0;31m \u001b[0mstack\u001b[0m\u001b[0;34m.\u001b[0m\u001b[0mstack\u001b[0m\u001b[0;34m\u001b[0m\u001b[0m\n\u001b[0m",
      "\u001b[0;31mNameError\u001b[0m: name 'stack' is not defined"
     ]
    }
   ],
   "source": [
    "stack.stack"
   ]
  },
  {
   "cell_type": "code",
   "execution_count": 11,
   "metadata": {},
   "outputs": [],
   "source": [
    "stack = Stack()\n",
    "stack.push(3)\n",
    "stack.push(5)\n",
    "stack.push(2)\n",
    "stack.push(4)\n",
    "stack.push(1)"
   ]
  },
  {
   "cell_type": "code",
   "execution_count": 13,
   "metadata": {},
   "outputs": [],
   "source": [
    "stack.stack = [3, 5, 2, 4, 1]"
   ]
  },
  {
   "cell_type": "code",
   "execution_count": 14,
   "metadata": {},
   "outputs": [
    {
     "data": {
      "text/plain": [
       "[3, 5, 2, 4, 1]"
      ]
     },
     "execution_count": 14,
     "metadata": {},
     "output_type": "execute_result"
    }
   ],
   "source": [
    "stack.stack"
   ]
  },
  {
   "cell_type": "code",
   "execution_count": 16,
   "metadata": {},
   "outputs": [
    {
     "data": {
      "text/plain": [
       "[3, 5, 2, 4, 1, 3, 5, 2, 4, 1, 3, 5, 2, 4, 1, 3, 5, 2, 4, 1]"
      ]
     },
     "execution_count": 16,
     "metadata": {},
     "output_type": "execute_result"
    }
   ],
   "source": [
    "stack1 = Stack()\n",
    "stack1.stack"
   ]
  },
  {
   "cell_type": "code",
   "execution_count": 9,
   "metadata": {},
   "outputs": [],
   "source": [
    "del stack"
   ]
  },
  {
   "cell_type": "code",
   "execution_count": 7,
   "metadata": {},
   "outputs": [
    {
     "name": "stdout",
     "output_type": "stream",
     "text": [
      "> <ipython-input-5-8fe5cdc9bf46>(4)sortiter()\n",
      "-> swap = False\n",
      "(Pdb) stack\n",
      "<__main__.Stack object at 0x7fbc67b25470>\n",
      "(Pdb) stack.stack\n",
      "[3, 5, 2, 4, 1, 3, 5, 2, 4, 1, 3, 5, 2, 4, 1]\n",
      "(Pdb) quit()\n"
     ]
    },
    {
     "ename": "BdbQuit",
     "evalue": "",
     "output_type": "error",
     "traceback": [
      "\u001b[0;31m---------------------------------------------------------------------------\u001b[0m",
      "\u001b[0;31mBdbQuit\u001b[0m                                   Traceback (most recent call last)",
      "\u001b[0;32m<ipython-input-7-3c833ebc2887>\u001b[0m in \u001b[0;36m<module>\u001b[0;34m()\u001b[0m\n\u001b[1;32m     15\u001b[0m \u001b[0;34m\u001b[0m\u001b[0m\n\u001b[1;32m     16\u001b[0m \u001b[0;31m#\u001b[0m\u001b[0;34m\u001b[0m\u001b[0;34m\u001b[0m\u001b[0m\n\u001b[0;32m---> 17\u001b[0;31m \u001b[0msortiter\u001b[0m\u001b[0;34m(\u001b[0m\u001b[0mstack\u001b[0m\u001b[0;34m,\u001b[0m \u001b[0mstack1\u001b[0m\u001b[0;34m,\u001b[0m \u001b[0;32mTrue\u001b[0m\u001b[0;34m)\u001b[0m\u001b[0;34m\u001b[0m\u001b[0m\n\u001b[0m\u001b[1;32m     18\u001b[0m \u001b[0;31m#printstack(deepcopy(stack))\u001b[0m\u001b[0;34m\u001b[0m\u001b[0;34m\u001b[0m\u001b[0m\n\u001b[1;32m     19\u001b[0m \u001b[0;34m\u001b[0m\u001b[0m\n",
      "\u001b[0;32m<ipython-input-5-8fe5cdc9bf46>\u001b[0m in \u001b[0;36msortiter\u001b[0;34m(stack1, stack2, less_than)\u001b[0m\n\u001b[1;32m      2\u001b[0m \u001b[0;32mdef\u001b[0m \u001b[0msortiter\u001b[0m\u001b[0;34m(\u001b[0m\u001b[0mstack1\u001b[0m\u001b[0;34m,\u001b[0m \u001b[0mstack2\u001b[0m\u001b[0;34m,\u001b[0m \u001b[0mless_than\u001b[0m\u001b[0;34m)\u001b[0m\u001b[0;34m:\u001b[0m\u001b[0;34m\u001b[0m\u001b[0m\n\u001b[1;32m      3\u001b[0m     \u001b[0mpdb\u001b[0m\u001b[0;34m.\u001b[0m\u001b[0mset_trace\u001b[0m\u001b[0;34m(\u001b[0m\u001b[0;34m)\u001b[0m\u001b[0;34m\u001b[0m\u001b[0m\n\u001b[0;32m----> 4\u001b[0;31m     \u001b[0mswap\u001b[0m \u001b[0;34m=\u001b[0m \u001b[0;32mFalse\u001b[0m\u001b[0;34m\u001b[0m\u001b[0m\n\u001b[0m\u001b[1;32m      5\u001b[0m     \u001b[0;32mif\u001b[0m \u001b[0mless_than\u001b[0m\u001b[0;34m:\u001b[0m\u001b[0;34m\u001b[0m\u001b[0m\n\u001b[1;32m      6\u001b[0m         \u001b[0;32mwhile\u001b[0m\u001b[0;34m(\u001b[0m\u001b[0;32mnot\u001b[0m \u001b[0mstack1\u001b[0m\u001b[0;34m.\u001b[0m\u001b[0mempty\u001b[0m\u001b[0;34m(\u001b[0m\u001b[0;34m)\u001b[0m\u001b[0;34m)\u001b[0m\u001b[0;34m:\u001b[0m\u001b[0;34m\u001b[0m\u001b[0m\n",
      "\u001b[0;32m<ipython-input-5-8fe5cdc9bf46>\u001b[0m in \u001b[0;36msortiter\u001b[0;34m(stack1, stack2, less_than)\u001b[0m\n\u001b[1;32m      2\u001b[0m \u001b[0;32mdef\u001b[0m \u001b[0msortiter\u001b[0m\u001b[0;34m(\u001b[0m\u001b[0mstack1\u001b[0m\u001b[0;34m,\u001b[0m \u001b[0mstack2\u001b[0m\u001b[0;34m,\u001b[0m \u001b[0mless_than\u001b[0m\u001b[0;34m)\u001b[0m\u001b[0;34m:\u001b[0m\u001b[0;34m\u001b[0m\u001b[0m\n\u001b[1;32m      3\u001b[0m     \u001b[0mpdb\u001b[0m\u001b[0;34m.\u001b[0m\u001b[0mset_trace\u001b[0m\u001b[0;34m(\u001b[0m\u001b[0;34m)\u001b[0m\u001b[0;34m\u001b[0m\u001b[0m\n\u001b[0;32m----> 4\u001b[0;31m     \u001b[0mswap\u001b[0m \u001b[0;34m=\u001b[0m \u001b[0;32mFalse\u001b[0m\u001b[0;34m\u001b[0m\u001b[0m\n\u001b[0m\u001b[1;32m      5\u001b[0m     \u001b[0;32mif\u001b[0m \u001b[0mless_than\u001b[0m\u001b[0;34m:\u001b[0m\u001b[0;34m\u001b[0m\u001b[0m\n\u001b[1;32m      6\u001b[0m         \u001b[0;32mwhile\u001b[0m\u001b[0;34m(\u001b[0m\u001b[0;32mnot\u001b[0m \u001b[0mstack1\u001b[0m\u001b[0;34m.\u001b[0m\u001b[0mempty\u001b[0m\u001b[0;34m(\u001b[0m\u001b[0;34m)\u001b[0m\u001b[0;34m)\u001b[0m\u001b[0;34m:\u001b[0m\u001b[0;34m\u001b[0m\u001b[0m\n",
      "\u001b[0;32m~/anaconda3/lib/python3.6/bdb.py\u001b[0m in \u001b[0;36mtrace_dispatch\u001b[0;34m(self, frame, event, arg)\u001b[0m\n\u001b[1;32m     49\u001b[0m             \u001b[0;32mreturn\u001b[0m \u001b[0;31m# None\u001b[0m\u001b[0;34m\u001b[0m\u001b[0m\n\u001b[1;32m     50\u001b[0m         \u001b[0;32mif\u001b[0m \u001b[0mevent\u001b[0m \u001b[0;34m==\u001b[0m \u001b[0;34m'line'\u001b[0m\u001b[0;34m:\u001b[0m\u001b[0;34m\u001b[0m\u001b[0m\n\u001b[0;32m---> 51\u001b[0;31m             \u001b[0;32mreturn\u001b[0m \u001b[0mself\u001b[0m\u001b[0;34m.\u001b[0m\u001b[0mdispatch_line\u001b[0m\u001b[0;34m(\u001b[0m\u001b[0mframe\u001b[0m\u001b[0;34m)\u001b[0m\u001b[0;34m\u001b[0m\u001b[0m\n\u001b[0m\u001b[1;32m     52\u001b[0m         \u001b[0;32mif\u001b[0m \u001b[0mevent\u001b[0m \u001b[0;34m==\u001b[0m \u001b[0;34m'call'\u001b[0m\u001b[0;34m:\u001b[0m\u001b[0;34m\u001b[0m\u001b[0m\n\u001b[1;32m     53\u001b[0m             \u001b[0;32mreturn\u001b[0m \u001b[0mself\u001b[0m\u001b[0;34m.\u001b[0m\u001b[0mdispatch_call\u001b[0m\u001b[0;34m(\u001b[0m\u001b[0mframe\u001b[0m\u001b[0;34m,\u001b[0m \u001b[0marg\u001b[0m\u001b[0;34m)\u001b[0m\u001b[0;34m\u001b[0m\u001b[0m\n",
      "\u001b[0;32m~/anaconda3/lib/python3.6/bdb.py\u001b[0m in \u001b[0;36mdispatch_line\u001b[0;34m(self, frame)\u001b[0m\n\u001b[1;32m     68\u001b[0m         \u001b[0;32mif\u001b[0m \u001b[0mself\u001b[0m\u001b[0;34m.\u001b[0m\u001b[0mstop_here\u001b[0m\u001b[0;34m(\u001b[0m\u001b[0mframe\u001b[0m\u001b[0;34m)\u001b[0m \u001b[0;32mor\u001b[0m \u001b[0mself\u001b[0m\u001b[0;34m.\u001b[0m\u001b[0mbreak_here\u001b[0m\u001b[0;34m(\u001b[0m\u001b[0mframe\u001b[0m\u001b[0;34m)\u001b[0m\u001b[0;34m:\u001b[0m\u001b[0;34m\u001b[0m\u001b[0m\n\u001b[1;32m     69\u001b[0m             \u001b[0mself\u001b[0m\u001b[0;34m.\u001b[0m\u001b[0muser_line\u001b[0m\u001b[0;34m(\u001b[0m\u001b[0mframe\u001b[0m\u001b[0;34m)\u001b[0m\u001b[0;34m\u001b[0m\u001b[0m\n\u001b[0;32m---> 70\u001b[0;31m             \u001b[0;32mif\u001b[0m \u001b[0mself\u001b[0m\u001b[0;34m.\u001b[0m\u001b[0mquitting\u001b[0m\u001b[0;34m:\u001b[0m \u001b[0;32mraise\u001b[0m \u001b[0mBdbQuit\u001b[0m\u001b[0;34m\u001b[0m\u001b[0m\n\u001b[0m\u001b[1;32m     71\u001b[0m         \u001b[0;32mreturn\u001b[0m \u001b[0mself\u001b[0m\u001b[0;34m.\u001b[0m\u001b[0mtrace_dispatch\u001b[0m\u001b[0;34m\u001b[0m\u001b[0m\n\u001b[1;32m     72\u001b[0m \u001b[0;34m\u001b[0m\u001b[0m\n",
      "\u001b[0;31mBdbQuit\u001b[0m: "
     ]
    }
   ],
   "source": [
    "del stack\n",
    "stack = Stack()\n",
    "stack.push(3)\n",
    "stack.push(5)\n",
    "stack.push(2)\n",
    "stack.push(4)\n",
    "stack.push(1)\n",
    "\n",
    "stack1 = Stack()\n",
    "\n",
    "def printstack(stack):\n",
    "    cpy = deepcopy(stack)\n",
    "    while not cpy.empty():\n",
    "        print(cpy.pop())\n",
    "\n",
    "#\n",
    "sortiter(stack, stack1, True)\n",
    "#printstack(deepcopy(stack))\n",
    "\n",
    "#printstack(sort_stack(stack))"
   ]
  },
  {
   "cell_type": "markdown",
   "metadata": {},
   "source": [
    "### 3.6: Animal shelter\n",
    "An animal shelter, which holds only dogs and cats, operates on a strictly \"first in, first\n",
    "out\" basis. People must adopt either the \"oldest\" (based on arrival time) of all animals at the shelter,\n",
    "or they can select whether they would prefer a dog or a cat (and will receive the oldest animal of\n",
    "that type). They cannot select which specific animal they would like. Create the data structures to\n",
    "maintain this system and implement operations such as enqueue, dequeueAny, dequeueDog,\n",
    "and dequeueCat. You may use the built-in LinkedList data structure"
   ]
  },
  {
   "cell_type": "code",
   "execution_count": 41,
   "metadata": {},
   "outputs": [],
   "source": [
    "from copy import deepcopy\n",
    "class Node:\n",
    "    def __init__(self, data=None):\n",
    "        self.data = data\n",
    "        self.next = None\n",
    "\n",
    "class LLQueue:\n",
    "            \n",
    "    def __init__(self, head=None):\n",
    "        self.front = Node() #pts to front of line (head)\n",
    "        self.back = Node() # pts to end of line (tail)\n",
    "        self.size = 0\n",
    "        \n",
    "        if head != None:\n",
    "            if type(head) == type(front):\n",
    "                self.front.next = deepcopy(head)\n",
    "                node = self.front.next\n",
    "                self.size += 1\n",
    "                while node.next != None:\n",
    "                    node = node.next\n",
    "                    self.size += 1\n",
    "                self.back.next = node\n",
    "            elif type(head) == type(list):\n",
    "                pass\n",
    "            else:\n",
    "                print('Unsupported initialization type. Making empty Queue')\n",
    "    \n",
    "    def dequeue(self):\n",
    "        if not self.empty():\n",
    "            if self.size > 1:\n",
    "                temp = self.front.next\n",
    "                self.front.next = self.front.next.next\n",
    "                temp.next = None\n",
    "                self.size -= 1\n",
    "                return temp.data\n",
    "            else: # theres only one node.\n",
    "                temp = self.front.next\n",
    "                self.front.next = None\n",
    "                self.back.next = None\n",
    "                temp.next = None\n",
    "                self.size -= 1\n",
    "                return temp.data\n",
    "        else:\n",
    "            print('queue is empty')\n",
    "            return None\n",
    "        \n",
    "    def enqueue(self, item):\n",
    "        if self.empty():\n",
    "            self.size += 1\n",
    "            node = Node(item)\n",
    "            self.front.next = node\n",
    "            self.back.next = node\n",
    "        else:\n",
    "            self.size += 1\n",
    "            node = Node(item)\n",
    "            node.next = self.front.next\n",
    "            self.front.next = node.next\n",
    "            \n",
    "    \n",
    "    def size(self):\n",
    "        return self.size\n",
    "    \n",
    "    def empty(self):\n",
    "        return not bool(self.size)\n",
    "    \n",
    "    def peek(self):\n",
    "        if self.size == 0:\n",
    "            print('queue empty.')\n",
    "            return None\n",
    "        return self.front.next.data"
   ]
  },
  {
   "cell_type": "code",
   "execution_count": 48,
   "metadata": {},
   "outputs": [
    {
     "ename": "AttributeError",
     "evalue": "'NoneType' object has no attribute 'data'",
     "output_type": "error",
     "traceback": [
      "\u001b[0;31m---------------------------------------------------------------------------\u001b[0m",
      "\u001b[0;31mAttributeError\u001b[0m                            Traceback (most recent call last)",
      "\u001b[0;32m<ipython-input-48-4bedaa02cd60>\u001b[0m in \u001b[0;36m<module>\u001b[0;34m()\u001b[0m\n\u001b[1;32m     57\u001b[0m \u001b[0;34m\u001b[0m\u001b[0m\n\u001b[1;32m     58\u001b[0m \u001b[0mAS\u001b[0m\u001b[0;34m.\u001b[0m\u001b[0mdequeueDog\u001b[0m\u001b[0;34m(\u001b[0m\u001b[0;34m)\u001b[0m\u001b[0;34m\u001b[0m\u001b[0m\n\u001b[0;32m---> 59\u001b[0;31m \u001b[0mAS\u001b[0m\u001b[0;34m.\u001b[0m\u001b[0mdequeueAny\u001b[0m\u001b[0;34m(\u001b[0m\u001b[0;34m)\u001b[0m\u001b[0;34m\u001b[0m\u001b[0m\n\u001b[0m",
      "\u001b[0;32m<ipython-input-48-4bedaa02cd60>\u001b[0m in \u001b[0;36mdequeueAny\u001b[0;34m(self)\u001b[0m\n\u001b[1;32m     30\u001b[0m             \u001b[0;32mreturn\u001b[0m \u001b[0mself\u001b[0m\u001b[0;34m.\u001b[0m\u001b[0mdogs\u001b[0m\u001b[0;34m.\u001b[0m\u001b[0mdequeue\u001b[0m\u001b[0;34m(\u001b[0m\u001b[0;34m)\u001b[0m\u001b[0;34m\u001b[0m\u001b[0m\n\u001b[1;32m     31\u001b[0m \u001b[0;34m\u001b[0m\u001b[0m\n\u001b[0;32m---> 32\u001b[0;31m         \u001b[0;32mif\u001b[0m \u001b[0mself\u001b[0m\u001b[0;34m.\u001b[0m\u001b[0mdogs_time\u001b[0m\u001b[0;34m.\u001b[0m\u001b[0mpeek\u001b[0m\u001b[0;34m(\u001b[0m\u001b[0;34m)\u001b[0m \u001b[0;34m<\u001b[0m \u001b[0mself\u001b[0m\u001b[0;34m.\u001b[0m\u001b[0mcats_time\u001b[0m\u001b[0;34m.\u001b[0m\u001b[0mpeek\u001b[0m\u001b[0;34m(\u001b[0m\u001b[0;34m)\u001b[0m\u001b[0;34m:\u001b[0m\u001b[0;34m\u001b[0m\u001b[0m\n\u001b[0m\u001b[1;32m     33\u001b[0m             \u001b[0mself\u001b[0m\u001b[0;34m.\u001b[0m\u001b[0mdogs_time\u001b[0m\u001b[0;34m.\u001b[0m\u001b[0mdequeue\u001b[0m\u001b[0;34m(\u001b[0m\u001b[0;34m)\u001b[0m\u001b[0;34m\u001b[0m\u001b[0m\n\u001b[1;32m     34\u001b[0m             \u001b[0;32mreturn\u001b[0m \u001b[0mself\u001b[0m\u001b[0;34m.\u001b[0m\u001b[0mdogs\u001b[0m\u001b[0;34m.\u001b[0m\u001b[0mdequeue\u001b[0m\u001b[0;34m(\u001b[0m\u001b[0;34m)\u001b[0m\u001b[0;34m\u001b[0m\u001b[0m\n",
      "\u001b[0;32m<ipython-input-41-15e2c859a35b>\u001b[0m in \u001b[0;36mpeek\u001b[0;34m(self)\u001b[0m\n\u001b[1;32m     68\u001b[0m             \u001b[0mprint\u001b[0m\u001b[0;34m(\u001b[0m\u001b[0;34m'queue empty.'\u001b[0m\u001b[0;34m)\u001b[0m\u001b[0;34m\u001b[0m\u001b[0m\n\u001b[1;32m     69\u001b[0m             \u001b[0;32mreturn\u001b[0m \u001b[0;32mNone\u001b[0m\u001b[0;34m\u001b[0m\u001b[0m\n\u001b[0;32m---> 70\u001b[0;31m         \u001b[0;32mreturn\u001b[0m \u001b[0mself\u001b[0m\u001b[0;34m.\u001b[0m\u001b[0mfront\u001b[0m\u001b[0;34m.\u001b[0m\u001b[0mnext\u001b[0m\u001b[0;34m.\u001b[0m\u001b[0mdata\u001b[0m\u001b[0;34m\u001b[0m\u001b[0m\n\u001b[0m",
      "\u001b[0;31mAttributeError\u001b[0m: 'NoneType' object has no attribute 'data'"
     ]
    }
   ],
   "source": [
    "class AnimalShelter:\n",
    "    \n",
    "    def __init__(self):\n",
    "        self.dogs = LLQueue()\n",
    "        self.dogs_time = LLQueue()\n",
    "        self.cats = LLQueue()\n",
    "        self.cats_time = LLQueue()\n",
    "        self.time = 0\n",
    "        \n",
    "    def enqueue(self, name, species):\n",
    "        if species == 'cat':\n",
    "            self.cats.enqueue(name)\n",
    "            self.cats_time.enqueue(self.time)\n",
    "        elif species == 'dog':\n",
    "            self.dogs.enqueue(name)\n",
    "            self.dogs_time.enqueue(self.time)\n",
    "        else: \n",
    "            print('Unidenfied species.')\n",
    "            return\n",
    "        self.time += 1\n",
    "        \n",
    "    def dequeueAny(self):\n",
    "        if self.dogs.size == 0 and self.cats.size == 0:\n",
    "            return None\n",
    "        elif self.dogs.size == 0:\n",
    "            self.cats_time.dequeue()\n",
    "            return self.cats.dequeue()\n",
    "        elif self.cats.size == 0:\n",
    "            self.dogs_time.dequeue()\n",
    "            return self.dogs.dequeue()\n",
    "        \n",
    "        if self.dogs_time.peek() < self.cats_time.peek():\n",
    "            self.dogs_time.dequeue()\n",
    "            return self.dogs.dequeue()\n",
    "        else:\n",
    "            self.cats_time.dequeue()\n",
    "            return self.cats.dequeue()\n",
    "        \n",
    "    def dequeueCat(self):\n",
    "        if self.cats.size == 0:\n",
    "            return None\n",
    "        self.cats_time.dequeue()\n",
    "        return self.cats.dequeue()\n",
    "    \n",
    "    def dequeueDog(self):\n",
    "        if self.dogs.size == 0:\n",
    "            return None\n",
    "        self.dogs_time.dequeue()\n",
    "        return self.dogs.dequeue()\n",
    "    \n",
    "AS = AnimalShelter()\n",
    "AS.enqueue('shadow', 'dog')\n",
    "AS.enqueue('stanly', 'dog')\n",
    "AS.enqueue('garfield', 'cat')\n",
    "AS.enqueue('chevy', 'dog')\n",
    "AS.enqueue('elly', 'cat')\n",
    "\n",
    "AS.dequeueDog()\n",
    "AS.dequeueAny()"
   ]
  },
  {
   "cell_type": "markdown",
   "metadata": {},
   "source": [
    "## Chapter 4: trees and graphs (12)"
   ]
  },
  {
   "cell_type": "markdown",
   "metadata": {},
   "source": [
    "\n",
    "- trees\n",
    "    - with root nodes\n",
    "    - root node has 0 or more children\n",
    "    - each children may each have 0 more children as well.\n",
    "    - do not have cycles\n",
    "    - usually defined as a node with list of nodes as memvar (no class tree)\n",
    "        - or as just with a left and right child in binary trees\n",
    "    - nodes with no children are leaves.\n",
    "    \n",
    "    \n",
    "- binary trees have just two children\n",
    "- binary search trees (BSTs) are binary trees s.t. follow BST prop:\n",
    "    - left children are <= parent\n",
    "    - right children are > parent\n",
    "    \n",
    "    \n",
    "- balanced trees ARE that they have O(LG N) insert and find\n",
    "    - alot of diff types (weight vs height balanced)\n",
    "    - better yet a tree is balanced if for the root node: \n",
    "        (1) The left and right subtrees heights differ by at most one, AND\n",
    "        (2) The left subtree is balanced, AND\n",
    "        (3) The right subtree is balanced\n",
    "        \n",
    "        \n",
    "- complete binary trees have each level of the tree fully filled\n",
    "    - except the leaf level, which at least has to be filled left to right.\n",
    "\n",
    "\n",
    "- full binary trees must have that each node in tree has either 0 or 2 kids\n",
    "\n",
    "\n",
    "- perfect binary trees are both full and complete. \n",
    "    - ie, all levels are filled - even the leaf level cuz have to have 0 \n",
    "        or 2 kids, and therefore must have 2. fully filled binary tree.\n",
    "      \n",
    "      \n",
    "- in order traversal: left subtree, parent, right subtree\n",
    "- preorder traversal: parent, left subtree, right subtree\n",
    "- postorder traversal: left subtree, right subtree, parent\n",
    "\n",
    "\n",
    "- heaps (specifically minheap here) are complete binary trees s.t. each\n",
    "    node is smaller than its children (maxheap is opposite). Adj always LG N\n",
    "    - op 1 - insert: start at bottom right (balanced)\n",
    "        - call heapify on the bottom rights parent, then \n",
    "    - op 2 - extract top: grab root. replace with rightest & bottommost\n",
    "        - call heapify on the new root, then on its adjusted kids\n",
    "\n",
    "\n",
    "- Tries/prefix tree: n-ary tree (nodes have n kids) s.t. nodes are chars\n",
    "    - a unique path from root to leaf represents one word. \n",
    "    - *s at the leaves of paths indiciate that the path is a complete word\n",
    "        - these could be specialing inheriting nodes, or a bool flag, or null nodes\n",
    "    - node in trie anywhere from 1 through ALPHABETSIZE+1 kids\n",
    "    - store english for quick prefix lookup. check in O(K) time, K len query\n",
    "        - same time as hash table, which hashes a K-len-query in O(K) time.\n",
    "    \n",
    "    \n",
    "- graphs are vertices and edges\n",
    "- can be directed or undirected\n",
    "- might be unconnected \n",
    "- can have cycles unlike trees\n",
    "- ADJACENCY LIST rep: each vertex has a list of adjacent vertices to mean the edges. stored as (u,v) as a edge from source vertex u to sink vertex v\n",
    "    - you could just use two hash tables of lists to store a graph.\n",
    "        - table1: keys are vertex IDs, values are a list of vertex IDs\n",
    "        - table2: keys are vertex IDs, values are data at each vertex\n",
    "    - ppl usually just use node classes.\n",
    "- ADJACENCY MATRIX: NXN matrix s.t. matrix[i][j] > 0 indiciates an edge from vertex i to vertex j. Symmetric for undirected graphs.\n",
    "\n",
    "\n",
    "- Depth First Search: explore each branch/arbitrarily selected node completely before going onto next branch\n",
    "    - cycle finding good. Stack\n",
    "- Breadth First Search: explore each neighbor of current vertex before going onto the neighbors of each neighboring vertex\n",
    "    - shortest path finding good. Queue\n",
    "    \n",
    "    \n",
    "- bidirectional search: run BFS at source node and at destination node. When the searches collide, have reached the shortest path\n",
    "    - BFS searches K^d nodes total to get to destination = O(k^d) total\n",
    "    - BDS searches k^d/2 + k^d/2 = 2k^d/2 = O(k^d/2) total\n",
    "    \n",
    "- topological sort, dijkstraas, AVL trees, RB trees"
   ]
  },
  {
   "cell_type": "code",
   "execution_count": null,
   "metadata": {},
   "outputs": [],
   "source": [
    "class TreeNode:\n",
    "    def __init__(self, data=None, kids=[]):\n",
    "        self.data = data\n",
    "        self.children = kids\n",
    "class BinaryTreeNode:\n",
    "    def __init__(self, data=None, left=None, right=None):\n",
    "        self.data = data\n",
    "        self.left = left\n",
    "        self.right = right\n"
   ]
  },
  {
   "cell_type": "markdown",
   "metadata": {},
   "source": [
    "# RV - hash of a object unique even if another obj with same mem vars? item in set() vs item in list(). __eq__ vs __hash__"
   ]
  },
  {
   "cell_type": "code",
   "execution_count": null,
   "metadata": {},
   "outputs": [],
   "source": [
    "class Graph:\n",
    "    def __init__(self, vertices=[]):\n",
    "        self.V = vertices\n",
    "class Vertex:\n",
    "    #i assume IDs are unique.\n",
    "    def __init__(self, ID, adjacent=[]):\n",
    "        self.adj = adjacent\n",
    "        self.ID = ID\n",
    "        \n",
    "    '''\n",
    "    def __eq__(self, other):\n",
    "        return (self.ID == other.ID) and (\n",
    "            set([v.ID for v in self.adj]) == set([u.ID for u in other.adj]))\n",
    "    '''"
   ]
  },
  {
   "cell_type": "markdown",
   "metadata": {},
   "source": [
    "i got fucking problems. RV. code work pls"
   ]
  },
  {
   "cell_type": "markdown",
   "metadata": {},
   "source": [
    "### 4.1 Route Between Nodes: \n",
    "Given a directed graph, design an algorithm to find out whether there is a\n",
    "route between two nodes.\n",
    "Hints: #127"
   ]
  },
  {
   "cell_type": "markdown",
   "metadata": {},
   "source": [
    "IDEA: perform BFS starting at both nodes. Have two hash sets marking visited for each of the BFS runs. As we go along, if a current node is visited within the hash set of the other BFS run, then there is a path. "
   ]
  },
  {
   "cell_type": "code",
   "execution_count": 94,
   "metadata": {},
   "outputs": [],
   "source": [
    "class CQueue:\n",
    "    def __init__(self, N):\n",
    "        self.q = [None for i in range(N)]\n",
    "        self.size = 0\n",
    "        self.head = 0\n",
    "        self.tail = 0\n",
    "        self.max = N\n",
    "    def capacity(self):\n",
    "        return self.max\n",
    "    def length(self):\n",
    "        return self.size\n",
    "    def empty(self):\n",
    "        return not bool(self.size)\n",
    "    def enqueue(self, item):\n",
    "        if self.size == self.max:\n",
    "            print('queue full')\n",
    "            print([v.ID if v != None else None for v in self.q])\n",
    "        self.size += 1\n",
    "        self.q[self.tail] = item\n",
    "        self.tail = (self.tail + 1) % self.max\n",
    "    def dequeue(self):\n",
    "        if self.empty():\n",
    "            print('queue empty')\n",
    "        self.size -= 1\n",
    "        val = self.q[self.head]\n",
    "        self.q[self.head] = None\n",
    "        self.head = (self.head + 1) % self.max\n",
    "        return val\n",
    "    def peek(self):\n",
    "        if self.empty():\n",
    "            print('queue empty')\n",
    "        return self.q[self.head]"
   ]
  },
  {
   "cell_type": "code",
   "execution_count": 4,
   "metadata": {},
   "outputs": [],
   "source": [
    "class sQueue:\n",
    "    def __init__(self):\n",
    "        self.q = []\n",
    "    def length(self):\n",
    "        return len(self.q)\n",
    "    def empty(self):\n",
    "        return not bool(self.length())\n",
    "    def peek(self):\n",
    "        if self.empty():\n",
    "            print('queue empty')\n",
    "        return self.q[0]\n",
    "    def enqueue(self, item):\n",
    "        self.q.append(item)\n",
    "    def dequeue(self):\n",
    "        if self.empty():\n",
    "            print('queue empty')\n",
    "        return self.q.pop(0)"
   ]
  },
  {
   "cell_type": "markdown",
   "metadata": {},
   "source": [
    "(1) you cant do u BFS and v BFS at the same time with your stopping condition being that if the set of ALL visited is equal to the graph set then get out b/c u and v might be on two disconnected subgraphs, and there might exist another subgraph disconnected from both of them\n",
    "    \n",
    "    - however, could use stopping condition of when both are done with their runs.\n",
    "\n",
    "(2) there's no point going through u BFS if you've already gone through v BFS and couldn't find u\n"
   ]
  },
  {
   "cell_type": "markdown",
   "metadata": {},
   "source": [
    "summary: performs BFS on both nodes in parallel, recording visited nodes for each BFS separately, but then also checking a node currently being visited in one BFS if it is in the other visited recording - if it is, then there is a path. if we go through all nodes and nocurrent node is in the set of visited nodes for the other set, then there is no path"
   ]
  },
  {
   "cell_type": "code",
   "execution_count": 13,
   "metadata": {},
   "outputs": [
    {
     "data": {
      "text/plain": [
       "'IBC'"
      ]
     },
     "execution_count": 13,
     "metadata": {},
     "output_type": "execute_result"
    }
   ],
   "source": [
    "class Graph:\n",
    "    def __init__(self, vertices=[]):\n",
    "        self.V = vertices\n",
    "class Vertex:\n",
    "    #i assume IDs are unique.\n",
    "    def __init__(self, ID, adjacent=[]):\n",
    "        self.adj = adjacent\n",
    "        self.ID = ID\n",
    "\n",
    "def print_vertices(G):\n",
    "    for vertex in G.V:\n",
    "        neighs = []\n",
    "        for neighbor in vertex.adj:\n",
    "            neighs.append(neighbor.ID)\n",
    "        print('Vertex ' + str(vertex.ID) + ': ' + str(neighs))\n",
    "        \n",
    "def process_BFS(queue, visitedID, ovisitedID, path, opath):\n",
    "    if queue.empty():\n",
    "        return ''\n",
    "    vertex = queue.dequeue()\n",
    "    visitedID.add(vertex.ID)\n",
    "    if vertex.ID in ovisitedID:\n",
    "        otherpath = opath[vertex.ID][::-1]\n",
    "        FinalPath = path[vertex.ID][:len(otherpath)-1] + otherpath\n",
    "        return FinalPath\n",
    "    for neighbor in vertex.adj:\n",
    "        if neighbor.ID in visitedID:\n",
    "            continue\n",
    "        queue.enqueue(neighbor)\n",
    "        path[neighbor.ID] = path[vertex.ID] + neighbor.ID\n",
    "    return ''\n",
    "\n",
    "#can have two threads if you want.\n",
    "def isPath(G, v, u):\n",
    "    #if inputted vertices arent in the graph, get out. costs N + N \n",
    "    if (v.ID not in (a.ID for a in G.V)) or (\n",
    "        u.ID not in (b.ID for b in G.V)):\n",
    "        print('One or more inputted vertices not in graph.')\n",
    "        return ''\n",
    "    \n",
    "    vIDset = set()\n",
    "    uIDset = set()\n",
    "    vqueue = sQueue()\n",
    "    vqueue.enqueue(v)\n",
    "    uqueue = sQueue()\n",
    "    uqueue.enqueue(u)\n",
    "    pathstrV = {}\n",
    "    pathstrV[v.ID] = v.ID\n",
    "    pathstrU = {}\n",
    "    pathstrU[u.ID] = u.ID\n",
    "    \n",
    "    while not(vqueue.empty() and uqueue.empty()):\n",
    "        pv = process_BFS(vqueue, vIDset, uIDset, pathstrV, pathstrU)\n",
    "        pu = process_BFS(uqueue, uIDset, vIDset, pathstrU, pathstrV)\n",
    "        if len(pv) or len(pu):\n",
    "            return max(pv, pu)\n",
    "    \n",
    "    return ''\n",
    "        \n",
    "g = Graph()\n",
    "A = Vertex('A')\n",
    "B = Vertex('B')\n",
    "C = Vertex('C')\n",
    "D = Vertex('D')\n",
    "E = Vertex('E')\n",
    "F = Vertex('F')\n",
    "G = Vertex('G')\n",
    "H = Vertex('H')\n",
    "I = Vertex('I')\n",
    "\n",
    "A.adj.append(B)\n",
    "A.adj.append(D)\n",
    "\n",
    "B.adj.append(A)\n",
    "B.adj.append(C)\n",
    "\n",
    "C.adj.append(B)\n",
    "\n",
    "D.adj.append(A)\n",
    "D.adj.append(E)\n",
    "\n",
    "E.adj.append(D)\n",
    "E.adj.append(G)\n",
    "E.adj.append(H)\n",
    "E.adj.append(F)\n",
    "\n",
    "F.adj.append(E)\n",
    "\n",
    "G.adj.append(E)\n",
    "G.adj.append(H)\n",
    "\n",
    "H.adj.append(G)\n",
    "H.adj.append(E)\n",
    "H.adj.append(I)\n",
    "\n",
    "I.adj.append(H)\n",
    "g.V = [A, B, C, D, E, F, G, H, I]\n",
    "isPath(g, C, I)"
   ]
  },
  {
   "cell_type": "code",
   "execution_count": 2,
   "metadata": {},
   "outputs": [],
   "source": [
    "def print_vertices(G):\n",
    "    for vertex in G.V:\n",
    "        neighs = []\n",
    "        for neighbor in vertex.adj:\n",
    "            neighs.append(neighbor.ID)\n",
    "        print('Vertex ' + str(vertex.ID) + ': ' + str(neighs))"
   ]
  },
  {
   "cell_type": "code",
   "execution_count": 1,
   "metadata": {},
   "outputs": [
    {
     "name": "stdout",
     "output_type": "stream",
     "text": [
      "Vertex A: ['B', 'D', 'A', 'C', 'B', 'A', 'E', 'D', 'G', 'H', 'F', 'E', 'E', 'H', 'G', 'E', 'I', 'H']\n",
      "Vertex B: ['B', 'D', 'A', 'C', 'B', 'A', 'E', 'D', 'G', 'H', 'F', 'E', 'E', 'H', 'G', 'E', 'I', 'H']\n",
      "Vertex C: ['B', 'D', 'A', 'C', 'B', 'A', 'E', 'D', 'G', 'H', 'F', 'E', 'E', 'H', 'G', 'E', 'I', 'H']\n",
      "Vertex D: ['B', 'D', 'A', 'C', 'B', 'A', 'E', 'D', 'G', 'H', 'F', 'E', 'E', 'H', 'G', 'E', 'I', 'H']\n",
      "Vertex E: ['B', 'D', 'A', 'C', 'B', 'A', 'E', 'D', 'G', 'H', 'F', 'E', 'E', 'H', 'G', 'E', 'I', 'H']\n",
      "Vertex F: ['B', 'D', 'A', 'C', 'B', 'A', 'E', 'D', 'G', 'H', 'F', 'E', 'E', 'H', 'G', 'E', 'I', 'H']\n",
      "Vertex G: ['B', 'D', 'A', 'C', 'B', 'A', 'E', 'D', 'G', 'H', 'F', 'E', 'E', 'H', 'G', 'E', 'I', 'H']\n",
      "Vertex H: ['B', 'D', 'A', 'C', 'B', 'A', 'E', 'D', 'G', 'H', 'F', 'E', 'E', 'H', 'G', 'E', 'I', 'H']\n",
      "Vertex I: ['B', 'D', 'A', 'C', 'B', 'A', 'E', 'D', 'G', 'H', 'F', 'E', 'E', 'H', 'G', 'E', 'I', 'H']\n",
      "The history saving thread hit an unexpected error (DatabaseError('database disk image is malformed',)).History will not be written to the database.\n"
     ]
    }
   ],
   "source": [
    "class Graph:\n",
    "    def __init__(self, vertices=[]):\n",
    "        self.V = vertices\n",
    "class Vertex:\n",
    "    #i assume IDs are unique.\n",
    "    def __init__(self, ID, adjacent=[]):\n",
    "        self.adj = adjacent\n",
    "        self.ID = ID\n",
    "\n",
    "def print_vertices(G):\n",
    "    for vertex in G.V:\n",
    "        neighs = []\n",
    "        for neighbor in vertex.adj:\n",
    "            neighs.append(neighbor.ID)\n",
    "        print('Vertex ' + str(vertex.ID) + ': ' + str(neighs))\n",
    "        \n",
    "g = Graph()\n",
    "A = Vertex('A')\n",
    "B = Vertex('B')\n",
    "C = Vertex('C')\n",
    "D = Vertex('D')\n",
    "E = Vertex('E')\n",
    "F = Vertex('F')\n",
    "G = Vertex('G')\n",
    "H = Vertex('H')\n",
    "I = Vertex('I')\n",
    "\n",
    "A.adj.append(B)\n",
    "A.adj.append(D)\n",
    "\n",
    "B.adj.append(A)\n",
    "B.adj.append(C)\n",
    "\n",
    "C.adj.append(B)\n",
    "\n",
    "D.adj.append(A)\n",
    "D.adj.append(E)\n",
    "\n",
    "E.adj.append(D)\n",
    "E.adj.append(G)\n",
    "E.adj.append(H)\n",
    "E.adj.append(F)\n",
    "\n",
    "F.adj.append(E)\n",
    "\n",
    "G.adj.append(E)\n",
    "G.adj.append(H)\n",
    "\n",
    "H.adj.append(G)\n",
    "H.adj.append(E)\n",
    "H.adj.append(I)\n",
    "\n",
    "I.adj.append(H)\n",
    "g.V = [A, B, C, D, E, F, G, H, I]\n",
    "print_vertices(g)"
   ]
  },
  {
   "cell_type": "code",
   "execution_count": 1,
   "metadata": {},
   "outputs": [
    {
     "name": "stdout",
     "output_type": "stream",
     "text": [
      "The history saving thread hit an unexpected error (DatabaseError('database disk image is malformed',)).History will not be written to the database.\n"
     ]
    }
   ],
   "source": [
    "class Graph:\n",
    "    def __init__(self, vertices=[]):\n",
    "        self.V = vertices\n",
    "class Vertex:\n",
    "    #i assume IDs are unique.\n",
    "    def __init__(self, ID, adjacent=[]):\n",
    "        self.adj = adjacent\n",
    "        self.ID = ID"
   ]
  },
  {
   "cell_type": "markdown",
   "metadata": {},
   "source": [
    "## 4.2 Minimal Tree: \n",
    "Given a sorted (increasing order) array with unique integer elements, write an algorithm\n",
    "to create a binary search tree with minimal height.\n",
    "Hints: #19, #73, #176"
   ]
  },
  {
   "cell_type": "markdown",
   "metadata": {},
   "source": [
    "RV - dont forget. trees usually means recursion"
   ]
  },
  {
   "cell_type": "markdown",
   "metadata": {},
   "source": [
    "attempt1 : this doesnt work. it generates a triangle instead of a nice pyramid.\n",
    "we hjave to do this recurisvely."
   ]
  },
  {
   "cell_type": "code",
   "execution_count": 171,
   "metadata": {},
   "outputs": [
    {
     "ename": "SyntaxError",
     "evalue": "invalid syntax (<ipython-input-171-8a75dd84fe7a>, line 1)",
     "output_type": "error",
     "traceback": [
      "\u001b[0;36m  File \u001b[0;32m\"<ipython-input-171-8a75dd84fe7a>\"\u001b[0;36m, line \u001b[0;32m1\u001b[0m\n\u001b[0;31m    def Node:\u001b[0m\n\u001b[0m            ^\u001b[0m\n\u001b[0;31mSyntaxError\u001b[0m\u001b[0;31m:\u001b[0m invalid syntax\n"
     ]
    }
   ],
   "source": [
    "def Node:\n",
    "    def __init__(self, data=None, left=None, right=None):\n",
    "        self.data=data\n",
    "        self.left=left\n",
    "        self.right=right\n",
    "#\n",
    "def generate_minHeight_BST(array):\n",
    "    if len(array) == 0:\n",
    "        return None\n",
    "    elif len(array) == 1:\n",
    "        return Node(array[0])\n",
    "    \n",
    "    L = 0\n",
    "    H = len(array) - 1\n",
    "    pright = None\n",
    "    pleft = None\n",
    "    counter = 0\n",
    "    while L < H:\n",
    "        lr = Node(array[H])\n",
    "        ll = Node(array[L])\n",
    "        if counter == 0:\n",
    "            lr.right = pright\n",
    "            ll.left = pleft\n",
    "            pright = lr\n",
    "            pleft = ll\n",
    "            counter += 1\n",
    "        elif counter == 1:\n",
    "            pright.left = lr\n",
    "            pleft.right = ll\n",
    "            counter += 1\n",
    "        elif counter == 2:\n",
    "            \n",
    "        if pright == None and pleft == None:\n",
    "            pright = lr\n",
    "            pleft = ll\n",
    "            counter += 1\n",
    "            \n",
    "        L += 1\n",
    "        H -= 1\n",
    "    "
   ]
  },
  {
   "cell_type": "code",
   "execution_count": 21,
   "metadata": {},
   "outputs": [],
   "source": [
    "def preorder(node):\n",
    "    if node != None:\n",
    "        print(node.data)\n",
    "        preorder(node.left)\n",
    "        preorder(node.right)\n",
    "def inorder(node):\n",
    "    if node != None:\n",
    "        inorder(node.left)\n",
    "        print(node.data)\n",
    "        inorder(node.right)\n",
    "def postorder(node):\n",
    "    if node != None:\n",
    "        postorder(node.left)\n",
    "        postorder(node.right)\n",
    "        print(node.data)"
   ]
  },
  {
   "cell_type": "markdown",
   "metadata": {},
   "source": [
    "summarY: works like mergesort in terms of splitting ( all recursive algorithms do this though..)"
   ]
  },
  {
   "cell_type": "code",
   "execution_count": 172,
   "metadata": {},
   "outputs": [],
   "source": [
    "class BinaryTreeNode:\n",
    "    def __init__(self, data=None, left=None, right=None):\n",
    "        self.data=data\n",
    "        self.left=left\n",
    "        self.right=right\n",
    "\n",
    "class Node:\n",
    "    def __init__(self, data=None, left=None, right=None):\n",
    "        self.data=data\n",
    "        self.left=left\n",
    "        self.right=right\n",
    "        \n",
    "def generate_minHeight_BST(array):\n",
    "    #insert base case here.\n",
    "    if len(array) == 0:\n",
    "        return None\n",
    "    elif len(array) == 1:\n",
    "        return BinaryTreeNode(array[0])\n",
    "    #dont make things complicated...\n",
    "    '''\n",
    "    elif len(array) == 2:\n",
    "        parent = Node(array[1])\n",
    "        leftchild = Node(array[0])\n",
    "        parent.left = leftchild\n",
    "        return parent\n",
    "    '''\n",
    "    \n",
    "    M = int((len(array))/2)\n",
    "    parent = BinaryTreeNode(array[M])\n",
    "    parent.left = generate_minHeight_BST(array[:M])\n",
    "    parent.right = generate_minHeight_BST(array[M+1:])\n",
    "    return parent\n",
    "    \n",
    "    "
   ]
  },
  {
   "cell_type": "code",
   "execution_count": 39,
   "metadata": {},
   "outputs": [],
   "source": [
    "#BOOK SOLN: same as ours"
   ]
  },
  {
   "cell_type": "code",
   "execution_count": 173,
   "metadata": {},
   "outputs": [
    {
     "ename": "NameError",
     "evalue": "name 'inorder' is not defined",
     "output_type": "error",
     "traceback": [
      "\u001b[0;31m---------------------------------------------------------------------------\u001b[0m",
      "\u001b[0;31mNameError\u001b[0m                                 Traceback (most recent call last)",
      "\u001b[0;32m<ipython-input-173-a612f71a3321>\u001b[0m in \u001b[0;36m<module>\u001b[0;34m()\u001b[0m\n\u001b[1;32m      1\u001b[0m \u001b[0mroot\u001b[0m \u001b[0;34m=\u001b[0m \u001b[0mgenerate_minHeight_BST\u001b[0m\u001b[0;34m(\u001b[0m\u001b[0;34m[\u001b[0m\u001b[0;36m6\u001b[0m\u001b[0;34m,\u001b[0m \u001b[0;36m5\u001b[0m\u001b[0;34m,\u001b[0m \u001b[0;36m4\u001b[0m\u001b[0;34m,\u001b[0m \u001b[0;36m3\u001b[0m\u001b[0;34m,\u001b[0m\u001b[0;36m2\u001b[0m \u001b[0;34m,\u001b[0m\u001b[0;36m1\u001b[0m\u001b[0;34m,\u001b[0m\u001b[0;36m0\u001b[0m\u001b[0;34m]\u001b[0m\u001b[0;34m)\u001b[0m\u001b[0;34m\u001b[0m\u001b[0m\n\u001b[0;32m----> 2\u001b[0;31m \u001b[0minorder\u001b[0m\u001b[0;34m(\u001b[0m\u001b[0mroot\u001b[0m\u001b[0;34m)\u001b[0m\u001b[0;34m\u001b[0m\u001b[0m\n\u001b[0m",
      "\u001b[0;31mNameError\u001b[0m: name 'inorder' is not defined"
     ]
    }
   ],
   "source": [
    "root = generate_minHeight_BST([6, 5, 4, 3,2 ,1,0])\n",
    "inorder(root)\n"
   ]
  },
  {
   "cell_type": "markdown",
   "metadata": {},
   "source": [
    "## 4.3 List of Depths: \n",
    "Given a binary tree, design an algorithm which creates a linked list of all the nodes\n",
    "at each depth (e.g., if you have a tree with depth 0, you'll have 0 linked lists).\n",
    "Hints: #107, #123, #735"
   ]
  },
  {
   "cell_type": "markdown",
   "metadata": {},
   "source": [
    "summary: given a root node, send it and depth 0 to a recursive fcn, that then appends the currently given node to the beginning of the 0th linked list. then call the same function with depth 0 + 1 on both of this root's children.\n",
    "\n",
    "- equivalent to DFS. O(N) time going through every node. O(N + LGN space), N from returning the list of linked lists, LG N from recursive calls fcn call stack"
   ]
  },
  {
   "cell_type": "markdown",
   "metadata": {},
   "source": [
    "summary: after looking at book to get ideas, also did BFS solution. has two queues, one for node, one for depth. take in root node. and push root node and depth 0 to the two queues. now, while the queue is nonempty, pop depth and node, which is root, then add roots children to queue as well as 0 + 1 to other queue, then append current node's (which is root) to the arr of ll.\n",
    "    - equivalent to BFS. O(N) time going through every node. extra O(N + N + N) space for return thingy, nodequeue and depthqueue. O(N). "
   ]
  },
  {
   "cell_type": "code",
   "execution_count": 63,
   "metadata": {},
   "outputs": [
    {
     "name": "stdout",
     "output_type": "stream",
     "text": [
      "DFS\n",
      "Depth 0 has vals: [3]\n",
      "Depth 1 has vals: [1, 5]\n",
      "Depth 2 has vals: [0, 2, 4, 6]\n",
      "----------------\n",
      "BFS\n",
      "Depth 0 has vals: [3]\n",
      "Depth 1 has vals: [1, 5]\n",
      "Depth 2 has vals: [0, 2, 4, 6]\n",
      "----------------\n"
     ]
    }
   ],
   "source": [
    "class BinaryTreeNode:\n",
    "    def __init__(self, data=None, left=None, right=None):\n",
    "        self.data=data\n",
    "        self.left=left\n",
    "        self.right=right\n",
    "\n",
    "class Node:\n",
    "    def __init__(self, data=None, Next=None):\n",
    "        self.data = data\n",
    "        self.next = Next\n",
    "\n",
    "def list_of_depths(root):\n",
    "    list_of_lls = []\n",
    "    def list_go(treeNode, depth):\n",
    "        if treeNode == None:\n",
    "            return\n",
    "        node = Node(treeNode.data)\n",
    "        if len(list_of_lls) == depth:\n",
    "            list_of_lls.append(node)\n",
    "        else:\n",
    "            current_head_at_depth = list_of_lls[depth]\n",
    "            node.next = current_head_at_depth\n",
    "            list_of_lls[depth] = node\n",
    "        list_go(treeNode.right, depth+1)\n",
    "        list_go(treeNode.left, depth+1)\n",
    "    \n",
    "    list_go(root, 0)\n",
    "    \n",
    "    return list_of_lls\n",
    "\n",
    "def list_of_depths_BFS(root):\n",
    "    list_of_lls = []\n",
    "    q = []\n",
    "    qd = []\n",
    "    q.append(root)\n",
    "    qd.append(0)\n",
    "    while len(q) != 0:\n",
    "        treenode = q.pop(0)\n",
    "        depth = qd.pop(0)\n",
    "        if treenode == None:\n",
    "            continue\n",
    "        q.append(treenode.right)\n",
    "        qd.append(depth + 1)\n",
    "        q.append(treenode.left)\n",
    "        qd.append(depth + 1)\n",
    "        node = Node(treenode.data)\n",
    "        if depth == len(list_of_lls):\n",
    "            list_of_lls.append(node)\n",
    "        else:\n",
    "            current_head_at_depth = list_of_lls[depth]\n",
    "            node.next = current_head_at_depth\n",
    "            list_of_lls[depth] = node\n",
    "\n",
    "    return list_of_lls\n",
    "\n",
    "llarrdfs = list_of_depths(root)\n",
    "llarrbfs = list_of_depths_BFS(root)\n",
    "\n",
    "def print_list_of_depths(llarr):\n",
    "    depth = 0\n",
    "    for llhead in llarr:\n",
    "        keys = []\n",
    "        while llhead != None:\n",
    "            keys.append(llhead.data)\n",
    "            llhead = llhead.next\n",
    "        print('Depth ' + str(depth) + ' has vals: ' + str(keys))\n",
    "        depth += 1\n",
    "    print('----------------')\n",
    "print('DFS')\n",
    "print_list_of_depths(llarrdfs)\n",
    "print('BFS')\n",
    "print_list_of_depths(llarrbfs)"
   ]
  },
  {
   "cell_type": "markdown",
   "metadata": {},
   "source": [
    "## 4.4 Check Balanced: \n",
    "Implement a function to check if a binary tree is balanced. For the purposes of\n",
    "this question, a balanced tree is defined to be a tree such that the heights of the two subtrees of any\n",
    "node never differ by more than one.\n",
    "Hints: #2 7, #33, #49, # 705, #724"
   ]
  },
  {
   "cell_type": "code",
   "execution_count": 74,
   "metadata": {},
   "outputs": [
    {
     "data": {
      "text/plain": [
       "True"
      ]
     },
     "execution_count": 74,
     "metadata": {},
     "output_type": "execute_result"
    }
   ],
   "source": [
    "def balanced(root):\n",
    "    depths = set()\n",
    "    def traversal(node, depth):\n",
    "        if node == None:\n",
    "            depths.add(depth - 1)\n",
    "            return\n",
    "        traversal(node.left, depth + 1)\n",
    "        traversal(node.right, depth + 1)\n",
    "    traversal(root, 0)\n",
    "    return abs(max(depths) - min(depths)) <= 1\n",
    "    \n",
    "balanced(root)\n"
   ]
  },
  {
   "cell_type": "code",
   "execution_count": 75,
   "metadata": {},
   "outputs": [],
   "source": [
    "#BOOK SOLN: no comment."
   ]
  },
  {
   "cell_type": "markdown",
   "metadata": {},
   "source": [
    "## 4.5 Validate BST: \n",
    "Implement a function to check if a binary tree is a binary search tree.\n",
    "Hints: #35, #57, #86, # 773, # 728"
   ]
  },
  {
   "cell_type": "markdown",
   "metadata": {},
   "source": [
    "summarY: our solution is wrong. a left child's right child could be greater than the current node, which is wrong. need to pass down min/max"
   ]
  },
  {
   "cell_type": "code",
   "execution_count": 105,
   "metadata": {},
   "outputs": [
    {
     "data": {
      "text/plain": [
       "False"
      ]
     },
     "execution_count": 105,
     "metadata": {},
     "output_type": "execute_result"
    }
   ],
   "source": [
    "class Node:\n",
    "    def __init__(self, data=None, left=None, right=None):\n",
    "        self.data=data\n",
    "        self.left=left\n",
    "        self.right=right\n",
    "\n",
    "#assume that left <= current < right\n",
    "    #and not like left < current <= right, or left <= current < right\n",
    "def isBST(node):\n",
    "    #is empty tree. theres no node\n",
    "    if node == None:\n",
    "        return True\n",
    "    \n",
    "    #has two children\n",
    "    if node.right != None and node.left != None:\n",
    "        if node.right.data <= node.data or node.left.data > node.data:\n",
    "            return False\n",
    "        else:\n",
    "            return isBST(node.right) and isBST(node.left)\n",
    "    #only has right child\n",
    "    elif node.right != None:\n",
    "        if node.right.data <= node.data:\n",
    "            return False\n",
    "        else:\n",
    "            return isBST(node.right)\n",
    "    #only has left child\n",
    "    elif node.left != None:\n",
    "        if node.left.data > node.data:\n",
    "            return False\n",
    "        else:\n",
    "            return isBST(node.left)\n",
    "    #has no kids\n",
    "    else:\n",
    "        return True\n",
    "        \n",
    "tree = Node(5)\n",
    "\n",
    "isBST(root)\n",
    "#preorder(tree)"
   ]
  },
  {
   "cell_type": "code",
   "execution_count": 136,
   "metadata": {},
   "outputs": [],
   "source": [
    "#my soln, attempt 2:\n",
    "def isBST(root):\n",
    "    boolean = [True]\n",
    "    def isbstgo(node, Min, Max):\n",
    "        if node == None:\n",
    "            return\n",
    "        if node.left != None:\n",
    "            if node.left.data > node.data or node.left.data > Min:\n",
    "                boolean[0] = False\n",
    "                return\n",
    "            else:\n",
    "                isbstgo(node.left, node.data, Max)\n",
    "        if node.right != None:\n",
    "            if node.right.data <= node.data or node.right.data <= Max:\n",
    "                boolean[0] = False\n",
    "                return\n",
    "            else:\n",
    "                isbstgo(node.right, Min, node.data)\n",
    "            \n",
    "    isbstgo(root, float('Inf'), float('-Inf'))\n",
    "    return boolean[0]"
   ]
  },
  {
   "cell_type": "code",
   "execution_count": 174,
   "metadata": {},
   "outputs": [
    {
     "ename": "NameError",
     "evalue": "name 'inorder' is not defined",
     "output_type": "error",
     "traceback": [
      "\u001b[0;31m---------------------------------------------------------------------------\u001b[0m",
      "\u001b[0;31mNameError\u001b[0m                                 Traceback (most recent call last)",
      "\u001b[0;32m<ipython-input-174-9a9b83c8b2fa>\u001b[0m in \u001b[0;36m<module>\u001b[0;34m()\u001b[0m\n\u001b[1;32m      2\u001b[0m \u001b[0mtree\u001b[0m \u001b[0;34m=\u001b[0m \u001b[0mgenerate_minHeight_BST\u001b[0m\u001b[0;34m(\u001b[0m\u001b[0;34m[\u001b[0m\u001b[0;36m100\u001b[0m\u001b[0;34m,\u001b[0m\u001b[0;36m1\u001b[0m\u001b[0;34m,\u001b[0m\u001b[0;36m50\u001b[0m\u001b[0;34m,\u001b[0m \u001b[0;36m2\u001b[0m\u001b[0;34m,\u001b[0m \u001b[0;36m10\u001b[0m\u001b[0;34m,\u001b[0m\u001b[0;36m3\u001b[0m\u001b[0;34m,\u001b[0m \u001b[0;34m-\u001b[0m\u001b[0;36m1\u001b[0m\u001b[0;34m]\u001b[0m\u001b[0;34m)\u001b[0m\u001b[0;34m\u001b[0m\u001b[0m\n\u001b[1;32m      3\u001b[0m \u001b[0mtree\u001b[0m \u001b[0;34m=\u001b[0m \u001b[0mgenerate_minHeight_BST\u001b[0m\u001b[0;34m(\u001b[0m\u001b[0;34m[\u001b[0m\u001b[0;36m10\u001b[0m\u001b[0;34m,\u001b[0m \u001b[0;36m25\u001b[0m\u001b[0;34m,\u001b[0m \u001b[0;36m25\u001b[0m\u001b[0;34m,\u001b[0m \u001b[0;36m30\u001b[0m\u001b[0;34m]\u001b[0m\u001b[0;34m)\u001b[0m\u001b[0;34m\u001b[0m\u001b[0m\n\u001b[0;32m----> 4\u001b[0;31m \u001b[0minorder\u001b[0m\u001b[0;34m(\u001b[0m\u001b[0mtree\u001b[0m\u001b[0;34m)\u001b[0m\u001b[0;34m\u001b[0m\u001b[0m\n\u001b[0m\u001b[1;32m      5\u001b[0m \u001b[0misBST\u001b[0m\u001b[0;34m(\u001b[0m\u001b[0mtree\u001b[0m\u001b[0;34m)\u001b[0m\u001b[0;34m\u001b[0m\u001b[0m\n",
      "\u001b[0;31mNameError\u001b[0m: name 'inorder' is not defined"
     ]
    }
   ],
   "source": [
    "tree = generate_minHeight_BST([100,1,50, 2, 10,3, -1])\n",
    "tree = generate_minHeight_BST([100,1,50, 2, 10,3, -1])\n",
    "tree = generate_minHeight_BST([10, 25, 25, 30])\n",
    "inorder(tree)\n",
    "isBST(tree)"
   ]
  },
  {
   "cell_type": "code",
   "execution_count": 128,
   "metadata": {},
   "outputs": [
    {
     "data": {
      "text/plain": [
       "'\\nmine, except it WORKS. carries down current max or min from ancestor tocheck\\n'"
      ]
     },
     "execution_count": 128,
     "metadata": {},
     "output_type": "execute_result"
    }
   ],
   "source": [
    "#book soln 1:\n",
    "'''\n",
    "inorder traversal, putting elements into an array. check if array sorted\n",
    "'''\n",
    "def isBSTinorder(root):\n",
    "    array = []\n",
    "    def inorderBST(node):\n",
    "        if node != None:\n",
    "            inorderBST(node.left)\n",
    "            array.append(node.data)\n",
    "            inorderBST(node.right)\n",
    "    inorderBST(root)\n",
    "    if len(array) == 0 or len(array) == 1:\n",
    "        return True\n",
    "    for i in range(1, len(array)):\n",
    "        if array[i-1] > array[i]:\n",
    "            return False\n",
    "    return True\n",
    "\n",
    "\n",
    "#BOOK SOLN 1.5:\n",
    "'''\n",
    "inorder traversal, check against last value traversed.\n",
    "'''\n",
    "def isBSTinorderLV(root):\n",
    "    array = [None]\n",
    "    boolean = [True]\n",
    "    def inorderBSTLV(node):\n",
    "        if node != None:\n",
    "            inorderBSTLV(node.left)\n",
    "            if array[0] != None:\n",
    "                if array[0] > node.data:\n",
    "                    boolean[0] = False\n",
    "                    return\n",
    "            array[0] = node.data\n",
    "            inorderBSTLV(node.right)\n",
    "            \n",
    "    inorderBSTLV(root)\n",
    "    return boolean[0]\n",
    "\n",
    "#book soln 2:\n",
    "'''\n",
    "mine, except it WORKS. carries down current max or min from ancestor tocheck\n",
    "'''"
   ]
  },
  {
   "cell_type": "code",
   "execution_count": 129,
   "metadata": {},
   "outputs": [
    {
     "name": "stdout",
     "output_type": "stream",
     "text": [
      "5\n",
      "4\n",
      "3\n",
      "2\n",
      "1\n"
     ]
    }
   ],
   "source": [
    "inorder(generate_minHeight_BST([0, 1, 2, 3, 4, 5, 6, 7]))"
   ]
  },
  {
   "cell_type": "code",
   "execution_count": 130,
   "metadata": {},
   "outputs": [
    {
     "data": {
      "text/plain": [
       "False"
      ]
     },
     "execution_count": 130,
     "metadata": {},
     "output_type": "execute_result"
    }
   ],
   "source": [
    "isBSTinorderLV(generate_minHeight_BST([5, 4, 3, 2, 1]))"
   ]
  },
  {
   "cell_type": "markdown",
   "metadata": {},
   "source": [
    "## 4.6 Successor: \n",
    "Write an algorithm to find the \"next\" node (i .e., in-order successor) of a given node in a\n",
    "binary search tree. You may assume that each node has a link to its parent.\n",
    "Hints: #79, #91"
   ]
  },
  {
   "cell_type": "code",
   "execution_count": 144,
   "metadata": {},
   "outputs": [],
   "source": [
    "# the successor of a bst node is the minimum of its right subtree.\n",
    "def minimum(node):\n",
    "    if node == None:\n",
    "        return None\n",
    "    while node.left != None:\n",
    "        node = node.left\n",
    "    return node\n",
    "\n",
    "def minimum_rec(node):\n",
    "    if node == None:\n",
    "        return None\n",
    "    if node.left == None:\n",
    "        return node\n",
    "    if node.left != None:\n",
    "        return minimum_rec(node.left)\n",
    "\n",
    "def successor(node):\n",
    "    if node.right != None:\n",
    "        return minimum(node.right) #element with right subtree\n",
    "    else:\n",
    "        #go up, checking for right parent.\n",
    "        Iter = node\n",
    "        while Iter != None:\n",
    "            if Iter.p.left != None and Iter.p.left == Iter:\n",
    "                return Iter.p # right element in left subtree\n",
    "            Iter = Iter.p\n",
    "        return Node #case where i have rightmost element"
   ]
  },
  {
   "cell_type": "code",
   "execution_count": 145,
   "metadata": {},
   "outputs": [],
   "source": [
    "#BOOK SOLN: didnt read, cuz CLRS is superior"
   ]
  },
  {
   "cell_type": "markdown",
   "metadata": {},
   "source": [
    "## 4.7 Build Order: \n",
    "You are given a list of projects and a list of dependencies (which is a list of pairs of\n",
    "projects, where the second project is dependent on the first project). All of a project's dependencies\n",
    "must be built before the project is. Find a build order that will allow the projects to be built. If there\n",
    "is no valid build order, return an error.\n",
    "\n",
    "EXAMPLE\n",
    "\n",
    "Input:\n",
    "\n",
    "projects: a, b, c, d, e, f\n",
    "\n",
    "dependencies: (a, d), (f, b), (b, d), (f, a), (d, c\n",
    "\n",
    "Output: f, e, a, b, d, c\n",
    "\n",
    "Hints: #26, #47, #60, #85, # 125, # 733"
   ]
  },
  {
   "cell_type": "markdown",
   "metadata": {},
   "source": [
    "###### using stack DFS and hash table vertex rep.\n",
    "i cant get this working. checking the conditions for a cycle - aka if a current node we're on is currently in the call stack - isntr working."
   ]
  },
  {
   "cell_type": "code",
   "execution_count": 25,
   "metadata": {},
   "outputs": [
    {
     "ename": "KeyboardInterrupt",
     "evalue": "",
     "output_type": "error",
     "traceback": [
      "\u001b[0;31m---------------------------------------------------------------------------\u001b[0m",
      "\u001b[0;31mKeyboardInterrupt\u001b[0m                         Traceback (most recent call last)",
      "\u001b[0;32m<ipython-input-25-6100fea76736>\u001b[0m in \u001b[0;36m<module>\u001b[0;34m()\u001b[0m\n\u001b[1;32m     50\u001b[0m     \u001b[0;32mreturn\u001b[0m \u001b[0mtraverser\u001b[0m\u001b[0;34m\u001b[0m\u001b[0m\n\u001b[1;32m     51\u001b[0m '''\n\u001b[0;32m---> 52\u001b[0;31m \u001b[0mbuild_order\u001b[0m\u001b[0;34m(\u001b[0m\u001b[0mtable\u001b[0m\u001b[0;34m)\u001b[0m\u001b[0;34m\u001b[0m\u001b[0m\n\u001b[0m",
      "\u001b[0;32m<ipython-input-25-6100fea76736>\u001b[0m in \u001b[0;36mbuild_order\u001b[0;34m(table)\u001b[0m\n\u001b[1;32m     27\u001b[0m             \u001b[0;31m#print(stack)\u001b[0m\u001b[0;34m\u001b[0m\u001b[0;34m\u001b[0m\u001b[0m\n\u001b[1;32m     28\u001b[0m             \u001b[0mnode\u001b[0m \u001b[0;34m=\u001b[0m \u001b[0mstack\u001b[0m\u001b[0;34m.\u001b[0m\u001b[0mpop\u001b[0m\u001b[0;34m(\u001b[0m\u001b[0;34m)\u001b[0m\u001b[0;34m\u001b[0m\u001b[0m\n\u001b[0;32m---> 29\u001b[0;31m             \u001b[0mtraverser\u001b[0m\u001b[0;34m[\u001b[0m\u001b[0mvertex\u001b[0m\u001b[0;34m]\u001b[0m \u001b[0;34m+=\u001b[0m \u001b[0mnode\u001b[0m\u001b[0;34m\u001b[0m\u001b[0m\n\u001b[0m\u001b[1;32m     30\u001b[0m             \u001b[0;32mfor\u001b[0m \u001b[0madj\u001b[0m \u001b[0;32min\u001b[0m \u001b[0mtable\u001b[0m\u001b[0;34m[\u001b[0m\u001b[0mnode\u001b[0m\u001b[0;34m]\u001b[0m\u001b[0;34m:\u001b[0m\u001b[0;34m\u001b[0m\u001b[0m\n\u001b[1;32m     31\u001b[0m                 \u001b[0mstack\u001b[0m\u001b[0;34m.\u001b[0m\u001b[0mappend\u001b[0m\u001b[0;34m(\u001b[0m\u001b[0madj\u001b[0m\u001b[0;34m)\u001b[0m\u001b[0;34m\u001b[0m\u001b[0m\n",
      "\u001b[0;31mKeyboardInterrupt\u001b[0m: "
     ]
    }
   ],
   "source": [
    "#i have a directed graph - list of vertices and list of edges. I want an \n",
    "#algorithm to return a graph traversal that visits all vertices. if i cannot\n",
    "#visit all vertices from any beginning vertex, return graph is disconnected\n",
    "\n",
    "#WRONG. that ^^^ is NOT what were looking for\n",
    "\n",
    "#instead, we are looking if a graph has any CYCLES.\n",
    "table = {}\n",
    "table['a'] = ['d']\n",
    "table['b'] = ['d']\n",
    "table['c'] = []\n",
    "table['d'] = ['c']\n",
    "table['e'] = ['e']\n",
    "table['f'] = ['a', 'b']\n",
    "import pdb\n",
    "def build_order(table):\n",
    "    '''\n",
    "    table has key representing a vertex, and value being a list of keys,\n",
    "    representing the sink vertices this source vertex has an edge to.\n",
    "    '''\n",
    "    traverser = {}\n",
    "    for vertex in table:\n",
    "        traverser[vertex] = ''\n",
    "        stack = [vertex]\n",
    "        visited = set()\n",
    "        while len(stack) != 0:\n",
    "            #print(stack)\n",
    "            node = stack.pop()\n",
    "            traverser[vertex] += node\n",
    "            for adj in table[node]:\n",
    "                stack.append(adj)\n",
    "        #print(traverser[vertex])\n",
    "        #print('-----')\n",
    "    return traverser\n",
    "'''\n",
    "def build_order(table):\n",
    "    traverser = {}\n",
    "    for key in table:\n",
    "        traverser[key] = ''\n",
    "    visited = set()\n",
    "    def rec(node):\n",
    "        traverser[node] += node\n",
    "        for adj in table[node]:\n",
    "            rec(adj)\n",
    "        visited.add(node)\n",
    "        \n",
    "    for node in table:\n",
    "        rec(node)\n",
    "    \n",
    "    return traverser\n",
    "'''\n",
    "build_order(table)"
   ]
  },
  {
   "cell_type": "code",
   "execution_count": 14,
   "metadata": {},
   "outputs": [
    {
     "data": {
      "text/plain": [
       "'cycle'"
      ]
     },
     "execution_count": 14,
     "metadata": {},
     "output_type": "execute_result"
    }
   ],
   "source": [
    "traverser"
   ]
  },
  {
   "cell_type": "markdown",
   "metadata": {},
   "source": [
    "##### we are going to try CLRS implemention. use hash table rep of vertices still."
   ]
  },
  {
   "cell_type": "code",
   "execution_count": 122,
   "metadata": {},
   "outputs": [],
   "source": [
    "table = {}\n",
    "table['a'] = ['d']\n",
    "table['b'] = ['d']\n",
    "table['c'] = []\n",
    "table['d'] = ['c']\n",
    "table['e'] = []\n",
    "table['f'] = ['a', 'b']\n",
    "\n",
    "#a vertex is either not disocvered (white), discovered(gray), or done(black)\n",
    "def DFS(table, init=None):\n",
    "    #init all vertices as not visited (white)\n",
    "    state = {}\n",
    "    parent = {}\n",
    "    discT = {}\n",
    "    finishT = {}\n",
    "    for vertex in table:\n",
    "        state[vertex] = 'white'\n",
    "        parent[vertex] = None\n",
    "        discT[vertex] = None\n",
    "        finishT[vertex] = None\n",
    "    time = [0]\n",
    "    \n",
    "    def DFS_VISIT(vertex):\n",
    "        time[0] += 1\n",
    "        discT[vertex] = time[0]\n",
    "        state[vertex] = 'gray'\n",
    "        for adj in table[vertex]:\n",
    "            if state[adj] == 'white':\n",
    "                parent[adj] = vertex\n",
    "                DFS_VISIT(adj)\n",
    "            #this elif is added by yours truly. makes parents filled.\n",
    "            elif parent[adj] == None:\n",
    "                parent[adj] = vertex\n",
    "        state[vertex] = 'black'\n",
    "        time[0] += 1\n",
    "        finishT[vertex] = time[0]\n",
    "        \n",
    "    if init != None:\n",
    "        if state[init] == 'white':\n",
    "            DFS_VISIT(init)\n",
    "        \n",
    "    for vertex in table:\n",
    "        if state[vertex] == 'white':\n",
    "            DFS_VISIT(vertex)\n",
    "            \n",
    "    return state, parent, discT, finishT\n",
    "\n",
    "state, parent, discT, finishT = DFS(table, 'c')"
   ]
  },
  {
   "cell_type": "code",
   "execution_count": 123,
   "metadata": {},
   "outputs": [
    {
     "data": {
      "text/plain": [
       "{'a': 'f', 'b': 'f', 'c': 'd', 'd': 'a', 'e': None, 'f': None}"
      ]
     },
     "execution_count": 123,
     "metadata": {},
     "output_type": "execute_result"
    }
   ],
   "source": [
    "parent"
   ]
  },
  {
   "cell_type": "code",
   "execution_count": 124,
   "metadata": {},
   "outputs": [
    {
     "data": {
      "text/plain": [
       "{'a': 3, 'b': 7, 'c': 1, 'd': 4, 'e': 9, 'f': 11}"
      ]
     },
     "execution_count": 124,
     "metadata": {},
     "output_type": "execute_result"
    }
   ],
   "source": [
    "discT"
   ]
  },
  {
   "cell_type": "code",
   "execution_count": 125,
   "metadata": {},
   "outputs": [
    {
     "data": {
      "text/plain": [
       "{'a': 6, 'b': 8, 'c': 2, 'd': 5, 'e': 10, 'f': 12}"
      ]
     },
     "execution_count": 125,
     "metadata": {},
     "output_type": "execute_result"
    }
   ],
   "source": [
    "finishT"
   ]
  },
  {
   "cell_type": "markdown",
   "metadata": {},
   "source": [
    "#### WIKIPEDIA DFS topological sort"
   ]
  },
  {
   "cell_type": "code",
   "execution_count": 59,
   "metadata": {},
   "outputs": [
    {
     "data": {
      "text/plain": [
       "dict_values(['white', 'dude', 'mang'])"
      ]
     },
     "execution_count": 59,
     "metadata": {},
     "output_type": "execute_result"
    }
   ],
   "source": [
    "dicto = {1:'white', 2:'dude', 3:'mang'}\n",
    "dicto.values()"
   ]
  },
  {
   "cell_type": "code",
   "execution_count": 116,
   "metadata": {},
   "outputs": [
    {
     "data": {
      "text/plain": [
       "['f', 'e', 'b', 'a', 'd', 'c']"
      ]
     },
     "execution_count": 116,
     "metadata": {},
     "output_type": "execute_result"
    }
   ],
   "source": [
    "table = {}\n",
    "table['a'] = ['d']\n",
    "table['b'] = ['d']\n",
    "table['c'] = []\n",
    "table['d'] = ['c']\n",
    "table['e'] = []\n",
    "table['f'] = ['a', 'b']\n",
    "\n",
    "def wikipedia_DFS_topsort(table):\n",
    "    L = [] # will be sorted orrder.\n",
    "    state = {}\n",
    "    cycle = [False]\n",
    "    for vertex in table:\n",
    "        state[vertex] = 'white'\n",
    "        \n",
    "    def visit(vertex):\n",
    "        if state[vertex] == 'black':\n",
    "            return\n",
    "        if state[vertex] == 'gray':\n",
    "            cycle[0] = True\n",
    "            return\n",
    "        state[vertex] = 'gray'\n",
    "        for adj in table[vertex]:\n",
    "            visit(adj)\n",
    "        state[vertex] = 'black'\n",
    "        L.append(vertex)\n",
    "    \n",
    "    while 'white' in state.values():\n",
    "        for vertex in table:\n",
    "            if state[vertex] == 'white':\n",
    "                visit(vertex)\n",
    "    \n",
    "    if not cycle[0]:\n",
    "        L.reverse()\n",
    "        return L\n",
    "    else:\n",
    "        return 'there is a cycle'\n",
    "    \n",
    "wikipedia_DFS_topsort(table)"
   ]
  },
  {
   "cell_type": "markdown",
   "metadata": {},
   "source": [
    "##### quick mod to our CLRS DFS to support topological sort"
   ]
  },
  {
   "cell_type": "code",
   "execution_count": 136,
   "metadata": {},
   "outputs": [
    {
     "data": {
      "text/plain": [
       "('there is a cycle',\n",
       " ['f', 'e', 'b', 'a', 'd', 'c'],\n",
       " {'a': 'black',\n",
       "  'b': 'black',\n",
       "  'c': 'black',\n",
       "  'd': 'black',\n",
       "  'e': 'black',\n",
       "  'f': 'black'},\n",
       " {'a': 'f', 'b': 'f', 'c': 'd', 'd': 'a', 'e': 'e', 'f': None},\n",
       " {'a': 14, 'b': 15, 'c': 3, 'd': 8, 'e': 11, 'f': 13},\n",
       " {'a': 6, 'b': 9, 'c': 4, 'd': 5, 'e': 12, 'f': 16})"
      ]
     },
     "execution_count": 136,
     "metadata": {},
     "output_type": "execute_result"
    }
   ],
   "source": [
    "table = {}\n",
    "table['a'] = ['d']\n",
    "table['b'] = ['d']\n",
    "table['c'] = []\n",
    "table['d'] = ['c']\n",
    "table['e'] = ['e']\n",
    "table['f'] = ['a', 'b']\n",
    "\n",
    "#a vertex is either not disocvered (white), discovered(gray), or done(black)\n",
    "def DFStop(table, init=None):\n",
    "    \n",
    "    L = []\n",
    "    cycle = ['No cycle']\n",
    "    \n",
    "    #init all vertices as not visited (white)\n",
    "    state = {}\n",
    "    parent = {}\n",
    "    discT = {}\n",
    "    finishT = {}\n",
    "    for vertex in table:\n",
    "        state[vertex] = 'white'\n",
    "        parent[vertex] = None\n",
    "        discT[vertex] = None\n",
    "        finishT[vertex] = None\n",
    "    time = [0]\n",
    "    \n",
    "    def DFS_VISITtop(vertex):\n",
    "        time[0] += 1\n",
    "        discT[vertex] = time[0]\n",
    "        if state[vertex] == 'black':\n",
    "            return\n",
    "        if state[vertex] == 'gray':\n",
    "            cycle[0] = 'there is a cycle'\n",
    "            return\n",
    "        state[vertex] = 'gray'\n",
    "        for adj in table[vertex]:\n",
    "            if state[adj] == 'white' or parent[adj] == None:\n",
    "                parent[adj] = vertex\n",
    "            DFS_VISITtop(adj)\n",
    "        state[vertex] = 'black'\n",
    "        L.append(vertex)\n",
    "        time[0] += 1\n",
    "        finishT[vertex] = time[0]\n",
    "        \n",
    "    if init != None:\n",
    "        if state[init] == 'white':\n",
    "            DFS_VISITtop(init)\n",
    "        \n",
    "    for vertex in table:\n",
    "        if state[vertex] == 'white':\n",
    "            DFS_VISITtop(vertex)\n",
    "\n",
    "    L.reverse()\n",
    "            \n",
    "    return cycle[0], L, state, parent, discT, finishT\n",
    "\n",
    "DFStop(table)"
   ]
  },
  {
   "cell_type": "markdown",
   "metadata": {},
   "source": [
    "RV - how do you do this using iterative DFS? you cant mark black in a stack.\n",
    "\n",
    "CONSIER using another stack to mark the current vertex being procesed. Similar to the print-all-nodes-at-each-depth problem you did earlier with two Q's. "
   ]
  },
  {
   "cell_type": "code",
   "execution_count": null,
   "metadata": {},
   "outputs": [],
   "source": [
    "# table = {}\n",
    "table['a'] = ['d']\n",
    "table['b'] = ['d']\n",
    "table['c'] = []\n",
    "table['d'] = ['c']\n",
    "table['e'] = []\n",
    "table['f'] = ['a', 'b']\n",
    "\n",
    "#compared to my original try, this one puts AALL vertices in stack initially\n",
    "    #originally, i iterated through, making each stack contain a 1item node\n",
    "    \n",
    "    #the original might have been good for making each DFS tree. \n",
    "    \n",
    "\n",
    "def topOfMyHeadDFSS_top(table):\n",
    "    visited = set()\n",
    "    L = []  #we can remove L if dont care about topo/cycles & just wanna DFS\n",
    "    cycle = ['no cycle']\n",
    "    s = list(table.keys())\n",
    "    \n",
    "    while len(s) != 0:\n",
    "        vertex = s.pop()\n",
    "        \n",
    "        #how check visited vs done if no done store? cycle only if visited.\n",
    "        \n",
    "        if vertex in visited:\n",
    "            continue\n",
    "        visited.add(vertex)\n",
    "        print(vertex)\n",
    "        for adj in table[vertex]:\n",
    "            s.append(adj)\n",
    "    #how do i append to L? i never know when current node is done.\n",
    "    \n",
    "    \n",
    "\n",
    "def topOfMyHeadDFSR_top(table):\n",
    "    visited = set()\n",
    "    L = [] #can change this to a set of 'blacks' if not looking for topo.\n",
    "    cycle = ['no cycle']\n",
    "    \n",
    "    def DFSR(vertex):\n",
    "        if vertex in visited:\n",
    "            if vertex not in L:\n",
    "                cycle[0] = 'there is a cycle'\n",
    "            return\n",
    "        visited.add(vertex)\n",
    "        for adj in table[vertex]:\n",
    "            DFSR(adj)\n",
    "        L.append(vertex)\n",
    "        \n",
    "    for vertex in table:\n",
    "        if vertex not in visited:\n",
    "            DFSR(vertex)\n",
    "    \n",
    "    L.reverse()\n",
    "    \n",
    "    return L, cycle[0]\n",
    "\n",
    "topOfMyHeadDFSR_top(table)"
   ]
  },
  {
   "cell_type": "code",
   "execution_count": 143,
   "metadata": {},
   "outputs": [
    {
     "name": "stderr",
     "output_type": "stream",
     "text": [
      "UsageError: Cell magic `%%` not found.\n"
     ]
    }
   ],
   "source": [
    "%% script false\n",
    "    \n",
    "wiki recursive regular DFS\n",
    "\n",
    "1  procedure DFS(G,v):\n",
    "2      label v as discovered\n",
    "3      for all edges from v to w in G.adjacentEdges(v) do\n",
    "4          if vertex w is not labeled as discovered then\n",
    "5              recursively call DFS(G,w)\n",
    "\n",
    "wiki iterative regular DFS\n",
    "\n",
    "1  procedure DFS-iterative(G,v):\n",
    "2      let S be a stack\n",
    "3      S.push(v)\n",
    "4      while S is not empty\n",
    "5          v = S.pop()\n",
    "6          if v is not labeled as discovered:\n",
    "7              label v as discovered\n",
    "8              for all edges from v to w in G.adjacentEdges(v) do \n",
    "9                  S.push(w)\n",
    "\n",
    "wiki topological sort DFS\n",
    "\n",
    "L ← Empty list that will contain the sorted nodes\n",
    "while there are unmarked nodes do\n",
    "    select an unmarked node n\n",
    "    visit(n) \n",
    "\n",
    " function visit(node n)\n",
    "    if n has a permanent mark then return\n",
    "    if n has a temporary mark then stop   (not a DAG)\n",
    "    mark n temporarily\n",
    "    for each node m with an edge from n to m do\n",
    "        visit(m)\n",
    "    mark n permanently\n",
    "    add n to head of L\n",
    "    \n",
    "    \n",
    "CLRS DFS:\n",
    "    #problem: implement CLRS DFS, depending on the order of init/traversal,\n",
    "        #some nodes never get parents even though they have parents. \n",
    "    \n",
    "DFS(G)\n",
    "for each vertex u in G.V\n",
    "    u.color = 'white'\n",
    "    u.p = null\n",
    "time = 0\n",
    "for each vertex u in G.V\n",
    "    if u.color == 'white'\n",
    "        DFS-VISIT(G, u)\n",
    "\n",
    "DFS-VISIT(G, u)\n",
    "    time = time + 1\n",
    "    u.d = time\n",
    "    u.color = 'gray'\n",
    "    for each v in G.Adj[u]\n",
    "        if v.color == 'white'\n",
    "            v.p = u            #my problem.\n",
    "            DFS-VISIT(G, v)\n",
    "    u.color = 'black'\n",
    "    time = time + 1\n",
    "    u.f = time"
   ]
  },
  {
   "cell_type": "markdown",
   "metadata": {},
   "source": [
    "## 4.8 First Common Ancestor: aka LCA lowest common ancestor\n",
    "Design an algorithm and write code to find the first common ancestor\n",
    "of two nodes in a binary tree. Avoid storing additional nodes in a data structure. NOTE: This is not\n",
    "necessarily a binary search tree.\n",
    "Hints: # 10, #16, #28, #36, #46, #70, #80, #96"
   ]
  },
  {
   "cell_type": "code",
   "execution_count": 147,
   "metadata": {},
   "outputs": [
    {
     "data": {
      "text/plain": [
       "''"
      ]
     },
     "execution_count": 147,
     "metadata": {},
     "output_type": "execute_result"
    }
   ],
   "source": [
    "'string'[:0]"
   ]
  },
  {
   "cell_type": "markdown",
   "metadata": {},
   "source": [
    "time omplexity is O(N + N + N + N). N1 &N2 for search, N3 for getting shared prefix string path to LCA, N4 to iterate to LCA. \n",
    "\n",
    "space complexity is O(3N). one for each traversal string."
   ]
  },
  {
   "cell_type": "code",
   "execution_count": 156,
   "metadata": {},
   "outputs": [
    {
     "data": {
      "text/plain": [
       "'r'"
      ]
     },
     "execution_count": 156,
     "metadata": {},
     "output_type": "execute_result"
    }
   ],
   "source": [
    "# assume we have no parent connection. \n",
    "#also assume the same node (by reference) exists only once in tree.\n",
    "def LCA(root, node1, node2):\n",
    "    def find_node_path(root, node, path):\n",
    "        if root == None:\n",
    "            return ''\n",
    "        if root == node:\n",
    "            return path\n",
    "        pathr = find_node_path(root.right, node, path + 'r')\n",
    "        pathl = find_node_path(root.left, node, path + 'l')\n",
    "        return max(pathr, pathl)\n",
    "    \n",
    "    #get paths to both nodes\n",
    "    path1 = find_node_path(root, node1, '')\n",
    "    path2 = find_node_path(root, node2, '')\n",
    "    \n",
    "    #check of those paths exist\n",
    "    if len(path1) == 0 or len(path2) == 0:\n",
    "        print('either node 1 or node2 is not in the tree.')\n",
    "    \n",
    "    #get the shared prefix subpath - this leads to LCA\n",
    "    i = 0\n",
    "    while i != min(len(path1), len(path2)):\n",
    "        if path1[i] != path2[i]:\n",
    "            break\n",
    "        i += 1\n",
    "        \n",
    "    #iterate this subpath to LCA and return LCA\n",
    "    pathToLCA = path1[:i]\n",
    "    iterator = root\n",
    "    for turn in pathToLCA:\n",
    "        if turn == 'r':\n",
    "            iterator = iterator.right\n",
    "        else: #turn == 'l'\n",
    "            iterator = iterator.left\n",
    "    \n",
    "    return iterator\n",
    "\n",
    "class Node:\n",
    "    def __init__(self, data):\n",
    "        self.data = data\n",
    "        self.left = None\n",
    "        self.right = None\n",
    "\n",
    "root = Node('root')\n",
    "l = Node('l')\n",
    "r = Node('r')\n",
    "ll = Node('ll')\n",
    "lr = Node('lr')\n",
    "rr = Node('rr')\n",
    "rl = Node('rl')\n",
    "root.right = r\n",
    "root.left = l\n",
    "l.left = ll\n",
    "l.right = lr\n",
    "r.right = rr\n",
    "r.left = rl\n",
    "\n",
    "rrr = Node('rrr')\n",
    "rrl = Node('rrl')\n",
    "rlr = Node('rlr')\n",
    "rll = Node('rll')\n",
    "lrr = Node('lrr')\n",
    "lrl = Node('lrl')\n",
    "llr = Node('llr')\n",
    "lll = Node('lll')\n",
    "\n",
    "ll.left = lll\n",
    "ll.right = llr\n",
    "rr.right = rrr\n",
    "rr.left = rrl\n",
    "lr.left = lrl\n",
    "lr.right = lrr\n",
    "rl.left = rll\n",
    "rl.right = rlr\n",
    "\n",
    "\n",
    "LCA(root, rrr, rl).data"
   ]
  },
  {
   "cell_type": "code",
   "execution_count": null,
   "metadata": {},
   "outputs": [],
   "source": [
    "# if we know parents, do a nasty n^2 loop. n = LG N cuz height. O((LG N) ^2)\n",
    "def LCAp(node1, node2):\n",
    "    iter1 = node1\n",
    "    while iter1 != None:\n",
    "        iter2 = node2\n",
    "        while iter2 != None:\n",
    "            if iter1 == iter2:\n",
    "                return iter1\n",
    "            iter2 = iter2.p\n",
    "        iter1 = iter1.p\n",
    "    return None"
   ]
  },
  {
   "cell_type": "code",
   "execution_count": null,
   "metadata": {},
   "outputs": [],
   "source": [
    "#BOOK SOLUTION: ACTUALLY, its the same as the 'find intersecting node'\n",
    "#when two linked lists interesct!!!!!!!!! Done from memory.\n",
    "def LCAplli(node1, node2):\n",
    "    def getdist(node):\n",
    "        dist = 0\n",
    "        while node != None:\n",
    "            dist += 1\n",
    "            node = node.p\n",
    "        return dist\n",
    "    N1 = getdist(node1)\n",
    "    N2 = getdist(node2)\n",
    "    if N1 == N2:\n",
    "        while node1 != node2 and node1 != None and node2 != None:\n",
    "            node1 = node1.p\n",
    "            node2 = node2.p\n",
    "    \n",
    "    if N1 > N2:\n",
    "        bigger = node1\n",
    "        for i in range(N1 - N2):\n",
    "            bigger = bigger.p\n",
    "        smaller = node2\n",
    "    else: #N2 > N1\n",
    "        bigger = node2\n",
    "        for i in range(N2 - N1):\n",
    "            bigger = bigger.p\n",
    "        smaller = node1\n",
    "        \n",
    "    while bigger != smaller and bigger != None and smaller != None:\n",
    "        bigger = bigger.p\n",
    "        smaller = smaller.p\n",
    "        \n",
    "    return bigger\n"
   ]
  },
  {
   "cell_type": "code",
   "execution_count": 158,
   "metadata": {},
   "outputs": [],
   "source": [
    "# book soln 2: wtf? lol some weird thing that might runO(N). lazy. "
   ]
  },
  {
   "cell_type": "code",
   "execution_count": null,
   "metadata": {},
   "outputs": [],
   "source": [
    "#book soln 3. not parents.\n",
    "def CA(root, p, q):\n",
    "    \n",
    "    def covers(root, p):\n",
    "        if root == None:\n",
    "            return False\n",
    "        if root == p:\n",
    "            return True\n",
    "        return (covers(root.left, p) or covers(root.right, p))\n",
    "    \n",
    "    def AH(root, p, q):\n",
    "        if root == None or root == p or root == q:\n",
    "            return root\n",
    "        pleft = covers(root.left, p) #these are called ALOT.\n",
    "        qleft = covers(root.left, q)\n",
    "        if pleft != qleft:\n",
    "            return root #nodes on different siddes\n",
    "        if pleft:\n",
    "            childside = root.left\n",
    "        else:\n",
    "            childside = root.right\n",
    "            \n",
    "        AH(childside, p, q)\n",
    "    \n",
    "    #check is nodes covered by tree (aka are IN the tree.)\n",
    "    if (not covers(root, p)) or (not covers(root, q)):\n",
    "        return None\n",
    "    \n",
    "    return AH(root, p, q)"
   ]
  },
  {
   "cell_type": "code",
   "execution_count": 159,
   "metadata": {},
   "outputs": [],
   "source": [
    "# BOOK SOLN 4: a little complicated. but might be worth looking at. RV"
   ]
  },
  {
   "cell_type": "markdown",
   "metadata": {},
   "source": [
    "## 4.9 BST Sequences:\n",
    "A binary search tree was created by traversing through an array from left to right\n",
    "and inserting each element. Given a binary search tree with distinct elements, print all possible\n",
    "arrays that could have led to this tree.\n",
    "\n",
    "clarify how it is built. "
   ]
  },
  {
   "cell_type": "markdown",
   "metadata": {},
   "source": [
    "invariant? : childrten MUST come after their parents in the array."
   ]
  },
  {
   "cell_type": "code",
   "execution_count": 160,
   "metadata": {},
   "outputs": [
    {
     "data": {
      "text/plain": [
       "[[0, 1, 2, 3], [0, 2, 3, 4], [0, 5, 6, 7]]"
      ]
     },
     "execution_count": 160,
     "metadata": {},
     "output_type": "execute_result"
    }
   ],
   "source": [
    "blist = [[1, 2, 3], [2, 3, 4], [5, 6, 7]]\n",
    "for listo in blist:\n",
    "    listo.insert(0,0)\n",
    "blist"
   ]
  },
  {
   "cell_type": "code",
   "execution_count": 162,
   "metadata": {},
   "outputs": [
    {
     "data": {
      "text/plain": [
       "True"
      ]
     },
     "execution_count": 162,
     "metadata": {},
     "output_type": "execute_result"
    }
   ],
   "source": [
    "[[1, 2, 3], [3, 4, 5]] == [[1, 2, 3,], [3,4,5]]"
   ]
  },
  {
   "cell_type": "code",
   "execution_count": 161,
   "metadata": {},
   "outputs": [
    {
     "data": {
      "text/plain": [
       "[0, 1, 3, 1, 3, 4]"
      ]
     },
     "execution_count": 161,
     "metadata": {},
     "output_type": "execute_result"
    }
   ],
   "source": [
    "[[[0, 1, 3] + [1, 3, 4]]]"
   ]
  },
  {
   "cell_type": "code",
   "execution_count": 182,
   "metadata": {},
   "outputs": [],
   "source": [
    "from copy import copy\n",
    "def BSTseq_v2(root):\n",
    "    if root == None:\n",
    "        return [[]]\n",
    "        \n",
    "    rightcombos = BSTseq_v2(root.right)\n",
    "    leftcombos = BSTseq_v2(root.left)\n",
    "    combos = []\n",
    "    for rcombo in rightcombos:\n",
    "        rcpy = copy(rcombo)\n",
    "        for lcombo in leftcombos:\n",
    "            lcpy = copy(lcombo)\n",
    "            if len(lcpy) == 0 and len(rcpy) == 0:\n",
    "                combos.append([root.data])\n",
    "            elif len(lcpy) == 0:\n",
    "                rcpy.insert(0, root.data)\n",
    "                combos.append(rcpy)\n",
    "            elif len(rcpy) == 0:\n",
    "                lcpy.insert(0, root.data)\n",
    "                combos.append(lcpy)\n",
    "            else:\n",
    "                combo1 = copy(lcpy + rcpy)\n",
    "                combo2 = copy(rcpy + lcpy)\n",
    "                combo1.insert(0, root.data)\n",
    "                combo2.insert(0, root.data)\n",
    "                combos.append(combo1)\n",
    "                combos.append(combo2)\n",
    "                \n",
    "                if len(lcpy) > 1 and len(rcpy) > 1:\n",
    "                    combo3 = [lcpy[0]] + rcpy + lcpy[1:]\n",
    "                    combo4 = [rcpy[0]] + lcpy + rcpy[1:]\n",
    "                    combo3.insert(0, root.data)\n",
    "                    combo4.insert(0, root.data)\n",
    "                    combos.append(combo3)\n",
    "                    combos.append(combo4)\n",
    "                elif len(lcpy) > 1:\n",
    "                    combo3 = [lcpy[0]] + rcpy + lcpy[1:]\n",
    "                    combo3.insert(0, root.data)\n",
    "                    combos.append(combo3)\n",
    "                elif len(rcpy) > 1:\n",
    "                    combo4 = [rcpy[0]] + lcpy + rcpy[1:]\n",
    "                    combo4.insert(0, root.data)\n",
    "                    combos.append(combo4)\n",
    "                \n",
    "    return combos\n",
    "\n",
    "d = Node('d')\n",
    "b = Node('b')\n",
    "a = Node('a')\n",
    "e = Node('e')\n",
    "c = Node('c')\n",
    "f = Node('f')\n",
    "g = Node('g')\n",
    "\n",
    "d.right = c\n",
    "d.left = b\n",
    "b.right = e\n",
    "b.left = a\n",
    "c.right = g\n",
    "c.left = f\n",
    "#BSTseq_v2(d)\n",
    "\n"
   ]
  },
  {
   "cell_type": "code",
   "execution_count": 181,
   "metadata": {},
   "outputs": [],
   "source": [
    "one = BSTseq_v2((generate_minHeight_BST([1, 2, 3, 4, 5, 6, 7])))"
   ]
  },
  {
   "cell_type": "code",
   "execution_count": 183,
   "metadata": {},
   "outputs": [],
   "source": [
    "two = BSTseq_v2((generate_minHeight_BST([1, 2, 3, 4, 5, 6, 7])))"
   ]
  },
  {
   "cell_type": "code",
   "execution_count": 184,
   "metadata": {},
   "outputs": [
    {
     "data": {
      "text/plain": [
       "[[4, 2, 1, 3, 6, 5, 7],\n",
       " [4, 6, 5, 7, 2, 1, 3],\n",
       " [4, 2, 6, 5, 7, 1, 3],\n",
       " [4, 6, 2, 1, 3, 5, 7],\n",
       " [4, 2, 3, 1, 6, 5, 7],\n",
       " [4, 6, 5, 7, 2, 3, 1],\n",
       " [4, 2, 6, 5, 7, 3, 1],\n",
       " [4, 6, 2, 3, 1, 5, 7],\n",
       " [4, 2, 1, 3, 6, 7, 5],\n",
       " [4, 6, 7, 5, 2, 1, 3],\n",
       " [4, 2, 6, 7, 5, 1, 3],\n",
       " [4, 6, 2, 1, 3, 7, 5],\n",
       " [4, 2, 3, 1, 6, 7, 5],\n",
       " [4, 6, 7, 5, 2, 3, 1],\n",
       " [4, 2, 6, 7, 5, 3, 1],\n",
       " [4, 6, 2, 3, 1, 7, 5]]"
      ]
     },
     "execution_count": 184,
     "metadata": {},
     "output_type": "execute_result"
    }
   ],
   "source": [
    "one"
   ]
  },
  {
   "cell_type": "code",
   "execution_count": 185,
   "metadata": {},
   "outputs": [
    {
     "data": {
      "text/plain": [
       "[[4, 2, 1, 3, 6, 5, 7],\n",
       " [4, 6, 5, 7, 2, 1, 3],\n",
       " [4, 2, 3, 1, 6, 5, 7],\n",
       " [4, 6, 5, 7, 2, 3, 1],\n",
       " [4, 2, 1, 3, 6, 7, 5],\n",
       " [4, 6, 7, 5, 2, 1, 3],\n",
       " [4, 2, 3, 1, 6, 7, 5],\n",
       " [4, 6, 7, 5, 2, 3, 1]]"
      ]
     },
     "execution_count": 185,
     "metadata": {},
     "output_type": "execute_result"
    }
   ],
   "source": [
    "two"
   ]
  },
  {
   "cell_type": "code",
   "execution_count": null,
   "metadata": {},
   "outputs": [],
   "source": [
    "from copy import copy\n",
    "def BSTSequences(root):\n",
    "    \n",
    "    def countNodes(root):\n",
    "        counter= [0]\n",
    "        def countNodesHelper(node):\n",
    "            if node != None:\n",
    "                counter[0] += 1\n",
    "                countNodesHelper(node.right)\n",
    "                countNodesHelper(node.left)\n",
    "            else:\n",
    "                return\n",
    "        countNodesHelper(root)\n",
    "        return counter[0]\n",
    "    \n",
    "    def print_sequence(root, fperm):\n",
    "        if len(fperm) == N:\n",
    "            print(str(fperm))\n",
    "    '''\n",
    "    def get_path(root, perm):\n",
    "        if root == None:\n",
    "            paths.append(perm)\n",
    "        \n",
    "        \n",
    "    paths = []\n",
    "    perm = []\n",
    "    N = countNodes(root)\n",
    "    perm.append(root.data)\n",
    "    get_path(root.right, copy(perm))\n",
    "    get_path(root.left, copy(perm))\n",
    "    '''\n",
    "    \n",
    "    "
   ]
  },
  {
   "cell_type": "markdown",
   "metadata": {},
   "source": [
    "## 4.10 Check Subtree: \n",
    "Tl and T2 are two very large binary trees, with Tl much bigger than T2. Create an\n",
    "algorithm to determine if T2 is a subtree of Tl.\n",
    "A tree T2 is a subtree ofTi if there exists a node n in Ti such that the subtree of n is identical to T2.\n",
    "That is, if you cut off the tree at node n, the two trees would be identical.\n",
    "Hints: #4, #7 7, #78, #37, #37"
   ]
  },
  {
   "cell_type": "markdown",
   "metadata": {},
   "source": [
    "time complexity : O(N + K*M), N is length is bigtree, M is length is smalltree, K is number of nodes in bigtree that equal the root of the smalltree\n",
    "\n",
    "space complexity: O(K) to store k candidates "
   ]
  },
  {
   "cell_type": "code",
   "execution_count": 193,
   "metadata": {},
   "outputs": [
    {
     "data": {
      "text/plain": [
       "False"
      ]
     },
     "execution_count": 193,
     "metadata": {},
     "output_type": "execute_result"
    }
   ],
   "source": [
    "def equals(root1, root2):\n",
    "    iter1 = root1\n",
    "    iter2 = root2\n",
    "    same = [True]\n",
    "    def equals_helper(iter1, iter2):\n",
    "        if iter1 == None or iter2 == None:\n",
    "            if iter1 != iter2:\n",
    "                same[0] = False\n",
    "            return\n",
    "        \n",
    "        if iter1.data != iter2.data:\n",
    "            same[0] = False\n",
    "            return\n",
    "        \n",
    "        equals_helper(iter1.right, iter2.right)\n",
    "        equals_helper(iter1.left, iter2.left)\n",
    "    \n",
    "    equals_helper(iter1, iter2)\n",
    "    \n",
    "    return same[0]\n",
    "\n",
    "def get_equivalent_nodes(bigroot, smallroot):\n",
    "    equivstore = []\n",
    "    def inorder_mod(root, node):\n",
    "        if root != None:\n",
    "            inorder_mod(root.left, node)\n",
    "            if node.data == root.data:\n",
    "                equivstore.append(root)\n",
    "            inorder_mod(root.right, node)\n",
    "    \n",
    "    inorder_mod(bigroot, smallroot)\n",
    "    \n",
    "    return equivstore\n",
    "\n",
    "def check_subtree(T1, T2):\n",
    "    candidates = get_equivalent_nodes(T1, T2)\n",
    "    for candidate in candidates:\n",
    "        if equals(candidate, T2):\n",
    "            return True\n",
    "    return False\n",
    "    \n",
    "one = (generate_minHeight_BST([1, 2, 3, 4, 5, 6, 7]))\n",
    "two = (generate_minHeight_BST([1, 2, 3, 4, 5, 6, 7, 13]))\n",
    "T1 = Node(18)\n",
    "T1.right = one\n",
    "T1.left = two\n",
    "T2 = (generate_minHeight_BST([1, 2, 3, 4, 5, 6, 7]))\n",
    "diff = (generate_minHeight_BST([1, 2, 3, 4, 5, 6, 8]))\n",
    "check_subtree(T1, T2)"
   ]
  },
  {
   "cell_type": "code",
   "execution_count": null,
   "metadata": {},
   "outputs": [],
   "source": [
    "#BOOK SOLUTION - simple vs alternative.  too lazy to read."
   ]
  },
  {
   "cell_type": "markdown",
   "metadata": {},
   "source": [
    "## 4.11 Random Node: \n",
    "You are implementing a binary tree class from scratch which, in addition to\n",
    "insert, find, and delete, has a method getRandomNode() which returns a random node\n",
    "from the tree. All nodes should be equally likely to be chosen. Design and implement an algorithm\n",
    "for getRandomNode, and explain how you would implement the rest of the methods.\n",
    "Hints: #42, #54, #62, #75, #89, #99, #7 72, #7 79"
   ]
  },
  {
   "cell_type": "markdown",
   "metadata": {},
   "source": [
    "(1) soln 1: OVERLY trivial.\n",
    "    - each time i want to return a random element, I copy all nodes into an array. return random element in array. O(N) time & space\n",
    "    - LOL \n",
    "    \n",
    "(2) soln 2: my soln\n",
    "    - keep an array with the nodes in the tree in it at all times. return random element from this array when queried to\n",
    "    - bad for deletes. gotta update this when we delete. O(N) time for init and delete. O(N) space always.\n",
    "    \n",
    "(3) soln 3: \n",
    "    - label all nodes in tree from 1 to N in BST order. calling getrandomnode will randomly return an index from 1 to N. use BST search to get the node corresponding to the index. LG N\n",
    "        - they say that u have to update bst indices at each insert/delete\n",
    "\n",
    "(4) soln 4:\n",
    "    - if you know tree depth, pick random depth and traverse L/R randomly until at depth. \n",
    "        - nodes are not equally likely to be chosen as depth density is nonconstant.\n",
    "        - also, given a depth, we might not even be that deep.\n",
    "\n",
    "(5) soln 5: randomly with 1/3 probability, go right, left, or pick current node\n",
    "    - again nonequal probabilities. Root has 1/3 probability\n",
    "    \n",
    "(6) soln 6: keep track of size of tree, and scale traversal proability based off teh size and location of where the traversal is currently so we get that each node has equivalent probability of being chosen\n",
    "\n",
    "(7)  soln 7: i dont get it.\n",
    "    \n",
    "    "
   ]
  },
  {
   "cell_type": "code",
   "execution_count": null,
   "metadata": {},
   "outputs": [],
   "source": [
    "\n",
    "class BinaryTree:\n",
    "    def __init__(self, root=None):\n",
    "        self.root = root\n",
    "        self.nodetable ={}\n",
    "        self.init_nodetable(root)\n",
    "    def init_nodetable(self, node):\n",
    "        if node != None:\n",
    "            self.nodetable[node] = node\n",
    "            init_nodetable(node.right)\n",
    "            init_nodetable(node.left)\n",
    "    def getRandomNode(self):\n",
    "        pass\n",
    "    \n",
    "node = Node(1)#O(1)\n",
    "no2 = Node(2)#O(1)\n",
    "listo = [node, no2]  #is this an extra O(2)? \n",
    "#or is the elements references to the original object\n",
    "\n"
   ]
  },
  {
   "cell_type": "markdown",
   "metadata": {},
   "source": [
    "## 4.12 Paths with Sum: \n",
    "You are given a binary tree in which each node contains an integer value (which\n",
    "might be positive or negative). Design an algorithm to count the number of paths that sum to a\n",
    "given value. The path does not need to start or end at the root or a leaf, but it must go downwards\n",
    "(traveling only from parent nodes to child nodes).\n",
    "Hints: #6, #74, #52, #68, #77, #87, #94, #703, #708, #115"
   ]
  },
  {
   "cell_type": "markdown",
   "metadata": {},
   "source": [
    "# THIS IS ACTUALLY A DP PROBLEM."
   ]
  },
  {
   "cell_type": "code",
   "execution_count": null,
   "metadata": {},
   "outputs": [],
   "source": [
    "# complexity is O(N) time, cuz we go to each node once\n",
    "# space complexity is O(N) space, "
   ]
  },
  {
   "cell_type": "code",
   "execution_count": 226,
   "metadata": {},
   "outputs": [
    {
     "name": "stdout",
     "output_type": "stream",
     "text": [
      "2\n",
      "26\n",
      "[5, 8, 3, 6, 10, 4, 7, 9, 15, 17, 8, 12, 6, 17, 19, 10, 2, 9, 4, 13, 7, 18, 20, 11, 3, 1]\n",
      "[['a'], ['a', 'b'], ['a', 'b', 'd'], ['a', 'b', 'd', 'f'], ['a', 'b', 'g', 'h'], ['a', 'b', 'h'], ['a', 'b', 'h', 'i'], ['a', 'c'], ['a', 'c', 'e'], ['b'], ['b', 'd'], ['b', 'd', 'f'], ['b', 'g', 'h'], ['b', 'h'], ['b', 'h', 'i'], ['c'], ['c', 'e'], ['d'], ['d', 'f'], ['e'], ['f'], ['g'], ['g', 'h'], ['h'], ['h', 'i'], ['i']]\n",
      "[['a'], ['a', 'b'], ['a', 'b', 'd'], ['a', 'b', 'd', 'f'], ['a', 'b', 'g', 'h'], ['a', 'b', 'h'], ['a', 'b', 'h', 'i'], ['a', 'c'], ['a', 'c', 'e'], ['b'], ['b', 'd'], ['b', 'd', 'f'], ['b', 'g', 'h'], ['b', 'h'], ['b', 'h', 'i'], ['c'], ['c', 'e'], ['d'], ['d', 'f'], ['e'], ['f'], ['g'], ['g', 'h'], ['h'], ['h', 'i'], ['i']]\n"
     ]
    },
    {
     "data": {
      "text/plain": [
       "True"
      ]
     },
     "execution_count": 226,
     "metadata": {},
     "output_type": "execute_result"
    }
   ],
   "source": [
    "#this works. is it really DP? idk.\n",
    "def paths_with_sum_brute_force_question_mark(root, val):\n",
    "    \n",
    "    def possible_sums(root):\n",
    "        if root == None:\n",
    "            return [], []\n",
    "        \n",
    "        poss_notaddable = [] \n",
    "        poss_addable = [] \n",
    "\n",
    "        radd, rnadd = possible_sums(root.right)\n",
    "        ladd, lnadd = possible_sums(root.left)\n",
    "        poss_notaddable += (rnadd + lnadd)\n",
    "        for rsum in radd:\n",
    "            s = rsum + root.data\n",
    "            poss_addable.append(s)\n",
    "            poss_notaddable.append(s)\n",
    "        for lsum in ladd:\n",
    "            s = lsum + root.data\n",
    "            poss_addable.append(s)\n",
    "            poss_notaddable.append(s)\n",
    "        poss_addable.append(root.data)\n",
    "        poss_notaddable.append(root.data)\n",
    "        \n",
    "        return poss_addable, poss_notaddable\n",
    "            \n",
    "    misc, poss_notaddable = possible_sums(root)\n",
    "    counter = 0\n",
    "    for Sum in poss_notaddable:\n",
    "        if Sum == val:\n",
    "            counter += 1\n",
    "\n",
    "    return counter, poss_notaddable\n",
    "\n",
    "def sortstrlist(listo):\n",
    "    i = 0\n",
    "    while i != len(listo):\n",
    "        listo[i] = sorted(listo[i])\n",
    "        i += 1\n",
    "    return sorted(listo)\n",
    "    \n",
    "test = [ 'i', 'g', 'hi', 'hg', 'bhi', 'bhg', 'bh', 'abhi', 'abhg', 'abh', \n",
    "        'a', 'b', 'ab', 'f', 'df', 'd', 'bdf', 'bd', 'abdf', 'abd', 'e', \n",
    "        'ce', 'c', 'ace', 'ac', 'h']\n",
    "a = Node('a')\n",
    "b = Node('b')\n",
    "c = Node('c')\n",
    "d = Node('d')\n",
    "e = Node('e')\n",
    "f = Node('f')\n",
    "g = Node('g')\n",
    "h = Node('h')\n",
    "i = Node('i')\n",
    "\n",
    "a = Node(1)\n",
    "b = Node(2)\n",
    "c = Node(3)\n",
    "d = Node(4)\n",
    "e = Node(5)\n",
    "f = Node(6)\n",
    "g = Node(7)\n",
    "h = Node(8)\n",
    "i = Node(9)\n",
    "\n",
    "a.right = c\n",
    "c.right = e\n",
    "a.left = b\n",
    "b.right = d\n",
    "d.right = f\n",
    "b.left = h\n",
    "h.right = g\n",
    "h.left = i\n",
    "counter, l = paths_with_sum_brute_force_question_mark(a, 17)\n",
    "#l2 = sortstrlist(l)\n",
    "print(counter)\n",
    "print(len(l))\n",
    "print(l)\n",
    "t = sortstrlist(test)\n",
    "print(l2)\n",
    "print(t)\n",
    "t == l2"
   ]
  },
  {
   "cell_type": "code",
   "execution_count": 208,
   "metadata": {},
   "outputs": [
    {
     "name": "stdout",
     "output_type": "stream",
     "text": [
      "> \u001b[0;32m<ipython-input-207-ef7ca402ac64>\u001b[0m(42)\u001b[0;36msortstrlisttoset\u001b[0;34m()\u001b[0m\n",
      "\u001b[0;32m     40 \u001b[0;31m    \u001b[0ms\u001b[0m \u001b[0;34m=\u001b[0m \u001b[0mset\u001b[0m\u001b[0;34m(\u001b[0m\u001b[0;34m)\u001b[0m\u001b[0;34m\u001b[0m\u001b[0m\n",
      "\u001b[0m\u001b[0;32m     41 \u001b[0;31m    \u001b[0;32mfor\u001b[0m \u001b[0mitem\u001b[0m \u001b[0;32min\u001b[0m \u001b[0mlisto\u001b[0m\u001b[0;34m:\u001b[0m\u001b[0;34m\u001b[0m\u001b[0m\n",
      "\u001b[0m\u001b[0;32m---> 42 \u001b[0;31m        \u001b[0ms\u001b[0m\u001b[0;34m.\u001b[0m\u001b[0madd\u001b[0m\u001b[0;34m(\u001b[0m\u001b[0mitem\u001b[0m\u001b[0;34m)\u001b[0m\u001b[0;34m\u001b[0m\u001b[0m\n",
      "\u001b[0m\u001b[0;32m     43 \u001b[0;31m    \u001b[0;32mreturn\u001b[0m \u001b[0ms\u001b[0m\u001b[0;34m\u001b[0m\u001b[0m\n",
      "\u001b[0m\u001b[0;32m     44 \u001b[0;31m\u001b[0;34m\u001b[0m\u001b[0m\n",
      "\u001b[0m\n",
      "ipdb> item\n",
      "['e']\n",
      "ipdb> quit()\n"
     ]
    }
   ],
   "source": [
    "debug"
   ]
  },
  {
   "cell_type": "code",
   "execution_count": 206,
   "metadata": {},
   "outputs": [],
   "source": [
    "s = set()\n",
    "s.add('adad')"
   ]
  },
  {
   "cell_type": "code",
   "execution_count": 194,
   "metadata": {},
   "outputs": [],
   "source": [
    "#this doesnt work btw. nodes are repeated nonstop\n",
    "def paths_with_sum(root, val):\n",
    "    sums = []\n",
    "    \n",
    "    def fillglobal(sumsarr):\n",
    "        for item in sumsarr:\n",
    "            sums.append(item)\n",
    "            \n",
    "    def directed_pws(root, sumsarr):\n",
    "        if root == None:\n",
    "            fillglobal(sumsarr)\n",
    "            return\n",
    "        \n",
    "        i = 0\n",
    "        while i != len(sumsarr):\n",
    "            sumsarr[i] += root.data\n",
    "            i += 1\n",
    "        sumsarr.append(root.data)\n",
    "        \n",
    "        directed_pws(root.right, copy(sumsarr))\n",
    "        directed_pws(root.left, copy(sumsarr))\n",
    "        \n",
    "        \n",
    "    if root == None:\n",
    "        return 0 #no paths equal the sum for val cuz there aint no paths\n",
    "    \n",
    "    directed_pws(root.left, [root.data])\n",
    "    directed_pws(root.right, [root.data])\n",
    "    \n",
    "    counter = 0\n",
    "    for Sum in sums:\n",
    "        if Sum == val:\n",
    "            counter += 1\n",
    "            \n",
    "    return counter\n"
   ]
  },
  {
   "cell_type": "code",
   "execution_count": null,
   "metadata": {},
   "outputs": [],
   "source": [
    "# book soln 1 takes O(N LG N) time in a balanced tree, and O(N^2) time in a\n",
    "    #linked list tree. O(1) space.\n",
    "\n",
    "# book soln 2 takes O(N) time and O(LG N) space in a balanced tree, O(N) in LL\n"
   ]
  },
  {
   "cell_type": "markdown",
   "metadata": {},
   "source": [
    "## Chapter 5: bit manipulation (8)"
   ]
  },
  {
   "cell_type": "markdown",
   "metadata": {},
   "source": [
    "for carrying in binary subtraction\n",
    "\n",
    "0 – 0 = 0\n",
    "\n",
    "1 – 0 = 1\n",
    "\n",
    "1 – 1 = 0\n",
    "\n",
    "\n",
    "10 – 1 = 1"
   ]
  },
  {
   "cell_type": "markdown",
   "metadata": {},
   "source": [
    "- adding yourself == bitshift left by 1\n",
    "- 0100 == 4, so 0100 * x is == x << 2\n",
    "    - applies to all powers of 2 as well.\n",
    "- a XOR (NOT a) == 1111111\n",
    "    - negative yourself gives the exact bit complement. XORing complements gives 1's\n",
    "- a AND (NOT 0 << 2) == a, with its 2 LSB cleared to 0\n",
    "    - the right hand expression yields all 1's except for 2 LSB, which r 0s\n",
    "    "
   ]
  },
  {
   "cell_type": "markdown",
   "metadata": {},
   "source": [
    "## XORing, ANDing, ORing a num w/ ITSELF, 0's, and 1's.\n",
    "XOR\n",
    "\n",
    "x XOR 0000 = x\n",
    "\n",
    "x XOR 1111 = NOT x\n",
    "\n",
    "x XOR x = 0000\n",
    "\n",
    "AND\n",
    "\n",
    "x AND 0000 = 0000\n",
    "\n",
    "x AND 1111 = x\n",
    "\n",
    "x AND x = x\n",
    "\n",
    "OR\n",
    "\n",
    "x OR 0000 = x\n",
    "\n",
    "x OR 1111 = 1111\n",
    "\n",
    "x OR x = x"
   ]
  },
  {
   "cell_type": "markdown",
   "metadata": {},
   "source": [
    "AND 1 preserves. AND 0 sets to 0\n",
    "\n",
    "OR 0 preserves. OR 1 sets to 1"
   ]
  },
  {
   "cell_type": "markdown",
   "metadata": {},
   "source": [
    "#### two's complement misc\n",
    "- pos has 0s in front, negs have 1's in front (MSB == front)\n",
    "- arithmetical right shift preserves MSB , left shift makes 0's\n",
    "    - logical right shift makes 0's (not in python though)\n",
    "- get from pos to neg and vice versa: -x = ~x + 1\n",
    "- pos values are common seneical. the number of all 11111 is -1 and the number with 1000.000 with the max # of bits is the mininmum negative number\n",
    "    - reasonably then, log shift all the way right gives 0, arith shift right all the way gives -1, and arith shift all the way left gives 0 too\n"
   ]
  },
  {
   "cell_type": "markdown",
   "metadata": {},
   "source": [
    "##### floats:\n",
    "Single precision, which uses 32 bits and has the following layout:\n",
    "\n",
    "- 1 bit for the sign of the number. 0 means positive and 1 means negative.\n",
    "- 8 bits for the exponent.\n",
    "- 23 bits for the mantissa.\n",
    "\n",
    "Double precision, which uses 64 bits and has the following layout.\n",
    "\n",
    "- 1 bit for the sign of the number. 0 means positive and 1 means negative.\n",
    "- 11 bits for the exponent.\n",
    "- 52 bits for the mantissa."
   ]
  },
  {
   "cell_type": "code",
   "execution_count": null,
   "metadata": {},
   "outputs": [],
   "source": [
    "you can subtract 1 from 000001000000 to get 000000111111"
   ]
  },
  {
   "cell_type": "markdown",
   "metadata": {},
   "source": [
    "shift 1 to get where u want. subtract 1 after and flip/dont flip to get half 0000 and half 111 split by i-1 to i"
   ]
  },
  {
   "cell_type": "code",
   "execution_count": null,
   "metadata": {},
   "outputs": [],
   "source": [
    "###### get and set:\n",
    "#GETTING\n",
    "def getbiti_or_ihas1(num, i):\n",
    "    '''\n",
    "    Get Bit: ari shift 1 left i bits. AND this with a num, clearing all bits\n",
    "    besides the bit at position i in the num. compare new num to 0. if != 0, \n",
    "    then num has a 1 bit at i; else its 0\n",
    "    00000010000\n",
    "    '''\n",
    "    mask = 1 << i\n",
    "    opd = mask & num\n",
    "    if opd != 0:\n",
    "        return True # num has a bit at position i\n",
    "    else:\n",
    "        return False #num has no bit at position i\n",
    "# SETTING \n",
    "def setBiti_to1(num, i):\n",
    "    '''\n",
    "    Set Bit: ari shift 1 left i bits. OR this with num. preserves all bits in\n",
    "    num besides the ith bit, which is set to 0\n",
    "    000000100000\n",
    "    '''\n",
    "    mask = 1 << i\n",
    "    return mask | num\n",
    "#CLEARING\n",
    "def clearBiti_to0(num, i):\n",
    "    '''\n",
    "    Clear Bit: opposite of set bit. ari shift 1 left i bits. Then Negate/NOT it.\n",
    "    perform AND on this with num. preserves all bits besides ith bit, which is\n",
    "    set to 1\n",
    "    11111101111\n",
    "    '''\n",
    "    mask = 1 << i\n",
    "    mask = ~mask\n",
    "    return mask & num\n",
    "\n",
    "#CLEARING AND SETTING ALOT SEVERAL\n",
    "def clearMSBtoIthBit_to0(num, i):\n",
    "    mask = 1 << i\n",
    "    mask -= 1\n",
    "    return num & mask\n",
    "\n",
    "''' alternatively could have used original mask 11111 == -1 & LShift'''\n",
    "def clearIthBitToLSB_to0(num, i):\n",
    "    mask = 1 << i\n",
    "    mask -= 1\n",
    "    mask = ~mask\n",
    "    return num & mask\n",
    "\n",
    "def setMSBtoIthBit_to1(num, i):\n",
    "    mask = 1 << i\n",
    "    mask -= 1\n",
    "    mask = ~mask\n",
    "    return num | mask\n",
    "\n",
    "def setIthBitToLSB_to1(num, i):\n",
    "    mask = 1 << i\n",
    "    mask -= 1\n",
    "    return num | mask\n",
    "\n",
    "#set bit at bit i to either 0 or 1 depending on query==value\n",
    "    #value is the bit value to set to. is 0 or 1.\n",
    "def updateIthBit(num, i, value):\n",
    "    #mask used to AND later to set ith value to 0 and nothing else\n",
    "    delmask = ~(1 << i)\n",
    "    clearedi = delmask & num #set ith to zero. preserve rest.\n",
    "    \n",
    "    if value == 0:#if u want to set the ith bit to 0, its already done.\n",
    "        return clearedi\n",
    "    else:\n",
    "        setmask = 1 << i\n",
    "        return clearedi | setmask\n",
    "    "
   ]
  },
  {
   "cell_type": "markdown",
   "metadata": {},
   "source": [
    "## 5.1 Insertion:\n",
    "You are given two 32-bit numbers, Nand M, and two bit positions, i and\n",
    "j. Write a method to insert Minto N such that M starts at bit j and ends at bit i. You\n",
    "can assume that the bits j through i have enough space to fit all of M. That is, if\n",
    "M = 10011, you can assume that there are at least 5 bits between j and i. You would not, for\n",
    "example, have j = 3 and i = 2, because M could not fully fit between bit 3 and bit 2.\n",
    "EXAMPLE\n",
    "Input: N 10011, i 2, j 6\n",
    "Output: N 10001001100\n",
    "Hints: # 137, #169, #215"
   ]
  },
  {
   "cell_type": "markdown",
   "metadata": {},
   "source": [
    "1. count num bits in M\n",
    "2. compare against j - i + 1. if bigger, then fail.\n",
    "3. if less than (but not equal to), modify i_new to be correct i to fit M. otherwise, let i_new = i.\n",
    "\t- we dont want to delete more bits than we need to in N\n",
    "        - i_new = i + (j - i + 1) - len(M)\n",
    "4. generate your bit mask to clear out all bits from j to i_new (inclusive) to 0\n",
    "    - take 1 , shift to left (len(M)) times\n",
    "    - subtract 1\n",
    "    - shift left i_new\n",
    "    - NOT \n",
    "    - take result, and AND with N\n",
    "5. take M and shift it i_new to the left\n",
    "6. take shifted M and OR with cleared N.\n",
    "7. result is what it is. "
   ]
  },
  {
   "cell_type": "markdown",
   "metadata": {},
   "source": [
    "- generate a mask to zero out bits from (j-i) to LSB\n",
    "    - take 1, shift to left (j-i) bits, subtract 1\n",
    "- shift the mask left i bits\n"
   ]
  },
  {
   "cell_type": "code",
   "execution_count": 235,
   "metadata": {},
   "outputs": [
    {
     "name": "stdout",
     "output_type": "stream",
     "text": [
      "N is 0b10000000000\n",
      "M book example is 0b10011\n",
      "M example where len(M) != (j - i + 1) is 0b101\n",
      "out with N, M_book: 0b10001001100\n",
      "out with N, M_smaller: 0b10001010000\n"
     ]
    }
   ],
   "source": [
    "#wrong function. sdont want to count bits. want to count length\n",
    "def count_bits_M(M):\n",
    "    if M < 0:\n",
    "        print('not made to count bits of negative num')\n",
    "        return -1\n",
    "    counter = 0\n",
    "    while M != 0:\n",
    "        counter += (M & 1)\n",
    "        M >>= 1\n",
    "    return counter\n",
    "\n",
    "\n",
    "def insertion(N, M, i, j):\n",
    "    def get_length(M):\n",
    "        if M < 0:\n",
    "            print('not made to get length of negative num')\n",
    "            return -1\n",
    "        counter = 0\n",
    "        while M != 0:\n",
    "            counter += 1\n",
    "            M >>= 1\n",
    "        return counter\n",
    "    \n",
    "    Max = j - i + 1\n",
    "    M_len = get_length(M)\n",
    "    if M_len > Max:\n",
    "        print('length of M greater than max bits')\n",
    "        return\n",
    "    if M_len < Max:\n",
    "        i_new = i + Max - M_len\n",
    "    else:\n",
    "        i_new = i\n",
    "        \n",
    "    D_mask = 1\n",
    "    D_mask <<= M_len\n",
    "    D_mask -= 1\n",
    "    D_mask <<= i_new\n",
    "    D_mask = ~D_mask\n",
    "    N_mod = N & D_mask\n",
    "    M_mod = M << i_new\n",
    "    N_mod = N_mod | M_mod\n",
    "    \n",
    "    return N_mod\n",
    "\n",
    "print('N is ' + bin(1024))\n",
    "print('M book example is ' + bin(19))\n",
    "print('M example where len(M) != (j - i + 1) is ' + bin(5))\n",
    "\n",
    "print('out with N, M_book: ' + bin(insertion(1024, 19, 2, 6)))\n",
    "print('out with N, M_smaller: ' + bin(insertion(1024, 5, 2, 6)))"
   ]
  },
  {
   "cell_type": "markdown",
   "metadata": {},
   "source": [
    "## 5.2 Binary to String: \n",
    "Given a real number between 0 and 1 (e.g., 0.72) that is passed in as a double, print\n",
    "the binary representation. If the number cannot be represented accurately in binary with at most 32\n",
    "characters, print \"ERROR:'\n",
    "Hints: #143, #167, #173, #269, #297"
   ]
  },
  {
   "cell_type": "markdown",
   "metadata": {},
   "source": [
    "- since we cap at 32 bits, it is single precision: 1 sign bit, 8 exponent bits, 23 mantissa bits."
   ]
  },
  {
   "cell_type": "markdown",
   "metadata": {},
   "source": [
    "## 5.3 Flip Bit to Win:\n",
    "You have an integer and you can flip exactly one bit from a 13 to a 1. Write code to\n",
    "find the length of the longest sequence of ls you could create.\n",
    "EXAMPLE\n",
    "Input: 1775 (or: 1113111131111)\n",
    "Output: 8\n",
    "Hints: #159, #226, #314, #352"
   ]
  },
  {
   "cell_type": "markdown",
   "metadata": {},
   "source": [
    "- counts the bits of the number. these are th epossible locations for chars of '1' and '0'\n",
    "- while we count the bits, we also count locations of 0s and 1s\n"
   ]
  },
  {
   "cell_type": "code",
   "execution_count": 261,
   "metadata": {},
   "outputs": [
    {
     "name": "stdout",
     "output_type": "stream",
     "text": [
      "11011101111\n",
      "index: 0, val: 1, local: 0\n",
      "index: 1, val: 1, local: 1\n",
      "index: 2, val: 0, local: 2\n",
      "index: 3, val: 1, local: 3\n",
      "index: 4, val: 1, local: 4\n",
      "index: 5, val: 1, local: 5\n",
      "index: 6, val: 0, local: 6\n",
      "index: 3, val: 1, local: 0\n",
      "index: 4, val: 1, local: 1\n",
      "index: 5, val: 1, local: 2\n",
      "index: 6, val: 0, local: 3\n",
      "index: 7, val: 1, local: 4\n",
      "index: 8, val: 1, local: 5\n",
      "index: 9, val: 1, local: 6\n",
      "index: 10, val: 1, local: 7\n",
      "8\n"
     ]
    },
    {
     "data": {
      "text/plain": [
       "'0b11011101111'"
      ]
     },
     "execution_count": 261,
     "metadata": {},
     "output_type": "execute_result"
    }
   ],
   "source": [
    "def get_length(M):\n",
    "    if M < 0:\n",
    "        print('not made to get length of negative num')\n",
    "        return -1\n",
    "    counter = 0\n",
    "    while M != 0:\n",
    "        counter += 1\n",
    "        M >>= 1\n",
    "    return counter\n",
    "\n",
    "def getbinstr(M):\n",
    "    if M < 0:\n",
    "        print('cant hand negative')\n",
    "        return '-1'\n",
    "    string = ''\n",
    "    while M != 0:\n",
    "        if M & 1 == 0:\n",
    "            string = '0' + string\n",
    "        else:\n",
    "            string = '1' + string\n",
    "        M >>= 1\n",
    "    return string\n",
    "\n",
    "def longest_bits(M):\n",
    "    mstr = getbinstr(M)\n",
    "    if len(mstr) == 0 or len(mstr) == 1:\n",
    "        return 1\n",
    "    absMax = 0\n",
    "    localMax = 0\n",
    "    i = 0\n",
    "    flip = False\n",
    "    flipindex = None\n",
    "    while i != len(mstr):\n",
    "        print('index: ' + str(i) +', val: ' + str(mstr[i]) + ', local: ' + str(localMax))\n",
    "        if mstr[i] == '1':\n",
    "            localMax += 1\n",
    "        if mstr[i] == '0':\n",
    "            if not flip:\n",
    "                flip = True\n",
    "                flipindex = i\n",
    "                localMax += 1\n",
    "            else:\n",
    "                if localMax > absMax:\n",
    "                    absMax = localMax\n",
    "                localMax = 0\n",
    "                flip = False\n",
    "                if flipindex + 1 >= len(mstr):\n",
    "                    break\n",
    "                i = flipindex + 1\n",
    "                flipindex = None\n",
    "                continue\n",
    "        i += 1\n",
    "    \n",
    "    if localMax > absMax:\n",
    "        absMax = localMax\n",
    "    \n",
    "    return absMax\n",
    "                \n",
    "print(getbinstr(1775))\n",
    "print(longest_bits(1775))\n",
    "bin(1775)"
   ]
  },
  {
   "cell_type": "code",
   "execution_count": 247,
   "metadata": {},
   "outputs": [
    {
     "data": {
      "text/plain": [
       "8"
      ]
     },
     "execution_count": 247,
     "metadata": {},
     "output_type": "execute_result"
    }
   ],
   "source": [
    "#BOOK SOLN: INGENOUS!!!!\n",
    "# create an array of counts, where each element is the count of 0's or count\n",
    "#of 1's continious. Adj elements of an element are the count of the other type.\n",
    "\n",
    "def get_array_0s1s(M):\n",
    "    if M < 0:\n",
    "        print('cant hand negative')\n",
    "        return '-1'\n",
    "    array = []\n",
    "    current = 0 \n",
    "    zero = True\n",
    "    while M != 0:\n",
    "        if M & 1 == 0:\n",
    "            if zero:\n",
    "                current += 1\n",
    "            else:\n",
    "                array.append((current, 1))\n",
    "                current = 1\n",
    "                zero = True\n",
    "        else:\n",
    "            if not zero:\n",
    "                current += 1\n",
    "            else:\n",
    "                array.append((current, 0))\n",
    "                current = 1\n",
    "                zero = False\n",
    "        M >>= 1\n",
    "    return array\n",
    "\n",
    "def get_max(M):\n",
    "    #even elements are 0s, odds are 1ss\n",
    "    array = get_array_0s1s(M)\n",
    "    i = 0\n",
    "    maxSingle = 0\n",
    "    maxMerged = 0\n",
    "    while i != len(array):\n",
    "        val = array[i][1]\n",
    "        ct = array[i][0]\n",
    "        if val == 0 and ct <= 1:\n",
    "            if i + 1 < len(array) and i - 1 >= 0:\n",
    "                adjSum = array[i+1][0] + array[i-1][0]\n",
    "                if adjSum > maxMerged:\n",
    "                    maxMerged = adjSum + ct\n",
    "        if val == 1 and ct > maxSingle:\n",
    "            maxSingle = ct\n",
    "        i += 1\n",
    "        \n",
    "    return max(maxSingle+1, maxMerged)\n",
    "\n",
    "get_max(1775)"
   ]
  },
  {
   "cell_type": "code",
   "execution_count": null,
   "metadata": {},
   "outputs": [],
   "source": [
    "# FATER BOOK SOLN. THEY CRAY. no sopace complexity\n",
    "\n",
    "def get_max_flipped_bits(M):\n",
    "    if M < 0:\n",
    "        return\n",
    "    localMax = 0\n",
    "    absMax = 0\n",
    "    aloneMax = 0\n",
    "    while M != 0:\n",
    "        bit = M & 1\n",
    "        if bit:\n",
    "            localMax += 1\n",
    "        else:\n",
    "            if localMax > aloneMax:\n",
    "                aloneMax = localMax\n",
    "            if \n",
    "            \n",
    "            localMax = 0\n",
    "        \n",
    "        \n",
    "        M >>= 1\n"
   ]
  },
  {
   "cell_type": "markdown",
   "metadata": {},
   "source": [
    "## 5.4 Next Number: \n",
    "Given a positive integer, print the next smallest and the next largest number that\n",
    "have the same number of 1 bits in their binary representation.\n",
    "Hints: #147, # 175, #242, #312, #339, #358, #375, #390\n",
    ".("
   ]
  },
  {
   "cell_type": "code",
   "execution_count": 264,
   "metadata": {},
   "outputs": [
    {
     "data": {
      "text/plain": [
       "12"
      ]
     },
     "execution_count": 264,
     "metadata": {},
     "output_type": "execute_result"
    }
   ],
   "source": [
    "def count_bits_M(M): # brute force\n",
    "    if M < 0:\n",
    "        print('not made to count bits of negative num')\n",
    "        return -1\n",
    "    counter = 0\n",
    "    while M != 0:\n",
    "        counter += (M & 1)\n",
    "        M >>= 1\n",
    "    return counter\n",
    "\n",
    "def next_largest(M):\n",
    "    length = count_bits_M(M)\n",
    "    M += 1\n",
    "    while count_bits_M(M) != length:\n",
    "        M += 1\n",
    "        \n",
    "    return M\n",
    "\n",
    "next_largest(10)"
   ]
  },
  {
   "cell_type": "markdown",
   "metadata": {},
   "source": [
    "book solution is reasonably complicated. for the most part though, if we flip a 0 bit to 1, we have to flip a 1 bit to 0 to preserve the number of bits we have. if you want to increase the number, you probably want tto pereform 0->1 to the LEFT of where you perform 1->0. If you want to get the NEXT biggest number, you want to perform 1->0 in the RIGHTMOST spot that there is a 1. call this spot, spot i. Now you want to perform 0->1 in the closest spot to the left of i that contains a 0."
   ]
  },
  {
   "cell_type": "markdown",
   "metadata": {},
   "source": [
    "## 5.5 Debugger:\n",
    "Explain what the following code does: ( (n & (n -1) ) == 0) .\n",
    "Hints: #151, #202, #261, #302, #346, #372, #383, #398"
   ]
  },
  {
   "cell_type": "markdown",
   "metadata": {},
   "source": [
    "- ANDING two values == 0 means either\n",
    "    - one or both values are all 0's\n",
    "    - one value is the complexmene tof the other\n",
    "    \n",
    "N MUST be zero. it is the noyl time where subtracting 1 from N gives N's\n",
    "complement. funnily enough its also when one value is zero. therefore both cases above are satisfied\n",
    "\n",
    "N = 1 aso works though.... \n",
    "\n",
    "N=2 also works though...\n",
    "\n",
    "N must be a power of 2. that is, it must have exactly one 1 bit in it, which occurs at the MSB. when subtracting 1 from N, then all bits to the right of N's MSB become 1, N's MSB bit becomes 0, and everything to the left of the MSB is still 0 since positive. \n",
    "\n",
    "this doesnt work at all with negative numbers  since bits left of 'working' bit are always 1.\n",
    "\n",
    "# tldr - N must 0, or a power of 2, (1 is a power of 2.)"
   ]
  },
  {
   "cell_type": "markdown",
   "metadata": {},
   "source": [
    "## 5.6 Conversion:\n",
    "Write a function to determine the number of bits you would need to flip to convert\n",
    "integer A to integer B.\n",
    "EXAMPLE\n",
    "Input:\n",
    "\n",
    "29 (or: 111101), 15 (or: 101111)\n",
    "outpuit: 2\n",
    "Hints: #336, #369"
   ]
  },
  {
   "cell_type": "code",
   "execution_count": 265,
   "metadata": {},
   "outputs": [
    {
     "data": {
      "text/plain": [
       "2"
      ]
     },
     "execution_count": 265,
     "metadata": {},
     "output_type": "execute_result"
    }
   ],
   "source": [
    "def num_bits_flip(A, B):\n",
    "    counter = 0\n",
    "    while A != 0 and B != 0:\n",
    "        av = A & 1\n",
    "        bv = B & 1\n",
    "        if av != bv:\n",
    "            counter += 1\n",
    "        A >>= 1\n",
    "        B >>= 1\n",
    "    leftover = max(A, B)\n",
    "    while leftover != 0:\n",
    "        counter += 1\n",
    "        leftover >>= 1\n",
    "    \n",
    "    return counter\n",
    "num_bits_flip(29, 15)"
   ]
  },
  {
   "cell_type": "markdown",
   "metadata": {},
   "source": [
    "if you XOR two numbers, bits that are different return 1, bits that are same return 0\n",
    "\n",
    "so you can just XOR the two numbers, and count the bits"
   ]
  },
  {
   "cell_type": "code",
   "execution_count": 269,
   "metadata": {},
   "outputs": [
    {
     "data": {
      "text/plain": [
       "2"
      ]
     },
     "execution_count": 269,
     "metadata": {},
     "output_type": "execute_result"
    }
   ],
   "source": [
    "#Book has some cool stuff with xor but who gives a shit\n",
    "#I GIVE A SHIT\n",
    "#ITS ACTUALLY INGENIOUS\n",
    "def count_diffs(A, B):\n",
    "    C = A ^ B\n",
    "    counter = 0\n",
    "    while C != 0:\n",
    "        counter += C & 1\n",
    "        C >>= 1\n",
    "    return counter\n",
    "count_diffs(29, 15)\n"
   ]
  },
  {
   "cell_type": "markdown",
   "metadata": {},
   "source": [
    "## 5.7 Pairwise Swap:\n",
    "Write a program to swap odd and even bits in an integer with as few instructions as\n",
    "possible (e.g., bit 13 and bit 1 are swapped, bit 2 and bit 3 are swapped, and so on).\n",
    "Hints: #145, #248, #328, #355"
   ]
  },
  {
   "cell_type": "markdown",
   "metadata": {},
   "source": [
    "my idea: \n",
    "- have original, with even and odds            OEOEOEOEOEOEOE\n",
    "\n",
    "- create a bit mask of alternating=x5          01010101010101\n",
    "- AND it with original to extract even values. 0E0E0E0E0E0E0E\n",
    "\n",
    "- shift bit mask to left one. =xA              10101010101010\n",
    "- AND it with original to extract odd values.  O0O0O0O0O0O0O0\n",
    "\n",
    "- shift even extracted values to the left by 1 E0E0E0E0E0E0E0\n",
    "- shift odd extract values to the right by 1.  0O0O0O0O0O0O0O\n",
    "\n",
    "- OR the extracted stuff to get final res.     EOEOEOEOEOEOEO\n",
    "\n",
    "- most annoying part is creating the bitmask"
   ]
  },
  {
   "cell_type": "code",
   "execution_count": 274,
   "metadata": {},
   "outputs": [
    {
     "data": {
      "text/plain": [
       "'0b1111'"
      ]
     },
     "execution_count": 274,
     "metadata": {},
     "output_type": "execute_result"
    }
   ],
   "source": [
    "bin(0xf)"
   ]
  },
  {
   "cell_type": "code",
   "execution_count": 270,
   "metadata": {},
   "outputs": [],
   "source": [
    "#is same solution as books =)\n",
    "#note 5 == 0101\n",
    "#note A == 1010\n",
    "\n",
    "def swapBits(num):\n",
    "    omask = 0xAAAAAAAA\n",
    "    emask = 0x55555555\n",
    "    even = emask & A\n",
    "    odd = omask & A\n",
    "    even <<= 1\n",
    "    odd >>= 1\n",
    "    result = even | odd\n",
    "    return result\n",
    "\n",
    "    "
   ]
  },
  {
   "cell_type": "markdown",
   "metadata": {},
   "source": [
    "## 5.8 Draw Line: \n",
    "A monochrome screen is stored as a single array of bytes, allowing eight consecutive\n",
    "pixels to be stored in one byte. The screen has width w, where w is divisible by 8 (that is, no byte will\n",
    "be split across rows). The height of the screen, of course, can be derived from the length of the array\n",
    "and the width. Implement a function that draws a horizontal line from (xl, y) to (x2 J y) .\n",
    "The method signature should look something like:\n",
    "drawLine(byte[] screen, int width, int xl, int x2, int y)\n",
    "Hints: #366, #381, #384, #391"
   ]
  },
  {
   "cell_type": "code",
   "execution_count": null,
   "metadata": {},
   "outputs": [],
   "source": [
    "# brute force is just to go along x1 to x2 within y and set pixels.\n",
    "\n",
    "#fast is to set stuff to 0xFF (thats one byte) "
   ]
  },
  {
   "cell_type": "code",
   "execution_count": null,
   "metadata": {},
   "outputs": [],
   "source": [
    "def drawLine(screen, width, x1, x2, y):\n",
    "    #note x1 - x2 is <= width\n",
    "    length = len(screen)/width\n",
    "    line = screen[]"
   ]
  },
  {
   "cell_type": "markdown",
   "metadata": {},
   "source": [
    "## Chapter 6: math and logic (10)"
   ]
  },
  {
   "cell_type": "markdown",
   "metadata": {},
   "source": [
    "6.1 The Heavy Pill: You have 20 bottles of pills. 19 bottles have 1.0 gram pills, but one has pills of weight\n",
    "1.1 grams. Given a scale that provides an exact measurement, how would you find the heavy bottle?\n",
    "You can only use the scale once.\n",
    "Hints: # 786, #252, #379, #387"
   ]
  },
  {
   "cell_type": "code",
   "execution_count": 275,
   "metadata": {},
   "outputs": [],
   "source": [
    "# remove pills from bottles, different for each bottle. weigh all. \n",
    "#final weigh diff vs expected weight if all same is yourt bottle."
   ]
  },
  {
   "cell_type": "markdown",
   "metadata": {},
   "source": [
    "6.2 Basketball:\n",
    "You have a basketball hoop and someone says that you can play one of two games.\n",
    "Game 1: You get one shot to make the hoop.\n",
    "Game 2: You get three shots and you have to make two of three shots.\n",
    "If p is the probability of making a particular shot, for which values of p should you pick one game\n",
    "or the other?\n",
    "Hints: # 181, #239, #284, #323\n",
    "I,"
   ]
  },
  {
   "cell_type": "code",
   "execution_count": 278,
   "metadata": {},
   "outputs": [
    {
     "name": "stderr",
     "output_type": "stream",
     "text": [
      "UsageError: Cell magic `%%` not found.\n"
     ]
    }
   ],
   "source": [
    "%% script False\n",
    "# your event space is independent, so you have to consider the permutations\n",
    "#of probaiblities, and not just the combinations.\n",
    "\n",
    "p + (1-p) = 1\n",
    "\n",
    "pp + (1-p)p + p(1-p) + (1-p)(1-p) = 1\n",
    "\n",
    "ppp + (1-p)pp + p(1-p)p + pp(1-p) + (1-p)(1-p)p + (1-p)p(1-p) + p(1-p)(1-p)\n",
    "+ (1-p)(1-p)(1-p) = 1\n",
    "\n",
    "p #this is game 1 winning\n",
    "\n",
    "ppp + (1-p)pp + p(1-p)p + pp(1-p) #this is game 2 wining"
   ]
  },
  {
   "cell_type": "markdown",
   "metadata": {},
   "source": [
    "6.3 Dominos: There is an 8x8 chessboard in which two diagonally opposite corners have been cut off.\n",
    "You are given 31 dominos, and a single domino can cover exactly two squares. Can you use the 31\n",
    "dominos to cover the entire board? Prove your answer (by providing an example or showing why\n",
    "it's impossible).\n",
    "Hints: #367, #397\n",
    "t • ., 1"
   ]
  },
  {
   "cell_type": "code",
   "execution_count": null,
   "metadata": {},
   "outputs": [],
   "source": [
    "# No its not possible. you cant lay a domino diagonally, so it has to be \n",
    "#horizontally. therefore squares adjacent to the corners cant be filled\n",
    "#unless some  next to it arent filled either. "
   ]
  },
  {
   "cell_type": "markdown",
   "metadata": {},
   "source": [
    "6.4 Ants on a Triangle: There are three ants on different vertices of a triangle. What is the probability of\n",
    "collision (between any two or all of them) if they start walking on the sides of the triangle? Assume\n",
    "that each ant randomly picks a direction, with either direction being equally likely to be chosen, and\n",
    "that they walk at the same speed.\n",
    "Similarly, find the probability of collision with n ants on an n-vertex polygon.\n",
    "Hints: # 157, # 195, #296\n"
   ]
  },
  {
   "cell_type": "code",
   "execution_count": null,
   "metadata": {},
   "outputs": [],
   "source": [
    "# turn it into a string of R's and L's (right and left), where length of\n",
    "#string is num of vertices of polygon. \n",
    "#there is no collison IFF every element of the string is R, or every \n",
    "#element of the string is L. the probability that all is R happens\n",
    "#is (.5)^ N, and the proabbility thatr all is L happens is also O.5^.N\n",
    "\n",
    "#theen, the proabbility of no colisson is 2(.5)^N\n",
    "\n",
    "#so the probability of collison is 1 - 2(.5)^N"
   ]
  },
  {
   "cell_type": "markdown",
   "metadata": {},
   "source": [
    "a\n",
    "6.S Jugs of Water: You have a five-quart jug, a three-quart jug, and an unlimited supply of water (but\n",
    "no measuring cups). How would you come up with exactly four quarts of water? Note that the jugs\n",
    "are oddly shaped, such that filling up exactly \"half\" of the jug would be impossible.\n",
    "Hints: #149, #379, #400\n",
    "l' )"
   ]
  },
  {
   "cell_type": "code",
   "execution_count": null,
   "metadata": {},
   "outputs": [],
   "source": [
    "'''\n",
    "1. get 5 quart jug, fill all the way.\n",
    "2. transfer as much as u can to 3 quart jug. then, leftover in 5-quart is \n",
    "    2 quarts.\n",
    "3. empty 3 quart jug\n",
    "4. transfer 2 quarts of leftover in 5-quart to 3-quart jug\n",
    "5. fill 5 quart\n",
    "6. fill up rest of 3-quart\n",
    "7. 5-quart now has 4 quarts, we can dump 3-quart.\n",
    "'''"
   ]
  },
  {
   "cell_type": "markdown",
   "metadata": {},
   "source": [
    "\n",
    "\n",
    "6.6 Blue-Eyed Island: A bunch of people are living on an island, when a visitor comes with a strange\n",
    "order: all blue-eyed people must leave the island as soon as possible. There will be a flight out at\n",
    "8:00 pm every evening. Each person can see everyone else's eye color, but they do not know their\n",
    "own (nor is anyone allowed to tell them). Additionally, they do not know how many people have\n",
    "blue eyes, although they do know that at least one person does. How many days will it take the\n",
    "blue-eyed people to leave?\n",
    "Hints: #218, #282, #341, #370"
   ]
  },
  {
   "cell_type": "markdown",
   "metadata": {},
   "source": [
    "6.7 The Apocalypse: In the new post-apocalyptic world, the world queen is desperately concerned\n",
    "about the birth rate. Therefore, she decrees that all families should ensure that they have one girl or\n",
    "else they face massive fines. If all families abide by this policy-that is, they have continue to have\n",
    "children until they have one girl, at which point they immediately stop-what will the gender ratio\n",
    "of the new generation be? (Assume that the odds of someone having a boy or a girl on any given\n",
    "pregnancy is equal.) Solve this out l"
   ]
  },
  {
   "cell_type": "markdown",
   "metadata": {},
   "source": [
    "6.8 The Egg Drop Problem: There is a building of 100 floors. If an egg drops from the Nth floor or\n",
    "above, it will break. If it's dropped from any floor below, it will not break. You're given two eggs. Find\n",
    "N, while minimizing the number of drops for the worst case.\n",
    "Hints: # 7 56, #233, #294, #333, #357, #374, #395\n",
    "\n",
    "6.9 100 Lockers: There are 100 closed lockers in a hallway. A man begins by opening all 100 lockers.\n",
    "Next, he closes every second locker. Then, on his third pass, he toggles every third locker (closes it if\n",
    "it is open or opens it if it is closed). This process continues for 100 passes, such that on each pass i,\n",
    "the man toggles every ith locker. After his 100th pass in the hallway, in which he toggles only locker#100, how many lockers are open?\n",
    "Hints: # 739, # 7 72, #264, #306\n",
    "\n",
    "6.10 Poison: You have 1000 bottles of soda, and exactly one is poisoned. You have 10 test strips which\n",
    "can be used to detect poison. A single drop of poison will turn the test strip positive permanently.\n",
    "You can put any number of drops on a test strip at once and you can reuse a test strip as many times\n",
    "as you'd like (as long as the results are negative). However, you can only run tests once per day and\n",
    "it takes seven days to return a result. How would you figure out the poisoned bottle in as few days\n",
    "as possible?\n",
    "FOLLOW UP\n",
    "Write code to simulate your approach.\n",
    "Hints: #746, #763, #783, #797, #205, #227, #230, #247, #249"
   ]
  },
  {
   "cell_type": "markdown",
   "metadata": {},
   "source": [
    "## Chapter 7: OOP (12)"
   ]
  },
  {
   "cell_type": "markdown",
   "metadata": {},
   "source": [
    "0. OOP deals with making \n",
    "1. base classes and classes to inherit them it\n",
    "2. class dynamics - what classes contain or need the other classes to interact\n",
    "3. class other members - what primitive types do classes need\n",
    "4. class operations - what do the classes do?"
   ]
  },
  {
   "cell_type": "markdown",
   "metadata": {},
   "source": [
    "7.1 Deck of Cards: Design the data structures for a generic deck of cards. Explain how you would\n",
    "subclass the data structures to implement blackjack.\n",
    "Hints: #153, #275\n",
    "I'"
   ]
  },
  {
   "cell_type": "markdown",
   "metadata": {},
   "source": [
    "7.2 Call Center: Imagine you have a call center with three levels of employees: respondent, manager,\n",
    "and director. An incoming telephone call must be first allocated to a respondent who is free. If the\n",
    "respondent can't handle the call, he or she must escalate the call to a manager. If the manager is not\n",
    "free or not able to handle it, then the call should be escalated to a director. Design the classes and\n",
    "data structures for this problem. Implement a method dispatchCall() which assigns a call to\n",
    "the first available employee.\n",
    "Hints: #363\n",
    "pq 1)7"
   ]
  },
  {
   "cell_type": "code",
   "execution_count": null,
   "metadata": {},
   "outputs": [],
   "source": [
    "#flawsed, should have some kind of clearancee thingy for type of inherited object. \n",
    "class Employee:\n",
    "    def __init__(self, isFree=True):\n",
    "        self.free = isfree\n",
    "        self.clearance = 0\n",
    "    def work(self):\n",
    "        self.free = False\n",
    "    def chill(self):\n",
    "        self.free = True\n",
    "\n",
    "class Respondent(Employee):\n",
    "    def __init__(self):\n",
    "        Employee.__init__(self)\n",
    "\n",
    "class Manager(Employee):\n",
    "    def __init__(self):\n",
    "        Employee.__init__(self)\n",
    "        \n",
    "class Director(Employee):\n",
    "    def __init__(self):\n",
    "        Employee.__init__(self)\n",
    "\n",
    "class CallCenter:\n",
    "    def __init__(self, employees=[]):\n",
    "        self.employees = employees\n",
    "        self.free_employees = []\n",
    "        self.freepawns = []\n",
    "        self.freemids = []\n",
    "        self.freeboss = []\n",
    "        for employee in employees:\n",
    "            add_to_free_queue(employee)\n",
    "    def hire(self, employee):\n",
    "        self.employees.append(employee)\n",
    "        add_to_free_queue(employee)\n",
    "    def dispatchCall(self, clearance):\n",
    "        employee = self.free_employees.pop(0)\n",
    "        pop_corresponding(type(employee))\n",
    "        \n",
    "        \n",
    "    def pop_corresponding(self, clearance):\n",
    "        if clearance == type(Respondent()):\n",
    "            self.freepawns.pop(0)\n",
    "        elif clearance == type(Manager()):\n",
    "            self.freemids.pop(0)\n",
    "        elif clearance == type(Director()):\n",
    "            self.freeboss.pop(0)\n",
    "            \n",
    "    def elevate(self):\n",
    "        pass\n",
    "    def add_to_free_queue(self, employee):\n",
    "        if employee.free:\n",
    "            self.free_employees.append(employee)\n",
    "            if type(employee) == type(Respondent()):\n",
    "                self.freepawns.append(employee)\n",
    "            elif type(employee) == type(Manager()):\n",
    "                self.freemids.append(employee)\n",
    "            elif type(employee) == type(Director()):\n",
    "                self.freeboss.append(employee)\n",
    "    "
   ]
  },
  {
   "cell_type": "markdown",
   "metadata": {},
   "source": [
    "7.3 Jukebox: Design a musical jukebox using object-oriented principles.\n",
    "Hints: # 198"
   ]
  },
  {
   "cell_type": "markdown",
   "metadata": {},
   "source": [
    "Summary: \n",
    "A jukebox contains Vinyls, which can be removed or added. A jukebox cannot be playing a song if there are no vinyls in the jukebox (and those vinyls need to havee songs on them). "
   ]
  },
  {
   "cell_type": "code",
   "execution_count": null,
   "metadata": {},
   "outputs": [],
   "source": [
    "class JukeBox:\n",
    "    def __init__(self, Vinyls=[]):\n",
    "        self.Vinyls = Vinyls\n",
    "        self.powered = True\n",
    "    def flip_power(self):\n",
    "        self.powered = not self.powered\n",
    "    def add_vinyl(self, Vinyl):\n",
    "        self.Vinyls.append(Vinyl)\n",
    "    \n",
    "        \n",
    "class Vinyl:\n",
    "    def __init__(self, recordname, songs=[]):\n",
    "        self.name = recordname\n",
    "        self.songs = songs\n",
    "\n",
    "class Song:\n",
    "    def __init__(self, name, length, artists):\n",
    "        self.length = length\n",
    "        self.name = name\n",
    "        self.artists = artists\n",
    "        \n"
   ]
  },
  {
   "cell_type": "markdown",
   "metadata": {},
   "source": [
    "\n",
    "7.4 Parking Lot: Design a parking lot using object-oriented principles.\n",
    "Hints: #258\n"
   ]
  },
  {
   "cell_type": "markdown",
   "metadata": {},
   "source": [
    "aparking lot has spaces, each of different types (parallel, angular, perpendicular) and it may have space counters. it also has different levels in it. also may chargee money to use the parking lot. it also contains cars, and is probably managed and employees employeees. it can also park other vehicles, which can park in different spots depending on its characateristics"
   ]
  },
  {
   "cell_type": "markdown",
   "metadata": {},
   "source": [
    "\n",
    "7.5 Online Book Reader: Design the data structures for an online book reader system.\n",
    "Hints: #344"
   ]
  },
  {
   "cell_type": "markdown",
   "metadata": {},
   "source": [
    "7.6 Jigsaw: Implement an NxN jigsaw puzzle. Design the data structures and explain an algorithm to\n",
    "solve the puzzle. You can assume that you have a fi tsWi th method which, when passed two\n",
    "puzzle edges, returns true if the two edges belong together.\n",
    "Hints: # 192, #238, #283\n",
    "\n",
    "7.7 Chat Server: Explain how you would design a chat server. In particular, provide details about the\n",
    "various backend components, classes, and methods. What would be the hardest problems to solve?\n",
    "Hints: #213, #245, #271\n",
    "\n",
    "7.8 Othello: Othello is played as follows: Each Othello piece is white on one side and black on the other.\n",
    "When a piece is surrounded by its opponents on both the left and right sides, or both the top and\n",
    "bottom, it is said to be captured and its color is flipped. On your turn, you must capture at least one\n",
    "of your opponent's pieces. The game ends when either user has no more valid moves. The win is\n",
    "assigned to the person with the most pieces. Implement the object-oriented design for Othello.\n",
    "Hints: # 179, #228\n",
    "\n",
    "7.9 Circular Array: Implement a C i rc u la rArray class that supports an array-like data structure which\n",
    "can be efficiently rotated. If possible, the class should use a generic type (also called a template), and\n",
    "should support iteration via the standard for (Obj 0 : circularArray) notation.\n",
    "Hints: #389"
   ]
  },
  {
   "cell_type": "markdown",
   "metadata": {},
   "source": [
    "7.10 minesweeper: design minesweeper.\n",
    "\n",
    "7.11 File System: Explain the data structures and algorithms that you would use to design an in-memory\n",
    "file system. Illustrate with an example in code where possible.\n",
    "Hints: #141, #276\n",
    ") ,\n",
    "\n",
    "7.12 Hash Table: Design and implement a hash table which uses chaining (linked lists) to handle collisions.\n",
    "Hints: #287, #307"
   ]
  },
  {
   "cell_type": "code",
   "execution_count": null,
   "metadata": {},
   "outputs": [],
   "source": []
  },
  {
   "cell_type": "markdown",
   "metadata": {},
   "source": [
    "## Chapter 8: Recursion and DP (14)"
   ]
  },
  {
   "cell_type": "markdown",
   "metadata": {},
   "source": [
    "8.1 Triple Step: A child is running up a staircase with n steps and can hop either 1 step, 2 steps, or 3\n",
    "steps at a time. Implement a method to count how many possible ways the child can run up the\n",
    "stairs.\n",
    "Hints: # 152, # 178, #217, #237, #262, #359"
   ]
  },
  {
   "cell_type": "markdown",
   "metadata": {},
   "source": [
    "8.2 Robot in a Grid: Imagine a robot sitting on the upper left corner of grid with r rows and c columns.\n",
    "The robot can only move in two directions, right and down, but certain cells are \"off limits\" such that\n",
    "the robot cannot step on them. Design an algorithm to find a path for the robot from the top left to\n",
    "the bottom right.\n",
    "Hints: #331, #360, #388\n",
    "\n",
    "8.3 Magic Index: A magic index in an array A [e ... n -1] is defined to be an index such that A[ i] =\n",
    "i. Given a sorted array of distinct integers, write a method to find a magic index, if one exists, in\n",
    "array A.\n",
    "FOLLOW UP\n",
    "What if the values are not distinct?\n",
    "Hints: # 170, #204, #240, #286, #340\n",
    "\n",
    "8.4 Power Set: Write a method to return all subsets of a set.\n",
    "Hints: #273, #290, #338, #354, #373\n",
    "p~ !40\n",
    "\n",
    "8.5 Recursive Multiply: Write a recursive function to multiply two positive integers without using the\n",
    "* operator. You can use addition, subtraction, and bit shifting, but you should minimize the number\n",
    "of those operations.\n",
    "Hints: # 166, #203, #227, #234, #246, #280\n",
    "('\n",
    "\n",
    "8.6 Towers of Hanoi: In the classic problem of the Towers of Hanoi, you have 3 towers and N disks of\n",
    "different sizes which can slide onto any tower. The puzzle starts with disks sorted in ascending order\n",
    "of size from top to bottom (Le., each disk sits on top of an even larger one). You have the following\n",
    "constraints:\n",
    "(1) Only one disk can be moved at a time.\n",
    "(2) A disk is slid off the top of one tower onto another tower.\n",
    "(3) A disk cannot be placed on top of a smaller disk.\n",
    "Write a program to move the disks from the first tower to the last using stacks.\n",
    "Hints: # 144, #224, #250, #272, #318"
   ]
  },
  {
   "cell_type": "markdown",
   "metadata": {},
   "source": [
    "8.7 Permutations without Dups: Write a method to compute all permutations of a string of unique\n",
    "characters.\n",
    "Hints: #150, #185, #200, #267, #278, #309, #335, #356\n",
    "; }\n",
    "\n",
    "8.8 Permutations with Dups: Write a method to compute all permutations of a string whose characters\n",
    "are not necessarily unique. The list of permutations should not have duplicates.\n",
    "Hints: # 161, #190, #222, #255"
   ]
  },
  {
   "cell_type": "markdown",
   "metadata": {},
   "source": [
    "8.9 Parens: Implement an algorithm to print all valid (e.g., properly opened and closed) combinations\n",
    "of n pairs of parentheses.\n",
    "EXAMPLE\n",
    "Input: 3\n",
    "Output: « () ) ) J «) (», «» () J () ( (», () () ()\n",
    "Hints: #138, #174, #187, #209, #243, #265, #295\n",
    "\n",
    "8.10 Paint Fill: Implement the \"paint nil\" function that one might see on many image editing programs.\n",
    "That is, given a screen (represented by a two-dimensional array of colors), a point, and a new color,\n",
    "nil in the surrounding area until the color changes from the original color.\n",
    "Hints: #364, #382\n",
    "\n",
    "8.11 Coins: Given an innnite number of quarters (25 cents), dimes (10 cents), nickels (5 cents), and\n",
    "pennies (1 cent), write code to calculate the number of ways of representing n cents.\n",
    "Hints: #300, #324, #343, #380, #394\n",
    "\n",
    "8.12 Eight Queens: Write an algorithm to print all ways of arranging eight queens on an 8x8 chess board\n",
    "so that none of them share the same row, column, or diagonal. In this case, \"diagonal\" means all\n",
    "diagonals, not just the two that bisect the board.\n",
    "Hints: #308, #350, #371\n",
    "\n",
    "8.13 Stack of Boxes: You have a stack of n boxes, with widths Wi ' heights hi ' and depths di . The boxes\n",
    "cannot be rotated and can only be stacked on top of one another if each box in the stack is strictly\n",
    "larger than the box above it in width, height, and depth. Implement a method to compute the\n",
    "height of the tallest possible stack. The height of a stack is the sum of the heights of each box.\n",
    "Hints: #155, #194, #214, #260, #322, #368, #378\n",
    "\n",
    "8.14 Boolean Evaluation: Given a boolean expression consisting of the symbols e (false), 1 (true), &\n",
    "(AND), I (OR), and\" (XOR), and a desired boolean result value result, implement a function to\n",
    "count the number of ways of parenthesizing the expression such that it evaluates to result.\n",
    "EXAMPLE\n",
    "countEval(\"1\"eleI1\"J false) -) 2\n",
    "countEval(\"e&e&e&l\"lle\"J true) -) 1e\n",
    "Hints: #148, #168, #197, #305, #327\n",
    "Additional"
   ]
  },
  {
   "cell_type": "markdown",
   "metadata": {},
   "source": [
    "Moderate Problems (#16.11), Hard Problems (#17.4, #17.6, #17.8, #17.12, #17.13,\n",
    "#17.15, #17.16, #17.24, #17.25)."
   ]
  },
  {
   "cell_type": "markdown",
   "metadata": {},
   "source": [
    "## Chapter 10: sorting and searching (11)"
   ]
  },
  {
   "cell_type": "markdown",
   "metadata": {},
   "source": [
    "\n",
    "\n",
    "- bubble sort. O(N^2) time, O(N) space\n",
    "- insertion sort. O(N^2) time, O(N) space. good small loops, tighter\n",
    "- merge sort. O(N LG N) time always. O(N)? space. merge call import.\n",
    "- heap sort. O(N LG N) time. O(N) space?\n",
    "- quicksort. O (N LG N) time avg, O(N^2) worst. \n",
    "\n",
    "\n",
    "- binary serch: needs orted arr. divide and conquer. half and half O(LG N)\n",
    "- linear search. O(N) "
   ]
  },
  {
   "cell_type": "markdown",
   "metadata": {},
   "source": [
    "## 10.1 Sorted Merge: \n",
    "You are given two sorted arrays, A and B, where A has a large enough buffer at the\n",
    "end to hold B. Write a method to merge B into A in sorted order.\n",
    "Hints: #332"
   ]
  },
  {
   "cell_type": "code",
   "execution_count": 282,
   "metadata": {},
   "outputs": [
    {
     "data": {
      "text/plain": [
       "[2, 5, 6, 8, 10, 15, 20, 21, 25, 26, 27, 28, 30]"
      ]
     },
     "execution_count": 282,
     "metadata": {},
     "output_type": "execute_result"
    }
   ],
   "source": [
    "#brute force: not same as mergesort cuz ninplace.\n",
    "#kinda read soln. want tos tart at the back so it doesnt waste time comp.\n",
    "\n",
    "#CANT DO mergesort's merge cuz need another array!@!!!!\n",
    "\n",
    "'''aint workin.'''\n",
    "def merge_end(A, B):\n",
    "    Na = len(A)\n",
    "    Nb = len(B)\n",
    "    for k in range(Nb):\n",
    "        A.append(None)\n",
    "    i = Nb - 1\n",
    "    b_m = Nb - 1\n",
    "    j = Na - 1\n",
    "    next_oindex = Na + Nb - 1\n",
    "    while i >= 0:\n",
    "        if A[j] >= B[i]:\n",
    "            i -= 1\n",
    "        else:\n",
    "            A[next_oindex] = A[j]\n",
    "            next_oindex -= 1\n",
    "            while b_m != i:\n",
    "                A[next_oindex] = B[b_m]\n",
    "                b_m -= 1\n",
    "                next_oindex -= 1\n",
    "            j -= 1\n",
    "    return A\n",
    "\n",
    "'''KINDA read a LITTLE at th ebeginnin of soln'''\n",
    "def merge_end(A,B):\n",
    "    Na = len(A)\n",
    "    Nb = len(B)\n",
    "    for k in range(Nb):\n",
    "        A.append(None)\n",
    "    indexA = Na - 1\n",
    "    indexB = Nb - 1\n",
    "    indexO = Na + Nb - 1\n",
    "    while indexA >= 0 and indexB >= 0:\n",
    "        if A[indexA] >= B[indexB]:\n",
    "            A[indexO] = A[indexA]\n",
    "            indexA -= 1\n",
    "        else: #bval > Aval\n",
    "            A[indexO] = B[indexB]\n",
    "            indexB -= 1\n",
    "        indexO -= 1\n",
    "        \n",
    "    if indexA == indexB:\n",
    "        return A\n",
    "    elif indexA > indexB:\n",
    "        while indexA >= 0:\n",
    "            A[indexO] = A[indexA]\n",
    "            indexA -= 1\n",
    "            indexO -= 1\n",
    "    else: #index B > index A\n",
    "        while indexB >= 0:\n",
    "            A[indexO] = B[indexB]\n",
    "            indexB -= 1\n",
    "            indexO -= 1\n",
    "    return A\n",
    "\n",
    "A = [5, 10, 15, 20, 25, 30]\n",
    "B = [2, 6, 8,21, 26, 27, 28]\n",
    "\n",
    "merge_end(A,B)"
   ]
  },
  {
   "cell_type": "code",
   "execution_count": 283,
   "metadata": {},
   "outputs": [],
   "source": [
    "# book soln is this one"
   ]
  },
  {
   "cell_type": "markdown",
   "metadata": {},
   "source": [
    "## 10.2 Group Anagrams: \n",
    "Write a method to sort an array of strings so that all the anagrams are next to\n",
    "each other.\n",
    "Hints: #177, #182, #263, #342\n",
    ") ."
   ]
  },
  {
   "cell_type": "code",
   "execution_count": 288,
   "metadata": {},
   "outputs": [
    {
     "data": {
      "text/plain": [
       "['bbq',\n",
       " 'cemorsstu',\n",
       " 'cemorsstu',\n",
       " 'ddeu',\n",
       " 'eflrstu',\n",
       " 'eflrstu',\n",
       " 'eikllm',\n",
       " 'ftw']"
      ]
     },
     "execution_count": 288,
     "metadata": {},
     "output_type": "execute_result"
    }
   ],
   "source": [
    "#brute force\n",
    "#anagram of each OTHER\n",
    "\n",
    "#could just sort each string and then sort the array.\n",
    "def group_anagrams(arr):\n",
    "    i = 0\n",
    "    N = len(arr)\n",
    "    while i != N:\n",
    "        arr[i] = ''.join(sorted(arr[i]))\n",
    "        i += 1\n",
    "    return sorted(arr)\n",
    "                         \n",
    "group_anagrams(['dude', 'wtf', 'bbq', 'restful', 'fluster', 'customers', 'killme', 'storescum'])        \n",
    "#O(N LG N)"
   ]
  },
  {
   "cell_type": "code",
   "execution_count": null,
   "metadata": {},
   "outputs": [],
   "source": [
    "#dont need to sort the strings, just group them.\n",
    "#count occurrances\n",
    "def group_anagrams_hash(arr):\n",
    "    def count_chars(string):\n",
    "        table = {}\n",
    "        for char in string:\n",
    "            if char not in table:\n",
    "                table[char] = 1\n",
    "            else:\n",
    "                table[char] += 1\n",
    "        return table\n",
    "    \n",
    "    table = []\n",
    "    for string in arr:\n",
    "        table.append(count_chars[sorted(string)])\n",
    "    \n",
    "    i = 0\n",
    "    while i !=len(table):\n",
    "        j = 0\n",
    "        while j != len(table):\n",
    "            if i == j:\n",
    "                continue\n",
    "            if table[i] == table[j]:\n",
    "                \n",
    "        \n",
    "    \n",
    "    "
   ]
  },
  {
   "cell_type": "code",
   "execution_count": 292,
   "metadata": {},
   "outputs": [],
   "source": [
    "def groupana(arr):\n",
    "    pass"
   ]
  },
  {
   "cell_type": "markdown",
   "metadata": {},
   "source": [
    "## 10.3 Search in Rotated Array: \n",
    "Given a sorted array of n integers that has been rotated an unknown\n",
    "number of times, write code to find an element in the array. You may assume that the array was\n",
    "originally sorted in increasing order.\n",
    "EXAMPLE\n",
    "\n",
    "Input:\n",
    "[15, 16, 19, 20, 25, 1, 3, 4, 5, 7, 10, 14], 5\n",
    "\n",
    "Output: 8 (the index of 5 in the array)\n",
    "\n",
    "Hints: #298, #310"
   ]
  },
  {
   "cell_type": "code",
   "execution_count": 306,
   "metadata": {},
   "outputs": [],
   "source": [
    "#regular binary search\n",
    "def binary_search(Sarr, query):\n",
    "    L = 0\n",
    "    H = len(Sarr) - 1\n",
    "    while L < H:\n",
    "        M = int((L + H)/2)\n",
    "        if Sarr[M] == query:\n",
    "            return M, Sarr[M]\n",
    "        elif Sarr[M] > query:\n",
    "            H = M - 1\n",
    "        else: #Sarr[M] < query\n",
    "            L = M + 1\n",
    "    return float('Inf'), None"
   ]
  },
  {
   "cell_type": "markdown",
   "metadata": {},
   "source": [
    "- the rotated quote on quote sorted array is just a cyclically sorted array\n",
    "    - it could not be rotated at aALL, meaning that its just sorted.\n",
    "        - compare end to beginning to check.\n",
    "            - if its not rotated, just do binary search\n",
    "- if it is rotated, compare ends with query to decide which section query will be on. then find middle and do binary search off middle"
   ]
  },
  {
   "cell_type": "code",
   "execution_count": 304,
   "metadata": {},
   "outputs": [
    {
     "ename": "TypeError",
     "evalue": "unsupported operand type(s) for +: 'NoneType' and 'int'",
     "output_type": "error",
     "traceback": [
      "\u001b[0;31m---------------------------------------------------------------------------\u001b[0m",
      "\u001b[0;31mTypeError\u001b[0m                                 Traceback (most recent call last)",
      "\u001b[0;32m<ipython-input-304-a9346279b633>\u001b[0m in \u001b[0;36m<module>\u001b[0;34m()\u001b[0m\n\u001b[0;32m----> 1\u001b[0;31m \u001b[0;32mNone\u001b[0m \u001b[0;34m+\u001b[0m \u001b[0;36m5\u001b[0m\u001b[0;34m\u001b[0m\u001b[0m\n\u001b[0m",
      "\u001b[0;31mTypeError\u001b[0m: unsupported operand type(s) for +: 'NoneType' and 'int'"
     ]
    }
   ],
   "source": [
    "None + 5"
   ]
  },
  {
   "cell_type": "code",
   "execution_count": 307,
   "metadata": {},
   "outputs": [
    {
     "data": {
      "text/plain": [
       "inf"
      ]
     },
     "execution_count": 307,
     "metadata": {},
     "output_type": "execute_result"
    }
   ],
   "source": [
    "def find_smallest_index_in_cyclical(arr):\n",
    "    if arr[0] < arr[len(arr) -1 ]:\n",
    "        return 0\n",
    "    L = 0\n",
    "    H = len(arr) - 1\n",
    "    while L < H:\n",
    "        M = int((L + H)/2)\n",
    "        if arr[L] <= arr[H]:\n",
    "            return L\n",
    "        if arr[M] < arr[M-1]:\n",
    "            return M\n",
    "        if arr[M] <= arr[L] and arr[M] <= arr[H]:\n",
    "            H = M - 1\n",
    "        elif arr[M] >= arr[L] and arr[M] >= arr[H]:\n",
    "            L = M + 1\n",
    "    return M\n",
    "            \n",
    "def search_in_cyclical(arr, val):\n",
    "    if arr[0] < arr[len(arr) - 1]:\n",
    "        return binary_search(arr, query)\n",
    "    MinI = find_smallest_index_in_cyclical(arr)\n",
    "    if val <= arr[len(arr) - 1]:\n",
    "        return binary_search(arr[MinI:], val)[0] + MinI\n",
    "    else:\n",
    "        return binary_search(arr[:MinI], val)[0]\n",
    "            \n",
    "search_in_cyclical([15, 16, 19, 20, 25, 1, 3, 4, 5, 7, 10, 14], 2)"
   ]
  },
  {
   "cell_type": "markdown",
   "metadata": {},
   "source": [
    "## 10.4 Sorted Search, No Size: \n",
    "You are given an array-like data structure Listy which lacks a size\n",
    "method. It does, however, have an elementAt (i) method that returns the element at index i in\n",
    "0(1) time. If i is beyond the bounds of the data structure, it returns -1. (For this reason, the data\n",
    "structure only supports positive integers.) Given a Listy which contains sorted, positive integers,\n",
    "find the index at which an element x occurs. If x occurs multiple times, you may return any index.\n",
    "Hints: #320, #337, #348"
   ]
  },
  {
   "cell_type": "code",
   "execution_count": 308,
   "metadata": {},
   "outputs": [
    {
     "ename": "SyntaxError",
     "evalue": "can't assign to literal (<ipython-input-308-559f3c32339e>, line 1)",
     "output_type": "error",
     "traceback": [
      "\u001b[0;36m  File \u001b[0;32m\"<ipython-input-308-559f3c32339e>\"\u001b[0;36m, line \u001b[0;32m1\u001b[0m\n\u001b[0;31m    1 *= 2\u001b[0m\n\u001b[0m          ^\u001b[0m\n\u001b[0;31mSyntaxError\u001b[0m\u001b[0;31m:\u001b[0m can't assign to literal\n"
     ]
    }
   ],
   "source": [
    "1 *= 2"
   ]
  },
  {
   "cell_type": "code",
   "execution_count": null,
   "metadata": {},
   "outputs": [],
   "source": [
    "[1, 2, 3, 4, 5, 6, 7, 8,9, 10]"
   ]
  },
  {
   "cell_type": "code",
   "execution_count": null,
   "metadata": {},
   "outputs": [],
   "source": [
    "#read book soln cuz didnt understand what was the difference between regular\n",
    "#binaryt search\n",
    "\n",
    "# the difference is that here we have NO SIZE so we cant do low/high\n",
    "\n",
    "#algorithm is to just find the size. dont do iteratively cuz thats O(N)\n",
    "#increment by powers of 2 so we still get O(N)\n",
    "\n",
    "#what happens if the max goes behind the actual max?\n",
    "    # when we do binary search, have a check for the -1's indiciating we \n",
    "    #need to change H to M-1 cuz we're too high.\n",
    "def search_listy(Listy, val):\n",
    "    def get_size_Listy(Listy, val):\n",
    "        i = 0\n",
    "        while Listy.elementAt(i) != -1 and Listy.elementAt(i) < val:\n",
    "            if i == 0:\n",
    "                i += 1\n",
    "            else:\n",
    "                i *= 2\n",
    "        "
   ]
  },
  {
   "cell_type": "markdown",
   "metadata": {},
   "source": [
    "## 10.5 Sparse Search: \n",
    "Given a sorted array of strings that is interspersed with empty strings, write a\n",
    "method to find the location of a given string.\n",
    "\n",
    "EXAMPLE\n",
    "\n",
    "Input: ball, {'at', '', '', '', 'ball', '', '', 'car', '', '', 'dad', '', ''}\n",
    "\n",
    "output: 4"
   ]
  },
  {
   "cell_type": "code",
   "execution_count": 311,
   "metadata": {},
   "outputs": [
    {
     "data": {
      "text/plain": [
       "inf"
      ]
     },
     "execution_count": 311,
     "metadata": {},
     "output_type": "execute_result"
    }
   ],
   "source": [
    "def sparse_search(arr, val):\n",
    "\n",
    "    L = 0\n",
    "    H = len(arr) - 1\n",
    "\n",
    "    \n",
    "    while L < H:\n",
    "        M = int((L + H)/2)\n",
    "        if arr[M] == val:\n",
    "            return M\n",
    "        if arr[M] == '':\n",
    "            M_h = M\n",
    "            while arr[M_h] == '':\n",
    "                M_h += 1\n",
    "            M_l = M\n",
    "            while arr[M_l] == '':\n",
    "                M_l -= 1\n",
    "            \n",
    "            if arr[M_h] == val:\n",
    "                return M_h\n",
    "            elif arr[M_l] == val:\n",
    "                return M_l\n",
    "        \n",
    "            if arr[M_h] > val and arr[M_l] < val:\n",
    "                return float('Inf')\n",
    "            \n",
    "            if val > arr[M_h]:\n",
    "                L = M_h + 1\n",
    "            elif val < arr[M_l]:\n",
    "                H = M_h - 1\n",
    "\n",
    "    return float('Inf')\n",
    "\n",
    "arr = ['at', '', '', '', 'ball', '', '', 'car', '', '', 'dad', '', '']\n",
    "sparse_search(arr, 'ba;;')"
   ]
  },
  {
   "cell_type": "markdown",
   "metadata": {},
   "source": [
    "## 10.6 Sort Big File:\n",
    "Imagine you have a 20 GB file with one string per line. Explain how you would sort\n",
    "the file.\n",
    "Hints: #207"
   ]
  },
  {
   "cell_type": "code",
   "execution_count": null,
   "metadata": {},
   "outputs": [],
   "source": [
    "'''\n",
    "the TLDR is that with BIG files, you dont want to load the entire thing\n",
    "into memory.\n",
    "\n",
    "so, do batch-running - divide file into chunks/batches. sort each one\n",
    "at the end, merge each sorted batch one by one.\n",
    "\n",
    "similar to mergesort\n",
    "\n",
    "is called EXTERNAL SORT\n",
    "'''"
   ]
  },
  {
   "cell_type": "markdown",
   "metadata": {},
   "source": [
    "## 10.7 Missing Int: \n",
    "Given an input file with four billion non-negative integers, provide an algorithm to\n",
    "generate an integer that is not contained in the file. Assume you have 1 GB of memory available for\n",
    "this task.\n",
    "FOLLOW UP\n",
    "What if you have only 10MB of memory? Assume that all the values are distinct and we now have\n",
    "no more than one billion non-negative integers.\n",
    "Hints: #235, #254, #281"
   ]
  },
  {
   "cell_type": "code",
   "execution_count": 316,
   "metadata": {},
   "outputs": [],
   "source": [
    "# scan all possible integers. have a bit vector of length possible\n",
    "#integers in existance init to 0s. iterate through the file, setting\n",
    "#bit vector corresponding index to 1 if the number at that index is found\n",
    "#after, iterate through bit vector and return first 0'd number. "
   ]
  },
  {
   "cell_type": "markdown",
   "metadata": {},
   "source": [
    "## 10.8 Find Duplicates:\n",
    "You have an array with all the numbers from 1 to N, where N is at most 32,000. The array may have duplicate entries and you do not know what N is. With only 4 kilobytes of memory available, how would you print all duplicate elements in the array? Hints: #289, #315 \" ."
   ]
  },
  {
   "cell_type": "code",
   "execution_count": null,
   "metadata": {},
   "outputs": [],
   "source": [
    "#have a bit vector of length 32000 (which is the size of 4 kilobytes)\n",
    "# go through each array number, marking as 1 in bit vector. if we go to\n",
    "#mark a number in the bit vector and its already 1, print it instead\n"
   ]
  },
  {
   "cell_type": "markdown",
   "metadata": {},
   "source": [
    "## 10.9 Sorted Matrix Search: \n",
    "Given an M x N matrix in which each row and each column is sorted in\n",
    "ascending order, write a method to find an element.\n",
    "Hints: #193, #211, #229, #251, #266, #279, #288, #291, #303, #317, #330"
   ]
  },
  {
   "cell_type": "code",
   "execution_count": 22,
   "metadata": {},
   "outputs": [
    {
     "data": {
      "text/plain": [
       "(3, 1)"
      ]
     },
     "execution_count": 22,
     "metadata": {},
     "output_type": "execute_result"
    }
   ],
   "source": [
    "#IT WORKS. FUCK DEBUGGING.\n",
    "def sortedMatrixSearch(matrix, rowL, rowH, colL, colH, num):\n",
    "    if (rowH < rowL or colH < colL or \n",
    "        rowH > len(matrix) or rowL < 0 or\n",
    "        colH > len(matrix[0]) or colL < 0 or\n",
    "        (rowL==None or rowH==None or colL==None or colH==None)):\n",
    "        return None, None\n",
    "    \n",
    "    rowM = int((rowL + rowH)/2)\n",
    "    colM = int((colL + colH)/2)\n",
    "    \n",
    "    if num == matrix[rowM][colM]:\n",
    "        return rowM, colM\n",
    "    elif num > matrix[rowM][colM]:\n",
    "        #lower right\n",
    "        r1, l1 = sortedMatrixSearch(matrix, rowM+1, rowH, colM+1, colH, num)\n",
    "        if ((r1 != None) and (l1 != None)):\n",
    "            return r1, l1\n",
    "        #lower left:\n",
    "        r2, l2 = sortedMatrixSearch(matrix, rowM+1, rowH, colL, colM, num)\n",
    "        if ((r2 != None) and (l2 != None)):\n",
    "            return r2, l2\n",
    "        #uppepr right:L\n",
    "        r3, l3 = sortedMatrixSearch(matrix, rowL, rowM, colM+1, colH, num)\n",
    "        if ((r3 != None) and (l3 != None)):\n",
    "            return r3, l3\n",
    "        \n",
    "    elif num < matrix[rowM][colM]:\n",
    "        #upper left:\n",
    "        r1, l1 = sortedMatrixSearch(matrix, rowL, rowM-1, colL, colM-1, num)\n",
    "        if ((r1 != None) and (l1 != None)):\n",
    "            return r1, l1\n",
    "        #lower left:\n",
    "        r2, l2 = sortedMatrixSearch(matrix, rowM, rowH, colL, colM-1, num)\n",
    "        if ((r2 != None) and (l2 != None)):\n",
    "            return r2, l2\n",
    "        #upper right:\n",
    "        r3, l3 = sortedMatrixSearch(matrix, rowL, rowM-1, colM, colH, num)\n",
    "        if ((r3 != None) and (l3 != None)):\n",
    "            return r3, l3\n",
    "        \n",
    "    return None, None\n",
    "        \n",
    "matrix = [[1, 2, 3, 5, 6],\n",
    "         [ 4, 6, 7, 9, 11],\n",
    "         [7, 8, 9, 10, 13],\n",
    "         [10, 11, 14, 15, 17],\n",
    "         [11, 13, 15, 16, 20]]\n",
    "sortedMatrixSearch(matrix, 0, 4, 0, 4, 11)"
   ]
  },
  {
   "cell_type": "markdown",
   "metadata": {},
   "source": [
    "\n",
    "\n",
    "## 10.10 Rank from Stream: \n",
    "Imagine you are reading in a stream of integers. Periodically, you wish to be able\n",
    "to look up the rank of a number x (the number of values less than or equal to x). Implement the data\n",
    "structures and algorithms to support these operations. That is, implement the method track (int\n",
    "x), which is called when each number is generated, and the method getRankOfNumber(int\n",
    "x), which returns the number of values less than or equal to X (not including x itself).\n",
    "EXAMPLE\n",
    "Stream(inorderofappearance):5, 1,4,4, 5, 9, 7, 13, 3\n",
    "getRankOfNumber(l) e\n",
    "getRankOfNumber(3) 1\n",
    "getRankOfNumber(4) 3\n",
    "Hints: #301, #376, #392"
   ]
  },
  {
   "cell_type": "code",
   "execution_count": 23,
   "metadata": {},
   "outputs": [
    {
     "data": {
      "text/plain": [
       "'\\nas integers are read in, we insert each integer into a BST (track).\\n\\nwhenever we read in an integer less than an intreger currently existing\\nin the tree, the read in integer is inserted into the left subtree of\\nthose integers that already exist in the bst, and each node will have tracking\\nfor the number of nodes in its left subtree inserted. \\n\\n- u cant have a counter in the node seeing how many times this value was\\nstreamed b/c u need to have duplicates also in left subtree.\\n\\n- whenn getrank is called, it goes to the FIRST node == to this number \\nand finds thee rank of that\\n'"
      ]
     },
     "execution_count": 23,
     "metadata": {},
     "output_type": "execute_result"
    }
   ],
   "source": [
    "'''\n",
    "as integers are read in, we insert each integer into a BST (track).\n",
    "\n",
    "whenever we read in an integer less than an intreger currently existing\n",
    "in the tree, the read in integer is inserted into the left subtree of\n",
    "those integers that already exist in the bst, and each node will have tracking\n",
    "for the number of nodes in its left subtree inserted. \n",
    "\n",
    "- u cant have a counter in the node seeing how many times this value was\n",
    "streamed b/c u need to have duplicates also in left subtree.\n",
    "\n",
    "- whenn getrank is called, it goes to the FIRST node == to this number \n",
    "and finds thee rank of that\n",
    "'''\n"
   ]
  },
  {
   "cell_type": "markdown",
   "metadata": {},
   "source": [
    "\n",
    "\n",
    "## 10.11 Peaks and Valleys: \n",
    "In an array of integers, a \"peak\" is an element which is greater than or equal to\n",
    "the adjacent integers and a \"valley\" is an element which is less than or equal to the adjacent integers.\n",
    "For example, in the array {5, 8, 6, 2, 3, 4, 6}, {8, 6} are peaks and {S, 2} are valleys. Given an array\n",
    "of integers, sort the array into an alternating sequence of peaks and valleys.\n",
    "EXAMPLE\n",
    "Input: {S, 3, 1,2, 3}\n",
    "Output: {S, 1,3,2, 3}\n",
    "Hints: # 196, #219, #231, #253, #277, #292, #316"
   ]
  },
  {
   "cell_type": "code",
   "execution_count": 28,
   "metadata": {},
   "outputs": [
    {
     "data": {
      "text/plain": [
       "[1, 3, 4, 5, 6, 7, 8, 8]"
      ]
     },
     "execution_count": 28,
     "metadata": {},
     "output_type": "execute_result"
    }
   ],
   "source": [
    "arr = [1, 5, 6,8, 4, 7, 8, 3]\n",
    "arr.sort()\n",
    "arr"
   ]
  },
  {
   "cell_type": "markdown",
   "metadata": {},
   "source": [
    "time complexity is N LG N + N == N LG N. N LG N from sorting. N from parsing and appending\n",
    "space complexity is N."
   ]
  },
  {
   "cell_type": "code",
   "execution_count": 30,
   "metadata": {},
   "outputs": [
    {
     "data": {
      "text/plain": [
       "[5, 1, 3, 2, 3]"
      ]
     },
     "execution_count": 30,
     "metadata": {},
     "output_type": "execute_result"
    }
   ],
   "source": [
    "def peakvalley(arr): #brute force\n",
    "    arr.sort()\n",
    "    end = len(arr) - 1\n",
    "    beg = 0\n",
    "    N = len(arr)\n",
    "    counter = 0\n",
    "    output = []\n",
    "    while counter != len(arr):\n",
    "        if counter % 2 == 1:\n",
    "            output.append(arr[beg])\n",
    "            beg += 1\n",
    "        elif counter % 2 == 0:\n",
    "            output.append(arr[end])\n",
    "            end -= 1\n",
    "        counter += 1\n",
    "        \n",
    "    return output\n",
    "peakvalley([5, 3, 1, 2, 3])"
   ]
  },
  {
   "cell_type": "code",
   "execution_count": 33,
   "metadata": {},
   "outputs": [
    {
     "data": {
      "text/plain": [
       "[2, 1, 3, 3, 5]"
      ]
     },
     "execution_count": 33,
     "metadata": {},
     "output_type": "execute_result"
    }
   ],
   "source": [
    "#book soln 1 - after sorting the array, should just swap even and odd values.\n",
    "    #my problem is that if u have dups u dont get what u want\n",
    "def book1peakvalley(arr):\n",
    "    arr.sort()\n",
    "    i = 1\n",
    "    \n",
    "    while i < len(arr):\n",
    "        temp = arr[i]\n",
    "        arr[i] = arr[i-1]\n",
    "        arr[i-1] = temp\n",
    "        i += 2\n",
    "    return arr\n",
    "\n",
    "book1peakvalley([5, 3, 1, 2, 3])\n",
    "#here we have dups and didnt get what we want!!!"
   ]
  },
  {
   "cell_type": "code",
   "execution_count": 34,
   "metadata": {},
   "outputs": [
    {
     "data": {
      "text/plain": [
       "[2, 5, 1, 3, 3]"
      ]
     },
     "execution_count": 34,
     "metadata": {},
     "output_type": "execute_result"
    }
   ],
   "source": [
    "# book soln 2: optimal. cut out sorting operatoe on unsorted arr\n",
    "def book2peakvalley(arr):\n",
    "    i = 1\n",
    "    \n",
    "    while i < len(arr):\n",
    "        biggestIndex = arr.index(max(arr[i-1:i+2]))\n",
    "        if i != biggestIndex:\n",
    "            temp = arr[i]\n",
    "            arr[i] = arr[biggestIndex]\n",
    "            arr[biggestIndex] = temp\n",
    "        i += 2\n",
    "    \n",
    "    return arr\n",
    "book2peakvalley([5, 3, 1, 2, 3])"
   ]
  },
  {
   "cell_type": "markdown",
   "metadata": {},
   "source": [
    "## skip 11: testing , 12: C/C++ , 13: java , 14: databases "
   ]
  },
  {
   "cell_type": "markdown",
   "metadata": {},
   "source": [
    "## Chapter 15: threads and locks (7) - mostly conceptual. only 4 coding\n",
    "CODE: 15.3 - dining philo, 15.4 deadlock free lock class, 15.5 call 3 methods in order, 15.7 fizzbuzz"
   ]
  },
  {
   "cell_type": "markdown",
   "metadata": {},
   "source": [
    "### 15.l Thread vs. Process: \n",
    "What's the difference between a thread and a process?\n",
    "Hints: #405\n",
    ") J 4\n"
   ]
  },
  {
   "cell_type": "code",
   "execution_count": 35,
   "metadata": {},
   "outputs": [],
   "source": [
    "# threads are inside proccesses. see notes on OS"
   ]
  },
  {
   "cell_type": "markdown",
   "metadata": {},
   "source": [
    "\n",
    "### 15.2 Context Switch: \n",
    "How would you measure the time spent in a context switch?\n",
    "Hints: #403, #407, #415, #441"
   ]
  },
  {
   "cell_type": "code",
   "execution_count": 36,
   "metadata": {},
   "outputs": [],
   "source": [
    "# run the two processes alone. in sequence. \n",
    "#Then run both proccess at same time\n"
   ]
  },
  {
   "cell_type": "markdown",
   "metadata": {},
   "source": [
    "\n",
    "    \n",
    "### 15.3 Dining Philosophers:\n",
    "In the famous dining philosophers problem, a bunch of philosophers are\n",
    "sitting around a circular table with one chopstick between each of them. A philosopher needs\n",
    "both chopsticks to eat. and always picks up the left chopstick before the right one. A deadlock\n",
    "could potentially occur if all the philosophers reached for the left chopstick at the same time. Using\n",
    "threads and locks, implement a simulation of the dining philosophers problem that prevents deadlocks.\n",
    "Hints: #419, #437"
   ]
  },
  {
   "cell_type": "code",
   "execution_count": 49,
   "metadata": {},
   "outputs": [],
   "source": [
    "# RV LOL stupid tuples\n",
    "# you have to put a stupid comma after the fgirst arg in args for thread constructor b/c the argument\n",
    "# is a argument TUPLE. if u do a one-item tuple without a comma, it defaults to just the value."
   ]
  },
  {
   "cell_type": "code",
   "execution_count": 54,
   "metadata": {},
   "outputs": [
    {
     "name": "stdout",
     "output_type": "stream",
     "text": [
      "thread 0 reporting!1\n",
      "thread 1 reporting!2\n",
      "thread 2 reporting!5\n",
      "thread 3 reporting!10\n",
      "thread 4 reporting!17\n",
      "thread 5 reporting!26\n",
      "thread 6 reporting!37\n",
      "thread 7 reporting!50\n",
      "thread 8 reporting!65\n",
      "thread 9 reporting!82\n"
     ]
    }
   ],
   "source": [
    "#%% script false\n",
    "from threading import Thread, Lock\n",
    "\n",
    "mutex = Lock()\n",
    "array = []\n",
    "\n",
    "def processData(data, dataplus1, thread):\n",
    "    mutex.acquire()\n",
    "    try:\n",
    "        print('thread ' + str(data) + ' reporting!' + str(dataplus1+1))\n",
    "    finally:\n",
    "        mutex.release()\n",
    "\n",
    "for i in range(10):\n",
    "    t = Thread(target=processData, args = (i,i*i, t))\n",
    "    t.start()"
   ]
  },
  {
   "cell_type": "code",
   "execution_count": 48,
   "metadata": {},
   "outputs": [
    {
     "data": {
      "text/plain": [
       "(1,)"
      ]
     },
     "execution_count": 48,
     "metadata": {},
     "output_type": "execute_result"
    }
   ],
   "source": [
    "(1,)"
   ]
  },
  {
   "cell_type": "code",
   "execution_count": 52,
   "metadata": {},
   "outputs": [
    {
     "data": {
      "text/plain": [
       "'Thread-19079'"
      ]
     },
     "execution_count": 52,
     "metadata": {},
     "output_type": "execute_result"
    }
   ],
   "source": [
    "t = Thread(target=processData, args = (i,i*i))\n",
    "t.name\n",
    "t2 = Thread(target=processData, args = (i,i*i))\n",
    "t2.name"
   ]
  },
  {
   "cell_type": "code",
   "execution_count": 56,
   "metadata": {},
   "outputs": [
    {
     "data": {
      "text/plain": [
       "0.4657796730941497"
      ]
     },
     "execution_count": 56,
     "metadata": {},
     "output_type": "execute_result"
    }
   ],
   "source": [
    "import random\n",
    "random.random()"
   ]
  },
  {
   "cell_type": "code",
   "execution_count": 57,
   "metadata": {},
   "outputs": [
    {
     "data": {
      "text/plain": [
       "False"
      ]
     },
     "execution_count": 57,
     "metadata": {},
     "output_type": "execute_result"
    }
   ],
   "source": [
    "'dude' == None"
   ]
  },
  {
   "cell_type": "code",
   "execution_count": 61,
   "metadata": {},
   "outputs": [],
   "source": [
    "import random\n",
    "class Mutex:\n",
    "    def __init__(self):\n",
    "        self.acquired = False\n",
    "        self.owner = None\n",
    "        self.name = 'Mutex-' + str(random.random())\n",
    "        \n",
    "    def acquire(self, thread):\n",
    "        if self.acquired:\n",
    "            if self.owner == None:\n",
    "                print('ERROR: '+ self.name+' IS ACQUIRED BUT NO THREAD OWNER SPECIFIED. MOST LIKELY BEING RELEASED')\n",
    "                return False\n",
    "            else:\n",
    "                print('ERROR: Mutex is in possession by ' + self.owner)\n",
    "                return False\n",
    "        else:\n",
    "            if self.owner != None:\n",
    "                print('ERROR: ' + self.name + ' IS AVAILABLE BUT HAS A CURRENT OWNER '+self.owner+'. MOST LIKELY BEING RELEASED')\n",
    "                return False\n",
    "            print(thread.name + ' is beginning to acquire ' + self.name)\n",
    "            self.acquired = True\n",
    "            self.owner = thread.name\n",
    "            print(self.owner + ' has acquired ' + self.name)\n",
    "            \n",
    "    def release(self, thread):\n",
    "        if self.acquired:\n",
    "            if self.owner != thread.name:\n",
    "                print('ERROR: Mutex is owned by another thread')\n",
    "                return False\n",
    "            else: #owner is this thread\n",
    "                print(thread.name + ' is beginning to release ' + self.name)\n",
    "                self.acquired = False\n",
    "                self.name = None\n",
    "                print(thread.name + ' has released ' + self.name)\n",
    "        else:\n",
    "            print('ERROR: Cannot release a Mutex that is not currently acquired')\n",
    "            return False\n",
    "\n",
    "            "
   ]
  },
  {
   "cell_type": "code",
   "execution_count": null,
   "metadata": {},
   "outputs": [],
   "source": [
    "#there are four conditions that must occur for deadlocks\n",
    "from threading import Thread, Lock\n"
   ]
  },
  {
   "cell_type": "markdown",
   "metadata": {},
   "source": [
    "15.4 Deadlock-Free Class: Design a class which provides a lock only if there are no possible deadlocks.\n",
    "Hints: #422, #434"
   ]
  },
  {
   "cell_type": "markdown",
   "metadata": {},
   "source": [
    "\n",
    "15.5 Call In Order: Suppose we have the following code:\n",
    "public class Foo {\n",
    "public FOO() { ••• }\n",
    "}\n",
    "public void first() { ••• }\n",
    "public void second() { ••• }\n",
    "public void third() { .• • }\n",
    "The same instance of Foo will be passed to three different threads. ThreadA will call first,\n",
    "threadB will call second, and threadC will call third. Design a mechanism to ensure that\n",
    "first is called before second and second is called before third.\n",
    "Hints: #417, #433, #446\n"
   ]
  },
  {
   "cell_type": "markdown",
   "metadata": {},
   "source": [
    "\n",
    "15.6 Synchronized Methods: You are given a class with synchronized method A and a normal method\n",
    "B. lf you have two threads in one instance of a program, can they both execute A at the same time?\n",
    "Can they execute A and B at the same time?\n",
    "Hints: #429"
   ]
  },
  {
   "cell_type": "code",
   "execution_count": 62,
   "metadata": {},
   "outputs": [
    {
     "data": {
      "text/plain": [
       "'\\nkey concept to remember is that only one synchronized method can be in execution per\\ninstance of that object. Other threads can execute non-synchronized methods on that instance, or they can\\nexecute any method on a different instance of the object.\\n'"
      ]
     },
     "execution_count": 62,
     "metadata": {},
     "output_type": "execute_result"
    }
   ],
   "source": [
    "'''\n",
    "key concept to remember is that only one synchronized method can be in execution per\n",
    "instance of that object. Other threads can execute non-synchronized methods on that instance, or they can\n",
    "execute any method on a different instance of the object.\n",
    "'''\n",
    "\n",
    "#if two have two threads in one instance of a program, and both are executing A from the same object instance, then NO\n",
    "\n",
    "#if two have two threads in one instance of a program, and each is executing A from two separate object instances, YES\n",
    "\n",
    "\n",
    "#you can execute a single synchronized method A with any number of normal methods B at the same time as much as u want"
   ]
  },
  {
   "cell_type": "markdown",
   "metadata": {},
   "source": [
    "\n",
    "\n",
    "15.7 FizzBuzz: In the classic problem FizzBuzz, you are told to print the numbers from 1 to n. However,\n",
    "when the number is divisible by 3, print \"Fizz': When it is divisible by 5, print \"Buzz': When it is divisible\n",
    "by 3 and 5, print \"FizzBuzz': In this problem, you are asked to do this in a multithreaded way.\n",
    "Implement a multithreaded version of FizzBuzz with four threads. One thread checks for divisibility\n",
    "of 3 and prints \"Fizz': Another thread is responsible for divisibility of 5 and prints \"Buzz': A third thread\n",
    "is responsible for divisibility of 3 and 5 and prints \"FizzBuzz\". A fourth thread does the numbers.\n",
    "Hints: #414, #439, #447, #458"
   ]
  },
  {
   "cell_type": "markdown",
   "metadata": {},
   "source": [
    "## MODERATE"
   ]
  },
  {
   "cell_type": "markdown",
   "metadata": {},
   "source": [
    "## HARD"
   ]
  },
  {
   "cell_type": "code",
   "execution_count": null,
   "metadata": {},
   "outputs": [],
   "source": []
  }
 ],
 "metadata": {
  "kernelspec": {
   "display_name": "Python 3",
   "language": "python",
   "name": "python3"
  },
  "language_info": {
   "codemirror_mode": {
    "name": "ipython",
    "version": 3
   },
   "file_extension": ".py",
   "mimetype": "text/x-python",
   "name": "python",
   "nbconvert_exporter": "python",
   "pygments_lexer": "ipython3",
   "version": "3.6.5"
  }
 },
 "nbformat": 4,
 "nbformat_minor": 2
}
