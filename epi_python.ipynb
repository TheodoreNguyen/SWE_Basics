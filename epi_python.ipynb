{
 "cells": [
  {
   "cell_type": "markdown",
   "metadata": {},
   "source": [
    "# EPI in python3."
   ]
  },
  {
   "cell_type": "markdown",
   "metadata": {},
   "source": [
    "## Introduction problem: \n",
    "Given three arrays of length N, labeled L, H, B, where the at the i-th index of each array represents the stock price of a company on the i-th day of trading. More specifically, L[i] is the lowest price, H[i] is the highest price, and B[i] is the initial price (when the trading day starts), the stock reaches on the i-th day. Find the maximum possible profit someone could have made assuming they can only buy-sell at the beginning of the day"
   ]
  },
  {
   "cell_type": "markdown",
   "metadata": {},
   "source": [
    "### soln1 - brute force"
   ]
  },
  {
   "cell_type": "code",
   "execution_count": null,
   "metadata": {},
   "outputs": [],
   "source": [
    "#unfortunately ive read a bit ahead and I know i can't just get the difference of the maximum and mininmum numbers in the array of B - it has to be in sequence. (i have to buy before i sell)\n",
    "def max_margin(P):\n",
    "    # the first day is the first we can buy, so lets just say we buy that day and instead interate our array starting from the 1st instead of the 0th element\n",
    "    curr_max_diff = 0\n",
    "    \n",
    "    #i dont know how else to do it cleaner =)\n",
    "    indexList = list(range(len(P)))\n",
    "    \n",
    "    for Bindex in indexList:\n",
    "        for Sindex in [Bindex+1:]:\n",
    "            if curr_max_diff > P[Sindex] - P[Bindex]:\n",
    "                curr_max_diff = P[Sindex] - P[Bindex]\n",
    "        "
   ]
  },
  {
   "cell_type": "code",
   "execution_count": null,
   "metadata": {},
   "outputs": [],
   "source": [
    "float max_margin(float P[]; int N)\n",
    "{\n",
    "    for(int i = 0; i != N, i++)\n",
    "    {\n",
    "        for(int j = i; j != N; j++)\n",
    "        {\n",
    "            if(curr_max_diff > P[j] - P[i])\n",
    "            {\n",
    "                curr_max_diff = P[j] - P[i]\n",
    "            }\n",
    "        }\n",
    "    }\n",
    "}"
   ]
  },
  {
   "cell_type": "markdown",
   "metadata": {},
   "source": [
    "TIME COMPLEXITY:\n",
    "Outer loop evoked n-1 times inner loop evoked n-1-i times. so complexity is sum[i=0 to n-2] of (n-1-i) = (n-1)*n/2 = n^2\n",
    "I personally think here the outer is evoked N times and the inner is evoked n-i times. So we just multiply them and get n-i * n = n^2 - ni = n^2\n",
    "\n",
    "SPACE COMPLEXITY:\n",
    "- counter is necessary\n",
    "- extra list is wasted. "
   ]
  },
  {
   "cell_type": "markdown",
   "metadata": {},
   "source": [
    "#### Note: use i for the index in cases like these for time complexity"
   ]
  },
  {
   "cell_type": "markdown",
   "metadata": {},
   "source": [
    "### soln2 - divide and conquer -- too complicated"
   ]
  },
  {
   "cell_type": "markdown",
   "metadata": {},
   "source": [
    "### soln3 - O(n)"
   ]
  },
  {
   "cell_type": "code",
   "execution_count": null,
   "metadata": {},
   "outputs": [],
   "source": [
    "#solution aattempt\n",
    "def max_margin(P):\n",
    "    buy = None\n",
    "    sell = None\n",
    "    margin = None\n",
    "    for index in range(len(P)):\n",
    "        if buy == None and sell == None and margin == None:\n",
    "            buy = P[index]\n",
    "            sell = P[index]\n",
    "            margin = sell - buy\n",
    "        else:\n",
    "            #check sell today from current carried buy\n",
    "            strike = P[index]\n",
    "            localmargin = strike - buy\n",
    "            if localmargin > margin:\n",
    "                margin = localmargin\n",
    "                sell = strike\n",
    "            if "
   ]
  },
  {
   "cell_type": "code",
   "execution_count": 22,
   "metadata": {},
   "outputs": [
    {
     "data": {
      "text/plain": [
       "True"
      ]
     },
     "execution_count": 22,
     "metadata": {},
     "output_type": "execute_result"
    }
   ],
   "source": [
    "-float('Inf') < -999999999999999"
   ]
  },
  {
   "cell_type": "code",
   "execution_count": 34,
   "metadata": {},
   "outputs": [],
   "source": [
    "from pdb import set_trace"
   ]
  },
  {
   "cell_type": "code",
   "execution_count": 43,
   "metadata": {},
   "outputs": [],
   "source": [
    "# solution\n",
    "def max_margin(P):\n",
    "    maxMargin = -float('inf')\n",
    "    minPrice = float('inf')\n",
    "    for strike in P:\n",
    "        if strike < minPrice:\n",
    "            minPrice = strike\n",
    "        else:\n",
    "            localMargin = strike - minPrice\n",
    "            if localMargin > maxMargin:\n",
    "                maxMargin = localMargin\n",
    "                \n",
    "    return maxMargin"
   ]
  },
  {
   "cell_type": "code",
   "execution_count": 44,
   "metadata": {},
   "outputs": [],
   "source": [
    "arr = [310, 315, 275, 295, 260, 270, 290, 230, 255, 250]"
   ]
  },
  {
   "cell_type": "code",
   "execution_count": 45,
   "metadata": {},
   "outputs": [
    {
     "data": {
      "text/plain": [
       "30"
      ]
     },
     "execution_count": 45,
     "metadata": {},
     "output_type": "execute_result"
    }
   ],
   "source": [
    "max_margin(arr)"
   ]
  },
  {
   "cell_type": "code",
   "execution_count": null,
   "metadata": {},
   "outputs": [],
   "source": [
    "float max_margin(P)\n",
    "{\n",
    "    minPrice = P[0]\n",
    "    maxMargin = 0\n",
    "    for(int i = 1; i != N; i++)\n",
    "    {\n",
    "        strike = P[i]\n",
    "        if (strike < minPrice)\n",
    "        {\n",
    "            minPrice = strike\n",
    "        }\n",
    "        else\n",
    "        {\n",
    "            localMargin = strike - minPrice\n",
    "            if (localMargin > maxMargin)\n",
    "            {\n",
    "                maxMargin = localMargin\n",
    "            }\n",
    "        }\n",
    "    }\n",
    "    return maxMargin\n",
    "}"
   ]
  },
  {
   "cell_type": "markdown",
   "metadata": {},
   "source": [
    "### NOTE: cant initialize maxmargin to zero cuz ur assuming there is a positive margin! do float('inf') and -float('inf') gives you positve and negative infinity"
   ]
  },
  {
   "cell_type": "markdown",
   "metadata": {},
   "source": [
    "Time complexity:\n",
    "O(N) - i only iterate through the array once\n",
    "\n",
    "space complexity:\n",
    "should be O(1), but i have local vars "
   ]
  },
  {
   "cell_type": "markdown",
   "metadata": {},
   "source": [
    "### VARIANT: write a program that takes an array of integers and finds the length of a longest subarray all of whose entries are equal"
   ]
  },
  {
   "cell_type": "markdown",
   "metadata": {},
   "source": [
    "### subsequence definition - this means that it is literally asking for the frequency of the most frequent element"
   ]
  },
  {
   "cell_type": "code",
   "execution_count": null,
   "metadata": {},
   "outputs": [],
   "source": [
    "#brute force via dictionary\n",
    "def max_len_subarr_equal_entries(array):\n",
    "    #will hold keys which are elements of the array, and values which are occurrances of this element in the array\n",
    "    counterdict = {}\n",
    "    #go through each element of the array\n",
    "    for integer in array:\n",
    "        #if it is not inside the dictionart keys, put it inside!\n",
    "        if integer not in counterdict.keys():\n",
    "            counterdict[integer] = 1\n",
    "        #if it is inside the dictionary keys, increment the value counter for it by 1\n",
    "        else:\n",
    "            counterdict[integer] += 1\n",
    "    #set a counter for the maximum occurring element\n",
    "    max_occur = 0\n",
    "    #go through each of the occurring integers\n",
    "    for integer in counterdict.values():\n",
    "        if max_occur < integer:\n",
    "            max_occur = integer\n",
    "    ''' or just do max_occur = max(counterdict.values())'''\n",
    "    return max_occur"
   ]
  },
  {
   "cell_type": "code",
   "execution_count": null,
   "metadata": {},
   "outputs": [],
   "source": [
    "#brute force via arrays\n",
    "def max_len_subarr_equal_entries(array):\n",
    "    uniqueInts = []\n",
    "    counters = []\n",
    "    for integer in array:\n",
    "        if integer not in uniqueInts:\n",
    "            uniqueInts.append(integer)\n",
    "            counters.append(1)\n",
    "        else:\n",
    "            for index in range(len(uniqueInts)):\n",
    "                if uniqueInts[index] == integer:\n",
    "                    counters[index] += 1\n",
    "    max_occur = 0\n",
    "    for index in range(len(uniqueInts)):\n",
    "        if max_occur < counters[index]:\n",
    "            max_occur = counters[index]\n",
    "    '''or just do max_occur = max(counters)'''\n",
    "    return max_occur\n",
    "    "
   ]
  },
  {
   "cell_type": "markdown",
   "metadata": {},
   "source": [
    "Time complexity is at worst N + N = 2N = O(N)\n",
    "space complexity is at worst O(N) "
   ]
  },
  {
   "cell_type": "markdown",
   "metadata": {},
   "source": [
    "### continuous subarray definition"
   ]
  },
  {
   "cell_type": "code",
   "execution_count": 58,
   "metadata": {},
   "outputs": [
    {
     "data": {
      "text/plain": [
       "True"
      ]
     },
     "execution_count": 58,
     "metadata": {},
     "output_type": "execute_result"
    }
   ],
   "source": [
    "type(arr) == type(list())"
   ]
  },
  {
   "cell_type": "code",
   "execution_count": 59,
   "metadata": {},
   "outputs": [],
   "source": [
    "def max_len_subarr_equal_entries(array):\n",
    "    \n",
    "    if type(array) != type(list()):\n",
    "        return None\n",
    "    #if the array is empty then the longest continuous identical subarray has length zero too!\n",
    "    if len(array) <= 0:\n",
    "        return 0\n",
    "    if type(array[0]) != type(int()):\n",
    "        return None\n",
    "    '''\n",
    "    #if the array has a length 1 then the longest continuous identiical subarray is itself, the single element\n",
    "    elif len(array) == 1:\n",
    "        return 1\n",
    "    # YOU DONT ACTUALLY NEED THIS! doing arr[1:] where arr only has a single element will yield an empty array, and iterating through an empty array ends immediately.\n",
    "    '''\n",
    "    #create a coiunter for the maximum, as well as the local \n",
    "    max_counter = 1\n",
    "    local_counter = 1\n",
    "    #set the 'counter' to the first element of the array\n",
    "    current_element = array[0]\n",
    "    #iterate through the 2nd to the Nth element of the array\n",
    "    for element in array[1:]:\n",
    "        if element == current_element:\n",
    "            local_counter += 1\n",
    "        else:\n",
    "            current_element = element\n",
    "            if local_counter > max_counter:\n",
    "                max_counter = local_counter\n",
    "                local_counter = 1\n",
    "    \n",
    "    return max_counter\n"
   ]
  },
  {
   "cell_type": "markdown",
   "metadata": {},
   "source": [
    " Time complexity is N-1 = O(N)\n",
    " space complexity is O(1)"
   ]
  },
  {
   "cell_type": "code",
   "execution_count": 60,
   "metadata": {},
   "outputs": [
    {
     "ename": "SyntaxError",
     "evalue": "invalid syntax (<ipython-input-60-fa3c814c8cee>, line 1)",
     "output_type": "error",
     "traceback": [
      "\u001b[0;36m  File \u001b[0;32m\"<ipython-input-60-fa3c814c8cee>\"\u001b[0;36m, line \u001b[0;32m1\u001b[0m\n\u001b[0;31m    Scenario 2: finals cram, 7 days -\u001b[0m\n\u001b[0m             ^\u001b[0m\n\u001b[0;31mSyntaxError\u001b[0m\u001b[0;31m:\u001b[0m invalid syntax\n"
     ]
    }
   ],
   "source": [
    "Scenario 2: finals cram, 7 days - \n",
    "4.8\n",
    "5.2, 5.17\n",
    "6.5, 6.6\n",
    "7.4, 7.7\n",
    "8.2, 8.8\n",
    "9.2, 9.12\n",
    "10.3\n",
    "11.3, 11.9\n",
    "12.1, 12.6\n",
    "13.5\n",
    "14.4, 14.8\n",
    "15.3\n",
    "16.3, 16.6\n",
    "17.5\n",
    "18.2\n",
    "19.8\n",
    "20.16\n"
   ]
  },
  {
   "cell_type": "markdown",
   "metadata": {},
   "source": [
    "## Chapter 4: Primtive types bootcamp"
   ]
  },
  {
   "cell_type": "markdown",
   "metadata": {},
   "source": [
    "- programs update variables in memory\n",
    "- variables are in types\n",
    "- types are classifcation of data that signifies (1) what values the var can take and (2) what operations can be performs on the var\n",
    "- all types and vars are objects in python whether they are user-defined or standard library"
   ]
  },
  {
   "cell_type": "markdown",
   "metadata": {},
   "source": [
    "#### Write a program to count number of bits set to 1 in an unsigned integer. Use bit-stuff"
   ]
  },
  {
   "cell_type": "code",
   "execution_count": 66,
   "metadata": {},
   "outputs": [
    {
     "data": {
      "text/plain": [
       "'0b10100111001'"
      ]
     },
     "execution_count": 66,
     "metadata": {},
     "output_type": "execute_result"
    }
   ],
   "source": [
    "bin(1337)"
   ]
  },
  {
   "cell_type": "code",
   "execution_count": 68,
   "metadata": {},
   "outputs": [
    {
     "data": {
      "text/plain": [
       "'0b10100110010'"
      ]
     },
     "execution_count": 68,
     "metadata": {},
     "output_type": "execute_result"
    }
   ],
   "source": [
    "bin(1330)"
   ]
  },
  {
   "cell_type": "code",
   "execution_count": 69,
   "metadata": {},
   "outputs": [
    {
     "data": {
      "text/plain": [
       "'0b10100110000'"
      ]
     },
     "execution_count": 69,
     "metadata": {},
     "output_type": "execute_result"
    }
   ],
   "source": [
    "bin(1330 & 1337)"
   ]
  },
  {
   "cell_type": "code",
   "execution_count": 70,
   "metadata": {},
   "outputs": [
    {
     "data": {
      "text/plain": [
       "'0b1'"
      ]
     },
     "execution_count": 70,
     "metadata": {},
     "output_type": "execute_result"
    }
   ],
   "source": [
    "bin(1337 & 1)"
   ]
  },
  {
   "cell_type": "code",
   "execution_count": 71,
   "metadata": {},
   "outputs": [
    {
     "data": {
      "text/plain": [
       "'0b0'"
      ]
     },
     "execution_count": 71,
     "metadata": {},
     "output_type": "execute_result"
    }
   ],
   "source": [
    "bin(1330 & 1)"
   ]
  },
  {
   "cell_type": "code",
   "execution_count": 72,
   "metadata": {},
   "outputs": [
    {
     "data": {
      "text/plain": [
       "'0b10'"
      ]
     },
     "execution_count": 72,
     "metadata": {},
     "output_type": "execute_result"
    }
   ],
   "source": [
    "bin(2)"
   ]
  },
  {
   "cell_type": "code",
   "execution_count": 74,
   "metadata": {},
   "outputs": [
    {
     "data": {
      "text/plain": [
       "'0b0'"
      ]
     },
     "execution_count": 74,
     "metadata": {},
     "output_type": "execute_result"
    }
   ],
   "source": [
    "bin(1337 & 2)"
   ]
  },
  {
   "cell_type": "markdown",
   "metadata": {},
   "source": [
    "- recall rules for bit extension. for positive, extend 0s leftward, for negative extend 1s leftward, both to whatever desired length needed to compare to the larger magnitude value\n",
    "- specifically above, we have 1 as just 1 in bits, and we have 1337 as 10100111001 in bits. then we extend 1 to 00000000001 in bits which allows us to do whatever bitwise ops between the two."
   ]
  },
  {
   "cell_type": "code",
   "execution_count": null,
   "metadata": {},
   "outputs": [],
   "source": [
    "def count_bits(Int):\n",
    "    # there exists a bit 1 in the rightmost digit IFF 0000001 & the number yields 1.\n",
    "    #create a counter\n",
    "    num_bits = 0\n",
    "    #while the inputted value is not zero (eventually once we shift enough its zero)\n",
    "    while Int:\n",
    "        #if the number has a bit in the rightmost, then num & 1 = 1, so add that to ctr\n",
    "        num_bits += Int & 1\n",
    "        #shift the bits to the right to look at the next digit\n",
    "        Int >>= 1\n",
    "    return num_bits"
   ]
  },
  {
   "cell_type": "markdown",
   "metadata": {},
   "source": [
    "O(N) time complexity where N is number of bits needed to represent the integer. \n"
   ]
  },
  {
   "cell_type": "markdown",
   "metadata": {},
   "source": [
    "### Python built-in types:\n",
    "numerics, sequences, mappings, classes, instances, exceptions (all are objects)"
   ]
  }
 ],
 "metadata": {
  "kernelspec": {
   "display_name": "Python 3",
   "language": "python",
   "name": "python3"
  },
  "language_info": {
   "codemirror_mode": {
    "name": "ipython",
    "version": 3
   },
   "file_extension": ".py",
   "mimetype": "text/x-python",
   "name": "python",
   "nbconvert_exporter": "python",
   "pygments_lexer": "ipython3",
   "version": "3.6.5"
  }
 },
 "nbformat": 4,
 "nbformat_minor": 2
}
