{
 "cells": [
  {
   "cell_type": "markdown",
   "metadata": {},
   "source": [
    "# EPI in python3."
   ]
  },
  {
   "cell_type": "markdown",
   "metadata": {},
   "source": [
    "## Introduction problem: \n",
    "Given three arrays of length N, labeled L, H, B, where the at the i-th index of each array represents the stock price of a company on the i-th day of trading. More specifically, L[i] is the lowest price, H[i] is the highest price, and B[i] is the initial price (when the trading day starts), the stock reaches on the i-th day. Find the maximum possible profit someone could have made assuming they can only buy-sell at the beginning of the day"
   ]
  },
  {
   "cell_type": "markdown",
   "metadata": {},
   "source": [
    "### soln1 - brute force"
   ]
  },
  {
   "cell_type": "code",
   "execution_count": null,
   "metadata": {},
   "outputs": [],
   "source": [
    "#unfortunately ive read a bit ahead and I know i can't just get the difference of the maximum and mininmum numbers in the array of B - it has to be in sequence. (i have to buy before i sell)\n",
    "def max_margin(P):\n",
    "    # the first day is the first we can buy, so lets just say we buy that day and instead interate our array starting from the 1st instead of the 0th element\n",
    "    curr_max_diff = 0\n",
    "    \n",
    "    #i dont know how else to do it cleaner =)\n",
    "    indexList = list(range(len(P)))\n",
    "    \n",
    "    for Bindex in indexList:\n",
    "        for Sindex in [Bindex+1:]:\n",
    "            if curr_max_diff > P[Sindex] - P[Bindex]:\n",
    "                curr_max_diff = P[Sindex] - P[Bindex]\n",
    "        "
   ]
  },
  {
   "cell_type": "code",
   "execution_count": null,
   "metadata": {},
   "outputs": [],
   "source": [
    "float max_margin(float P[]; int N)\n",
    "{\n",
    "    for(int i = 0; i != N, i++)\n",
    "    {\n",
    "        for(int j = i; j != N; j++)\n",
    "        {\n",
    "            if(curr_max_diff > P[j] - P[i])\n",
    "            {\n",
    "                curr_max_diff = P[j] - P[i]\n",
    "            }\n",
    "        }\n",
    "    }\n",
    "}"
   ]
  },
  {
   "cell_type": "markdown",
   "metadata": {},
   "source": [
    "TIME COMPLEXITY:\n",
    "Outer loop evoked n-1 times inner loop evoked n-1-i times. so complexity is sum[i=0 to n-2] of (n-1-i) = (n-1)*n/2 = n^2\n",
    "I personally think here the outer is evoked N times and the inner is evoked n-i times. So we just multiply them and get n-i * n = n^2 - ni = n^2\n",
    "\n",
    "SPACE COMPLEXITY:\n",
    "- counter is necessary\n",
    "- extra list is wasted. "
   ]
  },
  {
   "cell_type": "markdown",
   "metadata": {},
   "source": [
    "#### Note: use i for the index in cases like these for time complexity"
   ]
  },
  {
   "cell_type": "markdown",
   "metadata": {},
   "source": [
    "### soln2 - divide and conquer -- too complicated"
   ]
  },
  {
   "cell_type": "markdown",
   "metadata": {},
   "source": [
    "### soln3 - O(n)"
   ]
  },
  {
   "cell_type": "code",
   "execution_count": null,
   "metadata": {},
   "outputs": [],
   "source": [
    "#solution aattempt\n",
    "def max_margin(P):\n",
    "    buy = None\n",
    "    sell = None\n",
    "    margin = None\n",
    "    for index in range(len(P)):\n",
    "        if buy == None and sell == None and margin == None:\n",
    "            buy = P[index]\n",
    "            sell = P[index]\n",
    "            margin = sell - buy\n",
    "        else:\n",
    "            #check sell today from current carried buy\n",
    "            strike = P[index]\n",
    "            localmargin = strike - buy\n",
    "            if localmargin > margin:\n",
    "                margin = localmargin\n",
    "                sell = strike\n",
    "            if "
   ]
  },
  {
   "cell_type": "code",
   "execution_count": 22,
   "metadata": {},
   "outputs": [
    {
     "data": {
      "text/plain": [
       "True"
      ]
     },
     "execution_count": 22,
     "metadata": {},
     "output_type": "execute_result"
    }
   ],
   "source": [
    "-float('Inf') < -999999999999999"
   ]
  },
  {
   "cell_type": "code",
   "execution_count": 34,
   "metadata": {},
   "outputs": [],
   "source": [
    "from pdb import set_trace"
   ]
  },
  {
   "cell_type": "code",
   "execution_count": 43,
   "metadata": {},
   "outputs": [],
   "source": [
    "# solution\n",
    "def max_margin(P):\n",
    "    maxMargin = -float('inf')\n",
    "    minPrice = float('inf')\n",
    "    for strike in P:\n",
    "        if strike < minPrice:\n",
    "            minPrice = strike\n",
    "        else:\n",
    "            localMargin = strike - minPrice\n",
    "            if localMargin > maxMargin:\n",
    "                maxMargin = localMargin\n",
    "                \n",
    "    return maxMargin"
   ]
  },
  {
   "cell_type": "code",
   "execution_count": 44,
   "metadata": {},
   "outputs": [],
   "source": [
    "arr = [310, 315, 275, 295, 260, 270, 290, 230, 255, 250]"
   ]
  },
  {
   "cell_type": "code",
   "execution_count": 45,
   "metadata": {},
   "outputs": [
    {
     "data": {
      "text/plain": [
       "30"
      ]
     },
     "execution_count": 45,
     "metadata": {},
     "output_type": "execute_result"
    }
   ],
   "source": [
    "max_margin(arr)"
   ]
  },
  {
   "cell_type": "code",
   "execution_count": null,
   "metadata": {},
   "outputs": [],
   "source": [
    "float max_margin(P)\n",
    "{\n",
    "    minPrice = P[0]\n",
    "    maxMargin = 0\n",
    "    for(int i = 1; i != N; i++)\n",
    "    {\n",
    "        strike = P[i]\n",
    "        if (strike < minPrice)\n",
    "        {\n",
    "            minPrice = strike\n",
    "        }\n",
    "        else\n",
    "        {\n",
    "            localMargin = strike - minPrice\n",
    "            if (localMargin > maxMargin)\n",
    "            {\n",
    "                maxMargin = localMargin\n",
    "            }\n",
    "        }\n",
    "    }\n",
    "    return maxMargin\n",
    "}"
   ]
  },
  {
   "cell_type": "markdown",
   "metadata": {},
   "source": [
    "### NOTE: cant initialize maxmargin to zero cuz ur assuming there is a positive margin! do float('inf') and -float('inf') gives you positve and negative infinity"
   ]
  },
  {
   "cell_type": "markdown",
   "metadata": {},
   "source": [
    "Time complexity:\n",
    "O(N) - i only iterate through the array once\n",
    "\n",
    "space complexity:\n",
    "should be O(1), but i have local vars "
   ]
  },
  {
   "cell_type": "markdown",
   "metadata": {},
   "source": [
    "### VARIANT: write a program that takes an array of integers and finds the length of a longest subarray all of whose entries are equal"
   ]
  },
  {
   "cell_type": "markdown",
   "metadata": {},
   "source": [
    "### subsequence definition - this means that it is literally asking for the frequency of the most frequent element"
   ]
  },
  {
   "cell_type": "code",
   "execution_count": null,
   "metadata": {},
   "outputs": [],
   "source": [
    "#brute force via dictionary\n",
    "def max_len_subarr_equal_entries(array):\n",
    "    #will hold keys which are elements of the array, and values which are occurrances of this element in the array\n",
    "    counterdict = {}\n",
    "    #go through each element of the array\n",
    "    for integer in array:\n",
    "        #if it is not inside the dictionart keys, put it inside!\n",
    "        if integer not in counterdict.keys():\n",
    "            counterdict[integer] = 1\n",
    "        #if it is inside the dictionary keys, increment the value counter for it by 1\n",
    "        else:\n",
    "            counterdict[integer] += 1\n",
    "    #set a counter for the maximum occurring element\n",
    "    max_occur = 0\n",
    "    #go through each of the occurring integers\n",
    "    for integer in counterdict.values():\n",
    "        if max_occur < integer:\n",
    "            max_occur = integer\n",
    "    ''' or just do max_occur = max(counterdict.values())'''\n",
    "    return max_occur"
   ]
  },
  {
   "cell_type": "code",
   "execution_count": null,
   "metadata": {},
   "outputs": [],
   "source": [
    "#brute force via arrays\n",
    "def max_len_subarr_equal_entries(array):\n",
    "    uniqueInts = []\n",
    "    counters = []\n",
    "    for integer in array:\n",
    "        if integer not in uniqueInts:\n",
    "            uniqueInts.append(integer)\n",
    "            counters.append(1)\n",
    "        else:\n",
    "            for index in range(len(uniqueInts)):\n",
    "                if uniqueInts[index] == integer:\n",
    "                    counters[index] += 1\n",
    "    max_occur = 0\n",
    "    for index in range(len(uniqueInts)):\n",
    "        if max_occur < counters[index]:\n",
    "            max_occur = counters[index]\n",
    "    '''or just do max_occur = max(counters)'''\n",
    "    return max_occur\n",
    "    "
   ]
  },
  {
   "cell_type": "markdown",
   "metadata": {},
   "source": [
    "Time complexity is at worst N + N = 2N = O(N)\n",
    "space complexity is at worst O(N) "
   ]
  },
  {
   "cell_type": "markdown",
   "metadata": {},
   "source": [
    "### continuous subarray definition"
   ]
  },
  {
   "cell_type": "code",
   "execution_count": 58,
   "metadata": {},
   "outputs": [
    {
     "data": {
      "text/plain": [
       "True"
      ]
     },
     "execution_count": 58,
     "metadata": {},
     "output_type": "execute_result"
    }
   ],
   "source": [
    "type(arr) == type(list())"
   ]
  },
  {
   "cell_type": "code",
   "execution_count": 59,
   "metadata": {},
   "outputs": [],
   "source": [
    "def max_len_subarr_equal_entries(array):\n",
    "    \n",
    "    if type(array) != type(list()):\n",
    "        return None\n",
    "    #if the array is empty then the longest continuous identical subarray has length zero too!\n",
    "    if len(array) <= 0:\n",
    "        return 0\n",
    "    if type(array[0]) != type(int()):\n",
    "        return None\n",
    "    '''\n",
    "    #if the array has a length 1 then the longest continuous identiical subarray is itself, the single element\n",
    "    elif len(array) == 1:\n",
    "        return 1\n",
    "    # YOU DONT ACTUALLY NEED THIS! doing arr[1:] where arr only has a single element will yield an empty array, and iterating through an empty array ends immediately.\n",
    "    '''\n",
    "    #create a coiunter for the maximum, as well as the local \n",
    "    max_counter = 1\n",
    "    local_counter = 1\n",
    "    #set the 'counter' to the first element of the array\n",
    "    current_element = array[0]\n",
    "    #iterate through the 2nd to the Nth element of the array\n",
    "    for element in array[1:]:\n",
    "        if element == current_element:\n",
    "            local_counter += 1\n",
    "        else:\n",
    "            current_element = element\n",
    "            if local_counter > max_counter:\n",
    "                max_counter = local_counter\n",
    "                local_counter = 1\n",
    "    \n",
    "    return max_counter\n"
   ]
  },
  {
   "cell_type": "markdown",
   "metadata": {},
   "source": [
    " Time complexity is N-1 = O(N)\n",
    " space complexity is O(1)"
   ]
  },
  {
   "cell_type": "code",
   "execution_count": 75,
   "metadata": {},
   "outputs": [],
   "source": [
    "%%script false\n",
    "Scenario 2: finals cram, 7 days - \n",
    "4.8\n",
    "5.2, 5.17\n",
    "6.5, 6.6\n",
    "7.4, 7.7\n",
    "8.2, 8.8\n",
    "9.2, 9.12\n",
    "10.3\n",
    "11.3, 11.9\n",
    "12.1, 12.6\n",
    "13.5\n",
    "14.4, 14.8\n",
    "15.3\n",
    "16.3, 16.6\n",
    "17.5\n",
    "18.2\n",
    "19.8\n",
    "20.16\n"
   ]
  },
  {
   "cell_type": "markdown",
   "metadata": {},
   "source": [
    "## Chapter 4: Primtive types bootcamp"
   ]
  },
  {
   "cell_type": "markdown",
   "metadata": {},
   "source": [
    "- programs update variables in memory\n",
    "- variables are in types\n",
    "- types are classifcation of data that signifies (1) what values the var can take and (2) what operations can be performs on the var\n",
    "- all types and vars are objects in python whether they are user-defined or standard library"
   ]
  },
  {
   "cell_type": "markdown",
   "metadata": {},
   "source": [
    "#### Write a program to count number of bits set to 1 in an unsigned integer. Use bit-stuff"
   ]
  },
  {
   "cell_type": "code",
   "execution_count": 66,
   "metadata": {},
   "outputs": [
    {
     "data": {
      "text/plain": [
       "'0b10100111001'"
      ]
     },
     "execution_count": 66,
     "metadata": {},
     "output_type": "execute_result"
    }
   ],
   "source": [
    "bin(1337)"
   ]
  },
  {
   "cell_type": "code",
   "execution_count": 68,
   "metadata": {},
   "outputs": [
    {
     "data": {
      "text/plain": [
       "'0b10100110010'"
      ]
     },
     "execution_count": 68,
     "metadata": {},
     "output_type": "execute_result"
    }
   ],
   "source": [
    "bin(1330)"
   ]
  },
  {
   "cell_type": "code",
   "execution_count": 69,
   "metadata": {},
   "outputs": [
    {
     "data": {
      "text/plain": [
       "'0b10100110000'"
      ]
     },
     "execution_count": 69,
     "metadata": {},
     "output_type": "execute_result"
    }
   ],
   "source": [
    "bin(1330 & 1337)"
   ]
  },
  {
   "cell_type": "code",
   "execution_count": 70,
   "metadata": {},
   "outputs": [
    {
     "data": {
      "text/plain": [
       "'0b1'"
      ]
     },
     "execution_count": 70,
     "metadata": {},
     "output_type": "execute_result"
    }
   ],
   "source": [
    "bin(1337 & 1)"
   ]
  },
  {
   "cell_type": "code",
   "execution_count": 71,
   "metadata": {},
   "outputs": [
    {
     "data": {
      "text/plain": [
       "'0b0'"
      ]
     },
     "execution_count": 71,
     "metadata": {},
     "output_type": "execute_result"
    }
   ],
   "source": [
    "bin(1330 & 1)"
   ]
  },
  {
   "cell_type": "code",
   "execution_count": 72,
   "metadata": {},
   "outputs": [
    {
     "data": {
      "text/plain": [
       "'0b10'"
      ]
     },
     "execution_count": 72,
     "metadata": {},
     "output_type": "execute_result"
    }
   ],
   "source": [
    "bin(2)"
   ]
  },
  {
   "cell_type": "markdown",
   "metadata": {},
   "source": [
    "1 has bit value 000....001, so performing an AND operation on any other datatype\n",
    "will zero out all bit values except for the first (rightmost) bit value, hence converting all values that are not one to one. therefore, the expression:\n",
    "\n",
    "x & 1 \n",
    "\n",
    "will always yield 1\n",
    "\n",
    "1 is a good bitmask"
   ]
  },
  {
   "cell_type": "code",
   "execution_count": null,
   "metadata": {},
   "outputs": [],
   "source": [
    "def count_ones_in_int(uint):\n",
    "    '''\n",
    "    return number of 1 bits in this unisnged int\n",
    "    '''\n",
    "    #set a counter to count the number of 1 bits\n",
    "    num_of_bits = 0\n",
    "    #left shift continuously until you get zero\n",
    "    while uint != 0:\n",
    "        # bitwise ANDing a value with 1 will yield 1 or 0 depending on if it has a 1 in th eleftmost bit\n",
    "        num_of_bits += uint & 1\n",
    "        uint >>= 1\n",
    "    return num_of_bits"
   ]
  },
  {
   "cell_type": "code",
   "execution_count": 74,
   "metadata": {},
   "outputs": [
    {
     "data": {
      "text/plain": [
       "'0b0'"
      ]
     },
     "execution_count": 74,
     "metadata": {},
     "output_type": "execute_result"
    }
   ],
   "source": [
    "bin(1337 & 2)"
   ]
  },
  {
   "cell_type": "markdown",
   "metadata": {},
   "source": [
    "- recall rules for bit extension. for positive, extend 0s leftward, for negative extend 1s leftward, both to whatever desired length needed to compare to the larger magnitude value\n",
    "- specifically above, we have 1 as just 1 in bits, and we have 1337 as 10100111001 in bits. then we extend 1 to 00000000001 in bits which allows us to do whatever bitwise ops between the two."
   ]
  },
  {
   "cell_type": "code",
   "execution_count": null,
   "metadata": {},
   "outputs": [],
   "source": [
    "def count_bits(Int):\n",
    "    # there exists a bit 1 in the rightmost digit IFF 0000001 & the number yields 1.\n",
    "    #create a counter\n",
    "    num_bits = 0\n",
    "    #while the inputted value is not zero (eventually once we shift enough its zero)\n",
    "    while Int:\n",
    "        #if the number has a bit in the rightmost, then num & 1 = 1, so add that to ctr\n",
    "        num_bits += Int & 1\n",
    "        #shift the bits to the right to look at the next digit\n",
    "        Int >>= 1\n",
    "    return num_bits"
   ]
  },
  {
   "cell_type": "markdown",
   "metadata": {},
   "source": [
    "O(N) time complexity where N is number of bits needed to represent the integer. \n"
   ]
  },
  {
   "cell_type": "markdown",
   "metadata": {},
   "source": [
    "### Python built-in types:\n",
    "numerics, sequences, mappings, classes, instances, exceptions (all are objects)"
   ]
  },
  {
   "cell_type": "markdown",
   "metadata": {},
   "source": [
    "- python3 ints are unbounded dependent on the memory in your system"
   ]
  },
  {
   "cell_type": "code",
   "execution_count": 1,
   "metadata": {},
   "outputs": [
    {
     "data": {
      "text/plain": [
       "9223372036854775807"
      ]
     },
     "execution_count": 1,
     "metadata": {},
     "output_type": "execute_result"
    }
   ],
   "source": [
    "import sys\n",
    "sys.maxsize"
   ]
  },
  {
   "cell_type": "code",
   "execution_count": 2,
   "metadata": {},
   "outputs": [
    {
     "data": {
      "text/plain": [
       "sys.float_info(max=1.7976931348623157e+308, max_exp=1024, max_10_exp=308, min=2.2250738585072014e-308, min_exp=-1021, min_10_exp=-307, dig=15, mant_dig=53, epsilon=2.220446049250313e-16, radix=2, rounds=1)"
      ]
     },
     "execution_count": 2,
     "metadata": {},
     "output_type": "execute_result"
    }
   ],
   "source": [
    "sys.float_info"
   ]
  },
  {
   "cell_type": "code",
   "execution_count": 7,
   "metadata": {},
   "outputs": [
    {
     "ename": "SyntaxError",
     "evalue": "invalid syntax (<ipython-input-7-90df99370263>, line 1)",
     "output_type": "error",
     "traceback": [
      "\u001b[0;36m  File \u001b[0;32m\"<ipython-input-7-90df99370263>\"\u001b[0;36m, line \u001b[0;32m1\u001b[0m\n\u001b[0;31m    0 >>> 1\u001b[0m\n\u001b[0m        ^\u001b[0m\n\u001b[0;31mSyntaxError\u001b[0m\u001b[0;31m:\u001b[0m invalid syntax\n"
     ]
    }
   ],
   "source": [
    "0 >>> 1"
   ]
  },
  {
   "cell_type": "markdown",
   "metadata": {},
   "source": [
    "- BITWISE OPS: &, |, >>, >>>?????? typo?, <<, ~, ^\n",
    "- know how bit extension works when you do shifts and how it extends w.r.t. negative/positive nums \n",
    "- know 2's complement \n",
    "- bit arithmetic\n",
    "- masks - 1 is a good mask - MACHINE INDEPENDENT MASKS\n",
    "- RV clearing lowermost set bit (set lowermost zero, etc)\n",
    "- RV using a cache accelerate ops\n",
    "RV \"Be aware that commutativity and associativity can be used to perform operations in parallel\n",
    "and reorder operations\""
   ]
  },
  {
   "cell_type": "code",
   "execution_count": null,
   "metadata": {},
   "outputs": [],
   "source": [
    "# numeric types\n",
    "import math\n",
    "abs()\n",
    "math.ceil()\n",
    "math.floor()\n",
    "min()\n",
    "max()\n",
    "pow() or **\n",
    "math.sqrt()"
   ]
  },
  {
   "cell_type": "code",
   "execution_count": 58,
   "metadata": {},
   "outputs": [],
   "source": [
    "%%script false\n",
    "#casting\n",
    "str(42), int('42'), str(3.14), float('3.14')\n",
    "#maximum/minimum vals\n",
    "float('inf'), float('-inf')\n",
    "#compare floating points\n",
    "math.isclose()\n",
    "#random fcn\n",
    "import random\n",
    "random.randrange(stop) # gives random integer between 0 and N-1 works like range()\n",
    "random.randint(N, M) #gives random int in [N, M]\n",
    "random.random() #gives random float in range [0, 1)\n",
    "random.shuffle(S) #shuffles sequence S. done in place"
   ]
  },
  {
   "cell_type": "markdown",
   "metadata": {},
   "source": [
    "Unary operators:\n",
    "The unary - (minus) operator yields the negation of its numeric argument.\n",
    "\n",
    "The unary + (plus) operator yields its numeric argument unchanged. - RV why does this exist?\n",
    "\n",
    "The unary ~ (invert) operator yields the bitwise inversion of its integer argument. The bitwise inversion of x is defined as -(x+1). It only applies to integral numbers."
   ]
  },
  {
   "cell_type": "markdown",
   "metadata": {},
   "source": [
    "4.8: Reverse digits\n",
    "write a program that takes an integer and returns the integer corresponding to the digits of the input written in reverse order. For example, the reverse of 42 is 24, and the reverse of -314 is -413\n",
    "HINT: how would you reverse a string"
   ]
  },
  {
   "cell_type": "markdown",
   "metadata": {},
   "source": [
    "### NOTE: STRINGS ARE IMMUTABLE"
   ]
  },
  {
   "cell_type": "code",
   "execution_count": 86,
   "metadata": {},
   "outputs": [
    {
     "name": "stdout",
     "output_type": "stream",
     "text": [
      "d\n"
     ]
    },
    {
     "ename": "TypeError",
     "evalue": "'str' object does not support item assignment",
     "output_type": "error",
     "traceback": [
      "\u001b[0;31m---------------------------------------------------------------------------\u001b[0m",
      "\u001b[0;31mTypeError\u001b[0m                                 Traceback (most recent call last)",
      "\u001b[0;32m<ipython-input-86-38a944f3fa73>\u001b[0m in \u001b[0;36m<module>\u001b[0;34m()\u001b[0m\n\u001b[1;32m      1\u001b[0m \u001b[0mteststr\u001b[0m \u001b[0;34m=\u001b[0m \u001b[0;34m'dudewtfbbq'\u001b[0m\u001b[0;34m\u001b[0m\u001b[0m\n\u001b[1;32m      2\u001b[0m \u001b[0mprint\u001b[0m\u001b[0;34m(\u001b[0m\u001b[0mteststr\u001b[0m\u001b[0;34m[\u001b[0m\u001b[0;36m0\u001b[0m\u001b[0;34m]\u001b[0m\u001b[0;34m)\u001b[0m\u001b[0;34m\u001b[0m\u001b[0m\n\u001b[0;32m----> 3\u001b[0;31m \u001b[0mteststr\u001b[0m\u001b[0;34m[\u001b[0m\u001b[0;36m0\u001b[0m\u001b[0;34m]\u001b[0m \u001b[0;34m=\u001b[0m \u001b[0;34m'1'\u001b[0m\u001b[0;34m\u001b[0m\u001b[0m\n\u001b[0m",
      "\u001b[0;31mTypeError\u001b[0m: 'str' object does not support item assignment"
     ]
    }
   ],
   "source": [
    "#we can access items in a string aka characters but we cannot modify them\n",
    "teststr = 'dudewtfbbq'\n",
    "print(teststr[0])\n",
    "teststr[0] = '1'"
   ]
  },
  {
   "cell_type": "code",
   "execution_count": 87,
   "metadata": {},
   "outputs": [
    {
     "data": {
      "text/plain": [
       "'1'"
      ]
     },
     "execution_count": 87,
     "metadata": {},
     "output_type": "execute_result"
    }
   ],
   "source": [
    "teststr = ''\n",
    "teststr += '1'\n",
    "teststr"
   ]
  },
  {
   "cell_type": "code",
   "execution_count": 82,
   "metadata": {},
   "outputs": [
    {
     "data": {
      "text/plain": [
       "\"['a', 'b', 'c']\""
      ]
     },
     "execution_count": 82,
     "metadata": {},
     "output_type": "execute_result"
    }
   ],
   "source": [
    "str(['a','b','c'])"
   ]
  },
  {
   "cell_type": "code",
   "execution_count": 83,
   "metadata": {},
   "outputs": [
    {
     "data": {
      "text/plain": [
       "['a', 'b', 'c']"
      ]
     },
     "execution_count": 83,
     "metadata": {},
     "output_type": "execute_result"
    }
   ],
   "source": [
    "list('abc')"
   ]
  },
  {
   "cell_type": "code",
   "execution_count": 88,
   "metadata": {},
   "outputs": [
    {
     "data": {
      "text/plain": [
       "'1313'"
      ]
     },
     "execution_count": 88,
     "metadata": {},
     "output_type": "execute_result"
    }
   ],
   "source": [
    "str(1313)"
   ]
  },
  {
   "cell_type": "code",
   "execution_count": 89,
   "metadata": {},
   "outputs": [
    {
     "data": {
      "text/plain": [
       "13131"
      ]
     },
     "execution_count": 89,
     "metadata": {},
     "output_type": "execute_result"
    }
   ],
   "source": [
    "int(str(13131))"
   ]
  },
  {
   "cell_type": "code",
   "execution_count": 90,
   "metadata": {},
   "outputs": [],
   "source": [
    "#brute force via casting with operator ignorance and using strings\n",
    "def reverse_digits(integer):\n",
    "    '''\n",
    "    takes an integer and returns the integer corresponding to the digits of the input written in reverse order. For example, the reverse of 42 is 24, and the reverse of -314 is -413\n",
    "    '''\n",
    "    isNegative = False  #S1\n",
    "    if integer < 0: #C1\n",
    "        isNegative = True #C1\n",
    "        integer = -integer #C1\n",
    "    strOfInt = str(integer) #S1\n",
    "    index = len(strOfInt) - 1 #CN\n",
    "    reversedStr = ''\n",
    "    while(index >= 0):\n",
    "        reversedStr += strOfInt[index]\n",
    "        index -= 1\n",
    "    reversedInt = int(reversedStr)\n",
    "    if isNegative:\n",
    "        reversedInt = -reversedInt\n",
    "    return reversedInt"
   ]
  },
  {
   "cell_type": "markdown",
   "metadata": {},
   "source": [
    "The complexity is O(N) since we only iterate through the interger oncem, where N is the number of digits in the integer\n",
    "space complexity is O(N)"
   ]
  },
  {
   "cell_type": "code",
   "execution_count": 107,
   "metadata": {},
   "outputs": [
    {
     "data": {
      "text/plain": [
       "4"
      ]
     },
     "execution_count": 107,
     "metadata": {},
     "output_type": "execute_result"
    }
   ],
   "source": [
    "10 -(6 % 10)"
   ]
  },
  {
   "cell_type": "code",
   "execution_count": 105,
   "metadata": {},
   "outputs": [
    {
     "data": {
      "text/plain": [
       "6"
      ]
     },
     "execution_count": 105,
     "metadata": {},
     "output_type": "execute_result"
    }
   ],
   "source": [
    "-34 % 10"
   ]
  },
  {
   "cell_type": "code",
   "execution_count": null,
   "metadata": {},
   "outputs": [],
   "source": [
    "[1, 2, 3, 4, 5] 54321"
   ]
  },
  {
   "cell_type": "code",
   "execution_count": 100,
   "metadata": {},
   "outputs": [
    {
     "data": {
      "text/plain": [
       "0"
      ]
     },
     "execution_count": 100,
     "metadata": {},
     "output_type": "execute_result"
    }
   ],
   "source": [
    "9 % 10\n",
    "int(9 / 10)"
   ]
  },
  {
   "cell_type": "code",
   "execution_count": null,
   "metadata": {},
   "outputs": [],
   "source": []
  },
  {
   "cell_type": "code",
   "execution_count": 130,
   "metadata": {},
   "outputs": [],
   "source": [
    "# shityt soln but doesnt use string\n",
    "def Reverse_Digits(integer):\n",
    "    '''\n",
    "    takes an integer and returns the integer corresponding to the digits of the input written in reverse order. For example, the reverse of 42 is 24, and the reverse of -314 is -413\n",
    "    '''\n",
    "    isNegative = False #1\n",
    "    if integer < 0: #1\n",
    "        isNegative = True #1\n",
    "        value = -integer #1\n",
    "    else: #1\n",
    "        value = integer #1\n",
    "        \n",
    "    arr = [] #O1 SN\n",
    "    while value != 0: #ON\n",
    "        digit = value % 10\n",
    "        arr.append(digit)\n",
    "        value = int(value / 10)\n",
    "        \n",
    "    multipler = 1 \n",
    "    Sum = 0\n",
    "    index = len(arr) - 1\n",
    "    while index >= 0: #ON\n",
    "        Sum += (arr[index] * multipler)\n",
    "        multipler *= 10\n",
    "        index -= 1\n",
    "    \n",
    "    if isNegative:\n",
    "        Sum = -Sum\n",
    "    \n",
    "    return Sum"
   ]
  },
  {
   "cell_type": "markdown",
   "metadata": {},
   "source": [
    "Time complexity O(N)\n",
    "space complexity O(N)"
   ]
  },
  {
   "cell_type": "code",
   "execution_count": 128,
   "metadata": {},
   "outputs": [
    {
     "data": {
      "text/plain": [
       "-312321"
      ]
     },
     "execution_count": 128,
     "metadata": {},
     "output_type": "execute_result"
    }
   ],
   "source": [
    "Reverse_Digits(-123213)"
   ]
  },
  {
   "cell_type": "code",
   "execution_count": 129,
   "metadata": {},
   "outputs": [
    {
     "data": {
      "text/plain": [
       "7331"
      ]
     },
     "execution_count": 129,
     "metadata": {},
     "output_type": "execute_result"
    }
   ],
   "source": [
    "Reverse_Digits(1337)"
   ]
  },
  {
   "cell_type": "code",
   "execution_count": 127,
   "metadata": {},
   "outputs": [
    {
     "data": {
      "text/plain": [
       "0"
      ]
     },
     "execution_count": 127,
     "metadata": {},
     "output_type": "execute_result"
    }
   ],
   "source": [
    "Reverse_Digits(0)"
   ]
  },
  {
   "cell_type": "markdown",
   "metadata": {},
   "source": [
    "- Recall two's complement\n",
    "to get the negative or positive inverse, flip bits and add 1\n",
    "also, assume a natural overflow "
   ]
  },
  {
   "cell_type": "code",
   "execution_count": null,
   "metadata": {},
   "outputs": [],
   "source": [
    "0001 0101"
   ]
  },
  {
   "cell_type": "markdown",
   "metadata": {},
   "source": [
    "-1 = 11111\n",
    "0 = 00000\n",
    "1 = 00001\n",
    "2 = 00010\n",
    "3 = 00011\n",
    "4 = 00100\n",
    "5 = 00101\n",
    "6 = 00110\n",
    "7 = 00111\n",
    "8 = 01000\n",
    "9 = 01001\n",
    "10 = 01010\n",
    "11 = 01011\n",
    "12 = 01100\n",
    "13 = 01101\n",
    "14 = 01110\n",
    "15 = 01111\n",
    "-16 = 10000\n",
    "-15 = 10001\n",
    "-14 = 10010\n",
    "-13 = 10011\n",
    "-12 = 10100\n",
    "-11 = 10101\n",
    "-10 = 10110"
   ]
  },
  {
   "cell_type": "code",
   "execution_count": null,
   "metadata": {},
   "outputs": [],
   "source": [
    "#EPI SOLUTION\n",
    "def reverse(x):\n",
    "    result, x_remaining = 0, abs(x)\n",
    "    while x_remaining:\n",
    "        result = result * 10 + x_remaining % 10\n",
    "        x //= 10\n",
    "    return -result if x < 0 else result"
   ]
  },
  {
   "cell_type": "code",
   "execution_count": null,
   "metadata": {},
   "outputs": [],
   "source": [
    "#time complexity is O(N)"
   ]
  },
  {
   "cell_type": "code",
   "execution_count": 135,
   "metadata": {},
   "outputs": [],
   "source": [
    "%%script false\n",
    "\n",
    "how to use range()\n",
    "range(N) gives values from 0, 1, 2,... N-1\n",
    "range(N, M) gives values from N, N+1, N+2, .., M-1\n",
    "range(N, M, K) gives values from N, N+K, N+2K, N+3K, ..., until the value is >= M"
   ]
  },
  {
   "cell_type": "markdown",
   "metadata": {},
   "source": [
    "## Chapter 5: Arrays - 5.2, 5.17"
   ]
  },
  {
   "cell_type": "markdown",
   "metadata": {},
   "source": [
    "Insertion into a full array can be handled by\n",
    "resizing, i.e., allocating a new array with additional memory and copying over the entries from the\n",
    "original array. This increases the worst-case time of insertion, but if the new array has, for example,\n",
    "a constant factor larger than the original array, the average time for insertion is constant since\n",
    "resizing is infrequent"
   ]
  },
  {
   "cell_type": "markdown",
   "metadata": {},
   "source": [
    "- arrays are stored in memory continuously (as a block). is type of SEQUENCE\n",
    "- deleting an element moves everything over\n",
    "- complexity: \n",
    "update: O(1)\n",
    "retrieve: O(1)\n",
    "(assuming we know exactly what is at that index to update/retrieve)\n",
    "delete: O(n - i) = O(n)\n"
   ]
  },
  {
   "cell_type": "code",
   "execution_count": null,
   "metadata": {},
   "outputs": [],
   "source": [
    "[5, 3, 1, 1, 1, 1]"
   ]
  },
  {
   "cell_type": "code",
   "execution_count": 142,
   "metadata": {},
   "outputs": [],
   "source": [
    "#bootcamp - my verison\n",
    "def partition_array(arr):\n",
    "    '''\n",
    "    reorder the array so the even entries appear first. \n",
    "    easy if i allocate a new array =)\n",
    "    however, required to do without additional storage.\n",
    "    '''\n",
    "    for index in range(len(arr)):\n",
    "        if arr[index] % 2 != 0:\n",
    "            arr.append(arr[index])\n",
    "            del arr[index]\n",
    "    return arr"
   ]
  },
  {
   "cell_type": "code",
   "execution_count": null,
   "metadata": {},
   "outputs": [],
   "source": [
    "#incomplete. bootcamp attempt with 'both sides' hint\n",
    "def partition_array_bothends(arr):\n",
    "    end = len(arr) - 1\n",
    "    beg = 0\n",
    "    while ((end != beg) and (end > beg)):\n",
    "        "
   ]
  },
  {
   "cell_type": "code",
   "execution_count": 145,
   "metadata": {},
   "outputs": [],
   "source": [
    "%%script false\n",
    "len() is O(1)"
   ]
  },
  {
   "cell_type": "markdown",
   "metadata": {},
   "source": [
    "Deletion is O(N), and we iterate through the array once, but each time we do, we can potentially delete an item each time, espically if the array is just odd numbers. then we have O(N^2) complexity, which is garbonzo beans"
   ]
  },
  {
   "cell_type": "markdown",
   "metadata": {},
   "source": [
    "### their version"
   ]
  },
  {
   "cell_type": "markdown",
   "metadata": {},
   "source": [
    "- operate efficiently on both ends\n",
    "- partition into 3 subarrays - even, unclass, odd in that order\n",
    "    - even and odd empty, unclass is full arr at beginning. swap elements as we go\n",
    "    "
   ]
  },
  {
   "cell_type": "code",
   "execution_count": null,
   "metadata": {},
   "outputs": [],
   "source": [
    "#bootcamp their version:\n",
    "def even_odd(A):\n",
    "    next_even = 0\n",
    "    next_odd = len(A) - 1\n",
    "    while next_even < next_odd:\n",
    "        if A[next_even] % 2 == 0:\n",
    "            next_even += 1\n",
    "        else:\n",
    "            A[next_even] = A[next_odd]\n",
    "            A[next_odd] = A[next_even]\n",
    "            next_odd -= 1"
   ]
  },
  {
   "cell_type": "markdown",
   "metadata": {},
   "source": [
    "complexity: O(N) time, O(1) space\n"
   ]
  },
  {
   "cell_type": "markdown",
   "metadata": {},
   "source": [
    "- TAKEAWAY: (1) use iterators when u iterate through & creativity to get O(N), (2) use while loops indicing rather than foreach looping"
   ]
  },
  {
   "cell_type": "markdown",
   "metadata": {},
   "source": [
    "### array tips:\n",
    "- brute force is usually O(n) space or O(n^2) time, but iterators help get to O(n) time using just the array with just O(1) iterators space\n",
    "- write values from the back rather than the front (faster cuz no shift)\n",
    "- overwrite instead of deleting an entries to avoid shifting\n",
    "- consider processing from the back (or both at the same time like this!)\n",
    "    - RV reverse int arrays so least-significant digit in first entry\n",
    "- write subarray code (slices) easily\n",
    "- off-by-1 errors are common - end your iterations properly\n",
    "- ignore original values of array until return\n",
    "- RV An array can serve as a good data structure when you know the distribution of the elements in\n",
    "advance. For example, a Boolean array of length W is a good choice for representing a subset\n",
    "of {0, 1, . . . , W − 1}. (When using a Boolean array to represent a subset of {1, 2, 3, . . . , n}, allocate\n",
    "an array of size n + 1 to simplify indexing.)\n",
    "- parallel logic on 2D arrays \n",
    "- LV Sometimes it’s easier to simulate the specification, than to analytically solve for the result. For\n",
    "example, rather than writing a formula for the i-th entry in the spiral order for an n × n matrix,\n",
    "just compute the output from the beginning."
   ]
  },
  {
   "cell_type": "markdown",
   "metadata": {},
   "source": [
    "- list and tuple are similar except tuple immutable\n",
    "- list dynamically sized\n",
    "- len(A), A.append(N)==A.insert(len(A), N), A.remove(N) (removes FIRST item in list with value N), A.insert(position, item)\n",
    "- a in A checks if a is in A -> O(N)"
   ]
  },
  {
   "cell_type": "code",
   "execution_count": 147,
   "metadata": {},
   "outputs": [],
   "source": [
    "%%script false\n",
    "\n",
    "'''make a list'''\n",
    "list(); [1, 3, 4, 5]; [1] + [0] * 10; list(range(100)); [[1,2,4],[3,5,7,9],[13]]\n",
    "\n",
    "'''functions/operations'''\n",
    "len(A) \n",
    "A.append(N)==A.insert(len(A), N)\n",
    "A.remove(N) #(removes FIRST item in list with value N)\n",
    "A.insert(position, item)\n",
    "\n",
    "#RV\n",
    "min(A); max(A)\n",
    "A.reverse() #done IN-PLACE\n",
    "A.reversed() #returns iterator\n",
    "A.sort() #in place\n",
    "A.sorted() #returns copy\n",
    "del A[i]; del A[i:j] #deletes entry or slice at O(N)\n",
    "\n",
    "'''checking a value inside array is O(N)'''\n",
    "2 in A"
   ]
  },
  {
   "cell_type": "markdown",
   "metadata": {},
   "source": [
    "## SHALLOW COPY VS DEEPCOPY vs ASSIGNMENT"
   ]
  },
  {
   "cell_type": "code",
   "execution_count": 148,
   "metadata": {},
   "outputs": [],
   "source": [
    "%%script false\n",
    "'''difference between'''\n",
    "B = A\n",
    "B = list(A)\n",
    "\n",
    "copy.copy(A)\n",
    "copy.deepcopy(A)"
   ]
  },
  {
   "cell_type": "code",
   "execution_count": null,
   "metadata": {},
   "outputs": [],
   "source": [
    "'''slicing'''\n",
    "A[i:]\n",
    "A[i:j]\n",
    "A[:j]\n",
    "#with negs\n",
    "''' RV\n",
    "A[:-1] is [1, 6, 3, 4, 5, 2], A[-3:] is [5, 2,\n",
    "7], A[-3:-1] is [5, 2], A[1:5:2] is [6, 4], A[5:1:-2] is [2, 4], and A[::-1] is [7, 2, 5,\n",
    "4, 3, 6, 1] (reverses list). Slicing can also be used to rotate a list: A[k:] + A[:k] rotates A\n",
    "by k to the left. It can also be used to create a copy: B = A[:] does a (shallow) copy of A into\n",
    "B\n",
    "'''"
   ]
  },
  {
   "cell_type": "code",
   "execution_count": null,
   "metadata": {},
   "outputs": [],
   "source": [
    "'''RV list comphreension'''"
   ]
  },
  {
   "cell_type": "markdown",
   "metadata": {},
   "source": [
    "## 5.2: increment an arbitrary-precision integer"
   ]
  },
  {
   "cell_type": "markdown",
   "metadata": {},
   "source": [
    "Write a program which takes as input asn array of digits encoding a decimal integer D and updates the array to represent the integer D+1. \n",
    "\n",
    "For example, if the input is [1, 2, 9], then you should update the array to [1, 3, 0]. Your algorithm should work even if it is implemented in a lanugage that has finite-precision arithmetic\n",
    "hint:...\n"
   ]
  },
  {
   "cell_type": "code",
   "execution_count": null,
   "metadata": {},
   "outputs": [],
   "source": [
    "def increment_array(array):\n",
    "    "
   ]
  }
 ],
 "metadata": {
  "kernelspec": {
   "display_name": "Python 3",
   "language": "python",
   "name": "python3"
  },
  "language_info": {
   "codemirror_mode": {
    "name": "ipython",
    "version": 3
   },
   "file_extension": ".py",
   "mimetype": "text/x-python",
   "name": "python",
   "nbconvert_exporter": "python",
   "pygments_lexer": "ipython3",
   "version": "3.6.5"
  }
 },
 "nbformat": 4,
 "nbformat_minor": 2
}
