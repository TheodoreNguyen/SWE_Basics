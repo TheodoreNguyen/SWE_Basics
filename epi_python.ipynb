{
 "cells": [
  {
   "cell_type": "markdown",
   "metadata": {},
   "source": [
    "# EPI in python3."
   ]
  },
  {
   "cell_type": "markdown",
   "metadata": {},
   "source": [
    "## Introduction problem: \n",
    "Given three arrays of length N, labeled L, H, B, where the at the i-th index of each array represents the stock price of a company on the i-th day of trading. More specifically, L[i] is the lowest price, H[i] is the highest price, and B[i] is the initial price (when the trading day starts), the stock reaches on the i-th day. Find the maximum possible profit someone could have made assuming they can only buy-sell at the beginning of the day"
   ]
  },
  {
   "cell_type": "markdown",
   "metadata": {},
   "source": [
    "### soln1 - brute force"
   ]
  },
  {
   "cell_type": "code",
   "execution_count": null,
   "metadata": {},
   "outputs": [],
   "source": [
    "#unfortunately ive read a bit ahead and I know i can't just get the difference of the maximum and mininmum numbers in the array of B - it has to be in sequence. (i have to buy before i sell)\n",
    "def max_margin(P):\n",
    "    # the first day is the first we can buy, so lets just say we buy that day and instead interate our array starting from the 1st instead of the 0th element\n",
    "    curr_max_diff = 0\n",
    "    \n",
    "    #i dont know how else to do it cleaner =)\n",
    "    indexList = list(range(len(P)))\n",
    "    \n",
    "    for Bindex in indexList:\n",
    "        for Sindex in [Bindex+1:]:\n",
    "            if curr_max_diff > P[Sindex] - P[Bindex]:\n",
    "                curr_max_diff = P[Sindex] - P[Bindex]\n",
    "        "
   ]
  },
  {
   "cell_type": "code",
   "execution_count": null,
   "metadata": {},
   "outputs": [],
   "source": [
    "float max_margin(float P[]; int N)\n",
    "{\n",
    "    for(int i = 0; i != N, i++)\n",
    "    {\n",
    "        for(int j = i; j != N; j++)\n",
    "        {\n",
    "            if(curr_max_diff > P[j] - P[i])\n",
    "            {\n",
    "                curr_max_diff = P[j] - P[i]\n",
    "            }\n",
    "        }\n",
    "    }\n",
    "}"
   ]
  },
  {
   "cell_type": "markdown",
   "metadata": {},
   "source": [
    "TIME COMPLEXITY:\n",
    "Outer loop evoked n-1 times inner loop evoked n-1-i times. so complexity is sum[i=0 to n-2] of (n-1-i) = (n-1)*n/2 = n^2\n",
    "I personally think here the outer is evoked N times and the inner is evoked n-i times. So we just multiply them and get n-i * n = n^2 - ni = n^2\n",
    "\n",
    "SPACE COMPLEXITY:\n",
    "- counter is necessary\n",
    "- extra list is wasted. "
   ]
  },
  {
   "cell_type": "markdown",
   "metadata": {},
   "source": [
    "#### Note: use i for the index in cases like these for time complexity"
   ]
  },
  {
   "cell_type": "markdown",
   "metadata": {},
   "source": [
    "### soln2 - divide and conquer -- too complicated"
   ]
  },
  {
   "cell_type": "markdown",
   "metadata": {},
   "source": [
    "### soln3 - O(n)"
   ]
  },
  {
   "cell_type": "code",
   "execution_count": null,
   "metadata": {},
   "outputs": [],
   "source": [
    "#solution aattempt\n",
    "def max_margin(P):\n",
    "    buy = None\n",
    "    sell = None\n",
    "    margin = None\n",
    "    for index in range(len(P)):\n",
    "        if buy == None and sell == None and margin == None:\n",
    "            buy = P[index]\n",
    "            sell = P[index]\n",
    "            margin = sell - buy\n",
    "        else:\n",
    "            #check sell today from current carried buy\n",
    "            strike = P[index]\n",
    "            localmargin = strike - buy\n",
    "            if localmargin > margin:\n",
    "                margin = localmargin\n",
    "                sell = strike\n",
    "            if "
   ]
  },
  {
   "cell_type": "code",
   "execution_count": 22,
   "metadata": {},
   "outputs": [
    {
     "data": {
      "text/plain": [
       "True"
      ]
     },
     "execution_count": 22,
     "metadata": {},
     "output_type": "execute_result"
    }
   ],
   "source": [
    "-float('Inf') < -999999999999999"
   ]
  },
  {
   "cell_type": "code",
   "execution_count": 34,
   "metadata": {},
   "outputs": [],
   "source": [
    "from pdb import set_trace"
   ]
  },
  {
   "cell_type": "code",
   "execution_count": 43,
   "metadata": {},
   "outputs": [],
   "source": [
    "# solution\n",
    "def max_margin(P):\n",
    "    maxMargin = -float('inf')\n",
    "    minPrice = float('inf')\n",
    "    for strike in P:\n",
    "        if strike < minPrice:\n",
    "            minPrice = strike\n",
    "        else:\n",
    "            localMargin = strike - minPrice\n",
    "            if localMargin > maxMargin:\n",
    "                maxMargin = localMargin\n",
    "                \n",
    "    return maxMargin"
   ]
  },
  {
   "cell_type": "code",
   "execution_count": 44,
   "metadata": {},
   "outputs": [],
   "source": [
    "arr = [310, 315, 275, 295, 260, 270, 290, 230, 255, 250]"
   ]
  },
  {
   "cell_type": "code",
   "execution_count": 45,
   "metadata": {},
   "outputs": [
    {
     "data": {
      "text/plain": [
       "30"
      ]
     },
     "execution_count": 45,
     "metadata": {},
     "output_type": "execute_result"
    }
   ],
   "source": [
    "max_margin(arr)"
   ]
  },
  {
   "cell_type": "code",
   "execution_count": null,
   "metadata": {},
   "outputs": [],
   "source": [
    "float max_margin(P)\n",
    "{\n",
    "    minPrice = P[0]\n",
    "    maxMargin = 0\n",
    "    for(int i = 1; i != N; i++)\n",
    "    {\n",
    "        strike = P[i]\n",
    "        if (strike < minPrice)\n",
    "        {\n",
    "            minPrice = strike\n",
    "        }\n",
    "        else\n",
    "        {\n",
    "            localMargin = strike - minPrice\n",
    "            if (localMargin > maxMargin)\n",
    "            {\n",
    "                maxMargin = localMargin\n",
    "            }\n",
    "        }\n",
    "    }\n",
    "    return maxMargin\n",
    "}"
   ]
  },
  {
   "cell_type": "markdown",
   "metadata": {},
   "source": [
    "### NOTE: cant initialize maxmargin to zero cuz ur assuming there is a positive margin! do float('inf') and -float('inf') gives you positve and negative infinity"
   ]
  },
  {
   "cell_type": "markdown",
   "metadata": {},
   "source": [
    "Time complexity:\n",
    "O(N) - i only iterate through the array once\n",
    "\n",
    "space complexity:\n",
    "should be O(1), but i have local vars "
   ]
  },
  {
   "cell_type": "markdown",
   "metadata": {},
   "source": [
    "### VARIANT: write a program that takes an array of integers and finds the length of a longest subarray all of whose entries are equal"
   ]
  },
  {
   "cell_type": "markdown",
   "metadata": {},
   "source": [
    "### subsequence definition - this means that it is literally asking for the frequency of the most frequent element"
   ]
  },
  {
   "cell_type": "code",
   "execution_count": null,
   "metadata": {},
   "outputs": [],
   "source": [
    "#brute force via dictionary\n",
    "def max_len_subarr_equal_entries(array):\n",
    "    #will hold keys which are elements of the array, and values which are occurrances of this element in the array\n",
    "    counterdict = {}\n",
    "    #go through each element of the array\n",
    "    for integer in array:\n",
    "        #if it is not inside the dictionart keys, put it inside!\n",
    "        if integer not in counterdict.keys():\n",
    "            counterdict[integer] = 1\n",
    "        #if it is inside the dictionary keys, increment the value counter for it by 1\n",
    "        else:\n",
    "            counterdict[integer] += 1\n",
    "    #set a counter for the maximum occurring element\n",
    "    max_occur = 0\n",
    "    #go through each of the occurring integers\n",
    "    for integer in counterdict.values():\n",
    "        if max_occur < integer:\n",
    "            max_occur = integer\n",
    "    ''' or just do max_occur = max(counterdict.values())'''\n",
    "    return max_occur"
   ]
  },
  {
   "cell_type": "code",
   "execution_count": null,
   "metadata": {},
   "outputs": [],
   "source": [
    "#brute force via arrays\n",
    "def max_len_subarr_equal_entries(array):\n",
    "    uniqueInts = []\n",
    "    counters = []\n",
    "    for integer in array:\n",
    "        if integer not in uniqueInts:\n",
    "            uniqueInts.append(integer)\n",
    "            counters.append(1)\n",
    "        else:\n",
    "            for index in range(len(uniqueInts)):\n",
    "                if uniqueInts[index] == integer:\n",
    "                    counters[index] += 1\n",
    "    max_occur = 0\n",
    "    for index in range(len(uniqueInts)):\n",
    "        if max_occur < counters[index]:\n",
    "            max_occur = counters[index]\n",
    "    '''or just do max_occur = max(counters)'''\n",
    "    return max_occur\n",
    "    "
   ]
  },
  {
   "cell_type": "markdown",
   "metadata": {},
   "source": [
    "Time complexity is at worst N + N = 2N = O(N)\n",
    "space complexity is at worst O(N) "
   ]
  },
  {
   "cell_type": "markdown",
   "metadata": {},
   "source": [
    "### continuous subarray definition"
   ]
  },
  {
   "cell_type": "code",
   "execution_count": 58,
   "metadata": {},
   "outputs": [
    {
     "data": {
      "text/plain": [
       "True"
      ]
     },
     "execution_count": 58,
     "metadata": {},
     "output_type": "execute_result"
    }
   ],
   "source": [
    "type(arr) == type(list())"
   ]
  },
  {
   "cell_type": "code",
   "execution_count": 59,
   "metadata": {},
   "outputs": [],
   "source": [
    "def max_len_subarr_equal_entries(array):\n",
    "    \n",
    "    if type(array) != type(list()):\n",
    "        return None\n",
    "    #if the array is empty then the longest continuous identical subarray has length zero too!\n",
    "    if len(array) <= 0:\n",
    "        return 0\n",
    "    if type(array[0]) != type(int()):\n",
    "        return None\n",
    "    '''\n",
    "    #if the array has a length 1 then the longest continuous identiical subarray is itself, the single element\n",
    "    elif len(array) == 1:\n",
    "        return 1\n",
    "    # YOU DONT ACTUALLY NEED THIS! doing arr[1:] where arr only has a single element will yield an empty array, and iterating through an empty array ends immediately.\n",
    "    '''\n",
    "    #create a coiunter for the maximum, as well as the local \n",
    "    max_counter = 1\n",
    "    local_counter = 1\n",
    "    #set the 'counter' to the first element of the array\n",
    "    current_element = array[0]\n",
    "    #iterate through the 2nd to the Nth element of the array\n",
    "    for element in array[1:]:\n",
    "        if element == current_element:\n",
    "            local_counter += 1\n",
    "        else:\n",
    "            current_element = element\n",
    "            if local_counter > max_counter:\n",
    "                max_counter = local_counter\n",
    "                local_counter = 1\n",
    "    \n",
    "    return max_counter\n"
   ]
  },
  {
   "cell_type": "markdown",
   "metadata": {},
   "source": [
    " Time complexity is N-1 = O(N)\n",
    " space complexity is O(1)"
   ]
  },
  {
   "cell_type": "code",
   "execution_count": 75,
   "metadata": {},
   "outputs": [],
   "source": [
    "%%script false\n",
    "Scenario 2: finals cram, 7 days - \n",
    "4.8\n",
    "5.2, 5.17\n",
    "6.5, 6.6\n",
    "7.4, 7.7\n",
    "8.2, 8.8\n",
    "9.2, 9.12\n",
    "10.3\n",
    "11.3, 11.9\n",
    "12.1, 12.6\n",
    "13.5\n",
    "14.4, 14.8\n",
    "15.3\n",
    "16.3, 16.6\n",
    "17.5\n",
    "18.2\n",
    "19.8\n",
    "20.16\n"
   ]
  },
  {
   "cell_type": "markdown",
   "metadata": {},
   "source": [
    "## Chapter 4: Primtive types bootcamp"
   ]
  },
  {
   "cell_type": "markdown",
   "metadata": {},
   "source": [
    "- programs update variables in memory\n",
    "- variables are in types\n",
    "- types are classifcation of data that signifies (1) what values the var can take and (2) what operations can be performs on the var\n",
    "- all types and vars are objects in python whether they are user-defined or standard library"
   ]
  },
  {
   "cell_type": "markdown",
   "metadata": {},
   "source": [
    "#### Write a program to count number of bits set to 1 in an unsigned integer. Use bit-stuff"
   ]
  },
  {
   "cell_type": "code",
   "execution_count": 66,
   "metadata": {},
   "outputs": [
    {
     "data": {
      "text/plain": [
       "'0b10100111001'"
      ]
     },
     "execution_count": 66,
     "metadata": {},
     "output_type": "execute_result"
    }
   ],
   "source": [
    "bin(1337)"
   ]
  },
  {
   "cell_type": "code",
   "execution_count": 68,
   "metadata": {},
   "outputs": [
    {
     "data": {
      "text/plain": [
       "'0b10100110010'"
      ]
     },
     "execution_count": 68,
     "metadata": {},
     "output_type": "execute_result"
    }
   ],
   "source": [
    "bin(1330)"
   ]
  },
  {
   "cell_type": "code",
   "execution_count": 69,
   "metadata": {},
   "outputs": [
    {
     "data": {
      "text/plain": [
       "'0b10100110000'"
      ]
     },
     "execution_count": 69,
     "metadata": {},
     "output_type": "execute_result"
    }
   ],
   "source": [
    "bin(1330 & 1337)"
   ]
  },
  {
   "cell_type": "code",
   "execution_count": 70,
   "metadata": {},
   "outputs": [
    {
     "data": {
      "text/plain": [
       "'0b1'"
      ]
     },
     "execution_count": 70,
     "metadata": {},
     "output_type": "execute_result"
    }
   ],
   "source": [
    "bin(1337 & 1)"
   ]
  },
  {
   "cell_type": "code",
   "execution_count": 71,
   "metadata": {},
   "outputs": [
    {
     "data": {
      "text/plain": [
       "'0b0'"
      ]
     },
     "execution_count": 71,
     "metadata": {},
     "output_type": "execute_result"
    }
   ],
   "source": [
    "bin(1330 & 1)"
   ]
  },
  {
   "cell_type": "code",
   "execution_count": 72,
   "metadata": {},
   "outputs": [
    {
     "data": {
      "text/plain": [
       "'0b10'"
      ]
     },
     "execution_count": 72,
     "metadata": {},
     "output_type": "execute_result"
    }
   ],
   "source": [
    "bin(2)"
   ]
  },
  {
   "cell_type": "markdown",
   "metadata": {},
   "source": [
    "1 has bit value 000....001, so performing an AND operation on any other datatype\n",
    "will zero out all bit values except for the first (rightmost) bit value, hence converting all values that are not one to one. therefore, the expression:\n",
    "\n",
    "x & 1 \n",
    "\n",
    "will always yield 1\n",
    "\n",
    "1 is a good bitmask"
   ]
  },
  {
   "cell_type": "code",
   "execution_count": null,
   "metadata": {},
   "outputs": [],
   "source": [
    "def count_ones_in_int(uint):\n",
    "    '''\n",
    "    return number of 1 bits in this unisnged int\n",
    "    '''\n",
    "    #set a counter to count the number of 1 bits\n",
    "    num_of_bits = 0\n",
    "    #left shift continuously until you get zero\n",
    "    while uint != 0:\n",
    "        # bitwise ANDing a value with 1 will yield 1 or 0 depending on if it has a 1 in th eleftmost bit\n",
    "        num_of_bits += uint & 1\n",
    "        uint >>= 1\n",
    "    return num_of_bits"
   ]
  },
  {
   "cell_type": "code",
   "execution_count": 74,
   "metadata": {},
   "outputs": [
    {
     "data": {
      "text/plain": [
       "'0b0'"
      ]
     },
     "execution_count": 74,
     "metadata": {},
     "output_type": "execute_result"
    }
   ],
   "source": [
    "bin(1337 & 2)"
   ]
  },
  {
   "cell_type": "markdown",
   "metadata": {},
   "source": [
    "- recall rules for bit extension. for positive, extend 0s leftward, for negative extend 1s leftward, both to whatever desired length needed to compare to the larger magnitude value\n",
    "- specifically above, we have 1 as just 1 in bits, and we have 1337 as 10100111001 in bits. then we extend 1 to 00000000001 in bits which allows us to do whatever bitwise ops between the two."
   ]
  },
  {
   "cell_type": "code",
   "execution_count": null,
   "metadata": {},
   "outputs": [],
   "source": [
    "def count_bits(Int):\n",
    "    # there exists a bit 1 in the rightmost digit IFF 0000001 & the number yields 1.\n",
    "    #create a counter\n",
    "    num_bits = 0\n",
    "    #while the inputted value is not zero (eventually once we shift enough its zero)\n",
    "    while Int:\n",
    "        #if the number has a bit in the rightmost, then num & 1 = 1, so add that to ctr\n",
    "        num_bits += Int & 1\n",
    "        #shift the bits to the right to look at the next digit\n",
    "        Int >>= 1\n",
    "    return num_bits"
   ]
  },
  {
   "cell_type": "markdown",
   "metadata": {},
   "source": [
    "O(N) time complexity where N is number of bits needed to represent the integer. \n"
   ]
  },
  {
   "cell_type": "markdown",
   "metadata": {},
   "source": [
    "### Python built-in types:\n",
    "numerics, sequences, mappings, classes, instances, exceptions (all are objects)"
   ]
  },
  {
   "cell_type": "markdown",
   "metadata": {},
   "source": [
    "- python3 ints are unbounded dependent on the memory in your system"
   ]
  },
  {
   "cell_type": "code",
   "execution_count": 1,
   "metadata": {},
   "outputs": [
    {
     "data": {
      "text/plain": [
       "9223372036854775807"
      ]
     },
     "execution_count": 1,
     "metadata": {},
     "output_type": "execute_result"
    }
   ],
   "source": [
    "import sys\n",
    "sys.maxsize"
   ]
  },
  {
   "cell_type": "code",
   "execution_count": 2,
   "metadata": {},
   "outputs": [
    {
     "data": {
      "text/plain": [
       "sys.float_info(max=1.7976931348623157e+308, max_exp=1024, max_10_exp=308, min=2.2250738585072014e-308, min_exp=-1021, min_10_exp=-307, dig=15, mant_dig=53, epsilon=2.220446049250313e-16, radix=2, rounds=1)"
      ]
     },
     "execution_count": 2,
     "metadata": {},
     "output_type": "execute_result"
    }
   ],
   "source": [
    "sys.float_info"
   ]
  },
  {
   "cell_type": "code",
   "execution_count": 7,
   "metadata": {},
   "outputs": [
    {
     "ename": "SyntaxError",
     "evalue": "invalid syntax (<ipython-input-7-90df99370263>, line 1)",
     "output_type": "error",
     "traceback": [
      "\u001b[0;36m  File \u001b[0;32m\"<ipython-input-7-90df99370263>\"\u001b[0;36m, line \u001b[0;32m1\u001b[0m\n\u001b[0;31m    0 >>> 1\u001b[0m\n\u001b[0m        ^\u001b[0m\n\u001b[0;31mSyntaxError\u001b[0m\u001b[0;31m:\u001b[0m invalid syntax\n"
     ]
    }
   ],
   "source": [
    "0 >>> 1"
   ]
  },
  {
   "cell_type": "markdown",
   "metadata": {},
   "source": [
    "- BITWISE OPS: &, |, >>, >>>?????? typo?, <<, ~, ^\n",
    "- know how bit extension works when you do shifts and how it extends w.r.t. negative/positive nums \n",
    "- know 2's complement \n",
    "- bit arithmetic\n",
    "- masks - 1 is a good mask - MACHINE INDEPENDENT MASKS\n",
    "- RV clearing lowermost set bit (set lowermost zero, etc)\n",
    "- RV using a cache accelerate ops\n",
    "RV \"Be aware that commutativity and associativity can be used to perform operations in parallel\n",
    "and reorder operations\""
   ]
  },
  {
   "cell_type": "code",
   "execution_count": null,
   "metadata": {},
   "outputs": [],
   "source": [
    "# numeric types\n",
    "import math\n",
    "abs()\n",
    "math.ceil()\n",
    "math.floor()\n",
    "min()\n",
    "max()\n",
    "pow() or **\n",
    "math.sqrt()"
   ]
  },
  {
   "cell_type": "code",
   "execution_count": 58,
   "metadata": {},
   "outputs": [],
   "source": [
    "%%script false\n",
    "#casting\n",
    "str(42), int('42'), str(3.14), float('3.14')\n",
    "#maximum/minimum vals\n",
    "float('inf'), float('-inf')\n",
    "#compare floating points\n",
    "math.isclose()\n",
    "#random fcn\n",
    "import random\n",
    "random.randrange(stop) # gives random integer between 0 and N-1 works like range()\n",
    "random.randint(N, M) #gives random int in [N, M]\n",
    "random.random() #gives random float in range [0, 1)\n",
    "random.shuffle(S) #shuffles sequence S. done in place"
   ]
  },
  {
   "cell_type": "markdown",
   "metadata": {},
   "source": [
    "Unary operators:\n",
    "The unary - (minus) operator yields the negation of its numeric argument.\n",
    "\n",
    "The unary + (plus) operator yields its numeric argument unchanged. - RV why does this exist?\n",
    "\n",
    "The unary ~ (invert) operator yields the bitwise inversion of its integer argument. The bitwise inversion of x is defined as -(x+1). It only applies to integral numbers."
   ]
  },
  {
   "cell_type": "markdown",
   "metadata": {},
   "source": [
    "4.8: Reverse digits\n",
    "write a program that takes an integer and returns the integer corresponding to the digits of the input written in reverse order. For example, the reverse of 42 is 24, and the reverse of -314 is -413\n",
    "HINT: how would you reverse a string"
   ]
  },
  {
   "cell_type": "markdown",
   "metadata": {},
   "source": [
    "### NOTE: STRINGS ARE IMMUTABLE"
   ]
  },
  {
   "cell_type": "code",
   "execution_count": 86,
   "metadata": {},
   "outputs": [
    {
     "name": "stdout",
     "output_type": "stream",
     "text": [
      "d\n"
     ]
    },
    {
     "ename": "TypeError",
     "evalue": "'str' object does not support item assignment",
     "output_type": "error",
     "traceback": [
      "\u001b[0;31m---------------------------------------------------------------------------\u001b[0m",
      "\u001b[0;31mTypeError\u001b[0m                                 Traceback (most recent call last)",
      "\u001b[0;32m<ipython-input-86-38a944f3fa73>\u001b[0m in \u001b[0;36m<module>\u001b[0;34m()\u001b[0m\n\u001b[1;32m      1\u001b[0m \u001b[0mteststr\u001b[0m \u001b[0;34m=\u001b[0m \u001b[0;34m'dudewtfbbq'\u001b[0m\u001b[0;34m\u001b[0m\u001b[0m\n\u001b[1;32m      2\u001b[0m \u001b[0mprint\u001b[0m\u001b[0;34m(\u001b[0m\u001b[0mteststr\u001b[0m\u001b[0;34m[\u001b[0m\u001b[0;36m0\u001b[0m\u001b[0;34m]\u001b[0m\u001b[0;34m)\u001b[0m\u001b[0;34m\u001b[0m\u001b[0m\n\u001b[0;32m----> 3\u001b[0;31m \u001b[0mteststr\u001b[0m\u001b[0;34m[\u001b[0m\u001b[0;36m0\u001b[0m\u001b[0;34m]\u001b[0m \u001b[0;34m=\u001b[0m \u001b[0;34m'1'\u001b[0m\u001b[0;34m\u001b[0m\u001b[0m\n\u001b[0m",
      "\u001b[0;31mTypeError\u001b[0m: 'str' object does not support item assignment"
     ]
    }
   ],
   "source": [
    "#we can access items in a string aka characters but we cannot modify them\n",
    "teststr = 'dudewtfbbq'\n",
    "print(teststr[0])\n",
    "teststr[0] = '1'"
   ]
  },
  {
   "cell_type": "code",
   "execution_count": 87,
   "metadata": {},
   "outputs": [
    {
     "data": {
      "text/plain": [
       "'1'"
      ]
     },
     "execution_count": 87,
     "metadata": {},
     "output_type": "execute_result"
    }
   ],
   "source": [
    "teststr = ''\n",
    "teststr += '1'\n",
    "teststr"
   ]
  },
  {
   "cell_type": "code",
   "execution_count": 82,
   "metadata": {},
   "outputs": [
    {
     "data": {
      "text/plain": [
       "\"['a', 'b', 'c']\""
      ]
     },
     "execution_count": 82,
     "metadata": {},
     "output_type": "execute_result"
    }
   ],
   "source": [
    "str(['a','b','c'])"
   ]
  },
  {
   "cell_type": "code",
   "execution_count": 83,
   "metadata": {},
   "outputs": [
    {
     "data": {
      "text/plain": [
       "['a', 'b', 'c']"
      ]
     },
     "execution_count": 83,
     "metadata": {},
     "output_type": "execute_result"
    }
   ],
   "source": [
    "list('abc')"
   ]
  },
  {
   "cell_type": "code",
   "execution_count": 88,
   "metadata": {},
   "outputs": [
    {
     "data": {
      "text/plain": [
       "'1313'"
      ]
     },
     "execution_count": 88,
     "metadata": {},
     "output_type": "execute_result"
    }
   ],
   "source": [
    "str(1313)"
   ]
  },
  {
   "cell_type": "code",
   "execution_count": 89,
   "metadata": {},
   "outputs": [
    {
     "data": {
      "text/plain": [
       "13131"
      ]
     },
     "execution_count": 89,
     "metadata": {},
     "output_type": "execute_result"
    }
   ],
   "source": [
    "int(str(13131))"
   ]
  },
  {
   "cell_type": "code",
   "execution_count": 90,
   "metadata": {},
   "outputs": [],
   "source": [
    "#brute force via casting with operator ignorance and using strings\n",
    "def reverse_digits(integer):\n",
    "    '''\n",
    "    takes an integer and returns the integer corresponding to the digits of the input written in reverse order. For example, the reverse of 42 is 24, and the reverse of -314 is -413\n",
    "    '''\n",
    "    isNegative = False  #S1\n",
    "    if integer < 0: #C1\n",
    "        isNegative = True #C1\n",
    "        integer = -integer #C1\n",
    "    strOfInt = str(integer) #S1\n",
    "    index = len(strOfInt) - 1 #CN\n",
    "    reversedStr = ''\n",
    "    while(index >= 0):\n",
    "        reversedStr += strOfInt[index]\n",
    "        index -= 1\n",
    "    reversedInt = int(reversedStr)\n",
    "    if isNegative:\n",
    "        reversedInt = -reversedInt\n",
    "    return reversedInt"
   ]
  },
  {
   "cell_type": "markdown",
   "metadata": {},
   "source": [
    "The complexity is O(N) since we only iterate through the interger oncem, where N is the number of digits in the integer\n",
    "space complexity is O(N)"
   ]
  },
  {
   "cell_type": "code",
   "execution_count": 107,
   "metadata": {},
   "outputs": [
    {
     "data": {
      "text/plain": [
       "4"
      ]
     },
     "execution_count": 107,
     "metadata": {},
     "output_type": "execute_result"
    }
   ],
   "source": [
    "10 -(6 % 10)"
   ]
  },
  {
   "cell_type": "code",
   "execution_count": 105,
   "metadata": {},
   "outputs": [
    {
     "data": {
      "text/plain": [
       "6"
      ]
     },
     "execution_count": 105,
     "metadata": {},
     "output_type": "execute_result"
    }
   ],
   "source": [
    "-34 % 10"
   ]
  },
  {
   "cell_type": "code",
   "execution_count": null,
   "metadata": {},
   "outputs": [],
   "source": [
    "[1, 2, 3, 4, 5] 54321"
   ]
  },
  {
   "cell_type": "code",
   "execution_count": 100,
   "metadata": {},
   "outputs": [
    {
     "data": {
      "text/plain": [
       "0"
      ]
     },
     "execution_count": 100,
     "metadata": {},
     "output_type": "execute_result"
    }
   ],
   "source": [
    "9 % 10\n",
    "int(9 / 10)"
   ]
  },
  {
   "cell_type": "code",
   "execution_count": null,
   "metadata": {},
   "outputs": [],
   "source": []
  },
  {
   "cell_type": "code",
   "execution_count": 130,
   "metadata": {},
   "outputs": [],
   "source": [
    "# shityt soln but doesnt use string\n",
    "def Reverse_Digits(integer):\n",
    "    '''\n",
    "    takes an integer and returns the integer corresponding to the digits of the input written in reverse order. For example, the reverse of 42 is 24, and the reverse of -314 is -413\n",
    "    '''\n",
    "    isNegative = False #1\n",
    "    if integer < 0: #1\n",
    "        isNegative = True #1\n",
    "        value = -integer #1\n",
    "    else: #1\n",
    "        value = integer #1\n",
    "        \n",
    "    arr = [] #O1 SN\n",
    "    while value != 0: #ON\n",
    "        digit = value % 10\n",
    "        arr.append(digit)\n",
    "        value = int(value / 10)\n",
    "        \n",
    "    multipler = 1 \n",
    "    Sum = 0\n",
    "    index = len(arr) - 1\n",
    "    while index >= 0: #ON\n",
    "        Sum += (arr[index] * multipler)\n",
    "        multipler *= 10\n",
    "        index -= 1\n",
    "    \n",
    "    if isNegative:\n",
    "        Sum = -Sum\n",
    "    \n",
    "    return Sum"
   ]
  },
  {
   "cell_type": "markdown",
   "metadata": {},
   "source": [
    "Time complexity O(N)\n",
    "space complexity O(N)"
   ]
  },
  {
   "cell_type": "code",
   "execution_count": 128,
   "metadata": {},
   "outputs": [
    {
     "data": {
      "text/plain": [
       "-312321"
      ]
     },
     "execution_count": 128,
     "metadata": {},
     "output_type": "execute_result"
    }
   ],
   "source": [
    "Reverse_Digits(-123213)"
   ]
  },
  {
   "cell_type": "code",
   "execution_count": 129,
   "metadata": {},
   "outputs": [
    {
     "data": {
      "text/plain": [
       "7331"
      ]
     },
     "execution_count": 129,
     "metadata": {},
     "output_type": "execute_result"
    }
   ],
   "source": [
    "Reverse_Digits(1337)"
   ]
  },
  {
   "cell_type": "code",
   "execution_count": 127,
   "metadata": {},
   "outputs": [
    {
     "data": {
      "text/plain": [
       "0"
      ]
     },
     "execution_count": 127,
     "metadata": {},
     "output_type": "execute_result"
    }
   ],
   "source": [
    "Reverse_Digits(0)"
   ]
  },
  {
   "cell_type": "markdown",
   "metadata": {},
   "source": [
    "- Recall two's complement\n",
    "to get the negative or positive inverse, flip bits and add 1\n",
    "also, assume a natural overflow "
   ]
  },
  {
   "cell_type": "code",
   "execution_count": null,
   "metadata": {},
   "outputs": [],
   "source": [
    "0001 0101"
   ]
  },
  {
   "cell_type": "markdown",
   "metadata": {},
   "source": [
    "-1 = 11111\n",
    "0 = 00000\n",
    "1 = 00001\n",
    "2 = 00010\n",
    "3 = 00011\n",
    "4 = 00100\n",
    "5 = 00101\n",
    "6 = 00110\n",
    "7 = 00111\n",
    "8 = 01000\n",
    "9 = 01001\n",
    "10 = 01010\n",
    "11 = 01011\n",
    "12 = 01100\n",
    "13 = 01101\n",
    "14 = 01110\n",
    "15 = 01111\n",
    "-16 = 10000\n",
    "-15 = 10001\n",
    "-14 = 10010\n",
    "-13 = 10011\n",
    "-12 = 10100\n",
    "-11 = 10101\n",
    "-10 = 10110"
   ]
  },
  {
   "cell_type": "code",
   "execution_count": null,
   "metadata": {},
   "outputs": [],
   "source": [
    "#EPI SOLUTION\n",
    "def reverse(x):\n",
    "    result, x_remaining = 0, abs(x)\n",
    "    while x_remaining:\n",
    "        result = result * 10 + x_remaining % 10\n",
    "        x //= 10\n",
    "    return -result if x < 0 else result"
   ]
  },
  {
   "cell_type": "code",
   "execution_count": null,
   "metadata": {},
   "outputs": [],
   "source": [
    "#time complexity is O(N)"
   ]
  },
  {
   "cell_type": "code",
   "execution_count": 135,
   "metadata": {},
   "outputs": [],
   "source": [
    "%%script false\n",
    "\n",
    "how to use range()\n",
    "range(N) gives values from 0, 1, 2,... N-1\n",
    "range(N, M) gives values from N, N+1, N+2, .., M-1\n",
    "range(N, M, K) gives values from N, N+K, N+2K, N+3K, ..., until the value is >= M"
   ]
  },
  {
   "cell_type": "markdown",
   "metadata": {},
   "source": [
    "## Chapter 5: Arrays - 5.2, 5.17"
   ]
  },
  {
   "cell_type": "markdown",
   "metadata": {},
   "source": [
    "Insertion into a full array can be handled by\n",
    "resizing, i.e., allocating a new array with additional memory and copying over the entries from the\n",
    "original array. This increases the worst-case time of insertion, but if the new array has, for example,\n",
    "a constant factor larger than the original array, the average time for insertion is constant since\n",
    "resizing is infrequent"
   ]
  },
  {
   "cell_type": "markdown",
   "metadata": {},
   "source": [
    "- arrays are stored in memory continuously (as a block). is type of SEQUENCE\n",
    "- deleting an element moves everything over\n",
    "- complexity: \n",
    "update: O(1)\n",
    "retrieve: O(1)\n",
    "(assuming we know exactly what is at that index to update/retrieve)\n",
    "delete: O(n - i) = O(n)\n"
   ]
  },
  {
   "cell_type": "code",
   "execution_count": null,
   "metadata": {},
   "outputs": [],
   "source": [
    "[5, 3, 1, 1, 1, 1]"
   ]
  },
  {
   "cell_type": "code",
   "execution_count": 142,
   "metadata": {},
   "outputs": [],
   "source": [
    "#bootcamp - my verison\n",
    "def partition_array(arr):\n",
    "    '''\n",
    "    reorder the array so the even entries appear first. \n",
    "    easy if i allocate a new array =)\n",
    "    however, required to do without additional storage.\n",
    "    '''\n",
    "    for index in range(len(arr)):\n",
    "        if arr[index] % 2 != 0:\n",
    "            arr.append(arr[index])\n",
    "            del arr[index]\n",
    "    return arr"
   ]
  },
  {
   "cell_type": "code",
   "execution_count": null,
   "metadata": {},
   "outputs": [],
   "source": [
    "#incomplete. bootcamp attempt with 'both sides' hint\n",
    "def partition_array_bothends(arr):\n",
    "    end = len(arr) - 1\n",
    "    beg = 0\n",
    "    while ((end != beg) and (end > beg)):\n",
    "        "
   ]
  },
  {
   "cell_type": "code",
   "execution_count": 145,
   "metadata": {},
   "outputs": [],
   "source": [
    "%%script false\n",
    "len() is O(1)"
   ]
  },
  {
   "cell_type": "markdown",
   "metadata": {},
   "source": [
    "Deletion is O(N), and we iterate through the array once, but each time we do, we can potentially delete an item each time, espically if the array is just odd numbers. then we have O(N^2) complexity, which is garbonzo beans"
   ]
  },
  {
   "cell_type": "markdown",
   "metadata": {},
   "source": [
    "### their version"
   ]
  },
  {
   "cell_type": "markdown",
   "metadata": {},
   "source": [
    "- operate efficiently on both ends\n",
    "- partition into 3 subarrays - even, unclass, odd in that order\n",
    "    - even and odd empty, unclass is full arr at beginning. swap elements as we go\n",
    "    "
   ]
  },
  {
   "cell_type": "code",
   "execution_count": null,
   "metadata": {},
   "outputs": [],
   "source": [
    "#bootcamp their version:\n",
    "def even_odd(A):\n",
    "    next_even = 0\n",
    "    next_odd = len(A) - 1\n",
    "    while next_even < next_odd:\n",
    "        if A[next_even] % 2 == 0:\n",
    "            next_even += 1\n",
    "        else:\n",
    "            A[next_even] = A[next_odd]\n",
    "            A[next_odd] = A[next_even]\n",
    "            next_odd -= 1"
   ]
  },
  {
   "cell_type": "markdown",
   "metadata": {},
   "source": [
    "complexity: O(N) time, O(1) space\n"
   ]
  },
  {
   "cell_type": "markdown",
   "metadata": {},
   "source": [
    "- TAKEAWAY: (1) use iterators when u iterate through & creativity to get O(N), (2) use while loops indicing rather than foreach looping"
   ]
  },
  {
   "cell_type": "markdown",
   "metadata": {},
   "source": [
    "### array tips:\n",
    "- brute force is usually O(n) space or O(n^2) time, but iterators help get to O(n) time using just the array with just O(1) iterators space\n",
    "- write values from the back rather than the front (faster cuz no shift)\n",
    "- overwrite instead of deleting an entries to avoid shifting\n",
    "- consider processing from the back (or both at the same time like this!)\n",
    "    - RV reverse int arrays so least-significant digit in first entry\n",
    "- write subarray code (slices) easily\n",
    "- off-by-1 errors are common - end your iterations properly\n",
    "- ignore original values of array until return\n",
    "- RV An array can serve as a good data structure when you know the distribution of the elements in\n",
    "advance. For example, a Boolean array of length W is a good choice for representing a subset\n",
    "of {0, 1, . . . , W − 1}. (When using a Boolean array to represent a subset of {1, 2, 3, . . . , n}, allocate\n",
    "an array of size n + 1 to simplify indexing.)\n",
    "- parallel logic on 2D arrays \n",
    "- LV Sometimes it’s easier to simulate the specification, than to analytically solve for the result. For\n",
    "example, rather than writing a formula for the i-th entry in the spiral order for an n × n matrix,\n",
    "just compute the output from the beginning."
   ]
  },
  {
   "cell_type": "markdown",
   "metadata": {},
   "source": [
    "- list and tuple are similar except tuple immutable\n",
    "- list dynamically sized\n",
    "- len(A), A.append(N)==A.insert(len(A), N), A.remove(N) (removes FIRST item in list with value N), A.insert(position, item)\n",
    "- a in A checks if a is in A -> O(N)"
   ]
  },
  {
   "cell_type": "code",
   "execution_count": 147,
   "metadata": {},
   "outputs": [],
   "source": [
    "%%script false\n",
    "\n",
    "'''make a list'''\n",
    "list(); [1, 3, 4, 5]; [1] + [0] * 10; list(range(100)); [[1,2,4],[3,5,7,9],[13]]\n",
    "\n",
    "'''functions/operations'''\n",
    "len(A) \n",
    "A.append(N)==A.insert(len(A), N) #O(1)\n",
    "A.remove(N) #(removes FIRST item in list with value N) O(N)\n",
    "A.insert(position, item) #O(N)\n",
    "\n",
    "#RV\n",
    "min(A); max(A) - # O(N)\n",
    "A.reverse() #done IN-PLACE O(N)\n",
    "A.reversed() #returns iterator - O(N)\n",
    "A.sort() #in place O(N) to O (n log N)\n",
    "A.sorted() #returns copy O(N log N????)\n",
    "del A[i]; del A[i:j] #deletes entry or slice at O(N)\n",
    "'''checking a value inside array is O(N)'''\n",
    "2 in A"
   ]
  },
  {
   "cell_type": "markdown",
   "metadata": {},
   "source": [
    "## SHALLOW COPY VS DEEPCOPY vs ASSIGNMENT"
   ]
  },
  {
   "cell_type": "code",
   "execution_count": 148,
   "metadata": {},
   "outputs": [],
   "source": [
    "%%script false\n",
    "'''difference between'''\n",
    "B = A\n",
    "B = list(A)\n",
    "\n",
    "copy.copy(A)\n",
    "copy.deepcopy(A)"
   ]
  },
  {
   "cell_type": "code",
   "execution_count": null,
   "metadata": {},
   "outputs": [],
   "source": [
    "'''slicing'''\n",
    "A[i:]\n",
    "A[i:j]\n",
    "A[:j]\n",
    "#with negs\n",
    "''' RV\n",
    "A[:-1] is [1, 6, 3, 4, 5, 2], A[-3:] is [5, 2,\n",
    "7], A[-3:-1] is [5, 2], A[1:5:2] is [6, 4], A[5:1:-2] is [2, 4], and A[::-1] is [7, 2, 5,\n",
    "4, 3, 6, 1] (reverses list). Slicing can also be used to rotate a list: A[k:] + A[:k] rotates A\n",
    "by k to the left. It can also be used to create a copy: B = A[:] does a (shallow) copy of A into\n",
    "B\n",
    "'''"
   ]
  },
  {
   "cell_type": "code",
   "execution_count": null,
   "metadata": {},
   "outputs": [],
   "source": [
    "'''RV list comphreension'''"
   ]
  },
  {
   "cell_type": "markdown",
   "metadata": {},
   "source": [
    "## 5.2: increment an arbitrary-precision integer"
   ]
  },
  {
   "cell_type": "markdown",
   "metadata": {},
   "source": [
    "Write a program which takes as input asn array of digits encoding a decimal integer D and updates the array to represent the integer D+1. \n",
    "\n",
    "For example, if the input is [1, 2, 9], then you should update the array to [1, 3, 0]. Your algorithm should work even if it is implemented in a lanugage that has finite-precision arithmetic\n",
    "hint:...\n",
    "experimwnt with concrete examples"
   ]
  },
  {
   "cell_type": "markdown",
   "metadata": {},
   "source": [
    "positive case:\n",
    "- case 1:\n",
    "    the ones digit is between 0 and 8 (easy case)\n",
    "- case 2:\n",
    "    the ones digit is 9\n",
    "    - case 2.N:\n",
    "        the tens digit is 9\n",
    "    \n",
    "--- how is a negative number represented in this array since it is an array of ints? this next part might be pointless\n",
    "XXX ignore the negative case.\n",
    "\n",
    "negative case:\n",
    "- case 3:\n",
    "    the ones digit is 0"
   ]
  },
  {
   "cell_type": "code",
   "execution_count": null,
   "metadata": {},
   "outputs": [],
   "source": []
  },
  {
   "cell_type": "code",
   "execution_count": null,
   "metadata": {},
   "outputs": [],
   "source": [
    "999"
   ]
  },
  {
   "cell_type": "code",
   "execution_count": 1,
   "metadata": {},
   "outputs": [
    {
     "data": {
      "text/plain": [
       "[1, 9, 9, 9]"
      ]
     },
     "execution_count": 1,
     "metadata": {},
     "output_type": "execute_result"
    }
   ],
   "source": [
    "[1] + [9, 9, 9]"
   ]
  },
  {
   "cell_type": "code",
   "execution_count": 7,
   "metadata": {},
   "outputs": [],
   "source": [
    "#MY brute force solution\n",
    "def increment_array(array):\n",
    "    '''\n",
    "    takes in an array that 'represents' an integer. returns an array with the int++\n",
    "    example input: [1, 3, 0]\n",
    "    output of ^ : [1, 3, 1]\n",
    "    '''\n",
    "    index = len(array) - 1\n",
    "    while index >= 0:\n",
    "        if array[index] != 9:\n",
    "            array[index] += 1\n",
    "            break\n",
    "        else:\n",
    "            array[index] = 0\n",
    "            if index == 0:   #you can move this statement outside'''\n",
    "                #consider using array.insert(0, 1) instead.\n",
    "                array = [1] + array  \n",
    "        index -= 1\n",
    "        \n",
    "    return array"
   ]
  },
  {
   "cell_type": "code",
   "execution_count": 8,
   "metadata": {},
   "outputs": [
    {
     "data": {
      "text/plain": [
       "[1, 0]"
      ]
     },
     "execution_count": 8,
     "metadata": {},
     "output_type": "execute_result"
    }
   ],
   "source": [
    "increment_array([9])"
   ]
  },
  {
   "cell_type": "markdown",
   "metadata": {},
   "source": [
    "The complexity of this solution is O(N) since we traverse the array once and perform O(1) ops within each loop iteration\n",
    "However, when we encounter a 9 in the 0th index, we have to shift the array to the side 1, wheich is an O(N) operation.\n",
    "\n",
    "however, it should still be O(N) cuz 2N = N by complexity math\n",
    "\n",
    "we use O(N+1) space ecomplexity cuz i use new array in the case of shifting\n",
    "-using array.insert(0, 1) will keep time complexity at O(n) while reducing space complexity to O(1)"
   ]
  },
  {
   "cell_type": "code",
   "execution_count": 1,
   "metadata": {},
   "outputs": [],
   "source": [
    "#BOOKS BRUTE FORCE SOLUTION:\n",
    "'''convert array of single digit ints to actual int, then just add 1 to the actual int, then convert back to original array format'''\n",
    "#bad because doesnt work if my arraay is really big and we get int overflow.\n",
    "def increment_array_brute_book(array):\n",
    "    index = len(array) - 1\n",
    "    multiplier = 1\n",
    "    Sum = 0\n",
    "    while(index >= 0):\n",
    "        Sum += array[index] * multiplier\n",
    "        index -= 1\n",
    "        multiplier *= 10\n",
    "\n",
    "    #now we have the actual integer as an integer!\n",
    "    Sum += 1\n",
    "    \n",
    "    arr = []\n",
    "    while(Sum != 0):\n",
    "        arr.insert(0, Sum % 10)\n",
    "        Sum //= 10\n",
    "\n",
    "    return arr"
   ]
  },
  {
   "cell_type": "code",
   "execution_count": 9,
   "metadata": {},
   "outputs": [
    {
     "data": {
      "text/plain": [
       "[9, 9]"
      ]
     },
     "execution_count": 9,
     "metadata": {},
     "output_type": "execute_result"
    }
   ],
   "source": [
    "arr"
   ]
  },
  {
   "cell_type": "code",
   "execution_count": 14,
   "metadata": {},
   "outputs": [],
   "source": [
    "arr = [-9]\n",
    "#increment_array_brute_book(arr)"
   ]
  },
  {
   "cell_type": "code",
   "execution_count": 13,
   "metadata": {},
   "outputs": [
    {
     "name": "stdout",
     "output_type": "stream",
     "text": [
      "2\n",
      "1\n"
     ]
    }
   ],
   "source": [
    "for i in reversed(range(1, len(arr))):\n",
    "    print(i)"
   ]
  },
  {
   "cell_type": "code",
   "execution_count": 30,
   "metadata": {},
   "outputs": [],
   "source": [
    "# Book's fast solution (pretty much same as mine)\n",
    "def plus_one(A):\n",
    "    # increments the final element in A by 1\n",
    "    A[-1] += 1\n",
    "    #get reversed iterator O(N), skipping 0th index??? - iterate from end of the array to the 1th index\n",
    "        #note if single digit, the single digit will be incremented from the prior, and the loop is skipped\n",
    "    for i in reversed(range(1, len(A))):\n",
    "        #if the rightmost digit is not ten, then it was b/w 0-8, so its the simple case and it just added 1.\n",
    "        if A[i] != 10:\n",
    "            break\n",
    "        #otherwise, it is ten and the digit was 9 - set it to 0 and put 1 carryover to thhenext digit. then look at next digit.\n",
    "        A[i] = 0\n",
    "        A[i - 1] += 1\n",
    "    if A[0] == 10:\n",
    "        #need additional digit as the most significant digit has a carry-out\n",
    "        A[0] = 0\n",
    "        A.insert(0,1)\n",
    "    return A\n",
    "#complexity is O(n)"
   ]
  },
  {
   "cell_type": "code",
   "execution_count": 27,
   "metadata": {},
   "outputs": [
    {
     "data": {
      "text/plain": [
       "8"
      ]
     },
     "execution_count": 27,
     "metadata": {},
     "output_type": "execute_result"
    }
   ],
   "source": [
    "[1,0,9,8][-1]"
   ]
  },
  {
   "cell_type": "code",
   "execution_count": 21,
   "metadata": {},
   "outputs": [
    {
     "data": {
      "text/plain": [
       "[-1, -1, 3, 0]"
      ]
     },
     "execution_count": 21,
     "metadata": {},
     "output_type": "execute_result"
    }
   ],
   "source": [
    "increment_array([-1, -1, 3, -1])"
   ]
  },
  {
   "cell_type": "markdown",
   "metadata": {},
   "source": [
    "### 5.2 variant: write a program which takes as input two strings s and t of bits encoding binary numbers B_s and B_t, respectively, and returns a new string of bits representing the number B_s + B_t"
   ]
  },
  {
   "cell_type": "code",
   "execution_count": 119,
   "metadata": {},
   "outputs": [
    {
     "data": {
      "text/plain": [
       "['a', 'a', 'a']"
      ]
     },
     "execution_count": 119,
     "metadata": {},
     "output_type": "execute_result"
    }
   ],
   "source": [
    "3 * ['a']"
   ]
  },
  {
   "cell_type": "code",
   "execution_count": null,
   "metadata": {},
   "outputs": [],
   "source": [
    "def extend_bits(s, diff):\n",
    "    temp = ''\n",
    "    leading_bit = s[0]\n",
    "    for i in range(len(diff)):\n",
    "        temp.append(leading_bit)\n",
    "    temp.append(s)\n",
    "    s = temp\n",
    "    return s\n",
    "\n",
    "def add_binary(s, t):\n",
    "    #first thing is check size of both strings in case we need to do bit extension\n",
    "    if len(s) != len(t):\n",
    "        if len(s) > len(t):\n",
    "            t = extend_bits(t, abs(len(s) - len(t)))\n",
    "        else:\n",
    "            s = extend_bits(s, abs(len(s) - len(t)))\n",
    "    \n",
    "    Sum = ''\n",
    "    \n",
    "    #SLOW WAY - make a chr array and parse it and thus parsing each char of each binary string and put inside char array\n",
    "    #then, parse char array and add it to a string\n",
    "    chararr = len(s) * ['']\n",
    "    index = len(chararr) - 1\n",
    "    carry = False\n",
    "    while(index >= 0)\n",
    "        if s[index] == '0' and t[index] == '0':\n",
    "            if not carry:\n",
    "                chararr[index] = '0'\n",
    "            else:\n",
    "                chararr[index] = '1'\n",
    "                carry = False\n",
    "        elif s[index] != t[index]:\n",
    "            if not carry:\n",
    "                chararr[index] = '1'\n",
    "            else:\n",
    "                chararr[index] = '0'\n",
    "                carry = False\n",
    "        elif s[index] == '1' and t[index] == '1':\n",
    "            if not carry:\n",
    "                chararr[index] = '0'\n",
    "            else:\n",
    "                chararr[index] = '1'\n",
    "            carry = True\n",
    "        else:\n",
    "            print('you have a problem with your string(s)')\n",
    "        index -= 1\n",
    "    \n",
    "    '''HOW DO WE HANDLE CASE WHERE '''\n",
    "    if carry:\n",
    "        if s[0] == '0' and t[0] == '0':\n",
    "            chararr.insert(0, 1)\n",
    "            chararr.insert(0, 0) # to distinguish this as a positive number\n",
    "        elif s[0] != t[0]:\n",
    "            chararr.insert()\n",
    "        elif s[index] == '1' and t[index] == '1':\n",
    "            pass\n",
    "\n",
    "            \n",
    "    '''insert addtional processing to get from 0s and 1s chars in an array to into a string'''\n",
    "    return Sum\n",
    "    #############RV DAWG WTFFF\n",
    "    \n",
    "    #can this take negative inputs?"
   ]
  },
  {
   "cell_type": "markdown",
   "metadata": {},
   "source": [
    "- RV - all you gotta do is exntend the leading bit when you copnvert from less to more bits - perserves value and sign cuz 2's complement is bae"
   ]
  },
  {
   "cell_type": "markdown",
   "metadata": {},
   "source": [
    "## 5.17: Sudoku checker problem"
   ]
  },
  {
   "cell_type": "markdown",
   "metadata": {},
   "source": [
    "in sudoku, fill a 9x9 grid with digits subject to constraint that each row/column/3x3-grid each all contain unique integers in 1 to 9\n",
    "- check whether a 9x9 grid containing partially completd sudoku is valid. aka check that no row, no column, or 3x3 2D subarray contains duplicates. a 0-value in the 2D array indiciates that the entry is blank, every other entry is in [1,9] hint... directly test constaints, use arrays to encode sets\n"
   ]
  },
  {
   "cell_type": "code",
   "execution_count": 34,
   "metadata": {},
   "outputs": [],
   "source": [
    "#There is zero clarification on the format of inputs, so i'm going to assume a 2D array since its more logical.\n",
    "arr = [\n",
    "    [1, 2, 3, 4, 5, 6, 7, 8, 9],\n",
    "    [1, 2, 3, 4, 5, 6, 7, 8, 9],\n",
    "    [1, 2, 3, 4, 5, 6, 7, 8, 9],\n",
    "    [1, 2, 3, 4, 5, 6, 7, 8, 9],\n",
    "    [1, 2, 3, 4, 5, 6, 7, 8, 9],\n",
    "    [1, 2, 3, 4, 5, 6, 7, 8, 9],\n",
    "    [1, 2, 3, 4, 5, 6, 7, 8, 9],\n",
    "    [1, 2, 3, 4, 5, 6, 7, 8, 9],\n",
    "    [1, 2, 3, 4, 5, 6, 7, 8, 9]\n",
    "    \n",
    "]"
   ]
  },
  {
   "cell_type": "code",
   "execution_count": 64,
   "metadata": {},
   "outputs": [
    {
     "data": {
      "text/plain": [
       "[]"
      ]
     },
     "execution_count": 64,
     "metadata": {},
     "output_type": "execute_result"
    }
   ],
   "source": [
    "arr[0:0]"
   ]
  },
  {
   "cell_type": "markdown",
   "metadata": {},
   "source": [
    "- three checks - (1) 3x3 matrix, (2) row, (3) column. Note that A[row indexer][column indexer]\n",
    "(1) A[0:2][0:2], A[0:2][3:5], A[0:2][6:8],\n",
    "    A[3:5][0:2], A[3:5][3:5], A[3:5][6:8],\n",
    "    A[6:8][0:2], A[6:8][3:5], A[6:8][6:8]\n",
    "(2) A[N][:]\n",
    "(3) A[:][N]\n",
    "- RV note that when slicing A[i:j], we never grab the j-th element."
   ]
  },
  {
   "cell_type": "code",
   "execution_count": null,
   "metadata": {},
   "outputs": [],
   "source": []
  },
  {
   "cell_type": "code",
   "execution_count": 53,
   "metadata": {},
   "outputs": [
    {
     "data": {
      "text/plain": [
       "{1, 2, 3, 4, 5, 6, 7, 8, 9}"
      ]
     },
     "execution_count": 53,
     "metadata": {},
     "output_type": "execute_result"
    }
   ],
   "source": [
    "allowedset"
   ]
  },
  {
   "cell_type": "code",
   "execution_count": 56,
   "metadata": {},
   "outputs": [],
   "source": [
    "allowedset -= {1}"
   ]
  },
  {
   "cell_type": "code",
   "execution_count": 57,
   "metadata": {},
   "outputs": [
    {
     "data": {
      "text/plain": [
       "{2, 3, 4, 5, 6, 7, 8, 9}"
      ]
     },
     "execution_count": 57,
     "metadata": {},
     "output_type": "execute_result"
    }
   ],
   "source": [
    "allowedset"
   ]
  },
  {
   "cell_type": "code",
   "execution_count": 54,
   "metadata": {},
   "outputs": [
    {
     "data": {
      "text/plain": [
       "{2, 3, 4, 5, 6, 7, 8, 9}"
      ]
     },
     "execution_count": 54,
     "metadata": {},
     "output_type": "execute_result"
    }
   ],
   "source": [
    "allowedset - {1}"
   ]
  },
  {
   "cell_type": "code",
   "execution_count": 50,
   "metadata": {},
   "outputs": [],
   "source": [
    "allowedset = set([1, 2, 3, 4, 5, 6, 7, 8, 9])"
   ]
  },
  {
   "cell_type": "code",
   "execution_count": 68,
   "metadata": {},
   "outputs": [
    {
     "data": {
      "text/plain": [
       "0"
      ]
     },
     "execution_count": 68,
     "metadata": {},
     "output_type": "execute_result"
    }
   ],
   "source": [
    "9 % 3"
   ]
  },
  {
   "cell_type": "code",
   "execution_count": 65,
   "metadata": {},
   "outputs": [
    {
     "data": {
      "text/plain": [
       "9"
      ]
     },
     "execution_count": 65,
     "metadata": {},
     "output_type": "execute_result"
    }
   ],
   "source": [
    "len(arr)"
   ]
  },
  {
   "cell_type": "code",
   "execution_count": null,
   "metadata": {},
   "outputs": [],
   "source": [
    "def sudoku_checker(arr):\n",
    "    '''\n",
    "    takes in a 2D array and returns true if the sudoku fills is valid and false if invalid\n",
    "    '''\n",
    "    #check rows:\n",
    "    #iterate through each row\n",
    "    for row in range(len(arr)): #O(N)\n",
    "        allowedset = set(range(1, len(arr) + 1) #O(N)\n",
    "        #iterate through each item in each row\n",
    "        for ri in range(len(arr)):\n",
    "            item = arr[row][ri]\n",
    "            #if the item is 0, go to the next item\n",
    "            if item == 0:\n",
    "                continue\n",
    "            else:\n",
    "                #if the entry hasnt bene used in this row yet\n",
    "                if item in allowedset: # sqrt(N) * N\n",
    "                    #remove the entry from the allowed set leftover\n",
    "                    allowedset -= {item} # sqrt(N) * N\n",
    "                #otherwise, if it has been used already for this row\n",
    "                else:\n",
    "                    return False\n",
    "    #check columns:\n",
    "    for col in range(len(arr)):\n",
    "        allowedset = set(range(1, len(arr) + 1) #O(N)\n",
    "        #iterate through each item in each col\n",
    "        for ci in range(len(arr)):\n",
    "            item = arr[ci][col]\n",
    "            #if the item is 0, go to the next item\n",
    "            if item == 0:\n",
    "                continue\n",
    "            else:\n",
    "                #if the entry hasnt bene used in this col yet\n",
    "                if item in allowedset:\n",
    "                    #remove the entry from the allowed set leftover\n",
    "                    allowedset -= {item}\n",
    "                #otherwise, if it has been used already for this col\n",
    "                else:\n",
    "                    return False\n",
    "    #check submatrices\n",
    "    for rowincr in range(0, len(arr), int(math.sqrt(len(arr)))):# sqrtN/3\n",
    "        for colincr in range(0, len(arr), int(math.sqrt(len(arr)))): #sqrtN/3\n",
    "            allowedset = set(range(1, len(arr) + 1) #O(N)\n",
    "            for bri in range(math.sqrt(len(arr))): #sqrtN/3\n",
    "                for bci in range(math.sqrt(len(arr))): #sqrtN/3\n",
    "                    item = arr[bri+rowincr][cri+colincr] #O(1)\n",
    "                    if item in allowedset: #sqrt(N) * N\n",
    "                        allowedset -= {item} #sqrt(N) * N\n",
    "                    else:\n",
    "                        return False\n",
    "    return True"
   ]
  },
  {
   "cell_type": "code",
   "execution_count": 73,
   "metadata": {},
   "outputs": [],
   "source": [
    "import math "
   ]
  },
  {
   "cell_type": "code",
   "execution_count": 75,
   "metadata": {},
   "outputs": [
    {
     "name": "stdout",
     "output_type": "stream",
     "text": [
      "0\n",
      "3\n",
      "6\n"
     ]
    }
   ],
   "source": [
    "for item in range(0, len(arr), int(math.sqrt(len(arr)))):\n",
    "    print(item)"
   ]
  },
  {
   "cell_type": "markdown",
   "metadata": {},
   "source": [
    "6*SQRT(N) * N + 2O(N) + 2O(N) + (sqrt(N)/3)^4 = 3N * 6SQRT(N) + N^2/81 = O(N^2)\n",
    "sqrt(N) space."
   ]
  },
  {
   "cell_type": "code",
   "execution_count": 69,
   "metadata": {},
   "outputs": [],
   "source": [
    "#RV\n",
    "def has_duplicate(block):\n",
    "    block = list(filter(lambda x: x != 0, block))\n",
    "    return len(block) != len(set(block))"
   ]
  },
  {
   "cell_type": "code",
   "execution_count": 71,
   "metadata": {},
   "outputs": [
    {
     "data": {
      "text/plain": [
       "True"
      ]
     },
     "execution_count": 71,
     "metadata": {},
     "output_type": "execute_result"
    }
   ],
   "source": [
    "has_duplicate([1, 0, 2, 3, 5, 8, 0, 9, 1])"
   ]
  },
  {
   "cell_type": "code",
   "execution_count": null,
   "metadata": {},
   "outputs": [],
   "source": [
    "[0, 0, 2, 3, 5, 8, 0, 9, 1]"
   ]
  },
  {
   "cell_type": "code",
   "execution_count": null,
   "metadata": {},
   "outputs": [],
   "source": [
    "#book soln RV\n",
    "def is_valid_sudoku(partial_assignment):\n",
    "    def has_duplicate(block):\n",
    "        block = list(filter(lambda x: x != 0, block))\n",
    "        return len(block) != len(set(block))\n",
    "    \n",
    "    n = len(partial_assignment)\n",
    "    #check row/cols\n",
    "    if any(\n",
    "            has_duplicate([partial_assignment[i][j] for j in range(n)]) or\n",
    "            has_duplicate([partial_assignment[j][i] for j in range(n)])\n",
    "            for i in range(n)):\n",
    "        return False\n",
    "    \n",
    "    # check region constaints\n",
    "    region_size = int(math.sqrt(n))\n",
    "    return all(not has_duplicate([\n",
    "        partial_assignment[a][b]\n",
    "        for a in range(region_size * I, region_size * (I + 1))\n",
    "        for b in range(region_size * J, region_size * (J + 1))\n",
    "    ]) for I in range(region_size) for J in range(region_size))"
   ]
  },
  {
   "cell_type": "markdown",
   "metadata": {},
   "source": [
    "O(N^2) + O(N^2) + O(N^2 / ((sqrt(N))^2 * (sqrt(N))^2)) ) = O(N^2)\n",
    "row + col + subgrids, where N = 9, not 81."
   ]
  },
  {
   "cell_type": "markdown",
   "metadata": {},
   "source": [
    "## Chapter 6: strings 6.5 6.6"
   ]
  },
  {
   "cell_type": "markdown",
   "metadata": {},
   "source": [
    "- strings are character arrays - separated from regular arr cuz stuff like comparison/join/split/substr doesnt make sense in regular arrays\n",
    "- HOW are strings represented in memory \n",
    "- basic string ops - comparison, copying, joining, splitting, matching\n",
    "str.find(sub,start,end) #O(N)\n"
   ]
  },
  {
   "cell_type": "code",
   "execution_count": null,
   "metadata": {},
   "outputs": [],
   "source": [
    "#string boot camp: check if a string a palindrome -mysoln\n",
    "# a palindrome is a string that is the same when reversed vs original\n",
    "def isPalindrome(string):\n",
    "    '''\n",
    "    returns true if string is a palindrome and false otherwise\n",
    "    '''\n",
    "    beg = 0\n",
    "    end = len(string) - 1\n",
    "    while(beg > end):\n",
    "        if string[beg] != string[end]:\n",
    "            return False\n",
    "        beg += 1\n",
    "        end -= 1\n",
    "        \n",
    "    return True"
   ]
  },
  {
   "cell_type": "code",
   "execution_count": 80,
   "metadata": {},
   "outputs": [
    {
     "data": {
      "text/plain": [
       "1"
      ]
     },
     "execution_count": 80,
     "metadata": {},
     "output_type": "execute_result"
    }
   ],
   "source": [
    "~-2"
   ]
  },
  {
   "cell_type": "markdown",
   "metadata": {},
   "source": [
    "RV - The unary operator ~ simply just flips the bits. this is the equivalent to performing -(x + 1) due to how two's complement works."
   ]
  },
  {
   "cell_type": "code",
   "execution_count": 81,
   "metadata": {},
   "outputs": [
    {
     "data": {
      "text/plain": [
       "4"
      ]
     },
     "execution_count": 81,
     "metadata": {},
     "output_type": "execute_result"
    }
   ],
   "source": [
    "arr = [1, 2, 3, 4, 5]\n",
    "arr[-2]"
   ]
  },
  {
   "cell_type": "markdown",
   "metadata": {},
   "source": [
    "RV - know how to index arrays with negative numbers - it just overflows"
   ]
  },
  {
   "cell_type": "code",
   "execution_count": null,
   "metadata": {},
   "outputs": [],
   "source": [
    "#string bootcamp - their solution\n",
    "def is_palindromic(s):\n",
    "    # note that s[~i] for i in [0, len(s) -1)] is s[-(i +1)]\n",
    "    return all(s[i] == s[~i] for i in range(len(s) // 2))\n",
    "# time complexity O(N) space O(1)\n",
    "\n",
    "'''\n",
    "all() performs an ANDing between all elements in the sequence.\n",
    "i is the regular index, and doing ~i should yield the index 'on the other side'\n",
    "comparing whether or not the char at i and on 'the other side' for all chars\n",
    "and then ANDing their results\n",
    "'''"
   ]
  },
  {
   "cell_type": "code",
   "execution_count": 82,
   "metadata": {},
   "outputs": [
    {
     "data": {
      "text/plain": [
       "True"
      ]
     },
     "execution_count": 82,
     "metadata": {},
     "output_type": "execute_result"
    }
   ],
   "source": [
    "'dude' in 'dudet'"
   ]
  },
  {
   "cell_type": "code",
   "execution_count": 89,
   "metadata": {},
   "outputs": [
    {
     "name": "stdout",
     "output_type": "stream",
     "text": [
      "010101\n"
     ]
    },
    {
     "data": {
      "text/plain": [
       "''"
      ]
     },
     "execution_count": 89,
     "metadata": {},
     "output_type": "execute_result"
    }
   ],
   "source": [
    "string = (3 * '01')\n",
    "print(string)\n",
    "string.split('0')[0]"
   ]
  },
  {
   "cell_type": "code",
   "execution_count": 86,
   "metadata": {},
   "outputs": [
    {
     "data": {
      "text/plain": [
       "['dude', 'wtf', 'bbq']"
      ]
     },
     "execution_count": 86,
     "metadata": {},
     "output_type": "execute_result"
    }
   ],
   "source": [
    "'dude,wtf,bbq'.split(',')"
   ]
  },
  {
   "cell_type": "code",
   "execution_count": null,
   "metadata": {},
   "outputs": [],
   "source": [
    "string[3], len(string), string1 + string2, string[i:j]\n",
    "#all list slicing is the same for strings, since strings are just different lists\n",
    "- 'string1' in 'string2'\n",
    "str.strip(characters_to_strip_otherwise_whitespace)\n",
    "str.startswith(prefix); str.endswith(suffix)\n",
    "['dude', 'wtf', 'bbq'] = 'dude,wtf,bbq'.split(',')\n",
    "','.join(('bro', 'kys'))\n",
    "'010101' = 3 * '01' #weidly has a '' at the beginning if u split it after.\n",
    "str.lower()\n",
    "str.find(sub,start,end) #O(N)\n"
   ]
  },
  {
   "cell_type": "code",
   "execution_count": 92,
   "metadata": {},
   "outputs": [
    {
     "data": {
      "text/plain": [
       "'Name name, Rank rank'"
      ]
     },
     "execution_count": 92,
     "metadata": {},
     "output_type": "execute_result"
    }
   ],
   "source": [
    "#RV what does this do?\n",
    "'Name name, Rank rank'.format(name='Archimedes', rank=3)"
   ]
  },
  {
   "cell_type": "markdown",
   "metadata": {},
   "source": [
    "- STRINGS ARE IMMUTABLE\n",
    "s = s[1:] and s += '123' create a NEW array of chars which are assigned back to S\n",
    "\n",
    "- so, concatenating a char n times is O(N^2) and not O(N)"
   ]
  },
  {
   "cell_type": "markdown",
   "metadata": {},
   "source": [
    "STRING TIPS:\n",
    "- like arrays has O(N) space brute force solns making a new string, but using the string itself can yield O(1) space complkexity\n",
    "- know that STRINGS ARE IMMUTABLE and ALTERNATIVES - ie a list\n",
    "- update a string from front is slow, but back is fast (like arrays)\n"
   ]
  },
  {
   "cell_type": "markdown",
   "metadata": {},
   "source": [
    "## 6.5: Test palindromicity: \n",
    "define a palindromic string to a be a string which when all the nonalphanumeric are removed it reads the same front to back ignoring case\n",
    "for example, \"A man, a plan, a canal, Panama.\" and \"Able was I, ere I saw Elba!\" are Palindromic by this specification, but \"Ray a Ray\" is not\n",
    "FCN should take a string as input and return true or false if it is palindromic or not respectively. HINT...\n"
   ]
  },
  {
   "cell_type": "code",
   "execution_count": 94,
   "metadata": {},
   "outputs": [
    {
     "ename": "ValueError",
     "evalue": "invalid literal for int() with base 10: 'a'",
     "output_type": "error",
     "traceback": [
      "\u001b[0;31m---------------------------------------------------------------------------\u001b[0m",
      "\u001b[0;31mValueError\u001b[0m                                Traceback (most recent call last)",
      "\u001b[0;32m<ipython-input-94-233884bacd4e>\u001b[0m in \u001b[0;36m<module>\u001b[0;34m()\u001b[0m\n\u001b[0;32m----> 1\u001b[0;31m \u001b[0mint\u001b[0m\u001b[0;34m(\u001b[0m\u001b[0;34m'a'\u001b[0m\u001b[0;34m)\u001b[0m\u001b[0;34m\u001b[0m\u001b[0m\n\u001b[0m",
      "\u001b[0;31mValueError\u001b[0m: invalid literal for int() with base 10: 'a'"
     ]
    }
   ],
   "source": [
    "int('a')"
   ]
  },
  {
   "cell_type": "code",
   "execution_count": 100,
   "metadata": {},
   "outputs": [
    {
     "data": {
      "text/plain": [
       "'asfadsfsa'"
      ]
     },
     "execution_count": 100,
     "metadata": {},
     "output_type": "execute_result"
    }
   ],
   "source": [
    "a = 'ASFADSFSA'\n",
    "a.lower()"
   ]
  },
  {
   "cell_type": "code",
   "execution_count": 98,
   "metadata": {},
   "outputs": [],
   "source": [
    "def is_palindromic(s):\n",
    "    # note that s[~i] for i in [0, len(s) -1)] is s[-(i +1)]\n",
    "    return all(s[i] == s[~i] for i in range(len(s) // 2))\n",
    "\n",
    "#brute force solution\n",
    "def palindrome(string):\n",
    "    alphanum = ['abcdefghijklmnopqrstuvwxyz1234567890'] #O(36)\n",
    "    string = string.lower() #O(N)\n",
    "    for ch in range(len(string)): #O(N)\n",
    "        if ch not in alphanum: #O(36)\n",
    "            string.strip(ch) #O(N)\n",
    "            \n",
    "    return is_palindromic(s) #O(N)\n",
    "\n",
    "#O(N^2).\n"
   ]
  },
  {
   "cell_type": "code",
   "execution_count": null,
   "metadata": {},
   "outputs": [],
   "source": [
    "# book naive - make a reversed version of s and compare to s skipping alphanum\n",
    "def palindrome_naive_book(string):\n",
    "    alphanum = 'ABCDEFGHIJKLMNOPQRSTUVWXYZabcdefghijklmnopqrstuvwxyz1234567890'\n",
    "    reverse = ''\n",
    "    "
   ]
  },
  {
   "cell_type": "markdown",
   "metadata": {},
   "source": [
    " - string.isalnum(), string.lower()"
   ]
  },
  {
   "cell_type": "code",
   "execution_count": 117,
   "metadata": {},
   "outputs": [],
   "source": [
    "# book good solution which was mine before\n",
    "def Palindrome_book_good_skip_nonalnum_mine(string):\n",
    "    '''\n",
    "    returns true if string is a palindrome and false otherwise\n",
    "    '''\n",
    "    beg = 0\n",
    "    end = len(string) - 1\n",
    "    while(beg < end):\n",
    "        while(not string[beg].isalnum()):\n",
    "            beg += 1\n",
    "        while(not string[end].isalnum()):\n",
    "            end -= 1\n",
    "        if(beg > end):\n",
    "            break\n",
    "        if string[beg].lower() != string[end].lower():\n",
    "            return False\n",
    "        beg += 1\n",
    "        end -= 1\n",
    "        \n",
    "    return True"
   ]
  },
  {
   "cell_type": "code",
   "execution_count": 105,
   "metadata": {},
   "outputs": [
    {
     "data": {
      "text/plain": [
       "False"
      ]
     },
     "execution_count": 105,
     "metadata": {},
     "output_type": "execute_result"
    }
   ],
   "source": [
    "'A' == 'a'"
   ]
  },
  {
   "cell_type": "code",
   "execution_count": null,
   "metadata": {},
   "outputs": [],
   "source": [
    "Palindrome_book_good_skip_nonalnum_mine"
   ]
  },
  {
   "cell_type": "code",
   "execution_count": 116,
   "metadata": {},
   "outputs": [
    {
     "data": {
      "text/plain": [
       "True"
      ]
     },
     "execution_count": 116,
     "metadata": {},
     "output_type": "execute_result"
    }
   ],
   "source": [
    "string = \"A man, a plan, a canal, Panama..\"\n",
    "Palindrome_book_good_skip_nonalnum_mine('Racecar')"
   ]
  },
  {
   "cell_type": "code",
   "execution_count": null,
   "metadata": {},
   "outputs": [],
   "source": [
    "#book good solution - legit same as mine\n",
    "def is_palindrome(s):\n",
    "    #i moves forward and j moves backward\n",
    "    i = 0\n",
    "    j = len(s) - 1\n",
    "    while (i < j):\n",
    "        #i and j both skip nonalphanumeric characters\n",
    "        while not s[i].isalnum() and i < j:\n",
    "            i += 1\n",
    "        while not s[i].isalnum() and i < j:\n",
    "            j -= 1\n",
    "        if s[i].lower() != s[j].lower():\n",
    "            return False\n",
    "        i, j = i + 1, j - 1\n",
    "    return True"
   ]
  },
  {
   "cell_type": "markdown",
   "metadata": {},
   "source": [
    "runs in O(N) and uses O(1) space."
   ]
  },
  {
   "cell_type": "markdown",
   "metadata": {},
   "source": [
    "## 6.6: reverse all the words in a sentence: \n",
    "given a string containing the set of words separated by whitespace, we would like to transform it to a string which the words appear in the reverse order. for example, 'alice likes bob' turns into 'bob likes alice'. we dont need to keeep the original string"
   ]
  },
  {
   "cell_type": "code",
   "execution_count": 126,
   "metadata": {},
   "outputs": [],
   "source": [
    "#brute force\n",
    "def reverse_words(sentence):\n",
    "    arr = sentence.split(' ')\n",
    "    index = len(arr) - 1\n",
    "    reversed_sentence = ''\n",
    "    while (index >= 0):\n",
    "        reversed_sentence += arr[index]\n",
    "        if index != 0:\n",
    "            reversed_sentence += ' '\n",
    "        index -= 1\n",
    "    return reversed_sentence"
   ]
  },
  {
   "cell_type": "code",
   "execution_count": 127,
   "metadata": {},
   "outputs": [
    {
     "data": {
      "text/plain": [
       "'bob likes alice'"
      ]
     },
     "execution_count": 127,
     "metadata": {},
     "output_type": "execute_result"
    }
   ],
   "source": [
    "reverse_words('alice likes bob')"
   ]
  },
  {
   "cell_type": "markdown",
   "metadata": {},
   "source": [
    "Complexity is O(str.split) + O(N) "
   ]
  },
  {
   "cell_type": "code",
   "execution_count": 136,
   "metadata": {},
   "outputs": [],
   "source": [
    "#without any serious fcns - array creation 2x, O(N) characters, array append 2Nx, \n",
    "def reverse_words_primitive(sentence):\n",
    "    arr = ['']\n",
    "    index = 0\n",
    "    for char in sentence:\n",
    "        if char != ' ':\n",
    "            arr[index] += (char)\n",
    "        else:\n",
    "            arr.append('')\n",
    "            index += 1\n",
    "    concat = ''\n",
    "    index = len(arr) - 1\n",
    "    while(index >= 0):\n",
    "        concat += arr[index]\n",
    "        if index != 0:\n",
    "            concat += ' '\n",
    "        index -= 1\n",
    "    \n",
    "    return concat\n",
    "    "
   ]
  },
  {
   "cell_type": "code",
   "execution_count": 137,
   "metadata": {},
   "outputs": [
    {
     "data": {
      "text/plain": [
       "'bob likes alice'"
      ]
     },
     "execution_count": 137,
     "metadata": {},
     "output_type": "execute_result"
    }
   ],
   "source": [
    "reverse_words_primitive('alice likes bob')"
   ]
  },
  {
   "cell_type": "code",
   "execution_count": 140,
   "metadata": {},
   "outputs": [
    {
     "ename": "AttributeError",
     "evalue": "'str' object has no attribute 'reverse'",
     "output_type": "error",
     "traceback": [
      "\u001b[0;31m---------------------------------------------------------------------------\u001b[0m",
      "\u001b[0;31mAttributeError\u001b[0m                            Traceback (most recent call last)",
      "\u001b[0;32m<ipython-input-140-48c6829bf04f>\u001b[0m in \u001b[0;36m<module>\u001b[0;34m()\u001b[0m\n\u001b[0;32m----> 1\u001b[0;31m \u001b[0ma\u001b[0m\u001b[0;34m[\u001b[0m\u001b[0;36m2\u001b[0m\u001b[0;34m:\u001b[0m\u001b[0;36m3\u001b[0m\u001b[0;34m]\u001b[0m\u001b[0;34m.\u001b[0m\u001b[0mreverse\u001b[0m\u001b[0;34m(\u001b[0m\u001b[0;34m)\u001b[0m\u001b[0;34m\u001b[0m\u001b[0m\n\u001b[0m",
      "\u001b[0;31mAttributeError\u001b[0m: 'str' object has no attribute 'reverse'"
     ]
    }
   ],
   "source": [
    "a[2:3].reverse()"
   ]
  },
  {
   "cell_type": "code",
   "execution_count": null,
   "metadata": {},
   "outputs": [],
   "source": [
    "a = 'string'\n",
    "def reverse()\n",
    "    beg = 0\n",
    "    end = len(a) - 1\n",
    "    for "
   ]
  },
  {
   "cell_type": "code",
   "execution_count": null,
   "metadata": {},
   "outputs": [],
   "source": [
    "#their solution is to reverse the whole string O(N) and then reverse each word O(N) separated by whitespace meaning gotta find whitespace loc O(N)\n",
    "\n",
    "def reverse_words_my_attemp_at_theirs(s):\n",
    "    s.reverse() #O(N)\n",
    "    for \n",
    "    s.find(' ')"
   ]
  },
  {
   "cell_type": "code",
   "execution_count": 142,
   "metadata": {},
   "outputs": [
    {
     "ename": "TypeError",
     "evalue": "'str' object does not support item assignment",
     "output_type": "error",
     "traceback": [
      "\u001b[0;31m---------------------------------------------------------------------------\u001b[0m",
      "\u001b[0;31mTypeError\u001b[0m                                 Traceback (most recent call last)",
      "\u001b[0;32m<ipython-input-142-c5d92037fdb9>\u001b[0m in \u001b[0;36m<module>\u001b[0;34m()\u001b[0m\n\u001b[0;32m----> 1\u001b[0;31m \u001b[0ma\u001b[0m\u001b[0;34m[\u001b[0m\u001b[0;36m0\u001b[0m\u001b[0;34m]\u001b[0m \u001b[0;34m=\u001b[0m \u001b[0ma\u001b[0m\u001b[0;34m[\u001b[0m\u001b[0mlen\u001b[0m\u001b[0;34m(\u001b[0m\u001b[0ma\u001b[0m\u001b[0;34m)\u001b[0m \u001b[0;34m-\u001b[0m\u001b[0;36m1\u001b[0m\u001b[0;34m]\u001b[0m\u001b[0;34m\u001b[0m\u001b[0m\n\u001b[0m",
      "\u001b[0;31mTypeError\u001b[0m: 'str' object does not support item assignment"
     ]
    }
   ],
   "source": [
    "a[0] = a[len(a) -1]"
   ]
  },
  {
   "cell_type": "code",
   "execution_count": 143,
   "metadata": {},
   "outputs": [],
   "source": [
    "# books efficient answer\n",
    "def reverse_words(s):\n",
    "    #reverse the whole string first\n",
    "    s.reverse()\n",
    "    \n",
    "    def reverse_range(s, start, end):\n",
    "        while start < end:\n",
    "            s[start], s[end] = s[end], s[start]\n",
    "            start, end = start + 1, end + 1\n",
    "    \n",
    "    start = 0\n",
    "    while True:\n",
    "        end = s.find(b' ', start)\n",
    "        if end < 0:\n",
    "            break\n",
    "        #reverses each word in the string\n",
    "        reverse_range(s, start, end - 1)\n",
    "        start = end + 1\n",
    "    # reverses the last word\n",
    "    reverse_range(s, start, len(s) - 1)"
   ]
  },
  {
   "cell_type": "code",
   "execution_count": 145,
   "metadata": {},
   "outputs": [],
   "source": [
    "a = ['s', 't', 'r', 'i', 'n', 'g']"
   ]
  },
  {
   "cell_type": "code",
   "execution_count": 146,
   "metadata": {},
   "outputs": [
    {
     "ename": "AttributeError",
     "evalue": "'list' object has no attribute 'find'",
     "output_type": "error",
     "traceback": [
      "\u001b[0;31m---------------------------------------------------------------------------\u001b[0m",
      "\u001b[0;31mAttributeError\u001b[0m                            Traceback (most recent call last)",
      "\u001b[0;32m<ipython-input-146-e68ef033ed67>\u001b[0m in \u001b[0;36m<module>\u001b[0;34m()\u001b[0m\n\u001b[0;32m----> 1\u001b[0;31m \u001b[0mreverse_words\u001b[0m\u001b[0;34m(\u001b[0m\u001b[0ma\u001b[0m\u001b[0;34m)\u001b[0m\u001b[0;34m\u001b[0m\u001b[0m\n\u001b[0m",
      "\u001b[0;32m<ipython-input-143-35c9b71ac1c4>\u001b[0m in \u001b[0;36mreverse_words\u001b[0;34m(s)\u001b[0m\n\u001b[1;32m     11\u001b[0m     \u001b[0mstart\u001b[0m \u001b[0;34m=\u001b[0m \u001b[0;36m0\u001b[0m\u001b[0;34m\u001b[0m\u001b[0m\n\u001b[1;32m     12\u001b[0m     \u001b[0;32mwhile\u001b[0m \u001b[0;32mTrue\u001b[0m\u001b[0;34m:\u001b[0m\u001b[0;34m\u001b[0m\u001b[0m\n\u001b[0;32m---> 13\u001b[0;31m         \u001b[0mend\u001b[0m \u001b[0;34m=\u001b[0m \u001b[0ms\u001b[0m\u001b[0;34m.\u001b[0m\u001b[0mfind\u001b[0m\u001b[0;34m(\u001b[0m\u001b[0;34mb' '\u001b[0m\u001b[0;34m,\u001b[0m \u001b[0mstart\u001b[0m\u001b[0;34m)\u001b[0m\u001b[0;34m\u001b[0m\u001b[0m\n\u001b[0m\u001b[1;32m     14\u001b[0m         \u001b[0;32mif\u001b[0m \u001b[0mend\u001b[0m \u001b[0;34m<\u001b[0m \u001b[0;36m0\u001b[0m\u001b[0;34m:\u001b[0m\u001b[0;34m\u001b[0m\u001b[0m\n\u001b[1;32m     15\u001b[0m             \u001b[0;32mbreak\u001b[0m\u001b[0;34m\u001b[0m\u001b[0m\n",
      "\u001b[0;31mAttributeError\u001b[0m: 'list' object has no attribute 'find'"
     ]
    }
   ],
   "source": [
    "reverse_words(a)"
   ]
  },
  {
   "cell_type": "markdown",
   "metadata": {},
   "source": [
    "MY PROBLEMS WITH THIS PROBLEM:\n",
    "(1) usage of builtin types/functions that do a lot of work frequently in solutions - we dont know the complexity of these\n",
    "(2) it says assume th string is encoded as a bytearray - well try using an arraay of strings 9which are chars) or using just a string - and their soln doesnt work\n",
    "(3) strings are immutable so.... wtf?\n"
   ]
  },
  {
   "cell_type": "markdown",
   "metadata": {},
   "source": [
    "## Chapter 7: Linked lists - 7.4, 7.7"
   ]
  },
  {
   "cell_type": "markdown",
   "metadata": {},
   "source": [
    "terminology review:\n",
    "\n",
    "- singly linked list\n",
    "- has nodes, each node has object and reference to the next node\n",
    "- first node is head node, last node is tail node - last reference is null\n",
    "- doubly linked lists also has references to previous node as well\n",
    "- circular linkeed lists reference from tail to head (and vice versa) instead of to null\n",
    "- linear list like an array"
   ]
  },
  {
   "cell_type": "markdown",
   "metadata": {},
   "source": [
    "- O(1) insertion and deletion\n",
    "- but O(n) access and search"
   ]
  },
  {
   "cell_type": "code",
   "execution_count": null,
   "metadata": {},
   "outputs": [],
   "source": [
    "class ListNode:\n",
    "    '''assume singly linked list with tail pointing to null'''\n",
    "    def __init__(self, data=0, next_node=None):\n",
    "        ''' initializes a ListNode '''\n",
    "        self.data = data\n",
    "        self.next = next_node\n",
    "    def search(self, head, data):\n",
    "        '''returns the first ListNode that has data'''\n",
    "        node = head\n",
    "        while(node != None):\n",
    "            if node.data == data:\n",
    "                return node\n",
    "            node = node.next\n",
    "        return node\n",
    "    def insert_after(self, node, new_node):\n",
    "        new_node.next = node.next\n",
    "        node.next = new_node\n",
    "    def insert(self, newNode, head, previous=None):\n",
    "        '''inserts newNode right after the node \"previous\" if given. otherwise, at end'''\n",
    "        node = head\n",
    "        if previous:\n",
    "            while(node != None):\n",
    "                if node == previous:\n",
    "                    newNode.next = node.next\n",
    "                    node.next = newNode\n",
    "        else:\n",
    "            while(node != None):\n",
    "                if node.next = None:\n",
    "                    node.next = newNode\n",
    "                    break\n",
    "    def delete_after(self, node):\n",
    "        '''delete the node after this node.'''\n",
    "        node.next = node.next.next\n",
    "        "
   ]
  },
  {
   "cell_type": "code",
   "execution_count": null,
   "metadata": {},
   "outputs": [],
   "source": [
    "# boot camp - two types of LL problems (1) make your own list, (2) use STL for Ll\n",
    "'''implement list API containing search, insert, delete'''"
   ]
  },
  {
   "cell_type": "markdown",
   "metadata": {},
   "source": [
    "- reoccurring theme - brute force with a new O(N) space, but using the existing LL keeps space complexity at O(1)\n",
    "- usually simple but clean code is important\n",
    "- RV usee a dummy head aka sentinel to avoid to check empty lists \n",
    "- remember to update next for head and tail (and previous too for DLL)\n",
    "- helpful to use two iterators going the same direction but one ahead of the other in SLL since no previous reference on current node"
   ]
  },
  {
   "cell_type": "markdown",
   "metadata": {},
   "source": [
    "- no STL for LL in python - use user/book defined ones. some include:\n",
    "    - fcn_return_tail(), fcn_return_head(), fcn_add_element_at_node/head/tail()\n",
    "    - fcn_get_value_at_node/head/tail(), fcn_delete_node/head/tail"
   ]
  },
  {
   "cell_type": "markdown",
   "metadata": {},
   "source": [
    "## 7.4 - Test for overlapping lists - lists are cycle-free\n",
    "Given two singly-linked lists there may be list nodes that are common to both. (This may not be a bug, it maay be desirable from the perspective of reducing memory footprint, as in the flyweight pattern, or reducing canonical form.\n",
    "\n",
    "Write a program that takes two cycle-free singly-linked lists, and determines if there exists a node common to both lists\n",
    "\n",
    "HINT: not yet. "
   ]
  },
  {
   "cell_type": "code",
   "execution_count": 151,
   "metadata": {},
   "outputs": [],
   "source": [
    "class Node:\n",
    "    '''assume singly linked list with tail pointing to null'''\n",
    "    def __init__(self, data=0, next_node=None):\n",
    "        ''' initializes a ListNode '''\n",
    "        self.data = data\n",
    "        self.next = next_node"
   ]
  },
  {
   "cell_type": "code",
   "execution_count": 177,
   "metadata": {},
   "outputs": [],
   "source": [
    "# LL1 shares node with LL2, while Ll3 is independent of both\n",
    "\n",
    "head1 = Node()\n",
    "node10 = Node()\n",
    "node11 = Node()\n",
    "node12 = Node()\n",
    "head1.next = node10 \n",
    "node10.next = node11\n",
    "node11.next = node12\n",
    "\n",
    "head2 = Node()\n",
    "node20 = Node()\n",
    "head2.next = node20\n",
    "node20.next = node11\n",
    "\n",
    "head3 = Node()\n",
    "node30 = Node()\n",
    "node31 = Node()\n",
    "head3.next = node30\n",
    "node30.next = node31\n",
    "\n",
    "head1.data = 1\n",
    "node10.data = 10\n",
    "node11.data = 11\n",
    "node12.data = 12\n",
    "head2.data = 2\n",
    "node20.data = 20\n",
    "head3.data = 3\n",
    "node30.data = 30\n",
    "node31.data = 31\n",
    "\n",
    "node1copy = Node()\n",
    "node1copy.data = 1\n",
    "\n"
   ]
  },
  {
   "cell_type": "code",
   "execution_count": 185,
   "metadata": {},
   "outputs": [
    {
     "data": {
      "text/plain": [
       "False"
      ]
     },
     "execution_count": 185,
     "metadata": {},
     "output_type": "execute_result"
    }
   ],
   "source": [
    "node20.next.next == node10.next.next.next"
   ]
  },
  {
   "cell_type": "code",
   "execution_count": 180,
   "metadata": {},
   "outputs": [
    {
     "data": {
      "text/plain": [
       "False"
      ]
     },
     "execution_count": 180,
     "metadata": {},
     "output_type": "execute_result"
    }
   ],
   "source": [
    "node1copy is head1"
   ]
  },
  {
   "cell_type": "code",
   "execution_count": 172,
   "metadata": {},
   "outputs": [],
   "source": [
    "#brute force, O(N * M) solution\n",
    "def contains_common_node(head1, head2):\n",
    "    node1 = head1\n",
    "    node2 = head2\n",
    "    while(node1 != None):\n",
    "        while(node2 != None):\n",
    "            if node1 == node2:\n",
    "                return True\n",
    "            node2 = node2.next\n",
    "        node1 = node1.next\n",
    "        node2 = head2\n",
    "    return False"
   ]
  },
  {
   "cell_type": "code",
   "execution_count": 156,
   "metadata": {},
   "outputs": [
    {
     "data": {
      "text/plain": [
       "False"
      ]
     },
     "execution_count": 156,
     "metadata": {},
     "output_type": "execute_result"
    }
   ],
   "source": [
    "contains_common_node(head2, head3)"
   ]
  },
  {
   "cell_type": "code",
   "execution_count": 170,
   "metadata": {},
   "outputs": [
    {
     "data": {
      "text/plain": [
       "True"
      ]
     },
     "execution_count": 170,
     "metadata": {},
     "output_type": "execute_result"
    }
   ],
   "source": [
    "same_tail_node(head1, head2)"
   ]
  },
  {
   "cell_type": "code",
   "execution_count": 167,
   "metadata": {},
   "outputs": [],
   "source": [
    "dummy = Node()\n",
    "none = None\n",
    "if (none != None and none.next != None):\n",
    "    print('ok')"
   ]
  },
  {
   "cell_type": "code",
   "execution_count": null,
   "metadata": {},
   "outputs": [],
   "source": []
  },
  {
   "cell_type": "code",
   "execution_count": 173,
   "metadata": {},
   "outputs": [],
   "source": [
    "def get_tail(head):\n",
    "    node = head\n",
    "    while(node != None and node.next != None):\n",
    "        node = node.next\n",
    "    return node\n",
    "\n",
    "#my attempt at their efficient solution - they share a node if they have same tail node\n",
    "def same_tail_node(head1, head2):\n",
    "    return get_tail(head1) is get_tail(head2)\n"
   ]
  },
  {
   "cell_type": "code",
   "execution_count": 175,
   "metadata": {},
   "outputs": [
    {
     "data": {
      "text/plain": [
       "False"
      ]
     },
     "execution_count": 175,
     "metadata": {},
     "output_type": "execute_result"
    }
   ],
   "source": [
    "same_tail_node(head1, head3)"
   ]
  },
  {
   "cell_type": "markdown",
   "metadata": {},
   "source": [
    "RV\n",
    "- use != and == for the values two objects have\n",
    "- use is not and is for the memory locations?\n",
    "    - two nodes might have the same everything, but are at different locations.\n",
    "        - well what do I use for LLs?"
   ]
  },
  {
   "cell_type": "code",
   "execution_count": null,
   "metadata": {},
   "outputs": [],
   "source": [
    "# their solution - find first overlapping node in O(N) time and O(1) space\n",
    "def overlapping_no_cycle_lists(L1, L2):\n",
    "    def length(L):\n",
    "        length = 0\n",
    "        while L:\n",
    "            length += 1\n",
    "            L = L.next\n",
    "        return length\n",
    "    \n",
    "    L1_len, L2_len = length(L1), length(L2)\n",
    "    if L1_len > L2_len:\n",
    "        L1, L2 = L2, L1 #forces L2 to be longer list\n",
    "    #advances the longer list to get equal length lists\n",
    "    for i in range(abs(L1_len - L2_len)):\n",
    "        L2 = L2.next\n",
    "    \n",
    "    while L1 and L2 and L1 is not L2:\n",
    "        L1, L2 = L1.next, L2.next\n",
    "    return L1 "
   ]
  },
  {
   "cell_type": "markdown",
   "metadata": {},
   "source": [
    "My understanding of their soln is to cut down the longer LL so its the same length as the shorter LL. There's no way that initial segment of the longer LL could have possibly contained the other LL, so thats why they traversed it first. \n",
    "\n",
    "Then, by traversing both LLs (shorter one, and the longer one cut to the same length as the short) at the same time, we can compare each node sequentially and eventually get the FIRST node they share."
   ]
  },
  {
   "cell_type": "markdown",
   "metadata": {},
   "source": [
    "TAKEAWAY PROBLEM LL 1:\n",
    "- two LLs intersect IFF they have same tail; they cannot intersect earlier than the shorter LL's length.\n",
    "- ?figure out to use is/is not vs ==/!= for memory lcoations of nodes\n",
    "- reoccurring: O(N) time, O(1) space!! use multiple iterators"
   ]
  },
  {
   "cell_type": "markdown",
   "metadata": {},
   "source": [
    "### 7.7- Remove the k-th element from a SLL\n",
    "Without knowing the length of a linked list, it is not trivial to delete the kth last element in a singly linked list.\n",
    "\n",
    "Given a singly linked list and some integer k, write a program to remove the kth last element from the list. \n",
    "\n",
    "do not use more than a few words of storage regardless of list length. you CANNOT record the length of the list\n",
    "\n",
    "HINT: "
   ]
  },
  {
   "cell_type": "markdown",
   "metadata": {},
   "source": [
    "the 2nd to last element (k=2) is the element right before the last element.\n",
    "So, k=1 is the last element (tail), and k=0 is NULL since the tail pts to NULL\n",
    "\n",
    "if i have a node that is k-nodes deep from the head, eventually once i shift both the head and the k-nodes deep node (n-k) times, the k-nodes deep node points to the tail and the head points to kth to last node. "
   ]
  },
  {
   "cell_type": "code",
   "execution_count": 239,
   "metadata": {},
   "outputs": [
    {
     "name": "stdout",
     "output_type": "stream",
     "text": [
      "0\n"
     ]
    }
   ],
   "source": [
    "for i in range(1):\n",
    "    print(i)"
   ]
  },
  {
   "cell_type": "code",
   "execution_count": 238,
   "metadata": {},
   "outputs": [],
   "source": [
    "def delete_kth_last_element_from_SLL(head, k):\n",
    "    node = head\n",
    "    prev_node = Node()\n",
    "    buffer_node = Node()\n",
    "    buffer_node.next = node\n",
    "    prev_node.next = buffer_node\n",
    "    \n",
    "    kdeepnode = node\n",
    "    for i in range(k - 1):\n",
    "        if kdeepnode == None:\n",
    "            print('k > N')\n",
    "            return\n",
    "        kdeepnode = kdeepnode.next\n",
    "        \n",
    "    while(kdeepnode.next != None):\n",
    "        kdeepnode = kdeepnode.next\n",
    "        node = node.next\n",
    "        prev_node.next = prev_node.next.next\n",
    "        \n",
    "    if prev_node.next != buffer_node:  \n",
    "        prev_node.next.next = node.next\n",
    "    node.next = None\n",
    "        "
   ]
  },
  {
   "cell_type": "code",
   "execution_count": 247,
   "metadata": {},
   "outputs": [],
   "source": [
    "head1 = Node()\n",
    "node10 = Node()\n",
    "node11 = Node()\n",
    "node12 = Node()\n",
    "head1.next = node10 \n",
    "node10.next = node11\n",
    "node11.next = node12\n",
    "head1.data = 1\n",
    "node10.data = 10\n",
    "node11.data = 11\n",
    "node12.data = 12"
   ]
  },
  {
   "cell_type": "code",
   "execution_count": 228,
   "metadata": {},
   "outputs": [],
   "source": [
    "def printLLNodes(head):\n",
    "    while(head != None):\n",
    "        print(head.data)\n",
    "        head = head.next"
   ]
  },
  {
   "cell_type": "code",
   "execution_count": 229,
   "metadata": {},
   "outputs": [
    {
     "name": "stdout",
     "output_type": "stream",
     "text": [
      "1\n",
      "10\n",
      "11\n",
      "12\n"
     ]
    }
   ],
   "source": [
    "printLLNodes(head1)"
   ]
  },
  {
   "cell_type": "code",
   "execution_count": 230,
   "metadata": {},
   "outputs": [],
   "source": [
    "delete_kth_last_element_from_SLL(head1, 0)"
   ]
  },
  {
   "cell_type": "code",
   "execution_count": 231,
   "metadata": {},
   "outputs": [
    {
     "name": "stdout",
     "output_type": "stream",
     "text": [
      "1\n",
      "10\n",
      "11\n"
     ]
    }
   ],
   "source": [
    "printLLNodes(head1)"
   ]
  },
  {
   "cell_type": "code",
   "execution_count": 240,
   "metadata": {},
   "outputs": [],
   "source": [
    "#their solution (almost the same as mine!)\n",
    "def remove_kth_last(L, k):\n",
    "    dummy_head = Node(0, L)\n",
    "    first = dummy_head.next\n",
    "    for i in range(k):\n",
    "        first = first.next\n",
    "        \n",
    "    second = dummy_head\n",
    "    while first:\n",
    "        first, second = first.next, second.next\n",
    "    #second points to the k+1th last node, deletes successor\n",
    "    second.next = second.next.next\n",
    "    \n",
    "    return dummy_head.next"
   ]
  },
  {
   "cell_type": "code",
   "execution_count": 248,
   "metadata": {},
   "outputs": [
    {
     "name": "stdout",
     "output_type": "stream",
     "text": [
      "1\n",
      "10\n",
      "11\n",
      "12\n"
     ]
    }
   ],
   "source": [
    "remove_kth_last(head1, 4)\n",
    "printLLNodes(head1)"
   ]
  },
  {
   "cell_type": "markdown",
   "metadata": {},
   "source": [
    "TAKEAWAY PROBLEM LL 2: \n",
    "- we had another ptr traverse k deep first, and then traverse head and that ptr until that ptr was at tail. now head points to the element we want to kill\n",
    "- write clean code for LL and draw diagrams\n",
    "- use dummy heads (i used a buffer node!) when you need to have a 'previous' ptr before ur head\n",
    "- watch out for edge cases - does kth last mean last, 2nd last, n-k? etc etc blah blah.\n",
    "- reoccurring: O(N) time, O(1) space!! use multiple iterators"
   ]
  },
  {
   "cell_type": "markdown",
   "metadata": {},
   "source": [
    "## Chapter 8: stacks and queues - 8.2, 8.8"
   ]
  },
  {
   "cell_type": "markdown",
   "metadata": {},
   "source": [
    "### STACKS: Last In First Out LIFO"
   ]
  },
  {
   "cell_type": "markdown",
   "metadata": {},
   "source": [
    "- PUSH AND POP - both O(1) complexity. arr implementation limited entries vs LL unlimited\n",
    "- PEEK (look at the top of the stack)\n",
    "- the LIST is what we use as a stack, has the same Ops."
   ]
  },
  {
   "cell_type": "code",
   "execution_count": null,
   "metadata": {},
   "outputs": [],
   "source": [
    "'''use a list as a stack'''\n",
    "stack = list()\n",
    "\n",
    "'''PUSH to the stack'''\n",
    "stack.append(1)\n",
    "\n",
    "'''PEEK the stack'''\n",
    "stack[-1]\n",
    "\n",
    "'''POP the stack - removes AND returns popped value.'''\n",
    "stack.pop() \n",
    "\n",
    "'''LENGTH of stack'''\n",
    "len(stack)\n",
    "\n",
    "#popping and peeking an empty stack gives you problems. "
   ]
  },
  {
   "cell_type": "code",
   "execution_count": 265,
   "metadata": {},
   "outputs": [],
   "source": [
    "class Stack:\n",
    "    def __init__(self):\n",
    "        self.stack = list()\n",
    "    def push(self, X):\n",
    "        self.stack.append(X)\n",
    "    def peek(self):\n",
    "        return self.stack[-1]\n",
    "    def pop(self):\n",
    "        self.stack.pop()\n",
    "    def size(self):\n",
    "        return len(self.stack)\n",
    "    def empty(self):\n",
    "        return bool(self.size())\n",
    "    "
   ]
  },
  {
   "cell_type": "code",
   "execution_count": 278,
   "metadata": {},
   "outputs": [
    {
     "data": {
      "text/plain": [
       "4"
      ]
     },
     "execution_count": 278,
     "metadata": {},
     "output_type": "execute_result"
    }
   ],
   "source": [
    "[1, 2, 3, 4].pop()"
   ]
  },
  {
   "cell_type": "code",
   "execution_count": 274,
   "metadata": {},
   "outputs": [],
   "source": [
    "# stack boot camp\n",
    "def stack_print_SLL_reverse(head):\n",
    "    stack = []\n",
    "    while(head != None):\n",
    "        stack.append(head.data)\n",
    "        head = head.next\n",
    "    \n",
    "    while(len(stack) != 0):\n",
    "        print(stack[-1])\n",
    "        stack.pop()\n",
    "#same as book soln."
   ]
  },
  {
   "cell_type": "markdown",
   "metadata": {},
   "source": [
    "O(2N) time complexity O(N) space complexity"
   ]
  },
  {
   "cell_type": "code",
   "execution_count": 275,
   "metadata": {},
   "outputs": [
    {
     "name": "stdout",
     "output_type": "stream",
     "text": [
      "12\n",
      "11\n",
      "10\n",
      "1\n"
     ]
    }
   ],
   "source": [
    "stack_print_SLL_reverse(head1)"
   ]
  },
  {
   "cell_type": "code",
   "execution_count": 270,
   "metadata": {},
   "outputs": [
    {
     "name": "stdout",
     "output_type": "stream",
     "text": [
      "1\n",
      "10\n",
      "11\n",
      "12\n"
     ]
    }
   ],
   "source": [
    "printLLNodes(head1)"
   ]
  },
  {
   "cell_type": "markdown",
   "metadata": {},
   "source": [
    "### 8.2 - evaluate RPN expression\n",
    "a string is said to be an arithmetical expression in Reverse Polish Notation (RPN) IF:\n",
    "(1) it is a single digit or a sequence of digits, prefixed with an option -, e.g., \"6\", \"123\", \"-42\"\n",
    "(2) it is of the form \"A, B, (operator)\", where A and B are RPN expressions and (operator) is one of +, -, *, /\n",
    "\n",
    "ex: the following strings satisfy these rules - \"1729\", \"3,4,+,2,x,1,+\", \"1,1,+,-2,x\", \"-641,6,/,28,/\"\n",
    "\n",
    "an RPN expression can be evaluated uniquely to an integer, which is determined recursively. the base case corresponds to (1) which is an integer expressed in base-10 positional system. (2) corresponds to the recursive case, and the RPNs are evaluated in the natural way. eg, A ->2, B->3 => \"A,B,*\" -> 6\n",
    "\n",
    "write a program that takes an arithmetical expression in RPN and returns the number that the expression evaluates to.\n",
    "\n",
    "HINT - not shown... yet."
   ]
  },
  {
   "cell_type": "code",
   "execution_count": null,
   "metadata": {},
   "outputs": [],
   "source": []
  },
  {
   "cell_type": "code",
   "execution_count": 300,
   "metadata": {},
   "outputs": [
    {
     "data": {
      "text/plain": [
       "0"
      ]
     },
     "execution_count": 300,
     "metadata": {},
     "output_type": "execute_result"
    }
   ],
   "source": [
    "total = int()\n",
    "total"
   ]
  },
  {
   "cell_type": "code",
   "execution_count": 302,
   "metadata": {},
   "outputs": [
    {
     "data": {
      "text/plain": [
       "nan"
      ]
     },
     "execution_count": 302,
     "metadata": {},
     "output_type": "execute_result"
    }
   ],
   "source": [
    "float('NaN')"
   ]
  },
  {
   "cell_type": "markdown",
   "metadata": {},
   "source": [
    "RV - TAKEAWAY PROBLEM - please increment your while loops."
   ]
  },
  {
   "cell_type": "code",
   "execution_count": 6,
   "metadata": {},
   "outputs": [],
   "source": [
    "def insert_exp_to_stack(exp):\n",
    "    ops = ['+', '-', '*', '/']\n",
    "    stack = []\n",
    "    counter = None\n",
    "    index = len(exp) - 1\n",
    "    multiplier = 1\n",
    "    while (index >= 0):\n",
    "        char = exp[index]\n",
    "        if char.isalnum():\n",
    "            if counter == None:\n",
    "                counter = 0\n",
    "            counter += float(char) * multiplier\n",
    "            multiplier *= 10\n",
    "        elif char in ops:\n",
    "            if counter != None:\n",
    "                stack.append(counter)\n",
    "                multiplier = 1\n",
    "            stack.append(char)\n",
    "            counter = None\n",
    "        else:\n",
    "            if counter != None:\n",
    "                stack.append(counter)\n",
    "                multiplier = 1\n",
    "            counter = None\n",
    "        index -= 1\n",
    "    if counter != None:\n",
    "        stack.append(counter)\n",
    "    \n",
    "    return stack\n",
    "\n",
    "def compute_rpn(exp):\n",
    "    stack = insert_exp_to_stack(exp)\n",
    "    var = stack.pop\n",
    "    #first item popped should be numeric.\n",
    "    if not var.isnumeric():\n",
    "        return None\n",
    "    var = float(var)\n",
    "    zz\n",
    "        "
   ]
  },
  {
   "cell_type": "code",
   "execution_count": null,
   "metadata": {},
   "outputs": [],
   "source": []
  },
  {
   "cell_type": "code",
   "execution_count": 7,
   "metadata": {},
   "outputs": [
    {
     "data": {
      "text/plain": [
       "['+', 1.0, '*', 2.0, '+', 4.0, 13.0]"
      ]
     },
     "execution_count": 7,
     "metadata": {},
     "output_type": "execute_result"
    }
   ],
   "source": [
    "insert_exp_to_stack(\"13,4,+,2,*,1,+\")"
   ]
  },
  {
   "cell_type": "markdown",
   "metadata": {},
   "source": [
    "## Chapter 9: binary trees - 9.2, 9.12"
   ]
  },
  {
   "cell_type": "markdown",
   "metadata": {},
   "source": [
    "## Chapter 10: heaps - 10.3"
   ]
  },
  {
   "cell_type": "markdown",
   "metadata": {},
   "source": [
    "## Chapter 11: searching - 11.3, 11.9"
   ]
  },
  {
   "cell_type": "markdown",
   "metadata": {},
   "source": [
    "## Chapter 12: hash tables - 12.1, 12.6"
   ]
  },
  {
   "cell_type": "markdown",
   "metadata": {},
   "source": [
    "## Chapter 13: sorting - 13.5"
   ]
  },
  {
   "cell_type": "markdown",
   "metadata": {},
   "source": [
    "## Chapter 14: BST - 14.4, 14.8"
   ]
  },
  {
   "cell_type": "markdown",
   "metadata": {},
   "source": [
    "## Chapter 15: Recursion - 15.3"
   ]
  },
  {
   "cell_type": "markdown",
   "metadata": {},
   "source": [
    "## Chapter 16: dynamic programming - 16.3, 16.6"
   ]
  },
  {
   "cell_type": "markdown",
   "metadata": {},
   "source": [
    "## Chapter 17: Greedy algos - 17.5"
   ]
  },
  {
   "cell_type": "markdown",
   "metadata": {},
   "source": [
    "## Chapter 18: graphs - 18.2"
   ]
  },
  {
   "cell_type": "markdown",
   "metadata": {},
   "source": [
    "## Chapter 19: Parallelism - 19.8"
   ]
  },
  {
   "cell_type": "markdown",
   "metadata": {},
   "source": [
    "## Chapter 20: Design - 20.16"
   ]
  },
  {
   "cell_type": "code",
   "execution_count": null,
   "metadata": {},
   "outputs": [],
   "source": []
  }
 ],
 "metadata": {
  "kernelspec": {
   "display_name": "Python 3",
   "language": "python",
   "name": "python3"
  },
  "language_info": {
   "codemirror_mode": {
    "name": "ipython",
    "version": 3
   },
   "file_extension": ".py",
   "mimetype": "text/x-python",
   "name": "python",
   "nbconvert_exporter": "python",
   "pygments_lexer": "ipython3",
   "version": "3.6.5"
  }
 },
 "nbformat": 4,
 "nbformat_minor": 2
}
