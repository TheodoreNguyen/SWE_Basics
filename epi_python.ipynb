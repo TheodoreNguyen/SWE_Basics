{
 "cells": [
  {
   "cell_type": "markdown",
   "metadata": {},
   "source": [
    "# EPI in python3."
   ]
  },
  {
   "cell_type": "markdown",
   "metadata": {},
   "source": [
    "## Introduction problem: \n",
    "Given three arrays of length N, labeled L, H, B, where the at the i-th index of each array represents the stock price of a company on the i-th day of trading. More specifically, L[i] is the lowest price, H[i] is the highest price, and B[i] is the initial price (when the trading day starts), the stock reaches on the i-th day. Find the maximum possible profit someone could have made assuming they can only buy-sell at the beginning of the day"
   ]
  },
  {
   "cell_type": "markdown",
   "metadata": {},
   "source": [
    "### soln1 - brute force"
   ]
  },
  {
   "cell_type": "code",
   "execution_count": null,
   "metadata": {},
   "outputs": [],
   "source": [
    "#unfortunately ive read a bit ahead and I know i can't just get the difference of the maximum and mininmum numbers in the array of B - it has to be in sequence. (i have to buy before i sell)\n",
    "def max_margin(P):\n",
    "    # the first day is the first we can buy, so lets just say we buy that day and instead interate our array starting from the 1st instead of the 0th element\n",
    "    curr_max_diff = 0\n",
    "    \n",
    "    #i dont know how else to do it cleaner =)\n",
    "    indexList = list(range(len(P)))\n",
    "    \n",
    "    for Bindex in indexList:\n",
    "        for Sindex in [Bindex+1:]:\n",
    "            if curr_max_diff > P[Sindex] - P[Bindex]:\n",
    "                curr_max_diff = P[Sindex] - P[Bindex]\n",
    "        "
   ]
  },
  {
   "cell_type": "code",
   "execution_count": null,
   "metadata": {},
   "outputs": [],
   "source": [
    "float max_margin(float P[]; int N)\n",
    "{\n",
    "    for(int i = 0; i != N, i++)\n",
    "    {\n",
    "        for(int j = i; j != N; j++)\n",
    "        {\n",
    "            if(curr_max_diff > P[j] - P[i])\n",
    "            {\n",
    "                curr_max_diff = P[j] - P[i]\n",
    "            }\n",
    "        }\n",
    "    }\n",
    "}"
   ]
  },
  {
   "cell_type": "markdown",
   "metadata": {},
   "source": [
    "TIME COMPLEXITY:\n",
    "Outer loop evoked n-1 times inner loop evoked n-1-i times. so complexity is sum[i=0 to n-2] of (n-1-i) = (n-1)*n/2 = n^2\n",
    "I personally think here the outer is evoked N times and the inner is evoked n-i times. So we just multiply them and get n-i * n = n^2 - ni = n^2\n",
    "\n",
    "SPACE COMPLEXITY:\n",
    "- counter is necessary\n",
    "- extra list is wasted. "
   ]
  },
  {
   "cell_type": "markdown",
   "metadata": {},
   "source": [
    "#### Note: use i for the index in cases like these for time complexity"
   ]
  },
  {
   "cell_type": "markdown",
   "metadata": {},
   "source": [
    "### soln2 - divide and conquer -- too complicated"
   ]
  },
  {
   "cell_type": "markdown",
   "metadata": {},
   "source": [
    "### soln3 - O(n)"
   ]
  },
  {
   "cell_type": "code",
   "execution_count": null,
   "metadata": {},
   "outputs": [],
   "source": [
    "#solution aattempt\n",
    "def max_margin(P):\n",
    "    buy = None\n",
    "    sell = None\n",
    "    margin = None\n",
    "    for index in range(len(P)):\n",
    "        if buy == None and sell == None and margin == None:\n",
    "            buy = P[index]\n",
    "            sell = P[index]\n",
    "            margin = sell - buy\n",
    "        else:\n",
    "            #check sell today from current carried buy\n",
    "            strike = P[index]\n",
    "            localmargin = strike - buy\n",
    "            if localmargin > margin:\n",
    "                margin = localmargin\n",
    "                sell = strike\n",
    "            if "
   ]
  },
  {
   "cell_type": "code",
   "execution_count": 22,
   "metadata": {},
   "outputs": [
    {
     "data": {
      "text/plain": [
       "True"
      ]
     },
     "execution_count": 22,
     "metadata": {},
     "output_type": "execute_result"
    }
   ],
   "source": [
    "-float('Inf') < -999999999999999"
   ]
  },
  {
   "cell_type": "code",
   "execution_count": 34,
   "metadata": {},
   "outputs": [],
   "source": [
    "from pdb import set_trace"
   ]
  },
  {
   "cell_type": "code",
   "execution_count": 43,
   "metadata": {},
   "outputs": [],
   "source": [
    "# solution\n",
    "def max_margin(P):\n",
    "    maxMargin = -float('inf')\n",
    "    minPrice = float('inf')\n",
    "    for strike in P:\n",
    "        if strike < minPrice:\n",
    "            minPrice = strike\n",
    "        else:\n",
    "            localMargin = strike - minPrice\n",
    "            if localMargin > maxMargin:\n",
    "                maxMargin = localMargin\n",
    "                \n",
    "    return maxMargin"
   ]
  },
  {
   "cell_type": "code",
   "execution_count": 44,
   "metadata": {},
   "outputs": [],
   "source": [
    "arr = [310, 315, 275, 295, 260, 270, 290, 230, 255, 250]"
   ]
  },
  {
   "cell_type": "code",
   "execution_count": 45,
   "metadata": {},
   "outputs": [
    {
     "data": {
      "text/plain": [
       "30"
      ]
     },
     "execution_count": 45,
     "metadata": {},
     "output_type": "execute_result"
    }
   ],
   "source": [
    "max_margin(arr)"
   ]
  },
  {
   "cell_type": "code",
   "execution_count": null,
   "metadata": {},
   "outputs": [],
   "source": [
    "float max_margin(P)\n",
    "{\n",
    "    minPrice = P[0]\n",
    "    maxMargin = 0\n",
    "    for(int i = 1; i != N; i++)\n",
    "    {\n",
    "        strike = P[i]\n",
    "        if (strike < minPrice)\n",
    "        {\n",
    "            minPrice = strike\n",
    "        }\n",
    "        else\n",
    "        {\n",
    "            localMargin = strike - minPrice\n",
    "            if (localMargin > maxMargin)\n",
    "            {\n",
    "                maxMargin = localMargin\n",
    "            }\n",
    "        }\n",
    "    }\n",
    "    return maxMargin\n",
    "}"
   ]
  },
  {
   "cell_type": "markdown",
   "metadata": {},
   "source": [
    "### NOTE: cant initialize maxmargin to zero cuz ur assuming there is a positive margin! do float('inf') and -float('inf') gives you positve and negative infinity"
   ]
  },
  {
   "cell_type": "markdown",
   "metadata": {},
   "source": [
    "Time complexity:\n",
    "O(N) - i only iterate through the array once\n",
    "\n",
    "space complexity:\n",
    "should be O(1), but i have local vars "
   ]
  },
  {
   "cell_type": "markdown",
   "metadata": {},
   "source": [
    "### VARIANT: write a program that takes an array of integers and finds the length of a longest subarray all of whose entries are equal"
   ]
  },
  {
   "cell_type": "markdown",
   "metadata": {},
   "source": [
    "### subsequence definition - this means that it is literally asking for the frequency of the most frequent element"
   ]
  },
  {
   "cell_type": "code",
   "execution_count": null,
   "metadata": {},
   "outputs": [],
   "source": [
    "#brute force via dictionary\n",
    "def max_len_subarr_equal_entries(array):\n",
    "    #will hold keys which are elements of the array, and values which are occurrances of this element in the array\n",
    "    counterdict = {}\n",
    "    #go through each element of the array\n",
    "    for integer in array:\n",
    "        #if it is not inside the dictionart keys, put it inside!\n",
    "        if integer not in counterdict.keys():\n",
    "            counterdict[integer] = 1\n",
    "        #if it is inside the dictionary keys, increment the value counter for it by 1\n",
    "        else:\n",
    "            counterdict[integer] += 1\n",
    "    #set a counter for the maximum occurring element\n",
    "    max_occur = 0\n",
    "    #go through each of the occurring integers\n",
    "    for integer in counterdict.values():\n",
    "        if max_occur < integer:\n",
    "            max_occur = integer\n",
    "    ''' or just do max_occur = max(counterdict.values())'''\n",
    "    return max_occur"
   ]
  },
  {
   "cell_type": "code",
   "execution_count": null,
   "metadata": {},
   "outputs": [],
   "source": [
    "#brute force via arrays\n",
    "def max_len_subarr_equal_entries(array):\n",
    "    uniqueInts = []\n",
    "    counters = []\n",
    "    for integer in array:\n",
    "        if integer not in uniqueInts:\n",
    "            uniqueInts.append(integer)\n",
    "            counters.append(1)\n",
    "        else:\n",
    "            for index in range(len(uniqueInts)):\n",
    "                if uniqueInts[index] == integer:\n",
    "                    counters[index] += 1\n",
    "    max_occur = 0\n",
    "    for index in range(len(uniqueInts)):\n",
    "        if max_occur < counters[index]:\n",
    "            max_occur = counters[index]\n",
    "    '''or just do max_occur = max(counters)'''\n",
    "    return max_occur\n",
    "    "
   ]
  },
  {
   "cell_type": "markdown",
   "metadata": {},
   "source": [
    "Time complexity is at worst N + N = 2N = O(N)\n",
    "space complexity is at worst O(N) "
   ]
  },
  {
   "cell_type": "markdown",
   "metadata": {},
   "source": [
    "### continuous subarray definition"
   ]
  },
  {
   "cell_type": "code",
   "execution_count": 58,
   "metadata": {},
   "outputs": [
    {
     "data": {
      "text/plain": [
       "True"
      ]
     },
     "execution_count": 58,
     "metadata": {},
     "output_type": "execute_result"
    }
   ],
   "source": [
    "type(arr) == type(list())"
   ]
  },
  {
   "cell_type": "code",
   "execution_count": 59,
   "metadata": {},
   "outputs": [],
   "source": [
    "def max_len_subarr_equal_entries(array):\n",
    "    \n",
    "    if type(array) != type(list()):\n",
    "        return None\n",
    "    #if the array is empty then the longest continuous identical subarray has length zero too!\n",
    "    if len(array) <= 0:\n",
    "        return 0\n",
    "    if type(array[0]) != type(int()):\n",
    "        return None\n",
    "    '''\n",
    "    #if the array has a length 1 then the longest continuous identiical subarray is itself, the single element\n",
    "    elif len(array) == 1:\n",
    "        return 1\n",
    "    # YOU DONT ACTUALLY NEED THIS! doing arr[1:] where arr only has a single element will yield an empty array, and iterating through an empty array ends immediately.\n",
    "    '''\n",
    "    #create a coiunter for the maximum, as well as the local \n",
    "    max_counter = 1\n",
    "    local_counter = 1\n",
    "    #set the 'counter' to the first element of the array\n",
    "    current_element = array[0]\n",
    "    #iterate through the 2nd to the Nth element of the array\n",
    "    for element in array[1:]:\n",
    "        if element == current_element:\n",
    "            local_counter += 1\n",
    "        else:\n",
    "            current_element = element\n",
    "            if local_counter > max_counter:\n",
    "                max_counter = local_counter\n",
    "                local_counter = 1\n",
    "    \n",
    "    return max_counter\n"
   ]
  },
  {
   "cell_type": "markdown",
   "metadata": {},
   "source": [
    " Time complexity is N-1 = O(N)\n",
    " space complexity is O(1)"
   ]
  },
  {
   "cell_type": "code",
   "execution_count": 75,
   "metadata": {},
   "outputs": [],
   "source": [
    "%%script false\n",
    "Scenario 2: finals cram, 7 days - \n",
    "4.8\n",
    "5.2, 5.17\n",
    "6.5, 6.6\n",
    "7.4, 7.7\n",
    "8.2, 8.8\n",
    "9.2, 9.12\n",
    "10.3\n",
    "11.3, 11.9\n",
    "12.1, 12.6\n",
    "13.5\n",
    "14.4, 14.8\n",
    "15.3\n",
    "16.3, 16.6\n",
    "17.5\n",
    "18.2\n",
    "19.8\n",
    "20.16\n"
   ]
  },
  {
   "cell_type": "markdown",
   "metadata": {},
   "source": [
    "## Chapter 4: Primtive types bootcamp"
   ]
  },
  {
   "cell_type": "markdown",
   "metadata": {},
   "source": [
    "- programs update variables in memory\n",
    "- variables are in types\n",
    "- types are classifcation of data that signifies (1) what values the var can take and (2) what operations can be performs on the var\n",
    "- all types and vars are objects in python whether they are user-defined or standard library"
   ]
  },
  {
   "cell_type": "markdown",
   "metadata": {},
   "source": [
    "#### Write a program to count number of bits set to 1 in an unsigned integer. Use bit-stuff"
   ]
  },
  {
   "cell_type": "code",
   "execution_count": 66,
   "metadata": {},
   "outputs": [
    {
     "data": {
      "text/plain": [
       "'0b10100111001'"
      ]
     },
     "execution_count": 66,
     "metadata": {},
     "output_type": "execute_result"
    }
   ],
   "source": [
    "bin(1337)"
   ]
  },
  {
   "cell_type": "code",
   "execution_count": 68,
   "metadata": {},
   "outputs": [
    {
     "data": {
      "text/plain": [
       "'0b10100110010'"
      ]
     },
     "execution_count": 68,
     "metadata": {},
     "output_type": "execute_result"
    }
   ],
   "source": [
    "bin(1330)"
   ]
  },
  {
   "cell_type": "code",
   "execution_count": 69,
   "metadata": {},
   "outputs": [
    {
     "data": {
      "text/plain": [
       "'0b10100110000'"
      ]
     },
     "execution_count": 69,
     "metadata": {},
     "output_type": "execute_result"
    }
   ],
   "source": [
    "bin(1330 & 1337)"
   ]
  },
  {
   "cell_type": "code",
   "execution_count": 70,
   "metadata": {},
   "outputs": [
    {
     "data": {
      "text/plain": [
       "'0b1'"
      ]
     },
     "execution_count": 70,
     "metadata": {},
     "output_type": "execute_result"
    }
   ],
   "source": [
    "bin(1337 & 1)"
   ]
  },
  {
   "cell_type": "code",
   "execution_count": 71,
   "metadata": {},
   "outputs": [
    {
     "data": {
      "text/plain": [
       "'0b0'"
      ]
     },
     "execution_count": 71,
     "metadata": {},
     "output_type": "execute_result"
    }
   ],
   "source": [
    "bin(1330 & 1)"
   ]
  },
  {
   "cell_type": "code",
   "execution_count": 72,
   "metadata": {},
   "outputs": [
    {
     "data": {
      "text/plain": [
       "'0b10'"
      ]
     },
     "execution_count": 72,
     "metadata": {},
     "output_type": "execute_result"
    }
   ],
   "source": [
    "bin(2)"
   ]
  },
  {
   "cell_type": "markdown",
   "metadata": {},
   "source": [
    "1 has bit value 000....001, so performing an AND operation on any other datatype\n",
    "will zero out all bit values except for the first (rightmost) bit value, hence converting all values that are not one to one. therefore, the expression:\n",
    "\n",
    "x & 1 \n",
    "\n",
    "will always yield 1\n",
    "\n",
    "1 is a good bitmask"
   ]
  },
  {
   "cell_type": "code",
   "execution_count": null,
   "metadata": {},
   "outputs": [],
   "source": [
    "def count_ones_in_int(uint):\n",
    "    '''\n",
    "    return number of 1 bits in this unisnged int\n",
    "    '''\n",
    "    #set a counter to count the number of 1 bits\n",
    "    num_of_bits = 0\n",
    "    #left shift continuously until you get zero\n",
    "    while uint != 0:\n",
    "        # bitwise ANDing a value with 1 will yield 1 or 0 depending on if it has a 1 in th eleftmost bit\n",
    "        num_of_bits += uint & 1\n",
    "        uint >>= 1\n",
    "    return num_of_bits"
   ]
  },
  {
   "cell_type": "code",
   "execution_count": 74,
   "metadata": {},
   "outputs": [
    {
     "data": {
      "text/plain": [
       "'0b0'"
      ]
     },
     "execution_count": 74,
     "metadata": {},
     "output_type": "execute_result"
    }
   ],
   "source": [
    "bin(1337 & 2)"
   ]
  },
  {
   "cell_type": "markdown",
   "metadata": {},
   "source": [
    "- recall rules for bit extension. for positive, extend 0s leftward, for negative extend 1s leftward, both to whatever desired length needed to compare to the larger magnitude value\n",
    "- specifically above, we have 1 as just 1 in bits, and we have 1337 as 10100111001 in bits. then we extend 1 to 00000000001 in bits which allows us to do whatever bitwise ops between the two."
   ]
  },
  {
   "cell_type": "code",
   "execution_count": null,
   "metadata": {},
   "outputs": [],
   "source": [
    "def count_bits(Int):\n",
    "    # there exists a bit 1 in the rightmost digit IFF 0000001 & the number yields 1.\n",
    "    #create a counter\n",
    "    num_bits = 0\n",
    "    #while the inputted value is not zero (eventually once we shift enough its zero)\n",
    "    while Int:\n",
    "        #if the number has a bit in the rightmost, then num & 1 = 1, so add that to ctr\n",
    "        num_bits += Int & 1\n",
    "        #shift the bits to the right to look at the next digit\n",
    "        Int >>= 1\n",
    "    return num_bits"
   ]
  },
  {
   "cell_type": "markdown",
   "metadata": {},
   "source": [
    "O(N) time complexity where N is number of bits needed to represent the integer. \n"
   ]
  },
  {
   "cell_type": "markdown",
   "metadata": {},
   "source": [
    "### Python built-in types:\n",
    "numerics, sequences, mappings, classes, instances, exceptions (all are objects)"
   ]
  },
  {
   "cell_type": "markdown",
   "metadata": {},
   "source": [
    "- python3 ints are unbounded dependent on the memory in your system"
   ]
  },
  {
   "cell_type": "code",
   "execution_count": 1,
   "metadata": {},
   "outputs": [
    {
     "data": {
      "text/plain": [
       "9223372036854775807"
      ]
     },
     "execution_count": 1,
     "metadata": {},
     "output_type": "execute_result"
    }
   ],
   "source": [
    "import sys\n",
    "sys.maxsize"
   ]
  },
  {
   "cell_type": "code",
   "execution_count": 2,
   "metadata": {},
   "outputs": [
    {
     "data": {
      "text/plain": [
       "sys.float_info(max=1.7976931348623157e+308, max_exp=1024, max_10_exp=308, min=2.2250738585072014e-308, min_exp=-1021, min_10_exp=-307, dig=15, mant_dig=53, epsilon=2.220446049250313e-16, radix=2, rounds=1)"
      ]
     },
     "execution_count": 2,
     "metadata": {},
     "output_type": "execute_result"
    }
   ],
   "source": [
    "sys.float_info"
   ]
  },
  {
   "cell_type": "code",
   "execution_count": 7,
   "metadata": {},
   "outputs": [
    {
     "ename": "SyntaxError",
     "evalue": "invalid syntax (<ipython-input-7-90df99370263>, line 1)",
     "output_type": "error",
     "traceback": [
      "\u001b[0;36m  File \u001b[0;32m\"<ipython-input-7-90df99370263>\"\u001b[0;36m, line \u001b[0;32m1\u001b[0m\n\u001b[0;31m    0 >>> 1\u001b[0m\n\u001b[0m        ^\u001b[0m\n\u001b[0;31mSyntaxError\u001b[0m\u001b[0;31m:\u001b[0m invalid syntax\n"
     ]
    }
   ],
   "source": [
    "0 >>> 1"
   ]
  },
  {
   "cell_type": "markdown",
   "metadata": {},
   "source": [
    "- BITWISE OPS: &, |, >>, >>>?????? typo?, <<, ~, ^\n",
    "- know how bit extension works when you do shifts and how it extends w.r.t. negative/positive nums \n",
    "- know 2's complement \n",
    "- bit arithmetic\n",
    "- masks - 1 is a good mask - MACHINE INDEPENDENT MASKS\n",
    "- RV clearing lowermost set bit (set lowermost zero, etc)\n",
    "- RV using a cache accelerate ops\n",
    "RV \"Be aware that commutativity and associativity can be used to perform operations in parallel\n",
    "and reorder operations\""
   ]
  },
  {
   "cell_type": "code",
   "execution_count": null,
   "metadata": {},
   "outputs": [],
   "source": [
    "# numeric types\n",
    "import math\n",
    "abs()\n",
    "math.ceil()\n",
    "math.floor()\n",
    "min()\n",
    "max()\n",
    "pow() or **\n",
    "math.sqrt()"
   ]
  },
  {
   "cell_type": "code",
   "execution_count": 58,
   "metadata": {},
   "outputs": [],
   "source": [
    "%%script false\n",
    "#casting\n",
    "str(42), int('42'), str(3.14), float('3.14')\n",
    "#maximum/minimum vals\n",
    "float('inf'), float('-inf')\n",
    "#compare floating points\n",
    "math.isclose()\n",
    "#random fcn\n",
    "import random\n",
    "random.randrange(stop) # gives random integer between 0 and N-1 works like range()\n",
    "random.randint(N, M) #gives random int in [N, M]\n",
    "random.random() #gives random float in range [0, 1)\n",
    "random.shuffle(S) #shuffles sequence S. done in place"
   ]
  },
  {
   "cell_type": "markdown",
   "metadata": {},
   "source": [
    "Unary operators:\n",
    "The unary - (minus) operator yields the negation of its numeric argument.\n",
    "\n",
    "The unary + (plus) operator yields its numeric argument unchanged. - RV why does this exist?\n",
    "\n",
    "The unary ~ (invert) operator yields the bitwise inversion of its integer argument. The bitwise inversion of x is defined as -(x+1). It only applies to integral numbers."
   ]
  },
  {
   "cell_type": "markdown",
   "metadata": {},
   "source": [
    "## 4.8: Reverse digits\n",
    "write a program that takes an integer and returns the integer corresponding to the digits of the input written in reverse order. For example, the reverse of 42 is 24, and the reverse of -314 is -413\n",
    "HINT: how would you reverse a string"
   ]
  },
  {
   "cell_type": "markdown",
   "metadata": {},
   "source": [
    "### NOTE: STRINGS ARE IMMUTABLE"
   ]
  },
  {
   "cell_type": "code",
   "execution_count": 86,
   "metadata": {},
   "outputs": [
    {
     "name": "stdout",
     "output_type": "stream",
     "text": [
      "d\n"
     ]
    },
    {
     "ename": "TypeError",
     "evalue": "'str' object does not support item assignment",
     "output_type": "error",
     "traceback": [
      "\u001b[0;31m---------------------------------------------------------------------------\u001b[0m",
      "\u001b[0;31mTypeError\u001b[0m                                 Traceback (most recent call last)",
      "\u001b[0;32m<ipython-input-86-38a944f3fa73>\u001b[0m in \u001b[0;36m<module>\u001b[0;34m()\u001b[0m\n\u001b[1;32m      1\u001b[0m \u001b[0mteststr\u001b[0m \u001b[0;34m=\u001b[0m \u001b[0;34m'dudewtfbbq'\u001b[0m\u001b[0;34m\u001b[0m\u001b[0m\n\u001b[1;32m      2\u001b[0m \u001b[0mprint\u001b[0m\u001b[0;34m(\u001b[0m\u001b[0mteststr\u001b[0m\u001b[0;34m[\u001b[0m\u001b[0;36m0\u001b[0m\u001b[0;34m]\u001b[0m\u001b[0;34m)\u001b[0m\u001b[0;34m\u001b[0m\u001b[0m\n\u001b[0;32m----> 3\u001b[0;31m \u001b[0mteststr\u001b[0m\u001b[0;34m[\u001b[0m\u001b[0;36m0\u001b[0m\u001b[0;34m]\u001b[0m \u001b[0;34m=\u001b[0m \u001b[0;34m'1'\u001b[0m\u001b[0;34m\u001b[0m\u001b[0m\n\u001b[0m",
      "\u001b[0;31mTypeError\u001b[0m: 'str' object does not support item assignment"
     ]
    }
   ],
   "source": [
    "#we can access items in a string aka characters but we cannot modify them\n",
    "teststr = 'dudewtfbbq'\n",
    "print(teststr[0])\n",
    "teststr[0] = '1'"
   ]
  },
  {
   "cell_type": "code",
   "execution_count": 87,
   "metadata": {},
   "outputs": [
    {
     "data": {
      "text/plain": [
       "'1'"
      ]
     },
     "execution_count": 87,
     "metadata": {},
     "output_type": "execute_result"
    }
   ],
   "source": [
    "teststr = ''\n",
    "teststr += '1'\n",
    "teststr"
   ]
  },
  {
   "cell_type": "code",
   "execution_count": 82,
   "metadata": {},
   "outputs": [
    {
     "data": {
      "text/plain": [
       "\"['a', 'b', 'c']\""
      ]
     },
     "execution_count": 82,
     "metadata": {},
     "output_type": "execute_result"
    }
   ],
   "source": [
    "str(['a','b','c'])"
   ]
  },
  {
   "cell_type": "code",
   "execution_count": 83,
   "metadata": {},
   "outputs": [
    {
     "data": {
      "text/plain": [
       "['a', 'b', 'c']"
      ]
     },
     "execution_count": 83,
     "metadata": {},
     "output_type": "execute_result"
    }
   ],
   "source": [
    "list('abc')"
   ]
  },
  {
   "cell_type": "code",
   "execution_count": 88,
   "metadata": {},
   "outputs": [
    {
     "data": {
      "text/plain": [
       "'1313'"
      ]
     },
     "execution_count": 88,
     "metadata": {},
     "output_type": "execute_result"
    }
   ],
   "source": [
    "str(1313)"
   ]
  },
  {
   "cell_type": "code",
   "execution_count": 89,
   "metadata": {},
   "outputs": [
    {
     "data": {
      "text/plain": [
       "13131"
      ]
     },
     "execution_count": 89,
     "metadata": {},
     "output_type": "execute_result"
    }
   ],
   "source": [
    "int(str(13131))"
   ]
  },
  {
   "cell_type": "code",
   "execution_count": 90,
   "metadata": {},
   "outputs": [],
   "source": [
    "#brute force via casting with operator ignorance and using strings\n",
    "def reverse_digits(integer):\n",
    "    '''\n",
    "    takes an integer and returns the integer corresponding to the digits of the input written in reverse order. For example, the reverse of 42 is 24, and the reverse of -314 is -413\n",
    "    '''\n",
    "    isNegative = False  #S1\n",
    "    if integer < 0: #C1\n",
    "        isNegative = True #C1\n",
    "        integer = -integer #C1\n",
    "    strOfInt = str(integer) #S1\n",
    "    index = len(strOfInt) - 1 #CN\n",
    "    reversedStr = ''\n",
    "    while(index >= 0):\n",
    "        reversedStr += strOfInt[index]\n",
    "        index -= 1\n",
    "    reversedInt = int(reversedStr)\n",
    "    if isNegative:\n",
    "        reversedInt = -reversedInt\n",
    "    return reversedInt"
   ]
  },
  {
   "cell_type": "markdown",
   "metadata": {},
   "source": [
    "The complexity is O(N) since we only iterate through the interger oncem, where N is the number of digits in the integer\n",
    "space complexity is O(N)"
   ]
  },
  {
   "cell_type": "code",
   "execution_count": 107,
   "metadata": {},
   "outputs": [
    {
     "data": {
      "text/plain": [
       "4"
      ]
     },
     "execution_count": 107,
     "metadata": {},
     "output_type": "execute_result"
    }
   ],
   "source": [
    "10 -(6 % 10)"
   ]
  },
  {
   "cell_type": "code",
   "execution_count": 105,
   "metadata": {},
   "outputs": [
    {
     "data": {
      "text/plain": [
       "6"
      ]
     },
     "execution_count": 105,
     "metadata": {},
     "output_type": "execute_result"
    }
   ],
   "source": [
    "-34 % 10"
   ]
  },
  {
   "cell_type": "code",
   "execution_count": null,
   "metadata": {},
   "outputs": [],
   "source": [
    "[1, 2, 3, 4, 5] 54321"
   ]
  },
  {
   "cell_type": "code",
   "execution_count": 100,
   "metadata": {},
   "outputs": [
    {
     "data": {
      "text/plain": [
       "0"
      ]
     },
     "execution_count": 100,
     "metadata": {},
     "output_type": "execute_result"
    }
   ],
   "source": [
    "9 % 10\n",
    "int(9 / 10)"
   ]
  },
  {
   "cell_type": "code",
   "execution_count": null,
   "metadata": {},
   "outputs": [],
   "source": []
  },
  {
   "cell_type": "code",
   "execution_count": 130,
   "metadata": {},
   "outputs": [],
   "source": [
    "# shityt soln but doesnt use string\n",
    "def Reverse_Digits(integer):\n",
    "    '''\n",
    "    takes an integer and returns the integer corresponding to the digits of the input written in reverse order. For example, the reverse of 42 is 24, and the reverse of -314 is -413\n",
    "    '''\n",
    "    isNegative = False #1\n",
    "    if integer < 0: #1\n",
    "        isNegative = True #1\n",
    "        value = -integer #1\n",
    "    else: #1\n",
    "        value = integer #1\n",
    "        \n",
    "    arr = [] #O1 SN\n",
    "    while value != 0: #ON\n",
    "        digit = value % 10\n",
    "        arr.append(digit)\n",
    "        value = int(value / 10)\n",
    "        \n",
    "    multipler = 1 \n",
    "    Sum = 0\n",
    "    index = len(arr) - 1\n",
    "    while index >= 0: #ON\n",
    "        Sum += (arr[index] * multipler)\n",
    "        multipler *= 10\n",
    "        index -= 1\n",
    "    \n",
    "    if isNegative:\n",
    "        Sum = -Sum\n",
    "    \n",
    "    return Sum"
   ]
  },
  {
   "cell_type": "markdown",
   "metadata": {},
   "source": [
    "Time complexity O(N)\n",
    "space complexity O(N)"
   ]
  },
  {
   "cell_type": "code",
   "execution_count": 128,
   "metadata": {},
   "outputs": [
    {
     "data": {
      "text/plain": [
       "-312321"
      ]
     },
     "execution_count": 128,
     "metadata": {},
     "output_type": "execute_result"
    }
   ],
   "source": [
    "Reverse_Digits(-123213)"
   ]
  },
  {
   "cell_type": "code",
   "execution_count": 129,
   "metadata": {},
   "outputs": [
    {
     "data": {
      "text/plain": [
       "7331"
      ]
     },
     "execution_count": 129,
     "metadata": {},
     "output_type": "execute_result"
    }
   ],
   "source": [
    "Reverse_Digits(1337)"
   ]
  },
  {
   "cell_type": "code",
   "execution_count": 127,
   "metadata": {},
   "outputs": [
    {
     "data": {
      "text/plain": [
       "0"
      ]
     },
     "execution_count": 127,
     "metadata": {},
     "output_type": "execute_result"
    }
   ],
   "source": [
    "Reverse_Digits(0)"
   ]
  },
  {
   "cell_type": "markdown",
   "metadata": {},
   "source": [
    "- Recall two's complement\n",
    "to get the negative or positive inverse, flip bits and add 1\n",
    "also, assume a natural overflow "
   ]
  },
  {
   "cell_type": "code",
   "execution_count": null,
   "metadata": {},
   "outputs": [],
   "source": [
    "0001 0101"
   ]
  },
  {
   "cell_type": "markdown",
   "metadata": {},
   "source": [
    "-1 = 11111\n",
    "0 = 00000\n",
    "1 = 00001\n",
    "2 = 00010\n",
    "3 = 00011\n",
    "4 = 00100\n",
    "5 = 00101\n",
    "6 = 00110\n",
    "7 = 00111\n",
    "8 = 01000\n",
    "9 = 01001\n",
    "10 = 01010\n",
    "11 = 01011\n",
    "12 = 01100\n",
    "13 = 01101\n",
    "14 = 01110\n",
    "15 = 01111\n",
    "-16 = 10000\n",
    "-15 = 10001\n",
    "-14 = 10010\n",
    "-13 = 10011\n",
    "-12 = 10100\n",
    "-11 = 10101\n",
    "-10 = 10110"
   ]
  },
  {
   "cell_type": "code",
   "execution_count": null,
   "metadata": {},
   "outputs": [],
   "source": [
    "#EPI SOLUTION\n",
    "def reverse(x):\n",
    "    result, x_remaining = 0, abs(x)\n",
    "    while x_remaining:\n",
    "        result = result * 10 + x_remaining % 10\n",
    "        x //= 10\n",
    "    return -result if x < 0 else result"
   ]
  },
  {
   "cell_type": "code",
   "execution_count": null,
   "metadata": {},
   "outputs": [],
   "source": [
    "#time complexity is O(N)"
   ]
  },
  {
   "cell_type": "code",
   "execution_count": 17,
   "metadata": {},
   "outputs": [],
   "source": [
    "# do reverse digits from the bottom up -inuk\n",
    "'''\n",
    "write a program that takes an integer and returns the integer corresponding to the digits of the input written in reverse order. ex: the reverse of 42 is 24, and the reverse of -314 is -413\n",
    "ideally get O(N) time and O(1) space\n",
    "'''\n",
    "#book solution - x will be parsed from each ones place and get compounded downwards\n",
    "def reverse_digits_backwards(x):\n",
    "    sign = 1\n",
    "    if x < 0:\n",
    "        sign = -1\n",
    "        x = x * -1\n",
    "    ''''''\n",
    "    ret = 0\n",
    "    while (x != 0):\n",
    "        ret *= 10\n",
    "        digit = x % 10\n",
    "        ret += digit\n",
    "        x //= 10\n",
    "    \n",
    "    return sign * ret\n",
    "    \n",
    "    #423 -> 324\n",
    "#inuk solution - x will be pasred upwards - meaning we go from ones and up to the nth digit \n",
    "\n",
    "#x stays unmodified and iterator does the most work\n",
    "\n",
    "def reverse_digits_forwards(x):\n",
    "    sign = 1\n",
    "    if x < 0:\n",
    "        sign = -1\n",
    "        x = x * -1\n",
    "    ''''''\n",
    "    ret = 0\n",
    "    #i will have the length of digits + 1 by the end of it\n",
    "    i = 1 \n",
    "    # the expression (10 ** (i -1)) is incremented at each iteration, \n",
    "    while ((x % (10 ** (i -1))) != x):\n",
    "        ret *= 10\n",
    "        digit = x % (10 ** i)\n",
    "        digit //= 10**(i - 1)\n",
    "        ret += digit\n",
    "        i += 1\n",
    "    \n",
    "    return sign * ret"
   ]
  },
  {
   "cell_type": "code",
   "execution_count": 13,
   "metadata": {},
   "outputs": [
    {
     "data": {
      "text/plain": [
       "-414731"
      ]
     },
     "execution_count": 13,
     "metadata": {},
     "output_type": "execute_result"
    }
   ],
   "source": [
    "reverse_digits_backwards(-137414)"
   ]
  },
  {
   "cell_type": "code",
   "execution_count": 18,
   "metadata": {},
   "outputs": [
    {
     "data": {
      "text/plain": [
       "414731"
      ]
     },
     "execution_count": 18,
     "metadata": {},
     "output_type": "execute_result"
    }
   ],
   "source": [
    "reverse_digits_forwards(137414)"
   ]
  },
  {
   "cell_type": "code",
   "execution_count": 135,
   "metadata": {},
   "outputs": [],
   "source": [
    "%%script false\n",
    "\n",
    "how to use range() RV\n",
    "range(N) gives values from 0, 1, 2,... N-1\n",
    "range(N, M) gives values from N, N+1, N+2, .., M-1\n",
    "range(N, M, K) gives values from N, N+K, N+2K, N+3K, ..., until the value is >= M"
   ]
  },
  {
   "cell_type": "markdown",
   "metadata": {},
   "source": [
    "## Chapter 5: Arrays - 5.2, 5.17"
   ]
  },
  {
   "cell_type": "markdown",
   "metadata": {},
   "source": [
    "Insertion into a full array can be handled by\n",
    "resizing, i.e., allocating a new array with additional memory and copying over the entries from the\n",
    "original array. This increases the worst-case time of insertion, but if the new array has, for example,\n",
    "a constant factor larger than the original array, the average time for insertion is constant since\n",
    "resizing is infrequent"
   ]
  },
  {
   "cell_type": "markdown",
   "metadata": {},
   "source": [
    "- arrays are stored in memory continuously (as a block). is type of SEQUENCE\n",
    "- deleting an element moves everything over\n",
    "- complexity: \n",
    "update: O(1)\n",
    "retrieve: O(1)\n",
    "(assuming we know exactly what is at that index to update/retrieve)\n",
    "delete: O(n - i) = O(n)\n"
   ]
  },
  {
   "cell_type": "code",
   "execution_count": null,
   "metadata": {},
   "outputs": [],
   "source": [
    "[5, 3, 1, 1, 1, 1]"
   ]
  },
  {
   "cell_type": "code",
   "execution_count": 142,
   "metadata": {},
   "outputs": [],
   "source": [
    "#bootcamp - my verison\n",
    "def partition_array(arr):\n",
    "    '''\n",
    "    reorder the array so the even entries appear first. \n",
    "    easy if i allocate a new array =)\n",
    "    however, required to do without additional storage.\n",
    "    '''\n",
    "    for index in range(len(arr)):\n",
    "        if arr[index] % 2 != 0:\n",
    "            arr.append(arr[index])\n",
    "            del arr[index]\n",
    "    return arr"
   ]
  },
  {
   "cell_type": "code",
   "execution_count": null,
   "metadata": {},
   "outputs": [],
   "source": [
    "#incomplete. bootcamp attempt with 'both sides' hint\n",
    "def partition_array_bothends(arr):\n",
    "    end = len(arr) - 1\n",
    "    beg = 0\n",
    "    while ((end != beg) and (end > beg)):\n",
    "        "
   ]
  },
  {
   "cell_type": "code",
   "execution_count": 145,
   "metadata": {},
   "outputs": [],
   "source": [
    "%%script false\n",
    "len() is O(1)"
   ]
  },
  {
   "cell_type": "markdown",
   "metadata": {},
   "source": [
    "Deletion is O(N), and we iterate through the array once, but each time we do, we can potentially delete an item each time, espically if the array is just odd numbers. then we have O(N^2) complexity, which is garbonzo beans"
   ]
  },
  {
   "cell_type": "markdown",
   "metadata": {},
   "source": [
    "### their version"
   ]
  },
  {
   "cell_type": "markdown",
   "metadata": {},
   "source": [
    "- operate efficiently on both ends\n",
    "- partition into 3 subarrays - even, unclass, odd in that order\n",
    "    - even and odd empty, unclass is full arr at beginning. swap elements as we go\n",
    "    "
   ]
  },
  {
   "cell_type": "code",
   "execution_count": null,
   "metadata": {},
   "outputs": [],
   "source": [
    "#bootcamp their version:\n",
    "def even_odd(A):\n",
    "    next_even = 0\n",
    "    next_odd = len(A) - 1\n",
    "    while next_even < next_odd:\n",
    "        if A[next_even] % 2 == 0:\n",
    "            next_even += 1\n",
    "        else:\n",
    "            A[next_even] = A[next_odd]\n",
    "            A[next_odd] = A[next_even]\n",
    "            next_odd -= 1"
   ]
  },
  {
   "cell_type": "markdown",
   "metadata": {},
   "source": [
    "complexity: O(N) time, O(1) space\n"
   ]
  },
  {
   "cell_type": "markdown",
   "metadata": {},
   "source": [
    "- TAKEAWAY: (1) use iterators when u iterate through & creativity to get O(N), (2) use while loops indicing rather than foreach looping"
   ]
  },
  {
   "cell_type": "markdown",
   "metadata": {},
   "source": [
    "### array tips:\n",
    "- brute force is usually O(n) space or O(n^2) time, but iterators help get to O(n) time using just the array with just O(1) iterators space\n",
    "- write values from the back rather than the front (faster cuz no shift)\n",
    "- overwrite instead of deleting an entries to avoid shifting\n",
    "- consider processing from the back (or both at the same time like this!)\n",
    "    - RV reverse int arrays so least-significant digit in first entry\n",
    "- write subarray code (slices) easily\n",
    "- off-by-1 errors are common - end your iterations properly\n",
    "- ignore original values of array until return\n",
    "- RV An array can serve as a good data structure when you know the distribution of the elements in\n",
    "advance. For example, a Boolean array of length W is a good choice for representing a subset\n",
    "of {0, 1, . . . , W − 1}. (When using a Boolean array to represent a subset of {1, 2, 3, . . . , n}, allocate\n",
    "an array of size n + 1 to simplify indexing.)\n",
    "- parallel logic on 2D arrays \n",
    "- LV Sometimes it’s easier to simulate the specification, than to analytically solve for the result. For\n",
    "example, rather than writing a formula for the i-th entry in the spiral order for an n × n matrix,\n",
    "just compute the output from the beginning."
   ]
  },
  {
   "cell_type": "markdown",
   "metadata": {},
   "source": [
    "- list and tuple are similar except tuple immutable\n",
    "- list dynamically sized\n",
    "- len(A), A.append(N)==A.insert(len(A), N), A.remove(N) (removes FIRST item in list with value N), A.insert(position, item)\n",
    "- a in A checks if a is in A -> O(N)"
   ]
  },
  {
   "cell_type": "code",
   "execution_count": 147,
   "metadata": {},
   "outputs": [],
   "source": [
    "%%script false\n",
    "\n",
    "'''make a list'''\n",
    "list(); [1, 3, 4, 5]; [1] + [0] * 10; list(range(100)); [[1,2,4],[3,5,7,9],[13]]\n",
    "\n",
    "'''functions/operations'''\n",
    "len(A) \n",
    "A.append(N)==A.insert(len(A), N) #O(1)\n",
    "A.remove(N) #(removes FIRST item in list with value N) O(N)\n",
    "A.insert(position, item) #O(N)\n",
    "\n",
    "#RV\n",
    "min(A); max(A) - # O(N)\n",
    "A.reverse() #done IN-PLACE O(N)\n",
    "A.reversed() #returns iterator - O(N)\n",
    "A.sort() #in place O(N) to O (n log N)\n",
    "A.sorted() #returns copy O(N log N????)\n",
    "del A[i]; del A[i:j] #deletes entry or slice at O(N)\n",
    "'''checking a value inside array is O(N)'''\n",
    "2 in A"
   ]
  },
  {
   "cell_type": "markdown",
   "metadata": {},
   "source": [
    "## SHALLOW COPY VS DEEPCOPY vs ASSIGNMENT"
   ]
  },
  {
   "cell_type": "code",
   "execution_count": 148,
   "metadata": {},
   "outputs": [],
   "source": [
    "%%script false\n",
    "'''difference between'''\n",
    "B = A\n",
    "B = list(A)\n",
    "\n",
    "copy.copy(A)\n",
    "copy.deepcopy(A)"
   ]
  },
  {
   "cell_type": "code",
   "execution_count": null,
   "metadata": {},
   "outputs": [],
   "source": [
    "'''slicing'''\n",
    "A[i:]\n",
    "A[i:j]\n",
    "A[:j]\n",
    "#with negs\n",
    "''' RV\n",
    "A[:-1] is [1, 6, 3, 4, 5, 2], A[-3:] is [5, 2,\n",
    "7], A[-3:-1] is [5, 2], A[1:5:2] is [6, 4], A[5:1:-2] is [2, 4], and A[::-1] is [7, 2, 5,\n",
    "4, 3, 6, 1] (reverses list). Slicing can also be used to rotate a list: A[k:] + A[:k] rotates A\n",
    "by k to the left. It can also be used to create a copy: B = A[:] does a (shallow) copy of A into\n",
    "B\n",
    "'''"
   ]
  },
  {
   "cell_type": "code",
   "execution_count": null,
   "metadata": {},
   "outputs": [],
   "source": [
    "'''RV list comphreension'''"
   ]
  },
  {
   "cell_type": "markdown",
   "metadata": {},
   "source": [
    "## 5.2: increment an arbitrary-precision integer"
   ]
  },
  {
   "cell_type": "markdown",
   "metadata": {},
   "source": [
    "Write a program which takes as input asn array of digits encoding a decimal integer D and updates the array to represent the integer D+1. \n",
    "\n",
    "For example, if the input is [1, 2, 9], then you should update the array to [1, 3, 0]. Your algorithm should work even if it is implemented in a lanugage that has finite-precision arithmetic\n",
    "hint:...\n",
    "experimwnt with concrete examples"
   ]
  },
  {
   "cell_type": "markdown",
   "metadata": {},
   "source": [
    "positive case:\n",
    "- case 1:\n",
    "    the ones digit is between 0 and 8 (easy case)\n",
    "- case 2:\n",
    "    the ones digit is 9\n",
    "    - case 2.N:\n",
    "        the tens digit is 9\n",
    "    \n",
    "--- how is a negative number represented in this array since it is an array of ints? this next part might be pointless\n",
    "XXX ignore the negative case.\n",
    "\n",
    "negative case:\n",
    "- case 3:\n",
    "    the ones digit is 0"
   ]
  },
  {
   "cell_type": "code",
   "execution_count": null,
   "metadata": {},
   "outputs": [],
   "source": []
  },
  {
   "cell_type": "code",
   "execution_count": null,
   "metadata": {},
   "outputs": [],
   "source": [
    "999"
   ]
  },
  {
   "cell_type": "code",
   "execution_count": 1,
   "metadata": {},
   "outputs": [
    {
     "data": {
      "text/plain": [
       "[1, 9, 9, 9]"
      ]
     },
     "execution_count": 1,
     "metadata": {},
     "output_type": "execute_result"
    }
   ],
   "source": [
    "[1] + [9, 9, 9]"
   ]
  },
  {
   "cell_type": "code",
   "execution_count": 7,
   "metadata": {},
   "outputs": [],
   "source": [
    "#MY brute force solution\n",
    "def increment_array(array):\n",
    "    '''\n",
    "    takes in an array that 'represents' an integer. returns an array with the int++\n",
    "    example input: [1, 3, 0]\n",
    "    output of ^ : [1, 3, 1]\n",
    "    '''\n",
    "    index = len(array) - 1\n",
    "    while index >= 0:\n",
    "        if array[index] != 9:\n",
    "            array[index] += 1\n",
    "            break\n",
    "        else:\n",
    "            array[index] = 0\n",
    "            if index == 0:   #you can move this statement outside'''\n",
    "                #consider using array.insert(0, 1) instead.\n",
    "                array = [1] + array  \n",
    "        index -= 1\n",
    "        \n",
    "    return array"
   ]
  },
  {
   "cell_type": "code",
   "execution_count": 8,
   "metadata": {},
   "outputs": [
    {
     "data": {
      "text/plain": [
       "[1, 0]"
      ]
     },
     "execution_count": 8,
     "metadata": {},
     "output_type": "execute_result"
    }
   ],
   "source": [
    "increment_array([9])"
   ]
  },
  {
   "cell_type": "markdown",
   "metadata": {},
   "source": [
    "The complexity of this solution is O(N) since we traverse the array once and perform O(1) ops within each loop iteration\n",
    "However, when we encounter a 9 in the 0th index, we have to shift the array to the side 1, wheich is an O(N) operation.\n",
    "\n",
    "however, it should still be O(N) cuz 2N = N by complexity math\n",
    "\n",
    "we use O(N+1) space ecomplexity cuz i use new array in the case of shifting\n",
    "-using array.insert(0, 1) will keep time complexity at O(n) while reducing space complexity to O(1)"
   ]
  },
  {
   "cell_type": "code",
   "execution_count": 1,
   "metadata": {},
   "outputs": [],
   "source": [
    "#BOOKS BRUTE FORCE SOLUTION:\n",
    "'''convert array of single digit ints to actual int, then just add 1 to the actual int, then convert back to original array format'''\n",
    "#bad because doesnt work if my arraay is really big and we get int overflow.\n",
    "def increment_array_brute_book(array):\n",
    "    index = len(array) - 1\n",
    "    multiplier = 1\n",
    "    Sum = 0\n",
    "    while(index >= 0):\n",
    "        Sum += array[index] * multiplier\n",
    "        index -= 1\n",
    "        multiplier *= 10\n",
    "\n",
    "    #now we have the actual integer as an integer!\n",
    "    Sum += 1\n",
    "    \n",
    "    arr = []\n",
    "    while(Sum != 0):\n",
    "        arr.insert(0, Sum % 10)\n",
    "        Sum //= 10\n",
    "\n",
    "    return arr"
   ]
  },
  {
   "cell_type": "code",
   "execution_count": 9,
   "metadata": {},
   "outputs": [
    {
     "data": {
      "text/plain": [
       "[9, 9]"
      ]
     },
     "execution_count": 9,
     "metadata": {},
     "output_type": "execute_result"
    }
   ],
   "source": [
    "arr"
   ]
  },
  {
   "cell_type": "code",
   "execution_count": 14,
   "metadata": {},
   "outputs": [],
   "source": [
    "arr = [-9]\n",
    "#increment_array_brute_book(arr)"
   ]
  },
  {
   "cell_type": "code",
   "execution_count": 13,
   "metadata": {},
   "outputs": [
    {
     "name": "stdout",
     "output_type": "stream",
     "text": [
      "2\n",
      "1\n"
     ]
    }
   ],
   "source": [
    "for i in reversed(range(1, len(arr))):\n",
    "    print(i)"
   ]
  },
  {
   "cell_type": "code",
   "execution_count": 30,
   "metadata": {},
   "outputs": [],
   "source": [
    "# Book's fast solution (pretty much same as mine)\n",
    "def plus_one(A):\n",
    "    # increments the final element in A by 1\n",
    "    A[-1] += 1\n",
    "    #get reversed iterator O(N), skipping 0th index??? - iterate from end of the array to the 1th index\n",
    "        #note if single digit, the single digit will be incremented from the prior, and the loop is skipped\n",
    "    for i in reversed(range(1, len(A))):\n",
    "        #if the rightmost digit is not ten, then it was b/w 0-8, so its the simple case and it just added 1.\n",
    "        if A[i] != 10:\n",
    "            break\n",
    "        #otherwise, it is ten and the digit was 9 - set it to 0 and put 1 carryover to thhenext digit. then look at next digit.\n",
    "        A[i] = 0\n",
    "        A[i - 1] += 1\n",
    "    if A[0] == 10:\n",
    "        #need additional digit as the most significant digit has a carry-out\n",
    "        A[0] = 0\n",
    "        A.insert(0,1)\n",
    "    return A\n",
    "#complexity is O(n)"
   ]
  },
  {
   "cell_type": "code",
   "execution_count": 27,
   "metadata": {},
   "outputs": [
    {
     "data": {
      "text/plain": [
       "8"
      ]
     },
     "execution_count": 27,
     "metadata": {},
     "output_type": "execute_result"
    }
   ],
   "source": [
    "[1,0,9,8][-1]"
   ]
  },
  {
   "cell_type": "code",
   "execution_count": 21,
   "metadata": {},
   "outputs": [
    {
     "data": {
      "text/plain": [
       "[-1, -1, 3, 0]"
      ]
     },
     "execution_count": 21,
     "metadata": {},
     "output_type": "execute_result"
    }
   ],
   "source": [
    "increment_array([-1, -1, 3, -1])"
   ]
  },
  {
   "cell_type": "markdown",
   "metadata": {},
   "source": [
    "### 5.2 variant: write a program which takes as input two strings s and t of bits encoding binary numbers B_s and B_t, respectively, and returns a new string of bits representing the number B_s + B_t"
   ]
  },
  {
   "cell_type": "code",
   "execution_count": 119,
   "metadata": {},
   "outputs": [
    {
     "data": {
      "text/plain": [
       "['a', 'a', 'a']"
      ]
     },
     "execution_count": 119,
     "metadata": {},
     "output_type": "execute_result"
    }
   ],
   "source": [
    "3 * ['a']"
   ]
  },
  {
   "cell_type": "code",
   "execution_count": null,
   "metadata": {},
   "outputs": [],
   "source": [
    "def extend_bits(s, diff):\n",
    "    temp = ''\n",
    "    leading_bit = s[0]\n",
    "    for i in range(len(diff)):\n",
    "        temp.append(leading_bit)\n",
    "    temp.append(s)\n",
    "    s = temp\n",
    "    return s\n",
    "\n",
    "def add_binary(s, t):\n",
    "    #first thing is check size of both strings in case we need to do bit extension\n",
    "    if len(s) != len(t):\n",
    "        if len(s) > len(t):\n",
    "            t = extend_bits(t, abs(len(s) - len(t)))\n",
    "        else:\n",
    "            s = extend_bits(s, abs(len(s) - len(t)))\n",
    "    \n",
    "    Sum = ''\n",
    "    \n",
    "    #SLOW WAY - make a chr array and parse it and thus parsing each char of each binary string and put inside char array\n",
    "    #then, parse char array and add it to a string\n",
    "    chararr = len(s) * ['']\n",
    "    index = len(chararr) - 1\n",
    "    carry = False\n",
    "    while(index >= 0)\n",
    "        if s[index] == '0' and t[index] == '0':\n",
    "            if not carry:\n",
    "                chararr[index] = '0'\n",
    "            else:\n",
    "                chararr[index] = '1'\n",
    "                carry = False\n",
    "        elif s[index] != t[index]:\n",
    "            if not carry:\n",
    "                chararr[index] = '1'\n",
    "            else:\n",
    "                chararr[index] = '0'\n",
    "                carry = False\n",
    "        elif s[index] == '1' and t[index] == '1':\n",
    "            if not carry:\n",
    "                chararr[index] = '0'\n",
    "            else:\n",
    "                chararr[index] = '1'\n",
    "            carry = True\n",
    "        else:\n",
    "            print('you have a problem with your string(s)')\n",
    "        index -= 1\n",
    "    \n",
    "    '''HOW DO WE HANDLE CASE WHERE '''\n",
    "    if carry:\n",
    "        if s[0] == '0' and t[0] == '0':\n",
    "            chararr.insert(0, 1)\n",
    "            chararr.insert(0, 0) # to distinguish this as a positive number\n",
    "        elif s[0] != t[0]:\n",
    "            chararr.insert()\n",
    "        elif s[index] == '1' and t[index] == '1':\n",
    "            pass\n",
    "\n",
    "            \n",
    "    '''insert addtional processing to get from 0s and 1s chars in an array to into a string'''\n",
    "    return Sum\n",
    "    #############RV DAWG WTFFF\n",
    "    \n",
    "    #can this take negative inputs?"
   ]
  },
  {
   "cell_type": "markdown",
   "metadata": {},
   "source": [
    "- RV - all you gotta do is exntend the leading bit when you copnvert from less to more bits - perserves value and sign cuz 2's complement is bae"
   ]
  },
  {
   "cell_type": "markdown",
   "metadata": {},
   "source": [
    "## 5.17: Sudoku checker problem"
   ]
  },
  {
   "cell_type": "markdown",
   "metadata": {},
   "source": [
    "in sudoku, fill a 9x9 grid with digits subject to constraint that each row/column/3x3-grid each all contain unique integers in 1 to 9\n",
    "- check whether a 9x9 grid containing partially completd sudoku is valid. aka check that no row, no column, or 3x3 2D subarray contains duplicates. a 0-value in the 2D array indiciates that the entry is blank, every other entry is in [1,9] hint... directly test constaints, use arrays to encode sets\n"
   ]
  },
  {
   "cell_type": "code",
   "execution_count": 34,
   "metadata": {},
   "outputs": [],
   "source": [
    "#There is zero clarification on the format of inputs, so i'm going to assume a 2D array since its more logical.\n",
    "arr = [\n",
    "    [1, 2, 3, 4, 5, 6, 7, 8, 9],\n",
    "    [1, 2, 3, 4, 5, 6, 7, 8, 9],\n",
    "    [1, 2, 3, 4, 5, 6, 7, 8, 9],\n",
    "    [1, 2, 3, 4, 5, 6, 7, 8, 9],\n",
    "    [1, 2, 3, 4, 5, 6, 7, 8, 9],\n",
    "    [1, 2, 3, 4, 5, 6, 7, 8, 9],\n",
    "    [1, 2, 3, 4, 5, 6, 7, 8, 9],\n",
    "    [1, 2, 3, 4, 5, 6, 7, 8, 9],\n",
    "    [1, 2, 3, 4, 5, 6, 7, 8, 9]\n",
    "    \n",
    "]"
   ]
  },
  {
   "cell_type": "code",
   "execution_count": 64,
   "metadata": {},
   "outputs": [
    {
     "data": {
      "text/plain": [
       "[]"
      ]
     },
     "execution_count": 64,
     "metadata": {},
     "output_type": "execute_result"
    }
   ],
   "source": [
    "arr[0:0]"
   ]
  },
  {
   "cell_type": "markdown",
   "metadata": {},
   "source": [
    "- three checks - (1) 3x3 matrix, (2) row, (3) column. Note that A[row indexer][column indexer]\n",
    "(1) A[0:2][0:2], A[0:2][3:5], A[0:2][6:8],\n",
    "    A[3:5][0:2], A[3:5][3:5], A[3:5][6:8],\n",
    "    A[6:8][0:2], A[6:8][3:5], A[6:8][6:8]\n",
    "(2) A[N][:]\n",
    "(3) A[:][N]\n",
    "- RV note that when slicing A[i:j], we never grab the j-th element."
   ]
  },
  {
   "cell_type": "code",
   "execution_count": null,
   "metadata": {},
   "outputs": [],
   "source": []
  },
  {
   "cell_type": "code",
   "execution_count": 53,
   "metadata": {},
   "outputs": [
    {
     "data": {
      "text/plain": [
       "{1, 2, 3, 4, 5, 6, 7, 8, 9}"
      ]
     },
     "execution_count": 53,
     "metadata": {},
     "output_type": "execute_result"
    }
   ],
   "source": [
    "allowedset"
   ]
  },
  {
   "cell_type": "code",
   "execution_count": 56,
   "metadata": {},
   "outputs": [],
   "source": [
    "allowedset -= {1}"
   ]
  },
  {
   "cell_type": "code",
   "execution_count": 57,
   "metadata": {},
   "outputs": [
    {
     "data": {
      "text/plain": [
       "{2, 3, 4, 5, 6, 7, 8, 9}"
      ]
     },
     "execution_count": 57,
     "metadata": {},
     "output_type": "execute_result"
    }
   ],
   "source": [
    "allowedset"
   ]
  },
  {
   "cell_type": "code",
   "execution_count": 54,
   "metadata": {},
   "outputs": [
    {
     "data": {
      "text/plain": [
       "{2, 3, 4, 5, 6, 7, 8, 9}"
      ]
     },
     "execution_count": 54,
     "metadata": {},
     "output_type": "execute_result"
    }
   ],
   "source": [
    "allowedset - {1}"
   ]
  },
  {
   "cell_type": "code",
   "execution_count": 50,
   "metadata": {},
   "outputs": [],
   "source": [
    "allowedset = set([1, 2, 3, 4, 5, 6, 7, 8, 9])"
   ]
  },
  {
   "cell_type": "code",
   "execution_count": 68,
   "metadata": {},
   "outputs": [
    {
     "data": {
      "text/plain": [
       "0"
      ]
     },
     "execution_count": 68,
     "metadata": {},
     "output_type": "execute_result"
    }
   ],
   "source": [
    "9 % 3"
   ]
  },
  {
   "cell_type": "code",
   "execution_count": 65,
   "metadata": {},
   "outputs": [
    {
     "data": {
      "text/plain": [
       "9"
      ]
     },
     "execution_count": 65,
     "metadata": {},
     "output_type": "execute_result"
    }
   ],
   "source": [
    "len(arr)"
   ]
  },
  {
   "cell_type": "code",
   "execution_count": null,
   "metadata": {},
   "outputs": [],
   "source": [
    "def sudoku_checker(arr):\n",
    "    '''\n",
    "    takes in a 2D array and returns true if the sudoku fills is valid and false if invalid\n",
    "    '''\n",
    "    #check rows:\n",
    "    #iterate through each row\n",
    "    for row in range(len(arr)): #O(N)\n",
    "        allowedset = set(range(1, len(arr) + 1) #O(N)\n",
    "        #iterate through each item in each row\n",
    "        for ri in range(len(arr)):\n",
    "            item = arr[row][ri]\n",
    "            #if the item is 0, go to the next item\n",
    "            if item == 0:\n",
    "                continue\n",
    "            else:\n",
    "                #if the entry hasnt bene used in this row yet\n",
    "                if item in allowedset: # sqrt(N) * N\n",
    "                    #remove the entry from the allowed set leftover\n",
    "                    allowedset -= {item} # sqrt(N) * N\n",
    "                #otherwise, if it has been used already for this row\n",
    "                else:\n",
    "                    return False\n",
    "    #check columns:\n",
    "    for col in range(len(arr)):\n",
    "        allowedset = set(range(1, len(arr) + 1) #O(N)\n",
    "        #iterate through each item in each col\n",
    "        for ci in range(len(arr)):\n",
    "            item = arr[ci][col]\n",
    "            #if the item is 0, go to the next item\n",
    "            if item == 0:\n",
    "                continue\n",
    "            else:\n",
    "                #if the entry hasnt bene used in this col yet\n",
    "                if item in allowedset:\n",
    "                    #remove the entry from the allowed set leftover\n",
    "                    allowedset -= {item}\n",
    "                #otherwise, if it has been used already for this col\n",
    "                else:\n",
    "                    return False\n",
    "    #check submatrices\n",
    "    for rowincr in range(0, len(arr), int(math.sqrt(len(arr)))):# sqrtN/3\n",
    "        for colincr in range(0, len(arr), int(math.sqrt(len(arr)))): #sqrtN/3\n",
    "            allowedset = set(range(1, len(arr) + 1) #O(N)\n",
    "            for bri in range(math.sqrt(len(arr))): #sqrtN/3\n",
    "                for bci in range(math.sqrt(len(arr))): #sqrtN/3\n",
    "                    item = arr[bri+rowincr][cri+colincr] #O(1)\n",
    "                    if item in allowedset: #sqrt(N) * N\n",
    "                        allowedset -= {item} #sqrt(N) * N\n",
    "                    else:\n",
    "                        return False\n",
    "    return True"
   ]
  },
  {
   "cell_type": "code",
   "execution_count": 73,
   "metadata": {},
   "outputs": [],
   "source": [
    "import math "
   ]
  },
  {
   "cell_type": "code",
   "execution_count": 75,
   "metadata": {},
   "outputs": [
    {
     "name": "stdout",
     "output_type": "stream",
     "text": [
      "0\n",
      "3\n",
      "6\n"
     ]
    }
   ],
   "source": [
    "for item in range(0, len(arr), int(math.sqrt(len(arr)))):\n",
    "    print(item)"
   ]
  },
  {
   "cell_type": "markdown",
   "metadata": {},
   "source": [
    "6*SQRT(N) * N + 2O(N) + 2O(N) + (sqrt(N)/3)^4 = 3N * 6SQRT(N) + N^2/81 = O(N^2)\n",
    "sqrt(N) space."
   ]
  },
  {
   "cell_type": "code",
   "execution_count": 69,
   "metadata": {},
   "outputs": [],
   "source": [
    "#RV\n",
    "def has_duplicate(block):\n",
    "    block = list(filter(lambda x: x != 0, block))\n",
    "    return len(block) != len(set(block))"
   ]
  },
  {
   "cell_type": "code",
   "execution_count": 71,
   "metadata": {},
   "outputs": [
    {
     "data": {
      "text/plain": [
       "True"
      ]
     },
     "execution_count": 71,
     "metadata": {},
     "output_type": "execute_result"
    }
   ],
   "source": [
    "has_duplicate([1, 0, 2, 3, 5, 8, 0, 9, 1])"
   ]
  },
  {
   "cell_type": "code",
   "execution_count": null,
   "metadata": {},
   "outputs": [],
   "source": [
    "[0, 0, 2, 3, 5, 8, 0, 9, 1]"
   ]
  },
  {
   "cell_type": "code",
   "execution_count": null,
   "metadata": {},
   "outputs": [],
   "source": [
    "#book soln RV\n",
    "def is_valid_sudoku(partial_assignment):\n",
    "    def has_duplicate(block):\n",
    "        block = list(filter(lambda x: x != 0, block))\n",
    "        return len(block) != len(set(block))\n",
    "    \n",
    "    n = len(partial_assignment)\n",
    "    #check row/cols\n",
    "    if any(\n",
    "            has_duplicate([partial_assignment[i][j] for j in range(n)]) or\n",
    "            has_duplicate([partial_assignment[j][i] for j in range(n)])\n",
    "            for i in range(n)):\n",
    "        return False\n",
    "    \n",
    "    # check region constaints\n",
    "    region_size = int(math.sqrt(n))\n",
    "    return all(not has_duplicate([\n",
    "        partial_assignment[a][b]\n",
    "        for a in range(region_size * I, region_size * (I + 1))\n",
    "        for b in range(region_size * J, region_size * (J + 1))\n",
    "    ]) for I in range(region_size) for J in range(region_size))"
   ]
  },
  {
   "cell_type": "markdown",
   "metadata": {},
   "source": [
    "O(N^2) + O(N^2) + O(N^2 / ((sqrt(N))^2 * (sqrt(N))^2)) ) = O(N^2)\n",
    "row + col + subgrids, where N = 9, not 81."
   ]
  },
  {
   "cell_type": "markdown",
   "metadata": {},
   "source": [
    "## Chapter 6: strings 6.5 6.6"
   ]
  },
  {
   "cell_type": "markdown",
   "metadata": {},
   "source": [
    "- strings are character arrays - separated from regular arr cuz stuff like comparison/join/split/substr doesnt make sense in regular arrays\n",
    "- HOW are strings represented in memory \n",
    "- basic string ops - comparison, copying, joining, splitting, matching\n",
    "str.find(sub,start,end) #O(N)\n"
   ]
  },
  {
   "cell_type": "code",
   "execution_count": null,
   "metadata": {},
   "outputs": [],
   "source": [
    "#string boot camp: check if a string a palindrome -mysoln\n",
    "# a palindrome is a string that is the same when reversed vs original\n",
    "def isPalindrome(string):\n",
    "    '''\n",
    "    returns true if string is a palindrome and false otherwise\n",
    "    '''\n",
    "    beg = 0\n",
    "    end = len(string) - 1\n",
    "    while(beg > end):\n",
    "        if string[beg] != string[end]:\n",
    "            return False\n",
    "        beg += 1\n",
    "        end -= 1\n",
    "        \n",
    "    return True"
   ]
  },
  {
   "cell_type": "code",
   "execution_count": 80,
   "metadata": {},
   "outputs": [
    {
     "data": {
      "text/plain": [
       "1"
      ]
     },
     "execution_count": 80,
     "metadata": {},
     "output_type": "execute_result"
    }
   ],
   "source": [
    "~-2"
   ]
  },
  {
   "cell_type": "markdown",
   "metadata": {},
   "source": [
    "RV - The unary operator ~ simply just flips the bits. this is the equivalent to performing -(x + 1) due to how two's complement works."
   ]
  },
  {
   "cell_type": "code",
   "execution_count": 81,
   "metadata": {},
   "outputs": [
    {
     "data": {
      "text/plain": [
       "4"
      ]
     },
     "execution_count": 81,
     "metadata": {},
     "output_type": "execute_result"
    }
   ],
   "source": [
    "arr = [1, 2, 3, 4, 5]\n",
    "arr[-2]"
   ]
  },
  {
   "cell_type": "markdown",
   "metadata": {},
   "source": [
    "RV - know how to index arrays with negative numbers - it just overflows"
   ]
  },
  {
   "cell_type": "code",
   "execution_count": null,
   "metadata": {},
   "outputs": [],
   "source": [
    "#string bootcamp - their solution\n",
    "def is_palindromic(s):\n",
    "    # note that s[~i] for i in [0, len(s) -1)] is s[-(i +1)]\n",
    "    return all(s[i] == s[~i] for i in range(len(s) // 2))\n",
    "# time complexity O(N) space O(1)\n",
    "\n",
    "'''\n",
    "all() performs an ANDing between all elements in the sequence.\n",
    "i is the regular index, and doing ~i should yield the index 'on the other side'\n",
    "comparing whether or not the char at i and on 'the other side' for all chars\n",
    "and then ANDing their results\n",
    "'''"
   ]
  },
  {
   "cell_type": "code",
   "execution_count": 82,
   "metadata": {},
   "outputs": [
    {
     "data": {
      "text/plain": [
       "True"
      ]
     },
     "execution_count": 82,
     "metadata": {},
     "output_type": "execute_result"
    }
   ],
   "source": [
    "'dude' in 'dudet'"
   ]
  },
  {
   "cell_type": "code",
   "execution_count": 89,
   "metadata": {},
   "outputs": [
    {
     "name": "stdout",
     "output_type": "stream",
     "text": [
      "010101\n"
     ]
    },
    {
     "data": {
      "text/plain": [
       "''"
      ]
     },
     "execution_count": 89,
     "metadata": {},
     "output_type": "execute_result"
    }
   ],
   "source": [
    "string = (3 * '01')\n",
    "print(string)\n",
    "string.split('0')[0]"
   ]
  },
  {
   "cell_type": "code",
   "execution_count": 86,
   "metadata": {},
   "outputs": [
    {
     "data": {
      "text/plain": [
       "['dude', 'wtf', 'bbq']"
      ]
     },
     "execution_count": 86,
     "metadata": {},
     "output_type": "execute_result"
    }
   ],
   "source": [
    "'dude,wtf,bbq'.split(',')"
   ]
  },
  {
   "cell_type": "code",
   "execution_count": null,
   "metadata": {},
   "outputs": [],
   "source": [
    "string[3], len(string), string1 + string2, string[i:j]\n",
    "#all list slicing is the same for strings, since strings are just different lists\n",
    "- 'string1' in 'string2'\n",
    "str.strip(characters_to_strip_otherwise_whitespace)\n",
    "str.startswith(prefix); str.endswith(suffix)\n",
    "['dude', 'wtf', 'bbq'] = 'dude,wtf,bbq'.split(',')\n",
    "','.join(('bro', 'kys'))\n",
    "'010101' = 3 * '01' #weidly has a '' at the beginning if u split it after.\n",
    "str.lower()\n",
    "str.find(sub,start,end) #O(N)\n"
   ]
  },
  {
   "cell_type": "code",
   "execution_count": 92,
   "metadata": {},
   "outputs": [
    {
     "data": {
      "text/plain": [
       "'Name name, Rank rank'"
      ]
     },
     "execution_count": 92,
     "metadata": {},
     "output_type": "execute_result"
    }
   ],
   "source": [
    "#RV what does this do?\n",
    "'Name name, Rank rank'.format(name='Archimedes', rank=3)"
   ]
  },
  {
   "cell_type": "markdown",
   "metadata": {},
   "source": [
    "- STRINGS ARE IMMUTABLE\n",
    "s = s[1:] and s += '123' create a NEW array of chars which are assigned back to S\n",
    "\n",
    "- so, concatenating a char n times is O(N^2) and not O(N)"
   ]
  },
  {
   "cell_type": "markdown",
   "metadata": {},
   "source": [
    "STRING TIPS:\n",
    "- like arrays has O(N) space brute force solns making a new string, but using the string itself can yield O(1) space complkexity\n",
    "- know that STRINGS ARE IMMUTABLE and ALTERNATIVES - ie a list\n",
    "- update a string from front is slow, but back is fast (like arrays)\n"
   ]
  },
  {
   "cell_type": "markdown",
   "metadata": {},
   "source": [
    "## 6.5: Test palindromicity: \n",
    "define a palindromic string to a be a string which when all the nonalphanumeric are removed it reads the same front to back ignoring case\n",
    "for example, \"A man, a plan, a canal, Panama.\" and \"Able was I, ere I saw Elba!\" are Palindromic by this specification, but \"Ray a Ray\" is not\n",
    "FCN should take a string as input and return true or false if it is palindromic or not respectively. HINT...\n"
   ]
  },
  {
   "cell_type": "code",
   "execution_count": 94,
   "metadata": {},
   "outputs": [
    {
     "ename": "ValueError",
     "evalue": "invalid literal for int() with base 10: 'a'",
     "output_type": "error",
     "traceback": [
      "\u001b[0;31m---------------------------------------------------------------------------\u001b[0m",
      "\u001b[0;31mValueError\u001b[0m                                Traceback (most recent call last)",
      "\u001b[0;32m<ipython-input-94-233884bacd4e>\u001b[0m in \u001b[0;36m<module>\u001b[0;34m()\u001b[0m\n\u001b[0;32m----> 1\u001b[0;31m \u001b[0mint\u001b[0m\u001b[0;34m(\u001b[0m\u001b[0;34m'a'\u001b[0m\u001b[0;34m)\u001b[0m\u001b[0;34m\u001b[0m\u001b[0m\n\u001b[0m",
      "\u001b[0;31mValueError\u001b[0m: invalid literal for int() with base 10: 'a'"
     ]
    }
   ],
   "source": [
    "int('a')"
   ]
  },
  {
   "cell_type": "code",
   "execution_count": 100,
   "metadata": {},
   "outputs": [
    {
     "data": {
      "text/plain": [
       "'asfadsfsa'"
      ]
     },
     "execution_count": 100,
     "metadata": {},
     "output_type": "execute_result"
    }
   ],
   "source": [
    "a = 'ASFADSFSA'\n",
    "a.lower()"
   ]
  },
  {
   "cell_type": "code",
   "execution_count": 98,
   "metadata": {},
   "outputs": [],
   "source": [
    "def is_palindromic(s):\n",
    "    # note that s[~i] for i in [0, len(s) -1)] is s[-(i +1)]\n",
    "    return all(s[i] == s[~i] for i in range(len(s) // 2))\n",
    "\n",
    "#brute force solution\n",
    "def palindrome(string):\n",
    "    alphanum = ['abcdefghijklmnopqrstuvwxyz1234567890'] #O(36)\n",
    "    string = string.lower() #O(N)\n",
    "    for ch in range(len(string)): #O(N)\n",
    "        if ch not in alphanum: #O(36)\n",
    "            string.strip(ch) #O(N)\n",
    "            \n",
    "    return is_palindromic(s) #O(N)\n",
    "\n",
    "#O(N^2).\n"
   ]
  },
  {
   "cell_type": "code",
   "execution_count": null,
   "metadata": {},
   "outputs": [],
   "source": [
    "# book naive - make a reversed version of s and compare to s skipping alphanum\n",
    "def palindrome_naive_book(string):\n",
    "    alphanum = 'ABCDEFGHIJKLMNOPQRSTUVWXYZabcdefghijklmnopqrstuvwxyz1234567890'\n",
    "    reverse = ''\n",
    "    "
   ]
  },
  {
   "cell_type": "markdown",
   "metadata": {},
   "source": [
    " - string.isalnum(), string.lower()"
   ]
  },
  {
   "cell_type": "code",
   "execution_count": 117,
   "metadata": {},
   "outputs": [],
   "source": [
    "# book good solution which was mine before\n",
    "def Palindrome_book_good_skip_nonalnum_mine(string):\n",
    "    '''\n",
    "    returns true if string is a palindrome and false otherwise\n",
    "    '''\n",
    "    beg = 0\n",
    "    end = len(string) - 1\n",
    "    while(beg < end):\n",
    "        while(not string[beg].isalnum()):\n",
    "            beg += 1\n",
    "        while(not string[end].isalnum()):\n",
    "            end -= 1\n",
    "        if(beg > end):\n",
    "            break\n",
    "        if string[beg].lower() != string[end].lower():\n",
    "            return False\n",
    "        beg += 1\n",
    "        end -= 1\n",
    "        \n",
    "    return True"
   ]
  },
  {
   "cell_type": "code",
   "execution_count": 105,
   "metadata": {},
   "outputs": [
    {
     "data": {
      "text/plain": [
       "False"
      ]
     },
     "execution_count": 105,
     "metadata": {},
     "output_type": "execute_result"
    }
   ],
   "source": [
    "'A' == 'a'"
   ]
  },
  {
   "cell_type": "code",
   "execution_count": null,
   "metadata": {},
   "outputs": [],
   "source": [
    "Palindrome_book_good_skip_nonalnum_mine"
   ]
  },
  {
   "cell_type": "code",
   "execution_count": 116,
   "metadata": {},
   "outputs": [
    {
     "data": {
      "text/plain": [
       "True"
      ]
     },
     "execution_count": 116,
     "metadata": {},
     "output_type": "execute_result"
    }
   ],
   "source": [
    "string = \"A man, a plan, a canal, Panama..\"\n",
    "Palindrome_book_good_skip_nonalnum_mine('Racecar')"
   ]
  },
  {
   "cell_type": "code",
   "execution_count": null,
   "metadata": {},
   "outputs": [],
   "source": [
    "#book good solution - legit same as mine\n",
    "def is_palindrome(s):\n",
    "    #i moves forward and j moves backward\n",
    "    i = 0\n",
    "    j = len(s) - 1\n",
    "    while (i < j):\n",
    "        #i and j both skip nonalphanumeric characters\n",
    "        while not s[i].isalnum() and i < j:\n",
    "            i += 1\n",
    "        while not s[i].isalnum() and i < j:\n",
    "            j -= 1\n",
    "        if s[i].lower() != s[j].lower():\n",
    "            return False\n",
    "        i, j = i + 1, j - 1\n",
    "    return True"
   ]
  },
  {
   "cell_type": "markdown",
   "metadata": {},
   "source": [
    "runs in O(N) and uses O(1) space."
   ]
  },
  {
   "cell_type": "markdown",
   "metadata": {},
   "source": [
    "## 6.6: reverse all the words in a sentence: \n",
    "given a string containing the set of words separated by whitespace, we would like to transform it to a string which the words appear in the reverse order. for example, 'alice likes bob' turns into 'bob likes alice'. we dont need to keeep the original string"
   ]
  },
  {
   "cell_type": "code",
   "execution_count": 126,
   "metadata": {},
   "outputs": [],
   "source": [
    "#brute force\n",
    "def reverse_words(sentence):\n",
    "    arr = sentence.split(' ')\n",
    "    index = len(arr) - 1\n",
    "    reversed_sentence = ''\n",
    "    while (index >= 0):\n",
    "        reversed_sentence += arr[index]\n",
    "        if index != 0:\n",
    "            reversed_sentence += ' '\n",
    "        index -= 1\n",
    "    return reversed_sentence"
   ]
  },
  {
   "cell_type": "code",
   "execution_count": 127,
   "metadata": {},
   "outputs": [
    {
     "data": {
      "text/plain": [
       "'bob likes alice'"
      ]
     },
     "execution_count": 127,
     "metadata": {},
     "output_type": "execute_result"
    }
   ],
   "source": [
    "reverse_words('alice likes bob')"
   ]
  },
  {
   "cell_type": "markdown",
   "metadata": {},
   "source": [
    "Complexity is O(str.split) + O(N) "
   ]
  },
  {
   "cell_type": "code",
   "execution_count": 136,
   "metadata": {},
   "outputs": [],
   "source": [
    "#without any serious fcns - array creation 2x, O(N) characters, array append 2Nx, \n",
    "def reverse_words_primitive(sentence):\n",
    "    arr = ['']\n",
    "    index = 0\n",
    "    for char in sentence:\n",
    "        if char != ' ':\n",
    "            arr[index] += (char)\n",
    "        else:\n",
    "            arr.append('')\n",
    "            index += 1\n",
    "    concat = ''\n",
    "    index = len(arr) - 1\n",
    "    while(index >= 0):\n",
    "        concat += arr[index]\n",
    "        if index != 0:\n",
    "            concat += ' '\n",
    "        index -= 1\n",
    "    \n",
    "    return concat\n",
    "    "
   ]
  },
  {
   "cell_type": "code",
   "execution_count": 137,
   "metadata": {},
   "outputs": [
    {
     "data": {
      "text/plain": [
       "'bob likes alice'"
      ]
     },
     "execution_count": 137,
     "metadata": {},
     "output_type": "execute_result"
    }
   ],
   "source": [
    "reverse_words_primitive('alice likes bob')"
   ]
  },
  {
   "cell_type": "code",
   "execution_count": 140,
   "metadata": {},
   "outputs": [
    {
     "ename": "AttributeError",
     "evalue": "'str' object has no attribute 'reverse'",
     "output_type": "error",
     "traceback": [
      "\u001b[0;31m---------------------------------------------------------------------------\u001b[0m",
      "\u001b[0;31mAttributeError\u001b[0m                            Traceback (most recent call last)",
      "\u001b[0;32m<ipython-input-140-48c6829bf04f>\u001b[0m in \u001b[0;36m<module>\u001b[0;34m()\u001b[0m\n\u001b[0;32m----> 1\u001b[0;31m \u001b[0ma\u001b[0m\u001b[0;34m[\u001b[0m\u001b[0;36m2\u001b[0m\u001b[0;34m:\u001b[0m\u001b[0;36m3\u001b[0m\u001b[0;34m]\u001b[0m\u001b[0;34m.\u001b[0m\u001b[0mreverse\u001b[0m\u001b[0;34m(\u001b[0m\u001b[0;34m)\u001b[0m\u001b[0;34m\u001b[0m\u001b[0m\n\u001b[0m",
      "\u001b[0;31mAttributeError\u001b[0m: 'str' object has no attribute 'reverse'"
     ]
    }
   ],
   "source": [
    "a[2:3].reverse()"
   ]
  },
  {
   "cell_type": "code",
   "execution_count": null,
   "metadata": {},
   "outputs": [],
   "source": [
    "a = 'string'\n",
    "def reverse()\n",
    "    beg = 0\n",
    "    end = len(a) - 1\n",
    "    for "
   ]
  },
  {
   "cell_type": "code",
   "execution_count": null,
   "metadata": {},
   "outputs": [],
   "source": [
    "#their solution is to reverse the whole string O(N) and then reverse each word O(N) separated by whitespace meaning gotta find whitespace loc O(N)\n",
    "\n",
    "def reverse_words_my_attemp_at_theirs(s):\n",
    "    s.reverse() #O(N)\n",
    "    for \n",
    "    s.find(' ')"
   ]
  },
  {
   "cell_type": "code",
   "execution_count": 142,
   "metadata": {},
   "outputs": [
    {
     "ename": "TypeError",
     "evalue": "'str' object does not support item assignment",
     "output_type": "error",
     "traceback": [
      "\u001b[0;31m---------------------------------------------------------------------------\u001b[0m",
      "\u001b[0;31mTypeError\u001b[0m                                 Traceback (most recent call last)",
      "\u001b[0;32m<ipython-input-142-c5d92037fdb9>\u001b[0m in \u001b[0;36m<module>\u001b[0;34m()\u001b[0m\n\u001b[0;32m----> 1\u001b[0;31m \u001b[0ma\u001b[0m\u001b[0;34m[\u001b[0m\u001b[0;36m0\u001b[0m\u001b[0;34m]\u001b[0m \u001b[0;34m=\u001b[0m \u001b[0ma\u001b[0m\u001b[0;34m[\u001b[0m\u001b[0mlen\u001b[0m\u001b[0;34m(\u001b[0m\u001b[0ma\u001b[0m\u001b[0;34m)\u001b[0m \u001b[0;34m-\u001b[0m\u001b[0;36m1\u001b[0m\u001b[0;34m]\u001b[0m\u001b[0;34m\u001b[0m\u001b[0m\n\u001b[0m",
      "\u001b[0;31mTypeError\u001b[0m: 'str' object does not support item assignment"
     ]
    }
   ],
   "source": [
    "a[0] = a[len(a) -1]"
   ]
  },
  {
   "cell_type": "code",
   "execution_count": 143,
   "metadata": {},
   "outputs": [],
   "source": [
    "# books efficient answer\n",
    "def reverse_words(s):\n",
    "    #reverse the whole string first\n",
    "    s.reverse()\n",
    "    \n",
    "    def reverse_range(s, start, end):\n",
    "        while start < end:\n",
    "            s[start], s[end] = s[end], s[start]\n",
    "            start, end = start + 1, end + 1\n",
    "    \n",
    "    start = 0\n",
    "    while True:\n",
    "        end = s.find(b' ', start)\n",
    "        if end < 0:\n",
    "            break\n",
    "        #reverses each word in the string\n",
    "        reverse_range(s, start, end - 1)\n",
    "        start = end + 1\n",
    "    # reverses the last word\n",
    "    reverse_range(s, start, len(s) - 1)"
   ]
  },
  {
   "cell_type": "code",
   "execution_count": 145,
   "metadata": {},
   "outputs": [],
   "source": [
    "a = ['s', 't', 'r', 'i', 'n', 'g']"
   ]
  },
  {
   "cell_type": "code",
   "execution_count": 146,
   "metadata": {},
   "outputs": [
    {
     "ename": "AttributeError",
     "evalue": "'list' object has no attribute 'find'",
     "output_type": "error",
     "traceback": [
      "\u001b[0;31m---------------------------------------------------------------------------\u001b[0m",
      "\u001b[0;31mAttributeError\u001b[0m                            Traceback (most recent call last)",
      "\u001b[0;32m<ipython-input-146-e68ef033ed67>\u001b[0m in \u001b[0;36m<module>\u001b[0;34m()\u001b[0m\n\u001b[0;32m----> 1\u001b[0;31m \u001b[0mreverse_words\u001b[0m\u001b[0;34m(\u001b[0m\u001b[0ma\u001b[0m\u001b[0;34m)\u001b[0m\u001b[0;34m\u001b[0m\u001b[0m\n\u001b[0m",
      "\u001b[0;32m<ipython-input-143-35c9b71ac1c4>\u001b[0m in \u001b[0;36mreverse_words\u001b[0;34m(s)\u001b[0m\n\u001b[1;32m     11\u001b[0m     \u001b[0mstart\u001b[0m \u001b[0;34m=\u001b[0m \u001b[0;36m0\u001b[0m\u001b[0;34m\u001b[0m\u001b[0m\n\u001b[1;32m     12\u001b[0m     \u001b[0;32mwhile\u001b[0m \u001b[0;32mTrue\u001b[0m\u001b[0;34m:\u001b[0m\u001b[0;34m\u001b[0m\u001b[0m\n\u001b[0;32m---> 13\u001b[0;31m         \u001b[0mend\u001b[0m \u001b[0;34m=\u001b[0m \u001b[0ms\u001b[0m\u001b[0;34m.\u001b[0m\u001b[0mfind\u001b[0m\u001b[0;34m(\u001b[0m\u001b[0;34mb' '\u001b[0m\u001b[0;34m,\u001b[0m \u001b[0mstart\u001b[0m\u001b[0;34m)\u001b[0m\u001b[0;34m\u001b[0m\u001b[0m\n\u001b[0m\u001b[1;32m     14\u001b[0m         \u001b[0;32mif\u001b[0m \u001b[0mend\u001b[0m \u001b[0;34m<\u001b[0m \u001b[0;36m0\u001b[0m\u001b[0;34m:\u001b[0m\u001b[0;34m\u001b[0m\u001b[0m\n\u001b[1;32m     15\u001b[0m             \u001b[0;32mbreak\u001b[0m\u001b[0;34m\u001b[0m\u001b[0m\n",
      "\u001b[0;31mAttributeError\u001b[0m: 'list' object has no attribute 'find'"
     ]
    }
   ],
   "source": [
    "reverse_words(a)"
   ]
  },
  {
   "cell_type": "markdown",
   "metadata": {},
   "source": [
    "MY PROBLEMS WITH THIS PROBLEM:\n",
    "(1) usage of builtin types/functions that do a lot of work frequently in solutions - we dont know the complexity of these\n",
    "(2) it says assume th string is encoded as a bytearray - well try using an arraay of strings 9which are chars) or using just a string - and their soln doesnt work\n",
    "(3) strings are immutable so.... wtf?\n"
   ]
  },
  {
   "cell_type": "markdown",
   "metadata": {},
   "source": [
    "## Chapter 7: Linked lists - 7.4, 7.7"
   ]
  },
  {
   "cell_type": "markdown",
   "metadata": {},
   "source": [
    "terminology review:\n",
    "\n",
    "- singly linked list\n",
    "- has nodes, each node has object and reference to the next node\n",
    "- first node is head node, last node is tail node - last reference is null\n",
    "- doubly linked lists also has references to previous node as well\n",
    "- circular linkeed lists reference from tail to head (and vice versa) instead of to null\n",
    "- linear list like an array"
   ]
  },
  {
   "cell_type": "markdown",
   "metadata": {},
   "source": [
    "- O(1) insertion and deletion\n",
    "- but O(n) access and search"
   ]
  },
  {
   "cell_type": "code",
   "execution_count": null,
   "metadata": {},
   "outputs": [],
   "source": [
    "class ListNode:\n",
    "    '''assume singly linked list with tail pointing to null'''\n",
    "    def __init__(self, data=0, next_node=None):\n",
    "        ''' initializes a ListNode '''\n",
    "        self.data = data\n",
    "        self.next = next_node\n",
    "    def search(self, head, data):\n",
    "        '''returns the first ListNode that has data'''\n",
    "        node = head\n",
    "        while(node != None):\n",
    "            if node.data == data:\n",
    "                return node\n",
    "            node = node.next\n",
    "        return node\n",
    "    def insert_after(self, node, new_node):\n",
    "        new_node.next = node.next\n",
    "        node.next = new_node\n",
    "    def insert(self, newNode, head, previous=None):\n",
    "        '''inserts newNode right after the node \"previous\" if given. otherwise, at end'''\n",
    "        node = head\n",
    "        if previous:\n",
    "            while(node != None):\n",
    "                if node == previous:\n",
    "                    newNode.next = node.next\n",
    "                    node.next = newNode\n",
    "        else:\n",
    "            while(node != None):\n",
    "                if node.next = None:\n",
    "                    node.next = newNode\n",
    "                    break\n",
    "    def delete_after(self, node):\n",
    "        '''delete the node after this node.'''\n",
    "        node.next = node.next.next\n",
    "        "
   ]
  },
  {
   "cell_type": "code",
   "execution_count": null,
   "metadata": {},
   "outputs": [],
   "source": [
    "# boot camp - two types of LL problems (1) make your own list, (2) use STL for Ll\n",
    "'''implement list API containing search, insert, delete'''"
   ]
  },
  {
   "cell_type": "markdown",
   "metadata": {},
   "source": [
    "- reoccurring theme - brute force with a new O(N) space, but using the existing LL keeps space complexity at O(1)\n",
    "- usually simple but clean code is important\n",
    "- RV usee a dummy head aka sentinel to avoid to check empty lists \n",
    "- remember to update next for head and tail (and previous too for DLL)\n",
    "- helpful to use two iterators going the same direction but one ahead of the other in SLL since no previous reference on current node"
   ]
  },
  {
   "cell_type": "markdown",
   "metadata": {},
   "source": [
    "- no STL for LL in python - use user/book defined ones. some include:\n",
    "    - fcn_return_tail(), fcn_return_head(), fcn_add_element_at_node/head/tail()\n",
    "    - fcn_get_value_at_node/head/tail(), fcn_delete_node/head/tail"
   ]
  },
  {
   "cell_type": "markdown",
   "metadata": {},
   "source": [
    "## 7.4 - Test for overlapping lists - lists are cycle-free\n",
    "Given two singly-linked lists there may be list nodes that are common to both. (This may not be a bug, it maay be desirable from the perspective of reducing memory footprint, as in the flyweight pattern, or reducing canonical form.\n",
    "\n",
    "Write a program that takes two cycle-free singly-linked lists, and determines if there exists a node common to both lists\n",
    "\n",
    "HINT: not yet. "
   ]
  },
  {
   "cell_type": "code",
   "execution_count": 151,
   "metadata": {},
   "outputs": [],
   "source": [
    "class Node:\n",
    "    '''assume singly linked list with tail pointing to null'''\n",
    "    def __init__(self, data=0, next_node=None):\n",
    "        ''' initializes a ListNode '''\n",
    "        self.data = data\n",
    "        self.next = next_node"
   ]
  },
  {
   "cell_type": "code",
   "execution_count": 177,
   "metadata": {},
   "outputs": [],
   "source": [
    "# LL1 shares node with LL2, while Ll3 is independent of both\n",
    "\n",
    "head1 = Node()\n",
    "node10 = Node()\n",
    "node11 = Node()\n",
    "node12 = Node()\n",
    "head1.next = node10 \n",
    "node10.next = node11\n",
    "node11.next = node12\n",
    "\n",
    "head2 = Node()\n",
    "node20 = Node()\n",
    "head2.next = node20\n",
    "node20.next = node11\n",
    "\n",
    "head3 = Node()\n",
    "node30 = Node()\n",
    "node31 = Node()\n",
    "head3.next = node30\n",
    "node30.next = node31\n",
    "\n",
    "head1.data = 1\n",
    "node10.data = 10\n",
    "node11.data = 11\n",
    "node12.data = 12\n",
    "head2.data = 2\n",
    "node20.data = 20\n",
    "head3.data = 3\n",
    "node30.data = 30\n",
    "node31.data = 31\n",
    "\n",
    "node1copy = Node()\n",
    "node1copy.data = 1\n",
    "\n"
   ]
  },
  {
   "cell_type": "code",
   "execution_count": 185,
   "metadata": {},
   "outputs": [
    {
     "data": {
      "text/plain": [
       "False"
      ]
     },
     "execution_count": 185,
     "metadata": {},
     "output_type": "execute_result"
    }
   ],
   "source": [
    "node20.next.next == node10.next.next.next"
   ]
  },
  {
   "cell_type": "code",
   "execution_count": 180,
   "metadata": {},
   "outputs": [
    {
     "data": {
      "text/plain": [
       "False"
      ]
     },
     "execution_count": 180,
     "metadata": {},
     "output_type": "execute_result"
    }
   ],
   "source": [
    "node1copy is head1"
   ]
  },
  {
   "cell_type": "code",
   "execution_count": 172,
   "metadata": {},
   "outputs": [],
   "source": [
    "#brute force, O(N * M) solution\n",
    "def contains_common_node(head1, head2):\n",
    "    node1 = head1\n",
    "    node2 = head2\n",
    "    while(node1 != None):\n",
    "        while(node2 != None):\n",
    "            if node1 == node2:\n",
    "                return True\n",
    "            node2 = node2.next\n",
    "        node1 = node1.next\n",
    "        node2 = head2\n",
    "    return False"
   ]
  },
  {
   "cell_type": "code",
   "execution_count": 156,
   "metadata": {},
   "outputs": [
    {
     "data": {
      "text/plain": [
       "False"
      ]
     },
     "execution_count": 156,
     "metadata": {},
     "output_type": "execute_result"
    }
   ],
   "source": [
    "contains_common_node(head2, head3)"
   ]
  },
  {
   "cell_type": "code",
   "execution_count": 170,
   "metadata": {},
   "outputs": [
    {
     "data": {
      "text/plain": [
       "True"
      ]
     },
     "execution_count": 170,
     "metadata": {},
     "output_type": "execute_result"
    }
   ],
   "source": [
    "same_tail_node(head1, head2)"
   ]
  },
  {
   "cell_type": "code",
   "execution_count": 167,
   "metadata": {},
   "outputs": [],
   "source": [
    "dummy = Node()\n",
    "none = None\n",
    "if (none != None and none.next != None):\n",
    "    print('ok')"
   ]
  },
  {
   "cell_type": "code",
   "execution_count": null,
   "metadata": {},
   "outputs": [],
   "source": []
  },
  {
   "cell_type": "code",
   "execution_count": 173,
   "metadata": {},
   "outputs": [],
   "source": [
    "def get_tail(head):\n",
    "    node = head\n",
    "    while(node != None and node.next != None):\n",
    "        node = node.next\n",
    "    return node\n",
    "\n",
    "#my attempt at their efficient solution - they share a node if they have same tail node\n",
    "def same_tail_node(head1, head2):\n",
    "    return get_tail(head1) is get_tail(head2)\n"
   ]
  },
  {
   "cell_type": "code",
   "execution_count": 175,
   "metadata": {},
   "outputs": [
    {
     "data": {
      "text/plain": [
       "False"
      ]
     },
     "execution_count": 175,
     "metadata": {},
     "output_type": "execute_result"
    }
   ],
   "source": [
    "same_tail_node(head1, head3)"
   ]
  },
  {
   "cell_type": "markdown",
   "metadata": {},
   "source": [
    "RV\n",
    "- use != and == for the values two objects have\n",
    "- use is not and is for the memory locations?\n",
    "    - two nodes might have the same everything, but are at different locations.\n",
    "        - well what do I use for LLs?"
   ]
  },
  {
   "cell_type": "code",
   "execution_count": null,
   "metadata": {},
   "outputs": [],
   "source": [
    "# their solution - find first overlapping node in O(N) time and O(1) space\n",
    "def overlapping_no_cycle_lists(L1, L2):\n",
    "    def length(L):\n",
    "        length = 0\n",
    "        while L:\n",
    "            length += 1\n",
    "            L = L.next\n",
    "        return length\n",
    "    \n",
    "    L1_len, L2_len = length(L1), length(L2)\n",
    "    if L1_len > L2_len:\n",
    "        L1, L2 = L2, L1 #forces L2 to be longer list\n",
    "    #advances the longer list to get equal length lists\n",
    "    for i in range(abs(L1_len - L2_len)):\n",
    "        L2 = L2.next\n",
    "    \n",
    "    while L1 and L2 and L1 is not L2:\n",
    "        L1, L2 = L1.next, L2.next\n",
    "    return L1 "
   ]
  },
  {
   "cell_type": "markdown",
   "metadata": {},
   "source": [
    "My understanding of their soln is to cut down the longer LL so its the same length as the shorter LL. There's no way that initial segment of the longer LL could have possibly contained the other LL, so thats why they traversed it first. \n",
    "\n",
    "Then, by traversing both LLs (shorter one, and the longer one cut to the same length as the short) at the same time, we can compare each node sequentially and eventually get the FIRST node they share."
   ]
  },
  {
   "cell_type": "markdown",
   "metadata": {},
   "source": [
    "TAKEAWAY PROBLEM LL 1:\n",
    "- two LLs intersect IFF they have same tail; they cannot intersect earlier than the shorter LL's length.\n",
    "- ?figure out to use is/is not vs ==/!= for memory lcoations of nodes\n",
    "- reoccurring: O(N) time, O(1) space!! use multiple iterators"
   ]
  },
  {
   "cell_type": "markdown",
   "metadata": {},
   "source": [
    "### 7.7- Remove the k-th element from a SLL\n",
    "Without knowing the length of a linked list, it is not trivial to delete the kth last element in a singly linked list.\n",
    "\n",
    "Given a singly linked list and some integer k, write a program to remove the kth last element from the list. \n",
    "\n",
    "do not use more than a few words of storage regardless of list length. you CANNOT record the length of the list\n",
    "\n",
    "HINT: "
   ]
  },
  {
   "cell_type": "markdown",
   "metadata": {},
   "source": [
    "the 2nd to last element (k=2) is the element right before the last element.\n",
    "So, k=1 is the last element (tail), and k=0 is NULL since the tail pts to NULL\n",
    "\n",
    "if i have a node that is k-nodes deep from the head, eventually once i shift both the head and the k-nodes deep node (n-k) times, the k-nodes deep node points to the tail and the head points to kth to last node. "
   ]
  },
  {
   "cell_type": "code",
   "execution_count": 239,
   "metadata": {},
   "outputs": [
    {
     "name": "stdout",
     "output_type": "stream",
     "text": [
      "0\n"
     ]
    }
   ],
   "source": [
    "for i in range(1):\n",
    "    print(i)"
   ]
  },
  {
   "cell_type": "code",
   "execution_count": 238,
   "metadata": {},
   "outputs": [],
   "source": [
    "def delete_kth_last_element_from_SLL(head, k):\n",
    "    node = head\n",
    "    prev_node = Node()\n",
    "    buffer_node = Node()\n",
    "    buffer_node.next = node\n",
    "    prev_node.next = buffer_node\n",
    "    \n",
    "    kdeepnode = node\n",
    "    for i in range(k - 1):\n",
    "        if kdeepnode == None:\n",
    "            print('k > N')\n",
    "            return\n",
    "        kdeepnode = kdeepnode.next\n",
    "        \n",
    "    while(kdeepnode.next != None):\n",
    "        kdeepnode = kdeepnode.next\n",
    "        node = node.next\n",
    "        prev_node.next = prev_node.next.next\n",
    "        \n",
    "    if prev_node.next != buffer_node:  \n",
    "        prev_node.next.next = node.next\n",
    "    node.next = None\n",
    "        "
   ]
  },
  {
   "cell_type": "code",
   "execution_count": 247,
   "metadata": {},
   "outputs": [],
   "source": [
    "head1 = Node()\n",
    "node10 = Node()\n",
    "node11 = Node()\n",
    "node12 = Node()\n",
    "head1.next = node10 \n",
    "node10.next = node11\n",
    "node11.next = node12\n",
    "head1.data = 1\n",
    "node10.data = 10\n",
    "node11.data = 11\n",
    "node12.data = 12"
   ]
  },
  {
   "cell_type": "code",
   "execution_count": 228,
   "metadata": {},
   "outputs": [],
   "source": [
    "def printLLNodes(head):\n",
    "    while(head != None):\n",
    "        print(head.data)\n",
    "        head = head.next"
   ]
  },
  {
   "cell_type": "code",
   "execution_count": 229,
   "metadata": {},
   "outputs": [
    {
     "name": "stdout",
     "output_type": "stream",
     "text": [
      "1\n",
      "10\n",
      "11\n",
      "12\n"
     ]
    }
   ],
   "source": [
    "printLLNodes(head1)"
   ]
  },
  {
   "cell_type": "code",
   "execution_count": 230,
   "metadata": {},
   "outputs": [],
   "source": [
    "delete_kth_last_element_from_SLL(head1, 0)"
   ]
  },
  {
   "cell_type": "code",
   "execution_count": 231,
   "metadata": {},
   "outputs": [
    {
     "name": "stdout",
     "output_type": "stream",
     "text": [
      "1\n",
      "10\n",
      "11\n"
     ]
    }
   ],
   "source": [
    "printLLNodes(head1)"
   ]
  },
  {
   "cell_type": "code",
   "execution_count": 240,
   "metadata": {},
   "outputs": [],
   "source": [
    "#their solution (almost the same as mine!)\n",
    "def remove_kth_last(L, k):\n",
    "    dummy_head = Node(0, L)\n",
    "    first = dummy_head.next\n",
    "    for i in range(k):\n",
    "        first = first.next\n",
    "        \n",
    "    second = dummy_head\n",
    "    while first:\n",
    "        first, second = first.next, second.next\n",
    "    #second points to the k+1th last node, deletes successor\n",
    "    second.next = second.next.next\n",
    "    \n",
    "    return dummy_head.next"
   ]
  },
  {
   "cell_type": "code",
   "execution_count": 248,
   "metadata": {},
   "outputs": [
    {
     "name": "stdout",
     "output_type": "stream",
     "text": [
      "1\n",
      "10\n",
      "11\n",
      "12\n"
     ]
    }
   ],
   "source": [
    "remove_kth_last(head1, 4)\n",
    "printLLNodes(head1)"
   ]
  },
  {
   "cell_type": "markdown",
   "metadata": {},
   "source": [
    "TAKEAWAY PROBLEM LL 2: \n",
    "- we had another ptr traverse k deep first, and then traverse head and that ptr until that ptr was at tail. now head points to the element we want to kill\n",
    "- write clean code for LL and draw diagrams\n",
    "- use dummy heads (i used a buffer node!) when you need to have a 'previous' ptr before ur head\n",
    "- watch out for edge cases - does kth last mean last, 2nd last, n-k? etc etc blah blah.\n",
    "- reoccurring: O(N) time, O(1) space!! use multiple iterators"
   ]
  },
  {
   "cell_type": "markdown",
   "metadata": {},
   "source": [
    "## Chapter 8: stacks and queues - 8.2, 8.8"
   ]
  },
  {
   "cell_type": "markdown",
   "metadata": {},
   "source": [
    "### STACKS: Last In First Out LIFO"
   ]
  },
  {
   "cell_type": "markdown",
   "metadata": {},
   "source": [
    "- PUSH AND POP - both O(1) complexity. arr implementation limited entries vs LL unlimited\n",
    "- PEEK (look at the top of the stack)\n",
    "- the LIST is what we use as a stack, has the same Ops."
   ]
  },
  {
   "cell_type": "code",
   "execution_count": null,
   "metadata": {},
   "outputs": [],
   "source": [
    "'''use a list as a stack'''\n",
    "stack = list()\n",
    "\n",
    "'''PUSH to the stack'''\n",
    "stack.append(1)\n",
    "\n",
    "'''PEEK the stack'''\n",
    "stack[-1]\n",
    "\n",
    "'''POP the stack - removes AND returns popped value.'''\n",
    "stack.pop() \n",
    "\n",
    "'''LENGTH of stack'''\n",
    "len(stack)\n",
    "\n",
    "#popping and peeking an empty stack gives you problems. "
   ]
  },
  {
   "cell_type": "code",
   "execution_count": 265,
   "metadata": {},
   "outputs": [],
   "source": [
    "class Stack:\n",
    "    def __init__(self):\n",
    "        self.stack = list()\n",
    "    def push(self, X):\n",
    "        self.stack.append(X)\n",
    "    def peek(self):\n",
    "        return self.stack[-1]\n",
    "    def pop(self):\n",
    "        self.stack.pop()\n",
    "    def size(self):\n",
    "        return len(self.stack)\n",
    "    def empty(self):\n",
    "        return bool(self.size())\n",
    "    "
   ]
  },
  {
   "cell_type": "code",
   "execution_count": 278,
   "metadata": {},
   "outputs": [
    {
     "data": {
      "text/plain": [
       "4"
      ]
     },
     "execution_count": 278,
     "metadata": {},
     "output_type": "execute_result"
    }
   ],
   "source": [
    "[1, 2, 3, 4].pop()"
   ]
  },
  {
   "cell_type": "code",
   "execution_count": 274,
   "metadata": {},
   "outputs": [],
   "source": [
    "# stack boot camp\n",
    "def stack_print_SLL_reverse(head):\n",
    "    stack = []\n",
    "    while(head != None):\n",
    "        stack.append(head.data)\n",
    "        head = head.next\n",
    "    \n",
    "    while(len(stack) != 0):\n",
    "        print(stack[-1])\n",
    "        stack.pop()\n",
    "#same as book soln."
   ]
  },
  {
   "cell_type": "markdown",
   "metadata": {},
   "source": [
    "O(2N) time complexity O(N) space complexity"
   ]
  },
  {
   "cell_type": "code",
   "execution_count": 275,
   "metadata": {},
   "outputs": [
    {
     "name": "stdout",
     "output_type": "stream",
     "text": [
      "12\n",
      "11\n",
      "10\n",
      "1\n"
     ]
    }
   ],
   "source": [
    "stack_print_SLL_reverse(head1)"
   ]
  },
  {
   "cell_type": "code",
   "execution_count": 270,
   "metadata": {},
   "outputs": [
    {
     "name": "stdout",
     "output_type": "stream",
     "text": [
      "1\n",
      "10\n",
      "11\n",
      "12\n"
     ]
    }
   ],
   "source": [
    "printLLNodes(head1)"
   ]
  },
  {
   "cell_type": "markdown",
   "metadata": {},
   "source": [
    "### 8.2 - evaluate RPN expression\n",
    "a string is said to be an arithmetical expression in Reverse Polish Notation (RPN) IF:\n",
    "(1) it is a single digit or a sequence of digits, prefixed with an option -, e.g., \"6\", \"123\", \"-42\"\n",
    "(2) it is of the form \"A, B, (operator)\", where A and B are RPN expressions and (operator) is one of +, -, *, /\n",
    "\n",
    "ex: the following strings satisfy these rules - \"1729\", \"3,4,+,2,x,1,+\", \"1,1,+,-2,x\", \"-641,6,/,28,/\"\n",
    "\n",
    "an RPN expression can be evaluated uniquely to an integer, which is determined recursively. the base case corresponds to (1) which is an integer expressed in base-10 positional system. (2) corresponds to the recursive case, and the RPNs are evaluated in the natural way. eg, A ->2, B->3 => \"A,B,*\" -> 6\n",
    "\n",
    "write a program that takes an arithmetical expression in RPN and returns the number that the expression evaluates to.\n",
    "\n",
    "HINT - not shown... yet."
   ]
  },
  {
   "cell_type": "code",
   "execution_count": null,
   "metadata": {},
   "outputs": [],
   "source": []
  },
  {
   "cell_type": "code",
   "execution_count": 300,
   "metadata": {},
   "outputs": [
    {
     "data": {
      "text/plain": [
       "0"
      ]
     },
     "execution_count": 300,
     "metadata": {},
     "output_type": "execute_result"
    }
   ],
   "source": [
    "total = int()\n",
    "total"
   ]
  },
  {
   "cell_type": "code",
   "execution_count": 302,
   "metadata": {},
   "outputs": [
    {
     "data": {
      "text/plain": [
       "nan"
      ]
     },
     "execution_count": 302,
     "metadata": {},
     "output_type": "execute_result"
    }
   ],
   "source": [
    "float('NaN')"
   ]
  },
  {
   "cell_type": "markdown",
   "metadata": {},
   "source": [
    "RV - TAKEAWAY PROBLEM - please increment your while loops."
   ]
  },
  {
   "cell_type": "code",
   "execution_count": 19,
   "metadata": {},
   "outputs": [],
   "source": [
    "#you've been doing this wrong the whole time.\n",
    "#your first attempt tried to put everything onto the stack in the string starting from the RIGHT to the LEFT.\n",
    "    #aka, at the beginning, the stack would have the LEFTMOST element in the string be at the BOTTOM and the RIGHTMOST at the TOP\n",
    "#your second attempt tried to reverse that. The RIGHTMOST element would be at the BOTTOM, and the LEFTMOST at the TOP\n",
    "\n",
    "#both attempts are garbage, but we'll keep them here to shame you. the bottom is the second attempt at 'initializing'\n",
    "def insert_exp_to_stack(exp):\n",
    "    ops = ['+', '-', '*', '/']\n",
    "    stack = []\n",
    "    counter = None\n",
    "    index = len(exp) - 1\n",
    "    multiplier = 1\n",
    "    while (index >= 0):\n",
    "        char = exp[index]\n",
    "        if char.isalnum():\n",
    "            if counter == None:\n",
    "                counter = 0\n",
    "            counter += float(char) * multiplier\n",
    "            multiplier *= 10\n",
    "        elif char in ops:\n",
    "            if counter != None:\n",
    "                stack.append(counter)\n",
    "                multiplier = 1\n",
    "            stack.append(char)\n",
    "            counter = None\n",
    "        else:\n",
    "            if counter != None:\n",
    "                stack.append(counter)\n",
    "                multiplier = 1\n",
    "            counter = None\n",
    "        index -= 1\n",
    "    if counter != None:\n",
    "        stack.append(counter)\n",
    "    \n",
    "    return stack\n",
    "\n",
    "#you are simply supposed to evaluate the string from LEFT to RIGHT, putting it onto the stack as you go and evaluating it as you go.\n",
    "'''when you have two items in the stack and hit an operator, the deeper item is the first param while the top one is the second'''\n",
    "'''EXAMPLE: if the stack is BOTTOM 1 2 3 TOP, and i hit an operator - for the next char, then the expression evaluated is 2-3'''\n",
    "def compute_rpn(exp):\n",
    "    stack = []\n",
    "    var = ''\n",
    "    index = 0\n",
    "    while(index < len(exp)): # O(N) \n",
    "        char = exp[index] #O(1)\n",
    "        if char.isdigit():\n",
    "            var += char\n",
    "        elif char in ['+', '-', '/', '*']:\n",
    "            item2 = stack.pop()\n",
    "            item1 = stack.pop() #O(1)\n",
    "            if char == '+':\n",
    "                stack.append(item1 + item2) #O(1)\n",
    "            elif char == '-':\n",
    "                stack.append(item1 - item2)\n",
    "            elif char == '*':\n",
    "                stack.append(item1 * item2)\n",
    "            elif char == '/':\n",
    "                stack.append(item1 / item2)\n",
    "            index += 1\n",
    "        elif char == ',':\n",
    "            stack.append(float(var)) #O(1)\n",
    "            var = ''\n",
    "        index += 1\n",
    "    return stack.pop() #O(1)\n"
   ]
  },
  {
   "cell_type": "code",
   "execution_count": null,
   "metadata": {},
   "outputs": [],
   "source": []
  },
  {
   "cell_type": "code",
   "execution_count": 20,
   "metadata": {},
   "outputs": [
    {
     "data": {
      "text/plain": [
       "4"
      ]
     },
     "execution_count": 20,
     "metadata": {},
     "output_type": "execute_result"
    }
   ],
   "source": [
    "[1, 2, 3, 4].pop()"
   ]
  },
  {
   "cell_type": "markdown",
   "metadata": {},
   "source": [
    "RV - its safer to use < or > instead of != when iterating through a loop in case you increment additonally outside of the regular loop increment (such as when you increment inside the loop based off a condition to maybe skip the next element, like we do in this case). Runs in O(N) speed and O(1) space."
   ]
  },
  {
   "cell_type": "code",
   "execution_count": 18,
   "metadata": {},
   "outputs": [
    {
     "data": {
      "text/plain": [
       "35.0"
      ]
     },
     "execution_count": 18,
     "metadata": {},
     "output_type": "execute_result"
    }
   ],
   "source": [
    "compute_rpn(\"13,4,+,2,*,1,+\")"
   ]
  },
  {
   "cell_type": "code",
   "execution_count": 4,
   "metadata": {},
   "outputs": [
    {
     "data": {
      "text/plain": [
       "13.0"
      ]
     },
     "execution_count": 4,
     "metadata": {},
     "output_type": "execute_result"
    }
   ],
   "source": [
    "insert_exp_to_stack(\"13,4,+,2,*,1,+\")[-1]"
   ]
  },
  {
   "cell_type": "code",
   "execution_count": null,
   "metadata": {},
   "outputs": [],
   "source": [
    "# Their soln\n",
    "def evaluate(RPN_expression):\n",
    "    intermediate_results = []\n",
    "    DELIMITER = ','\n",
    "    OPERATORS = {\n",
    "        '+': lambda y, x: x + y,\n",
    "        '-': lambda y, x: x - y,\n",
    "        '/': lambda y, x: x / y,\n",
    "        'x': lambda y, x: x * y\n",
    "    }\n",
    "    \n",
    "    for token in RPN_expression.split(delimiter):\n",
    "        if token in OPERATORS:\n",
    "            intermediate_results.append(\n",
    "                operators[token](\n",
    "                    intermediate_results.pop(),\n",
    "                    intermediate_results.pop()))\n",
    "        else:\n",
    "            intermediate_results.append(int(token))\n",
    "    \n",
    "    return intermediate_results[-1]"
   ]
  },
  {
   "cell_type": "markdown",
   "metadata": {},
   "source": [
    "TAKEAWAY PROBLEM STACKS:\n",
    "- what is complexity of CASTING and isdigit()\n",
    "- fuck postfix: remember deeper item is first operand. push nums on stack until op, then pop top 2 and perform op on the 2, and then push onto stack. repeat. \n",
    "- "
   ]
  },
  {
   "cell_type": "markdown",
   "metadata": {},
   "source": [
    "### QUEUES - FIFO\n",
    "- queue(), dequeue() operations. nice to have length, head item, tail item (no remove)\n",
    "- most recently inserted element is the TAIL (since the end of the line) and latest inserted is the HEAD (since front of line)\n",
    "- queue use linked list so enqueue and dequeue are O(1). arrays are NO NO"
   ]
  },
  {
   "cell_type": "markdown",
   "metadata": {},
   "source": [
    "- DEQUE - DOUBLE ENDED QUEUE\n",
    "    - doubly linked list - all insertions/deletions are from one of the two ends of list (HEAD OR TAIL)\n",
    "    - front insertion is push, back insertion is inject\n",
    "    - front deletion is pop, back deletion is eject\n",
    "    "
   ]
  },
  {
   "cell_type": "code",
   "execution_count": null,
   "metadata": {},
   "outputs": [],
   "source": [
    "# queue bootcamp - write a queue API\n",
    "class Node:\n",
    "    def __init__(self, data=0, next_node=None):\n",
    "        ''' initializes a ListNode '''\n",
    "        self.data = data\n",
    "        self.next = next_node\n",
    "'''stopped cuz book is dumb - uses an array even though they say use LL. dequeue O(N)'''\n",
    "class Queue:\n",
    "    def __init__(self):\n",
    "        self.dummy_head = Node()\n",
    "        self.dummy_head.data = None\n",
    "        self.dummy_head.next = None\n",
    "        self.tail_ptr = Node()\n",
    "        self.tail_ptr.data = None\n",
    "        self.tail_ptr.next = None\n",
    "    def enqueue(self, data):\n",
    "        eNode = Node()\n",
    "        eNode.data = data\n",
    "        eNode.next = None\n",
    "        self.tail_ptr.next.next = eNode\n",
    "        self.tail_ptr.next = eNode\n",
    "        if self.dummy_head.next == None:\n",
    "            self.dummy_head.next = eNode        \n",
    "    def dequeue(self):\n",
    "        if(self.dummy_head.next == None and self.tail_ptr.next == None):\n",
    "            return None\n",
    "        dNode = self.dummy_head.next\n",
    "        self.dummy_head.next = self.dummy_head.next.next\n",
    "        dNode.next = None\n",
    "        if self.dummy_head.next == None:\n",
    "            self.tail_ptr.next = None\n",
    "        return dNode\n",
    "    def back_data(self):\n",
    "        return self.tail_ptr.next.data\n",
    "    def front_data(self):\n",
    "        return self.dummy_head.next.data\n",
    "    def back_node(self):\n",
    "        return self.tail_ptr.next\n",
    "    def front_node(self):\n",
    "        return self.dummy_head.next\n",
    "    def length(self):\n",
    "        size = 0;\n",
    "        iterator = dummy_head.next\n",
    "        while (iterator != None):\n",
    "            iterator = iterator.next\n",
    "            i += 1\n",
    "        return size"
   ]
  },
  {
   "cell_type": "code",
   "execution_count": 19,
   "metadata": {},
   "outputs": [],
   "source": [
    "class Queue:\n",
    "    def __init__(self):\n",
    "        self._data = []\n",
    "    def enqueue(self , x):\n",
    "        self._data.append(x)\n",
    "    def dequeue(self):\n",
    "        return self._data.pop (0)\n",
    "    def max(self):\n",
    "        return max(self._data)\n"
   ]
  },
  {
   "cell_type": "markdown",
   "metadata": {},
   "source": [
    "- Queue tips: Learn to recognize when FIFO is applicable. Example: good when order needs preservation.\n",
    "- queue libraries: (1) make your own class (just like LL and stacks), or use (2) collections.deque\n",
    "    - q.append(e) is enqueue - puts e at the end of the queue\n",
    "    - q.popleft() is dequeue - returns value for element at front and removes it from queue\n",
    "    - q[0] peeks at the head/front of the queue\n",
    "    - q[-1] peeks at the tail/end of the queue\n"
   ]
  },
  {
   "cell_type": "markdown",
   "metadata": {},
   "source": [
    "### 8.8 - implement a circular queue\n",
    "a queue can be implemented using an array and two additional fields, the beginning and end indicies - circular queue\n",
    "- en/dequeue are O(1) \n",
    "- array fixed -> max entries stored; array dynamic -> en/dequeue becomes O(M)\n",
    "- implement a queue API using an array for storing elements. your api should include a constructor with args - 1. initial queue capacity, 2. enqueue/dequeue, 3. returns size of list\n",
    "- implement dynamic resizing to support large number of elements \n",
    "\n",
    "HINT - acciedntly read it - track head and tail- how differneitate full from empty queue"
   ]
  },
  {
   "cell_type": "code",
   "execution_count": 72,
   "metadata": {},
   "outputs": [],
   "source": [
    "#not dynamic aka static and dependent on not being able to append None to the array as a value\n",
    "class CQueue_static:\n",
    "    def __init__(self, N):\n",
    "        self.queue = [None] * N\n",
    "        self.head = 0 \n",
    "        self.tail = 0\n",
    "    def enqueue(self, data):\n",
    "        if data == None:\n",
    "            print('Cqueue cant handle null')\n",
    "            return \n",
    "        #its either full or empty\n",
    "        if self.tail == self.head and self.queue[self.tail] != None:\n",
    "            print('cqueue full. ')\n",
    "            return \n",
    "        self.queue[self.tail] = data\n",
    "        self.tail = (self.tail + 1) % len(self.queue)\n",
    "    def dequeue(self):\n",
    "        if self.queue[self.head] == None:\n",
    "            print('queue empty. Cannot dequeue')\n",
    "            return\n",
    "        else:\n",
    "            ret = self.queue[self.head]\n",
    "            self.queue[self.head] = None\n",
    "            self.head = (self.head + 1) % len(self.queue)\n",
    "            return ret\n",
    "    def size(self):\n",
    "        if self.tail == self.head:\n",
    "            if self.queue[self.tail] == None:\n",
    "                return 0\n",
    "            else:\n",
    "                return len(self.queue)\n",
    "        elif self.tail > self.head:\n",
    "            return self.tail - self.head\n",
    "        elif self.tail < self.head:\n",
    "            return (len(self.queue) - self.head) + self.tail\n",
    "        else:\n",
    "            return 'lolwtfbbq'"
   ]
  },
  {
   "cell_type": "code",
   "execution_count": 220,
   "metadata": {},
   "outputs": [],
   "source": [
    "#dynamic and great!\n",
    "class CQueue:\n",
    "    def __init__(self, N):\n",
    "        self.queue = [None] * N\n",
    "        self.head = 0 \n",
    "        self.tail = 0\n",
    "        self.size = 0\n",
    "    '''O(1) besides resize'''\n",
    "    def enqueue(self, data):\n",
    "        if self.tail == self.head and self.size > 0:\n",
    "            print('cqueue full. doubling array size')\n",
    "            self.resize()\n",
    "        self.queue[self.tail] = data\n",
    "        self.tail = (self.tail + 1) % len(self.queue)\n",
    "        self.size += 1\n",
    "    '''O(1)'''\n",
    "    def dequeue(self):\n",
    "        assert self.size == 0\n",
    "        else:\n",
    "            ret = self.queue[self.head]\n",
    "            #self.queue[self.head] = None\n",
    "            self.head = (self.head + 1) % len(self.queue)\n",
    "            self.size -= 1\n",
    "            return ret\n",
    "    '''O(1)'''\n",
    "    def size(self):\n",
    "        return self.size\n",
    "    '''O(N)'''\n",
    "    def resize(self, N=None):\n",
    "        if N == None:\n",
    "            N = len(self.queue)\n",
    "        if self.head == 0:\n",
    "            self.queue = self.queue + (N * [None])\n",
    "        else:\n",
    "            self.queue = self.queue[self.head:] + self.queue[:self.head] + (N * [None])\n",
    "            self.head = 0\n",
    "        self.tail = self.size\n"
   ]
  },
  {
   "cell_type": "code",
   "execution_count": 221,
   "metadata": {},
   "outputs": [],
   "source": [
    "cqueue = CQueue(5)"
   ]
  },
  {
   "cell_type": "code",
   "execution_count": 222,
   "metadata": {},
   "outputs": [
    {
     "data": {
      "text/plain": [
       "[None, None, None, None, None]"
      ]
     },
     "execution_count": 222,
     "metadata": {},
     "output_type": "execute_result"
    }
   ],
   "source": [
    "cqueue.queue"
   ]
  },
  {
   "cell_type": "code",
   "execution_count": 223,
   "metadata": {},
   "outputs": [
    {
     "data": {
      "text/plain": [
       "0"
      ]
     },
     "execution_count": 223,
     "metadata": {},
     "output_type": "execute_result"
    }
   ],
   "source": [
    "cqueue.tail"
   ]
  },
  {
   "cell_type": "code",
   "execution_count": 224,
   "metadata": {},
   "outputs": [
    {
     "name": "stdout",
     "output_type": "stream",
     "text": [
      "queue empty. Cannot dequeue\n"
     ]
    },
    {
     "data": {
      "text/plain": [
       "[None, None, None, None, None]"
      ]
     },
     "execution_count": 224,
     "metadata": {},
     "output_type": "execute_result"
    }
   ],
   "source": [
    "cqueue.dequeue()\n",
    "cqueue.queue"
   ]
  },
  {
   "cell_type": "code",
   "execution_count": 225,
   "metadata": {},
   "outputs": [
    {
     "data": {
      "text/plain": [
       "[10, None, None, None, None]"
      ]
     },
     "execution_count": 225,
     "metadata": {},
     "output_type": "execute_result"
    }
   ],
   "source": [
    "cqueue.enqueue(10)\n",
    "cqueue.queue"
   ]
  },
  {
   "cell_type": "code",
   "execution_count": null,
   "metadata": {},
   "outputs": [],
   "source": [
    "#COPYRIGHT SGK7\n",
    "class sgk7cQueue:\n",
    "\tdef __init__(self, N):\n",
    "\t\tself.capacity = N\n",
    "\t\tself.queue = self.empty_queue(N)\n",
    "\t\tself.size = 0\n",
    "\t\tself.front = 0\n",
    "\t\tself.back = 0\n",
    "\n",
    "\tdef empty_queue(self, N):\n",
    "\t\tassert N >= 0\n",
    "\t\treturn [None] * N\n",
    "\n",
    "\tdef dequeue(self):\n",
    "\t\tassert not self.is_empty()\n",
    "\t\tres = self.queue[self.front]\n",
    "\t\tself.front = (self.front + 1) % self.capacity\n",
    "\t\tself.size -= 1\n",
    "\t\treturn res\n",
    "\n",
    "\tdef peek(self):\n",
    "\t\tassert not self.is_empty()\n",
    "\t\treturn self.queue[self.front]\n",
    "\n",
    "\tdef enqueue(self, elt):\n",
    "\t\tif self.is_full():\n",
    "\t\t\tself.resize()\n",
    "\t\tself.queue[self.back] = elt\n",
    "\t\tself.back = (self.back + 1) % self.capacity\n",
    "\t\tself.size += 1\n",
    "\n",
    "\tdef resize(self):\n",
    "\t\tresize_amnt = 2 * self.capacity\n",
    "\t\tnew_queue = self.empty_queue(resize_amnt)\n",
    "\t\tfor i in range(self.capacity):\n",
    "\t\t\tindex = self.front + i % self.capacity\n",
    "\t\t\tnew_queue[i] = self.queue[index]\n",
    "\t\tself.queue = new_queue\n",
    "\t\tself.capacity = resize_amnt\n",
    "\t\tself.front = 0\n",
    "\t\tself.back = self.size\n",
    "\n",
    "\tdef is_full(self):\n",
    "\t\treturn self.capacity == self.size\n",
    "\n",
    "\tdef is_empty(self):\n",
    "\t\treturn self.size == 0\n",
    "\n",
    "\tdef __len__(self):\n",
    "\t\treturn self.size\n",
    "\n",
    "\tdef __str__(self):\n",
    "\t\tres = '['\n",
    "\t\tfor i in range(self.size):\n",
    "\t\t\tif i > 0: res += \", \"\n",
    "\t\t\tindex = self.front + i % self.capacity\n",
    "\t\t\tres += '{}'.format(self.queue[index])\n",
    "\t\tres += ']'\n",
    "\t\treturn res\n",
    "\n",
    "\n",
    "#################### DEMO ####################\n",
    "\n",
    "cq = sgk7cQueue(8)\n",
    "for i in range(30):\n",
    "\tcq.enqueue(i)\n",
    "print(str(cq))\n",
    "for i in range(20):\n",
    "\tcq.dequeue()\n",
    "print('LENGTH   : {}'.format(str(cq)))\n",
    "print('PEEK     : {}'.format(len(cq)))\n",
    "print('STR      : {}'.format(cq.peek()))"
   ]
  },
  {
   "cell_type": "code",
   "execution_count": null,
   "metadata": {},
   "outputs": [],
   "source": [
    "# BOOK SOLUTION:\n",
    "class Queue:\n",
    "    SCALE_FACTOR = 2\n",
    "    def __init__(self, capacity):\n",
    "        self._entries = [None] * capacity\n",
    "        self._head = self._tail = self._num_queue_elements = 0\n",
    "    \n",
    "    def enqueue(self, x):\n",
    "        if self._num_queue_elements == len(self._entries): # needs to resize cuz we at capacity breh\n",
    "            #makes the queue elements appear consectuveily.\n",
    "            self._entries = (\n",
    "                self._entries[self._head:] + self._entries[:self._head])\n",
    "            #resets head and tail\n",
    "            self._head, self._tail = 0, self._num_queue_elements \n",
    "            self._entries += [None] * (len(self._entries) * Queue.SCALE_FACTOR)\n",
    "        \n",
    "        self._entries[self._tail] = x\n",
    "        self._tail = (self._tail + 1) % len(self._entries)\n",
    "        self._num_queue_elements += 1\n",
    "        \n",
    "    def dequeue(self):\n",
    "        if not self._num_queue_elements:\n",
    "            raise IndexError('empty queue')\n",
    "        self._num_queue_elements -= 1\n",
    "        ret = self._entries[self._head]\n",
    "        self._head = (self._head + 1) % len(self.entries)\n",
    "        return ret\n",
    "    \n",
    "    def size(self):\n",
    "        return self._num_queue_elements"
   ]
  },
  {
   "cell_type": "markdown",
   "metadata": {},
   "source": [
    "- LV - syntactic/high level cues seriously remember use underscore for memory variables pls\n",
    "- use assert at begining of functions fo error checks"
   ]
  },
  {
   "cell_type": "markdown",
   "metadata": {},
   "source": [
    "TAKEAWAY PROBLEM QUEUES:\n",
    "- modulo arithmetic helps a lot when you're dealing with circular queues \n",
    "- have a head and tail 'counter/ptr' kinda like in LL's for circular queues\n",
    "- MIGHT BE GOOD FOR TREEESS"
   ]
  },
  {
   "cell_type": "markdown",
   "metadata": {},
   "source": [
    "## Chapter 9: binary trees - 9.2, 9.12"
   ]
  },
  {
   "cell_type": "markdown",
   "metadata": {},
   "source": [
    "Terminology:\n",
    "- Binary tree is EMPTY or has a ROOT NODE\n",
    "    - root node has a left and right SUBTREE - which are both binary trees\n",
    "- good for hierarchy!\n"
   ]
  },
  {
   "cell_type": "code",
   "execution_count": 3,
   "metadata": {},
   "outputs": [],
   "source": [
    "#perfect binary tree of depth 3\n",
    "LL = BinaryTreeNode(data='Left left')\n",
    "LR = BinaryTreeNode(data='Left right')\n",
    "L = BinaryTreeNode(data='left')\n",
    "L.left = LL\n",
    "L.right = LR\n",
    "RR = BinaryTreeNode(data='right right')\n",
    "RL = BinaryTreeNode(data='right left')\n",
    "R = BinaryTreeNode(data='right')\n",
    "R.left = RL\n",
    "R.right = RR\n",
    "groot = BinaryTreeNode(data='i am groot')\n",
    "groot.left = L\n",
    "groot.right = R"
   ]
  },
  {
   "cell_type": "code",
   "execution_count": 8,
   "metadata": {},
   "outputs": [
    {
     "name": "stdout",
     "output_type": "stream",
     "text": [
      "Left left\n",
      "left\n",
      "Left right\n",
      "i am groot\n",
      "right left\n",
      "right\n",
      "right right\n",
      "---\n",
      "i am groot\n",
      "left\n",
      "Left left\n",
      "Left right\n",
      "right\n",
      "right left\n",
      "right right\n",
      "---\n",
      "Left left\n",
      "Left right\n",
      "left\n",
      "right left\n",
      "right right\n",
      "right\n",
      "i am groot\n"
     ]
    }
   ],
   "source": [
    "inOrder(groot)\n",
    "print ('---')\n",
    "preOrder(groot)\n",
    "print('---')\n",
    "postOrder(groot)"
   ]
  },
  {
   "cell_type": "code",
   "execution_count": 9,
   "metadata": {},
   "outputs": [],
   "source": [
    "class BinaryTreeNode:\n",
    "    def __init__(self , data=None , left=None , right=None):\n",
    "        self.data = data\n",
    "        self.left = left\n",
    "        self.right = right"
   ]
  },
  {
   "cell_type": "markdown",
   "metadata": {},
   "source": [
    "- all nodes except root node are roots of a subtree\n",
    "- given a node p, if l is the root of p's left subtree and r is the root of p's right subtree\n",
    "    - p is a PARENT of l and r, and l is a left CHILD of p while r is a right CHILD of p\n",
    "- all nodes except root have a unique parent\n",
    "- the SEARCH PATH of a node is the unique sequence of nodes to the root to the specific node, including both the root node and the node in question\n",
    "- a node A is an ANCESTOR of another node D if A lies on the search path from root to D. \n",
    "    - D is then a DESCENDANT of A inversely\n",
    "        - a node is both an ancestor and descendant of itself.\n",
    "- a LEAF is a node that has no children/descandants (besides itself as a descandant) \n",
    "- the DEPTH of a node is the cardinality of the search path of the node minus 1.\n",
    "- the HEIGHT of a tree is the maximum depth of any node in the tree\n",
    "- a LEVEL of a tree is all the nodes at the same depth in the tre\n",
    "- a FULL BINARY TREE - is a binary tree where each node other than the leaves has two children\n",
    "- a PERFECT BINARY TREE is a binary tree where all leaves are the same depth/ each parent has two children\n",
    "- a COMPLETE BINARY TREE is a binary tree in which every level except the last is completely filled and all nodes are as far left as possible\n",
    "    - RV terminology not perfect. some ppl say complete when we mean perfect - ask person i tasked whats up.\n",
    "- the number of nonleaf nodes in a full binary tree = number of leaves - 1\n",
    "- complete binary tree with N nodes has height = log N\n",
    "- left/right skewed trees are trees in which no node has a left/right child respectively\n",
    "- tree TRAVERSAL (or WALKING) is visitation of all nodes in the tree\\\n",
    "    - INORDER traversal: visit left subtree, root, rightsubtree\n",
    "    - PREORDER traversal: visit root, left subtree, right subtree\n",
    "    - POSTORDER traversal: visit left subtree, right subtree, root\n",
    "- traversing an N node tree with height H requires O(N) time complexity and O(H) space complexity due to the depth of function call stack\n",
    "    - if each node has a parent pointer instead of just a left/right pointer, traversals can be done with O(1) space. \n",
    "- Tree is an overused term.\n"
   ]
  },
  {
   "cell_type": "code",
   "execution_count": 229,
   "metadata": {},
   "outputs": [],
   "source": [
    "#EQUILVAENT TO THEIR BOOT CAMP!\n",
    "'''tthese functions traverse the binary tree and print out contents in respective orders'''\n",
    "def inOrder(TreeNode):\n",
    "    ''' left subtree, root, right subtree'''\n",
    "    if TreeNode == None:\n",
    "        return\n",
    "    inOrder(TreeNode.left)\n",
    "    print(TreeNode.data)\n",
    "    inOrder(TreeNode.right)\n",
    "    return\n",
    "def preOrder(TreeNode):\n",
    "    '''root, left subtree, right subtree'''\n",
    "    if TreeNode == None:\n",
    "        return        \n",
    "    print(TreeNode.data)\n",
    "    preOrder(TreeNode.left)\n",
    "    preOrder(TreeNode.right)\n",
    "    return\n",
    "def postOrder(TreeNode):\n",
    "    '''left subtree, right subtree, root'''\n",
    "    if TreeNode == None:\n",
    "        return\n",
    "    postOrder(TreeNode.left)\n",
    "    postOrder(TreeNode.right)\n",
    "    print(TreeNode.data)\n",
    "    return"
   ]
  },
  {
   "cell_type": "code",
   "execution_count": 13,
   "metadata": {},
   "outputs": [],
   "source": [
    "#their boot camp code\n",
    "def tree_traversal (root):\n",
    "    if root:\n",
    "        # Preorder: Processes the root before the traversals of left and right\n",
    "        # children.\n",
    "        print('Preorder: %d’ % root.data')\n",
    "        tree_traversal (root.left)\n",
    "        # Inorder: Processes the root after the traversal of left child and\n",
    "        # before the traversal of right child.\n",
    "        print('Inorder: %d’ % root.data')\n",
    "        tree_traversal (root.right)\n",
    "        # Postorder : Processes the root after the traversals of left and right\n",
    "        # children.\n",
    "        print('Postorder : %d’ % root.data')"
   ]
  },
  {
   "cell_type": "markdown",
   "metadata": {},
   "source": [
    "RV - traversing an N node tree with height H requires O(N) time complexity and O(H) space complexity due to the depth of function call stack\n",
    "\n",
    "    Value of H, the height of a binary tree:\n",
    "    log N (in a complete binary tree) <= H < N (in a completely skewed tree/perfectly unbalanced tree)"
   ]
  },
  {
   "cell_type": "markdown",
   "metadata": {},
   "source": [
    "Tips on binary trees:\n",
    "- recursion is bae - include function call stack space complexity in speed/space analysis\n",
    "- (reoccurring) brute force uses O(N) space, but iterators using existing data structures reduces to O(1) space.\n",
    "- see previous cell - skewed trees are O(H=N) while balanced are O(H=log N) \n",
    "- utilize parent ptr if it exists in this tree's nodes\n",
    "- COMMON MISTAKES - It’s easy to make the mistake of treating a node that has a single child as a leaf.\n"
   ]
  },
  {
   "cell_type": "code",
   "execution_count": 14,
   "metadata": {},
   "outputs": [],
   "source": [
    "class BinaryTreeNode:\n",
    "    def __init__(self , data=None , left=None , right=None):\n",
    "        self.data = data\n",
    "        self.left = left\n",
    "        self.right = right"
   ]
  },
  {
   "cell_type": "markdown",
   "metadata": {},
   "source": [
    "### 9.2 - test if a binary tree is symmetric\n",
    "A binary tree is symmetric if you can draw a vertical line through the root and then the left subtree is the mirror image of the right subtree\n",
    "HINT: the definition of symmetry is symmetricv"
   ]
  },
  {
   "cell_type": "code",
   "execution_count": 17,
   "metadata": {},
   "outputs": [
    {
     "data": {
      "text/plain": [
       "False"
      ]
     },
     "execution_count": 17,
     "metadata": {},
     "output_type": "execute_result"
    }
   ],
   "source": [
    "[1, 2, 3] == [1, 2, 3, 4]"
   ]
  },
  {
   "cell_type": "code",
   "execution_count": 68,
   "metadata": {},
   "outputs": [],
   "source": [
    "#brute force solution using space cmplexity O(N -1)\n",
    "def right(TreeNode, arr):\n",
    "    if TreeNode == None:\n",
    "        return        \n",
    "    arr.append(TreeNode.data)\n",
    "    right(TreeNode.right, arr)\n",
    "    right(TreeNode.left, arr)\n",
    "    return\n",
    "\n",
    "def left(TreeNode, arr):\n",
    "    '''root, left subtree, right subtree'''\n",
    "    if TreeNode == None:\n",
    "        return        \n",
    "    arr.append(TreeNode.data)\n",
    "    left(TreeNode.left, arr)\n",
    "    left(TreeNode.right, arr)\n",
    "    return\n",
    "    \n",
    "def is_symmetric(root):\n",
    "    if (root == None):\n",
    "        return True\n",
    "    else:\n",
    "        leftarr = []\n",
    "        rightarr = []\n",
    "        left(root.left, leftarr)\n",
    "        right(root.right, rightarr)\n",
    "        symmetricbool = (leftarr == rightarr)\n",
    "        return symmetricbool #, leftarr, rightarr #uncomment to return left and right arrays."
   ]
  },
  {
   "cell_type": "code",
   "execution_count": 62,
   "metadata": {},
   "outputs": [],
   "source": [
    "#perfect binary tree of depth 3\n",
    "LL = BinaryTreeNode(data=1)\n",
    "LR = BinaryTreeNode(data=3)\n",
    "L = BinaryTreeNode(data=2)\n",
    "L.left = LL\n",
    "L.right = LR\n",
    "RR = BinaryTreeNode(data=1)\n",
    "RL = BinaryTreeNode(data=3)\n",
    "R = BinaryTreeNode(data=2)\n",
    "R.left = RL\n",
    "R.right = RR\n",
    "groot = BinaryTreeNode(data='i am groot')\n",
    "groot.left = L\n",
    "groot.right = R"
   ]
  },
  {
   "cell_type": "code",
   "execution_count": 63,
   "metadata": {},
   "outputs": [],
   "source": [
    "boolean, leftarr, rightarr = is_symmetric(groot)"
   ]
  },
  {
   "cell_type": "code",
   "execution_count": 64,
   "metadata": {},
   "outputs": [
    {
     "data": {
      "text/plain": [
       "True"
      ]
     },
     "execution_count": 64,
     "metadata": {},
     "output_type": "execute_result"
    }
   ],
   "source": [
    "boolean"
   ]
  },
  {
   "cell_type": "code",
   "execution_count": 65,
   "metadata": {},
   "outputs": [
    {
     "data": {
      "text/plain": [
       "[2, 1, 3]"
      ]
     },
     "execution_count": 65,
     "metadata": {},
     "output_type": "execute_result"
    }
   ],
   "source": [
    "leftarr"
   ]
  },
  {
   "cell_type": "code",
   "execution_count": 66,
   "metadata": {},
   "outputs": [
    {
     "data": {
      "text/plain": [
       "[2, 1, 3]"
      ]
     },
     "execution_count": 66,
     "metadata": {},
     "output_type": "execute_result"
    }
   ],
   "source": [
    "rightarr"
   ]
  },
  {
   "cell_type": "markdown",
   "metadata": {},
   "source": [
    "space complexity is O(N-1), time complexity is O(N) for this brute force solution"
   ]
  },
  {
   "cell_type": "code",
   "execution_count": 69,
   "metadata": {},
   "outputs": [
    {
     "ename": "KeyboardInterrupt",
     "evalue": "",
     "output_type": "error",
     "traceback": [
      "\u001b[0;31m---------------------------------------------------------------------------\u001b[0m",
      "\u001b[0;31mKeyboardInterrupt\u001b[0m                         Traceback (most recent call last)",
      "\u001b[0;32m<ipython-input-69-9f7bba6e0baa>\u001b[0m in \u001b[0;36m<module>\u001b[0;34m()\u001b[0m\n\u001b[1;32m      1\u001b[0m \u001b[0;32mwhile\u001b[0m\u001b[0;34m(\u001b[0m\u001b[0;32mTrue\u001b[0m\u001b[0;34m)\u001b[0m\u001b[0;34m:\u001b[0m\u001b[0;34m\u001b[0m\u001b[0m\n\u001b[0;32m----> 2\u001b[0;31m     \u001b[0;32mpass\u001b[0m\u001b[0;34m\u001b[0m\u001b[0m\n\u001b[0m",
      "\u001b[0;31mKeyboardInterrupt\u001b[0m: "
     ]
    }
   ],
   "source": [
    "while(True):\n",
    "    pass"
   ]
  },
  {
   "cell_type": "code",
   "execution_count": null,
   "metadata": {},
   "outputs": [],
   "source": [
    "#using threads and mutexes - RV incomplete and fun\n",
    "class Node:\n",
    "    def __init__(self, data=None):\n",
    "        self.data = data\n",
    "\n",
    "def right(TreeNode, mutex, share):\n",
    "    if TreeNode == None:\n",
    "        r\n",
    "    if mutex.data == 0:\n",
    "        share.data = TreeNode.data\n",
    "        mutex = 1\n",
    "        while(mutex):\n",
    "            pass\n",
    "    else:\n",
    "        boolean = (share.data == TreeNode.data)\n",
    "    right(TreeNode.right, arr)\n",
    "    right(TreeNode.left, arr)\n",
    "    return\n",
    "\n",
    "def left(TreeNode, mutex, share):\n",
    "    '''root, left subtree, right subtree'''\n",
    "    if TreeNode == None:\n",
    "        return \n",
    "    if mutex.data == 0:\n",
    "        share.data = TreeNode.data\n",
    "    left(TreeNode.left, arr)\n",
    "    left(TreeNode.right, arr)\n",
    "    return\n",
    "\n",
    "# thread spawning\n",
    "def is_symmetric_fast(root):\n",
    "    import threading\n",
    "    mutex = Node(data=0)\n",
    "    share = Node()\n",
    "    if root == None:\n",
    "        return True\n",
    "    t = threading.Thread(target=left, args=(root.left, mutex, share))\n",
    "    t.start()\n",
    "    right(root.right, mutex, share)\n",
    "        \n",
    "    "
   ]
  },
  {
   "cell_type": "code",
   "execution_count": null,
   "metadata": {},
   "outputs": [],
   "source": [
    "#solution with O(1) space. and still O(N) time. - goes all the way to th ebottom (ideally we compare each element as we get to it cuz if the first left and right nodes are different then we should stop.)\n",
    "'''fail'''\n",
    "def is_symmetric_fast(root):\n",
    "    if root == None:\n",
    "        return True\n",
    "    is_symmetric_fast"
   ]
  },
  {
   "cell_type": "code",
   "execution_count": null,
   "metadata": {},
   "outputs": [],
   "source": []
  },
  {
   "cell_type": "code",
   "execution_count": null,
   "metadata": {},
   "outputs": [],
   "source": [
    "# Book solution O(h) space (from function calls on stack), O(N) time \n",
    "def is_symmetric(tree):\n",
    "    def check_symmetric(subtree_0, subtree_1):\n",
    "        if not subtree_0 and not subtree_1:\n",
    "            return True\n",
    "        elif subtree_0 and subtree_1:\n",
    "            return ((subtree_0 == subtree_1) and \n",
    "                    check_symmetric(subtree_0.right, subtree_1.left) and \n",
    "                    check_symmetric(subtree_0.left, subtree_1.right))\n",
    "        else:\n",
    "            return False\n",
    "    return not tree or check_symmetric(tree.right, tree.left)"
   ]
  },
  {
   "cell_type": "markdown",
   "metadata": {},
   "source": [
    "TAKEAWAY BINARY TREES PROBLEM 1: (FAIL)\n",
    "- if the problem exists, then there is a recursive solution\n"
   ]
  },
  {
   "cell_type": "markdown",
   "metadata": {},
   "source": [
    "### 9.12 - Reconstruct a binary tree from traversal data\n",
    "Many different binary trees yield same sequence of keys regardless of traversal order (pre/in/postorder)\n",
    "GIVEN an inorder traversal and a PRE or POST order traversal, there exists a unique binary tree that yields these orders, assuming each node holds a distinct key. \n",
    "\n",
    "given two arrays, one is the in order traversal and the other is the preorder, generate the binary tree and assume each node has unique key (unique data!)"
   ]
  },
  {
   "cell_type": "code",
   "execution_count": 70,
   "metadata": {},
   "outputs": [],
   "source": [
    "arr = [122, 3, 4,5 ]"
   ]
  },
  {
   "cell_type": "code",
   "execution_count": 94,
   "metadata": {},
   "outputs": [
    {
     "ename": "IndexError",
     "evalue": "list index out of range",
     "output_type": "error",
     "traceback": [
      "\u001b[0;31m---------------------------------------------------------------------------\u001b[0m",
      "\u001b[0;31mIndexError\u001b[0m                                Traceback (most recent call last)",
      "\u001b[0;32m<ipython-input-94-212bc78bf802>\u001b[0m in \u001b[0;36m<module>\u001b[0;34m()\u001b[0m\n\u001b[0;32m----> 1\u001b[0;31m \u001b[0;34m[\u001b[0m\u001b[0;34m]\u001b[0m\u001b[0;34m[\u001b[0m\u001b[0;36m0\u001b[0m\u001b[0;34m]\u001b[0m\u001b[0;34m\u001b[0m\u001b[0m\n\u001b[0m",
      "\u001b[0;31mIndexError\u001b[0m: list index out of range"
     ]
    }
   ],
   "source": [
    "[][0]"
   ]
  },
  {
   "cell_type": "code",
   "execution_count": 121,
   "metadata": {},
   "outputs": [
    {
     "data": {
      "text/plain": [
       "[3, 4, 5]"
      ]
     },
     "execution_count": 121,
     "metadata": {},
     "output_type": "execute_result"
    }
   ],
   "source": [
    "arr[1:]"
   ]
  },
  {
   "cell_type": "code",
   "execution_count": 125,
   "metadata": {},
   "outputs": [],
   "source": [
    "class Node:\n",
    "    def __init__(self, data=None, left=None, right=None):\n",
    "        self.data=data\n",
    "        self.left=left\n",
    "        self.right=right\n",
    "    \n",
    "def get_tree(inorder, preorder):\n",
    "    if (len(preorder) == 0 and len(inorder) == 0):\n",
    "        return None\n",
    "    '''\n",
    "    if (len(preorder) == 1 and len(inorder) == 1):\n",
    "        return Node(data=inorder[0], left=None, right=None)\n",
    "    '''\n",
    "    rootdata = preorder[0]\n",
    "    inorder_root_index = inorder.index(rootdata)\n",
    "    \n",
    "    inorder_left_subtree = inorder[:inorder_root_index]\n",
    "    inorder_right_subtree = inorder[inorder_root_index+1:]\n",
    "\n",
    "    ''' \n",
    "    #this method is primitive ....\n",
    "    preorder_left_subtree_end_index = 1\n",
    "    while(preorder[preorder_left_subtree_end_index] in inorder_left_subtree):\n",
    "        preorder_left_subtree_end_index += 1\n",
    "    preorder_right_subtree_end_index = preorder_left_subtree_end_index\n",
    "    preorder_right_subtree = preorder[preorder_left_subtree_end_index:]\n",
    "    preorder_left_subtree = preorder[1:preorder_left_subtree_end_index]\n",
    "    '''\n",
    "    \n",
    "    #... when you know the length of the inorder left sequence\n",
    "    preorder_left_subtree = preorder[1:1+len(inorder_left_subtree)]\n",
    "    preorder_right_subtree = preorder[1+len(inorder_left_subtree):]\n",
    "        \n",
    "    left_tree = get_tree(inorder_left_subtree, preorder_left_subtree)\n",
    "    right_tree = get_tree(inorder_right_subtree, preorder_right_subtree)\n",
    "    \n",
    "    root = Node(data=rootdata, left=left_tree, right=right_tree)\n",
    "    \n",
    "    return root"
   ]
  },
  {
   "cell_type": "code",
   "execution_count": 127,
   "metadata": {},
   "outputs": [
    {
     "name": "stdout",
     "output_type": "stream",
     "text": [
      "A\n",
      "B\n",
      "D\n",
      "E\n",
      "C\n",
      "F\n",
      "G\n"
     ]
    }
   ],
   "source": [
    "preOrder(get_tree('DBEAFCG', 'ABDECFG'))"
   ]
  },
  {
   "cell_type": "code",
   "execution_count": 109,
   "metadata": {},
   "outputs": [
    {
     "name": "stdout",
     "output_type": "stream",
     "text": [
      "> \u001b[0;32m<ipython-input-107-89115d409110>\u001b[0m(14)\u001b[0;36mget_tree\u001b[0;34m()\u001b[0m\n",
      "\u001b[0;32m     12 \u001b[0;31m    \u001b[0;32mif\u001b[0m \u001b[0;34m(\u001b[0m\u001b[0mlen\u001b[0m\u001b[0;34m(\u001b[0m\u001b[0mpreorder\u001b[0m\u001b[0;34m)\u001b[0m \u001b[0;34m==\u001b[0m \u001b[0;36m1\u001b[0m \u001b[0;32mand\u001b[0m \u001b[0mlen\u001b[0m\u001b[0;34m(\u001b[0m\u001b[0minorder\u001b[0m\u001b[0;34m)\u001b[0m \u001b[0;34m==\u001b[0m \u001b[0;36m1\u001b[0m\u001b[0;34m)\u001b[0m\u001b[0;34m:\u001b[0m\u001b[0;34m\u001b[0m\u001b[0m\n",
      "\u001b[0m\u001b[0;32m     13 \u001b[0;31m        \u001b[0;32mreturn\u001b[0m \u001b[0mNode\u001b[0m\u001b[0;34m(\u001b[0m\u001b[0mdata\u001b[0m\u001b[0;34m=\u001b[0m\u001b[0minorder\u001b[0m\u001b[0;34m[\u001b[0m\u001b[0;36m0\u001b[0m\u001b[0;34m]\u001b[0m\u001b[0;34m,\u001b[0m \u001b[0mleft\u001b[0m\u001b[0;34m=\u001b[0m\u001b[0;32mNone\u001b[0m\u001b[0;34m,\u001b[0m \u001b[0mright\u001b[0m\u001b[0;34m=\u001b[0m\u001b[0;32mNone\u001b[0m\u001b[0;34m)\u001b[0m\u001b[0;34m\u001b[0m\u001b[0m\n",
      "\u001b[0m\u001b[0;32m---> 14 \u001b[0;31m    \u001b[0mrootdata\u001b[0m \u001b[0;34m=\u001b[0m \u001b[0mpreorder\u001b[0m\u001b[0;34m[\u001b[0m\u001b[0;36m0\u001b[0m\u001b[0;34m]\u001b[0m\u001b[0;34m\u001b[0m\u001b[0m\n",
      "\u001b[0m\u001b[0;32m     15 \u001b[0;31m    \u001b[0minorder_root_index\u001b[0m \u001b[0;34m=\u001b[0m \u001b[0minorder\u001b[0m\u001b[0;34m.\u001b[0m\u001b[0mindex\u001b[0m\u001b[0;34m(\u001b[0m\u001b[0mrootdata\u001b[0m\u001b[0;34m)\u001b[0m\u001b[0;34m\u001b[0m\u001b[0m\n",
      "\u001b[0m\u001b[0;32m     16 \u001b[0;31m\u001b[0;34m\u001b[0m\u001b[0m\n",
      "\u001b[0m\n",
      "ipdb> preorder\n",
      "''\n",
      "ipdb> inorder\n",
      "''\n",
      "ipdb> quit()\n"
     ]
    }
   ],
   "source": [
    "debug"
   ]
  },
  {
   "cell_type": "code",
   "execution_count": null,
   "metadata": {},
   "outputs": [],
   "source": [
    "INO: BEAFCG\n",
    "PRE: ABECFG\n",
    "\n",
    "    INO: BE\n",
    "    PRE: BE\n",
    "        \n",
    "        INO: D\n",
    "        PRE: D"
   ]
  },
  {
   "cell_type": "markdown",
   "metadata": {},
   "source": [
    "- for in-order traversals, all elements to the left of the element are LEFT of the element\n",
    "     - elements to the left are either (1) parents, (2) "
   ]
  },
  {
   "cell_type": "code",
   "execution_count": 128,
   "metadata": {},
   "outputs": [
    {
     "data": {
      "text/plain": [
       "{'D': 0, 'B': 1, 'E': 2, 'A': 3, 'F': 4, 'C': 5, 'G': 6}"
      ]
     },
     "execution_count": 128,
     "metadata": {},
     "output_type": "execute_result"
    }
   ],
   "source": [
    "{data:i for i, data in enumerate('DBEAFCG')} #equivalent to doing list.index(value) which returns the first index with the desired value"
   ]
  },
  {
   "cell_type": "code",
   "execution_count": 129,
   "metadata": {},
   "outputs": [],
   "source": [
    "class BinaryTreeNode:\n",
    "    def __init__(self , data=None , left=None , right=None):\n",
    "        self.data = data\n",
    "        self.left = left\n",
    "        self.right = right\n",
    "\n",
    "def binary_tree_from_preorder_inorder(preorder, inorder):\n",
    "    node_to_inorder_indx = {data:i for i, data in enumerate(inorder)}\n",
    "    \n",
    "    #Builds the subtree with preorder[preorder_start:preorder_end] and inorder[inorder_start:inorder_end]\n",
    "    def binary_tree_from_preorder_inorder_helper(preorder_start, preorder_end, inorder_start, inorder_end):\n",
    "        if preorder_end <= preorder_start or inorder_end <= inorder_start:\n",
    "            return None\n",
    "        \n",
    "        root_inorder_idx = node_to_inorder_idx[preorder[preorder_start]]\n",
    "        left_subtree_size = root_inorder_idx - inorder_start\n",
    "        left_subtree = binary_tree_from_preorder_inorder_helper(preorder_start + 1, preorder_start + 1 + left_subtree_size, inorder_start, root_order_idx)\n",
    "        right_subtree = binary_tree_from_preorder_inorder_helper(preorder_start + 1 + left_subtree_size, preorder_end, root_inorder_idx + 1, inorder_end)\n",
    "        return BinaryTreeNode(preorder[preorder_start], left_subtree, right_subtree)\n",
    "    return binary_tree_from_preorder_inorder_helper(0, len(preorder), 0, len(inorder))\n",
    "\n",
    "#omcplexity is theorhetically O(N) from building hash table and after is O(1) using it. (time)\n",
    "# spacee is O(N + H) -> H from function calls, and N from hash table"
   ]
  },
  {
   "cell_type": "markdown",
   "metadata": {},
   "source": [
    " TAKEAWAY PROBLEM 2 BINARY TREES\n",
    " - note the relative orders of how preorder, inorder, and postorder show nodes\n",
    "     - inorder shows left subtree nodes, then root, then right subtree nodes\n",
    "     - preorder shows root node, then left subtree nodes, and right subtre nodes\n",
    "     - postorder shows left subtree nodes, right subtree nodes, then root node\n",
    "         this can be applied recursively to a subtraversal of each of these\n",
    "         "
   ]
  },
  {
   "cell_type": "markdown",
   "metadata": {},
   "source": [
    "#### variant1 : solve same thing with inorder traversal and postorder traversal\n"
   ]
  },
  {
   "cell_type": "markdown",
   "metadata": {},
   "source": [
    "#### variant2: let A be an array of n distinct integers. let the index of the maximum element of A be m. Define maxtree to be the binary tree on the entries of A in which the root contains the maximum element of A, the left child is the max-tree on A[0, m-1] and the right child is the max-tree on A[m+1, n-1]. Design O(N) algo to build maxtree of A"
   ]
  },
  {
   "cell_type": "markdown",
   "metadata": {},
   "source": [
    "## Chapter 10: heaps - 10.3"
   ]
  },
  {
   "cell_type": "markdown",
   "metadata": {},
   "source": [
    "- a heap is a complete binary tree such that the value at each node is greater than or equal to the values at the nodes children individually.\n",
    "    - ie, parents are bigger than kids always. \n",
    "- max-heaps can be shown as arrays:\n",
    "    - children of node at index i are at indices 2i + 1, 2i + 2\n",
    "- O(log n) insert, O(1) lookup max , O(log n) extract_max/delete max, O(n) arbitrary search\n",
    "    - deletion of top of heap causes a shift \n",
    "- behaves like a priority queue in regard of removing the highest priority element \n",
    "    - min-heaps are the same thing, just with min instead of max."
   ]
  },
  {
   "cell_type": "code",
   "execution_count": 139,
   "metadata": {},
   "outputs": [
    {
     "data": {
      "text/plain": [
       "[(1, 'a'), (1, 'a'), (1, 'd'), (1, 's')]"
      ]
     },
     "execution_count": 139,
     "metadata": {},
     "output_type": "execute_result"
    }
   ],
   "source": [
    "import itertools\n",
    "import heapq\n",
    "min_heap = [(len(s), s) for s in itertools .islice('asdasdadsad', 4)]\n",
    "heapq.heapify(min_heap)\n",
    "min_heap"
   ]
  },
  {
   "cell_type": "code",
   "execution_count": 141,
   "metadata": {},
   "outputs": [
    {
     "data": {
      "text/plain": [
       "<module 'heapq' from '/home/drautuna/anaconda3/lib/python3.6/heapq.py'>"
      ]
     },
     "execution_count": 141,
     "metadata": {},
     "output_type": "execute_result"
    }
   ],
   "source": [
    "heapq"
   ]
  },
  {
   "cell_type": "code",
   "execution_count": 140,
   "metadata": {},
   "outputs": [],
   "source": [
    " #heaps boot camp: takes sequence of strings in streaming fashion socant read earlier value.\n",
    "# compute k-longest strings in hte sequence - dont need to order them\n",
    "def top_k(k, stream):\n",
    "    # Entries are compared by their lengths.\n",
    "    min_heap = [(len(s), s) for s in itertools .islice(stream , k)]\n",
    "    heapq.heapify(min_heap)\n",
    "    for next_string in stream:\n",
    "        # Push next_string and pop the shortest string in min_heap.\n",
    "        heapq. heappushpop (min_heap , (len( next_string ), next_string ))\n",
    "    return [p[1] for p in heapq. nsmallest (k, min_heap)]\n",
    "# O(log k) time - time to add and remove minimum element from heap for ONE string\n",
    "    # if N strings in heap, takes O(N log K) time\n",
    "\n",
    "# can improve by comparing new string length to heap top and skip insert if too small\n"
   ]
  },
  {
   "cell_type": "markdown",
   "metadata": {},
   "source": [
    "HEAP tips:\n",
    "- use when you only care about the largest/smallest elements and don't need to do lookup/delete/search on any eleemnts that arent the largest/smallest\n",
    "- good choice for computing k-largest (use min_heap) or k-smallest elements (use max-heap) in a collection"
   ]
  },
  {
   "cell_type": "code",
   "execution_count": 145,
   "metadata": {},
   "outputs": [
    {
     "name": "stderr",
     "output_type": "stream",
     "text": [
      "UsageError: %%script is a cell magic, but the cell body is empty.\n"
     ]
    }
   ],
   "source": [
    "%%script false\n",
    "MIN HEAP ONLYYYYYYYYYYYYYYYYYYYYYYYYY\n",
    "make everything negative if u want to use this as a max-heap\n",
    "'''python MIN-heap module'''\n",
    "import heapq\n",
    "\n",
    "'''transforms elements of L into a heap in-place'''\n",
    "heapq.heapify(L) \n",
    "\n",
    "'''returns k-largest or k-smallest elements in L'''\n",
    "heapq.nlargest(k, L) \n",
    "heapq.nsmallest(k, L)\n",
    "\n",
    "'''pushes new element onto heap'''\n",
    "heapq.heappush(h, e)\n",
    "\n",
    "'''pops smallest element from heap'''\n",
    "heapq.heappop(h)\n",
    "\n",
    "'''pushes element onto heap and then pops and returns smallest element'''\n",
    "heapq.heappushpop(h, a)\n",
    "\n",
    "'''returns smallest element on heap without popping'''\n",
    "e= h[0]\n"
   ]
  },
  {
   "cell_type": "markdown",
   "metadata": {},
   "source": [
    "### 10.3 - sort an almost sorted array\n",
    "write a program which takes as input a very long sequence of numbers and prints the numbers in sorted order. each number is at most k away from its correctly sorted position (such an array is called k-sorted)\n",
    "\n",
    "HINT - not yet"
   ]
  },
  {
   "cell_type": "code",
   "execution_count": 153,
   "metadata": {},
   "outputs": [],
   "source": [
    "arr = [1, 5, 3, 6, 2, 120, 133, 50, 10, 20]"
   ]
  },
  {
   "cell_type": "code",
   "execution_count": 154,
   "metadata": {},
   "outputs": [],
   "source": [
    "heapq.heapify(arr)"
   ]
  },
  {
   "cell_type": "code",
   "execution_count": 155,
   "metadata": {},
   "outputs": [
    {
     "data": {
      "text/plain": [
       "[1, 2, 3, 6, 5, 120, 133, 50, 10, 20]"
      ]
     },
     "execution_count": 155,
     "metadata": {},
     "output_type": "execute_result"
    }
   ],
   "source": [
    "arr"
   ]
  },
  {
   "cell_type": "code",
   "execution_count": 156,
   "metadata": {},
   "outputs": [],
   "source": [
    "import heapq\n",
    "def sort_k_sorted_array(array):\n",
    "    heapq.heapify(array)\n",
    "    while len(array) != 0:\n",
    "        print (heapq.heappop(array))\n",
    "        "
   ]
  },
  {
   "cell_type": "code",
   "execution_count": 157,
   "metadata": {},
   "outputs": [
    {
     "name": "stdout",
     "output_type": "stream",
     "text": [
      "1\n",
      "2\n",
      "3\n",
      "5\n",
      "6\n",
      "10\n",
      "20\n",
      "50\n",
      "120\n",
      "133\n"
     ]
    }
   ],
   "source": [
    "sort_k_sorted_array(arr)"
   ]
  },
  {
   "cell_type": "code",
   "execution_count": null,
   "metadata": {},
   "outputs": [],
   "source": [
    "import itertools\n",
    "#their solution: \n",
    "def sort_approximately_sorted_array(sequence, k):\n",
    "    min_heap = []\n",
    "    #add first k elements into min_heap, stopping if less than k elements\n",
    "    '''ITERTOOLS?????????????? SLICE????????????? RV syntax on how heaps work'''\n",
    "    for x in itertools.islice(sequence, k):\n",
    "        heapq.heappush(min_heap, x)\n",
    "    '''the above must contain the smallest eleemnt.'''\n",
    "    \n",
    "    '''put the rest of the N-K elements in, popping out and printing each currently smallest element as we go'''\n",
    "    for x in sequence:\n",
    "        print(heapq.heappushpop(min_heap, x))\n",
    "        \n",
    "    '''after going through the rest of the array, now pop the rest of the heap'''\n",
    "    while ((len(min_heap) != 0)):\n",
    "        print(heapq.heappop(min_heap))\n",
    "    '''remember that builtin heap is a minheap by default and popping pops the smallest element.'''"
   ]
  },
  {
   "cell_type": "markdown",
   "metadata": {},
   "source": [
    "TAKEAWAY HEAP PROBLEM\n",
    "- RV - why the hell am i using a heap?\n",
    "- heaps are good for stuff that is sorted or almost sorted\n",
    "    - here we pushed until we knew how much sorted it was\n",
    "- also good for small heaps\n",
    "    - popping and pushing onto a small heap is less work than a big heap. \n",
    "- RV - what the heck are these slicing things and iteritems\n",
    "- RV - avoid heapify and use heappop/heappush/heappushpop - this is cuz doing heapify(list) is O(N) already and generally heap ops want u go under O(N)\n",
    "- iterate through the data once still applies with iterators "
   ]
  },
  {
   "cell_type": "code",
   "execution_count": 162,
   "metadata": {},
   "outputs": [
    {
     "name": "stdout",
     "output_type": "stream",
     "text": [
      "1\n",
      "[1, 2, 3, 4, 5, 6, 7, 8]\n",
      "2\n",
      "[1, 2, 3, 4, 5, 6, 7, 8]\n",
      "3\n",
      "[1, 2, 3, 4, 5, 6, 7, 8]\n",
      "4\n",
      "[1, 2, 3, 4, 5, 6, 7, 8]\n",
      "1\n",
      "2\n",
      "3\n",
      "4\n",
      "5\n",
      "6\n",
      "7\n",
      "8\n"
     ]
    }
   ],
   "source": [
    "a = [1, 2, 3, 4, 5, 6, 7, 8]\n",
    "for x in itertools.islice(a, 4):\n",
    "    print(x)\n",
    "    print(a)\n",
    "for x in a:\n",
    "    print(x)"
   ]
  },
  {
   "cell_type": "markdown",
   "metadata": {},
   "source": [
    "## Chapter 11: searching - 11.3, 11.9"
   ]
  },
  {
   "cell_type": "markdown",
   "metadata": {},
   "source": [
    "- concerned with searching static data in a sorted order in an array here.\n",
    "    - hash tables, heaps, and bsts are good for dynamic updates of data"
   ]
  },
  {
   "cell_type": "markdown",
   "metadata": {},
   "source": [
    "Given a collection of N keys, the only way to determine if search key is present is by examining each element, using O(N) time complexity. \n",
    "\n",
    "#### Binary search: \n",
    "compare the queried key to the middle element. since array is sorted, remove either the greater half (if key is less than middle) or lower half (if key is greater than middle) of the array from the subsequent search query (assuming it is not equal to the middle element) \n",
    "- WATCH OUT FOR EDGE CASES - apparently everybody implements this wrong.\n"
   ]
  },
  {
   "cell_type": "code",
   "execution_count": 164,
   "metadata": {},
   "outputs": [],
   "source": [
    "a = [ 1, 2, 3, 4, 5, 6, 7, 8, 9, 10]"
   ]
  },
  {
   "cell_type": "code",
   "execution_count": 168,
   "metadata": {},
   "outputs": [],
   "source": [
    "#my try - recursive\n",
    "def binary_search(array, key):\n",
    "    '''\n",
    "    takes in a key and a sorted array and returns \n",
    "    index in array where key occurs using binary search\n",
    "    '''\n",
    "    if len(array) == 0:\n",
    "        return None\n",
    "    realindex = 0\n",
    "    M = (len(array))// 2\n",
    "    if key == array[M]:\n",
    "        index = M\n",
    "        realindex += index\n",
    "    elif key > array[M]:\n",
    "        index = binary_search(array[M+1:], key)\n",
    "        realindex += index\n",
    "    elif key < array[M]:\n",
    "        index = binary_search(array[:M], key)\n",
    "        realindex += index\n",
    "    else:\n",
    "        print('lolwtfbbq')\n",
    "    \n",
    "    return realindex"
   ]
  },
  {
   "cell_type": "code",
   "execution_count": 193,
   "metadata": {},
   "outputs": [
    {
     "name": "stdout",
     "output_type": "stream",
     "text": [
      "0\n",
      "1\n",
      "2\n",
      "3\n",
      "4\n",
      "5\n",
      "6\n",
      "7\n",
      "8\n"
     ]
    },
    {
     "ename": "KeyboardInterrupt",
     "evalue": "",
     "output_type": "error",
     "traceback": [
      "\u001b[0;31m---------------------------------------------------------------------------\u001b[0m",
      "\u001b[0;31mKeyboardInterrupt\u001b[0m                         Traceback (most recent call last)",
      "\u001b[0;32m<ipython-input-193-0510db3cdf8f>\u001b[0m in \u001b[0;36m<module>\u001b[0;34m()\u001b[0m\n\u001b[1;32m      1\u001b[0m \u001b[0;32mfor\u001b[0m \u001b[0mi\u001b[0m \u001b[0;32min\u001b[0m \u001b[0mrange\u001b[0m\u001b[0;34m(\u001b[0m\u001b[0;36m1\u001b[0m\u001b[0;34m,\u001b[0m \u001b[0;36m11\u001b[0m\u001b[0;34m)\u001b[0m\u001b[0;34m:\u001b[0m\u001b[0;34m\u001b[0m\u001b[0m\n\u001b[0;32m----> 2\u001b[0;31m     \u001b[0mprint\u001b[0m\u001b[0;34m(\u001b[0m\u001b[0mbinary_search_normal_person\u001b[0m\u001b[0;34m(\u001b[0m\u001b[0ma\u001b[0m\u001b[0;34m,\u001b[0m \u001b[0mi\u001b[0m\u001b[0;34m)\u001b[0m\u001b[0;34m)\u001b[0m\u001b[0;34m\u001b[0m\u001b[0m\n\u001b[0m",
      "\u001b[0;32m<ipython-input-189-f8f97681506a>\u001b[0m in \u001b[0;36mbinary_search_normal_person\u001b[0;34m(array, key)\u001b[0m\n\u001b[1;32m     10\u001b[0m         \u001b[0;32mif\u001b[0m\u001b[0;34m(\u001b[0m\u001b[0marray\u001b[0m\u001b[0;34m[\u001b[0m\u001b[0mI\u001b[0m\u001b[0;34m]\u001b[0m \u001b[0;34m==\u001b[0m \u001b[0mkey\u001b[0m\u001b[0;34m)\u001b[0m\u001b[0;34m:\u001b[0m\u001b[0;34m\u001b[0m\u001b[0m\n\u001b[1;32m     11\u001b[0m             \u001b[0;32mreturn\u001b[0m \u001b[0mI\u001b[0m\u001b[0;34m\u001b[0m\u001b[0m\n\u001b[0;32m---> 12\u001b[0;31m         \u001b[0;32melif\u001b[0m \u001b[0marray\u001b[0m\u001b[0;34m[\u001b[0m\u001b[0mI\u001b[0m\u001b[0;34m]\u001b[0m \u001b[0;34m>\u001b[0m \u001b[0mkey\u001b[0m\u001b[0;34m:\u001b[0m\u001b[0;34m\u001b[0m\u001b[0m\n\u001b[0m\u001b[1;32m     13\u001b[0m             \u001b[0mH\u001b[0m \u001b[0;34m=\u001b[0m \u001b[0mI\u001b[0m\u001b[0;34m\u001b[0m\u001b[0m\n\u001b[1;32m     14\u001b[0m             \u001b[0mI\u001b[0m \u001b[0;34m=\u001b[0m \u001b[0;34m(\u001b[0m\u001b[0mL\u001b[0m \u001b[0;34m+\u001b[0m \u001b[0mI\u001b[0m\u001b[0;34m)\u001b[0m \u001b[0;34m//\u001b[0m \u001b[0;36m2\u001b[0m\u001b[0;34m\u001b[0m\u001b[0m\n",
      "\u001b[0;31mKeyboardInterrupt\u001b[0m: "
     ]
    }
   ],
   "source": [
    "for i in range(1, 11):\n",
    "    print(binary_search_normal_person(a, i))"
   ]
  },
  {
   "cell_type": "code",
   "execution_count": 190,
   "metadata": {},
   "outputs": [
    {
     "data": {
      "text/plain": [
       "0"
      ]
     },
     "execution_count": 190,
     "metadata": {},
     "output_type": "execute_result"
    }
   ],
   "source": [
    "binary_search_normal_person(a, )"
   ]
  },
  {
   "cell_type": "code",
   "execution_count": 169,
   "metadata": {},
   "outputs": [
    {
     "data": {
      "text/plain": [
       "1"
      ]
     },
     "execution_count": 169,
     "metadata": {},
     "output_type": "execute_result"
    }
   ],
   "source": [
    "binary_search(a, 8)"
   ]
  },
  {
   "cell_type": "code",
   "execution_count": null,
   "metadata": {},
   "outputs": [],
   "source": []
  },
  {
   "cell_type": "code",
   "execution_count": 189,
   "metadata": {},
   "outputs": [],
   "source": [
    "#current a fail \n",
    "def binary_search_normal_person(array, key):\n",
    "    '''\n",
    "    takes in a key and a sorted array and returns \n",
    "    index in array where key occurs using binary search\n",
    "    '''\n",
    "    I = (len(array)) // 2\n",
    "    L = 0\n",
    "    H = len(array) - 1\n",
    "    while(H - L >= 0):\n",
    "        if(array[I] == key):\n",
    "            return I\n",
    "        elif array[I] > key:\n",
    "            H = I\n",
    "            I = (L + I) // 2\n",
    "        elif array[I] < key:\n",
    "            L = I\n",
    "            I = (H + I) // 2\n",
    "    \n",
    "    return None\n",
    "            "
   ]
  },
  {
   "cell_type": "code",
   "execution_count": null,
   "metadata": {},
   "outputs": [],
   "source": [
    "[0, 1, 2, 3, 4, 5, 6, 7, 8, 9]\n",
    "[0, 1, 2, 3, 4, 5, 6, 7, 8, 9, 10]\n",
    "[]\n",
    "[0]\n",
    "[0, 1]"
   ]
  },
  {
   "cell_type": "code",
   "execution_count": 195,
   "metadata": {},
   "outputs": [
    {
     "data": {
      "text/plain": [
       "-1"
      ]
     },
     "execution_count": 195,
     "metadata": {},
     "output_type": "execute_result"
    }
   ],
   "source": [
    "(-1 - 0) // 2"
   ]
  },
  {
   "cell_type": "code",
   "execution_count": 211,
   "metadata": {},
   "outputs": [],
   "source": [
    "def binary_search_redo_normal_person(array, value):\n",
    "    L = 0\n",
    "    H = len(array) - 1\n",
    "    M = (H - L) // 2\n",
    "    while (L <= H):\n",
    "        if (value == array[M]):\n",
    "            return M\n",
    "        elif (value > array[M]):\n",
    "            L = M + 1\n",
    "            M = (H + L) // 2\n",
    "        elif(value < array[M]):\n",
    "            H = M - 1\n",
    "            M = (H + L) // 2\n",
    "    return 'Fail'"
   ]
  },
  {
   "cell_type": "code",
   "execution_count": null,
   "metadata": {},
   "outputs": [],
   "source": [
    "'''jon bentleyys buggy binary search'''\n",
    "def bsearch(t, A):\n",
    "    L = 0\n",
    "    U = len(A) - 1\n",
    "    while(L <= U):\n",
    "        M = (L + U) // 2 #bug on this line!!!!!!!!!!!!!!!!\n",
    "        if A[M] < t:\n",
    "            L = M + 1\n",
    "        elif A[M] == t:\n",
    "            return M\n",
    "        else:\n",
    "            U = M - 1\n",
    "    return -1"
   ]
  },
  {
   "cell_type": "markdown",
   "metadata": {},
   "source": [
    "    M = (L + U) // 2 \n",
    "- fails when the sum of L + U is greater than the maximum possible integer\n",
    "- it overflows into negative numbers and then divides in negative numbers, giving a negative index. \n",
    "- fix:\n",
    "        \n",
    "      M = L + (U - L) // 2 \n",
    "  "
   ]
  },
  {
   "cell_type": "markdown",
   "metadata": {},
   "source": [
    "- Binary search complexity: T(n) = T(n/2) + c  -> O(log N) WAY BETTER than brute force O(N)\n",
    "    - sucks cuz required sorted array which costs O(n log n)\n",
    "        - worf if search multiple times"
   ]
  },
  {
   "cell_type": "markdown",
   "metadata": {},
   "source": [
    "#### searching boot camp:\n",
    "pass array of students sorted by descending gpa ties broken on name"
   ]
  },
  {
   "cell_type": "code",
   "execution_count": null,
   "metadata": {},
   "outputs": [],
   "source": [
    "class Student:\n",
    "    def __init__(self, name, gpa):\n",
    "        self.name = name\n",
    "        self.gpa = gpa\n",
    "\n",
    "    def __lt__(self, other):\n",
    "        return self.gpa < other.gpa\n",
    "\n",
    "    def ___le__(self, other):\n",
    "        return self.gpa <= other.gpa\n",
    "\n",
    "    def __eq__(self, other):\n",
    "        return self.gpa == other.gpa\n",
    "\n",
    "    def __ne__(self, other):\n",
    "        return self.gpa != other.gpa\n",
    "\n",
    "    def __gt__(self, other):\n",
    "        return self.gpa > other.gpa\n",
    "\n",
    "    def __ge__(self, other):\n",
    "        return self.gpa >= other.gpa\n"
   ]
  },
  {
   "cell_type": "markdown",
   "metadata": {},
   "source": [
    "- BINARY SEARCH IS O(LOG N) ON SORTED ARRAYS! RV\n",
    "- BUT SORTING in O(N LOG N)"
   ]
  },
  {
   "cell_type": "code",
   "execution_count": null,
   "metadata": {},
   "outputs": [],
   "source": [
    "#bootcamp \n",
    "'''using the builtin binary search routine. takes args (sorted list, query)'''\n",
    "\n",
    "'''creates a tuple that has a specific name. pretty much like defining a class.'''\n",
    "Student = collections.namedtuple('Student', ('name', 'grade_point_average'))\n",
    "\n",
    "def comp_gpa(student):\n",
    "    '''inverts the gpa so largest to smallest becomes smallest to largest'''\n",
    "    return (-student.grade_point_average, student.name)\n",
    "\n",
    "'''array of students, query, and function pointer'''\n",
    "def search_student (students, target, comp_gpa):\n",
    "    i = bisect.bisect_left ([comp_gpa(s) for s in students], comp_gpa(target))\n",
    "    return 0 <= i < len(students) and students[i] == target\n"
   ]
  },
  {
   "cell_type": "markdown",
   "metadata": {},
   "source": [
    "BINARY SEARCH TIPS:\n",
    "- good to search sorted stuff or anything that is analogous - like intervals of real nums.\n",
    "- RV If your solution uses sorting, and the computation performed after sorting is faster than sorting,\n",
    "e.g., O(n) or O(log n), look for solutions that do not perform a complete sort\n",
    "- RV Consider time/space tradeoffs, such as making multiple passes through the data"
   ]
  },
  {
   "cell_type": "markdown",
   "metadata": {},
   "source": [
    "python builtin searching:\n",
    "- use these in interview if i can instead of implementing it myself.\n",
    "\n",
    "import bisect # where we have A = sorted array, X = a query\n",
    "    - bisect.bisect_left(A, X) \n",
    "        - returns the index of the first entry that is >= the targeted value\n",
    "    - bisect.bisect_right(A,X)\n",
    "        - returns the index of the first entry that is > the targeted \n",
    "            - both return len(A) if X all a in A don't satisfy that requirement \n",
    "            "
   ]
  },
  {
   "cell_type": "markdown",
   "metadata": {},
   "source": [
    "### 11.3 - Searching a cylically sorted array\n",
    "an array is said to be cyclically sorted if it is possible to cyclically shift its entries so that it becomes sorted. For example: [378, 478, 550, 631, 103, 203, 220, 234, 279, 368]\n",
    "is cyclically sorted\n",
    "\n",
    "design a O(log N) algorithm for finding the position of the smallest element in a cyclically sorted array. Assume all elements are distinct. For example, the above array should return 4\n",
    "HINT:"
   ]
  },
  {
   "cell_type": "code",
   "execution_count": 60,
   "metadata": {},
   "outputs": [],
   "source": [
    "#hint added IT WORKS\n",
    "def search_cyclical(A):\n",
    "    L = 0 \n",
    "    H = len(A) - 1\n",
    "    while( L < H):\n",
    "        M = (L + H) // 2\n",
    "        #then the entire array at this stage is sorted\n",
    "        if (A[L] <= A[H]):\n",
    "            return L\n",
    "        #then both subarrays are sorted.\n",
    "        elif (A[L] <= A[M]) and (A[M+1] <= A[H]):\n",
    "            return M + 1\n",
    "        #then just the left subarray is not sorted\n",
    "        elif not (A[L] <= A[M]) and (A[M+1] <= A[H]):\n",
    "            H = M\n",
    "        #then just the rightarray is not sorted\n",
    "        elif (A[L] <= A[M]) and not (A[M+1] <= A[H]):\n",
    "            L = M + 1\n",
    "            \n",
    "    return 'fail'\n"
   ]
  },
  {
   "cell_type": "code",
   "execution_count": 61,
   "metadata": {},
   "outputs": [
    {
     "name": "stdout",
     "output_type": "stream",
     "text": [
      "4\n",
      "6\n",
      "0\n",
      "1\n",
      "1\n"
     ]
    }
   ],
   "source": [
    "def cyclic_search(array):\n",
    "    L, H = 0, len(array) - 1\n",
    "    while True:\n",
    "        if array[L] < array[H]:\n",
    "            return L\n",
    "        elif H == L + 1:\n",
    "            return H\n",
    "        M = L + (H - L) // 2\n",
    "        if array[L] < array[M]:\n",
    "            L = M\n",
    "        else:\n",
    "            H = M\n",
    " \n",
    "array = [7,1 8, 9, 10, , 2, 3, 4, 5, 6]\n",
    " \n",
    "print(cyclic_search(array))\n",
    " \n",
    "array = [5, 6, 7, 8, 9, 10, 1, 2, 3, 4]\n",
    " \n",
    "print(cyclic_search(array))\n",
    " \n",
    "array = [1, 2, 3, 4, 5, 6, 7, 8, 9, 10]\n",
    " \n",
    "print(cyclic_search(array))\n",
    " \n",
    "array = [10, 1, 2, 3, 4, 5, 6, 7, 8, 9]\n",
    " \n",
    "print(cyclic_search(array))\n",
    " \n",
    "array = [1, 1, 1, 1, 1, 1, 1, 1, 1]\n",
    " \n",
    "print(cyclic_search(array))"
   ]
  },
  {
   "cell_type": "code",
   "execution_count": null,
   "metadata": {},
   "outputs": [],
   "source": [
    "#this is their solution\n",
    "def search_smallest_book(A):\n",
    "    left, right = 0, len(A) - 1\n",
    "    while left < right:\n",
    "        mid = (left + right) // 2\n",
    "        if A[mid] > A[right]:\n",
    "            #min must be in A[mid + 1: right + 1]\n",
    "            left = mid + 1\n",
    "        else:\n",
    "            '''A[mid] < A[right]'''\n",
    "            # min cannot be in A[ mid + 1 : right + 1] so it must be in A[left: mid + 1].\n",
    "            right = mid\n",
    "    #loop ends when left = right\n",
    "    return left"
   ]
  },
  {
   "cell_type": "code",
   "execution_count": null,
   "metadata": {},
   "outputs": [],
   "source": []
  },
  {
   "cell_type": "code",
   "execution_count": null,
   "metadata": {},
   "outputs": [],
   "source": []
  },
  {
   "cell_type": "code",
   "execution_count": null,
   "metadata": {},
   "outputs": [],
   "source": []
  },
  {
   "cell_type": "code",
   "execution_count": 46,
   "metadata": {},
   "outputs": [],
   "source": [
    "# same a s 4 iterator solution but changed how we compute Mh to the overflow method (refer to binary search notes)\n",
    "def search_cyclical_actually_fast(array):\n",
    "    L = 0 \n",
    "    H = len(array) - 1\n",
    "    Mh = ( L + H ) //2\n",
    "    Ml = Mh - 1\n",
    "    \n",
    "    while(L <= H and L <= Ml and Mh <= H):\n",
    "        if array[L] <= array[Ml] and array[Mh] <= array[H]:\n",
    "            return L\n",
    "        elif array[L] <= array[Ml]:\n",
    "            L = Mh\n",
    "            Mh = ( L + H ) //2\n",
    "            Ml = Mh - 1\n",
    "        elif array[Mh] <= array[H]:\n",
    "            H = Ml\n",
    "            Mh = ( L + H ) //2\n",
    "            Ml = Mh - 1\n",
    "    \n",
    "    return 'fail'"
   ]
  },
  {
   "cell_type": "code",
   "execution_count": 27,
   "metadata": {},
   "outputs": [],
   "source": [
    "''' uses 4 iterators doesnt work'''\n",
    "def search_cyclical_actually_fast(array):\n",
    "    L = 0 \n",
    "    H = len(array) - 1\n",
    "    Mh = L + (H - L) // 2 \n",
    "    Ml = Mh - 1\n",
    "    \n",
    "    while(L <= H and L <= Ml and Mh <= H):\n",
    "        if array[L] <= array[Ml] and array[Mh] <= array[H]:\n",
    "            return L\n",
    "        elif array[L] <= array[Ml]:\n",
    "            L = Mh\n",
    "            Mh = L + (H - L) // 2 \n",
    "            Ml = Mh - 1\n",
    "        elif array[Mh] <= array[H]:\n",
    "            H = Ml\n",
    "            Mh = L + (H - L) // 2 \n",
    "            Ml = Mh - 1\n",
    "    \n",
    "    return 'fail'"
   ]
  },
  {
   "cell_type": "code",
   "execution_count": 26,
   "metadata": {},
   "outputs": [],
   "source": [
    "'''fuck Ml  ignores the second middlepoint - doesnt work, uses 3 iterators''' \n",
    "def search_cyclical_actually_fast(array):\n",
    "    L = 0 \n",
    "    H = len(array) - 1\n",
    "    M = L + (H - L) // 2 \n",
    "    \n",
    "    while(L <= H and L <= M and M <= H):\n",
    "        if array[L] <= array[M] and array[M] <= array[H]:\n",
    "            return M\n",
    "        elif array[L] <= array[M]:\n",
    "            L = M\n",
    "            M = L + (H - L) // 2 \n",
    "        elif array[M] <= array[H]:\n",
    "            H = M\n",
    "            M = L + (H - L) // 2 \n",
    "    \n",
    "    return 'fail'"
   ]
  },
  {
   "cell_type": "code",
   "execution_count": 53,
   "metadata": {},
   "outputs": [
    {
     "data": {
      "text/plain": [
       "3"
      ]
     },
     "execution_count": 53,
     "metadata": {},
     "output_type": "execute_result"
    }
   ],
   "source": [
    "'''regular case'''\n",
    "search_cyclical_actually_fast([ 478, 550, 631, 103, 203, 220, 234, 279, 368])\n"
   ]
  },
  {
   "cell_type": "code",
   "execution_count": 59,
   "metadata": {},
   "outputs": [
    {
     "data": {
      "text/plain": [
       "3"
      ]
     },
     "execution_count": 59,
     "metadata": {},
     "output_type": "execute_result"
    }
   ],
   "source": [
    "'''n = m'''\n",
    "search_cyclical_actually_fast([ 478, 550, 631, 103, 203, 220])\n"
   ]
  },
  {
   "cell_type": "code",
   "execution_count": 54,
   "metadata": {},
   "outputs": [
    {
     "data": {
      "text/plain": [
       "0"
      ]
     },
     "execution_count": 54,
     "metadata": {},
     "output_type": "execute_result"
    }
   ],
   "source": [
    "'''sorted case'''\n",
    "search_cyclical_actually_fast([1, 2, 3, 4, 5, 6, 7, 8])"
   ]
  },
  {
   "cell_type": "code",
   "execution_count": 55,
   "metadata": {},
   "outputs": [
    {
     "data": {
      "text/plain": [
       "0"
      ]
     },
     "execution_count": 55,
     "metadata": {},
     "output_type": "execute_result"
    }
   ],
   "source": [
    "'''same case'''\n",
    "search_cyclical_actually_fast([2, 2, 2, 2, 2, 2, 2, 2, 2, 2, 2, 2])"
   ]
  },
  {
   "cell_type": "code",
   "execution_count": 56,
   "metadata": {},
   "outputs": [
    {
     "data": {
      "text/plain": [
       "1"
      ]
     },
     "execution_count": 56,
     "metadata": {},
     "output_type": "execute_result"
    }
   ],
   "source": [
    "'''left length is 1'''\n",
    "search_cyclical_actually_fast([631, 103, 203, 220, 234, 279, 368])\n"
   ]
  },
  {
   "cell_type": "code",
   "execution_count": 57,
   "metadata": {},
   "outputs": [
    {
     "data": {
      "text/plain": [
       "4"
      ]
     },
     "execution_count": 57,
     "metadata": {},
     "output_type": "execute_result"
    }
   ],
   "source": [
    "'''right length is 1'''\n",
    "search_cyclical_actually_fast([378, 478, 550, 631, 368])\n"
   ]
  },
  {
   "cell_type": "code",
   "execution_count": 221,
   "metadata": {},
   "outputs": [
    {
     "name": "stderr",
     "output_type": "stream",
     "text": [
      "UsageError: %%script is a cell magic, but the cell body is empty.\n"
     ]
    }
   ],
   "source": [
    "%%script false\n",
    "[378, 478, 550, 631, 103, 203, 220, 234, 279, 368]\n",
    "-> 4\n",
    "[b1, b2, b3, ..., bN, s1, s2, s3, ... sM]\n",
    "let K = N + M\n",
    "K = len(array)\n",
    "\n",
    "'''case sorted: N = 0'''\n",
    "[s1, s2, s3, ...., sM]\n",
    "\n",
    "'''case N = 1'''\n",
    "[b1, s1, ..., sM]\n",
    "\n",
    "'''case N = K - 1'''\n",
    "[b1, b2, b3, ..., bk-1, s1]\n",
    "\n",
    "'''case N = M = K/2 = i'''\n",
    "[b1, b2, b3,..., bi, s1, s2, s3, ..., si]\n",
    "\n",
    "'''case si = sj = bi = bj = x for all i, j'''\n",
    "[x, x, x, x, ... ,x]"
   ]
  },
  {
   "cell_type": "code",
   "execution_count": 3,
   "metadata": {},
   "outputs": [],
   "source": [
    "'''problems - this is still O(N) in worst case where the smallest element in middle. garbonzo beans'''\n",
    "    ''' if you acess each element of the array even if you dont loop N times, its still O(N)'''\n",
    "def search_cyclical(array):    \n",
    "    H = len(array) - 1\n",
    "    L = 0\n",
    "    smallestIndex = None\n",
    "    while(L <= H):\n",
    "        if array[L] >= array[H]:\n",
    "            smallestIndex = H\n",
    "        else:\n",
    "            smallestIndex = L\n",
    "            break\n",
    "        L += 1\n",
    "        H -= 1\n",
    "        \n",
    "    return smallestIndex"
   ]
  },
  {
   "cell_type": "code",
   "execution_count": 4,
   "metadata": {},
   "outputs": [
    {
     "data": {
      "text/plain": [
       "4"
      ]
     },
     "execution_count": 4,
     "metadata": {},
     "output_type": "execute_result"
    }
   ],
   "source": [
    "search_cyclical([378, 478, 550, 631, 103, 203, 220, 234, 279, 368])"
   ]
  },
  {
   "cell_type": "markdown",
   "metadata": {},
   "source": [
    "### 11.9 - Find the missing IP address\n",
    "The storage capacity of hard drives dwarfs that of RAM. this can lead to interesting space-time trade-offs\n",
    "\n",
    "Suppose you are given a file containing roughly 1 billion IP addresses, each of which is a 32-bit quantity. How would you programmatically find an IP address that is not in the file? Assume you have unlimited disk space but limited (megabytes) of ram\n",
    "HINT: dont read this yet"
   ]
  },
  {
   "cell_type": "markdown",
   "metadata": {},
   "source": [
    "- preproblem takeaway\n",
    "   - we can use binary search to search the range of all real numbers, instead just of a sorted array. \n",
    "       - problem is complicated (personally) so im going to skip it"
   ]
  },
  {
   "cell_type": "code",
   "execution_count": null,
   "metadata": {},
   "outputs": [],
   "source": [
    "def findqueryinfile(file, query):\n",
    "    "
   ]
  },
  {
   "cell_type": "markdown",
   "metadata": {},
   "source": [
    "## Chapter 12: hash tables - 12.1, 12.6"
   ]
  },
  {
   "cell_type": "markdown",
   "metadata": {},
   "source": [
    "- data structure storing keys with corresponding values\n",
    "- O(1) insert, delete, lookup on average\n",
    "- store keys in an array, whose locations are specified by the key's hash\n",
    "    hash computeed from the hash function h, yielding a hash h(k) from a key k\n",
    "        - good hash functions distribute keys uniformly across the array\n",
    "        - bad hash functions have collisons, where more than one key will have same hash\n",
    "            - have a linked list of objects at each location to deal with each location\n",
    "            - or ahave a tree!\n",
    "            - or have nothing and look for next free element (not recommended)\n",
    "\n",
    "- given a good hash function (most important), average insert/delete/lookup is O(1 + load) \n",
    "    - where load = (n/m), and n= # objects, m=len(array)\n",
    "        - when load is large, rehashing is done, moving the objects to a newly allocated larger array\n",
    "            - rehashing costs O(n+m) time, but done infrequently so amortized cost is low"
   ]
  },
  {
   "cell_type": "markdown",
   "metadata": {},
   "source": [
    "HASH TABLE TIPS:\n",
    "- they are the best.\n",
    "- O(1) insert, delete, lookup\n",
    "    - O(n) insert if hash table has to be resized\n",
    "        - technically O(n +m), but you double M usually (length of array) so O(N +1/2) ~~ N\n",
    "- RV use a hash code as a SIGNATURE to enhance performance in filtering out candidates\n",
    "- RV lookup table (hash table) might be better than if-then code for mappings \n",
    "- RV defining your own class type to put in a hash table as a key, need to define (1) how the hash is done, (2) how equality is done\n",
    "- a multimap is a map that contains multiple values for a single key"
   ]
  },
  {
   "cell_type": "markdown",
   "metadata": {},
   "source": [
    "hash function requirement \n",
    "- equal keys need equal hash codes (obviously?)\n",
    "- hash codes need to be uniformly distibuted \n",
    "- hash function is efficient/quick operation\n"
   ]
  },
  {
   "cell_type": "markdown",
   "metadata": {},
   "source": [
    "example design hash function for strings\n",
    "- should obviously utilize all characters in the string equally contributing to the hash code and hash code should have large range\n",
    "- a rolling hash fucntion is one where if i replace a character at the end of the string key, the new hash is still computed in O(1)"
   ]
  },
  {
   "cell_type": "code",
   "execution_count": null,
   "metadata": {},
   "outputs": [],
   "source": [
    "def string_hash (s, modulus):\n",
    "    MULT = 997\n",
    "    return functools .reduce(lambda v, c: (v * MULT + ord(c)) % modulus , s, 0)\n"
   ]
  },
  {
   "cell_type": "markdown",
   "metadata": {},
   "source": [
    "hash tables good represent a dict (set of strings)\n",
    "    - a trie is a tree used to store dynamic set of strings and nodes position in tree defines key association instead of storing a key (or data)"
   ]
  },
  {
   "cell_type": "markdown",
   "metadata": {},
   "source": [
    "common mistake: key that is present already in a hash table will be updated\n",
    "    - lookup for this key will now fail even though its in the table\n",
    "    if u want to update a key, remove it, then update it, then add it back\n",
    "        - this is specifically modifying a KEY that exists already in the table\n",
    "        (use immutable objects as keys.)"
   ]
  },
  {
   "cell_type": "markdown",
   "metadata": {},
   "source": [
    "HASH TABLES BOOT CAMP 1 - APPLICATION SPEED & CUSTOM HASH TABLE CLASS\n",
    "write a program that takes input set of words and returns groups of anagrams for those words, where each group has at least two words"
   ]
  },
  {
   "cell_type": "code",
   "execution_count": null,
   "metadata": {},
   "outputs": [],
   "source": [
    "example IN: [“debitcard”, “elvis”, “silent”, “badcredit”, “lives”, “freedom”,\n",
    "“listen”, “levis”, “money”]\n",
    "    \n",
    "example OUT: : (1.) “debitcard”, “badcredit”;\n",
    "(2.) “elvis”, “lives”, “levis”; (3.) “silent”, “listen”"
   ]
  },
  {
   "cell_type": "code",
   "execution_count": 67,
   "metadata": {},
   "outputs": [
    {
     "data": {
      "text/plain": [
       "1"
      ]
     },
     "execution_count": 67,
     "metadata": {},
     "output_type": "execute_result"
    }
   ],
   "source": [
    "seto = set()\n",
    "seto.add('dudewtf')\n",
    "len(seto)"
   ]
  },
  {
   "cell_type": "code",
   "execution_count": 72,
   "metadata": {},
   "outputs": [],
   "source": [
    "examplestrings = ['debitcard', 'elvis', 'silent', 'badcredit', 'lives', 'freedom',\n",
    "'listen', 'levis', 'money']"
   ]
  },
  {
   "cell_type": "code",
   "execution_count": 62,
   "metadata": {},
   "outputs": [
    {
     "data": {
      "text/plain": [
       "['d', 'd', 'e', 'f', 't', 'u', 'w']"
      ]
     },
     "execution_count": 62,
     "metadata": {},
     "output_type": "execute_result"
    }
   ],
   "source": [
    "string = 'dudewtf'\n",
    "sortedstring = str(sorted(string))\n",
    "dicto = {}\n",
    "dicto[sortedstring] = set()\n",
    "dicto[sortedstring].add(string)\n"
   ]
  },
  {
   "cell_type": "code",
   "execution_count": 81,
   "metadata": {},
   "outputs": [],
   "source": [
    "#brute force\n",
    "'''N = num strings, M = maximum string length'''\n",
    "def anagram_grouping(stringList):\n",
    "    dicto = {} #O(1)\n",
    "    for string in stringList: #O(N)\n",
    "        sortedString = str(sorted(string)) #O (M LOG M)\n",
    "        if sortedString not in dicto.keys(): #O( N - i)\n",
    "            dicto[sortedString] = set() #O(1)\n",
    "            dicto[sortedString].add(string) #O(1)\n",
    "        else:\n",
    "            if string not in dicto[sortedString]: #O(N -i)\n",
    "                dicto[sortedString].add(string)\n",
    "                \n",
    "    for key in list(dicto.keys()): #O(N)\n",
    "        if len(dicto[key]) == 1:\n",
    "            del dicto[key]\n",
    "    \n",
    "    return dicto\n",
    "\n",
    "#O(n^2 m log m)"
   ]
  },
  {
   "cell_type": "code",
   "execution_count": 82,
   "metadata": {},
   "outputs": [
    {
     "data": {
      "text/plain": [
       "{\"['a', 'b', 'c', 'd', 'd', 'e', 'i', 'r', 't']\": {'badcredit', 'debitcard'},\n",
       " \"['e', 'i', 'l', 's', 'v']\": {'elvis', 'levis', 'lives'},\n",
       " \"['e', 'i', 'l', 'n', 's', 't']\": {'listen', 'silent'}}"
      ]
     },
     "execution_count": 82,
     "metadata": {},
     "output_type": "execute_result"
    }
   ],
   "source": [
    "anagram_grouping(examplestrings)"
   ]
  },
  {
   "cell_type": "markdown",
   "metadata": {},
   "source": [
    "pretty much what i did but cleaner and porobably not as inefficient and doesnt care about duplicates"
   ]
  },
  {
   "cell_type": "code",
   "execution_count": 88,
   "metadata": {},
   "outputs": [
    {
     "data": {
      "text/plain": [
       "'Looking more carefully at the above computation, note that the key idea is to map strings to\\na representative. Given any string, its sorted version can be used as a unique identifier for the\\nanagram group it belongs to. What we want is a map from a sorted string to the anagrams it\\ncorresponds to. Anytime you need to store a set of strings, a hash table is an excellent choice. Our\\n43\\nfinal algorithm proceeds by adding sort(s) for each string s in the dictionary to a hash table. The\\nsorted strings are keys, and the values are arrays of the corresponding strings from the original\\ninput'"
      ]
     },
     "execution_count": 88,
     "metadata": {},
     "output_type": "execute_result"
    }
   ],
   "source": [
    "def find_anagrams ( dictionary ):\n",
    "    import collections\n",
    "    sorted_string_to_anagrams = collections.defaultdict (list)\n",
    "    for s in dictionary :\n",
    "        # Sorts the string , uses it as a key , and then appends the original\n",
    "        # string as another value into hash table.\n",
    "        sorted_string_to_anagrams [''.join(sorted(s))].append(s)\n",
    "    return [\n",
    "        group for group in sorted_string_to_anagrams.values () if len(group) >= 2\n",
    "    ]\n",
    "'''Looking more carefully at the above computation, note that the key idea is to map strings to\n",
    "a representative. Given any string, its sorted version can be used as a unique identifier for the\n",
    "anagram group it belongs to. What we want is a map from a sorted string to the anagrams it\n",
    "corresponds to. Anytime you need to store a set of strings, a hash table is an excellent choice. Our\n",
    "43\n",
    "final algorithm proceeds by adding sort(s) for each string s in the dictionary to a hash table. The\n",
    "sorted strings are keys, and the values are arrays of the corresponding strings from the original\n",
    "input'''\n",
    "\n"
   ]
  },
  {
   "cell_type": "code",
   "execution_count": 89,
   "metadata": {},
   "outputs": [
    {
     "data": {
      "text/plain": [
       "[['debitcard', 'badcredit'], ['elvis', 'lives', 'levis'], ['silent', 'listen']]"
      ]
     },
     "execution_count": 89,
     "metadata": {},
     "output_type": "execute_result"
    }
   ],
   "source": [
    "find_anagrams(examplestrings)"
   ]
  },
  {
   "cell_type": "markdown",
   "metadata": {},
   "source": [
    "HASH TABLES BOOT CAMP 2 - APPLICATION SPEED & CUSTOM HASH TABLE CLASS\n",
    "hashtable class"
   ]
  },
  {
   "cell_type": "markdown",
   "metadata": {},
   "source": [
    "##### the point of this example was to create a new class that can be used in a hash table as a key\n",
    "    - you have to define (1) how the hashing occurs, (2) how equality is done, "
   ]
  },
  {
   "cell_type": "code",
   "execution_count": null,
   "metadata": {},
   "outputs": [],
   "source": [
    "class ContactList :\n",
    "    def __init__(self , names):\n",
    "        '''\n",
    "        names is a list of strings.\n",
    "        '''\n",
    "        self.names = names\n",
    "    def __hash__(self):\n",
    "        # Conceptually we want to hash the set of names. Since the set type is\n",
    "        # mutable , it cannot be hashed. Therefore we use frozenset .\n",
    "        return hash(frozenset(self.names))\n",
    "    def __eq__(self , other):\n",
    "        return set(self.names) == set(other.names)\n",
    "    def merge_contact_lists ( contacts):\n",
    "        '''\n",
    "        contacts is a list of ContactList .\n",
    "        '''\n",
    "        return list(set(contacts))"
   ]
  },
  {
   "cell_type": "markdown",
   "metadata": {},
   "source": [
    "python hash table libraries:\n",
    "RV set, dict, collections.defaultdict, collections.counter (good for key counting!)\n",
    "    set only stores keys, others store key-values\n",
    "        all do not allow duplciate keys (or just 'data', like a list allows duplicates)\n",
    "\n",
    ".keys() gives iteration over just keys\n",
    ".items() gives iteration over key-values\n",
    ".values gives iteration over just values"
   ]
  },
  {
   "cell_type": "code",
   "execution_count": null,
   "metadata": {},
   "outputs": [],
   "source": [
    "%%script false\n",
    "set()\n",
    "set.add(x)\n",
    "(set.remove(x), set.discard(x) : these both do the same thing, except discard doesn't throw an error if the x isnt in the set, while remove will throw an error)\n",
    "x in set\n",
    "s <= t (s is a subset of t, boolean return )\n",
    "s - t (elements in s that are not in t)"
   ]
  },
  {
   "cell_type": "markdown",
   "metadata": {},
   "source": [
    "### 12.1 - test for palindromic permutations: \n",
    "a palindrome is a string that reads the same forwards and backwards. \n",
    "\n",
    "write a program to test whether the letters forming a string can be permuted to form a palindrome. for example, 'edified' can be permuted to form 'deified'\n",
    "\n",
    "HINT: dont look at it =)"
   ]
  },
  {
   "cell_type": "code",
   "execution_count": 101,
   "metadata": {},
   "outputs": [
    {
     "data": {
      "text/plain": [
       "True"
      ]
     },
     "execution_count": 101,
     "metadata": {},
     "output_type": "execute_result"
    }
   ],
   "source": [
    "palindromic_able('edified')"
   ]
  },
  {
   "cell_type": "code",
   "execution_count": 100,
   "metadata": {},
   "outputs": [],
   "source": [
    "def palindromic_able(string):\n",
    "    if len(string) == 0 or len(string) == 1: \n",
    "        return True #it can be permuted to form a palindrome because its already one!\n",
    "    elif len(string) == 2:\n",
    "        if string[0] == string[1]:\n",
    "            return True\n",
    "        else:\n",
    "            return False\n",
    "    else:     #everything up to here is O(1) time\n",
    "        #put the characters of the string into a hash table that counts freq of ea char\n",
    "        table = {} #O(n) space\n",
    "        for ch in string: #O(n) time\n",
    "            if ch not in table.keys():\n",
    "                table[ch] = 1\n",
    "            else:\n",
    "                table[ch] += 1\n",
    "        \n",
    "        #now go through each key-value and count # odd counts\n",
    "        oddcounts = 0\n",
    "        for count in table.values(): #O(n) time\n",
    "            if count % 2 == 1:\n",
    "                oddcounts += 1\n",
    "        \n",
    "        '''everything below is O(1) time'''\n",
    "        #bin into odd and even\n",
    "        if len(string) % 2 == 0: #even\n",
    "            #requires 0 oddcounts\n",
    "            if oddcounts == 0:\n",
    "                return True\n",
    "            elif oddcounts > 0:\n",
    "                return False\n",
    "            else:\n",
    "                print('never get here')\n",
    "        elif len(string) % 2 == 1: #odd\n",
    "            #requires exactly 1 oddcount\n",
    "            if oddcounts == 1:\n",
    "                return True\n",
    "            else:\n",
    "                return False\n",
    "    \n",
    "    return False"
   ]
  },
  {
   "cell_type": "markdown",
   "metadata": {},
   "source": [
    "Time space complexity is both O(N)."
   ]
  },
  {
   "cell_type": "code",
   "execution_count": 102,
   "metadata": {},
   "outputs": [
    {
     "data": {
      "text/plain": [
       "Counter({'d': 2, 'u': 1, 'e': 1, 'w': 1, 't': 1, 'f': 1, 'b': 2, 'q': 1})"
      ]
     },
     "execution_count": 102,
     "metadata": {},
     "output_type": "execute_result"
    }
   ],
   "source": [
    "import collections\n",
    "collections.Counter('dudewtfbbq')"
   ]
  },
  {
   "cell_type": "code",
   "execution_count": null,
   "metadata": {},
   "outputs": [],
   "source": [
    "# book soltuion\n",
    "def can_string_be_a_palindrome(s):\n",
    "    # a string of characters can be permuted to form a palindrome IFF the number\n",
    "    #of chars whose frequency is odd is at most 1\n",
    "    return sum(v % 2 for v in collections.Counter(s).values()) <= 1"
   ]
  },
  {
   "cell_type": "markdown",
   "metadata": {},
   "source": [
    "### 12.6 - find the nearest repeated entries in an array\n",
    "people do not like reading text in which a word is used multiple times in a short paragraph. you are to write a program which helps identify such a problem. \n",
    "write a progrma that takes input an array and finds the distancee between a closest pair of equal entries, returniong that closest distance\n"
   ]
  },
  {
   "cell_type": "code",
   "execution_count": null,
   "metadata": {},
   "outputs": [],
   "source": [
    "# brute force  - extremely brute force - iterates through redudant list elements\n",
    "def closest_distance_repeated_entries(array):\n",
    "    '''takes in a array and returns the maximum possible distance between two equivalent entries'''\n",
    "    dicto = {}\n",
    "    i = 0\n",
    "    while (i < len(array)):\n",
    "        if array[i] not in dicto.keys():\n",
    "            dicto[array[i]] = []\n",
    "            dicto[array[i]].append(i)\n",
    "        else:\n",
    "            dicto[array[i]].append(i)\n",
    "        i += 1\n",
    "    '''\n",
    "    dicto is a dict of lists, where the key is a unique element in array\n",
    "    the value (a list) contains the indices in the array where the unique element occurred\n",
    "    '''\n",
    "    \n",
    "    '''\n",
    "    now we want to iterate through each specific list of indicies and find each difference between\n",
    "    each index in each list, keeping track and updating the minimum as we go along\n",
    "    '''\n",
    "    \n",
    "    mindist = float(inf)\n",
    "    for indices in dicto.values():\n",
    "        for index1 in indices:\n",
    "            for index2 in indices:\n",
    "                dist = abs(index1 - index2)\n",
    "                if dist < mindist:\n",
    "                    mindist = dist\n",
    "    \n",
    "    return mindist\n"
   ]
  },
  {
   "cell_type": "markdown",
   "metadata": {},
   "source": [
    "ABOVE AND BELOW BRUTE FORCE SOLUTIONS are both O(N^2) time and O(N) space"
   ]
  },
  {
   "cell_type": "code",
   "execution_count": null,
   "metadata": {},
   "outputs": [],
   "source": [
    "# brute force (first thing that came to mind)\n",
    "def closest_distance_repeated_entries(array):\n",
    "    '''takes in a array and returns the maximum possible distance between two equivalent entries'''\n",
    "    dicto = {}\n",
    "    i = 0\n",
    "    while (i < len(array)):\n",
    "        if array[i] not in dicto.keys():\n",
    "            dicto[array[i]] = []\n",
    "            dicto[array[i]].append(i)\n",
    "        else:\n",
    "            dicto[array[i]].append(i)\n",
    "        i += 1\n",
    "    '''\n",
    "    dicto is a dict of lists, where the key is a unique element in array\n",
    "    the value (a list) contains the indices in the array where the unique element occurred\n",
    "    '''\n",
    "    \n",
    "    '''\n",
    "    now we want to iterate through each specific list of indicies and find each difference between\n",
    "    each index in each list, keeping track and updating the minimum as we go along\n",
    "    '''\n",
    "    \n",
    "    # THIS mIGHT FAIL when we have an element in the array that only occurs once, because \n",
    "    mindist = float(inf)\n",
    "    for indices in dicto.values():\n",
    "        j = 0\n",
    "        while j <= len(indices):\n",
    "            k = j + 1\n",
    "            while k <= len(indices[k:]):\n",
    "                dist = abs(indices[k] - indices[j])\n",
    "                if dist <= mindist:\n",
    "                    mindist = dist\n",
    "    \n",
    "    return mindist\n",
    "        "
   ]
  },
  {
   "cell_type": "code",
   "execution_count": 103,
   "metadata": {},
   "outputs": [],
   "source": [
    "# slightly less brute force - compare adjacent indicies\n",
    "def closest_distance_repeated_entries(array):\n",
    "    '''takes in a array and returns the maximum possible distance between two equivalent entries'''\n",
    "    dicto = {}\n",
    "    i = 0\n",
    "    while (i < len(array)):\n",
    "        if array[i] not in dicto.keys():\n",
    "            dicto[array[i]] = []\n",
    "            dicto[array[i]].append(i)\n",
    "        else:\n",
    "            dicto[array[i]].append(i)\n",
    "        i += 1\n",
    "    '''\n",
    "    dicto is a dict of lists, where the key is a unique element in array\n",
    "    the value (a list) contains the indices in the array where the unique element occurred\n",
    "    '''\n",
    "    \n",
    "    # you should only compare adjacent indicies\n",
    "    mindist = float(inf)\n",
    "    for indices in dicto.values():\n",
    "        if len(indices) == 1:\n",
    "            continue\n",
    "        i = 1\n",
    "        while (i <= len(indices)):\n",
    "            dist = indices[i] - indices[i - 1]\n",
    "            i += 1\n",
    "    return mindist"
   ]
  },
  {
   "cell_type": "markdown",
   "metadata": {},
   "source": [
    "both time and space for this solution are O(2N) = O(N)"
   ]
  },
  {
   "cell_type": "code",
   "execution_count": 124,
   "metadata": {},
   "outputs": [],
   "source": [
    "# slightly less brute force - compare adjacent indicies - but with no lists inside values for the dict - instead, have the most recent index and compare as we pass the first time\n",
    "def closest_distance_repeated_entries(array):\n",
    "    '''takes in a array and returns the maximum possible distance between two equivalent entries'''\n",
    "    dicto = {}\n",
    "    i = 0\n",
    "    mindist = float('Inf')\n",
    "    while (i < len(array)):\n",
    "        if array[i] not in dicto.keys():\n",
    "            dicto[array[i]] = i\n",
    "        else:\n",
    "            dist = i - dicto[array[i]]\n",
    "            if dist < mindist:\n",
    "                mindist = dist\n",
    "            dicto[array[i]] = i\n",
    "        i += 1\n",
    "\n",
    "    return mindist"
   ]
  },
  {
   "cell_type": "code",
   "execution_count": 125,
   "metadata": {},
   "outputs": [],
   "source": [
    "test = [ 1, 2, 5, 1, 3, 4, 5]"
   ]
  },
  {
   "cell_type": "code",
   "execution_count": 126,
   "metadata": {},
   "outputs": [
    {
     "data": {
      "text/plain": [
       "3"
      ]
     },
     "execution_count": 126,
     "metadata": {},
     "output_type": "execute_result"
    }
   ],
   "source": [
    " closest_distance_repeated_entries(test)"
   ]
  },
  {
   "cell_type": "code",
   "execution_count": 138,
   "metadata": {},
   "outputs": [
    {
     "data": {
      "text/plain": [
       "inf"
      ]
     },
     "execution_count": 138,
     "metadata": {},
     "output_type": "execute_result"
    }
   ],
   "source": [
    "# gain insight tactildactyl\n",
    "from collections import defaultdict\n",
    "distance = defaultdict(lambda: float('inf'))\n",
    "distance[5]"
   ]
  },
  {
   "cell_type": "code",
   "execution_count": 133,
   "metadata": {},
   "outputs": [
    {
     "name": "stdout",
     "output_type": "stream",
     "text": [
      "0 1\n",
      "1 2\n",
      "2 5\n",
      "3 1\n",
      "4 3\n",
      "5 4\n",
      "6 5\n"
     ]
    }
   ],
   "source": [
    "for i, el in enumerate(test):\n",
    "    print(i, el)"
   ]
  },
  {
   "cell_type": "code",
   "execution_count": 140,
   "metadata": {},
   "outputs": [
    {
     "name": "stdout",
     "output_type": "stream",
     "text": [
      "3\n",
      "1\n",
      "4\n",
      "2\n",
      "1\n"
     ]
    }
   ],
   "source": [
    "from collections import defaultdict\n",
    " \n",
    "def closest_repeatTD(array):\n",
    "    last_idx = {}\n",
    "    distance = defaultdict(lambda: float('inf'))\n",
    "    for i, el in enumerate(array):\n",
    "        if el in last_idx:\n",
    "            if i - last_idx[el] < distance[el]:\n",
    "                distance[el] = i - last_idx[el]\n",
    "        last_idx[el] = i\n",
    "    return min(distance.values())\n",
    " \n",
    "print(closest_repeatTD(['i', 'a', 'b', 'i']))\n",
    "print(closest_repeatTD(['i', 'i', 'b', 'i']))\n",
    "print(closest_repeatTD(['i', 'a', 'b', 'c', 'i']))\n",
    "print(closest_repeatTD(['i', 'a', 'b', 'c', 'i', 'c']))\n",
    "print(closest_repeatTD(['i', 'a', 'a', 'c', 'i', 'c']))"
   ]
  },
  {
   "cell_type": "code",
   "execution_count": null,
   "metadata": {},
   "outputs": [],
   "source": [
    "def closest_repeatTD2(array):\n",
    "    last_idx = {}\n",
    "    min_distance = float('inf')\n",
    "    for i, el in enumerate(array):\n",
    "        if el in last_idx:\n",
    "            if i - last_idx[el] < min_distance:\n",
    "                min_distance = min(min_distance, i - last_idx[el])\n",
    "        last_idx[el] = i\n",
    "    return min_distance\n",
    " \n",
    "print(closest_repeatTD2(['i', 'a', 'b', 'i']))\n",
    "print(closest_repeatTD2(['i', 'i', 'b', 'i']))\n",
    "print(closest_repeatTD2(['i', 'a', 'b', 'c', 'i']))\n",
    "print(closest_repeatTD2(['i', 'a', 'b', 'c', 'i', 'c']))\n",
    "print(closest_repeatTD2(['i', 'a', 'a', 'c', 'i', 'c']))"
   ]
  },
  {
   "cell_type": "code",
   "execution_count": 141,
   "metadata": {},
   "outputs": [],
   "source": [
    "#Book soltuion\n",
    "def find_nearest_repetition(paragraph):\n",
    "    word_to_latest_index = {}\n",
    "    nearest_repeated_distance = float('Inf')\n",
    "    for i in word in enumerate(paragraph):\n",
    "        if word in word_to_latest_index:\n",
    "            latest_equal_word = word_to_latest_index[word]\n",
    "            nearest_repeated_distance = min(nearest_repeated_distance, i - latest_equal_word)\n",
    "        word_to_latest_index[word] = i\n",
    "    return nearest_repeated_distance"
   ]
  },
  {
   "cell_type": "markdown",
   "metadata": {},
   "source": [
    "fast soltuions are O(N) time since we go through each element in the array\n",
    "and are O(d) space, where d is number of unique entries "
   ]
  },
  {
   "cell_type": "markdown",
   "metadata": {},
   "source": [
    "## Chapter 13: sorting - 13.5"
   ]
  },
  {
   "cell_type": "markdown",
   "metadata": {},
   "source": [
    "what is sorting?\n",
    "- rearranging items into increasing or decreasing order"
   ]
  },
  {
   "cell_type": "code",
   "execution_count": null,
   "metadata": {},
   "outputs": [],
   "source": []
  },
  {
   "cell_type": "markdown",
   "metadata": {},
   "source": [
    "- garbo sorting is O(N^2) worst\n",
    "- most sorting algorithms are in O(n log n)\n",
    "- a stable sorting algorithm is one where entries which are equal appear in original order\n",
    "- fast quicksort is bae\n"
   ]
  },
  {
   "cell_type": "markdown",
   "metadata": {},
   "source": [
    "pros and cons of each - read up and study and memorize sorting algos (FML)\n",
    "- heapsort\n",
    "- mergesort\n",
    "- quicksort\n",
    "- insertion sort\n",
    "- heapsort\n",
    "- counting sort\n",
    "    - using BST stuff and linked lists\n",
    "- radix sort\n",
    "- "
   ]
  },
  {
   "cell_type": "code",
   "execution_count": null,
   "metadata": {},
   "outputs": [],
   "source": [
    "%% script false\n",
    "Sorting libraries:\n",
    "use sorted() in python. \n",
    "sorting is O(n log n) time.\n",
    "most libraries use quicksort, which is O(1) space.\n",
    "\n",
    "list.sort(key=None, reverse=False) #sorts the list IN PLACE\n",
    "'''key allows you to specify how to compare objects using lambda fcn (see below)'''\n",
    "'''reverse TRUE makes it from smallest to greatest, and FALSE makes it the opposite'''\n",
    "sorted(iterable, key=None, reverse=False) \n",
    "#returns the sorted version of the iterable as a list"
   ]
  },
  {
   "cell_type": "code",
   "execution_count": null,
   "metadata": {},
   "outputs": [],
   "source": [
    "#sorting boot camp\n",
    "class Student(object):\n",
    "    def __init__(self , name , grade_point_average ):\n",
    "        self.name = name\n",
    "        self.grade_point_average = grade_point_average\n",
    "    def __lt__(self , other):\n",
    "        return self.name < other.name\n",
    "    \n",
    "students = [\n",
    "    Student('A', 4.0) , Student('C', 3.0) , Student('B', 2.0) , Student('D', 3.2)\n",
    "]\n",
    "# Sort according to __lt__ defined in Student. students remained unchanged .\n",
    "students_sort_by_name = sorted(students)\n",
    "# Sort students in -place by grade_point_average .\n",
    "students.sort(key=lambda student: student.grade_point_average )\n",
    "'''RV - intereseting use key arg in list.sort to say what to use to sort.'''"
   ]
  },
  {
   "cell_type": "markdown",
   "metadata": {},
   "source": [
    "Sorting tips:\n",
    "RV SORTING PROBLEM TYPES:\n",
    "(1) use sorting to make subsequent steps in an algorithm simpler\n",
    "    - use a library sorting function with a custom comparator \n",
    "(2) design a custom sorting routine \n",
    "    - use a data structure like BST/heap/array indexed by values\n",
    "    \n",
    "- sort if datatypes have a natural ordering\n",
    "- sort if we are going to search alot.\n",
    "\n",
    "- special cases - (1) small range of values, (2) small number of values -> can sort in O(N) instead of O(n log n)\n",
    "\n",
    "- sorting no space breh(less space than brute force)"
   ]
  },
  {
   "cell_type": "markdown",
   "metadata": {},
   "source": [
    "### 13.5 - render a calendar\n",
    "Consider the problem of designing an online calendaring application. one component of the design is to render the calendar (aka display it visually)\n",
    "\n",
    "suppose each day consists of a number of events, where an event is specified as a start and end time. inviddiual events for a day are rendered as nonoverlapping rectangular regions whose sides are parallel to the X and Y axes. Let the X-axis correspond to time. If an event starts at time b and ends at time e, the upper and lower sides of the corresponding rectangle must be at b and e, respectively. \n",
    "\n",
    "suppose the y-coordinates for each day's events must lie between 0 and L (a given constant), and each event's rectangle must have the same 'height' (distance between the sides parallel to the X-axis). Compute the maximum height an event rectangle can have. \n",
    "\n",
    "Write a program that takes a set of events, and determines the maximum number of events that take place concurrently.\n",
    "\n",
    "HINT: stniopdne no sucof"
   ]
  },
  {
   "cell_type": "code",
   "execution_count": null,
   "metadata": {},
   "outputs": [],
   "source": [
    "[(b1, e1), (b2, e2), (b3, e3), (b4, e4), .. , (bn, en)]"
   ]
  },
  {
   "cell_type": "code",
   "execution_count": 160,
   "metadata": {},
   "outputs": [],
   "source": [
    "#looked at hint sadface\n",
    "class Event:\n",
    "    def __init__(self, beg, end):\n",
    "        self.beg = beg\n",
    "        self.end = end\n",
    "    def __le__(self, other):\n",
    "        return self.end <= other.end\n",
    "    def __lt__(self, other):\n",
    "        return self.end < other.end\n",
    "    def __ge__(self, other):\n",
    "        return self.end >= other.end\n",
    "    def __gt__(self, other):\n",
    "        return self.end > other.end\n",
    "    def __eq__(self, other):\n",
    "        return (self.beg == other.beg) and (self.end == other.end)\n",
    "    def __ne__(self, other):\n",
    "        return (self.beg != other.beg) and (self.end != other.end)\n",
    "    def __hash__(self):\n",
    "        return hash((self.beg, self.end))"
   ]
  },
  {
   "cell_type": "code",
   "execution_count": null,
   "metadata": {},
   "outputs": [],
   "source": []
  },
  {
   "cell_type": "code",
   "execution_count": null,
   "metadata": {},
   "outputs": [],
   "source": [
    "#tree method, incomplete\n",
    "class NodeOverlaps:\n",
    "    def __init__(self, beg, end):\n",
    "        self.beg = beg\n",
    "        self.end = end\n",
    "        self.children = []\n",
    "    def addNode(self, beg, end):\n",
    "        node = NodeOverlaps(beg, end)\n",
    "        self.children.append(node)\n"
   ]
  },
  {
   "cell_type": "code",
   "execution_count": null,
   "metadata": {},
   "outputs": [],
   "source": [
    "# brute force ? - overlapdict - incmomplete\n",
    "def num_concurrent_events(eventList):\n",
    "    seventList = sorted(eventList)\n",
    "    i = len(seventList) - 1\n",
    "    overlapDict = {}\n",
    "    while(i < seventList):\n",
    "        event = seventList[i]\n",
    "        j = i - 1\n",
    "        while( j > 0):\n",
    "            if seventList[j].end > event.beg:\n",
    "                "
   ]
  },
  {
   "cell_type": "code",
   "execution_count": 151,
   "metadata": {},
   "outputs": [
    {
     "data": {
      "text/plain": [
       "True"
      ]
     },
     "execution_count": 151,
     "metadata": {},
     "output_type": "execute_result"
    }
   ],
   "source": [
    "(1,2) in [(1, 2)]"
   ]
  },
  {
   "cell_type": "code",
   "execution_count": 149,
   "metadata": {},
   "outputs": [
    {
     "data": {
      "text/plain": [
       "True"
      ]
     },
     "execution_count": 149,
     "metadata": {},
     "output_type": "execute_result"
    }
   ],
   "source": [
    "dict1 = {1:'dude', 2:'wtf'}\n",
    "dict2 = {1:'dude', 2:'wtf'}\n",
    "dict2 in {'dict1':dict1}.values()"
   ]
  },
  {
   "cell_type": "code",
   "execution_count": null,
   "metadata": {},
   "outputs": [],
   "source": [
    "# brute force ? overlapdict - incomplete\n",
    "def num_concurrent_events(eventList):\n",
    "    seventList = sorted(eventList)\n",
    "    i = len(seventList) - 1\n",
    "    overlapDict = {}\n",
    "    while(i > 0):\n",
    "        event = seventList[i]\n",
    "        j = i - 1\n",
    "        while(j >= 0):\n",
    "            if seventList[j].end > event.beg:\n",
    "                #then there exists an overlap\n",
    "                overlap = {}\n",
    "                #define the bounds of this overlap & put in dict\n",
    "                overlap['end'] = seventList[j].end\n",
    "                if seventList[j].beg < event.beg:\n",
    "                    overlap['beg'] = event.beg\n",
    "                else:\n",
    "                    overlap['beg'] = seventList[j].beg\n",
    "                overlap[sublaps] = {}\n",
    "            else:\n",
    "                #then there is no overlap, and the next eleemnt will have none either!\n",
    "                break\n",
    "        i += 1"
   ]
  },
  {
   "cell_type": "code",
   "execution_count": 152,
   "metadata": {},
   "outputs": [],
   "source": [
    "# brute force ? using overlap counter\n",
    "def num_concurrent_events(eventList):\n",
    "    seventList = sorted(eventList)\n",
    "    i = len(seventList) - 1\n",
    "    overlapList = []\n",
    "    while(i > 0):\n",
    "        event = seventList[i]\n",
    "        j = i - 1\n",
    "        while(j >= 0):\n",
    "            event2 = seventList[j]\n",
    "            if event2.end > event.beg:\n",
    "                #then there exists an overlap\n",
    "                #define the bounds of this overlap & put in dict\n",
    "                beg = None\n",
    "                if event2.beg < event.beg:\n",
    "                    beg = event.beg\n",
    "                else:\n",
    "                    beg = event2.beg\n",
    "                end = event2.end\n",
    "                overlap = Event(beg, end)\n",
    "                overlapList.append(overlap)\n",
    "            else:\n",
    "                #then there is no overlap, and the next eleemnt will have none either!\n",
    "                break\n",
    "            j -= 1\n",
    "        i -= 1\n",
    "\n",
    "    overlapcounter = 0\n",
    "    while(overlapList != []):\n",
    "        overlapList = sorted(overlapList)  \n",
    "        overlapList2 = []\n",
    "        overlapcounter += 1\n",
    "        i = len(overlapList) - 1\n",
    "        while(i > 0):\n",
    "            event = overlapList[i]\n",
    "            j = i - 1\n",
    "            while(j >= 0):\n",
    "                event2 = overlapList[j]\n",
    "                if event2.end > event.beg:\n",
    "                    #then there exists an overlap\n",
    "                    #define the bounds of this overlap & put in dict\n",
    "                    beg = None\n",
    "                    if event2.beg < event.beg:\n",
    "                        beg = event.beg\n",
    "                    else:\n",
    "                        beg = event2.beg\n",
    "                    end = event2.end\n",
    "                    overlap = Event(beg, end)\n",
    "                    overlapList2.append(overlap)\n",
    "                else:\n",
    "                    #then there is no overlap, and the next eleemnt will have none either!\n",
    "                    break\n",
    "                j -= 1\n",
    "            i -= 1\n",
    "        overlapList = overlapList2\n",
    "    \n",
    "    return overlapcounter"
   ]
  },
  {
   "cell_type": "code",
   "execution_count": 186,
   "metadata": {},
   "outputs": [],
   "source": [
    "class Event:\n",
    "    def __init__(self, beg, end):\n",
    "        self.beg = beg\n",
    "        self.end = end\n",
    "    def __le__(self, other):\n",
    "        return self.end <= other.end\n",
    "    def __lt__(self, other):\n",
    "        return self.end < other.end\n",
    "    def __ge__(self, other):\n",
    "        return self.end >= other.end\n",
    "    def __gt__(self, other):\n",
    "        return self.end > other.end\n",
    "    def __eq__(self, other):\n",
    "        return (self.beg == other.beg) and (self.end == other.end)\n",
    "    def __ne__(self, other):\n",
    "        return (self.beg != other.beg) and (self.end != other.end)\n",
    "    def __hash__(self):\n",
    "        return hash((self.beg, self.end))\n",
    "\n",
    "#realizing overlapcounter doesnt give you what you want\n",
    "def num_concurrent_events(eventList):\n",
    "    overlapList = eventList\n",
    "    overlapList2 = []\n",
    "    while(True):\n",
    "        '''O(n log n)'''\n",
    "        overlapList = sorted(overlapList)  \n",
    "        overlapList2 = []\n",
    "        i = len(overlapList) - 1\n",
    "        '''O(N)'''\n",
    "        while(i > 0):\n",
    "            event = overlapList[i]\n",
    "            j = i - 1\n",
    "            '''O(N - i)'''\n",
    "            while(j >= 0):\n",
    "                event2 = overlapList[j]\n",
    "                if event2.end > event.beg:\n",
    "                    #then there exists an overlap\n",
    "                    #define the bounds of this overlap & put in dict\n",
    "                    beg = None\n",
    "                    if event2.beg < event.beg:\n",
    "                        beg = event.beg\n",
    "                    else:\n",
    "                        beg = event2.beg\n",
    "                    end = event2.end\n",
    "                    overlap = Event(beg, end)\n",
    "                    overlapList2.append(overlap)\n",
    "                else:\n",
    "                    #then there is no overlap, and the next eleemnt will have none either!\n",
    "                    break\n",
    "                j -= 1\n",
    "            i -= 1\n",
    "\n",
    "        if sorted(overlapList) == sorted(overlapList2):\n",
    "            break\n",
    "        overlapList = overlapList2\n",
    "    \n",
    "    #collections.Counter(s)\n",
    "    dicto = {}\n",
    "    for item in overlapList:\n",
    "        if item not in dicto:\n",
    "            dicto[item] = 1\n",
    "        else:\n",
    "            dicto[item] += 1\n",
    "    \n",
    "    return max(dicto.values())"
   ]
  },
  {
   "cell_type": "code",
   "execution_count": null,
   "metadata": {},
   "outputs": [],
   "source": []
  },
  {
   "cell_type": "code",
   "execution_count": 187,
   "metadata": {},
   "outputs": [],
   "source": [
    "eventList = [Event(1,5), Event(6, 10), Event(11, 13), Event(14, 15), Event(2, 7), \n",
    "             Event(8, 9), Event(12, 15), Event(4, 5), Event(9, 17)]"
   ]
  },
  {
   "cell_type": "code",
   "execution_count": 188,
   "metadata": {},
   "outputs": [
    {
     "data": {
      "text/plain": [
       "3"
      ]
     },
     "execution_count": 188,
     "metadata": {},
     "output_type": "execute_result"
    }
   ],
   "source": [
    "num_concurrent_events(eventList)"
   ]
  },
  {
   "cell_type": "code",
   "execution_count": 185,
   "metadata": {},
   "outputs": [],
   "source": [
    "dicto = {}\n",
    "dicto[eventList[1]] = 1"
   ]
  },
  {
   "cell_type": "markdown",
   "metadata": {},
   "source": [
    "- RV their solution\n"
   ]
  },
  {
   "cell_type": "code",
   "execution_count": null,
   "metadata": {},
   "outputs": [],
   "source": [
    "#event is a tuple (start time, end time)\n",
    "Event = collections.namedtuple('Event', ('start', 'finish'))\n",
    "\n",
    "#endpoint is a tuple (start_time,0), or (end_time, 1) so that if times\n",
    "#are equal, start_time comes first\n",
    "Endpoint = collections.namedtuple('Endpoint', ('time', 'is_start'))\n",
    "\n",
    "def find_max_simultaneous_events(A):\n",
    "    #builds an array of all endpoints\n",
    "    E = ([Endpoint(event.start, True) for event in A] + \n",
    "         [Endpoint(event.finish, False) for event in A])\n",
    "    #sorts the endpoint array according to time, breaking ties by putting start\n",
    "    #times before end times\n",
    "    E.sort(key=lambda e: (e.time, not e.is_start))\n",
    "    \n",
    "    #track the number of simultaneous events, record the maximum number of simulateous events\n",
    "    max_num_simultaneous_events, num_simultaneous_events = 0, 0\n",
    "    for e in E:\n",
    "        if e.is_start:\n",
    "            num_simultaneous_events += 1\n",
    "            max_num_simultaneous_events = max(num_simultaneous_events, \n",
    "                                              max_num_simultaneous_events)\n",
    "        else:\n",
    "            num_simultaneous_events -= 1\n",
    "    return max_num_simultaneous_events"
   ]
  },
  {
   "cell_type": "markdown",
   "metadata": {},
   "source": [
    "Sorting the endpoint array takes O(n log n) time, iterating through it is O(n) time, giving O(n log n) total timee complexity\n",
    "space cmplexity is O(n),size of endpoint array"
   ]
  },
  {
   "cell_type": "markdown",
   "metadata": {},
   "source": [
    "## Chapter 14: BST - 14.4, 14.8"
   ]
  },
  {
   "cell_type": "markdown",
   "metadata": {},
   "source": [
    "- they are apparently better bae - can solve almost every data structure problem well\n",
    "- allows (1) efficient search (2) efficient find min/max, (3) , look for the successor or predecessor of a search key (which itself need not be present in the BST), (4) iterate in sorted order.\n",
    "- efficient delete and addition \n",
    "- RV BST PROPERTY - key stored at a node is >= keys stored at all nodes in its left subtree & <= keys stored at nodes in right subtree\n",
    "- lookup, insertion, deletion proportional to tree height \n",
    "    - worst O(n) for naive insert/delete\n",
    "    - usually O(log n) height - update and store more data at tree nodes\n",
    "- like with hash tables, dont put mutable objects in a BST unless you are prepared to, when updating them, remove it from the tree (shuffling the tree in the process), updating it, and then putting it back. "
   ]
  },
  {
   "cell_type": "code",
   "execution_count": null,
   "metadata": {},
   "outputs": [],
   "source": [
    "class BSTNode:\n",
    "    def __init__(self , data=None , left=None , right=None):\n",
    "        self.data , self.left , self.right = data , left , right"
   ]
  },
  {
   "cell_type": "markdown",
   "metadata": {},
   "source": [
    "boot camp\n",
    "- searching is most important thing in BSTs\n",
    "    - hash tables cant find min/max/next biggest/smallest elements, but BSts can\n",
    "    - all operations cost only O(log n) time (when implemented properly)\n",
    "        - include \n",
    "            - min\n",
    "            - max\n",
    "            - next biggest element\n",
    "            - next smaller element\n",
    "            - lookup\n",
    "            - delete\n",
    "            - find\n",
    "    - BSTs and hash tables both take O(n) space (in practice BST is more space)"
   ]
  },
  {
   "cell_type": "code",
   "execution_count": null,
   "metadata": {},
   "outputs": [],
   "source": [
    "def search_bst (tree , key):\n",
    "    return (tree if not tree or tree.data == key else search_bst (tree.left , key)\n",
    "            if key < tree.data else search_bst (tree.right , key))\n",
    "'''has time complexity O(h), where h is tree height. '''"
   ]
  },
  {
   "cell_type": "markdown",
   "metadata": {},
   "source": [
    "BST TIPS\n",
    "- iterate through elements of BST in sorted order in O(N) regardless of whether it is balanced\n",
    "- RV BST + hash table combo: BSTs can only be ordered by one attribute - so if i want to query on another attribute of a node, i can go directly to the corresponding entry in the tree if i use an additional hash table\n",
    "    - WHAT IS THE IMPLEMENTATION OF THIS?\n",
    "- RV BST proprety is a GLOBAL proprety - binary trees whose left subtrees are less than node and right subtrees greater than node still may NOT be a BST"
   ]
  },
  {
   "cell_type": "code",
   "execution_count": 191,
   "metadata": {},
   "outputs": [],
   "source": [
    "import sortedcontainers"
   ]
  },
  {
   "cell_type": "markdown",
   "metadata": {},
   "source": [
    "There are no built in BST libraries in python. \n",
    "- sortedcontainers has sorted sets and sorted dicts?...\n",
    "\n",
    "- RV"
   ]
  },
  {
   "cell_type": "markdown",
   "metadata": {},
   "source": [
    "### 14.4 - Compute the LCA in a BST\n",
    "- Since a BST is a specialized binary tree, the notion of Lowest Common Ancestor holds for BSTs too. \n",
    "- computing the LCA of two nodes in a BST is no easier than compuiting the LCA in a binary tree since a binary tree structurally is a bST where all keys are equal. However with distinct keys, can improve on LCA algorithms for binary trees\n",
    "\n",
    "design an algorithm takes input BST and two nodes and returns the LCA of the two nodes. Assume all keys are distinct and nodes dont reference parents"
   ]
  },
  {
   "cell_type": "code",
   "execution_count": 196,
   "metadata": {},
   "outputs": [],
   "source": [
    "class Node:\n",
    "    def __init__(self , data=None , left=None , right=None):\n",
    "        self.data , self.left , self.right = data , left , right\n",
    "\n",
    "def LCA_BST(root, node1, node2):\n",
    "    if root == None:\n",
    "        return None\n",
    "    if (node1.data >= root.data and node2.data <= root.data) or (\n",
    "        node2.data >= root.data and node1.data <= root.data):\n",
    "        return root\n",
    "    elif (node1.data >= root.data and node2.data >= root.data):\n",
    "        return LCA_BST(root.right, node1, node2)\n",
    "    elif (node1.data <= root.data and node2.data <= root.data):\n",
    "        return LCA_BST(root.left, node1, node2)"
   ]
  },
  {
   "cell_type": "markdown",
   "metadata": {},
   "source": [
    "log(n) complexity time, H space from fcn calls, potential N time if bad implementation"
   ]
  },
  {
   "cell_type": "code",
   "execution_count": 231,
   "metadata": {},
   "outputs": [],
   "source": [
    "root = Node(10)\n",
    "\n",
    "L = Node(5)\n",
    "R = Node(15)\n",
    "root.left = L\n",
    "root.right = R\n",
    "\n",
    "\n",
    "LL = Node(2)\n",
    "LR = Node(8)\n",
    "\n",
    "L.left = LL\n",
    "L.right = LR\n",
    "\n",
    "RL = Node(12)\n",
    "RR = Node(18)\n",
    "\n",
    "R.left = RL\n",
    "R.right = RR\n",
    "\n",
    "\n",
    "LLL = Node(1)\n",
    "LLR = Node(3)\n",
    "LL.left = LLL\n",
    "LL.right = LLR\n",
    "\n",
    "LRL = Node(7)\n",
    "LRR = Node(9)\n",
    "LR.left = LRL\n",
    "LR.right = LRR\n",
    "\n",
    "\n",
    "RRR = Node(20)\n",
    "RRL = Node(17)\n",
    "RR.right = RRR\n",
    "RR.left = RRL\n",
    "\n",
    "RLR = Node(13)\n",
    "RLL = Node(11)\n",
    "RL.right = RLR\n",
    "RL.left = RLL\n"
   ]
  },
  {
   "cell_type": "code",
   "execution_count": 238,
   "metadata": {},
   "outputs": [
    {
     "name": "stdout",
     "output_type": "stream",
     "text": [
      "None\n"
     ]
    }
   ],
   "source": [
    "A = 100\n",
    "B = 101\n",
    "node1 = Node(A)\n",
    "node2 = Node(B)\n",
    "node = LCA_BST(root, node1, node2)\n",
    "if node == None:\n",
    "    print('None')\n",
    "else:\n",
    "    print(node.data)"
   ]
  },
  {
   "cell_type": "code",
   "execution_count": 233,
   "metadata": {},
   "outputs": [
    {
     "name": "stdout",
     "output_type": "stream",
     "text": [
      "1\n",
      "2\n",
      "3\n",
      "5\n",
      "7\n",
      "8\n",
      "9\n",
      "10\n",
      "11\n",
      "12\n",
      "13\n",
      "15\n",
      "17\n",
      "18\n",
      "20\n"
     ]
    }
   ],
   "source": [
    "inOrder(root)"
   ]
  },
  {
   "cell_type": "code",
   "execution_count": null,
   "metadata": {},
   "outputs": [],
   "source": [
    "# their solution:\n",
    "\n",
    "#input nodes are not nonempty and the key at s is less than or equal to that at b\n",
    "def find_LCA(tree, s, b):\n",
    "    while(tree.data < s.data) or (tree.data > b.data):\n",
    "        #keeep searching since tree is outside of [s, b]\n",
    "        while tree.data < s.data:\n",
    "            tree = tree.right #LCA must be in right subtrree\n",
    "        while tree.data > b.data:\n",
    "            tree = tree.left #LCA must be in left subtree\n",
    "    #here, s.data <= tree.data <= b.data\n",
    "    return tree\n",
    "'''O(h) time, O(1) space'''"
   ]
  },
  {
   "cell_type": "markdown",
   "metadata": {},
   "source": [
    "### 14.8 - The most visited pages problem\n",
    "You are given a server log containing billions of lines. each line contains a number of fields. for this problem, the relevant field is an ID denoting the page that was accessed. \n",
    "\n",
    "Write a function to read the next line from a log file, and a function to find the k most visited pages, where k is an input to the function.\n",
    "\n",
    "optimize performance for the situation where calls to the two functions are interleaved. you can asssume the set of distinct pages is small enough to fit in RAM\n",
    "\n",
    "As a concrete example, suppose the log file ids appear in the following order: (g, a, t, t, a, a, a, g, t, c, t, a, t). Ie, there are four pages with ids a, c, g, t. After the first 10 lines have been read, the most common page is a with a count of 4, and the next most common page is t with a count of 3"
   ]
  },
  {
   "cell_type": "code",
   "execution_count": null,
   "metadata": {},
   "outputs": [],
   "source": [
    "def "
   ]
  },
  {
   "cell_type": "markdown",
   "metadata": {},
   "source": [
    "## Chapter 15: Recursion - 15.3"
   ]
  },
  {
   "cell_type": "markdown",
   "metadata": {},
   "source": [
    "We've been doing this for the last week\n",
    "- functions that call themselves with different arguments (usually subsets of the original)\n",
    "- they require a base case like induction to make sure they stop calling themselves"
   ]
  },
  {
   "cell_type": "markdown",
   "metadata": {},
   "source": [
    "- for when solutions depends on instances of smaller problems \n",
    "- searching, enumeration, divider and conquer, and anything decomposing something into smaller problem is recursionable\n",
    "- RV backtracking, branch-and-bound formulated from recursion"
   ]
  },
  {
   "cell_type": "code",
   "execution_count": null,
   "metadata": {},
   "outputs": [],
   "source": [
    "#recursion boot camp\n",
    "def GCD(x, y): #this is the euclidean algorithm\n",
    "    return x if y == 0 else gcd(y, x % y)"
   ]
  },
  {
   "cell_type": "markdown",
   "metadata": {},
   "source": [
    "RECURSION TIPS\n",
    "- good for when input is expressed using recursive rules such as computer grammar\n",
    "- good for search, enumeration, divide and conquer\n",
    "- alternative to deep nested loops \n",
    "    specifically when you have an unknown number of things to iterate over\n",
    "- RV when asked to remove recursion, use a stack and just mimic the function call stack\n",
    "- RV remove from a tail-recursive program via a while loop?????\n",
    "- RV dynamic programming - cache results if recursive fcn called with same args more than once\n"
   ]
  },
  {
   "cell_type": "markdown",
   "metadata": {},
   "source": [
    "### 15.3 - Generate permutations\n",
    "take an array of any kind of values as input, output a list of arrays, where each array is a permutation of the inputed array, and all possible permutations are shown. Do not repeat permutations.\n",
    "\n",
    "\n",
    "HINT DONT READ IT YET"
   ]
  },
  {
   "cell_type": "code",
   "execution_count": 241,
   "metadata": {},
   "outputs": [
    {
     "data": {
      "text/plain": [
       "True"
      ]
     },
     "execution_count": 241,
     "metadata": {},
     "output_type": "execute_result"
    }
   ],
   "source": [
    "[1, 2, 3] in [[1, 2, 3]]"
   ]
  },
  {
   "cell_type": "code",
   "execution_count": 244,
   "metadata": {},
   "outputs": [
    {
     "data": {
      "text/plain": [
       "[1, 3, 4]"
      ]
     },
     "execution_count": 244,
     "metadata": {},
     "output_type": "execute_result"
    }
   ],
   "source": [
    "[1, 2, 3, 4][:1] + [1, 2, 3, 4][1+1:] "
   ]
  },
  {
   "cell_type": "code",
   "execution_count": 251,
   "metadata": {},
   "outputs": [],
   "source": [
    "arr = []\n",
    "arr += [[3, 4, 5]]"
   ]
  },
  {
   "cell_type": "code",
   "execution_count": 253,
   "metadata": {},
   "outputs": [],
   "source": [
    "arr += [[2, 1, 3]]"
   ]
  },
  {
   "cell_type": "code",
   "execution_count": 254,
   "metadata": {},
   "outputs": [
    {
     "data": {
      "text/plain": [
       "[[3, 4, 5], [2, 1, 3]]"
      ]
     },
     "execution_count": 254,
     "metadata": {},
     "output_type": "execute_result"
    }
   ],
   "source": [
    "arr"
   ]
  },
  {
   "cell_type": "code",
   "execution_count": 250,
   "metadata": {},
   "outputs": [
    {
     "data": {
      "text/plain": [
       "[[3, 4, 5]]"
      ]
     },
     "execution_count": 250,
     "metadata": {},
     "output_type": "execute_result"
    }
   ],
   "source": [
    "[] + [[3, 4, 5]]"
   ]
  },
  {
   "cell_type": "code",
   "execution_count": 245,
   "metadata": {},
   "outputs": [
    {
     "data": {
      "text/plain": [
       "[1, 2, 3]"
      ]
     },
     "execution_count": 245,
     "metadata": {},
     "output_type": "execute_result"
    }
   ],
   "source": [
    "A = [1, 2, 3, 4]\n",
    "i = 3\n",
    "A[:i] + A[i + 1:]"
   ]
  },
  {
   "cell_type": "code",
   "execution_count": 271,
   "metadata": {},
   "outputs": [
    {
     "data": {
      "text/plain": [
       "[[3, 4, 5], [2, 1, 3], [3, 4, 5], [2, 1, 3], [3, 4, 5], [2, 1, 3]]"
      ]
     },
     "execution_count": 271,
     "metadata": {},
     "output_type": "execute_result"
    }
   ],
   "source": [
    "permutations([1, 2, 3])"
   ]
  },
  {
   "cell_type": "markdown",
   "metadata": {},
   "source": [
    "##### tried to create N trees where each path from root to leaf for each tree is a unique permutation. Too complicated. didn't finish"
   ]
  },
  {
   "cell_type": "code",
   "execution_count": null,
   "metadata": {},
   "outputs": [],
   "source": [
    "def permute(A):\n",
    "    for item in array:"
   ]
  },
  {
   "cell_type": "code",
   "execution_count": 269,
   "metadata": {},
   "outputs": [],
   "source": [
    "from copy import deepcopy\n",
    "class Node:\n",
    "    def __init__(self, data):\n",
    "        self.data = data\n",
    "        self.children = []\n",
    "\n",
    "def permute_tree(A, node):\n",
    "    i = 0\n",
    "    while(i != len(A)):\n",
    "        node.children.append(Node(A[i]))\n",
    "        permute_tree(A[:i] + A[i + 1:], node.children[len(node.children) - 1])\n",
    "        i += 1\n",
    "\n",
    "def traverse_tree(node, array):\n",
    "    array.append(node.data)\n",
    "    if node.children == []:\n",
    "        return arr\n",
    "    else:\n",
    "        for child in node.children:\n",
    "            return traverse_tree(child, deepcopy(arr))\n",
    "        \n",
    "def permutations(A):\n",
    "    roots = []\n",
    "    i = 0\n",
    "    while( i != len(A)):\n",
    "        roots.append(Node(A[i]))\n",
    "        permute_tree(A[:i] + A[i + 1:], roots[i])\n",
    "        i += 1\n",
    "    superarray = []\n",
    "    for root in roots:\n",
    "        array = traverse_tree(root, [])\n",
    "        superarray += array\n",
    "    \n",
    "    return superarray"
   ]
  },
  {
   "cell_type": "code",
   "execution_count": null,
   "metadata": {},
   "outputs": [],
   "source": [
    "[1, 2, 3]"
   ]
  },
  {
   "cell_type": "markdown",
   "metadata": {},
   "source": [
    "#### subfunction modifies the arrays that are out of scope"
   ]
  },
  {
   "cell_type": "code",
   "execution_count": 1,
   "metadata": {},
   "outputs": [],
   "source": [
    "from copy import copy\n",
    "\n",
    "def permutation(A):\n",
    "\tmaxlength = len(A)\n",
    "\tsuperarray = []\n",
    "\tdef get_perm(subarr, permarr):\n",
    "\t\tif len(subarr) == 0 and len(permarr) == maxlength:\n",
    "\t\t\tsuperarray.append(permarr)\n",
    "\t\t\treturn\n",
    "\t\ti = 0\n",
    "\t\twhile (i != len(subarr)):\n",
    "\t\t\tpermarrLoc = copy(permarr)\n",
    "\t\t\tpermarrLoc.append(subarr[i])\n",
    "\t\t\tget_perm(subarr[:i] + subarr[i+1:], permarrLoc)\n",
    "\t\t\ti += 1\n",
    "\t\n",
    "\ti = 0\n",
    "\twhile(i != len(A)):\n",
    "\t\tpermarr = []\n",
    "\t\tpermarr.append(A[i])\n",
    "\t\tget_perm(A[:i] + A[i+1:], permarr)\n",
    "\t\ti += 1\n",
    "\n",
    "\treturn superarray\n"
   ]
  },
  {
   "cell_type": "code",
   "execution_count": 3,
   "metadata": {},
   "outputs": [
    {
     "data": {
      "text/plain": [
       "24"
      ]
     },
     "execution_count": 3,
     "metadata": {},
     "output_type": "execute_result"
    }
   ],
   "source": [
    "len(permutation([1, 2, 3, 4]))"
   ]
  },
  {
   "cell_type": "markdown",
   "metadata": {},
   "source": [
    "#### subfunction does not modify arrays out of scope, instead just passes by reference"
   ]
  },
  {
   "cell_type": "code",
   "execution_count": 6,
   "metadata": {},
   "outputs": [],
   "source": [
    "from copy import deepcopy\n",
    "def permutations(A):\n",
    "    length = len(A)\n",
    "    def get_perm(subarray, permarr,superarray, maxlength):\n",
    "        if len(subarray) == 0 and len(permarr) == maxlength:\n",
    "            superarray.append(permarr)\n",
    "            return\n",
    "        i = 0\n",
    "        while (i != len(subarray)):\n",
    "            permarrl = deepcopy(permarr)\n",
    "            permarrl.append(subarray[i])\n",
    "            get_perm(subarray[:i] + subarray[i + 1:], permarrl, superarray, maxlength)\n",
    "            i += 1\n",
    "    \n",
    "    i = 0\n",
    "    superarray = []\n",
    "    while(i != len(A)):\n",
    "        localarr = []\n",
    "        localarr.append(A[i])\n",
    "        get_perm(A[:i] + A[i + 1:], localarr, superarray, length)\n",
    "        i += 1\n",
    "    \n",
    "    return superarray"
   ]
  },
  {
   "cell_type": "code",
   "execution_count": 7,
   "metadata": {},
   "outputs": [
    {
     "data": {
      "text/plain": [
       "24"
      ]
     },
     "execution_count": 7,
     "metadata": {},
     "output_type": "execute_result"
    }
   ],
   "source": [
    "len(permutations([1, 2, 3, 4]))"
   ]
  },
  {
   "cell_type": "code",
   "execution_count": 281,
   "metadata": {},
   "outputs": [
    {
     "data": {
      "text/plain": [
       "[2]"
      ]
     },
     "execution_count": 281,
     "metadata": {},
     "output_type": "execute_result"
    }
   ],
   "source": [
    "A[1:2]"
   ]
  },
  {
   "cell_type": "code",
   "execution_count": 280,
   "metadata": {},
   "outputs": [
    {
     "data": {
      "text/plain": [
       "[1, 2, 3]"
      ]
     },
     "execution_count": 280,
     "metadata": {},
     "output_type": "execute_result"
    }
   ],
   "source": [
    "from copy import copy\n",
    "def modarray(A):\n",
    "    A.append(1)\n",
    "    return A\n",
    "\n",
    "A = [1, 2, 3]\n",
    "modarray(A[1:2])\n",
    "A"
   ]
  },
  {
   "cell_type": "markdown",
   "metadata": {},
   "source": [
    "## 15.4 - power set\n",
    "The power set of a set S is the set of all subsets of S, including both the empty set and S itself. \n",
    "for example, \n",
    "Write a function that takes as input a set and returns its power set.\n",
    "HINT: dont look at yet!!\n",
    "\n",
    "[0, 1, 2] -> [[],[0],[1],[2], [0, 1], [0,2], [1,2], [0, 1, 2]]"
   ]
  },
  {
   "cell_type": "code",
   "execution_count": 9,
   "metadata": {},
   "outputs": [],
   "source": [
    "[0, 1, 2]\n",
    "listset = [[],[0],[1],[2], [0, 1], [0,2], [1,2], [0, 1, 2]]"
   ]
  },
  {
   "cell_type": "code",
   "execution_count": 17,
   "metadata": {},
   "outputs": [
    {
     "data": {
      "text/plain": [
       "{1, 2, 3}"
      ]
     },
     "execution_count": 17,
     "metadata": {},
     "output_type": "execute_result"
    }
   ],
   "source": [
    "set({1, 2,3})"
   ]
  },
  {
   "cell_type": "code",
   "execution_count": 18,
   "metadata": {},
   "outputs": [
    {
     "ename": "TypeError",
     "evalue": "set expected at most 1 arguments, got 2",
     "output_type": "error",
     "traceback": [
      "\u001b[0;31m---------------------------------------------------------------------------\u001b[0m",
      "\u001b[0;31mTypeError\u001b[0m                                 Traceback (most recent call last)",
      "\u001b[0;32m<ipython-input-18-8d96167b3b42>\u001b[0m in \u001b[0;36m<module>\u001b[0;34m()\u001b[0m\n\u001b[1;32m      1\u001b[0m \u001b[0ms\u001b[0m \u001b[0;34m=\u001b[0m \u001b[0mset\u001b[0m\u001b[0;34m(\u001b[0m\u001b[0;34m)\u001b[0m\u001b[0;34m\u001b[0m\u001b[0m\n\u001b[0;32m----> 2\u001b[0;31m \u001b[0ms\u001b[0m\u001b[0;34m.\u001b[0m\u001b[0madd\u001b[0m\u001b[0;34m(\u001b[0m\u001b[0mset\u001b[0m\u001b[0;34m(\u001b[0m\u001b[0;36m1\u001b[0m\u001b[0;34m,\u001b[0m\u001b[0;36m2\u001b[0m\u001b[0;34m)\u001b[0m\u001b[0;34m)\u001b[0m\u001b[0;34m\u001b[0m\u001b[0m\n\u001b[0m",
      "\u001b[0;31mTypeError\u001b[0m: set expected at most 1 arguments, got 2"
     ]
    }
   ],
   "source": [
    "s = set()\n",
    "s.add(set(1,2))"
   ]
  },
  {
   "cell_type": "code",
   "execution_count": 39,
   "metadata": {},
   "outputs": [],
   "source": [
    "def powerset_evoker(S):\n",
    "    '''\n",
    "    takes in a set S and returns a list of sets\n",
    "    '''\n",
    "    power_set = list()\n",
    "    def powerset(s, power_set):\n",
    "        '''\n",
    "        let s be some collection. return a list of sets, where together they are the power set of s\n",
    "        '''\n",
    "        if s not in power_set:\n",
    "            power_set.append(s)\n",
    "        for element in s:\n",
    "            s_without_ith_value = deepcopy(s)\n",
    "            s_without_ith_value.remove(element)\n",
    "            powerset(s_without_ith_value, power_set)\n",
    "    powerset(S, power_set)\n",
    "    return power_set\n",
    "    \n",
    "        "
   ]
  },
  {
   "cell_type": "code",
   "execution_count": 40,
   "metadata": {},
   "outputs": [
    {
     "data": {
      "text/plain": [
       "[{1, 2, 3, 4},\n",
       " {2, 3, 4},\n",
       " {3, 4},\n",
       " {4},\n",
       " set(),\n",
       " {3},\n",
       " {2, 4},\n",
       " {2},\n",
       " {2, 3},\n",
       " {1, 3, 4},\n",
       " {1, 4},\n",
       " {1},\n",
       " {1, 3},\n",
       " {1, 2, 4},\n",
       " {1, 2},\n",
       " {1, 2, 3}]"
      ]
     },
     "execution_count": 40,
     "metadata": {},
     "output_type": "execute_result"
    }
   ],
   "source": [
    "powerset_evoker(set([1, 2, 3, 4]))"
   ]
  },
  {
   "cell_type": "code",
   "execution_count": 64,
   "metadata": {},
   "outputs": [],
   "source": [
    "def generate_power_set ( input_set ):\n",
    "    # Generate all subsets whose intersection with input_set [0], ...,\n",
    "    # input_set [ to_be_selected - 1] is exactly selected_so_far .\n",
    "    def directed_power_set (to_be_selected , selected_so_far ):\n",
    "        print(to_be_selected , selected_so_far )\n",
    "        if to_be_selected == len( input_set ):\n",
    "            power_set.append(list( selected_so_far ))\n",
    "            return\n",
    "        directed_power_set( to_be_selected + 1, selected_so_far )\n",
    "        # Generate all subsets that contain input_set [ to_be_selected ].\n",
    "        directed_power_set( to_be_selected + 1,\n",
    "        selected_so_far + [ input_set [ to_be_selected ]])\n",
    "    power_set = []\n",
    "    directed_power_set(0, [])\n",
    "    return power_set\n"
   ]
  },
  {
   "cell_type": "code",
   "execution_count": 65,
   "metadata": {},
   "outputs": [
    {
     "name": "stdout",
     "output_type": "stream",
     "text": [
      "0 []\n",
      "1 []\n",
      "2 []\n",
      "3 []\n",
      "3 [3]\n",
      "2 [2]\n",
      "3 [2]\n",
      "3 [2, 3]\n",
      "1 [1]\n",
      "2 [1]\n",
      "3 [1]\n",
      "3 [1, 3]\n",
      "2 [1, 2]\n",
      "3 [1, 2]\n",
      "3 [1, 2, 3]\n"
     ]
    },
    {
     "data": {
      "text/plain": [
       "[[], [3], [2], [2, 3], [1], [1, 3], [1, 2], [1, 2, 3]]"
      ]
     },
     "execution_count": 65,
     "metadata": {},
     "output_type": "execute_result"
    }
   ],
   "source": [
    "generate_power_set([1, 2, 3])"
   ]
  },
  {
   "cell_type": "code",
   "execution_count": null,
   "metadata": {},
   "outputs": [],
   "source": [
    "[1] [1, 2] [2] [1, 3] [1, 2, 3], [2, 3] [3]"
   ]
  },
  {
   "cell_type": "markdown",
   "metadata": {},
   "source": [
    "#### very intuitive stackoverflow answer"
   ]
  },
  {
   "cell_type": "code",
   "execution_count": 72,
   "metadata": {},
   "outputs": [],
   "source": [
    "from copy import copy\n",
    "def power_set_stackoverflow(Set):\n",
    "    \n",
    "    power_set = []\n",
    "    for element in Set:\n",
    "        local_power_set = []\n",
    "        for subset in power_set:\n",
    "            local = copy(subset)\n",
    "            local.append(element)\n",
    "            local_power_set.append(local)\n",
    "        power_set += local_power_set\n",
    "        power_set.append([element])\n",
    "    power_set.append([])\n",
    "    \n",
    "    return power_set"
   ]
  },
  {
   "cell_type": "code",
   "execution_count": 73,
   "metadata": {},
   "outputs": [
    {
     "data": {
      "text/plain": [
       "[[1], [1, 2], [2], [1, 3], [1, 2, 3], [2, 3], [3], []]"
      ]
     },
     "execution_count": 73,
     "metadata": {},
     "output_type": "execute_result"
    }
   ],
   "source": [
    "power_set_stackoverflow([1, 2, 3])"
   ]
  },
  {
   "cell_type": "markdown",
   "metadata": {},
   "source": [
    "##### For example, if S = {a, b, c, d}, the bit array [1, 0, 1, 1] denotes the subset {a, c, d}."
   ]
  },
  {
   "cell_type": "code",
   "execution_count": 17,
   "metadata": {},
   "outputs": [],
   "source": [
    "def add_1_to_bit_vector(bit_vector):\n",
    "    if sum(bit_vector) == len(bit_vector):\n",
    "        bit_vector = [0]*len(bit_vector)\n",
    "        return bit_vector\n",
    "    \n",
    "    i = len(bit_vector) - 1\n",
    "    while(i >= 0):\n",
    "        if bit_vector[i] == 0:\n",
    "            bit_vector[i] = 1\n",
    "            break\n",
    "        elif bit_vector[i] == 1:\n",
    "            bit_vector[i] = 0\n",
    "        i -= 1\n",
    "    return bit_vector\n",
    "\n",
    "def power_set_bit_vector(Set):\n",
    "    Set = list(Set)\n",
    "    bit_vector = [0]*len(Set)\n",
    "    power_set = []\n",
    "    power_set.append(Set)\n",
    "    while(sum(bit_vector) != len(Set)):\n",
    "        i = 0\n",
    "        subset = []\n",
    "        while(i != len(Set)):\n",
    "            if bit_vector[i]:\n",
    "                subset.append(Set[i])\n",
    "            i += 1\n",
    "        power_set.append(subset)\n",
    "        bit_vector = add_1_to_bit_vector(bit_vector)\n",
    "    \n",
    "    return power_set"
   ]
  },
  {
   "cell_type": "code",
   "execution_count": 18,
   "metadata": {},
   "outputs": [
    {
     "data": {
      "text/plain": [
       "[[1, 2, 3], [], [3], [2], [2, 3], [1], [1, 3], [1, 2]]"
      ]
     },
     "execution_count": 18,
     "metadata": {},
     "output_type": "execute_result"
    }
   ],
   "source": [
    "power_set_bit_vector([1, 2, 3])"
   ]
  },
  {
   "cell_type": "code",
   "execution_count": 9,
   "metadata": {},
   "outputs": [
    {
     "data": {
      "text/plain": [
       "[1, 0, 0, 0]"
      ]
     },
     "execution_count": 9,
     "metadata": {},
     "output_type": "execute_result"
    }
   ],
   "source": [
    "add_1_to_bit_vector([0, 1, 1, 1])"
   ]
  },
  {
   "cell_type": "markdown",
   "metadata": {},
   "source": [
    "#### Bit array solution using actual int bits RV - YOU GOTTA KNOW BITWISE OPS."
   ]
  },
  {
   "cell_type": "code",
   "execution_count": 63,
   "metadata": {},
   "outputs": [
    {
     "data": {
      "text/plain": [
       "([[], [0], [1], [0, 1], [2], [0, 2], [1, 2], [0, 1, 2]], 12)"
      ]
     },
     "execution_count": 63,
     "metadata": {},
     "output_type": "execute_result"
    }
   ],
   "source": [
    "import math\n",
    "def generate_power_set (S):\n",
    "    calls = 0\n",
    "    power_set = []\n",
    "    for int_for_subset in range(1 << len(S)):\n",
    "        bit_array = int_for_subset\n",
    "        subset = []\n",
    "        while bit_array :\n",
    "            calls +=1\n",
    "            subset.append(int(math.log2( bit_array & ~( bit_array - 1))))\n",
    "            bit_array &= bit_array - 1\n",
    "        power_set .append(subset)\n",
    "    return power_set, calls\n",
    "generate_power_set([1, 2, 3])"
   ]
  },
  {
   "cell_type": "markdown",
   "metadata": {},
   "source": [
    "## Chapter 16: dynamic programming - 16.3, 16.6"
   ]
  },
  {
   "cell_type": "markdown",
   "metadata": {},
   "source": [
    "#### QUORA tower of hanoi, matrix chain multiplication, etc are examples of DP\n",
    "- (NOT PRECISE QUORA) - given a divide and conquer problem, if the recursive subproblems make use of solutions from other subproblems, then it is a waste of time to recompute those subproblems that have already been computed - storing these ressults is dynamic programming"
   ]
  },
  {
   "cell_type": "markdown",
   "metadata": {},
   "source": [
    "- dynamic programming is divide and conquer where the same subproblem of divide and conquer may reoccur - reoccurring subproblems have their results cached."
   ]
  },
  {
   "cell_type": "markdown",
   "metadata": {},
   "source": [
    "- store reoccuring values in a hash table for quick access\n",
    "    - use 'key' in dict for O(1) checking if 'key' is a key inside dict\n",
    "- consider using loop instead of recursion and having a 'counter(s)' be your sole DP cache"
   ]
  },
  {
   "cell_type": "markdown",
   "metadata": {},
   "source": [
    "The key to solving a DP problem efficiently is finding a way to break the problem into subproblems\n",
    "such that\n",
    "\n",
    "• the original problem can be solved relatively easily once solutions to the subproblems are\n",
    "available, and\n",
    "\n",
    "• these subproblem solutions are cached"
   ]
  },
  {
   "cell_type": "markdown",
   "metadata": {},
   "source": [
    "##### tips and tricks\n",
    "- use dp when you gotta make choices \n",
    "    - constructing a soln to the given instance from solns to subinstances of smaller problems of same kind\n",
    "- OPTIMIZATION, counting and decision problems - any problem expressable recursively in terms of same computation on smaller instances\n",
    "- trivial DP is recursive top down, but cache efficiency is bottom-up (like with fib!!)\n",
    "- recursive DP: cache is hash table (or BST ?)\n",
    "- iterative DP: cache is 1D-2D array\n",
    "- save cache space complexity by recycling entries\n",
    "- COMMON MISTAKE: split proble into two halves, solve for both halves and combine. doesnt always work\n",
    "- \"DP is based on combining solutions to subproblems to yield a solution to the original problem.\n",
    "However, for some problems DP will not work. For example, if you need to compute the longest\n",
    "path from City 1 to City 2 without repeating an intermediate city, and this longest path passes\n",
    "through City 3, then the subpaths from City 1 to City 3 and City 3 to City 2 may not be\n",
    "individually longest paths without repeated cities\""
   ]
  },
  {
   "cell_type": "markdown",
   "metadata": {},
   "source": [
    "--- power 'set' iterations seem to be common? RV"
   ]
  },
  {
   "cell_type": "code",
   "execution_count": 83,
   "metadata": {},
   "outputs": [],
   "source": [
    "#boot camp 1\n",
    "def fib(N):\n",
    "    counter = [0]\n",
    "    def primitive_fibonacci(N, stri=''):\n",
    "        counter[0] += 1\n",
    "        #print(stri)\n",
    "        if N < 0: \n",
    "            return None\n",
    "        elif N == 0:\n",
    "            return 0\n",
    "        elif N == 1:\n",
    "            return 1\n",
    "        return primitive_fibonacci(N - 1, stri + 'r') + primitive_fibonacci(N - 2, stri + 'l')\n",
    "    return primitive_fibonacci(N), counter"
   ]
  },
  {
   "cell_type": "code",
   "execution_count": 60,
   "metadata": {},
   "outputs": [
    {
     "name": "stdout",
     "output_type": "stream",
     "text": [
      "(0, [1])\n",
      "(1, [1])\n",
      "(1, [3])\n",
      "(2, [5])\n",
      "(3, [9])\n",
      "(5, [15])\n",
      "(8, [25])\n",
      "(13, [41])\n",
      "(21, [67])\n",
      "(34, [109])\n",
      "(55, [177])\n",
      "(89, [287])\n",
      "(144, [465])\n",
      "(233, [753])\n",
      "(377, [1219])\n",
      "(610, [1973])\n",
      "(987, [3193])\n",
      "(1597, [5167])\n",
      "(2584, [8361])\n",
      "(4181, [13529])\n",
      "(6765, [21891])\n",
      "(10946, [35421])\n",
      "(17711, [57313])\n",
      "(28657, [92735])\n",
      "(46368, [150049])\n",
      "(75025, [242785])\n",
      "(121393, [392835])\n",
      "(196418, [635621])\n",
      "(317811, [1028457])\n",
      "(514229, [1664079])\n"
     ]
    }
   ],
   "source": [
    "for i in range(30):\n",
    "    print(fib(i))"
   ]
  },
  {
   "cell_type": "code",
   "execution_count": 43,
   "metadata": {},
   "outputs": [],
   "source": [
    "def DP_fibonacci(N):\n",
    "    if N < 0:\n",
    "        return None\n",
    "    cache = {0:0, 1:1}\n",
    "    def fib(N):\n",
    "        if N in cache:\n",
    "            return cache[N]\n",
    "        else:\n",
    "            cache[N] = fib(N - 1) + fib(N - 2)\n",
    "            return cache[N]\n",
    "        \n",
    "    return fib(N)\n"
   ]
  },
  {
   "cell_type": "code",
   "execution_count": null,
   "metadata": {},
   "outputs": [],
   "source": [
    "%% script false\n",
    "Dict = {}\n",
    "\n",
    "Dict['key'] = 'value'\n",
    "\n",
    "'''this is a super fast hashed operation.'''\n",
    "'key' in Dict \n",
    "\n",
    "# RV don't do this shit. converts to list before doing contains operation\n",
    "'key' in Dict.keys()"
   ]
  },
  {
   "cell_type": "code",
   "execution_count": 42,
   "metadata": {},
   "outputs": [
    {
     "data": {
      "text/plain": [
       "False"
      ]
     },
     "execution_count": 42,
     "metadata": {},
     "output_type": "execute_result"
    }
   ],
   "source": [
    "dicto = {}\n",
    "dicto[1] = 'wtf'\n",
    "'wtf' in dicto"
   ]
  },
  {
   "cell_type": "code",
   "execution_count": null,
   "metadata": {},
   "outputs": [],
   "source": [
    "# book bootcomp solution for fib - O(N) space and O(N) time\n",
    "def fibonacci(n, cache={}):\n",
    "    if n <= 1:\n",
    "        return n\n",
    "    elif n not in cache:\n",
    "        cache[n] = fibonacci(n - 1) + fibonacci(n - 2)\n",
    "    return cache[n]"
   ]
  },
  {
   "cell_type": "code",
   "execution_count": 81,
   "metadata": {},
   "outputs": [],
   "source": [
    "# review how to use range properly RV"
   ]
  },
  {
   "cell_type": "code",
   "execution_count": 82,
   "metadata": {},
   "outputs": [],
   "source": [
    "# book overachiever siolution for fib - o(1) space and O(N) time\n",
    "    # reuses cache space iteratively, filling up from bottom top\n",
    "def fibonacci_small_cache(n):\n",
    "    if n <= 1:\n",
    "        return n\n",
    "    \n",
    "    f_minus_2, f_minus_1 = 0, 1\n",
    "    for i in range(1, n):\n",
    "        f = f_minus_2 + f_minus_1\n",
    "        f_minus_2 = f_minus_1\n",
    "        f_minus_1 = f\n",
    "    return f_minus_1"
   ]
  },
  {
   "cell_type": "code",
   "execution_count": null,
   "metadata": {},
   "outputs": [],
   "source": [
    "max_subarray([904, 40, 523, 12, -335, -385, -124, 481, -31])"
   ]
  },
  {
   "cell_type": "markdown",
   "metadata": {},
   "source": [
    "Fibonacci summary:\n",
    "- no DP: we recursively and logically iterate through each subsolution, even if it repeats\n",
    "- DP top-down memoization: we recursively and logically iterate through each subsolution, but we store each novel subsolution into a cache (a dict with O(1) element checking), so when it repeats we don't have to recompute it\n",
    "    - potentially avoids having to compute every possible subsolution\n",
    "    - has higher space complexity due to recursive function call stack, and also stores every subsolution needed in cache\n",
    "- DP bottom-up tabulation: we NONrecursively iterately iterate through each subsolution from the bottom up, computing every possible subsolution\n",
    "    - has less space complexity due to not needing to cache all possible subsolutions and no function call stack. However needs to compute all solns"
   ]
  },
  {
   "cell_type": "markdown",
   "metadata": {},
   "source": [
    "### boot camp 2:\n",
    "find the maximum sum over all subarrays of a given array of integer.\n",
    "example: \n",
    "\n",
    "904 40 523 12 -335 -385 -124 481 -31\n",
    "\n",
    "where 904 the 0th element and -31 is the 8th element (9 element array). The maximum subarray here starts at index 0 and ends at index 3. \n",
    "\n",
    "904 40 523 12\n",
    "\n",
    "-501 -122 -1 -120 -3 "
   ]
  },
  {
   "cell_type": "markdown",
   "metadata": {},
   "source": [
    "-- the quote quote power set brute force of this doesnt have 2^n total combinations\n",
    "    --- it only has n(n+1) / 2 combinations "
   ]
  },
  {
   "cell_type": "code",
   "execution_count": 123,
   "metadata": {},
   "outputs": [
    {
     "name": "stdout",
     "output_type": "stream",
     "text": [
      "904\n",
      "944\n",
      "1467\n",
      "1479\n",
      "1144\n",
      "759\n",
      "635\n",
      "2535\n",
      "2504\n"
     ]
    }
   ],
   "source": [
    "import itertools\n",
    "for wtf in itertools.accumulate([904, 40, 523, 12, -335, -385, -124, 1900, -31]):\n",
    "    print(wtf)"
   ]
  },
  {
   "cell_type": "code",
   "execution_count": 1,
   "metadata": {},
   "outputs": [],
   "source": [
    "#our attempt at a trivial solution doesn't take into account the possibility that \n",
    "    # a maximal subarray might sandwich negative values\n",
    "        '''it fails completely.'''\n",
    "def max_subarray(array):\n",
    "    current_start = 0\n",
    "    current_index = 0\n",
    "    maximum_begin = 0\n",
    "    maximum_end = 0\n",
    "    counter = array[0]\n",
    "    current_max = counter\n",
    "    for item in array[1:]:\n",
    "        current_index += 1\n",
    "        if counter + item > counter:\n",
    "            counter += item\n",
    "        else:\n",
    "            counter = item\n",
    "            current_start = current_index\n",
    "        if counter > current_max:\n",
    "            current_max = counter\n",
    "            maximum_begin = current_start\n",
    "            maximum_end = current_index\n",
    "    \n",
    "    return (maximum_begin, maximum_end)\n",
    "                "
   ]
  },
  {
   "cell_type": "code",
   "execution_count": 119,
   "metadata": {},
   "outputs": [
    {
     "data": {
      "text/plain": [
       "(0, 2)"
      ]
     },
     "execution_count": 119,
     "metadata": {},
     "output_type": "execute_result"
    }
   ],
   "source": [
    "max_subarray([1, 2, 3, -1, 3, -10])"
   ]
  },
  {
   "cell_type": "code",
   "execution_count": 118,
   "metadata": {},
   "outputs": [
    {
     "data": {
      "text/plain": [
       "(6, 7)"
      ]
     },
     "execution_count": 118,
     "metadata": {},
     "output_type": "execute_result"
    }
   ],
   "source": [
    "max_subarray([904, 40, 523, 12, -335, -385, -124, 1900, -31])"
   ]
  },
  {
   "cell_type": "code",
   "execution_count": 27,
   "metadata": {},
   "outputs": [],
   "source": [
    "arr = [904, 40, 523, 12, -335, -1485, -124, -31, 1480]"
   ]
  },
  {
   "cell_type": "code",
   "execution_count": 4,
   "metadata": {},
   "outputs": [
    {
     "data": {
      "text/plain": [
       "-31"
      ]
     },
     "execution_count": 4,
     "metadata": {},
     "output_type": "execute_result"
    }
   ],
   "source": [
    "sum(arr[0:9]) - sum(arr[0:8])"
   ]
  },
  {
   "cell_type": "code",
   "execution_count": 6,
   "metadata": {},
   "outputs": [
    {
     "data": {
      "text/plain": [
       "nan"
      ]
     },
     "execution_count": 6,
     "metadata": {},
     "output_type": "execute_result"
    }
   ],
   "source": [
    "float('nan')"
   ]
  },
  {
   "cell_type": "code",
   "execution_count": 25,
   "metadata": {},
   "outputs": [],
   "source": [
    "'''\n",
    "after looking at too many hints and kind of the solution...\n",
    "compute the subarray sum for 0:0:, 0:1, 0:2, ... 0:N\n",
    "then, the subarray sums for all intermediate subarrays s.t. i=start, j=end are\n",
    "sum(0:j) - sum(0:i) = sum(i+1:j)\n",
    "'''\n",
    "\n",
    "'''\n",
    "WORKS, USES DP, is O(N^2) time and O(N) space\n",
    "'''\n",
    "def max_subarray2(array):\n",
    "    #generate our cache, where the kth entry of the cache is the sum of the subarray\n",
    "        #going from index 0 to k\n",
    "    cache = []\n",
    "    counter = 0\n",
    "    for item in array:\n",
    "        counter += item\n",
    "        cache.append(counter)\n",
    "    \n",
    "    current_max = float(\"-Inf\")\n",
    "    current_max_indices = (float('nan'), float('nan'))\n",
    "    i = 0\n",
    "    while (i != len(cache)):\n",
    "        j = i\n",
    "        while(j != len(cache)):\n",
    "            if i == j:\n",
    "                if current_max < cache[i]:\n",
    "                    current_max = cache[i]\n",
    "                    current_max_indices = (0, i)\n",
    "            else:\n",
    "                if current_max < cache[j] - cache[i]:\n",
    "                    current_max = cache[j] - cache[i]\n",
    "                    current_max_indices = (i+1, j)\n",
    "            j += 1\n",
    "        i += 1\n",
    "    \n",
    "    return current_max, current_max_indices"
   ]
  },
  {
   "cell_type": "code",
   "execution_count": 28,
   "metadata": {},
   "outputs": [
    {
     "data": {
      "text/plain": [
       "(1480, (8, 8))"
      ]
     },
     "execution_count": 28,
     "metadata": {},
     "output_type": "execute_result"
    }
   ],
   "source": [
    "max_subarray2(arr)"
   ]
  },
  {
   "cell_type": "code",
   "execution_count": null,
   "metadata": {},
   "outputs": [],
   "source": [
    "'''\n",
    "divide and conquer no DP. \n",
    "split arr into L, which is arr[0:M] and R, which is arr[M+1:N-1]\n",
    "find maximum subarray sum in L and R and for l and r, \n",
    "where l is max subarray sum for subarrays in L ending at last element of L\n",
    "and r is max subarray sum for subarrays in R starting at first element of R\n",
    "\n",
    "max subarray sum for arr is then max of l + r, and answer for L and R.\n",
    "theoretically O N LOG N but i dont understand\n",
    "'''\n",
    "#no commment.\n",
    "def max_subarray_dac(arr):\n",
    "    pass\n"
   ]
  },
  {
   "cell_type": "code",
   "execution_count": 29,
   "metadata": {},
   "outputs": [],
   "source": [
    "'''\n",
    "BOOK SOLUTION\n",
    "\n",
    "tabulation\n",
    "because you have to compute every single possible subarray sum, you essentially\n",
    "have to compute all possible subproblems\n",
    "\n",
    "????????????????/\n",
    "\n",
    "rv\n",
    "'''\n",
    "def max_subarray_tabDP(arr):\n",
    "    min_sum = 0\n",
    "    max_sum = 0\n",
    "    cache = []\n",
    "    counter = 0\n",
    "    for item in array:\n",
    "        counter += item\n",
    "        cache.append(counter)\n",
    "        \n",
    "    for running_sum in cache:\n",
    "        min_sum = min(min_sum, running_sum)\n",
    "        max_sum = max(max_sum, running_sum - min_sum)\n",
    "        \n",
    "    return max_sum"
   ]
  },
  {
   "cell_type": "markdown",
   "metadata": {},
   "source": [
    "#### randomly revisiting power set to speed up with DP"
   ]
  },
  {
   "cell_type": "code",
   "execution_count": 61,
   "metadata": {},
   "outputs": [],
   "source": [
    "#generate a power set using DP\n",
    "# RV casting a list to a string is O(1)\n",
    "# RV - 'big' objects are viewable outside nested function scope, but scalars arent.\n",
    "from copy import copy\n",
    "def powerset_evoker_DP(S):\n",
    "    '''\n",
    "    takes in a set S and returns a list of sets\n",
    "    '''\n",
    "    power_set = list()\n",
    "    power_set_str = set()\n",
    "    calls = [0]\n",
    "    def powerset(s, power_set):\n",
    "        '''\n",
    "        let s be some collection. return a list of sets, where together they are the power set of s\n",
    "        '''\n",
    "        calls[0] += 1\n",
    "        if str(s) not in power_set_str:\n",
    "            power_set.append(s)\n",
    "            power_set_str.add(str(s))\n",
    "        for element in s:\n",
    "            s_without_ith_value = copy(s)\n",
    "            s_without_ith_value.remove(element)\n",
    "            if str(s_without_ith_value) not in power_set_str:\n",
    "                powerset(s_without_ith_value, power_set)\n",
    "    powerset(S, power_set)\n",
    "    return power_set, calls[0]"
   ]
  },
  {
   "cell_type": "code",
   "execution_count": 62,
   "metadata": {},
   "outputs": [
    {
     "data": {
      "text/plain": [
       "([[1, 2, 3], [2, 3], [3], [], [2], [1, 3], [1], [1, 2]], 8)"
      ]
     },
     "execution_count": 62,
     "metadata": {},
     "output_type": "execute_result"
    }
   ],
   "source": [
    "powerset_evoker_DP([1, 2, 3])"
   ]
  },
  {
   "cell_type": "markdown",
   "metadata": {},
   "source": [
    "## 16.3 - Count the number of ways to traverse a 2D array\n",
    "In this problem you are to count the number of ways of starting at the top left corner of a 2D array and getting to the bottom-right corner. all moves must either go right or down. \n",
    "\n",
    "write a program counting how many ways you can go from top-left to bottom-right in 2D array"
   ]
  },
  {
   "cell_type": "markdown",
   "metadata": {},
   "source": [
    "- given an n height by m width coordinate plane/array, one needs to travel n - 1 units in the x-direction (which is right) and m - 1 units in the y-direction (which is down) to get from the top left corner of this n by m array. \n",
    "- we can represent a traversal as a string, where the string length is (n-1) + (m-1)\n",
    "- characters in the string can be R (right) or D (down), but there can only exist n-1 total R's and m-1 total D's in the string "
   ]
  },
  {
   "cell_type": "code",
   "execution_count": null,
   "metadata": {},
   "outputs": [],
   "source": []
  },
  {
   "cell_type": "markdown",
   "metadata": {},
   "source": [
    "## 16.6 - knapsack\n",
    "a thief breaks into a clock store. Each clock has a weight and a monetary value that the thief knows. His knapsack cannot hold more than a specified weight combined. he wants to take clocks whose total value monetary value, is maximum subject to the knapsack constraint. Basically, he wants to pick which clocks to steal such that he has the highest monetary return from those clocks, while dealing with his knapsack weight contraints\n",
    "\n",
    "write a program taking in a weight constraint and a list of nodes, where each node contains a weight and value field (both weight and value field are integers). Select the subset of these nodes such that the total sum value is maximized and the weight constraint is satisfied."
   ]
  },
  {
   "cell_type": "code",
   "execution_count": 28,
   "metadata": {},
   "outputs": [],
   "source": [
    "class Node:\n",
    "    def __init__(self, weight, value):\n",
    "        self.weight = weight\n",
    "        self.value = value\n",
    "'''\n",
    "The BRUTE FORCE SOLUTION is to go through every possible combination of nodes, \n",
    "compute the total weight of every combination of nodes\n",
    "throw away combinations such that total weight is greater than max_weight\n",
    "of the leftover combinations, grab the one that has the highest total value\n",
    "\n",
    "there exist 2^N - 1 possible combinations of nodes, where there are N nodes - this\n",
    "is the power set of the nodes, minus the empty set. \n",
    "iterating through every single possible combination and comparing weight and value\n",
    "sums to a updating counter. Slow. \n",
    "'''\n",
    "node1 = Node(1000, 1400)\n",
    "node2 = Node(333, 665)\n",
    "nodeList = []\n",
    "nodeList.append(node1)\n",
    "nodeList.append(node2)\n",
    "nodeList.append(deepcopy(node2))\n",
    "nodeList.append(deepcopy(node2))\n"
   ]
  },
  {
   "cell_type": "code",
   "execution_count": 25,
   "metadata": {},
   "outputs": [],
   "source": [
    "#brute force: \n",
    "'''\n",
    "(1) get every possible subset, computing their value and weight sum as we go & storing\n",
    "(2) delete subsets with weight sum > weight max\n",
    "(3) pick the subset with the highest value sum\n",
    "'''\n",
    "from copy import copy, deepcopy\n",
    "from pdb import set_trace\n",
    "# here, did top down on accident. DOESNT WORK.\n",
    "def weight_good(S, nodeList, weight_max):\n",
    "    counter = 0\n",
    "    for index in S:\n",
    "        counter += nodeList[index].weight\n",
    "    if counter > weight_max:\n",
    "        return False\n",
    "    else:\n",
    "        return True\n",
    "    \n",
    "def value_sum(S, nodeList):\n",
    "    counter = 0\n",
    "    for index in S:\n",
    "        counter += nodeList[index].value\n",
    "    return counter\n",
    "\n",
    "class Node:\n",
    "    def __init__(self, weight, value):\n",
    "        self.weight = weight\n",
    "        self.value = value\n",
    "\n",
    "def knapsack(nodeList, weight_max):\n",
    "    current_value_max = float(\"-Inf\")\n",
    "    current_max_indices = None\n",
    "    s = set(list(range(len(nodeList))))\n",
    "    PS = set()\n",
    "    def power_set_mod(S, nodeList):\n",
    "        if not weight_good(S, nodeList, weight_max):\n",
    "            return\n",
    "        S_value_sum = value_sum(S, nodeList)\n",
    "        if S_value_sum > current_value_max:\n",
    "            current_value_max = S_value_sum\n",
    "            current_max_indices = S\n",
    "        fs = frozenset(S)\n",
    "        if fs not in PS:\n",
    "            PS.add(fs)\n",
    "        else:\n",
    "            return\n",
    "        for element in S:\n",
    "            subset = deepcopy(S)\n",
    "            subset.remove(element)\n",
    "            power_set_mod(subset)\n",
    "            \n",
    "    power_set_mod(s, nodeList)\n",
    "    \n",
    "    subset = []\n",
    "    for index in current_max_indices:\n",
    "        subset.append(nodeList[index])\n",
    "    \n",
    "    return subset, current_value_max\n",
    "    "
   ]
  },
  {
   "cell_type": "code",
   "execution_count": 56,
   "metadata": {},
   "outputs": [],
   "source": [
    "#revamp of the prior. top down doesnt work (above), but bottom up does (HERE!)!!!\n",
    "from copy import deepcopy\n",
    "\n",
    "class Node:\n",
    "    def __init__(self, weight, value):\n",
    "        self.weight = weight\n",
    "        self.value = value\n",
    "\n",
    "def weight_good(S, nodeList, weight_max):\n",
    "    counter = 0\n",
    "    for index in S:\n",
    "        counter += nodeList[index].weight\n",
    "    if counter > weight_max:\n",
    "        return False\n",
    "    else:\n",
    "        return True\n",
    "    \n",
    "def value_sum(S, nodeList):\n",
    "    counter = 0\n",
    "    for index in S:\n",
    "        counter += nodeList[index].value\n",
    "    return counter\n",
    "\n",
    "def knapsack(nodeList, weight_max):\n",
    "    s = set(list(range(len(nodeList))))\n",
    "    current_value_max = [float(\"-Inf\")]\n",
    "    current_max_indices = [set()]\n",
    "    PS = set()    \n",
    "    def power_set_mod(current_indices, leftover_indices, nodeList):\n",
    "        #check if this set of nodes has already been parsed\n",
    "        if frozenset(current_indices) in PS:\n",
    "            #if it has, then so has its supersets and we exit.\n",
    "            return\n",
    "        #otherwise, this is the call to parse its supersets\n",
    "        PS.add(frozenset(current_indices))\n",
    "            \n",
    "        #UNLESS this set doesn't satisfy weight requirements,\n",
    "            #then we never want to parse its supersets.\n",
    "        if not weight_good(current_indices, nodeList, weight_max):\n",
    "            return\n",
    "        \n",
    "        #check if this set has the maximum value. if so, make it the new optimal set\n",
    "        current_value_sum = value_sum(current_indices, nodeList)\n",
    "        if current_value_sum > current_value_max[0]:\n",
    "            current_value_max[0] = current_value_sum\n",
    "            current_max_indices[0] = current_indices\n",
    "        \n",
    "        #generate the superset of one item larger for this current set\n",
    "        for index in leftover_indices:\n",
    "            next_set = deepcopy(current_indices)\n",
    "            next_set.add(index)\n",
    "            next_leftover_indices = deepcopy(leftover_indices)\n",
    "            next_leftover_indices.remove(index)\n",
    "            power_set_mod(next_set, next_leftover_indices, nodeList)\n",
    "            \n",
    "    power_set_mod(set(), s, nodeList)\n",
    "    \n",
    "    subset = []\n",
    "    for index in current_max_indices[0]:\n",
    "        subset.append(nodeList[index])\n",
    "        \n",
    "    return current_max_indices[0], current_value_max[0], PS"
   ]
  },
  {
   "cell_type": "code",
   "execution_count": 47,
   "metadata": {},
   "outputs": [
    {
     "data": {
      "text/plain": [
       "665"
      ]
     },
     "execution_count": 47,
     "metadata": {},
     "output_type": "execute_result"
    }
   ],
   "source": [
    "nodeList[2].value"
   ]
  },
  {
   "cell_type": "code",
   "execution_count": 57,
   "metadata": {},
   "outputs": [
    {
     "data": {
      "text/plain": [
       "({1, 2, 3},\n",
       " 1995,\n",
       " {frozenset(),\n",
       "  frozenset({2}),\n",
       "  frozenset({3}),\n",
       "  frozenset({2, 3}),\n",
       "  frozenset({0, 2, 3}),\n",
       "  frozenset({1, 2}),\n",
       "  frozenset({0}),\n",
       "  frozenset({0, 3}),\n",
       "  frozenset({0, 1}),\n",
       "  frozenset({0, 2}),\n",
       "  frozenset({1}),\n",
       "  frozenset({0, 1, 2}),\n",
       "  frozenset({1, 3}),\n",
       "  frozenset({1, 2, 3}),\n",
       "  frozenset({0, 1, 3}),\n",
       "  frozenset({0, 1, 2, 3})})"
      ]
     },
     "execution_count": 57,
     "metadata": {},
     "output_type": "execute_result"
    }
   ],
   "source": [
    "knapsack(nodeList, 1000)"
   ]
  },
  {
   "cell_type": "code",
   "execution_count": null,
   "metadata": {},
   "outputs": [],
   "source": [
    "#bottom up redone from work. uses two arrays for weight/value instead of a node\n",
    "    #knapsack is same as above, but #knapsack fwd switches things to save space & calls\n",
    "from copy import deepcopy\n",
    "\n",
    "def weight_satisfied(current_indices, weights, capacity):\n",
    "    counter = 0\n",
    "    for index in current_indices:\n",
    "        counter += weights[index]\n",
    "    if counter > capacity:\n",
    "        print('Weight capacity fail. ' + str(counter) + ' > ' + str(capacity))\n",
    "        return False\n",
    "    else:\n",
    "        return True\n",
    "\n",
    "def sum_value(current_indices, values):\n",
    "    counter = 0\n",
    "    for index in current_indices:\n",
    "        counter += values[index]\n",
    "    return counter\n",
    "\n",
    "def convert_set_of_fs_to_list_of_sets(visited_sets):\n",
    "    L = []\n",
    "    for fs in visited_sets:\n",
    "        L.append(set(fs))\n",
    "    return L\n",
    "\n",
    "#given three arrays - weights, values, indices - where the ith index of eaach array\n",
    "    #represents the weight, value, and index of the ith knapsack object\n",
    "def knapsack(weights, values, capacity):\n",
    "    indices = set(range(len(weights)))\n",
    "    #keep track of the subsets of the total list of knapsack objects we have checked already, so we dont check same things twice\n",
    "    visited_sets = set()\n",
    "    #also keep track of the current best subset that satisfies the weight requirement and has the best seen before vale sum\n",
    "    best_indices = [set()]\n",
    "    best_value_sum = [float(\"-Inf\")]\n",
    "    \n",
    "    def knapsack_combo(current_indices, remaining_indices, weights, values, capacity):\n",
    "        print('------------------------')\n",
    "        print('Current visited sets are ' + str(convert_set_of_fs_to_list_of_sets(visited_sets)))\n",
    "        #print('Current best sum is ' + str(best_value_sum[0]) + ' and indices are ' + str(best_indices[0]))\n",
    "        print('Current set is ' + str(current_indices))\n",
    "        #check if we've gone through this subset already - if we have, get out\n",
    "        frozen = frozenset(current_indices)\n",
    "        if frozen in visited_sets:\n",
    "            print('Already visited')\n",
    "            return\n",
    "        #if we havent, marked that we've gone through this subset (we're doing it now)\n",
    "        print('Marking visited')\n",
    "        visited_sets.add(frozen)\n",
    "        \n",
    "        #if the total weight of this subset exceeds knapsack capacity\n",
    "            #we dont bother to check if its value is better than other values nor if its supersets satisfy\n",
    "                #cuz if this weight doesnt check out, then its supersets weights definitely dont either\n",
    "        if not weight_satisfied(current_indices, weights, capacity):\n",
    "            return\n",
    "        \n",
    "        #if the sum'd value of this subset is better than the running counter, update running counter\n",
    "        current_value = sum_value(current_indices, values)\n",
    "        if current_value > best_value_sum[0]:\n",
    "            print('The current set ' + str(current_indices) + ' has value ' + str(current_value) + \n",
    "                  ', which is greater than the previous maxvalue, ' + str(best_value_sum[0]) + '. Updating max')\n",
    "            best_value_sum[0] = current_value\n",
    "            best_indices[0] = deepcopy(current_indices)\n",
    "        \n",
    "        #do the same for the supersets of this subset\n",
    "        for index in remaining_indices:\n",
    "            next_indices = deepcopy(current_indices)\n",
    "            next_indices.add(index)\n",
    "            next_remaining_indices = deepcopy(remaining_indices)\n",
    "            next_remaining_indices.remove(index)\n",
    "            knapsack_combo(next_indices, next_remaining_indices, weights, values, capacity)\n",
    "            \n",
    "    knapsack_combo(set(), indices, weights, values, capacity)\n",
    "    \n",
    "    return best_value_sum[0], best_indices[0]\n",
    "\n",
    "#given three arrays - weights, values, indices - where the ith index of eaach array\n",
    "    #represents the weight, value, and index of the ith knapsack object\n",
    "def knapsack_fwd(weights, values, capacity):\n",
    "    indices = set(range(len(weights)))\n",
    "    #keep track of the subsets of the total list of knapsack objects we have checked already, so we dont check same things twice\n",
    "    visited_sets = set()\n",
    "    #also keep track of the current best subset that satisfies the weight requirement and has the best seen before vale sum\n",
    "    best_indices = [set()]\n",
    "    best_value_sum = [float(\"-Inf\")]\n",
    "    \n",
    "    def knapsack_combo(current_indices, remaining_indices, weights, values, capacity):\n",
    "        #do the same for the supersets of this subset\n",
    "        for index in remaining_indices:\n",
    "            next_indices = deepcopy(current_indices)\n",
    "            next_indices.add(index)\n",
    "            print('------------------------')\n",
    "            print('Current visited sets are ' + str(convert_set_of_fs_to_list_of_sets(visited_sets)))\n",
    "            #print('Current best sum is ' + str(best_value_sum[0]) + ' and indices are ' + str(best_indices[0]))\n",
    "            print('Next set is ' + str(next_indices))\n",
    "            #check if we've gone through this subset already - if we have, get out\n",
    "            frozen = frozenset(next_indices)\n",
    "            if frozen in visited_sets:\n",
    "                print('Already visited')\n",
    "                return\n",
    "            #if we havent, marked that we've gone through this subset (we're doing it now)\n",
    "            print('Marking visited')\n",
    "            visited_sets.add(frozen)\n",
    "\n",
    "            #if the total weight of this subset exceeds knapsack capacity\n",
    "                #we dont bother to check if its value is better than other values nor if its supersets satisfy\n",
    "                    #cuz if this weight doesnt check out, then its supersets weights definitely dont either\n",
    "            if not weight_satisfied(next_indices, weights, capacity):\n",
    "                return\n",
    "\n",
    "            #if the sum'd value of this subset is better than the running counter, update running counter\n",
    "            current_value = sum_value(next_indices, values)\n",
    "            if current_value > best_value_sum[0]:\n",
    "                print('The current set ' + str(next_indices) + ' has value ' + str(current_value) + \n",
    "                      ', which is greater than the previous maxvalue, ' + str(best_value_sum[0]) + '. Updating max')\n",
    "                best_value_sum[0] = current_value\n",
    "                best_indices[0] = deepcopy(next_indices)\n",
    "            \n",
    "            next_remaining_indices = deepcopy(remaining_indices)\n",
    "            next_remaining_indices.remove(index)\n",
    "            knapsack_combo(next_indices, next_remaining_indices, weights, values, capacity)\n",
    "            \n",
    "    knapsack_combo(set(), indices, weights, values, capacity)\n",
    "    \n",
    "    return best_value_sum[0], best_indices[0]\n"
   ]
  },
  {
   "cell_type": "markdown",
   "metadata": {},
   "source": [
    "### RV - in BOTH of MY knapsack solutions (technuically theres only one), we have a problem with function nesting and globals  in the fcn. it cant detect a delcared global for some vars, but can for others."
   ]
  },
  {
   "cell_type": "markdown",
   "metadata": {},
   "source": [
    "The next best way i can imagine doing this is to iterate through the power set in the same way the book does for the power set generation problem - which used zero space complexity. Since the book goes through the power set bottom up, it is also in line with the dynamics of weight and value checking - dont check the superset at all if the weight doesnt go through, (thereby killing any potential down that length of hte tree), and check the value with small O(1) space counter at each iteration, updating. "
   ]
  },
  {
   "cell_type": "code",
   "execution_count": 67,
   "metadata": {},
   "outputs": [
    {
     "name": "stdout",
     "output_type": "stream",
     "text": [
      "0 []\n",
      "1 []\n",
      "2 []\n",
      "3 []\n",
      "adding []\n",
      "3 [3]\n",
      "adding [3]\n",
      "2 [2]\n",
      "3 [2]\n",
      "adding [2]\n",
      "3 [2, 3]\n",
      "adding [2, 3]\n",
      "1 [1]\n",
      "2 [1]\n",
      "3 [1]\n",
      "adding [1]\n",
      "3 [1, 3]\n",
      "adding [1, 3]\n",
      "2 [1, 2]\n",
      "3 [1, 2]\n",
      "adding [1, 2]\n",
      "3 [1, 2, 3]\n",
      "adding [1, 2, 3]\n"
     ]
    },
    {
     "data": {
      "text/plain": [
       "[[], [3], [2], [2, 3], [1], [1, 3], [1, 2], [1, 2, 3]]"
      ]
     },
     "execution_count": 67,
     "metadata": {},
     "output_type": "execute_result"
    }
   ],
   "source": [
    "#books power set\n",
    "def generate_power_set ( input_set ):\n",
    "    # Generate all subsets whose intersection with input_set [0], ...,\n",
    "    # input_set [ to_be_selected - 1] is exactly selected_so_far .\n",
    "    def directed_power_set (to_be_selected , selected_so_far ):\n",
    "        print(to_be_selected , selected_so_far )\n",
    "        if to_be_selected == len( input_set ):\n",
    "            print('adding ' + str(selected_so_far))\n",
    "            power_set.append(list( selected_so_far ))\n",
    "            return\n",
    "        directed_power_set( to_be_selected + 1, selected_so_far )\n",
    "        # Generate all subsets that contain input_set [ to_be_selected ].\n",
    "        directed_power_set( to_be_selected + 1,\n",
    "        selected_so_far + [ input_set [ to_be_selected ]])\n",
    "    power_set = []\n",
    "    directed_power_set(0, [])\n",
    "    return power_set\n",
    "generate_power_set([1, 2, 3])"
   ]
  },
  {
   "cell_type": "code",
   "execution_count": 76,
   "metadata": {},
   "outputs": [
    {
     "name": "stdout",
     "output_type": "stream",
     "text": [
      "Weight capacity fail. 1250 > 1000\n",
      "Weight capacity fail. 1050 > 1000\n",
      "Weight capacity fail. 1450 > 1000\n",
      "Weight capacity fail. 1150 > 1000\n",
      "Weight capacity fail. 1550 > 1000\n",
      "Weight capacity fail. 1350 > 1000\n",
      "Weight capacity fail. 1750 > 1000\n"
     ]
    },
    {
     "data": {
      "text/plain": [
       "([[0, 1, 2]], [1991])"
      ]
     },
     "execution_count": 76,
     "metadata": {},
     "output_type": "execute_result"
    }
   ],
   "source": [
    "from copy import deepcopy\n",
    "\n",
    "def weight_satisfied(current_indices, weights, capacity):\n",
    "    counter = 0\n",
    "    for index in current_indices:\n",
    "        counter += weights[index]\n",
    "    if counter > capacity:\n",
    "        print('Weight capacity fail. ' + str(counter) + ' > ' + str(capacity))\n",
    "        return False\n",
    "    else:\n",
    "        return True\n",
    "\n",
    "def sum_value(current_indices, values):\n",
    "    counter = 0\n",
    "    for index in current_indices:\n",
    "        counter += values[index]\n",
    "    return counter\n",
    "\n",
    "def ks_power_set ( weights, values, capacity):\n",
    "    input_set = list(range(len(weights)))\n",
    "    max_indices = [set()]\n",
    "    max_val = [float(\"-Inf\")]\n",
    "    # Generate all subsets whose intersection with input_set [0], ...,\n",
    "    # input_set [ to_be_selected - 1] is exactly selected_so_far .\n",
    "    def ksdirected_power_set (to_be_selected , selected_so_far ):\n",
    "        if to_be_selected == len( input_set ):\n",
    "            Sum = sum_value(selected_so_far, values)\n",
    "            if Sum > max_val[0]:\n",
    "                max_val[0] = Sum\n",
    "                max_indices[0] = selected_so_far\n",
    "            return\n",
    "        if not weight_satisfied(selected_so_far, weights, capacity):\n",
    "            return\n",
    "        ksdirected_power_set( to_be_selected + 1, selected_so_far )\n",
    "        # Generate all subsets that contain input_set [ to_be_selected ].\n",
    "        if not weight_satisfied(selected_so_far + [ input_set [ to_be_selected ]], \n",
    "                                weights, capacity):\n",
    "            return\n",
    "        ksdirected_power_set( to_be_selected + 1,\n",
    "        selected_so_far + [ input_set [ to_be_selected ]])\n",
    "    \n",
    "    ksdirected_power_set(0, [])\n",
    "    return max_indices, max_val\n",
    "ks_power_set(weights=[300, 200, 400, 850], values=[664, 662, 665, 1990], capacity=1000)"
   ]
  },
  {
   "cell_type": "markdown",
   "metadata": {},
   "source": [
    "##### book soln fml - RV literally wtf"
   ]
  },
  {
   "cell_type": "code",
   "execution_count": 79,
   "metadata": {},
   "outputs": [],
   "source": [
    "import collections\n",
    "item = collections.namedtuple('Item', ('weight', 'value'))\n",
    "\n",
    "def optimum_subjec_to_capacity(items, capacity):\n",
    "    #returns the optimum value when we choose from items[:k+1] and have a\n",
    "    #capacity of available_capacity\n",
    "    def optimum_subject_to_item_and_capacity(k, available_capacity):\n",
    "        if k < 0:\n",
    "            # no items can be chosen\n",
    "            return 0\n",
    "        \n",
    "        if V[k][available_capacity] == -1:\n",
    "            without_curr_item = optimum_subject_to_item_and_capacity(\n",
    "                k-1, available_capacity)\n",
    "            with_curr_item = (0 if available_capacity < items[k].weight else (\n",
    "                k - 1, available_capacity - items[k].weight))\n",
    "            V[k][available_capacity] = max(without_curr_item, with_curr_item)\n",
    "        return V[k][available_capacity]\n",
    "    \n",
    "    #V[i][j] holds the optimum value when we choose from items[:i+1] and have capacity j\n",
    "    V = [[-1] * (capacity + 1) for i in items]\n",
    "    return optimum_subject_to_item_and_capacity(len(items) - 1, capacity)"
   ]
  },
  {
   "cell_type": "markdown",
   "metadata": {},
   "source": [
    "## Chapter 17: Greedy algos + invariants - 17.5"
   ]
  },
  {
   "cell_type": "markdown",
   "metadata": {},
   "source": [
    "### greedy"
   ]
  },
  {
   "cell_type": "markdown",
   "metadata": {},
   "source": [
    "- note that greedy algorithms, while giving a local optimum, might not give a global optimum answer\n",
    "    - some tweaking must be required to have it give you the global optimum (like order of exec)"
   ]
  },
  {
   "cell_type": "markdown",
   "metadata": {},
   "source": [
    "general idea: \n",
    "- use greedy for optimization problems where has natural set of choices to choose from\n",
    "- greedy is easier recursively, and gives better performance iteratively\n",
    "- sometimes doesnt yield optimum, but gives insight on the optimum\n",
    "- sometimes not obvious"
   ]
  },
  {
   "cell_type": "code",
   "execution_count": 11,
   "metadata": {},
   "outputs": [
    {
     "data": {
      "text/plain": [
       "[100, 100, 100, 25, 10, 10]"
      ]
     },
     "execution_count": 11,
     "metadata": {},
     "output_type": "execute_result"
    }
   ],
   "source": [
    "#greedyt algorithms bootcamp\n",
    "coins = [1, 5, 10, 25, 50, 100]\n",
    "coins.sort()\n",
    "def greedy_give_change(amount, coins):\n",
    "    if amount < coins[0]:\n",
    "        print('cant give change when its microscopic broo')\n",
    "        return None\n",
    "    change = []\n",
    "    i = len(coins) - 1\n",
    "    while(amount != 0):\n",
    "        if amount < coins[i]:\n",
    "            i -= 1\n",
    "        else:\n",
    "            amount -= coins[i]\n",
    "            change.append(coins[i])\n",
    "            i = len(coins) - 1\n",
    "        \n",
    "    return change\n",
    "greedy_give_change(345, coins)"
   ]
  },
  {
   "cell_type": "code",
   "execution_count": 16,
   "metadata": {},
   "outputs": [
    {
     "data": {
      "text/plain": [
       "([100, 100, 100, 25, 10, 10], 6)"
      ]
     },
     "execution_count": 16,
     "metadata": {},
     "output_type": "execute_result"
    }
   ],
   "source": [
    "# book\n",
    "def change_making(cents):\n",
    "    COINS = [100, 50, 25, 10, 5, 1]\n",
    "    num_coins = 0\n",
    "    change = []\n",
    "    for coin in COINS:\n",
    "        num_coins += int(cents / coin)\n",
    "        change += int(cents/coin) * [coin]\n",
    "        cents %= coin\n",
    "    return change, num_coins\n",
    "change_making(345)"
   ]
  },
  {
   "cell_type": "markdown",
   "metadata": {},
   "source": [
    "### invariants"
   ]
  },
  {
   "cell_type": "markdown",
   "metadata": {},
   "source": [
    "- an invariant is a condition that is true during execution of a program\n",
    "    - basically it sounds like we use this all the time witohut knowing it\n",
    "        - aka use the information that we already have "
   ]
  },
  {
   "cell_type": "markdown",
   "metadata": {},
   "source": [
    "- ID right invariant hard kinda\n",
    "    - to ID whether u need to use invariant is to work on small examples to hypothesize it\n",
    "    \n",
    "- invariant is often subset of set of input space (subarray usually)"
   ]
  },
  {
   "cell_type": "code",
   "execution_count": null,
   "metadata": {},
   "outputs": [],
   "source": [
    "#boot camp\n",
    "#- take a sorted array and target - find if there exists two entries in sorted array adding to target\n",
    "#brute force\n",
    "def contains_addends_bf(target, array):\n",
    "    i = 0\n",
    "    while(i != len(array)):\n",
    "        j = 0\n",
    "        while(j != len(array)):\n",
    "            if i == j:\n",
    "                continue\n",
    "            if i + j == target:\n",
    "                return array[i], array[j]\n",
    "            j += 1\n",
    "        i += 1\n",
    "    return None\n",
    "\n",
    "#holds array in set and checks if complement in set\n",
    "def contains_addends_space(target, array):\n",
    "    S = set(array)\n",
    "    for item in array:\n",
    "        if target - item in S:\n",
    "            return item, target - item\n",
    "    return None\n",
    "\n",
    "#uses invariant of that the array is sorted all the time!\n",
    "    # when we shrink the array, we know that the shrinked item will never complement anything else\n",
    "def contains_addends_invariant(target, array):\n",
    "    L = 0\n",
    "    H = len(array) - 1\n",
    "    while(L < H):\n",
    "        val = array[L] + array[H]\n",
    "        if val == target:\n",
    "            return array[L], array[H]\n",
    "        elif val > target:\n",
    "            H -= 1\n",
    "        elif val < target:\n",
    "            L += 1\n",
    "    return None\n",
    "\n",
    "#book copied soln of invariant\n",
    "def has_two_sum(A, t):\n",
    "    i, j = 0, len(A) - 1\n",
    "    \n",
    "    while(i <= j):\n",
    "        if A[i] + A[j] == t:\n",
    "            return True\n",
    "        elif A[i] + A[j] < t:\n",
    "            i += 1\n",
    "        else: #A[i] + A[j] > t\n",
    "            j -= 1\n",
    "    return False\n",
    "            \n",
    "        "
   ]
  },
  {
   "cell_type": "markdown",
   "metadata": {},
   "source": [
    "### 17.5 - Find the majority element\n",
    "Several applictions requuire identification of elements in a sequence which occur more than a specified fraction of the total number of elements in the sequence. For example, wee may want to ID the yusers using excessive network bandwidth or IP addresses originating the most HTTP requests.\n",
    "\n",
    "Read a sequence of strings. You know apriori that more than half the strings are repetitions of a single string (majority element) but the positions where the  majority element occurs are unknown. Write a program that makes a single pass over the sequence and IDs the majority element. For example, input (b, a, c, a, a, b, a, a, c, a) has a be majority element\n",
    "HINT - take advantrage of the existance of a majority element to perform elimination\n",
    "\n"
   ]
  },
  {
   "cell_type": "code",
   "execution_count": null,
   "metadata": {},
   "outputs": [],
   "source": [
    "#brute force - use storage complexity.\n",
    "def majority_element_bf(array):\n",
    "    track = dict()\n",
    "    for item in array:\n",
    "        if item not in track:\n",
    "            track[item] = 1\n",
    "        else:\n",
    "            track[item] += 1\n",
    "    frequentist = None\n",
    "    Max = float(\"-Inf\")\n",
    "    for item in track:\n",
    "        if track[item] > Max:\n",
    "            frequentist = item\n",
    "            Max = track[item]\n",
    "    \n",
    "    return Max, frequentist"
   ]
  },
  {
   "cell_type": "code",
   "execution_count": null,
   "metadata": {},
   "outputs": [],
   "source": [
    "#try to do during original pass\n",
    "def majority_element(array):\n",
    "    track = dict()\n",
    "    for item in array:\n",
    "        if item not in track:\n",
    "            track[item] = 1\n",
    "        else:\n",
    "            track[item] += 1\n",
    "            if track[item] >= len(array) / 2:\n",
    "                return track[item], item"
   ]
  },
  {
   "cell_type": "code",
   "execution_count": null,
   "metadata": {},
   "outputs": [],
   "source": []
  },
  {
   "cell_type": "code",
   "execution_count": 26,
   "metadata": {},
   "outputs": [
    {
     "data": {
      "text/plain": [
       "4"
      ]
     },
     "execution_count": 26,
     "metadata": {},
     "output_type": "execute_result"
    }
   ],
   "source": [
    "def majority_search(input_stream):\n",
    "    candidate, candidate_count = None, 0\n",
    "    for it in input_stream:\n",
    "        if candidate_count == 0:\n",
    "            candidate = it\n",
    "            candidate_count = candidate_count + 1\n",
    "        elif candidate == it:\n",
    "            candidate_count += 1\n",
    "        else:\n",
    "            candidate_count -= 1\n",
    "    return candidate\n",
    "majority_search([ 2, 1, 3, 1, 4, 1])"
   ]
  },
  {
   "cell_type": "markdown",
   "metadata": {},
   "source": [
    "## Chapter 18: graphs - 18.2"
   ]
  },
  {
   "cell_type": "markdown",
   "metadata": {},
   "source": [
    "- GRAPHS are VERTICES and EDGES.\n",
    "- directed graphs are a set V of vertices and set E of vertex pairs (u, v), where u is the SOURCE vertex and v is the SINK vertex\n",
    "- can have LENGTH to edges and WEIGHTS to vertices\n",
    "- a PATH in a directed graph from vertex u to vertex v is a sequence of vertices (v0, v1, .., vn-1) such that v0 = u, v = vn-1, and each two adjacent vertices in the sequence, (vi, vi+1) is an edge. \n",
    "    - if there exists a path between u to v, then v is said to be REACHABLE from u\n",
    "    - LENGTH of a path is number of vertices in the sequence - 1 (which is number of edges in)\n",
    " - a CYCLE is a path in a graph that has at least one edge which begins and ends at the same vertex\n",
    "- a DIRECTED ACYCLIC GRAPH (DAG) is a graph where there exists no CYCLES\n",
    "    - vertices in a DAG with no outgoing edges are SINKS\n",
    "    - those with no incoming edges are sources\n",
    "        - those with neither outgoing or incoming edges are unconnected\n",
    "    - a TOPOLOGICAL ordering in a DAG is an ordering of vertices s.t. each vertex has a vertex earlier in the ordering as a source for an edge\n",
    "         -ie, a tree would ahve parents ioccur before children \n",
    " - an UNDIRECTED GRAPH is the same as a directed graph, but now given an edge e=(u,v) is now an unordered pair of vertices linking u and v in both directions (ie both u and v are both sources and sinks)\n",
    "    - two vertices in an undirected graph are connected if there exists a path from u to v and are disonnected otherwise\n",
    "    - a graph is connected if every pair of vertices in a graph are connnected\n",
    "    \n",
    "- directed graphs are connected if it contains a directed path from u to v OR FROM v to u for all vertices u,v in the directed graph\n",
    "    - it is strongly connected if there is a directed path from u to v AND FROM v to u for all vertices u, v in thee graph\n",
    "    - it is weakly connected if it is connected and not strongly connected (ie, replacing all directed edges with undirected edges yields a undirected connected graph)\n",
    "    \n",
    "- two MATHEMATICAL represnetations: ADJACENCY LIST or ADJACENCY MATRIX\n",
    "    - ADJACENCY LIST: each vertex v has a list of vertices to which it has an edge\n",
    "    - ADJACENCY MATRIX: |V| x |V| boolean matrix, where trues indicate edges b/w the vertices\n",
    "\n",
    "- a (FREE) TREE is a undirected graph with no cycles (or has unique path b/w every pair of vertices)\n",
    "- rooted trees have designated roots (???? isnt that just a tree?) so we can have parent-child\n",
    "- ordered trees are rooted trees and each vertex has an ORDERING on its kids\n",
    "\"An ordered tree is a rooted tree in which eachvertex has an ordering on its children. Binary trees, which are the subject of Chapter 6, di\u000b",
    "er fromordered trees since a node may have only one child in a binary tree, but that node may be a left ora right child, whereas in an ordered tree no analogous notion exists for a node with a single child.Specifically, in a binary tree, there is position as well as order associated with the children of nodes.\"\n",
    "\n",
    "- given some generic tree, call it graph G, then if we introduce some cycle (an edge) and call it graph G', then G' is a spanning tree os G. "
   ]
  },
  {
   "cell_type": "code",
   "execution_count": null,
   "metadata": {},
   "outputs": [],
   "source": [
    "#graphs boot camp:\n",
    "MatchResult = collections.namedtuple('MatchResult',\n",
    "('winning_team', 'losing_team'))\n",
    "def can_team_a_beat_team_b(matches , team_a , team_b):\n",
    "    def build_graph():\n",
    "        graph = collections.defaultdict(set)\n",
    "        for match in matches:\n",
    "            graph[match.winning_team].add(match.losing_team)\n",
    "        return graph\n",
    "    def is_reachable_dfs(graph , curr , dest , visited=set()):\n",
    "        if curr == dest:\n",
    "            return True\n",
    "        elif curr in visited or curr not in graph:\n",
    "            return False\n",
    "        visited.add(curr)\n",
    "\n",
    "        return any(is_reachable_dfs(graph , team , dest) for team in graph[curr])\n",
    "return is_reachable_dfs(build_graph(), team_a , team_b)"
   ]
  },
  {
   "cell_type": "markdown",
   "metadata": {},
   "source": [
    "- use a graph for spatially (space) connnected objects - theyre actually graphs in real life\n",
    "- use a graph to analyze binary relationships between two objects in a set of objects\n",
    "- graph problems deal with structure and graph topics - like find cycles or connected subparts - DFS is good for this\n",
    "- graph problems deal with optimization - like find shortest path - BFS, dijkstra, minimum spanning tree are good alogirmths "
   ]
  },
  {
   "cell_type": "markdown",
   "metadata": {},
   "source": [
    "#### graph search \n",
    "- BFS and DFS are both O(|V| + |E|) in worst case (which is O(N), linear)\n",
    "\n",
    "- DFS good check cycles and discovery time and finishing time for vertices\n",
    "- BFS compute distances from start vertex\n"
   ]
  },
  {
   "cell_type": "markdown",
   "metadata": {},
   "source": [
    "### 18.2 - paint a boolean matrix\n",
    "Let A be a boolean 2D array encoding a black and white image. Entry A(a,b) can be viewed as encoding the color at entry (a,b). Call two entries adjacent if one is to the left, right, above, or below the other. Note that the definition implies that an entry can be adjacent to at most four other entries, and that adjacency is symmetric, ie, if e0 adjacent to e1, then e1 adajacent to e0\n",
    "\n",
    "Define  a path from e0 to e1 to be a sequence of adjacent entries, starting at e0, ending at e1, with successive entries being adjacent\n",
    "\n",
    "Define the region associated with a point i,j to be all points i', j' such that there exists a path from i,j to i', j' in which all entries aree the same color. This implies i,j and i', j' are the same color\n",
    "\n",
    "implement a routine that takes an n x m boolean array A together with an entry x,y and flips the color of the region associated with x,y"
   ]
  },
  {
   "cell_type": "code",
   "execution_count": 71,
   "metadata": {
    "scrolled": false
   },
   "outputs": [
    {
     "name": "stdout",
     "output_type": "stream",
     "text": [
      "4\n"
     ]
    },
    {
     "data": {
      "text/plain": [
       "array([[0, 0, 0, 0],\n",
       "       [0, 1, 0, 0],\n",
       "       [1, 1, 0, 0],\n",
       "       [0, 1, 1, 0],\n",
       "       [1, 1, 0, 1]])"
      ]
     },
     "execution_count": 71,
     "metadata": {},
     "output_type": "execute_result"
    }
   ],
   "source": [
    "import numpy as np\n",
    "#first idea - probably primitive and brute force\n",
    "A =[\n",
    "    [0, 0, 1, 1],\n",
    "    [0, 1, 0, 1],\n",
    "    [1, 1, 0, 1],\n",
    "    [0, 1, 1, 0],\n",
    "    [1, 1, 0, 1]\n",
    "]\n",
    "# this solution was depth first\n",
    "def exc_colorflip(A, x, y):\n",
    "    visited = set()\n",
    "    calls = [0]\n",
    "    def colorflip(A, x, y):\n",
    "        calls[0] += 1\n",
    "        visited.add((x,y))\n",
    "        color = A[x][y]\n",
    "        A[x][y] = int(not A[x][y])\n",
    "        if x != len(A) - 1 and color == A[x+1][y] and (x+1,y) not in visited:\n",
    "            colorflip(A, x+1, y)\n",
    "        if y != len(A[0]) - 1 and color == A[x][y+1] and (x,y+1) not in visited:\n",
    "            colorflip(A, x, y+1)\n",
    "        if x != 0 and color == A[x-1][y] and (x-1,y) not in visited:\n",
    "            colorflip(A, x-1, y)\n",
    "        if y != 0 and color == A[x][y-1] and (x,y-1) not in visited:\n",
    "            colorflip(A, x, y-1)\n",
    "    colorflip(A, x, y)\n",
    "    print(calls[0])\n",
    "    return A\n",
    "\n",
    "np.array(exc_colorflip(A, 0, 3))\n",
    "'''\n",
    "my solution doesnt even need the visited set - because adjacent colors will already be flopped,\n",
    "ill never reach the same color from another set again\n",
    "'''"
   ]
  },
  {
   "cell_type": "code",
   "execution_count": 68,
   "metadata": {},
   "outputs": [
    {
     "data": {
      "text/plain": [
       "array([[1, 1, 1, 1],\n",
       "       [1, 1, 1, 1],\n",
       "       [1, 1, 1, 1],\n",
       "       [0, 1, 1, 1],\n",
       "       [1, 1, 0, 1]])"
      ]
     },
     "execution_count": 68,
     "metadata": {},
     "output_type": "execute_result"
    }
   ],
   "source": [
    "def flip_color(x, y, A):\n",
    "    color = A[x][y]\n",
    "    A[x][y] = 1 - A[x][y]\n",
    "    for d in (0,1), (0, -1), (1, 0), (-1, 0):\n",
    "        next_x, next_y = x + d[0], y + d[1]\n",
    "        if (0 <= next_x < len(A)) and (0 <= next_y < len(A[next_x]) and A[next_x][next_y]==color):\n",
    "            flip_color(next_x, next_y, A)\n",
    "    return A\n",
    "np.array(flip_color(0, 0, A))"
   ]
  },
  {
   "cell_type": "code",
   "execution_count": 72,
   "metadata": {},
   "outputs": [
    {
     "data": {
      "text/plain": [
       "array([[1, 1, 1, 1],\n",
       "       [1, 1, 1, 1],\n",
       "       [1, 1, 1, 1],\n",
       "       [0, 1, 1, 1],\n",
       "       [1, 1, 0, 1]])"
      ]
     },
     "execution_count": 72,
     "metadata": {},
     "output_type": "execute_result"
    }
   ],
   "source": [
    "# BFS method - book\n",
    "'''\n",
    "all he really does here is the same thing, just BFS aka with a queue.\n",
    "flip the current coordinates color\n",
    "add all adajacent coordinates to a queue if they have same color\n",
    "go through the queue, doing the same thing\n",
    "'''\n",
    "import collections\n",
    "def flip_color(x, y, A):\n",
    "    Coordinate = collections.namedtuple('Coordinate', ('x', 'y'))\n",
    "    color = A[x][y]\n",
    "    q = collections.deque([Coordinate(x,y)])\n",
    "    A[x][y] = 1 - A[x][y] #flips\n",
    "    while q:\n",
    "        x, y = q.popleft()\n",
    "        for d in (0, 1), (0, -1), (1, 0), (-1, 0):\n",
    "            next_x , next_y = x + d[0], y + d[1]\n",
    "            if (0 <= next_x < len(A) and 0 <= next_y < len(A[next_x]) and A[next_x][next_y]==color):\n",
    "                A[next_x][next_y] = 1 - A[next_x][next_y]\n",
    "                q.append(Coordinate(next_x, next_y))\n",
    "    return A\n",
    "np.array(flip_color(0, 0, A))"
   ]
  },
  {
   "cell_type": "markdown",
   "metadata": {},
   "source": [
    "## Chapter 19: Parallelism - 19.8"
   ]
  },
  {
   "cell_type": "markdown",
   "metadata": {},
   "source": [
    "(high level) benefits - we got multiple processesors communicating through shared memory, and we got multiple computers communicating through a network\n",
    "- High performance: more processors on a task means finished task earlier \n",
    "- better resource use - program can execute other another waits on something\n",
    "- multitasking - other programs/users can use the machine rather than one program running to completion\n",
    "- convinient - easier to do a task using set of concurrent programs for the subtasks rather than hve a single program manage all subtasks\n",
    "- fault tolerance - if one machine fails to do something, the others can take over"
   ]
  },
  {
   "cell_type": "markdown",
   "metadata": {},
   "source": [
    "- models for parallel computing: \n",
    "    - shared memory model - we talk about this cuz we dont got no clusters breh\n",
    "        - each processor can access any location in memory\n",
    "        - good for just multicore computers.\n",
    "    - distributed memory model\n",
    "        - processor must explicitly send message to anohter processor to access its memory\n",
    "        - good for clusters"
   ]
  },
  {
   "cell_type": "markdown",
   "metadata": {},
   "source": [
    "Concepts:\n",
    "- race conditions: two threads write same thing at differing times - result changes depending on which thread finished first\n",
    "- starvation: process needs a resource but never gets it\n",
    "- deadlock: t1 gets lock1 and t2 gets lock2, but now t1 needs lock2 and t2 need lock1\n",
    "- livelock: processor keeps trying opeepration that always fails\n",
    "\n",
    "- hard to debug these bugs when they occur, because nonreproducible and load dependent and nondeterministic\n",
    "- sometimes a process is sequential and cannot be parallelized\n",
    "- overhead of thread communication b/w processors may outweigh parallelism benefits\n"
   ]
  },
  {
   "cell_type": "code",
   "execution_count": 2,
   "metadata": {},
   "outputs": [],
   "source": [
    "'''\n",
    "semaphore maintains\n",
    "a set of permits. A thread calling acquire() on a semaphore waits, if necessary, until a permit is\n",
    "available, and then takes it. A thread calling release() on a semaphore adds a permit and notifies\n",
    "threads waiting on that semaphore, potentially releasing a blocking acquirer.\n",
    "'''\n",
    "import threading\n",
    "\n",
    "class Semaphore():\n",
    "    def __init__(self , max_available):\n",
    "        self.cv = threading.Condition()\n",
    "        self.MAX_AVAILABLE = max_available\n",
    "        self.taken = 0\n",
    "    def acquire(self):\n",
    "        self.cv.acquire()\n",
    "        while (self.taken == self.MAX_AVAILABLE):\n",
    "            self.cv.wait()\n",
    "            self.taken += 1\n",
    "            self.cv.release()\n",
    "    def release(self):\n",
    "        self.cv.acquire()\n",
    "        self.taken -= 1\n",
    "        self.cv.notify()\n",
    "        self.cv.release()"
   ]
  },
  {
   "cell_type": "markdown",
   "metadata": {},
   "source": [
    "parallelism tips\n",
    "- start with algorithm locking aggressively but seems to be correct. add concurrency in afterwards\n",
    "- assume worst-case thread scheduler when analyzing parallel code. ie, it may schedule same thread repeatedly, alternate between two thread, starve one, etc\n",
    "- work at a higher level of abstration \n",
    "    - dont make our own concurrency libraries - KNOW THE ONE ALREADY THERE\n",
    "        - however you should be able to make these libraries when asked"
   ]
  },
  {
   "cell_type": "code",
   "execution_count": null,
   "metadata": {},
   "outputs": [],
   "source": [
    "#python concurrency:\n",
    "import threading #thread-based parallelism\n",
    "import multiprocessing #process-based parallelism"
   ]
  },
  {
   "cell_type": "markdown",
   "metadata": {},
   "source": [
    "### 16.8: implement a timer class\n",
    "consider a web-based calendar in which the server hosting the calendar has to perform a task when the next calendar event takes place. Design a facilitity managing this task execution\n",
    "\n",
    "develop a timer class managing execution of deferred tasks. timer constructor takes as its argument as object which includes a run method and a string-valued name field. class must support (1) starting a thread ID'd by name at a given time in the future, (2) canceling a thread ID'd by name (ignore cancel request if thread has already started)\n",
    "\n",
    "hint: data structure design + concurrency\n"
   ]
  },
  {
   "cell_type": "code",
   "execution_count": 5,
   "metadata": {},
   "outputs": [],
   "source": [
    "#????????????????????????????????????????????????\n",
    "import heapq\n",
    "\n",
    "class Event:\n",
    "    pass\n",
    "\n",
    "class Calendar:\n",
    "    def __init__(self):\n",
    "        self.events = []\n",
    "        heapq.heapify(self.events)\n",
    "    def add_new_event(self, event):\n",
    "        pass"
   ]
  },
  {
   "cell_type": "markdown",
   "metadata": {},
   "source": [
    "## Chapter 20: Design - 20.16"
   ]
  },
  {
   "cell_type": "code",
   "execution_count": null,
   "metadata": {},
   "outputs": [],
   "source": [
    "#test"
   ]
  }
 ],
 "metadata": {
  "kernelspec": {
   "display_name": "Python 3",
   "language": "python",
   "name": "python3"
  },
  "language_info": {
   "codemirror_mode": {
    "name": "ipython",
    "version": 3
   },
   "file_extension": ".py",
   "mimetype": "text/x-python",
   "name": "python",
   "nbconvert_exporter": "python",
   "pygments_lexer": "ipython3",
   "version": "3.6.5"
  }
 },
 "nbformat": 4,
 "nbformat_minor": 2
}
